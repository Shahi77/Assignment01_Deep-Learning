{
  "nbformat": 4,
  "nbformat_minor": 0,
  "metadata": {
    "colab": {
      "provenance": [],
      "authorship_tag": "ABX9TyOxmFfQJuPP3K/2tNnkH7JE"
    },
    "kernelspec": {
      "name": "python3",
      "display_name": "Python 3"
    },
    "language_info": {
      "name": "python"
    }
  },
  "cells": [
    {
      "cell_type": "code",
      "execution_count": null,
      "metadata": {
        "colab": {
          "base_uri": "https://localhost:8080/"
        },
        "id": "mriSUpxOdteL",
        "outputId": "adc55929-972d-4f11-8af7-90f6e6f3ee7a"
      },
      "outputs": [
        {
          "output_type": "stream",
          "name": "stdout",
          "text": [
            "Requirement already satisfied: wandb in /usr/local/lib/python3.11/dist-packages (0.19.5)\n",
            "Requirement already satisfied: torch in /usr/local/lib/python3.11/dist-packages (2.5.1+cu124)\n",
            "Requirement already satisfied: torchvision in /usr/local/lib/python3.11/dist-packages (0.20.1+cu124)\n",
            "Requirement already satisfied: numpy in /usr/local/lib/python3.11/dist-packages (1.26.4)\n",
            "Requirement already satisfied: matplotlib in /usr/local/lib/python3.11/dist-packages (3.10.0)\n",
            "Requirement already satisfied: tqdm in /usr/local/lib/python3.11/dist-packages (4.67.1)\n",
            "Requirement already satisfied: click!=8.0.0,>=7.1 in /usr/local/lib/python3.11/dist-packages (from wandb) (8.1.8)\n",
            "Requirement already satisfied: docker-pycreds>=0.4.0 in /usr/local/lib/python3.11/dist-packages (from wandb) (0.4.0)\n",
            "Requirement already satisfied: gitpython!=3.1.29,>=1.0.0 in /usr/local/lib/python3.11/dist-packages (from wandb) (3.1.44)\n",
            "Requirement already satisfied: platformdirs in /usr/local/lib/python3.11/dist-packages (from wandb) (4.3.6)\n",
            "Requirement already satisfied: protobuf!=4.21.0,!=5.28.0,<6,>=3.19.0 in /usr/local/lib/python3.11/dist-packages (from wandb) (4.25.6)\n",
            "Requirement already satisfied: psutil>=5.0.0 in /usr/local/lib/python3.11/dist-packages (from wandb) (5.9.5)\n",
            "Requirement already satisfied: pydantic<3,>=2.6 in /usr/local/lib/python3.11/dist-packages (from wandb) (2.10.6)\n",
            "Requirement already satisfied: pyyaml in /usr/local/lib/python3.11/dist-packages (from wandb) (6.0.2)\n",
            "Requirement already satisfied: requests<3,>=2.0.0 in /usr/local/lib/python3.11/dist-packages (from wandb) (2.32.3)\n",
            "Requirement already satisfied: sentry-sdk>=2.0.0 in /usr/local/lib/python3.11/dist-packages (from wandb) (2.20.0)\n",
            "Requirement already satisfied: setproctitle in /usr/local/lib/python3.11/dist-packages (from wandb) (1.3.4)\n",
            "Requirement already satisfied: setuptools in /usr/local/lib/python3.11/dist-packages (from wandb) (75.1.0)\n",
            "Requirement already satisfied: typing-extensions<5,>=4.4 in /usr/local/lib/python3.11/dist-packages (from wandb) (4.12.2)\n",
            "Requirement already satisfied: filelock in /usr/local/lib/python3.11/dist-packages (from torch) (3.17.0)\n",
            "Requirement already satisfied: networkx in /usr/local/lib/python3.11/dist-packages (from torch) (3.4.2)\n",
            "Requirement already satisfied: jinja2 in /usr/local/lib/python3.11/dist-packages (from torch) (3.1.5)\n",
            "Requirement already satisfied: fsspec in /usr/local/lib/python3.11/dist-packages (from torch) (2024.10.0)\n",
            "Collecting nvidia-cuda-nvrtc-cu12==12.4.127 (from torch)\n",
            "  Downloading nvidia_cuda_nvrtc_cu12-12.4.127-py3-none-manylinux2014_x86_64.whl.metadata (1.5 kB)\n",
            "Collecting nvidia-cuda-runtime-cu12==12.4.127 (from torch)\n",
            "  Downloading nvidia_cuda_runtime_cu12-12.4.127-py3-none-manylinux2014_x86_64.whl.metadata (1.5 kB)\n",
            "Collecting nvidia-cuda-cupti-cu12==12.4.127 (from torch)\n",
            "  Downloading nvidia_cuda_cupti_cu12-12.4.127-py3-none-manylinux2014_x86_64.whl.metadata (1.6 kB)\n",
            "Collecting nvidia-cudnn-cu12==9.1.0.70 (from torch)\n",
            "  Downloading nvidia_cudnn_cu12-9.1.0.70-py3-none-manylinux2014_x86_64.whl.metadata (1.6 kB)\n",
            "Collecting nvidia-cublas-cu12==12.4.5.8 (from torch)\n",
            "  Downloading nvidia_cublas_cu12-12.4.5.8-py3-none-manylinux2014_x86_64.whl.metadata (1.5 kB)\n",
            "Collecting nvidia-cufft-cu12==11.2.1.3 (from torch)\n",
            "  Downloading nvidia_cufft_cu12-11.2.1.3-py3-none-manylinux2014_x86_64.whl.metadata (1.5 kB)\n",
            "Collecting nvidia-curand-cu12==10.3.5.147 (from torch)\n",
            "  Downloading nvidia_curand_cu12-10.3.5.147-py3-none-manylinux2014_x86_64.whl.metadata (1.5 kB)\n",
            "Collecting nvidia-cusolver-cu12==11.6.1.9 (from torch)\n",
            "  Downloading nvidia_cusolver_cu12-11.6.1.9-py3-none-manylinux2014_x86_64.whl.metadata (1.6 kB)\n",
            "Collecting nvidia-cusparse-cu12==12.3.1.170 (from torch)\n",
            "  Downloading nvidia_cusparse_cu12-12.3.1.170-py3-none-manylinux2014_x86_64.whl.metadata (1.6 kB)\n",
            "Requirement already satisfied: nvidia-nccl-cu12==2.21.5 in /usr/local/lib/python3.11/dist-packages (from torch) (2.21.5)\n",
            "Requirement already satisfied: nvidia-nvtx-cu12==12.4.127 in /usr/local/lib/python3.11/dist-packages (from torch) (12.4.127)\n",
            "Collecting nvidia-nvjitlink-cu12==12.4.127 (from torch)\n",
            "  Downloading nvidia_nvjitlink_cu12-12.4.127-py3-none-manylinux2014_x86_64.whl.metadata (1.5 kB)\n",
            "Requirement already satisfied: triton==3.1.0 in /usr/local/lib/python3.11/dist-packages (from torch) (3.1.0)\n",
            "Requirement already satisfied: sympy==1.13.1 in /usr/local/lib/python3.11/dist-packages (from torch) (1.13.1)\n",
            "Requirement already satisfied: mpmath<1.4,>=1.1.0 in /usr/local/lib/python3.11/dist-packages (from sympy==1.13.1->torch) (1.3.0)\n",
            "Requirement already satisfied: pillow!=8.3.*,>=5.3.0 in /usr/local/lib/python3.11/dist-packages (from torchvision) (11.1.0)\n",
            "Requirement already satisfied: contourpy>=1.0.1 in /usr/local/lib/python3.11/dist-packages (from matplotlib) (1.3.1)\n",
            "Requirement already satisfied: cycler>=0.10 in /usr/local/lib/python3.11/dist-packages (from matplotlib) (0.12.1)\n",
            "Requirement already satisfied: fonttools>=4.22.0 in /usr/local/lib/python3.11/dist-packages (from matplotlib) (4.55.7)\n",
            "Requirement already satisfied: kiwisolver>=1.3.1 in /usr/local/lib/python3.11/dist-packages (from matplotlib) (1.4.8)\n",
            "Requirement already satisfied: packaging>=20.0 in /usr/local/lib/python3.11/dist-packages (from matplotlib) (24.2)\n",
            "Requirement already satisfied: pyparsing>=2.3.1 in /usr/local/lib/python3.11/dist-packages (from matplotlib) (3.2.1)\n",
            "Requirement already satisfied: python-dateutil>=2.7 in /usr/local/lib/python3.11/dist-packages (from matplotlib) (2.8.2)\n",
            "Requirement already satisfied: six>=1.4.0 in /usr/local/lib/python3.11/dist-packages (from docker-pycreds>=0.4.0->wandb) (1.17.0)\n",
            "Requirement already satisfied: gitdb<5,>=4.0.1 in /usr/local/lib/python3.11/dist-packages (from gitpython!=3.1.29,>=1.0.0->wandb) (4.0.12)\n",
            "Requirement already satisfied: annotated-types>=0.6.0 in /usr/local/lib/python3.11/dist-packages (from pydantic<3,>=2.6->wandb) (0.7.0)\n",
            "Requirement already satisfied: pydantic-core==2.27.2 in /usr/local/lib/python3.11/dist-packages (from pydantic<3,>=2.6->wandb) (2.27.2)\n",
            "Requirement already satisfied: charset-normalizer<4,>=2 in /usr/local/lib/python3.11/dist-packages (from requests<3,>=2.0.0->wandb) (3.4.1)\n",
            "Requirement already satisfied: idna<4,>=2.5 in /usr/local/lib/python3.11/dist-packages (from requests<3,>=2.0.0->wandb) (3.10)\n",
            "Requirement already satisfied: urllib3<3,>=1.21.1 in /usr/local/lib/python3.11/dist-packages (from requests<3,>=2.0.0->wandb) (2.3.0)\n",
            "Requirement already satisfied: certifi>=2017.4.17 in /usr/local/lib/python3.11/dist-packages (from requests<3,>=2.0.0->wandb) (2024.12.14)\n",
            "Requirement already satisfied: MarkupSafe>=2.0 in /usr/local/lib/python3.11/dist-packages (from jinja2->torch) (3.0.2)\n",
            "Requirement already satisfied: smmap<6,>=3.0.1 in /usr/local/lib/python3.11/dist-packages (from gitdb<5,>=4.0.1->gitpython!=3.1.29,>=1.0.0->wandb) (5.0.2)\n",
            "Downloading nvidia_cublas_cu12-12.4.5.8-py3-none-manylinux2014_x86_64.whl (363.4 MB)\n",
            "\u001b[2K   \u001b[90m━━━━━━━━━━━━━━━━━━━━━━━━━━━━━━━━━━━━━━━━\u001b[0m \u001b[32m363.4/363.4 MB\u001b[0m \u001b[31m3.8 MB/s\u001b[0m eta \u001b[36m0:00:00\u001b[0m\n",
            "\u001b[?25hDownloading nvidia_cuda_cupti_cu12-12.4.127-py3-none-manylinux2014_x86_64.whl (13.8 MB)\n",
            "\u001b[2K   \u001b[90m━━━━━━━━━━━━━━━━━━━━━━━━━━━━━━━━━━━━━━━━\u001b[0m \u001b[32m13.8/13.8 MB\u001b[0m \u001b[31m51.6 MB/s\u001b[0m eta \u001b[36m0:00:00\u001b[0m\n",
            "\u001b[?25hDownloading nvidia_cuda_nvrtc_cu12-12.4.127-py3-none-manylinux2014_x86_64.whl (24.6 MB)\n",
            "\u001b[2K   \u001b[90m━━━━━━━━━━━━━━━━━━━━━━━━━━━━━━━━━━━━━━━━\u001b[0m \u001b[32m24.6/24.6 MB\u001b[0m \u001b[31m23.7 MB/s\u001b[0m eta \u001b[36m0:00:00\u001b[0m\n",
            "\u001b[?25hDownloading nvidia_cuda_runtime_cu12-12.4.127-py3-none-manylinux2014_x86_64.whl (883 kB)\n",
            "\u001b[2K   \u001b[90m━━━━━━━━━━━━━━━━━━━━━━━━━━━━━━━━━━━━━━━━\u001b[0m \u001b[32m883.7/883.7 kB\u001b[0m \u001b[31m31.1 MB/s\u001b[0m eta \u001b[36m0:00:00\u001b[0m\n",
            "\u001b[?25hDownloading nvidia_cudnn_cu12-9.1.0.70-py3-none-manylinux2014_x86_64.whl (664.8 MB)\n",
            "\u001b[2K   \u001b[90m━━━━━━━━━━━━━━━━━━━━━━━━━━━━━━━━━━━━━━━━\u001b[0m \u001b[32m664.8/664.8 MB\u001b[0m \u001b[31m2.7 MB/s\u001b[0m eta \u001b[36m0:00:00\u001b[0m\n",
            "\u001b[?25hDownloading nvidia_cufft_cu12-11.2.1.3-py3-none-manylinux2014_x86_64.whl (211.5 MB)\n",
            "\u001b[2K   \u001b[90m━━━━━━━━━━━━━━━━━━━━━━━━━━━━━━━━━━━━━━━━\u001b[0m \u001b[32m211.5/211.5 MB\u001b[0m \u001b[31m4.4 MB/s\u001b[0m eta \u001b[36m0:00:00\u001b[0m\n",
            "\u001b[?25hDownloading nvidia_curand_cu12-10.3.5.147-py3-none-manylinux2014_x86_64.whl (56.3 MB)\n",
            "\u001b[2K   \u001b[90m━━━━━━━━━━━━━━━━━━━━━━━━━━━━━━━━━━━━━━━━\u001b[0m \u001b[32m56.3/56.3 MB\u001b[0m \u001b[31m10.7 MB/s\u001b[0m eta \u001b[36m0:00:00\u001b[0m\n",
            "\u001b[?25hDownloading nvidia_cusolver_cu12-11.6.1.9-py3-none-manylinux2014_x86_64.whl (127.9 MB)\n",
            "\u001b[2K   \u001b[90m━━━━━━━━━━━━━━━━━━━━━━━━━━━━━━━━━━━━━━━━\u001b[0m \u001b[32m127.9/127.9 MB\u001b[0m \u001b[31m6.9 MB/s\u001b[0m eta \u001b[36m0:00:00\u001b[0m\n",
            "\u001b[?25hDownloading nvidia_cusparse_cu12-12.3.1.170-py3-none-manylinux2014_x86_64.whl (207.5 MB)\n",
            "\u001b[2K   \u001b[90m━━━━━━━━━━━━━━━━━━━━━━━━━━━━━━━━━━━━━━━━\u001b[0m \u001b[32m207.5/207.5 MB\u001b[0m \u001b[31m5.3 MB/s\u001b[0m eta \u001b[36m0:00:00\u001b[0m\n",
            "\u001b[?25hDownloading nvidia_nvjitlink_cu12-12.4.127-py3-none-manylinux2014_x86_64.whl (21.1 MB)\n",
            "\u001b[2K   \u001b[90m━━━━━━━━━━━━━━━━━━━━━━━━━━━━━━━━━━━━━━━━\u001b[0m \u001b[32m21.1/21.1 MB\u001b[0m \u001b[31m46.3 MB/s\u001b[0m eta \u001b[36m0:00:00\u001b[0m\n",
            "\u001b[?25hInstalling collected packages: nvidia-nvjitlink-cu12, nvidia-curand-cu12, nvidia-cufft-cu12, nvidia-cuda-runtime-cu12, nvidia-cuda-nvrtc-cu12, nvidia-cuda-cupti-cu12, nvidia-cublas-cu12, nvidia-cusparse-cu12, nvidia-cudnn-cu12, nvidia-cusolver-cu12\n",
            "  Attempting uninstall: nvidia-nvjitlink-cu12\n",
            "    Found existing installation: nvidia-nvjitlink-cu12 12.5.82\n",
            "    Uninstalling nvidia-nvjitlink-cu12-12.5.82:\n",
            "      Successfully uninstalled nvidia-nvjitlink-cu12-12.5.82\n",
            "  Attempting uninstall: nvidia-curand-cu12\n",
            "    Found existing installation: nvidia-curand-cu12 10.3.6.82\n",
            "    Uninstalling nvidia-curand-cu12-10.3.6.82:\n",
            "      Successfully uninstalled nvidia-curand-cu12-10.3.6.82\n",
            "  Attempting uninstall: nvidia-cufft-cu12\n",
            "    Found existing installation: nvidia-cufft-cu12 11.2.3.61\n",
            "    Uninstalling nvidia-cufft-cu12-11.2.3.61:\n",
            "      Successfully uninstalled nvidia-cufft-cu12-11.2.3.61\n",
            "  Attempting uninstall: nvidia-cuda-runtime-cu12\n",
            "    Found existing installation: nvidia-cuda-runtime-cu12 12.5.82\n",
            "    Uninstalling nvidia-cuda-runtime-cu12-12.5.82:\n",
            "      Successfully uninstalled nvidia-cuda-runtime-cu12-12.5.82\n",
            "  Attempting uninstall: nvidia-cuda-nvrtc-cu12\n",
            "    Found existing installation: nvidia-cuda-nvrtc-cu12 12.5.82\n",
            "    Uninstalling nvidia-cuda-nvrtc-cu12-12.5.82:\n",
            "      Successfully uninstalled nvidia-cuda-nvrtc-cu12-12.5.82\n",
            "  Attempting uninstall: nvidia-cuda-cupti-cu12\n",
            "    Found existing installation: nvidia-cuda-cupti-cu12 12.5.82\n",
            "    Uninstalling nvidia-cuda-cupti-cu12-12.5.82:\n",
            "      Successfully uninstalled nvidia-cuda-cupti-cu12-12.5.82\n",
            "  Attempting uninstall: nvidia-cublas-cu12\n",
            "    Found existing installation: nvidia-cublas-cu12 12.5.3.2\n",
            "    Uninstalling nvidia-cublas-cu12-12.5.3.2:\n",
            "      Successfully uninstalled nvidia-cublas-cu12-12.5.3.2\n",
            "  Attempting uninstall: nvidia-cusparse-cu12\n",
            "    Found existing installation: nvidia-cusparse-cu12 12.5.1.3\n",
            "    Uninstalling nvidia-cusparse-cu12-12.5.1.3:\n",
            "      Successfully uninstalled nvidia-cusparse-cu12-12.5.1.3\n",
            "  Attempting uninstall: nvidia-cudnn-cu12\n",
            "    Found existing installation: nvidia-cudnn-cu12 9.3.0.75\n",
            "    Uninstalling nvidia-cudnn-cu12-9.3.0.75:\n",
            "      Successfully uninstalled nvidia-cudnn-cu12-9.3.0.75\n",
            "  Attempting uninstall: nvidia-cusolver-cu12\n",
            "    Found existing installation: nvidia-cusolver-cu12 11.6.3.83\n",
            "    Uninstalling nvidia-cusolver-cu12-11.6.3.83:\n",
            "      Successfully uninstalled nvidia-cusolver-cu12-11.6.3.83\n",
            "Successfully installed nvidia-cublas-cu12-12.4.5.8 nvidia-cuda-cupti-cu12-12.4.127 nvidia-cuda-nvrtc-cu12-12.4.127 nvidia-cuda-runtime-cu12-12.4.127 nvidia-cudnn-cu12-9.1.0.70 nvidia-cufft-cu12-11.2.1.3 nvidia-curand-cu12-10.3.5.147 nvidia-cusolver-cu12-11.6.1.9 nvidia-cusparse-cu12-12.3.1.170 nvidia-nvjitlink-cu12-12.4.127\n"
          ]
        }
      ],
      "source": [
        "pip install wandb torch torchvision numpy matplotlib tqdm\n"
      ]
    },
    {
      "cell_type": "code",
      "source": [
        "import wandb\n",
        "wandb.login()\n",
        "\n"
      ],
      "metadata": {
        "colab": {
          "base_uri": "https://localhost:8080/",
          "height": 173
        },
        "id": "w0Ki2MZ8eabx",
        "outputId": "671ce7d8-3dda-42a1-c3b2-c6cec97d2677"
      },
      "execution_count": null,
      "outputs": [
        {
          "output_type": "display_data",
          "data": {
            "text/plain": [
              "<IPython.core.display.Javascript object>"
            ],
            "application/javascript": [
              "\n",
              "        window._wandbApiKey = new Promise((resolve, reject) => {\n",
              "            function loadScript(url) {\n",
              "            return new Promise(function(resolve, reject) {\n",
              "                let newScript = document.createElement(\"script\");\n",
              "                newScript.onerror = reject;\n",
              "                newScript.onload = resolve;\n",
              "                document.body.appendChild(newScript);\n",
              "                newScript.src = url;\n",
              "            });\n",
              "            }\n",
              "            loadScript(\"https://cdn.jsdelivr.net/npm/postmate/build/postmate.min.js\").then(() => {\n",
              "            const iframe = document.createElement('iframe')\n",
              "            iframe.style.cssText = \"width:0;height:0;border:none\"\n",
              "            document.body.appendChild(iframe)\n",
              "            const handshake = new Postmate({\n",
              "                container: iframe,\n",
              "                url: 'https://wandb.ai/authorize'\n",
              "            });\n",
              "            const timeout = setTimeout(() => reject(\"Couldn't auto authenticate\"), 5000)\n",
              "            handshake.then(function(child) {\n",
              "                child.on('authorize', data => {\n",
              "                    clearTimeout(timeout)\n",
              "                    resolve(data)\n",
              "                });\n",
              "            });\n",
              "            })\n",
              "        });\n",
              "    "
            ]
          },
          "metadata": {}
        },
        {
          "output_type": "stream",
          "name": "stderr",
          "text": [
            "\u001b[34m\u001b[1mwandb\u001b[0m: Logging into wandb.ai. (Learn how to deploy a W&B server locally: https://wandb.me/wandb-server)\n",
            "\u001b[34m\u001b[1mwandb\u001b[0m: You can find your API key in your browser here: https://wandb.ai/authorize\n",
            "wandb: Paste an API key from your profile and hit enter, or press ctrl+c to quit:"
          ]
        },
        {
          "name": "stdout",
          "output_type": "stream",
          "text": [
            " ··········\n"
          ]
        },
        {
          "output_type": "stream",
          "name": "stderr",
          "text": [
            "\u001b[34m\u001b[1mwandb\u001b[0m: \u001b[33mWARNING\u001b[0m If you're specifying your api key in code, ensure this code is not shared publicly.\n",
            "\u001b[34m\u001b[1mwandb\u001b[0m: \u001b[33mWARNING\u001b[0m Consider setting the WANDB_API_KEY environment variable, or running `wandb login` from the command line.\n",
            "\u001b[34m\u001b[1mwandb\u001b[0m: Appending key for api.wandb.ai to your netrc file: /root/.netrc\n",
            "\u001b[34m\u001b[1mwandb\u001b[0m: Currently logged in as: \u001b[33mshahi77\u001b[0m (\u001b[33mshahi77-national-institute-of-technology-hamirpur\u001b[0m) to \u001b[32mhttps://api.wandb.ai\u001b[0m. Use \u001b[1m`wandb login --relogin`\u001b[0m to force relogin\n"
          ]
        },
        {
          "output_type": "execute_result",
          "data": {
            "text/plain": [
              "True"
            ]
          },
          "metadata": {},
          "execution_count": 3
        }
      ]
    },
    {
      "cell_type": "code",
      "source": [
        "import wandb\n",
        "\n",
        "# Initialize a new WandB run\n",
        "wandb.init(project=\"Assignment03(CS-661)-experiments\")\n"
      ],
      "metadata": {
        "colab": {
          "base_uri": "https://localhost:8080/",
          "height": 541
        },
        "id": "7lrzbhS4iIla",
        "outputId": "01341adb-f9ad-495a-dd84-e4e60e2a9d8b"
      },
      "execution_count": null,
      "outputs": [
        {
          "output_type": "stream",
          "name": "stderr",
          "text": [
            "\u001b[34m\u001b[1mwandb\u001b[0m: Using wandb-core as the SDK backend.  Please refer to https://wandb.me/wandb-core for more information.\n"
          ]
        },
        {
          "output_type": "display_data",
          "data": {
            "text/plain": [
              "<IPython.core.display.HTML object>"
            ],
            "text/html": [
              "Tracking run with wandb version 0.19.5"
            ]
          },
          "metadata": {}
        },
        {
          "output_type": "display_data",
          "data": {
            "text/plain": [
              "<IPython.core.display.HTML object>"
            ],
            "text/html": [
              "Run data is saved locally in <code>/content/wandb/run-20250206_135312-helrqy04</code>"
            ]
          },
          "metadata": {}
        },
        {
          "output_type": "display_data",
          "data": {
            "text/plain": [
              "<IPython.core.display.HTML object>"
            ],
            "text/html": [
              "Syncing run <strong><a href='https://wandb.ai/shahi77-national-institute-of-technology-hamirpur/Assignment03%28CS-661%29-experiments/runs/helrqy04' target=\"_blank\">easy-sponge-1</a></strong> to <a href='https://wandb.ai/shahi77-national-institute-of-technology-hamirpur/Assignment03%28CS-661%29-experiments' target=\"_blank\">Weights & Biases</a> (<a href='https://wandb.me/developer-guide' target=\"_blank\">docs</a>)<br>"
            ]
          },
          "metadata": {}
        },
        {
          "output_type": "display_data",
          "data": {
            "text/plain": [
              "<IPython.core.display.HTML object>"
            ],
            "text/html": [
              " View project at <a href='https://wandb.ai/shahi77-national-institute-of-technology-hamirpur/Assignment03%28CS-661%29-experiments' target=\"_blank\">https://wandb.ai/shahi77-national-institute-of-technology-hamirpur/Assignment03%28CS-661%29-experiments</a>"
            ]
          },
          "metadata": {}
        },
        {
          "output_type": "display_data",
          "data": {
            "text/plain": [
              "<IPython.core.display.HTML object>"
            ],
            "text/html": [
              " View run at <a href='https://wandb.ai/shahi77-national-institute-of-technology-hamirpur/Assignment03%28CS-661%29-experiments/runs/helrqy04' target=\"_blank\">https://wandb.ai/shahi77-national-institute-of-technology-hamirpur/Assignment03%28CS-661%29-experiments/runs/helrqy04</a>"
            ]
          },
          "metadata": {}
        },
        {
          "output_type": "execute_result",
          "data": {
            "text/html": [
              "<button onClick=\"this.nextSibling.style.display='block';this.style.display='none';\">Display W&B run</button><iframe src='https://wandb.ai/shahi77-national-institute-of-technology-hamirpur/Assignment03%28CS-661%29-experiments/runs/helrqy04?jupyter=true' style='border:none;width:100%;height:420px;display:none;'></iframe>"
            ],
            "text/plain": [
              "<wandb.sdk.wandb_run.Run at 0x7a526ee95d90>"
            ]
          },
          "metadata": {},
          "execution_count": 4
        }
      ]
    },
    {
      "cell_type": "code",
      "source": [
        "import torch\n",
        "import torch.nn as nn\n",
        "import torch.optim as optim\n",
        "import torchvision\n",
        "import torchvision.transforms as transforms\n",
        "from torch.utils.data import DataLoader\n",
        "\n",
        "# Define transformations for dataset\n",
        "transform = transforms.Compose([transforms.ToTensor(), transforms.Normalize((0.5,), (0.5,))])\n",
        "\n",
        "# Load dataset\n",
        "train_dataset = torchvision.datasets.MNIST(root=\"./data\", train=True, transform=transform, download=True)\n",
        "test_dataset = torchvision.datasets.MNIST(root=\"./data\", train=False, transform=transform, download=True)\n",
        "\n",
        "# Create data loaders\n",
        "train_loader = DataLoader(train_dataset, batch_size=32, shuffle=True)\n",
        "test_loader = DataLoader(test_dataset, batch_size=32, shuffle=False)\n"
      ],
      "metadata": {
        "colab": {
          "base_uri": "https://localhost:8080/"
        },
        "id": "wyBaTRDAiU8g",
        "outputId": "8d70fe59-1542-4c50-bdbd-c3a2346856bf"
      },
      "execution_count": null,
      "outputs": [
        {
          "output_type": "stream",
          "name": "stdout",
          "text": [
            "Downloading http://yann.lecun.com/exdb/mnist/train-images-idx3-ubyte.gz\n",
            "Failed to download (trying next):\n",
            "HTTP Error 404: Not Found\n",
            "\n",
            "Downloading https://ossci-datasets.s3.amazonaws.com/mnist/train-images-idx3-ubyte.gz\n",
            "Downloading https://ossci-datasets.s3.amazonaws.com/mnist/train-images-idx3-ubyte.gz to ./data/MNIST/raw/train-images-idx3-ubyte.gz\n"
          ]
        },
        {
          "output_type": "stream",
          "name": "stderr",
          "text": [
            "100%|██████████| 9.91M/9.91M [00:00<00:00, 15.7MB/s]\n"
          ]
        },
        {
          "output_type": "stream",
          "name": "stdout",
          "text": [
            "Extracting ./data/MNIST/raw/train-images-idx3-ubyte.gz to ./data/MNIST/raw\n",
            "\n",
            "Downloading http://yann.lecun.com/exdb/mnist/train-labels-idx1-ubyte.gz\n",
            "Failed to download (trying next):\n",
            "HTTP Error 404: Not Found\n",
            "\n",
            "Downloading https://ossci-datasets.s3.amazonaws.com/mnist/train-labels-idx1-ubyte.gz\n",
            "Downloading https://ossci-datasets.s3.amazonaws.com/mnist/train-labels-idx1-ubyte.gz to ./data/MNIST/raw/train-labels-idx1-ubyte.gz\n"
          ]
        },
        {
          "output_type": "stream",
          "name": "stderr",
          "text": [
            "100%|██████████| 28.9k/28.9k [00:00<00:00, 482kB/s]\n"
          ]
        },
        {
          "output_type": "stream",
          "name": "stdout",
          "text": [
            "Extracting ./data/MNIST/raw/train-labels-idx1-ubyte.gz to ./data/MNIST/raw\n",
            "\n",
            "Downloading http://yann.lecun.com/exdb/mnist/t10k-images-idx3-ubyte.gz\n",
            "Failed to download (trying next):\n",
            "HTTP Error 404: Not Found\n",
            "\n",
            "Downloading https://ossci-datasets.s3.amazonaws.com/mnist/t10k-images-idx3-ubyte.gz\n",
            "Downloading https://ossci-datasets.s3.amazonaws.com/mnist/t10k-images-idx3-ubyte.gz to ./data/MNIST/raw/t10k-images-idx3-ubyte.gz\n"
          ]
        },
        {
          "output_type": "stream",
          "name": "stderr",
          "text": [
            "100%|██████████| 1.65M/1.65M [00:00<00:00, 3.78MB/s]\n"
          ]
        },
        {
          "output_type": "stream",
          "name": "stdout",
          "text": [
            "Extracting ./data/MNIST/raw/t10k-images-idx3-ubyte.gz to ./data/MNIST/raw\n",
            "\n",
            "Downloading http://yann.lecun.com/exdb/mnist/t10k-labels-idx1-ubyte.gz\n",
            "Failed to download (trying next):\n",
            "HTTP Error 404: Not Found\n",
            "\n",
            "Downloading https://ossci-datasets.s3.amazonaws.com/mnist/t10k-labels-idx1-ubyte.gz\n",
            "Downloading https://ossci-datasets.s3.amazonaws.com/mnist/t10k-labels-idx1-ubyte.gz to ./data/MNIST/raw/t10k-labels-idx1-ubyte.gz\n"
          ]
        },
        {
          "output_type": "stream",
          "name": "stderr",
          "text": [
            "100%|██████████| 4.54k/4.54k [00:00<00:00, 2.65MB/s]\n"
          ]
        },
        {
          "output_type": "stream",
          "name": "stdout",
          "text": [
            "Extracting ./data/MNIST/raw/t10k-labels-idx1-ubyte.gz to ./data/MNIST/raw\n",
            "\n"
          ]
        }
      ]
    },
    {
      "cell_type": "code",
      "source": [
        "class NeuralNetwork(nn.Module):\n",
        "    def __init__(self, input_size, hidden_layers, output_size, activation_fn):\n",
        "        super(NeuralNetwork, self).__init__()\n",
        "        layers = []\n",
        "        prev_size = input_size\n",
        "\n",
        "        for size in hidden_layers:\n",
        "            layers.append(nn.Linear(prev_size, size))\n",
        "            layers.append(activation_fn())  # Example: ReLU, Sigmoid, etc.\n",
        "            prev_size = size\n",
        "\n",
        "        layers.append(nn.Linear(prev_size, output_size))  # Output layer\n",
        "        self.model = nn.Sequential(*layers)\n",
        "\n",
        "    def forward(self, x):\n",
        "        return self.model(x.view(x.size(0), -1))  # Flatten input\n"
      ],
      "metadata": {
        "id": "oeh9OmNCinIT"
      },
      "execution_count": null,
      "outputs": []
    },
    {
      "cell_type": "code",
      "source": [
        "def train(model, train_loader, optimizer, loss_fn, epochs=10):\n",
        "    model.train()\n",
        "    for epoch in range(epochs):\n",
        "        total_loss = 0\n",
        "        correct = 0\n",
        "        total = 0\n",
        "\n",
        "        for images, labels in train_loader:\n",
        "            optimizer.zero_grad()\n",
        "            outputs = model(images)\n",
        "            loss = loss_fn(outputs, labels)\n",
        "            loss.backward()\n",
        "            optimizer.step()\n",
        "\n",
        "            total_loss += loss.item()\n",
        "            _, predicted = torch.max(outputs, 1)\n",
        "            correct += (predicted == labels).sum().item()\n",
        "            total += labels.size(0)\n",
        "\n",
        "        accuracy = correct / total\n",
        "\n",
        "        # Log metrics in WandB\n",
        "        wandb.log({\"Epoch\": epoch + 1, \"Loss\": total_loss / len(train_loader), \"Accuracy\": accuracy})\n",
        "\n",
        "        print(f\"Epoch [{epoch+1}/{epochs}], Loss: {total_loss:.4f}, Accuracy: {accuracy:.4f}\")\n",
        "\n"
      ],
      "metadata": {
        "id": "ZVdxnedRiuWX"
      },
      "execution_count": null,
      "outputs": []
    },
    {
      "cell_type": "code",
      "source": [
        "# Define model, loss function, and optimizer\n",
        "model = NeuralNetwork(input_size=784, hidden_layers=[128, 64], output_size=10, activation_fn=nn.ReLU)\n",
        "loss_fn = nn.CrossEntropyLoss()\n",
        "\n",
        "optimizers = {\n",
        "    \"SGD\": optim.SGD(model.parameters(), lr=0.01),\n",
        "    \"Momentum\": optim.SGD(model.parameters(), lr=0.01, momentum=0.9),\n",
        "    \"Adam\": optim.Adam(model.parameters(), lr=0.001),\n",
        "    \"RMSProp\": optim.RMSprop(model.parameters(), lr=0.001)\n",
        "}\n",
        "\n",
        "# Run experiments with different optimizers\n",
        "for opt_name, opt in optimizers.items():\n",
        "    print(f\"\\nTraining with {opt_name}\")\n",
        "    wandb.init(project=\"deep-learning-experiments\", name=f\"optimizer-{opt_name}\")\n",
        "    train(model, train_loader, opt, loss_fn, epochs=5)\n",
        "    wandb.finish()  # Finish logging this run\n"
      ],
      "metadata": {
        "colab": {
          "base_uri": "https://localhost:8080/",
          "height": 1000
        },
        "id": "yXfACwEIiwnk",
        "outputId": "52858475-1c01-449e-bd55-a882ba8a5177"
      },
      "execution_count": null,
      "outputs": [
        {
          "output_type": "stream",
          "name": "stdout",
          "text": [
            "\n",
            "Training with SGD\n",
            "Epoch [1/5], Loss: 1346.0727, Accuracy: 0.7964\n",
            "Epoch [2/5], Loss: 584.4407, Accuracy: 0.9085\n",
            "Epoch [3/5], Loss: 479.1311, Accuracy: 0.9242\n",
            "Epoch [4/5], Loss: 401.1213, Accuracy: 0.9363\n",
            "Epoch [5/5], Loss: 341.9966, Accuracy: 0.9468\n"
          ]
        },
        {
          "output_type": "display_data",
          "data": {
            "text/plain": [
              "<IPython.core.display.HTML object>"
            ],
            "text/html": []
          },
          "metadata": {}
        },
        {
          "output_type": "display_data",
          "data": {
            "text/plain": [
              "<IPython.core.display.HTML object>"
            ],
            "text/html": [
              "<br>    <style><br>        .wandb-row {<br>            display: flex;<br>            flex-direction: row;<br>            flex-wrap: wrap;<br>            justify-content: flex-start;<br>            width: 100%;<br>        }<br>        .wandb-col {<br>            display: flex;<br>            flex-direction: column;<br>            flex-basis: 100%;<br>            flex: 1;<br>            padding: 10px;<br>        }<br>    </style><br><div class=\"wandb-row\"><div class=\"wandb-col\"><h3>Run history:</h3><br/><table class=\"wandb\"><tr><td>Accuracy</td><td>▁▆▇██</td></tr><tr><td>Epoch</td><td>▁▃▅▆█</td></tr><tr><td>Loss</td><td>█▃▂▁▁</td></tr></table><br/></div><div class=\"wandb-col\"><h3>Run summary:</h3><br/><table class=\"wandb\"><tr><td>Accuracy</td><td>0.9468</td></tr><tr><td>Epoch</td><td>5</td></tr><tr><td>Loss</td><td>0.1824</td></tr></table><br/></div></div>"
            ]
          },
          "metadata": {}
        },
        {
          "output_type": "display_data",
          "data": {
            "text/plain": [
              "<IPython.core.display.HTML object>"
            ],
            "text/html": [
              " View run <strong style=\"color:#cdcd00\">easy-sponge-1</strong> at: <a href='https://wandb.ai/shahi77-national-institute-of-technology-hamirpur/Assignment03%28CS-661%29-experiments/runs/helrqy04' target=\"_blank\">https://wandb.ai/shahi77-national-institute-of-technology-hamirpur/Assignment03%28CS-661%29-experiments/runs/helrqy04</a><br> View project at: <a href='https://wandb.ai/shahi77-national-institute-of-technology-hamirpur/Assignment03%28CS-661%29-experiments' target=\"_blank\">https://wandb.ai/shahi77-national-institute-of-technology-hamirpur/Assignment03%28CS-661%29-experiments</a><br>Synced 5 W&B file(s), 0 media file(s), 0 artifact file(s) and 0 other file(s)"
            ]
          },
          "metadata": {}
        },
        {
          "output_type": "display_data",
          "data": {
            "text/plain": [
              "<IPython.core.display.HTML object>"
            ],
            "text/html": [
              "Find logs at: <code>./wandb/run-20250206_135312-helrqy04/logs</code>"
            ]
          },
          "metadata": {}
        },
        {
          "output_type": "stream",
          "name": "stdout",
          "text": [
            "\n",
            "Training with Momentum\n"
          ]
        },
        {
          "output_type": "display_data",
          "data": {
            "text/plain": [
              "<IPython.core.display.HTML object>"
            ],
            "text/html": [
              "Tracking run with wandb version 0.19.5"
            ]
          },
          "metadata": {}
        },
        {
          "output_type": "display_data",
          "data": {
            "text/plain": [
              "<IPython.core.display.HTML object>"
            ],
            "text/html": [
              "Run data is saved locally in <code>/content/wandb/run-20250206_135703-esway56a</code>"
            ]
          },
          "metadata": {}
        },
        {
          "output_type": "display_data",
          "data": {
            "text/plain": [
              "<IPython.core.display.HTML object>"
            ],
            "text/html": [
              "Syncing run <strong><a href='https://wandb.ai/shahi77-national-institute-of-technology-hamirpur/deep-learning-experiments/runs/esway56a' target=\"_blank\">optimizer-Momentum</a></strong> to <a href='https://wandb.ai/shahi77-national-institute-of-technology-hamirpur/deep-learning-experiments' target=\"_blank\">Weights & Biases</a> (<a href='https://wandb.me/developer-guide' target=\"_blank\">docs</a>)<br>"
            ]
          },
          "metadata": {}
        },
        {
          "output_type": "display_data",
          "data": {
            "text/plain": [
              "<IPython.core.display.HTML object>"
            ],
            "text/html": [
              " View project at <a href='https://wandb.ai/shahi77-national-institute-of-technology-hamirpur/deep-learning-experiments' target=\"_blank\">https://wandb.ai/shahi77-national-institute-of-technology-hamirpur/deep-learning-experiments</a>"
            ]
          },
          "metadata": {}
        },
        {
          "output_type": "display_data",
          "data": {
            "text/plain": [
              "<IPython.core.display.HTML object>"
            ],
            "text/html": [
              " View run at <a href='https://wandb.ai/shahi77-national-institute-of-technology-hamirpur/deep-learning-experiments/runs/esway56a' target=\"_blank\">https://wandb.ai/shahi77-national-institute-of-technology-hamirpur/deep-learning-experiments/runs/esway56a</a>"
            ]
          },
          "metadata": {}
        },
        {
          "output_type": "stream",
          "name": "stdout",
          "text": [
            "Epoch [1/5], Loss: 404.6737, Accuracy: 0.9340\n",
            "Epoch [2/5], Loss: 259.0298, Accuracy: 0.9564\n",
            "Epoch [3/5], Loss: 201.9358, Accuracy: 0.9664\n",
            "Epoch [4/5], Loss: 172.2437, Accuracy: 0.9707\n",
            "Epoch [5/5], Loss: 149.9189, Accuracy: 0.9751\n"
          ]
        },
        {
          "output_type": "display_data",
          "data": {
            "text/plain": [
              "<IPython.core.display.HTML object>"
            ],
            "text/html": []
          },
          "metadata": {}
        },
        {
          "output_type": "display_data",
          "data": {
            "text/plain": [
              "<IPython.core.display.HTML object>"
            ],
            "text/html": [
              "<br>    <style><br>        .wandb-row {<br>            display: flex;<br>            flex-direction: row;<br>            flex-wrap: wrap;<br>            justify-content: flex-start;<br>            width: 100%;<br>        }<br>        .wandb-col {<br>            display: flex;<br>            flex-direction: column;<br>            flex-basis: 100%;<br>            flex: 1;<br>            padding: 10px;<br>        }<br>    </style><br><div class=\"wandb-row\"><div class=\"wandb-col\"><h3>Run history:</h3><br/><table class=\"wandb\"><tr><td>Accuracy</td><td>▁▅▇▇█</td></tr><tr><td>Epoch</td><td>▁▃▅▆█</td></tr><tr><td>Loss</td><td>█▄▂▂▁</td></tr></table><br/></div><div class=\"wandb-col\"><h3>Run summary:</h3><br/><table class=\"wandb\"><tr><td>Accuracy</td><td>0.97507</td></tr><tr><td>Epoch</td><td>5</td></tr><tr><td>Loss</td><td>0.07996</td></tr></table><br/></div></div>"
            ]
          },
          "metadata": {}
        },
        {
          "output_type": "display_data",
          "data": {
            "text/plain": [
              "<IPython.core.display.HTML object>"
            ],
            "text/html": [
              " View run <strong style=\"color:#cdcd00\">optimizer-Momentum</strong> at: <a href='https://wandb.ai/shahi77-national-institute-of-technology-hamirpur/deep-learning-experiments/runs/esway56a' target=\"_blank\">https://wandb.ai/shahi77-national-institute-of-technology-hamirpur/deep-learning-experiments/runs/esway56a</a><br> View project at: <a href='https://wandb.ai/shahi77-national-institute-of-technology-hamirpur/deep-learning-experiments' target=\"_blank\">https://wandb.ai/shahi77-national-institute-of-technology-hamirpur/deep-learning-experiments</a><br>Synced 5 W&B file(s), 0 media file(s), 0 artifact file(s) and 0 other file(s)"
            ]
          },
          "metadata": {}
        },
        {
          "output_type": "display_data",
          "data": {
            "text/plain": [
              "<IPython.core.display.HTML object>"
            ],
            "text/html": [
              "Find logs at: <code>./wandb/run-20250206_135703-esway56a/logs</code>"
            ]
          },
          "metadata": {}
        },
        {
          "output_type": "stream",
          "name": "stdout",
          "text": [
            "\n",
            "Training with Adam\n"
          ]
        },
        {
          "output_type": "display_data",
          "data": {
            "text/plain": [
              "<IPython.core.display.HTML object>"
            ],
            "text/html": [
              "Tracking run with wandb version 0.19.5"
            ]
          },
          "metadata": {}
        },
        {
          "output_type": "display_data",
          "data": {
            "text/plain": [
              "<IPython.core.display.HTML object>"
            ],
            "text/html": [
              "Run data is saved locally in <code>/content/wandb/run-20250206_135844-2yhjbhxx</code>"
            ]
          },
          "metadata": {}
        },
        {
          "output_type": "display_data",
          "data": {
            "text/plain": [
              "<IPython.core.display.HTML object>"
            ],
            "text/html": [
              "Syncing run <strong><a href='https://wandb.ai/shahi77-national-institute-of-technology-hamirpur/deep-learning-experiments/runs/2yhjbhxx' target=\"_blank\">optimizer-Adam</a></strong> to <a href='https://wandb.ai/shahi77-national-institute-of-technology-hamirpur/deep-learning-experiments' target=\"_blank\">Weights & Biases</a> (<a href='https://wandb.me/developer-guide' target=\"_blank\">docs</a>)<br>"
            ]
          },
          "metadata": {}
        },
        {
          "output_type": "display_data",
          "data": {
            "text/plain": [
              "<IPython.core.display.HTML object>"
            ],
            "text/html": [
              " View project at <a href='https://wandb.ai/shahi77-national-institute-of-technology-hamirpur/deep-learning-experiments' target=\"_blank\">https://wandb.ai/shahi77-national-institute-of-technology-hamirpur/deep-learning-experiments</a>"
            ]
          },
          "metadata": {}
        },
        {
          "output_type": "display_data",
          "data": {
            "text/plain": [
              "<IPython.core.display.HTML object>"
            ],
            "text/html": [
              " View run at <a href='https://wandb.ai/shahi77-national-institute-of-technology-hamirpur/deep-learning-experiments/runs/2yhjbhxx' target=\"_blank\">https://wandb.ai/shahi77-national-institute-of-technology-hamirpur/deep-learning-experiments/runs/2yhjbhxx</a>"
            ]
          },
          "metadata": {}
        },
        {
          "output_type": "stream",
          "name": "stdout",
          "text": [
            "Epoch [1/5], Loss: 181.2112, Accuracy: 0.9695\n",
            "Epoch [2/5], Loss: 157.7847, Accuracy: 0.9727\n",
            "Epoch [3/5], Loss: 143.5668, Accuracy: 0.9755\n",
            "Epoch [4/5], Loss: 127.2855, Accuracy: 0.9776\n",
            "Epoch [5/5], Loss: 115.9070, Accuracy: 0.9795\n"
          ]
        },
        {
          "output_type": "display_data",
          "data": {
            "text/plain": [
              "<IPython.core.display.HTML object>"
            ],
            "text/html": []
          },
          "metadata": {}
        },
        {
          "output_type": "display_data",
          "data": {
            "text/plain": [
              "<IPython.core.display.HTML object>"
            ],
            "text/html": [
              "<br>    <style><br>        .wandb-row {<br>            display: flex;<br>            flex-direction: row;<br>            flex-wrap: wrap;<br>            justify-content: flex-start;<br>            width: 100%;<br>        }<br>        .wandb-col {<br>            display: flex;<br>            flex-direction: column;<br>            flex-basis: 100%;<br>            flex: 1;<br>            padding: 10px;<br>        }<br>    </style><br><div class=\"wandb-row\"><div class=\"wandb-col\"><h3>Run history:</h3><br/><table class=\"wandb\"><tr><td>Accuracy</td><td>▁▃▅▇█</td></tr><tr><td>Epoch</td><td>▁▃▅▆█</td></tr><tr><td>Loss</td><td>█▅▄▂▁</td></tr></table><br/></div><div class=\"wandb-col\"><h3>Run summary:</h3><br/><table class=\"wandb\"><tr><td>Accuracy</td><td>0.97953</td></tr><tr><td>Epoch</td><td>5</td></tr><tr><td>Loss</td><td>0.06182</td></tr></table><br/></div></div>"
            ]
          },
          "metadata": {}
        },
        {
          "output_type": "display_data",
          "data": {
            "text/plain": [
              "<IPython.core.display.HTML object>"
            ],
            "text/html": [
              " View run <strong style=\"color:#cdcd00\">optimizer-Adam</strong> at: <a href='https://wandb.ai/shahi77-national-institute-of-technology-hamirpur/deep-learning-experiments/runs/2yhjbhxx' target=\"_blank\">https://wandb.ai/shahi77-national-institute-of-technology-hamirpur/deep-learning-experiments/runs/2yhjbhxx</a><br> View project at: <a href='https://wandb.ai/shahi77-national-institute-of-technology-hamirpur/deep-learning-experiments' target=\"_blank\">https://wandb.ai/shahi77-national-institute-of-technology-hamirpur/deep-learning-experiments</a><br>Synced 5 W&B file(s), 0 media file(s), 0 artifact file(s) and 0 other file(s)"
            ]
          },
          "metadata": {}
        },
        {
          "output_type": "display_data",
          "data": {
            "text/plain": [
              "<IPython.core.display.HTML object>"
            ],
            "text/html": [
              "Find logs at: <code>./wandb/run-20250206_135844-2yhjbhxx/logs</code>"
            ]
          },
          "metadata": {}
        },
        {
          "output_type": "stream",
          "name": "stdout",
          "text": [
            "\n",
            "Training with RMSProp\n"
          ]
        },
        {
          "output_type": "display_data",
          "data": {
            "text/plain": [
              "<IPython.core.display.HTML object>"
            ],
            "text/html": [
              "Tracking run with wandb version 0.19.5"
            ]
          },
          "metadata": {}
        },
        {
          "output_type": "display_data",
          "data": {
            "text/plain": [
              "<IPython.core.display.HTML object>"
            ],
            "text/html": [
              "Run data is saved locally in <code>/content/wandb/run-20250206_140037-e7qlmck0</code>"
            ]
          },
          "metadata": {}
        },
        {
          "output_type": "display_data",
          "data": {
            "text/plain": [
              "<IPython.core.display.HTML object>"
            ],
            "text/html": [
              "Syncing run <strong><a href='https://wandb.ai/shahi77-national-institute-of-technology-hamirpur/deep-learning-experiments/runs/e7qlmck0' target=\"_blank\">optimizer-RMSProp</a></strong> to <a href='https://wandb.ai/shahi77-national-institute-of-technology-hamirpur/deep-learning-experiments' target=\"_blank\">Weights & Biases</a> (<a href='https://wandb.me/developer-guide' target=\"_blank\">docs</a>)<br>"
            ]
          },
          "metadata": {}
        },
        {
          "output_type": "display_data",
          "data": {
            "text/plain": [
              "<IPython.core.display.HTML object>"
            ],
            "text/html": [
              " View project at <a href='https://wandb.ai/shahi77-national-institute-of-technology-hamirpur/deep-learning-experiments' target=\"_blank\">https://wandb.ai/shahi77-national-institute-of-technology-hamirpur/deep-learning-experiments</a>"
            ]
          },
          "metadata": {}
        },
        {
          "output_type": "display_data",
          "data": {
            "text/plain": [
              "<IPython.core.display.HTML object>"
            ],
            "text/html": [
              " View run at <a href='https://wandb.ai/shahi77-national-institute-of-technology-hamirpur/deep-learning-experiments/runs/e7qlmck0' target=\"_blank\">https://wandb.ai/shahi77-national-institute-of-technology-hamirpur/deep-learning-experiments/runs/e7qlmck0</a>"
            ]
          },
          "metadata": {}
        },
        {
          "output_type": "stream",
          "name": "stdout",
          "text": [
            "Epoch [1/5], Loss: 137.3821, Accuracy: 0.9779\n",
            "Epoch [2/5], Loss: 106.7374, Accuracy: 0.9814\n",
            "Epoch [3/5], Loss: 98.5893, Accuracy: 0.9833\n",
            "Epoch [4/5], Loss: 94.6317, Accuracy: 0.9843\n",
            "Epoch [5/5], Loss: 89.0706, Accuracy: 0.9851\n"
          ]
        },
        {
          "output_type": "display_data",
          "data": {
            "text/plain": [
              "<IPython.core.display.HTML object>"
            ],
            "text/html": []
          },
          "metadata": {}
        },
        {
          "output_type": "display_data",
          "data": {
            "text/plain": [
              "<IPython.core.display.HTML object>"
            ],
            "text/html": [
              "<br>    <style><br>        .wandb-row {<br>            display: flex;<br>            flex-direction: row;<br>            flex-wrap: wrap;<br>            justify-content: flex-start;<br>            width: 100%;<br>        }<br>        .wandb-col {<br>            display: flex;<br>            flex-direction: column;<br>            flex-basis: 100%;<br>            flex: 1;<br>            padding: 10px;<br>        }<br>    </style><br><div class=\"wandb-row\"><div class=\"wandb-col\"><h3>Run history:</h3><br/><table class=\"wandb\"><tr><td>Accuracy</td><td>▁▄▆▇█</td></tr><tr><td>Epoch</td><td>▁▃▅▆█</td></tr><tr><td>Loss</td><td>█▄▂▂▁</td></tr></table><br/></div><div class=\"wandb-col\"><h3>Run summary:</h3><br/><table class=\"wandb\"><tr><td>Accuracy</td><td>0.9851</td></tr><tr><td>Epoch</td><td>5</td></tr><tr><td>Loss</td><td>0.0475</td></tr></table><br/></div></div>"
            ]
          },
          "metadata": {}
        },
        {
          "output_type": "display_data",
          "data": {
            "text/plain": [
              "<IPython.core.display.HTML object>"
            ],
            "text/html": [
              " View run <strong style=\"color:#cdcd00\">optimizer-RMSProp</strong> at: <a href='https://wandb.ai/shahi77-national-institute-of-technology-hamirpur/deep-learning-experiments/runs/e7qlmck0' target=\"_blank\">https://wandb.ai/shahi77-national-institute-of-technology-hamirpur/deep-learning-experiments/runs/e7qlmck0</a><br> View project at: <a href='https://wandb.ai/shahi77-national-institute-of-technology-hamirpur/deep-learning-experiments' target=\"_blank\">https://wandb.ai/shahi77-national-institute-of-technology-hamirpur/deep-learning-experiments</a><br>Synced 5 W&B file(s), 0 media file(s), 0 artifact file(s) and 0 other file(s)"
            ]
          },
          "metadata": {}
        },
        {
          "output_type": "display_data",
          "data": {
            "text/plain": [
              "<IPython.core.display.HTML object>"
            ],
            "text/html": [
              "Find logs at: <code>./wandb/run-20250206_140037-e7qlmck0/logs</code>"
            ]
          },
          "metadata": {}
        }
      ]
    },
    {
      "cell_type": "code",
      "source": [
        "sweep_config = {\n",
        "    \"method\": \"grid\",  # Can be \"random\" or \"bayes\" as well\n",
        "    \"metric\": {\"name\": \"Accuracy\", \"goal\": \"maximize\"},\n",
        "    \"parameters\": {\n",
        "        \"epochs\": {\"values\": [5, 10]},\n",
        "        \"batch_size\": {\"values\": [16, 32, 64]},\n",
        "        \"learning_rate\": {\"values\": [0.001, 0.0001]},\n",
        "        \"optimizer\": {\"values\": [\"sgd\", \"adam\", \"rmsprop\"]}\n",
        "    }\n",
        "}\n",
        "\n",
        "sweep_id = wandb.sweep(sweep_config, project=\"deep-learning-experiments\")\n"
      ],
      "metadata": {
        "colab": {
          "base_uri": "https://localhost:8080/"
        },
        "id": "rF4HEp2OkhuU",
        "outputId": "35fa7ce8-bddd-4e87-cb51-0acc23fd1e0b"
      },
      "execution_count": null,
      "outputs": [
        {
          "output_type": "stream",
          "name": "stdout",
          "text": [
            "Create sweep with ID: ntjma6uk\n",
            "Sweep URL: https://wandb.ai/shahi77-national-institute-of-technology-hamirpur/deep-learning-experiments/sweeps/ntjma6uk\n"
          ]
        }
      ]
    },
    {
      "cell_type": "code",
      "source": [
        "def sweep_train():\n",
        "    wandb.init()\n",
        "    config = wandb.config\n",
        "\n",
        "    # Create model and optimizer dynamically\n",
        "    model = NeuralNetwork(input_size=784, hidden_layers=[128, 64], output_size=10, activation_fn=nn.ReLU)\n",
        "    optimizer = optimizers[config.optimizer]\n",
        "\n",
        "    train(model, train_loader, optimizer, loss_fn, epochs=config.epochs)\n",
        "    wandb.finish()\n",
        "\n",
        "wandb.agent(sweep_id, function=sweep_train, count=5)\n"
      ],
      "metadata": {
        "colab": {
          "base_uri": "https://localhost:8080/",
          "height": 1000
        },
        "id": "bCqQyahfklwc",
        "outputId": "099b9ccb-2005-4dae-dda2-ff25702ed5b2"
      },
      "execution_count": null,
      "outputs": [
        {
          "output_type": "stream",
          "name": "stderr",
          "text": [
            "\u001b[34m\u001b[1mwandb\u001b[0m: Agent Starting Run: h486ofvm with config:\n",
            "\u001b[34m\u001b[1mwandb\u001b[0m: \tbatch_size: 16\n",
            "\u001b[34m\u001b[1mwandb\u001b[0m: \tepochs: 5\n",
            "\u001b[34m\u001b[1mwandb\u001b[0m: \tlearning_rate: 0.001\n",
            "\u001b[34m\u001b[1mwandb\u001b[0m: \toptimizer: sgd\n"
          ]
        },
        {
          "output_type": "display_data",
          "data": {
            "text/plain": [
              "<IPython.core.display.HTML object>"
            ],
            "text/html": [
              "Tracking run with wandb version 0.19.5"
            ]
          },
          "metadata": {}
        },
        {
          "output_type": "display_data",
          "data": {
            "text/plain": [
              "<IPython.core.display.HTML object>"
            ],
            "text/html": [
              "Run data is saved locally in <code>/content/wandb/run-20250206_140357-h486ofvm</code>"
            ]
          },
          "metadata": {}
        },
        {
          "output_type": "display_data",
          "data": {
            "text/plain": [
              "<IPython.core.display.HTML object>"
            ],
            "text/html": [
              "Syncing run <strong><a href='https://wandb.ai/shahi77-national-institute-of-technology-hamirpur/deep-learning-experiments/runs/h486ofvm' target=\"_blank\">dauntless-sweep-1</a></strong> to <a href='https://wandb.ai/shahi77-national-institute-of-technology-hamirpur/deep-learning-experiments' target=\"_blank\">Weights & Biases</a> (<a href='https://wandb.me/developer-guide' target=\"_blank\">docs</a>)<br>Sweep page: <a href='https://wandb.ai/shahi77-national-institute-of-technology-hamirpur/deep-learning-experiments/sweeps/ntjma6uk' target=\"_blank\">https://wandb.ai/shahi77-national-institute-of-technology-hamirpur/deep-learning-experiments/sweeps/ntjma6uk</a>"
            ]
          },
          "metadata": {}
        },
        {
          "output_type": "display_data",
          "data": {
            "text/plain": [
              "<IPython.core.display.HTML object>"
            ],
            "text/html": [
              " View project at <a href='https://wandb.ai/shahi77-national-institute-of-technology-hamirpur/deep-learning-experiments' target=\"_blank\">https://wandb.ai/shahi77-national-institute-of-technology-hamirpur/deep-learning-experiments</a>"
            ]
          },
          "metadata": {}
        },
        {
          "output_type": "display_data",
          "data": {
            "text/plain": [
              "<IPython.core.display.HTML object>"
            ],
            "text/html": [
              " View sweep at <a href='https://wandb.ai/shahi77-national-institute-of-technology-hamirpur/deep-learning-experiments/sweeps/ntjma6uk' target=\"_blank\">https://wandb.ai/shahi77-national-institute-of-technology-hamirpur/deep-learning-experiments/sweeps/ntjma6uk</a>"
            ]
          },
          "metadata": {}
        },
        {
          "output_type": "display_data",
          "data": {
            "text/plain": [
              "<IPython.core.display.HTML object>"
            ],
            "text/html": [
              " View run at <a href='https://wandb.ai/shahi77-national-institute-of-technology-hamirpur/deep-learning-experiments/runs/h486ofvm' target=\"_blank\">https://wandb.ai/shahi77-national-institute-of-technology-hamirpur/deep-learning-experiments/runs/h486ofvm</a>"
            ]
          },
          "metadata": {}
        },
        {
          "output_type": "display_data",
          "data": {
            "text/plain": [
              "<IPython.core.display.HTML object>"
            ],
            "text/html": []
          },
          "metadata": {}
        },
        {
          "output_type": "display_data",
          "data": {
            "text/plain": [
              "<IPython.core.display.HTML object>"
            ],
            "text/html": [
              " View run <strong style=\"color:#cdcd00\">dauntless-sweep-1</strong> at: <a href='https://wandb.ai/shahi77-national-institute-of-technology-hamirpur/deep-learning-experiments/runs/h486ofvm' target=\"_blank\">https://wandb.ai/shahi77-national-institute-of-technology-hamirpur/deep-learning-experiments/runs/h486ofvm</a><br> View project at: <a href='https://wandb.ai/shahi77-national-institute-of-technology-hamirpur/deep-learning-experiments' target=\"_blank\">https://wandb.ai/shahi77-national-institute-of-technology-hamirpur/deep-learning-experiments</a><br>Synced 5 W&B file(s), 0 media file(s), 0 artifact file(s) and 0 other file(s)"
            ]
          },
          "metadata": {}
        },
        {
          "output_type": "display_data",
          "data": {
            "text/plain": [
              "<IPython.core.display.HTML object>"
            ],
            "text/html": [
              "Find logs at: <code>./wandb/run-20250206_140357-h486ofvm/logs</code>"
            ]
          },
          "metadata": {}
        },
        {
          "output_type": "stream",
          "name": "stderr",
          "text": [
            "\u001b[34m\u001b[1mwandb\u001b[0m: \u001b[32m\u001b[41mERROR\u001b[0m Run h486ofvm errored:\n",
            "\u001b[34m\u001b[1mwandb\u001b[0m: \u001b[32m\u001b[41mERROR\u001b[0m Traceback (most recent call last):\n",
            "\u001b[34m\u001b[1mwandb\u001b[0m: \u001b[32m\u001b[41mERROR\u001b[0m   File \"/usr/local/lib/python3.11/dist-packages/wandb/agents/pyagent.py\", line 306, in _run_job\n",
            "\u001b[34m\u001b[1mwandb\u001b[0m: \u001b[32m\u001b[41mERROR\u001b[0m     self._function()\n",
            "\u001b[34m\u001b[1mwandb\u001b[0m: \u001b[32m\u001b[41mERROR\u001b[0m   File \"<ipython-input-10-77c769e1a2ca>\", line 7, in sweep_train\n",
            "\u001b[34m\u001b[1mwandb\u001b[0m: \u001b[32m\u001b[41mERROR\u001b[0m     optimizer = optimizers[config.optimizer]\n",
            "\u001b[34m\u001b[1mwandb\u001b[0m: \u001b[32m\u001b[41mERROR\u001b[0m                 ~~~~~~~~~~^^^^^^^^^^^^^^^^^^\n",
            "\u001b[34m\u001b[1mwandb\u001b[0m: \u001b[32m\u001b[41mERROR\u001b[0m KeyError: 'sgd'\n",
            "\u001b[34m\u001b[1mwandb\u001b[0m: \u001b[32m\u001b[41mERROR\u001b[0m \n",
            "\u001b[34m\u001b[1mwandb\u001b[0m: Agent Starting Run: 8vi9j3na with config:\n",
            "\u001b[34m\u001b[1mwandb\u001b[0m: \tbatch_size: 16\n",
            "\u001b[34m\u001b[1mwandb\u001b[0m: \tepochs: 5\n",
            "\u001b[34m\u001b[1mwandb\u001b[0m: \tlearning_rate: 0.001\n",
            "\u001b[34m\u001b[1mwandb\u001b[0m: \toptimizer: adam\n"
          ]
        },
        {
          "output_type": "display_data",
          "data": {
            "text/plain": [
              "<IPython.core.display.HTML object>"
            ],
            "text/html": [
              "Tracking run with wandb version 0.19.5"
            ]
          },
          "metadata": {}
        },
        {
          "output_type": "display_data",
          "data": {
            "text/plain": [
              "<IPython.core.display.HTML object>"
            ],
            "text/html": [
              "Run data is saved locally in <code>/content/wandb/run-20250206_140408-8vi9j3na</code>"
            ]
          },
          "metadata": {}
        },
        {
          "output_type": "display_data",
          "data": {
            "text/plain": [
              "<IPython.core.display.HTML object>"
            ],
            "text/html": [
              "Syncing run <strong><a href='https://wandb.ai/shahi77-national-institute-of-technology-hamirpur/deep-learning-experiments/runs/8vi9j3na' target=\"_blank\">eager-sweep-2</a></strong> to <a href='https://wandb.ai/shahi77-national-institute-of-technology-hamirpur/deep-learning-experiments' target=\"_blank\">Weights & Biases</a> (<a href='https://wandb.me/developer-guide' target=\"_blank\">docs</a>)<br>Sweep page: <a href='https://wandb.ai/shahi77-national-institute-of-technology-hamirpur/deep-learning-experiments/sweeps/ntjma6uk' target=\"_blank\">https://wandb.ai/shahi77-national-institute-of-technology-hamirpur/deep-learning-experiments/sweeps/ntjma6uk</a>"
            ]
          },
          "metadata": {}
        },
        {
          "output_type": "display_data",
          "data": {
            "text/plain": [
              "<IPython.core.display.HTML object>"
            ],
            "text/html": [
              " View project at <a href='https://wandb.ai/shahi77-national-institute-of-technology-hamirpur/deep-learning-experiments' target=\"_blank\">https://wandb.ai/shahi77-national-institute-of-technology-hamirpur/deep-learning-experiments</a>"
            ]
          },
          "metadata": {}
        },
        {
          "output_type": "display_data",
          "data": {
            "text/plain": [
              "<IPython.core.display.HTML object>"
            ],
            "text/html": [
              " View sweep at <a href='https://wandb.ai/shahi77-national-institute-of-technology-hamirpur/deep-learning-experiments/sweeps/ntjma6uk' target=\"_blank\">https://wandb.ai/shahi77-national-institute-of-technology-hamirpur/deep-learning-experiments/sweeps/ntjma6uk</a>"
            ]
          },
          "metadata": {}
        },
        {
          "output_type": "display_data",
          "data": {
            "text/plain": [
              "<IPython.core.display.HTML object>"
            ],
            "text/html": [
              " View run at <a href='https://wandb.ai/shahi77-national-institute-of-technology-hamirpur/deep-learning-experiments/runs/8vi9j3na' target=\"_blank\">https://wandb.ai/shahi77-national-institute-of-technology-hamirpur/deep-learning-experiments/runs/8vi9j3na</a>"
            ]
          },
          "metadata": {}
        },
        {
          "output_type": "display_data",
          "data": {
            "text/plain": [
              "<IPython.core.display.HTML object>"
            ],
            "text/html": []
          },
          "metadata": {}
        },
        {
          "output_type": "display_data",
          "data": {
            "text/plain": [
              "<IPython.core.display.HTML object>"
            ],
            "text/html": [
              " View run <strong style=\"color:#cdcd00\">eager-sweep-2</strong> at: <a href='https://wandb.ai/shahi77-national-institute-of-technology-hamirpur/deep-learning-experiments/runs/8vi9j3na' target=\"_blank\">https://wandb.ai/shahi77-national-institute-of-technology-hamirpur/deep-learning-experiments/runs/8vi9j3na</a><br> View project at: <a href='https://wandb.ai/shahi77-national-institute-of-technology-hamirpur/deep-learning-experiments' target=\"_blank\">https://wandb.ai/shahi77-national-institute-of-technology-hamirpur/deep-learning-experiments</a><br>Synced 5 W&B file(s), 0 media file(s), 0 artifact file(s) and 0 other file(s)"
            ]
          },
          "metadata": {}
        },
        {
          "output_type": "display_data",
          "data": {
            "text/plain": [
              "<IPython.core.display.HTML object>"
            ],
            "text/html": [
              "Find logs at: <code>./wandb/run-20250206_140408-8vi9j3na/logs</code>"
            ]
          },
          "metadata": {}
        },
        {
          "output_type": "stream",
          "name": "stderr",
          "text": [
            "\u001b[34m\u001b[1mwandb\u001b[0m: \u001b[32m\u001b[41mERROR\u001b[0m Run 8vi9j3na errored:\n",
            "\u001b[34m\u001b[1mwandb\u001b[0m: \u001b[32m\u001b[41mERROR\u001b[0m Traceback (most recent call last):\n",
            "\u001b[34m\u001b[1mwandb\u001b[0m: \u001b[32m\u001b[41mERROR\u001b[0m   File \"/usr/local/lib/python3.11/dist-packages/wandb/agents/pyagent.py\", line 306, in _run_job\n",
            "\u001b[34m\u001b[1mwandb\u001b[0m: \u001b[32m\u001b[41mERROR\u001b[0m     self._function()\n",
            "\u001b[34m\u001b[1mwandb\u001b[0m: \u001b[32m\u001b[41mERROR\u001b[0m   File \"<ipython-input-10-77c769e1a2ca>\", line 7, in sweep_train\n",
            "\u001b[34m\u001b[1mwandb\u001b[0m: \u001b[32m\u001b[41mERROR\u001b[0m     optimizer = optimizers[config.optimizer]\n",
            "\u001b[34m\u001b[1mwandb\u001b[0m: \u001b[32m\u001b[41mERROR\u001b[0m                 ~~~~~~~~~~^^^^^^^^^^^^^^^^^^\n",
            "\u001b[34m\u001b[1mwandb\u001b[0m: \u001b[32m\u001b[41mERROR\u001b[0m KeyError: 'adam'\n",
            "\u001b[34m\u001b[1mwandb\u001b[0m: \u001b[32m\u001b[41mERROR\u001b[0m \n",
            "\u001b[34m\u001b[1mwandb\u001b[0m: Agent Starting Run: 0mwgycw2 with config:\n",
            "\u001b[34m\u001b[1mwandb\u001b[0m: \tbatch_size: 16\n",
            "\u001b[34m\u001b[1mwandb\u001b[0m: \tepochs: 5\n",
            "\u001b[34m\u001b[1mwandb\u001b[0m: \tlearning_rate: 0.001\n",
            "\u001b[34m\u001b[1mwandb\u001b[0m: \toptimizer: rmsprop\n"
          ]
        },
        {
          "output_type": "display_data",
          "data": {
            "text/plain": [
              "<IPython.core.display.HTML object>"
            ],
            "text/html": [
              "Tracking run with wandb version 0.19.5"
            ]
          },
          "metadata": {}
        },
        {
          "output_type": "display_data",
          "data": {
            "text/plain": [
              "<IPython.core.display.HTML object>"
            ],
            "text/html": [
              "Run data is saved locally in <code>/content/wandb/run-20250206_140413-0mwgycw2</code>"
            ]
          },
          "metadata": {}
        },
        {
          "output_type": "display_data",
          "data": {
            "text/plain": [
              "<IPython.core.display.HTML object>"
            ],
            "text/html": [
              "Syncing run <strong><a href='https://wandb.ai/shahi77-national-institute-of-technology-hamirpur/deep-learning-experiments/runs/0mwgycw2' target=\"_blank\">rosy-sweep-3</a></strong> to <a href='https://wandb.ai/shahi77-national-institute-of-technology-hamirpur/deep-learning-experiments' target=\"_blank\">Weights & Biases</a> (<a href='https://wandb.me/developer-guide' target=\"_blank\">docs</a>)<br>Sweep page: <a href='https://wandb.ai/shahi77-national-institute-of-technology-hamirpur/deep-learning-experiments/sweeps/ntjma6uk' target=\"_blank\">https://wandb.ai/shahi77-national-institute-of-technology-hamirpur/deep-learning-experiments/sweeps/ntjma6uk</a>"
            ]
          },
          "metadata": {}
        },
        {
          "output_type": "display_data",
          "data": {
            "text/plain": [
              "<IPython.core.display.HTML object>"
            ],
            "text/html": [
              " View project at <a href='https://wandb.ai/shahi77-national-institute-of-technology-hamirpur/deep-learning-experiments' target=\"_blank\">https://wandb.ai/shahi77-national-institute-of-technology-hamirpur/deep-learning-experiments</a>"
            ]
          },
          "metadata": {}
        },
        {
          "output_type": "display_data",
          "data": {
            "text/plain": [
              "<IPython.core.display.HTML object>"
            ],
            "text/html": [
              " View sweep at <a href='https://wandb.ai/shahi77-national-institute-of-technology-hamirpur/deep-learning-experiments/sweeps/ntjma6uk' target=\"_blank\">https://wandb.ai/shahi77-national-institute-of-technology-hamirpur/deep-learning-experiments/sweeps/ntjma6uk</a>"
            ]
          },
          "metadata": {}
        },
        {
          "output_type": "display_data",
          "data": {
            "text/plain": [
              "<IPython.core.display.HTML object>"
            ],
            "text/html": [
              " View run at <a href='https://wandb.ai/shahi77-national-institute-of-technology-hamirpur/deep-learning-experiments/runs/0mwgycw2' target=\"_blank\">https://wandb.ai/shahi77-national-institute-of-technology-hamirpur/deep-learning-experiments/runs/0mwgycw2</a>"
            ]
          },
          "metadata": {}
        },
        {
          "output_type": "display_data",
          "data": {
            "text/plain": [
              "<IPython.core.display.HTML object>"
            ],
            "text/html": []
          },
          "metadata": {}
        },
        {
          "output_type": "display_data",
          "data": {
            "text/plain": [
              "<IPython.core.display.HTML object>"
            ],
            "text/html": [
              " View run <strong style=\"color:#cdcd00\">rosy-sweep-3</strong> at: <a href='https://wandb.ai/shahi77-national-institute-of-technology-hamirpur/deep-learning-experiments/runs/0mwgycw2' target=\"_blank\">https://wandb.ai/shahi77-national-institute-of-technology-hamirpur/deep-learning-experiments/runs/0mwgycw2</a><br> View project at: <a href='https://wandb.ai/shahi77-national-institute-of-technology-hamirpur/deep-learning-experiments' target=\"_blank\">https://wandb.ai/shahi77-national-institute-of-technology-hamirpur/deep-learning-experiments</a><br>Synced 5 W&B file(s), 0 media file(s), 0 artifact file(s) and 0 other file(s)"
            ]
          },
          "metadata": {}
        },
        {
          "output_type": "display_data",
          "data": {
            "text/plain": [
              "<IPython.core.display.HTML object>"
            ],
            "text/html": [
              "Find logs at: <code>./wandb/run-20250206_140413-0mwgycw2/logs</code>"
            ]
          },
          "metadata": {}
        },
        {
          "output_type": "stream",
          "name": "stderr",
          "text": [
            "\u001b[34m\u001b[1mwandb\u001b[0m: \u001b[32m\u001b[41mERROR\u001b[0m Run 0mwgycw2 errored:\n",
            "\u001b[34m\u001b[1mwandb\u001b[0m: \u001b[32m\u001b[41mERROR\u001b[0m Traceback (most recent call last):\n",
            "\u001b[34m\u001b[1mwandb\u001b[0m: \u001b[32m\u001b[41mERROR\u001b[0m   File \"/usr/local/lib/python3.11/dist-packages/wandb/agents/pyagent.py\", line 306, in _run_job\n",
            "\u001b[34m\u001b[1mwandb\u001b[0m: \u001b[32m\u001b[41mERROR\u001b[0m     self._function()\n",
            "\u001b[34m\u001b[1mwandb\u001b[0m: \u001b[32m\u001b[41mERROR\u001b[0m   File \"<ipython-input-10-77c769e1a2ca>\", line 7, in sweep_train\n",
            "\u001b[34m\u001b[1mwandb\u001b[0m: \u001b[32m\u001b[41mERROR\u001b[0m     optimizer = optimizers[config.optimizer]\n",
            "\u001b[34m\u001b[1mwandb\u001b[0m: \u001b[32m\u001b[41mERROR\u001b[0m                 ~~~~~~~~~~^^^^^^^^^^^^^^^^^^\n",
            "\u001b[34m\u001b[1mwandb\u001b[0m: \u001b[32m\u001b[41mERROR\u001b[0m KeyError: 'rmsprop'\n",
            "\u001b[34m\u001b[1mwandb\u001b[0m: \u001b[32m\u001b[41mERROR\u001b[0m \n",
            "\u001b[34m\u001b[1mwandb\u001b[0m: \u001b[32m\u001b[41mERROR\u001b[0m Detected 3 failed runs in the first 60 seconds, killing sweep.\n",
            "\u001b[34m\u001b[1mwandb\u001b[0m: To disable this check set WANDB_AGENT_DISABLE_FLAPPING=true\n"
          ]
        }
      ]
    },
    {
      "cell_type": "markdown",
      "source": [
        " Implement the experiments submitted  in as assignment 2 with the various gradient descent with different optimization functions."
      ],
      "metadata": {
        "id": "lUd6hbDElAt1"
      }
    },
    {
      "cell_type": "code",
      "source": [
        "import torch\n",
        "import torch.nn as nn\n",
        "import torch.nn.functional as F\n",
        "\n",
        "# Custom activation functions\n",
        "class Swish(nn.Module):\n",
        "    def forward(self, x):\n",
        "        return x * torch.sigmoid(x)\n",
        "\n",
        "class ESwish(nn.Module):\n",
        "    def __init__(self, beta=1.5):\n",
        "        super().__init__()\n",
        "        self.beta = beta\n",
        "\n",
        "    def forward(self, x):\n",
        "        return self.beta * x * torch.sigmoid(x)\n",
        "\n",
        "activations = {\n",
        "    \"Sigmoid\": nn.Sigmoid(),\n",
        "    \"Tanh\": nn.Tanh(),\n",
        "    \"Mish\": nn.Mish(),\n",
        "    \"ReLU\": nn.ReLU(),\n",
        "    \"LeakyReLU\": nn.LeakyReLU(0.01),\n",
        "    \"PReLU\": nn.PReLU(),\n",
        "    \"ELU\": nn.ELU(),\n",
        "    \"Softmax\": nn.Softmax(dim=1),\n",
        "    \"Softplus\": nn.Softplus(),\n",
        "    \"Swish\": Swish(),\n",
        "    \"ESwish\": ESwish(),\n",
        "    \"GELU\": nn.GELU(),\n",
        "    \"SELU\": nn.SELU()\n",
        "}\n"
      ],
      "metadata": {
        "id": "DY5U9IvZlAAa"
      },
      "execution_count": null,
      "outputs": []
    },
    {
      "cell_type": "code",
      "source": [
        "class NeuralNetwork(nn.Module):\n",
        "    def __init__(self, input_size, hidden_layers, output_size, activation_fn):\n",
        "        super(NeuralNetwork, self).__init__()\n",
        "        layers = []\n",
        "        prev_size = input_size\n",
        "\n",
        "        for size in hidden_layers:\n",
        "            layers.append(nn.Linear(prev_size, size))\n",
        "            layers.append(activation_fn)  # Dynamically assign activation function\n",
        "            prev_size = size\n",
        "\n",
        "        layers.append(nn.Linear(prev_size, output_size))  # Output layer\n",
        "        self.model = nn.Sequential(*layers)\n",
        "\n",
        "    def forward(self, x):\n",
        "        return self.model(x.view(x.size(0), -1))  # Flatten input\n"
      ],
      "metadata": {
        "id": "YO02aLjmlY3z"
      },
      "execution_count": null,
      "outputs": []
    },
    {
      "cell_type": "code",
      "source": [
        "import torchvision.transforms as transforms\n",
        "import torchvision.datasets as datasets\n",
        "from torch.utils.data import DataLoader\n",
        "\n",
        "# Common transformation for all datasets\n",
        "transform = transforms.Compose([\n",
        "    transforms.ToTensor(),\n",
        "    transforms.Normalize((0.5,), (0.5,))  # Normalize to (-1,1)\n",
        "])\n",
        "\n",
        "datasets_dict = {\n",
        "    \"MNIST\": datasets.MNIST(root=\"./data\", train=True, transform=transform, download=True),\n",
        "    \"Fashion-MNIST\": datasets.FashionMNIST(root=\"./data\", train=True, transform=transform, download=True),\n",
        "    \"CIFAR-10\": datasets.CIFAR10(root=\"./data\", train=True, transform=transform, download=True),\n",
        "    \"CIFAR-100\": datasets.CIFAR100(root=\"./data\", train=True, transform=transform, download=True)\n",
        "}\n",
        "\n",
        "test_datasets_dict = {\n",
        "    \"MNIST\": datasets.MNIST(root=\"./data\", train=False, transform=transform, download=True),\n",
        "    \"Fashion-MNIST\": datasets.FashionMNIST(root=\"./data\", train=False, transform=transform, download=True),\n",
        "    \"CIFAR-10\": datasets.CIFAR10(root=\"./data\", train=False, transform=transform, download=True),\n",
        "    \"CIFAR-100\": datasets.CIFAR100(root=\"./data\", train=False, transform=transform, download=True)\n",
        "}\n",
        "\n",
        "# DataLoaders\n",
        "def get_dataloader(dataset_name, batch_size=64):\n",
        "    return DataLoader(datasets_dict[dataset_name], batch_size=batch_size, shuffle=True), \\\n",
        "           DataLoader(test_datasets_dict[dataset_name], batch_size=batch_size, shuffle=False)\n"
      ],
      "metadata": {
        "colab": {
          "base_uri": "https://localhost:8080/"
        },
        "id": "rNwz9MRZliQn",
        "outputId": "9f054a02-0ce1-4ae6-cc12-22f1583065ab"
      },
      "execution_count": null,
      "outputs": [
        {
          "output_type": "stream",
          "name": "stdout",
          "text": [
            "Downloading http://fashion-mnist.s3-website.eu-central-1.amazonaws.com/train-images-idx3-ubyte.gz\n",
            "Downloading http://fashion-mnist.s3-website.eu-central-1.amazonaws.com/train-images-idx3-ubyte.gz to ./data/FashionMNIST/raw/train-images-idx3-ubyte.gz\n"
          ]
        },
        {
          "output_type": "stream",
          "name": "stderr",
          "text": [
            "100%|██████████| 26.4M/26.4M [00:01<00:00, 13.3MB/s]\n"
          ]
        },
        {
          "output_type": "stream",
          "name": "stdout",
          "text": [
            "Extracting ./data/FashionMNIST/raw/train-images-idx3-ubyte.gz to ./data/FashionMNIST/raw\n",
            "\n",
            "Downloading http://fashion-mnist.s3-website.eu-central-1.amazonaws.com/train-labels-idx1-ubyte.gz\n",
            "Downloading http://fashion-mnist.s3-website.eu-central-1.amazonaws.com/train-labels-idx1-ubyte.gz to ./data/FashionMNIST/raw/train-labels-idx1-ubyte.gz\n"
          ]
        },
        {
          "output_type": "stream",
          "name": "stderr",
          "text": [
            "100%|██████████| 29.5k/29.5k [00:00<00:00, 208kB/s]\n"
          ]
        },
        {
          "output_type": "stream",
          "name": "stdout",
          "text": [
            "Extracting ./data/FashionMNIST/raw/train-labels-idx1-ubyte.gz to ./data/FashionMNIST/raw\n",
            "\n",
            "Downloading http://fashion-mnist.s3-website.eu-central-1.amazonaws.com/t10k-images-idx3-ubyte.gz\n",
            "Downloading http://fashion-mnist.s3-website.eu-central-1.amazonaws.com/t10k-images-idx3-ubyte.gz to ./data/FashionMNIST/raw/t10k-images-idx3-ubyte.gz\n"
          ]
        },
        {
          "output_type": "stream",
          "name": "stderr",
          "text": [
            "100%|██████████| 4.42M/4.42M [00:01<00:00, 3.84MB/s]\n"
          ]
        },
        {
          "output_type": "stream",
          "name": "stdout",
          "text": [
            "Extracting ./data/FashionMNIST/raw/t10k-images-idx3-ubyte.gz to ./data/FashionMNIST/raw\n",
            "\n",
            "Downloading http://fashion-mnist.s3-website.eu-central-1.amazonaws.com/t10k-labels-idx1-ubyte.gz\n",
            "Downloading http://fashion-mnist.s3-website.eu-central-1.amazonaws.com/t10k-labels-idx1-ubyte.gz to ./data/FashionMNIST/raw/t10k-labels-idx1-ubyte.gz\n"
          ]
        },
        {
          "output_type": "stream",
          "name": "stderr",
          "text": [
            "100%|██████████| 5.15k/5.15k [00:00<00:00, 4.06MB/s]\n"
          ]
        },
        {
          "output_type": "stream",
          "name": "stdout",
          "text": [
            "Extracting ./data/FashionMNIST/raw/t10k-labels-idx1-ubyte.gz to ./data/FashionMNIST/raw\n",
            "\n",
            "Downloading https://www.cs.toronto.edu/~kriz/cifar-10-python.tar.gz to ./data/cifar-10-python.tar.gz\n"
          ]
        },
        {
          "output_type": "stream",
          "name": "stderr",
          "text": [
            "100%|██████████| 170M/170M [00:03<00:00, 48.6MB/s]\n"
          ]
        },
        {
          "output_type": "stream",
          "name": "stdout",
          "text": [
            "Extracting ./data/cifar-10-python.tar.gz to ./data\n",
            "Downloading https://www.cs.toronto.edu/~kriz/cifar-100-python.tar.gz to ./data/cifar-100-python.tar.gz\n"
          ]
        },
        {
          "output_type": "stream",
          "name": "stderr",
          "text": [
            "100%|██████████| 169M/169M [00:03<00:00, 46.4MB/s]\n"
          ]
        },
        {
          "output_type": "stream",
          "name": "stdout",
          "text": [
            "Extracting ./data/cifar-100-python.tar.gz to ./data\n",
            "Files already downloaded and verified\n",
            "Files already downloaded and verified\n"
          ]
        }
      ]
    },
    {
      "cell_type": "code",
      "source": [
        "def train_model(model, train_loader, optimizer, loss_fn, epochs=10, activation_name=\"ReLU\", dataset_name=\"MNIST\"):\n",
        "    model.train()\n",
        "    for epoch in range(epochs):\n",
        "        total_loss = 0\n",
        "        correct = 0\n",
        "        total = 0\n",
        "\n",
        "        for images, labels in train_loader:\n",
        "            optimizer.zero_grad()\n",
        "            outputs = model(images)\n",
        "            loss = loss_fn(outputs, labels)\n",
        "            loss.backward()\n",
        "            optimizer.step()\n",
        "\n",
        "            total_loss += loss.item()\n",
        "            _, predicted = torch.max(outputs, 1)\n",
        "            correct += (predicted == labels).sum().item()\n",
        "            total += labels.size(0)\n",
        "\n",
        "        accuracy = correct / total\n",
        "\n",
        "        # Log results to WandB\n",
        "        wandb.log({\n",
        "            \"Epoch\": epoch + 1,\n",
        "            \"Loss\": total_loss / len(train_loader),\n",
        "            \"Accuracy\": accuracy,\n",
        "            \"Activation Function\": activation_name,\n",
        "            \"Dataset\": dataset_name\n",
        "        })\n",
        "\n",
        "        print(f\"Epoch [{epoch+1}/{epochs}], Loss: {total_loss:.4f}, Accuracy: {accuracy:.4f}\")\n",
        "\n"
      ],
      "metadata": {
        "id": "4m7Ly8UclnM5"
      },
      "execution_count": null,
      "outputs": []
    },
    {
      "cell_type": "code",
      "source": [
        "for dataset_name in [\"MNIST\", \"Fashion-MNIST\", \"CIFAR-10\", \"CIFAR-100\"]:\n",
        "    train_loader, test_loader = get_dataloader(dataset_name)\n",
        "\n",
        "    for act_name, act_func in activations.items():\n",
        "        print(f\"\\nTraining on {dataset_name} with Activation: {act_name}\")\n",
        "\n",
        "        # Initialize WandB\n",
        "        wandb.init(project=\"activation-functions-analysis\", name=f\"{dataset_name}-{act_name}\")\n",
        "\n",
        "        model = NeuralNetwork(input_size=784, hidden_layers=[128, 64], output_size=10, activation_fn=act_func)\n",
        "        optimizer = torch.optim.Adam(model.parameters(), lr=0.001)\n",
        "        loss_fn = nn.CrossEntropyLoss()\n",
        "\n",
        "        train_model(model, train_loader, optimizer, loss_fn, epochs=5, activation_name=act_name, dataset_name=dataset_name)\n",
        "\n",
        "        wandb.finish()  # Finish logging\n"
      ],
      "metadata": {
        "colab": {
          "base_uri": "https://localhost:8080/",
          "height": 1000
        },
        "collapsed": true,
        "id": "y-lfgNBvl2l8",
        "outputId": "1a1be300-bd9e-46bf-9d6a-101f6c8f8922"
      },
      "execution_count": null,
      "outputs": [
        {
          "output_type": "stream",
          "name": "stdout",
          "text": [
            "\n",
            "Training on MNIST with Activation: Sigmoid\n"
          ]
        },
        {
          "output_type": "display_data",
          "data": {
            "text/plain": [
              "<IPython.core.display.HTML object>"
            ],
            "text/html": [
              "Changes to your `wandb` environment variables will be ignored because your `wandb` session has already started. For more information on how to modify your settings with `wandb.init()` arguments, please refer to <a href='https://wandb.me/wandb-init' target=\"_blank\">the W&B docs</a>."
            ]
          },
          "metadata": {}
        },
        {
          "output_type": "display_data",
          "data": {
            "text/plain": [
              "<IPython.core.display.HTML object>"
            ],
            "text/html": [
              "Ignoring project 'activation-functions-analysis' when running a sweep."
            ]
          },
          "metadata": {}
        },
        {
          "output_type": "display_data",
          "data": {
            "text/plain": [
              "<IPython.core.display.HTML object>"
            ],
            "text/html": [
              "Tracking run with wandb version 0.19.5"
            ]
          },
          "metadata": {}
        },
        {
          "output_type": "display_data",
          "data": {
            "text/plain": [
              "<IPython.core.display.HTML object>"
            ],
            "text/html": [
              "Run data is saved locally in <code>/content/wandb/run-20250206_140848-0mwgycw2</code>"
            ]
          },
          "metadata": {}
        },
        {
          "output_type": "display_data",
          "data": {
            "text/plain": [
              "<IPython.core.display.HTML object>"
            ],
            "text/html": [
              "Syncing run <strong><a href='https://wandb.ai/shahi77-national-institute-of-technology-hamirpur/deep-learning-experiments/runs/0mwgycw2' target=\"_blank\">MNIST-Sigmoid</a></strong> to <a href='https://wandb.ai/shahi77-national-institute-of-technology-hamirpur/deep-learning-experiments' target=\"_blank\">Weights & Biases</a> (<a href='https://wandb.me/developer-guide' target=\"_blank\">docs</a>)<br>Sweep page: <a href='https://wandb.ai/shahi77-national-institute-of-technology-hamirpur/deep-learning-experiments/sweeps/ntjma6uk' target=\"_blank\">https://wandb.ai/shahi77-national-institute-of-technology-hamirpur/deep-learning-experiments/sweeps/ntjma6uk</a>"
            ]
          },
          "metadata": {}
        },
        {
          "output_type": "display_data",
          "data": {
            "text/plain": [
              "<IPython.core.display.HTML object>"
            ],
            "text/html": [
              " View project at <a href='https://wandb.ai/shahi77-national-institute-of-technology-hamirpur/deep-learning-experiments' target=\"_blank\">https://wandb.ai/shahi77-national-institute-of-technology-hamirpur/deep-learning-experiments</a>"
            ]
          },
          "metadata": {}
        },
        {
          "output_type": "display_data",
          "data": {
            "text/plain": [
              "<IPython.core.display.HTML object>"
            ],
            "text/html": [
              " View sweep at <a href='https://wandb.ai/shahi77-national-institute-of-technology-hamirpur/deep-learning-experiments/sweeps/ntjma6uk' target=\"_blank\">https://wandb.ai/shahi77-national-institute-of-technology-hamirpur/deep-learning-experiments/sweeps/ntjma6uk</a>"
            ]
          },
          "metadata": {}
        },
        {
          "output_type": "display_data",
          "data": {
            "text/plain": [
              "<IPython.core.display.HTML object>"
            ],
            "text/html": [
              " View run at <a href='https://wandb.ai/shahi77-national-institute-of-technology-hamirpur/deep-learning-experiments/runs/0mwgycw2' target=\"_blank\">https://wandb.ai/shahi77-national-institute-of-technology-hamirpur/deep-learning-experiments/runs/0mwgycw2</a>"
            ]
          },
          "metadata": {}
        },
        {
          "output_type": "stream",
          "name": "stdout",
          "text": [
            "Epoch [1/5], Loss: 611.7837, Accuracy: 0.8399\n",
            "Epoch [2/5], Loss: 203.6508, Accuracy: 0.9383\n",
            "Epoch [3/5], Loss: 142.4783, Accuracy: 0.9556\n",
            "Epoch [4/5], Loss: 110.4503, Accuracy: 0.9652\n",
            "Epoch [5/5], Loss: 91.9628, Accuracy: 0.9717\n"
          ]
        },
        {
          "output_type": "display_data",
          "data": {
            "text/plain": [
              "<IPython.core.display.HTML object>"
            ],
            "text/html": []
          },
          "metadata": {}
        },
        {
          "output_type": "display_data",
          "data": {
            "text/plain": [
              "<IPython.core.display.HTML object>"
            ],
            "text/html": [
              "<br>    <style><br>        .wandb-row {<br>            display: flex;<br>            flex-direction: row;<br>            flex-wrap: wrap;<br>            justify-content: flex-start;<br>            width: 100%;<br>        }<br>        .wandb-col {<br>            display: flex;<br>            flex-direction: column;<br>            flex-basis: 100%;<br>            flex: 1;<br>            padding: 10px;<br>        }<br>    </style><br><div class=\"wandb-row\"><div class=\"wandb-col\"><h3>Run history:</h3><br/><table class=\"wandb\"><tr><td>Accuracy</td><td>▁▆▇██</td></tr><tr><td>Epoch</td><td>▁▃▅▆█</td></tr><tr><td>Loss</td><td>█▃▂▁▁</td></tr></table><br/></div><div class=\"wandb-col\"><h3>Run summary:</h3><br/><table class=\"wandb\"><tr><td>Accuracy</td><td>0.97165</td></tr><tr><td>Activation Function</td><td>Sigmoid</td></tr><tr><td>Dataset</td><td>MNIST</td></tr><tr><td>Epoch</td><td>5</td></tr><tr><td>Loss</td><td>0.09804</td></tr></table><br/></div></div>"
            ]
          },
          "metadata": {}
        },
        {
          "output_type": "display_data",
          "data": {
            "text/plain": [
              "<IPython.core.display.HTML object>"
            ],
            "text/html": [
              " View run <strong style=\"color:#cdcd00\">MNIST-Sigmoid</strong> at: <a href='https://wandb.ai/shahi77-national-institute-of-technology-hamirpur/deep-learning-experiments/runs/0mwgycw2' target=\"_blank\">https://wandb.ai/shahi77-national-institute-of-technology-hamirpur/deep-learning-experiments/runs/0mwgycw2</a><br> View project at: <a href='https://wandb.ai/shahi77-national-institute-of-technology-hamirpur/deep-learning-experiments' target=\"_blank\">https://wandb.ai/shahi77-national-institute-of-technology-hamirpur/deep-learning-experiments</a><br>Synced 5 W&B file(s), 0 media file(s), 0 artifact file(s) and 0 other file(s)"
            ]
          },
          "metadata": {}
        },
        {
          "output_type": "display_data",
          "data": {
            "text/plain": [
              "<IPython.core.display.HTML object>"
            ],
            "text/html": [
              "Find logs at: <code>./wandb/run-20250206_140848-0mwgycw2/logs</code>"
            ]
          },
          "metadata": {}
        },
        {
          "output_type": "stream",
          "name": "stdout",
          "text": [
            "\n",
            "Training on MNIST with Activation: Tanh\n"
          ]
        },
        {
          "output_type": "display_data",
          "data": {
            "text/plain": [
              "<IPython.core.display.HTML object>"
            ],
            "text/html": [
              "Changes to your `wandb` environment variables will be ignored because your `wandb` session has already started. For more information on how to modify your settings with `wandb.init()` arguments, please refer to <a href='https://wandb.me/wandb-init' target=\"_blank\">the W&B docs</a>."
            ]
          },
          "metadata": {}
        },
        {
          "output_type": "display_data",
          "data": {
            "text/plain": [
              "<IPython.core.display.HTML object>"
            ],
            "text/html": [
              "Ignoring project 'activation-functions-analysis' when running a sweep."
            ]
          },
          "metadata": {}
        },
        {
          "output_type": "display_data",
          "data": {
            "text/plain": [
              "<IPython.core.display.HTML object>"
            ],
            "text/html": [
              "Tracking run with wandb version 0.19.5"
            ]
          },
          "metadata": {}
        },
        {
          "output_type": "display_data",
          "data": {
            "text/plain": [
              "<IPython.core.display.HTML object>"
            ],
            "text/html": [
              "Run data is saved locally in <code>/content/wandb/run-20250206_141028-0mwgycw2</code>"
            ]
          },
          "metadata": {}
        },
        {
          "output_type": "display_data",
          "data": {
            "text/plain": [
              "<IPython.core.display.HTML object>"
            ],
            "text/html": [
              "Syncing run <strong><a href='https://wandb.ai/shahi77-national-institute-of-technology-hamirpur/deep-learning-experiments/runs/0mwgycw2' target=\"_blank\">MNIST-Tanh</a></strong> to <a href='https://wandb.ai/shahi77-national-institute-of-technology-hamirpur/deep-learning-experiments' target=\"_blank\">Weights & Biases</a> (<a href='https://wandb.me/developer-guide' target=\"_blank\">docs</a>)<br>Sweep page: <a href='https://wandb.ai/shahi77-national-institute-of-technology-hamirpur/deep-learning-experiments/sweeps/ntjma6uk' target=\"_blank\">https://wandb.ai/shahi77-national-institute-of-technology-hamirpur/deep-learning-experiments/sweeps/ntjma6uk</a>"
            ]
          },
          "metadata": {}
        },
        {
          "output_type": "display_data",
          "data": {
            "text/plain": [
              "<IPython.core.display.HTML object>"
            ],
            "text/html": [
              " View project at <a href='https://wandb.ai/shahi77-national-institute-of-technology-hamirpur/deep-learning-experiments' target=\"_blank\">https://wandb.ai/shahi77-national-institute-of-technology-hamirpur/deep-learning-experiments</a>"
            ]
          },
          "metadata": {}
        },
        {
          "output_type": "display_data",
          "data": {
            "text/plain": [
              "<IPython.core.display.HTML object>"
            ],
            "text/html": [
              " View sweep at <a href='https://wandb.ai/shahi77-national-institute-of-technology-hamirpur/deep-learning-experiments/sweeps/ntjma6uk' target=\"_blank\">https://wandb.ai/shahi77-national-institute-of-technology-hamirpur/deep-learning-experiments/sweeps/ntjma6uk</a>"
            ]
          },
          "metadata": {}
        },
        {
          "output_type": "display_data",
          "data": {
            "text/plain": [
              "<IPython.core.display.HTML object>"
            ],
            "text/html": [
              " View run at <a href='https://wandb.ai/shahi77-national-institute-of-technology-hamirpur/deep-learning-experiments/runs/0mwgycw2' target=\"_blank\">https://wandb.ai/shahi77-national-institute-of-technology-hamirpur/deep-learning-experiments/runs/0mwgycw2</a>"
            ]
          },
          "metadata": {}
        },
        {
          "output_type": "stream",
          "name": "stdout",
          "text": [
            "Epoch [1/5], Loss: 322.4641, Accuracy: 0.9040\n",
            "Epoch [2/5], Loss: 149.1520, Accuracy: 0.9533\n",
            "Epoch [3/5], Loss: 122.0153, Accuracy: 0.9610\n",
            "Epoch [4/5], Loss: 106.0558, Accuracy: 0.9654\n",
            "Epoch [5/5], Loss: 95.0870, Accuracy: 0.9687\n"
          ]
        },
        {
          "output_type": "display_data",
          "data": {
            "text/plain": [
              "<IPython.core.display.HTML object>"
            ],
            "text/html": []
          },
          "metadata": {}
        },
        {
          "output_type": "display_data",
          "data": {
            "text/plain": [
              "<IPython.core.display.HTML object>"
            ],
            "text/html": [
              "<br>    <style><br>        .wandb-row {<br>            display: flex;<br>            flex-direction: row;<br>            flex-wrap: wrap;<br>            justify-content: flex-start;<br>            width: 100%;<br>        }<br>        .wandb-col {<br>            display: flex;<br>            flex-direction: column;<br>            flex-basis: 100%;<br>            flex: 1;<br>            padding: 10px;<br>        }<br>    </style><br><div class=\"wandb-row\"><div class=\"wandb-col\"><h3>Run history:</h3><br/><table class=\"wandb\"><tr><td>Accuracy</td><td>▁▆▇██</td></tr><tr><td>Epoch</td><td>▁▃▅▆█</td></tr><tr><td>Loss</td><td>█▃▂▁▁</td></tr></table><br/></div><div class=\"wandb-col\"><h3>Run summary:</h3><br/><table class=\"wandb\"><tr><td>Accuracy</td><td>0.96865</td></tr><tr><td>Activation Function</td><td>Tanh</td></tr><tr><td>Dataset</td><td>MNIST</td></tr><tr><td>Epoch</td><td>5</td></tr><tr><td>Loss</td><td>0.10137</td></tr></table><br/></div></div>"
            ]
          },
          "metadata": {}
        },
        {
          "output_type": "display_data",
          "data": {
            "text/plain": [
              "<IPython.core.display.HTML object>"
            ],
            "text/html": [
              " View run <strong style=\"color:#cdcd00\">MNIST-Tanh</strong> at: <a href='https://wandb.ai/shahi77-national-institute-of-technology-hamirpur/deep-learning-experiments/runs/0mwgycw2' target=\"_blank\">https://wandb.ai/shahi77-national-institute-of-technology-hamirpur/deep-learning-experiments/runs/0mwgycw2</a><br> View project at: <a href='https://wandb.ai/shahi77-national-institute-of-technology-hamirpur/deep-learning-experiments' target=\"_blank\">https://wandb.ai/shahi77-national-institute-of-technology-hamirpur/deep-learning-experiments</a><br>Synced 5 W&B file(s), 0 media file(s), 0 artifact file(s) and 0 other file(s)"
            ]
          },
          "metadata": {}
        },
        {
          "output_type": "display_data",
          "data": {
            "text/plain": [
              "<IPython.core.display.HTML object>"
            ],
            "text/html": [
              "Find logs at: <code>./wandb/run-20250206_141028-0mwgycw2/logs</code>"
            ]
          },
          "metadata": {}
        },
        {
          "output_type": "stream",
          "name": "stdout",
          "text": [
            "\n",
            "Training on MNIST with Activation: Mish\n"
          ]
        },
        {
          "output_type": "display_data",
          "data": {
            "text/plain": [
              "<IPython.core.display.HTML object>"
            ],
            "text/html": [
              "Changes to your `wandb` environment variables will be ignored because your `wandb` session has already started. For more information on how to modify your settings with `wandb.init()` arguments, please refer to <a href='https://wandb.me/wandb-init' target=\"_blank\">the W&B docs</a>."
            ]
          },
          "metadata": {}
        },
        {
          "output_type": "display_data",
          "data": {
            "text/plain": [
              "<IPython.core.display.HTML object>"
            ],
            "text/html": [
              "Ignoring project 'activation-functions-analysis' when running a sweep."
            ]
          },
          "metadata": {}
        },
        {
          "output_type": "display_data",
          "data": {
            "text/plain": [
              "<IPython.core.display.HTML object>"
            ],
            "text/html": [
              "Tracking run with wandb version 0.19.5"
            ]
          },
          "metadata": {}
        },
        {
          "output_type": "display_data",
          "data": {
            "text/plain": [
              "<IPython.core.display.HTML object>"
            ],
            "text/html": [
              "Run data is saved locally in <code>/content/wandb/run-20250206_141208-0mwgycw2</code>"
            ]
          },
          "metadata": {}
        },
        {
          "output_type": "display_data",
          "data": {
            "text/plain": [
              "<IPython.core.display.HTML object>"
            ],
            "text/html": [
              "Syncing run <strong><a href='https://wandb.ai/shahi77-national-institute-of-technology-hamirpur/deep-learning-experiments/runs/0mwgycw2' target=\"_blank\">MNIST-Mish</a></strong> to <a href='https://wandb.ai/shahi77-national-institute-of-technology-hamirpur/deep-learning-experiments' target=\"_blank\">Weights & Biases</a> (<a href='https://wandb.me/developer-guide' target=\"_blank\">docs</a>)<br>Sweep page: <a href='https://wandb.ai/shahi77-national-institute-of-technology-hamirpur/deep-learning-experiments/sweeps/ntjma6uk' target=\"_blank\">https://wandb.ai/shahi77-national-institute-of-technology-hamirpur/deep-learning-experiments/sweeps/ntjma6uk</a>"
            ]
          },
          "metadata": {}
        },
        {
          "output_type": "display_data",
          "data": {
            "text/plain": [
              "<IPython.core.display.HTML object>"
            ],
            "text/html": [
              " View project at <a href='https://wandb.ai/shahi77-national-institute-of-technology-hamirpur/deep-learning-experiments' target=\"_blank\">https://wandb.ai/shahi77-national-institute-of-technology-hamirpur/deep-learning-experiments</a>"
            ]
          },
          "metadata": {}
        },
        {
          "output_type": "display_data",
          "data": {
            "text/plain": [
              "<IPython.core.display.HTML object>"
            ],
            "text/html": [
              " View sweep at <a href='https://wandb.ai/shahi77-national-institute-of-technology-hamirpur/deep-learning-experiments/sweeps/ntjma6uk' target=\"_blank\">https://wandb.ai/shahi77-national-institute-of-technology-hamirpur/deep-learning-experiments/sweeps/ntjma6uk</a>"
            ]
          },
          "metadata": {}
        },
        {
          "output_type": "display_data",
          "data": {
            "text/plain": [
              "<IPython.core.display.HTML object>"
            ],
            "text/html": [
              " View run at <a href='https://wandb.ai/shahi77-national-institute-of-technology-hamirpur/deep-learning-experiments/runs/0mwgycw2' target=\"_blank\">https://wandb.ai/shahi77-national-institute-of-technology-hamirpur/deep-learning-experiments/runs/0mwgycw2</a>"
            ]
          },
          "metadata": {}
        },
        {
          "output_type": "stream",
          "name": "stdout",
          "text": [
            "Epoch [1/5], Loss: 312.7181, Accuracy: 0.8995\n",
            "Epoch [2/5], Loss: 145.5125, Accuracy: 0.9524\n",
            "Epoch [3/5], Loss: 104.6452, Accuracy: 0.9649\n",
            "Epoch [4/5], Loss: 83.5277, Accuracy: 0.9721\n",
            "Epoch [5/5], Loss: 70.5552, Accuracy: 0.9763\n"
          ]
        },
        {
          "output_type": "display_data",
          "data": {
            "text/plain": [
              "<IPython.core.display.HTML object>"
            ],
            "text/html": []
          },
          "metadata": {}
        },
        {
          "output_type": "display_data",
          "data": {
            "text/plain": [
              "<IPython.core.display.HTML object>"
            ],
            "text/html": [
              "<br>    <style><br>        .wandb-row {<br>            display: flex;<br>            flex-direction: row;<br>            flex-wrap: wrap;<br>            justify-content: flex-start;<br>            width: 100%;<br>        }<br>        .wandb-col {<br>            display: flex;<br>            flex-direction: column;<br>            flex-basis: 100%;<br>            flex: 1;<br>            padding: 10px;<br>        }<br>    </style><br><div class=\"wandb-row\"><div class=\"wandb-col\"><h3>Run history:</h3><br/><table class=\"wandb\"><tr><td>Accuracy</td><td>▁▆▇██</td></tr><tr><td>Epoch</td><td>▁▃▅▆█</td></tr><tr><td>Loss</td><td>█▃▂▁▁</td></tr></table><br/></div><div class=\"wandb-col\"><h3>Run summary:</h3><br/><table class=\"wandb\"><tr><td>Accuracy</td><td>0.97633</td></tr><tr><td>Activation Function</td><td>Mish</td></tr><tr><td>Dataset</td><td>MNIST</td></tr><tr><td>Epoch</td><td>5</td></tr><tr><td>Loss</td><td>0.07522</td></tr></table><br/></div></div>"
            ]
          },
          "metadata": {}
        },
        {
          "output_type": "display_data",
          "data": {
            "text/plain": [
              "<IPython.core.display.HTML object>"
            ],
            "text/html": [
              " View run <strong style=\"color:#cdcd00\">MNIST-Mish</strong> at: <a href='https://wandb.ai/shahi77-national-institute-of-technology-hamirpur/deep-learning-experiments/runs/0mwgycw2' target=\"_blank\">https://wandb.ai/shahi77-national-institute-of-technology-hamirpur/deep-learning-experiments/runs/0mwgycw2</a><br> View project at: <a href='https://wandb.ai/shahi77-national-institute-of-technology-hamirpur/deep-learning-experiments' target=\"_blank\">https://wandb.ai/shahi77-national-institute-of-technology-hamirpur/deep-learning-experiments</a><br>Synced 5 W&B file(s), 0 media file(s), 0 artifact file(s) and 0 other file(s)"
            ]
          },
          "metadata": {}
        },
        {
          "output_type": "display_data",
          "data": {
            "text/plain": [
              "<IPython.core.display.HTML object>"
            ],
            "text/html": [
              "Find logs at: <code>./wandb/run-20250206_141208-0mwgycw2/logs</code>"
            ]
          },
          "metadata": {}
        },
        {
          "output_type": "stream",
          "name": "stdout",
          "text": [
            "\n",
            "Training on MNIST with Activation: ReLU\n"
          ]
        },
        {
          "output_type": "display_data",
          "data": {
            "text/plain": [
              "<IPython.core.display.HTML object>"
            ],
            "text/html": [
              "Changes to your `wandb` environment variables will be ignored because your `wandb` session has already started. For more information on how to modify your settings with `wandb.init()` arguments, please refer to <a href='https://wandb.me/wandb-init' target=\"_blank\">the W&B docs</a>."
            ]
          },
          "metadata": {}
        },
        {
          "output_type": "display_data",
          "data": {
            "text/plain": [
              "<IPython.core.display.HTML object>"
            ],
            "text/html": [
              "Ignoring project 'activation-functions-analysis' when running a sweep."
            ]
          },
          "metadata": {}
        },
        {
          "output_type": "display_data",
          "data": {
            "text/plain": [
              "<IPython.core.display.HTML object>"
            ],
            "text/html": [
              "Tracking run with wandb version 0.19.5"
            ]
          },
          "metadata": {}
        },
        {
          "output_type": "display_data",
          "data": {
            "text/plain": [
              "<IPython.core.display.HTML object>"
            ],
            "text/html": [
              "Run data is saved locally in <code>/content/wandb/run-20250206_141349-0mwgycw2</code>"
            ]
          },
          "metadata": {}
        },
        {
          "output_type": "display_data",
          "data": {
            "text/plain": [
              "<IPython.core.display.HTML object>"
            ],
            "text/html": [
              "Syncing run <strong><a href='https://wandb.ai/shahi77-national-institute-of-technology-hamirpur/deep-learning-experiments/runs/0mwgycw2' target=\"_blank\">MNIST-ReLU</a></strong> to <a href='https://wandb.ai/shahi77-national-institute-of-technology-hamirpur/deep-learning-experiments' target=\"_blank\">Weights & Biases</a> (<a href='https://wandb.me/developer-guide' target=\"_blank\">docs</a>)<br>Sweep page: <a href='https://wandb.ai/shahi77-national-institute-of-technology-hamirpur/deep-learning-experiments/sweeps/ntjma6uk' target=\"_blank\">https://wandb.ai/shahi77-national-institute-of-technology-hamirpur/deep-learning-experiments/sweeps/ntjma6uk</a>"
            ]
          },
          "metadata": {}
        },
        {
          "output_type": "display_data",
          "data": {
            "text/plain": [
              "<IPython.core.display.HTML object>"
            ],
            "text/html": [
              " View project at <a href='https://wandb.ai/shahi77-national-institute-of-technology-hamirpur/deep-learning-experiments' target=\"_blank\">https://wandb.ai/shahi77-national-institute-of-technology-hamirpur/deep-learning-experiments</a>"
            ]
          },
          "metadata": {}
        },
        {
          "output_type": "display_data",
          "data": {
            "text/plain": [
              "<IPython.core.display.HTML object>"
            ],
            "text/html": [
              " View sweep at <a href='https://wandb.ai/shahi77-national-institute-of-technology-hamirpur/deep-learning-experiments/sweeps/ntjma6uk' target=\"_blank\">https://wandb.ai/shahi77-national-institute-of-technology-hamirpur/deep-learning-experiments/sweeps/ntjma6uk</a>"
            ]
          },
          "metadata": {}
        },
        {
          "output_type": "display_data",
          "data": {
            "text/plain": [
              "<IPython.core.display.HTML object>"
            ],
            "text/html": [
              " View run at <a href='https://wandb.ai/shahi77-national-institute-of-technology-hamirpur/deep-learning-experiments/runs/0mwgycw2' target=\"_blank\">https://wandb.ai/shahi77-national-institute-of-technology-hamirpur/deep-learning-experiments/runs/0mwgycw2</a>"
            ]
          },
          "metadata": {}
        },
        {
          "output_type": "stream",
          "name": "stdout",
          "text": [
            "Epoch [1/5], Loss: 387.1340, Accuracy: 0.8778\n",
            "Epoch [2/5], Loss: 187.3836, Accuracy: 0.9394\n",
            "Epoch [3/5], Loss: 136.0393, Accuracy: 0.9557\n",
            "Epoch [4/5], Loss: 108.2530, Accuracy: 0.9643\n",
            "Epoch [5/5], Loss: 93.2204, Accuracy: 0.9702\n"
          ]
        },
        {
          "output_type": "display_data",
          "data": {
            "text/plain": [
              "<IPython.core.display.HTML object>"
            ],
            "text/html": []
          },
          "metadata": {}
        },
        {
          "output_type": "display_data",
          "data": {
            "text/plain": [
              "<IPython.core.display.HTML object>"
            ],
            "text/html": [
              "<br>    <style><br>        .wandb-row {<br>            display: flex;<br>            flex-direction: row;<br>            flex-wrap: wrap;<br>            justify-content: flex-start;<br>            width: 100%;<br>        }<br>        .wandb-col {<br>            display: flex;<br>            flex-direction: column;<br>            flex-basis: 100%;<br>            flex: 1;<br>            padding: 10px;<br>        }<br>    </style><br><div class=\"wandb-row\"><div class=\"wandb-col\"><h3>Run history:</h3><br/><table class=\"wandb\"><tr><td>Accuracy</td><td>▁▆▇██</td></tr><tr><td>Epoch</td><td>▁▃▅▆█</td></tr><tr><td>Loss</td><td>█▃▂▁▁</td></tr></table><br/></div><div class=\"wandb-col\"><h3>Run summary:</h3><br/><table class=\"wandb\"><tr><td>Accuracy</td><td>0.97017</td></tr><tr><td>Activation Function</td><td>ReLU</td></tr><tr><td>Dataset</td><td>MNIST</td></tr><tr><td>Epoch</td><td>5</td></tr><tr><td>Loss</td><td>0.09938</td></tr></table><br/></div></div>"
            ]
          },
          "metadata": {}
        },
        {
          "output_type": "display_data",
          "data": {
            "text/plain": [
              "<IPython.core.display.HTML object>"
            ],
            "text/html": [
              " View run <strong style=\"color:#cdcd00\">MNIST-ReLU</strong> at: <a href='https://wandb.ai/shahi77-national-institute-of-technology-hamirpur/deep-learning-experiments/runs/0mwgycw2' target=\"_blank\">https://wandb.ai/shahi77-national-institute-of-technology-hamirpur/deep-learning-experiments/runs/0mwgycw2</a><br> View project at: <a href='https://wandb.ai/shahi77-national-institute-of-technology-hamirpur/deep-learning-experiments' target=\"_blank\">https://wandb.ai/shahi77-national-institute-of-technology-hamirpur/deep-learning-experiments</a><br>Synced 5 W&B file(s), 0 media file(s), 0 artifact file(s) and 0 other file(s)"
            ]
          },
          "metadata": {}
        },
        {
          "output_type": "display_data",
          "data": {
            "text/plain": [
              "<IPython.core.display.HTML object>"
            ],
            "text/html": [
              "Find logs at: <code>./wandb/run-20250206_141349-0mwgycw2/logs</code>"
            ]
          },
          "metadata": {}
        },
        {
          "output_type": "stream",
          "name": "stdout",
          "text": [
            "\n",
            "Training on MNIST with Activation: LeakyReLU\n"
          ]
        },
        {
          "output_type": "display_data",
          "data": {
            "text/plain": [
              "<IPython.core.display.HTML object>"
            ],
            "text/html": [
              "Changes to your `wandb` environment variables will be ignored because your `wandb` session has already started. For more information on how to modify your settings with `wandb.init()` arguments, please refer to <a href='https://wandb.me/wandb-init' target=\"_blank\">the W&B docs</a>."
            ]
          },
          "metadata": {}
        },
        {
          "output_type": "display_data",
          "data": {
            "text/plain": [
              "<IPython.core.display.HTML object>"
            ],
            "text/html": [
              "Ignoring project 'activation-functions-analysis' when running a sweep."
            ]
          },
          "metadata": {}
        },
        {
          "output_type": "display_data",
          "data": {
            "text/plain": [
              "<IPython.core.display.HTML object>"
            ],
            "text/html": [
              "Tracking run with wandb version 0.19.5"
            ]
          },
          "metadata": {}
        },
        {
          "output_type": "display_data",
          "data": {
            "text/plain": [
              "<IPython.core.display.HTML object>"
            ],
            "text/html": [
              "Run data is saved locally in <code>/content/wandb/run-20250206_141528-0mwgycw2</code>"
            ]
          },
          "metadata": {}
        },
        {
          "output_type": "display_data",
          "data": {
            "text/plain": [
              "<IPython.core.display.HTML object>"
            ],
            "text/html": [
              "Syncing run <strong><a href='https://wandb.ai/shahi77-national-institute-of-technology-hamirpur/deep-learning-experiments/runs/0mwgycw2' target=\"_blank\">MNIST-LeakyReLU</a></strong> to <a href='https://wandb.ai/shahi77-national-institute-of-technology-hamirpur/deep-learning-experiments' target=\"_blank\">Weights & Biases</a> (<a href='https://wandb.me/developer-guide' target=\"_blank\">docs</a>)<br>Sweep page: <a href='https://wandb.ai/shahi77-national-institute-of-technology-hamirpur/deep-learning-experiments/sweeps/ntjma6uk' target=\"_blank\">https://wandb.ai/shahi77-national-institute-of-technology-hamirpur/deep-learning-experiments/sweeps/ntjma6uk</a>"
            ]
          },
          "metadata": {}
        },
        {
          "output_type": "display_data",
          "data": {
            "text/plain": [
              "<IPython.core.display.HTML object>"
            ],
            "text/html": [
              " View project at <a href='https://wandb.ai/shahi77-national-institute-of-technology-hamirpur/deep-learning-experiments' target=\"_blank\">https://wandb.ai/shahi77-national-institute-of-technology-hamirpur/deep-learning-experiments</a>"
            ]
          },
          "metadata": {}
        },
        {
          "output_type": "display_data",
          "data": {
            "text/plain": [
              "<IPython.core.display.HTML object>"
            ],
            "text/html": [
              " View sweep at <a href='https://wandb.ai/shahi77-national-institute-of-technology-hamirpur/deep-learning-experiments/sweeps/ntjma6uk' target=\"_blank\">https://wandb.ai/shahi77-national-institute-of-technology-hamirpur/deep-learning-experiments/sweeps/ntjma6uk</a>"
            ]
          },
          "metadata": {}
        },
        {
          "output_type": "display_data",
          "data": {
            "text/plain": [
              "<IPython.core.display.HTML object>"
            ],
            "text/html": [
              " View run at <a href='https://wandb.ai/shahi77-national-institute-of-technology-hamirpur/deep-learning-experiments/runs/0mwgycw2' target=\"_blank\">https://wandb.ai/shahi77-national-institute-of-technology-hamirpur/deep-learning-experiments/runs/0mwgycw2</a>"
            ]
          },
          "metadata": {}
        },
        {
          "output_type": "stream",
          "name": "stdout",
          "text": [
            "Epoch [1/5], Loss: 355.2331, Accuracy: 0.8881\n",
            "Epoch [2/5], Loss: 170.7525, Accuracy: 0.9453\n",
            "Epoch [3/5], Loss: 124.0072, Accuracy: 0.9590\n",
            "Epoch [4/5], Loss: 103.4633, Accuracy: 0.9657\n",
            "Epoch [5/5], Loss: 85.7762, Accuracy: 0.9716\n"
          ]
        },
        {
          "output_type": "display_data",
          "data": {
            "text/plain": [
              "<IPython.core.display.HTML object>"
            ],
            "text/html": []
          },
          "metadata": {}
        },
        {
          "output_type": "display_data",
          "data": {
            "text/plain": [
              "<IPython.core.display.HTML object>"
            ],
            "text/html": [
              "<br>    <style><br>        .wandb-row {<br>            display: flex;<br>            flex-direction: row;<br>            flex-wrap: wrap;<br>            justify-content: flex-start;<br>            width: 100%;<br>        }<br>        .wandb-col {<br>            display: flex;<br>            flex-direction: column;<br>            flex-basis: 100%;<br>            flex: 1;<br>            padding: 10px;<br>        }<br>    </style><br><div class=\"wandb-row\"><div class=\"wandb-col\"><h3>Run history:</h3><br/><table class=\"wandb\"><tr><td>Accuracy</td><td>▁▆▇██</td></tr><tr><td>Epoch</td><td>▁▃▅▆█</td></tr><tr><td>Loss</td><td>█▃▂▁▁</td></tr></table><br/></div><div class=\"wandb-col\"><h3>Run summary:</h3><br/><table class=\"wandb\"><tr><td>Accuracy</td><td>0.97158</td></tr><tr><td>Activation Function</td><td>LeakyReLU</td></tr><tr><td>Dataset</td><td>MNIST</td></tr><tr><td>Epoch</td><td>5</td></tr><tr><td>Loss</td><td>0.09145</td></tr></table><br/></div></div>"
            ]
          },
          "metadata": {}
        },
        {
          "output_type": "display_data",
          "data": {
            "text/plain": [
              "<IPython.core.display.HTML object>"
            ],
            "text/html": [
              " View run <strong style=\"color:#cdcd00\">MNIST-LeakyReLU</strong> at: <a href='https://wandb.ai/shahi77-national-institute-of-technology-hamirpur/deep-learning-experiments/runs/0mwgycw2' target=\"_blank\">https://wandb.ai/shahi77-national-institute-of-technology-hamirpur/deep-learning-experiments/runs/0mwgycw2</a><br> View project at: <a href='https://wandb.ai/shahi77-national-institute-of-technology-hamirpur/deep-learning-experiments' target=\"_blank\">https://wandb.ai/shahi77-national-institute-of-technology-hamirpur/deep-learning-experiments</a><br>Synced 5 W&B file(s), 0 media file(s), 0 artifact file(s) and 0 other file(s)"
            ]
          },
          "metadata": {}
        },
        {
          "output_type": "display_data",
          "data": {
            "text/plain": [
              "<IPython.core.display.HTML object>"
            ],
            "text/html": [
              "Find logs at: <code>./wandb/run-20250206_141528-0mwgycw2/logs</code>"
            ]
          },
          "metadata": {}
        },
        {
          "output_type": "stream",
          "name": "stdout",
          "text": [
            "\n",
            "Training on MNIST with Activation: PReLU\n"
          ]
        },
        {
          "output_type": "display_data",
          "data": {
            "text/plain": [
              "<IPython.core.display.HTML object>"
            ],
            "text/html": [
              "Changes to your `wandb` environment variables will be ignored because your `wandb` session has already started. For more information on how to modify your settings with `wandb.init()` arguments, please refer to <a href='https://wandb.me/wandb-init' target=\"_blank\">the W&B docs</a>."
            ]
          },
          "metadata": {}
        },
        {
          "output_type": "display_data",
          "data": {
            "text/plain": [
              "<IPython.core.display.HTML object>"
            ],
            "text/html": [
              "Ignoring project 'activation-functions-analysis' when running a sweep."
            ]
          },
          "metadata": {}
        },
        {
          "output_type": "display_data",
          "data": {
            "text/plain": [
              "<IPython.core.display.HTML object>"
            ],
            "text/html": [
              "Tracking run with wandb version 0.19.5"
            ]
          },
          "metadata": {}
        },
        {
          "output_type": "display_data",
          "data": {
            "text/plain": [
              "<IPython.core.display.HTML object>"
            ],
            "text/html": [
              "Run data is saved locally in <code>/content/wandb/run-20250206_141704-0mwgycw2</code>"
            ]
          },
          "metadata": {}
        },
        {
          "output_type": "display_data",
          "data": {
            "text/plain": [
              "<IPython.core.display.HTML object>"
            ],
            "text/html": [
              "Syncing run <strong><a href='https://wandb.ai/shahi77-national-institute-of-technology-hamirpur/deep-learning-experiments/runs/0mwgycw2' target=\"_blank\">MNIST-PReLU</a></strong> to <a href='https://wandb.ai/shahi77-national-institute-of-technology-hamirpur/deep-learning-experiments' target=\"_blank\">Weights & Biases</a> (<a href='https://wandb.me/developer-guide' target=\"_blank\">docs</a>)<br>Sweep page: <a href='https://wandb.ai/shahi77-national-institute-of-technology-hamirpur/deep-learning-experiments/sweeps/ntjma6uk' target=\"_blank\">https://wandb.ai/shahi77-national-institute-of-technology-hamirpur/deep-learning-experiments/sweeps/ntjma6uk</a>"
            ]
          },
          "metadata": {}
        },
        {
          "output_type": "display_data",
          "data": {
            "text/plain": [
              "<IPython.core.display.HTML object>"
            ],
            "text/html": [
              " View project at <a href='https://wandb.ai/shahi77-national-institute-of-technology-hamirpur/deep-learning-experiments' target=\"_blank\">https://wandb.ai/shahi77-national-institute-of-technology-hamirpur/deep-learning-experiments</a>"
            ]
          },
          "metadata": {}
        },
        {
          "output_type": "display_data",
          "data": {
            "text/plain": [
              "<IPython.core.display.HTML object>"
            ],
            "text/html": [
              " View sweep at <a href='https://wandb.ai/shahi77-national-institute-of-technology-hamirpur/deep-learning-experiments/sweeps/ntjma6uk' target=\"_blank\">https://wandb.ai/shahi77-national-institute-of-technology-hamirpur/deep-learning-experiments/sweeps/ntjma6uk</a>"
            ]
          },
          "metadata": {}
        },
        {
          "output_type": "display_data",
          "data": {
            "text/plain": [
              "<IPython.core.display.HTML object>"
            ],
            "text/html": [
              " View run at <a href='https://wandb.ai/shahi77-national-institute-of-technology-hamirpur/deep-learning-experiments/runs/0mwgycw2' target=\"_blank\">https://wandb.ai/shahi77-national-institute-of-technology-hamirpur/deep-learning-experiments/runs/0mwgycw2</a>"
            ]
          },
          "metadata": {}
        },
        {
          "output_type": "stream",
          "name": "stdout",
          "text": [
            "Epoch [1/5], Loss: 343.3600, Accuracy: 0.8889\n",
            "Epoch [2/5], Loss: 154.6656, Accuracy: 0.9497\n",
            "Epoch [3/5], Loss: 109.2499, Accuracy: 0.9640\n",
            "Epoch [4/5], Loss: 85.9832, Accuracy: 0.9712\n",
            "Epoch [5/5], Loss: 75.7905, Accuracy: 0.9750\n"
          ]
        },
        {
          "output_type": "display_data",
          "data": {
            "text/plain": [
              "<IPython.core.display.HTML object>"
            ],
            "text/html": []
          },
          "metadata": {}
        },
        {
          "output_type": "display_data",
          "data": {
            "text/plain": [
              "<IPython.core.display.HTML object>"
            ],
            "text/html": [
              "<br>    <style><br>        .wandb-row {<br>            display: flex;<br>            flex-direction: row;<br>            flex-wrap: wrap;<br>            justify-content: flex-start;<br>            width: 100%;<br>        }<br>        .wandb-col {<br>            display: flex;<br>            flex-direction: column;<br>            flex-basis: 100%;<br>            flex: 1;<br>            padding: 10px;<br>        }<br>    </style><br><div class=\"wandb-row\"><div class=\"wandb-col\"><h3>Run history:</h3><br/><table class=\"wandb\"><tr><td>Accuracy</td><td>▁▆▇██</td></tr><tr><td>Epoch</td><td>▁▃▅▆█</td></tr><tr><td>Loss</td><td>█▃▂▁▁</td></tr></table><br/></div><div class=\"wandb-col\"><h3>Run summary:</h3><br/><table class=\"wandb\"><tr><td>Accuracy</td><td>0.97497</td></tr><tr><td>Activation Function</td><td>PReLU</td></tr><tr><td>Dataset</td><td>MNIST</td></tr><tr><td>Epoch</td><td>5</td></tr><tr><td>Loss</td><td>0.0808</td></tr></table><br/></div></div>"
            ]
          },
          "metadata": {}
        },
        {
          "output_type": "display_data",
          "data": {
            "text/plain": [
              "<IPython.core.display.HTML object>"
            ],
            "text/html": [
              " View run <strong style=\"color:#cdcd00\">MNIST-PReLU</strong> at: <a href='https://wandb.ai/shahi77-national-institute-of-technology-hamirpur/deep-learning-experiments/runs/0mwgycw2' target=\"_blank\">https://wandb.ai/shahi77-national-institute-of-technology-hamirpur/deep-learning-experiments/runs/0mwgycw2</a><br> View project at: <a href='https://wandb.ai/shahi77-national-institute-of-technology-hamirpur/deep-learning-experiments' target=\"_blank\">https://wandb.ai/shahi77-national-institute-of-technology-hamirpur/deep-learning-experiments</a><br>Synced 5 W&B file(s), 0 media file(s), 0 artifact file(s) and 0 other file(s)"
            ]
          },
          "metadata": {}
        },
        {
          "output_type": "display_data",
          "data": {
            "text/plain": [
              "<IPython.core.display.HTML object>"
            ],
            "text/html": [
              "Find logs at: <code>./wandb/run-20250206_141704-0mwgycw2/logs</code>"
            ]
          },
          "metadata": {}
        },
        {
          "output_type": "stream",
          "name": "stdout",
          "text": [
            "\n",
            "Training on MNIST with Activation: ELU\n"
          ]
        },
        {
          "output_type": "display_data",
          "data": {
            "text/plain": [
              "<IPython.core.display.HTML object>"
            ],
            "text/html": [
              "Changes to your `wandb` environment variables will be ignored because your `wandb` session has already started. For more information on how to modify your settings with `wandb.init()` arguments, please refer to <a href='https://wandb.me/wandb-init' target=\"_blank\">the W&B docs</a>."
            ]
          },
          "metadata": {}
        },
        {
          "output_type": "display_data",
          "data": {
            "text/plain": [
              "<IPython.core.display.HTML object>"
            ],
            "text/html": [
              "Ignoring project 'activation-functions-analysis' when running a sweep."
            ]
          },
          "metadata": {}
        },
        {
          "output_type": "display_data",
          "data": {
            "text/plain": [
              "<IPython.core.display.HTML object>"
            ],
            "text/html": [
              "Tracking run with wandb version 0.19.5"
            ]
          },
          "metadata": {}
        },
        {
          "output_type": "display_data",
          "data": {
            "text/plain": [
              "<IPython.core.display.HTML object>"
            ],
            "text/html": [
              "Run data is saved locally in <code>/content/wandb/run-20250206_141840-0mwgycw2</code>"
            ]
          },
          "metadata": {}
        },
        {
          "output_type": "display_data",
          "data": {
            "text/plain": [
              "<IPython.core.display.HTML object>"
            ],
            "text/html": [
              "Syncing run <strong><a href='https://wandb.ai/shahi77-national-institute-of-technology-hamirpur/deep-learning-experiments/runs/0mwgycw2' target=\"_blank\">MNIST-ELU</a></strong> to <a href='https://wandb.ai/shahi77-national-institute-of-technology-hamirpur/deep-learning-experiments' target=\"_blank\">Weights & Biases</a> (<a href='https://wandb.me/developer-guide' target=\"_blank\">docs</a>)<br>Sweep page: <a href='https://wandb.ai/shahi77-national-institute-of-technology-hamirpur/deep-learning-experiments/sweeps/ntjma6uk' target=\"_blank\">https://wandb.ai/shahi77-national-institute-of-technology-hamirpur/deep-learning-experiments/sweeps/ntjma6uk</a>"
            ]
          },
          "metadata": {}
        },
        {
          "output_type": "display_data",
          "data": {
            "text/plain": [
              "<IPython.core.display.HTML object>"
            ],
            "text/html": [
              " View project at <a href='https://wandb.ai/shahi77-national-institute-of-technology-hamirpur/deep-learning-experiments' target=\"_blank\">https://wandb.ai/shahi77-national-institute-of-technology-hamirpur/deep-learning-experiments</a>"
            ]
          },
          "metadata": {}
        },
        {
          "output_type": "display_data",
          "data": {
            "text/plain": [
              "<IPython.core.display.HTML object>"
            ],
            "text/html": [
              " View sweep at <a href='https://wandb.ai/shahi77-national-institute-of-technology-hamirpur/deep-learning-experiments/sweeps/ntjma6uk' target=\"_blank\">https://wandb.ai/shahi77-national-institute-of-technology-hamirpur/deep-learning-experiments/sweeps/ntjma6uk</a>"
            ]
          },
          "metadata": {}
        },
        {
          "output_type": "display_data",
          "data": {
            "text/plain": [
              "<IPython.core.display.HTML object>"
            ],
            "text/html": [
              " View run at <a href='https://wandb.ai/shahi77-national-institute-of-technology-hamirpur/deep-learning-experiments/runs/0mwgycw2' target=\"_blank\">https://wandb.ai/shahi77-national-institute-of-technology-hamirpur/deep-learning-experiments/runs/0mwgycw2</a>"
            ]
          },
          "metadata": {}
        },
        {
          "output_type": "stream",
          "name": "stdout",
          "text": [
            "Epoch [1/5], Loss: 320.1523, Accuracy: 0.8966\n",
            "Epoch [2/5], Loss: 144.9455, Accuracy: 0.9537\n",
            "Epoch [3/5], Loss: 105.6002, Accuracy: 0.9649\n",
            "Epoch [4/5], Loss: 84.4364, Accuracy: 0.9713\n",
            "Epoch [5/5], Loss: 70.5465, Accuracy: 0.9756\n"
          ]
        },
        {
          "output_type": "display_data",
          "data": {
            "text/plain": [
              "<IPython.core.display.HTML object>"
            ],
            "text/html": []
          },
          "metadata": {}
        },
        {
          "output_type": "display_data",
          "data": {
            "text/plain": [
              "<IPython.core.display.HTML object>"
            ],
            "text/html": [
              "<br>    <style><br>        .wandb-row {<br>            display: flex;<br>            flex-direction: row;<br>            flex-wrap: wrap;<br>            justify-content: flex-start;<br>            width: 100%;<br>        }<br>        .wandb-col {<br>            display: flex;<br>            flex-direction: column;<br>            flex-basis: 100%;<br>            flex: 1;<br>            padding: 10px;<br>        }<br>    </style><br><div class=\"wandb-row\"><div class=\"wandb-col\"><h3>Run history:</h3><br/><table class=\"wandb\"><tr><td>Accuracy</td><td>▁▆▇██</td></tr><tr><td>Epoch</td><td>▁▃▅▆█</td></tr><tr><td>Loss</td><td>█▃▂▁▁</td></tr></table><br/></div><div class=\"wandb-col\"><h3>Run summary:</h3><br/><table class=\"wandb\"><tr><td>Accuracy</td><td>0.97555</td></tr><tr><td>Activation Function</td><td>ELU</td></tr><tr><td>Dataset</td><td>MNIST</td></tr><tr><td>Epoch</td><td>5</td></tr><tr><td>Loss</td><td>0.07521</td></tr></table><br/></div></div>"
            ]
          },
          "metadata": {}
        },
        {
          "output_type": "display_data",
          "data": {
            "text/plain": [
              "<IPython.core.display.HTML object>"
            ],
            "text/html": [
              " View run <strong style=\"color:#cdcd00\">MNIST-ELU</strong> at: <a href='https://wandb.ai/shahi77-national-institute-of-technology-hamirpur/deep-learning-experiments/runs/0mwgycw2' target=\"_blank\">https://wandb.ai/shahi77-national-institute-of-technology-hamirpur/deep-learning-experiments/runs/0mwgycw2</a><br> View project at: <a href='https://wandb.ai/shahi77-national-institute-of-technology-hamirpur/deep-learning-experiments' target=\"_blank\">https://wandb.ai/shahi77-national-institute-of-technology-hamirpur/deep-learning-experiments</a><br>Synced 5 W&B file(s), 0 media file(s), 0 artifact file(s) and 0 other file(s)"
            ]
          },
          "metadata": {}
        },
        {
          "output_type": "display_data",
          "data": {
            "text/plain": [
              "<IPython.core.display.HTML object>"
            ],
            "text/html": [
              "Find logs at: <code>./wandb/run-20250206_141840-0mwgycw2/logs</code>"
            ]
          },
          "metadata": {}
        },
        {
          "output_type": "stream",
          "name": "stdout",
          "text": [
            "\n",
            "Training on MNIST with Activation: Softmax\n"
          ]
        },
        {
          "output_type": "display_data",
          "data": {
            "text/plain": [
              "<IPython.core.display.HTML object>"
            ],
            "text/html": [
              "Changes to your `wandb` environment variables will be ignored because your `wandb` session has already started. For more information on how to modify your settings with `wandb.init()` arguments, please refer to <a href='https://wandb.me/wandb-init' target=\"_blank\">the W&B docs</a>."
            ]
          },
          "metadata": {}
        },
        {
          "output_type": "display_data",
          "data": {
            "text/plain": [
              "<IPython.core.display.HTML object>"
            ],
            "text/html": [
              "Ignoring project 'activation-functions-analysis' when running a sweep."
            ]
          },
          "metadata": {}
        },
        {
          "output_type": "display_data",
          "data": {
            "text/plain": [
              "<IPython.core.display.HTML object>"
            ],
            "text/html": [
              "Tracking run with wandb version 0.19.5"
            ]
          },
          "metadata": {}
        },
        {
          "output_type": "display_data",
          "data": {
            "text/plain": [
              "<IPython.core.display.HTML object>"
            ],
            "text/html": [
              "Run data is saved locally in <code>/content/wandb/run-20250206_142014-0mwgycw2</code>"
            ]
          },
          "metadata": {}
        },
        {
          "output_type": "display_data",
          "data": {
            "text/plain": [
              "<IPython.core.display.HTML object>"
            ],
            "text/html": [
              "Syncing run <strong><a href='https://wandb.ai/shahi77-national-institute-of-technology-hamirpur/deep-learning-experiments/runs/0mwgycw2' target=\"_blank\">MNIST-Softmax</a></strong> to <a href='https://wandb.ai/shahi77-national-institute-of-technology-hamirpur/deep-learning-experiments' target=\"_blank\">Weights & Biases</a> (<a href='https://wandb.me/developer-guide' target=\"_blank\">docs</a>)<br>Sweep page: <a href='https://wandb.ai/shahi77-national-institute-of-technology-hamirpur/deep-learning-experiments/sweeps/ntjma6uk' target=\"_blank\">https://wandb.ai/shahi77-national-institute-of-technology-hamirpur/deep-learning-experiments/sweeps/ntjma6uk</a>"
            ]
          },
          "metadata": {}
        },
        {
          "output_type": "display_data",
          "data": {
            "text/plain": [
              "<IPython.core.display.HTML object>"
            ],
            "text/html": [
              " View project at <a href='https://wandb.ai/shahi77-national-institute-of-technology-hamirpur/deep-learning-experiments' target=\"_blank\">https://wandb.ai/shahi77-national-institute-of-technology-hamirpur/deep-learning-experiments</a>"
            ]
          },
          "metadata": {}
        },
        {
          "output_type": "display_data",
          "data": {
            "text/plain": [
              "<IPython.core.display.HTML object>"
            ],
            "text/html": [
              " View sweep at <a href='https://wandb.ai/shahi77-national-institute-of-technology-hamirpur/deep-learning-experiments/sweeps/ntjma6uk' target=\"_blank\">https://wandb.ai/shahi77-national-institute-of-technology-hamirpur/deep-learning-experiments/sweeps/ntjma6uk</a>"
            ]
          },
          "metadata": {}
        },
        {
          "output_type": "display_data",
          "data": {
            "text/plain": [
              "<IPython.core.display.HTML object>"
            ],
            "text/html": [
              " View run at <a href='https://wandb.ai/shahi77-national-institute-of-technology-hamirpur/deep-learning-experiments/runs/0mwgycw2' target=\"_blank\">https://wandb.ai/shahi77-national-institute-of-technology-hamirpur/deep-learning-experiments/runs/0mwgycw2</a>"
            ]
          },
          "metadata": {}
        },
        {
          "output_type": "stream",
          "name": "stdout",
          "text": [
            "Epoch [1/5], Loss: 1943.6080, Accuracy: 0.4765\n",
            "Epoch [2/5], Loss: 1086.7563, Accuracy: 0.6692\n",
            "Epoch [3/5], Loss: 776.2095, Accuracy: 0.6770\n",
            "Epoch [4/5], Loss: 710.8971, Accuracy: 0.6877\n",
            "Epoch [5/5], Loss: 681.1865, Accuracy: 0.7019\n"
          ]
        },
        {
          "output_type": "display_data",
          "data": {
            "text/plain": [
              "<IPython.core.display.HTML object>"
            ],
            "text/html": []
          },
          "metadata": {}
        },
        {
          "output_type": "display_data",
          "data": {
            "text/plain": [
              "<IPython.core.display.HTML object>"
            ],
            "text/html": [
              "<br>    <style><br>        .wandb-row {<br>            display: flex;<br>            flex-direction: row;<br>            flex-wrap: wrap;<br>            justify-content: flex-start;<br>            width: 100%;<br>        }<br>        .wandb-col {<br>            display: flex;<br>            flex-direction: column;<br>            flex-basis: 100%;<br>            flex: 1;<br>            padding: 10px;<br>        }<br>    </style><br><div class=\"wandb-row\"><div class=\"wandb-col\"><h3>Run history:</h3><br/><table class=\"wandb\"><tr><td>Accuracy</td><td>▁▇▇██</td></tr><tr><td>Epoch</td><td>▁▃▅▆█</td></tr><tr><td>Loss</td><td>█▃▂▁▁</td></tr></table><br/></div><div class=\"wandb-col\"><h3>Run summary:</h3><br/><table class=\"wandb\"><tr><td>Accuracy</td><td>0.70187</td></tr><tr><td>Activation Function</td><td>Softmax</td></tr><tr><td>Dataset</td><td>MNIST</td></tr><tr><td>Epoch</td><td>5</td></tr><tr><td>Loss</td><td>0.72621</td></tr></table><br/></div></div>"
            ]
          },
          "metadata": {}
        },
        {
          "output_type": "display_data",
          "data": {
            "text/plain": [
              "<IPython.core.display.HTML object>"
            ],
            "text/html": [
              " View run <strong style=\"color:#cdcd00\">MNIST-Softmax</strong> at: <a href='https://wandb.ai/shahi77-national-institute-of-technology-hamirpur/deep-learning-experiments/runs/0mwgycw2' target=\"_blank\">https://wandb.ai/shahi77-national-institute-of-technology-hamirpur/deep-learning-experiments/runs/0mwgycw2</a><br> View project at: <a href='https://wandb.ai/shahi77-national-institute-of-technology-hamirpur/deep-learning-experiments' target=\"_blank\">https://wandb.ai/shahi77-national-institute-of-technology-hamirpur/deep-learning-experiments</a><br>Synced 5 W&B file(s), 0 media file(s), 0 artifact file(s) and 0 other file(s)"
            ]
          },
          "metadata": {}
        },
        {
          "output_type": "display_data",
          "data": {
            "text/plain": [
              "<IPython.core.display.HTML object>"
            ],
            "text/html": [
              "Find logs at: <code>./wandb/run-20250206_142014-0mwgycw2/logs</code>"
            ]
          },
          "metadata": {}
        },
        {
          "output_type": "stream",
          "name": "stdout",
          "text": [
            "\n",
            "Training on MNIST with Activation: Softplus\n"
          ]
        },
        {
          "output_type": "display_data",
          "data": {
            "text/plain": [
              "<IPython.core.display.HTML object>"
            ],
            "text/html": [
              "Changes to your `wandb` environment variables will be ignored because your `wandb` session has already started. For more information on how to modify your settings with `wandb.init()` arguments, please refer to <a href='https://wandb.me/wandb-init' target=\"_blank\">the W&B docs</a>."
            ]
          },
          "metadata": {}
        },
        {
          "output_type": "display_data",
          "data": {
            "text/plain": [
              "<IPython.core.display.HTML object>"
            ],
            "text/html": [
              "Ignoring project 'activation-functions-analysis' when running a sweep."
            ]
          },
          "metadata": {}
        },
        {
          "output_type": "display_data",
          "data": {
            "text/plain": [
              "<IPython.core.display.HTML object>"
            ],
            "text/html": [
              "Tracking run with wandb version 0.19.5"
            ]
          },
          "metadata": {}
        },
        {
          "output_type": "display_data",
          "data": {
            "text/plain": [
              "<IPython.core.display.HTML object>"
            ],
            "text/html": [
              "Run data is saved locally in <code>/content/wandb/run-20250206_142150-0mwgycw2</code>"
            ]
          },
          "metadata": {}
        },
        {
          "output_type": "display_data",
          "data": {
            "text/plain": [
              "<IPython.core.display.HTML object>"
            ],
            "text/html": [
              "Syncing run <strong><a href='https://wandb.ai/shahi77-national-institute-of-technology-hamirpur/deep-learning-experiments/runs/0mwgycw2' target=\"_blank\">MNIST-Softplus</a></strong> to <a href='https://wandb.ai/shahi77-national-institute-of-technology-hamirpur/deep-learning-experiments' target=\"_blank\">Weights & Biases</a> (<a href='https://wandb.me/developer-guide' target=\"_blank\">docs</a>)<br>Sweep page: <a href='https://wandb.ai/shahi77-national-institute-of-technology-hamirpur/deep-learning-experiments/sweeps/ntjma6uk' target=\"_blank\">https://wandb.ai/shahi77-national-institute-of-technology-hamirpur/deep-learning-experiments/sweeps/ntjma6uk</a>"
            ]
          },
          "metadata": {}
        },
        {
          "output_type": "display_data",
          "data": {
            "text/plain": [
              "<IPython.core.display.HTML object>"
            ],
            "text/html": [
              " View project at <a href='https://wandb.ai/shahi77-national-institute-of-technology-hamirpur/deep-learning-experiments' target=\"_blank\">https://wandb.ai/shahi77-national-institute-of-technology-hamirpur/deep-learning-experiments</a>"
            ]
          },
          "metadata": {}
        },
        {
          "output_type": "display_data",
          "data": {
            "text/plain": [
              "<IPython.core.display.HTML object>"
            ],
            "text/html": [
              " View sweep at <a href='https://wandb.ai/shahi77-national-institute-of-technology-hamirpur/deep-learning-experiments/sweeps/ntjma6uk' target=\"_blank\">https://wandb.ai/shahi77-national-institute-of-technology-hamirpur/deep-learning-experiments/sweeps/ntjma6uk</a>"
            ]
          },
          "metadata": {}
        },
        {
          "output_type": "display_data",
          "data": {
            "text/plain": [
              "<IPython.core.display.HTML object>"
            ],
            "text/html": [
              " View run at <a href='https://wandb.ai/shahi77-national-institute-of-technology-hamirpur/deep-learning-experiments/runs/0mwgycw2' target=\"_blank\">https://wandb.ai/shahi77-national-institute-of-technology-hamirpur/deep-learning-experiments/runs/0mwgycw2</a>"
            ]
          },
          "metadata": {}
        },
        {
          "output_type": "stream",
          "name": "stdout",
          "text": [
            "Epoch [1/5], Loss: 365.0857, Accuracy: 0.8823\n",
            "Epoch [2/5], Loss: 171.3716, Accuracy: 0.9452\n",
            "Epoch [3/5], Loss: 121.9759, Accuracy: 0.9606\n",
            "Epoch [4/5], Loss: 96.1925, Accuracy: 0.9678\n",
            "Epoch [5/5], Loss: 79.8581, Accuracy: 0.9738\n"
          ]
        },
        {
          "output_type": "display_data",
          "data": {
            "text/plain": [
              "<IPython.core.display.HTML object>"
            ],
            "text/html": []
          },
          "metadata": {}
        },
        {
          "output_type": "display_data",
          "data": {
            "text/plain": [
              "<IPython.core.display.HTML object>"
            ],
            "text/html": [
              "<br>    <style><br>        .wandb-row {<br>            display: flex;<br>            flex-direction: row;<br>            flex-wrap: wrap;<br>            justify-content: flex-start;<br>            width: 100%;<br>        }<br>        .wandb-col {<br>            display: flex;<br>            flex-direction: column;<br>            flex-basis: 100%;<br>            flex: 1;<br>            padding: 10px;<br>        }<br>    </style><br><div class=\"wandb-row\"><div class=\"wandb-col\"><h3>Run history:</h3><br/><table class=\"wandb\"><tr><td>Accuracy</td><td>▁▆▇██</td></tr><tr><td>Epoch</td><td>▁▃▅▆█</td></tr><tr><td>Loss</td><td>█▃▂▁▁</td></tr></table><br/></div><div class=\"wandb-col\"><h3>Run summary:</h3><br/><table class=\"wandb\"><tr><td>Accuracy</td><td>0.97377</td></tr><tr><td>Activation Function</td><td>Softplus</td></tr><tr><td>Dataset</td><td>MNIST</td></tr><tr><td>Epoch</td><td>5</td></tr><tr><td>Loss</td><td>0.08514</td></tr></table><br/></div></div>"
            ]
          },
          "metadata": {}
        },
        {
          "output_type": "display_data",
          "data": {
            "text/plain": [
              "<IPython.core.display.HTML object>"
            ],
            "text/html": [
              " View run <strong style=\"color:#cdcd00\">MNIST-Softplus</strong> at: <a href='https://wandb.ai/shahi77-national-institute-of-technology-hamirpur/deep-learning-experiments/runs/0mwgycw2' target=\"_blank\">https://wandb.ai/shahi77-national-institute-of-technology-hamirpur/deep-learning-experiments/runs/0mwgycw2</a><br> View project at: <a href='https://wandb.ai/shahi77-national-institute-of-technology-hamirpur/deep-learning-experiments' target=\"_blank\">https://wandb.ai/shahi77-national-institute-of-technology-hamirpur/deep-learning-experiments</a><br>Synced 5 W&B file(s), 0 media file(s), 0 artifact file(s) and 0 other file(s)"
            ]
          },
          "metadata": {}
        },
        {
          "output_type": "display_data",
          "data": {
            "text/plain": [
              "<IPython.core.display.HTML object>"
            ],
            "text/html": [
              "Find logs at: <code>./wandb/run-20250206_142150-0mwgycw2/logs</code>"
            ]
          },
          "metadata": {}
        },
        {
          "output_type": "stream",
          "name": "stdout",
          "text": [
            "\n",
            "Training on MNIST with Activation: Swish\n"
          ]
        },
        {
          "output_type": "display_data",
          "data": {
            "text/plain": [
              "<IPython.core.display.HTML object>"
            ],
            "text/html": [
              "Changes to your `wandb` environment variables will be ignored because your `wandb` session has already started. For more information on how to modify your settings with `wandb.init()` arguments, please refer to <a href='https://wandb.me/wandb-init' target=\"_blank\">the W&B docs</a>."
            ]
          },
          "metadata": {}
        },
        {
          "output_type": "display_data",
          "data": {
            "text/plain": [
              "<IPython.core.display.HTML object>"
            ],
            "text/html": [
              "Ignoring project 'activation-functions-analysis' when running a sweep."
            ]
          },
          "metadata": {}
        },
        {
          "output_type": "display_data",
          "data": {
            "text/plain": [
              "<IPython.core.display.HTML object>"
            ],
            "text/html": [
              "Tracking run with wandb version 0.19.5"
            ]
          },
          "metadata": {}
        },
        {
          "output_type": "display_data",
          "data": {
            "text/plain": [
              "<IPython.core.display.HTML object>"
            ],
            "text/html": [
              "Run data is saved locally in <code>/content/wandb/run-20250206_142328-0mwgycw2</code>"
            ]
          },
          "metadata": {}
        },
        {
          "output_type": "display_data",
          "data": {
            "text/plain": [
              "<IPython.core.display.HTML object>"
            ],
            "text/html": [
              "Syncing run <strong><a href='https://wandb.ai/shahi77-national-institute-of-technology-hamirpur/deep-learning-experiments/runs/0mwgycw2' target=\"_blank\">MNIST-Swish</a></strong> to <a href='https://wandb.ai/shahi77-national-institute-of-technology-hamirpur/deep-learning-experiments' target=\"_blank\">Weights & Biases</a> (<a href='https://wandb.me/developer-guide' target=\"_blank\">docs</a>)<br>Sweep page: <a href='https://wandb.ai/shahi77-national-institute-of-technology-hamirpur/deep-learning-experiments/sweeps/ntjma6uk' target=\"_blank\">https://wandb.ai/shahi77-national-institute-of-technology-hamirpur/deep-learning-experiments/sweeps/ntjma6uk</a>"
            ]
          },
          "metadata": {}
        },
        {
          "output_type": "display_data",
          "data": {
            "text/plain": [
              "<IPython.core.display.HTML object>"
            ],
            "text/html": [
              " View project at <a href='https://wandb.ai/shahi77-national-institute-of-technology-hamirpur/deep-learning-experiments' target=\"_blank\">https://wandb.ai/shahi77-national-institute-of-technology-hamirpur/deep-learning-experiments</a>"
            ]
          },
          "metadata": {}
        },
        {
          "output_type": "display_data",
          "data": {
            "text/plain": [
              "<IPython.core.display.HTML object>"
            ],
            "text/html": [
              " View sweep at <a href='https://wandb.ai/shahi77-national-institute-of-technology-hamirpur/deep-learning-experiments/sweeps/ntjma6uk' target=\"_blank\">https://wandb.ai/shahi77-national-institute-of-technology-hamirpur/deep-learning-experiments/sweeps/ntjma6uk</a>"
            ]
          },
          "metadata": {}
        },
        {
          "output_type": "display_data",
          "data": {
            "text/plain": [
              "<IPython.core.display.HTML object>"
            ],
            "text/html": [
              " View run at <a href='https://wandb.ai/shahi77-national-institute-of-technology-hamirpur/deep-learning-experiments/runs/0mwgycw2' target=\"_blank\">https://wandb.ai/shahi77-national-institute-of-technology-hamirpur/deep-learning-experiments/runs/0mwgycw2</a>"
            ]
          },
          "metadata": {}
        },
        {
          "output_type": "stream",
          "name": "stdout",
          "text": [
            "Epoch [1/5], Loss: 319.9715, Accuracy: 0.8963\n",
            "Epoch [2/5], Loss: 145.1038, Accuracy: 0.9529\n",
            "Epoch [3/5], Loss: 106.6923, Accuracy: 0.9645\n",
            "Epoch [4/5], Loss: 87.1047, Accuracy: 0.9708\n",
            "Epoch [5/5], Loss: 73.9478, Accuracy: 0.9748\n"
          ]
        },
        {
          "output_type": "display_data",
          "data": {
            "text/plain": [
              "<IPython.core.display.HTML object>"
            ],
            "text/html": []
          },
          "metadata": {}
        },
        {
          "output_type": "display_data",
          "data": {
            "text/plain": [
              "<IPython.core.display.HTML object>"
            ],
            "text/html": [
              "<br>    <style><br>        .wandb-row {<br>            display: flex;<br>            flex-direction: row;<br>            flex-wrap: wrap;<br>            justify-content: flex-start;<br>            width: 100%;<br>        }<br>        .wandb-col {<br>            display: flex;<br>            flex-direction: column;<br>            flex-basis: 100%;<br>            flex: 1;<br>            padding: 10px;<br>        }<br>    </style><br><div class=\"wandb-row\"><div class=\"wandb-col\"><h3>Run history:</h3><br/><table class=\"wandb\"><tr><td>Accuracy</td><td>▁▆▇██</td></tr><tr><td>Epoch</td><td>▁▃▅▆█</td></tr><tr><td>Loss</td><td>█▃▂▁▁</td></tr></table><br/></div><div class=\"wandb-col\"><h3>Run summary:</h3><br/><table class=\"wandb\"><tr><td>Accuracy</td><td>0.97475</td></tr><tr><td>Activation Function</td><td>Swish</td></tr><tr><td>Dataset</td><td>MNIST</td></tr><tr><td>Epoch</td><td>5</td></tr><tr><td>Loss</td><td>0.07884</td></tr></table><br/></div></div>"
            ]
          },
          "metadata": {}
        },
        {
          "output_type": "display_data",
          "data": {
            "text/plain": [
              "<IPython.core.display.HTML object>"
            ],
            "text/html": [
              " View run <strong style=\"color:#cdcd00\">MNIST-Swish</strong> at: <a href='https://wandb.ai/shahi77-national-institute-of-technology-hamirpur/deep-learning-experiments/runs/0mwgycw2' target=\"_blank\">https://wandb.ai/shahi77-national-institute-of-technology-hamirpur/deep-learning-experiments/runs/0mwgycw2</a><br> View project at: <a href='https://wandb.ai/shahi77-national-institute-of-technology-hamirpur/deep-learning-experiments' target=\"_blank\">https://wandb.ai/shahi77-national-institute-of-technology-hamirpur/deep-learning-experiments</a><br>Synced 5 W&B file(s), 0 media file(s), 0 artifact file(s) and 0 other file(s)"
            ]
          },
          "metadata": {}
        },
        {
          "output_type": "display_data",
          "data": {
            "text/plain": [
              "<IPython.core.display.HTML object>"
            ],
            "text/html": [
              "Find logs at: <code>./wandb/run-20250206_142328-0mwgycw2/logs</code>"
            ]
          },
          "metadata": {}
        },
        {
          "output_type": "stream",
          "name": "stdout",
          "text": [
            "\n",
            "Training on MNIST with Activation: ESwish\n"
          ]
        },
        {
          "output_type": "display_data",
          "data": {
            "text/plain": [
              "<IPython.core.display.HTML object>"
            ],
            "text/html": [
              "Changes to your `wandb` environment variables will be ignored because your `wandb` session has already started. For more information on how to modify your settings with `wandb.init()` arguments, please refer to <a href='https://wandb.me/wandb-init' target=\"_blank\">the W&B docs</a>."
            ]
          },
          "metadata": {}
        },
        {
          "output_type": "display_data",
          "data": {
            "text/plain": [
              "<IPython.core.display.HTML object>"
            ],
            "text/html": [
              "Ignoring project 'activation-functions-analysis' when running a sweep."
            ]
          },
          "metadata": {}
        },
        {
          "output_type": "display_data",
          "data": {
            "text/plain": [
              "<IPython.core.display.HTML object>"
            ],
            "text/html": [
              "Tracking run with wandb version 0.19.5"
            ]
          },
          "metadata": {}
        },
        {
          "output_type": "display_data",
          "data": {
            "text/plain": [
              "<IPython.core.display.HTML object>"
            ],
            "text/html": [
              "Run data is saved locally in <code>/content/wandb/run-20250206_142503-0mwgycw2</code>"
            ]
          },
          "metadata": {}
        },
        {
          "output_type": "display_data",
          "data": {
            "text/plain": [
              "<IPython.core.display.HTML object>"
            ],
            "text/html": [
              "Syncing run <strong><a href='https://wandb.ai/shahi77-national-institute-of-technology-hamirpur/deep-learning-experiments/runs/0mwgycw2' target=\"_blank\">MNIST-ESwish</a></strong> to <a href='https://wandb.ai/shahi77-national-institute-of-technology-hamirpur/deep-learning-experiments' target=\"_blank\">Weights & Biases</a> (<a href='https://wandb.me/developer-guide' target=\"_blank\">docs</a>)<br>Sweep page: <a href='https://wandb.ai/shahi77-national-institute-of-technology-hamirpur/deep-learning-experiments/sweeps/ntjma6uk' target=\"_blank\">https://wandb.ai/shahi77-national-institute-of-technology-hamirpur/deep-learning-experiments/sweeps/ntjma6uk</a>"
            ]
          },
          "metadata": {}
        },
        {
          "output_type": "display_data",
          "data": {
            "text/plain": [
              "<IPython.core.display.HTML object>"
            ],
            "text/html": [
              " View project at <a href='https://wandb.ai/shahi77-national-institute-of-technology-hamirpur/deep-learning-experiments' target=\"_blank\">https://wandb.ai/shahi77-national-institute-of-technology-hamirpur/deep-learning-experiments</a>"
            ]
          },
          "metadata": {}
        },
        {
          "output_type": "display_data",
          "data": {
            "text/plain": [
              "<IPython.core.display.HTML object>"
            ],
            "text/html": [
              " View sweep at <a href='https://wandb.ai/shahi77-national-institute-of-technology-hamirpur/deep-learning-experiments/sweeps/ntjma6uk' target=\"_blank\">https://wandb.ai/shahi77-national-institute-of-technology-hamirpur/deep-learning-experiments/sweeps/ntjma6uk</a>"
            ]
          },
          "metadata": {}
        },
        {
          "output_type": "display_data",
          "data": {
            "text/plain": [
              "<IPython.core.display.HTML object>"
            ],
            "text/html": [
              " View run at <a href='https://wandb.ai/shahi77-national-institute-of-technology-hamirpur/deep-learning-experiments/runs/0mwgycw2' target=\"_blank\">https://wandb.ai/shahi77-national-institute-of-technology-hamirpur/deep-learning-experiments/runs/0mwgycw2</a>"
            ]
          },
          "metadata": {}
        },
        {
          "output_type": "stream",
          "name": "stdout",
          "text": [
            "Epoch [1/5], Loss: 283.1737, Accuracy: 0.9080\n",
            "Epoch [2/5], Loss: 129.1032, Accuracy: 0.9571\n",
            "Epoch [3/5], Loss: 96.7734, Accuracy: 0.9679\n",
            "Epoch [4/5], Loss: 81.1658, Accuracy: 0.9726\n",
            "Epoch [5/5], Loss: 70.7145, Accuracy: 0.9757\n"
          ]
        },
        {
          "output_type": "display_data",
          "data": {
            "text/plain": [
              "<IPython.core.display.HTML object>"
            ],
            "text/html": []
          },
          "metadata": {}
        },
        {
          "output_type": "display_data",
          "data": {
            "text/plain": [
              "<IPython.core.display.HTML object>"
            ],
            "text/html": [
              "<br>    <style><br>        .wandb-row {<br>            display: flex;<br>            flex-direction: row;<br>            flex-wrap: wrap;<br>            justify-content: flex-start;<br>            width: 100%;<br>        }<br>        .wandb-col {<br>            display: flex;<br>            flex-direction: column;<br>            flex-basis: 100%;<br>            flex: 1;<br>            padding: 10px;<br>        }<br>    </style><br><div class=\"wandb-row\"><div class=\"wandb-col\"><h3>Run history:</h3><br/><table class=\"wandb\"><tr><td>Accuracy</td><td>▁▆▇██</td></tr><tr><td>Epoch</td><td>▁▃▅▆█</td></tr><tr><td>Loss</td><td>█▃▂▁▁</td></tr></table><br/></div><div class=\"wandb-col\"><h3>Run summary:</h3><br/><table class=\"wandb\"><tr><td>Accuracy</td><td>0.9757</td></tr><tr><td>Activation Function</td><td>ESwish</td></tr><tr><td>Dataset</td><td>MNIST</td></tr><tr><td>Epoch</td><td>5</td></tr><tr><td>Loss</td><td>0.07539</td></tr></table><br/></div></div>"
            ]
          },
          "metadata": {}
        },
        {
          "output_type": "display_data",
          "data": {
            "text/plain": [
              "<IPython.core.display.HTML object>"
            ],
            "text/html": [
              " View run <strong style=\"color:#cdcd00\">MNIST-ESwish</strong> at: <a href='https://wandb.ai/shahi77-national-institute-of-technology-hamirpur/deep-learning-experiments/runs/0mwgycw2' target=\"_blank\">https://wandb.ai/shahi77-national-institute-of-technology-hamirpur/deep-learning-experiments/runs/0mwgycw2</a><br> View project at: <a href='https://wandb.ai/shahi77-national-institute-of-technology-hamirpur/deep-learning-experiments' target=\"_blank\">https://wandb.ai/shahi77-national-institute-of-technology-hamirpur/deep-learning-experiments</a><br>Synced 5 W&B file(s), 0 media file(s), 0 artifact file(s) and 0 other file(s)"
            ]
          },
          "metadata": {}
        },
        {
          "output_type": "display_data",
          "data": {
            "text/plain": [
              "<IPython.core.display.HTML object>"
            ],
            "text/html": [
              "Find logs at: <code>./wandb/run-20250206_142503-0mwgycw2/logs</code>"
            ]
          },
          "metadata": {}
        },
        {
          "output_type": "stream",
          "name": "stdout",
          "text": [
            "\n",
            "Training on MNIST with Activation: GELU\n"
          ]
        },
        {
          "output_type": "display_data",
          "data": {
            "text/plain": [
              "<IPython.core.display.HTML object>"
            ],
            "text/html": [
              "Changes to your `wandb` environment variables will be ignored because your `wandb` session has already started. For more information on how to modify your settings with `wandb.init()` arguments, please refer to <a href='https://wandb.me/wandb-init' target=\"_blank\">the W&B docs</a>."
            ]
          },
          "metadata": {}
        },
        {
          "output_type": "display_data",
          "data": {
            "text/plain": [
              "<IPython.core.display.HTML object>"
            ],
            "text/html": [
              "Ignoring project 'activation-functions-analysis' when running a sweep."
            ]
          },
          "metadata": {}
        },
        {
          "output_type": "display_data",
          "data": {
            "text/plain": [
              "<IPython.core.display.HTML object>"
            ],
            "text/html": [
              "Tracking run with wandb version 0.19.5"
            ]
          },
          "metadata": {}
        },
        {
          "output_type": "display_data",
          "data": {
            "text/plain": [
              "<IPython.core.display.HTML object>"
            ],
            "text/html": [
              "Run data is saved locally in <code>/content/wandb/run-20250206_142641-0mwgycw2</code>"
            ]
          },
          "metadata": {}
        },
        {
          "output_type": "display_data",
          "data": {
            "text/plain": [
              "<IPython.core.display.HTML object>"
            ],
            "text/html": [
              "Syncing run <strong><a href='https://wandb.ai/shahi77-national-institute-of-technology-hamirpur/deep-learning-experiments/runs/0mwgycw2' target=\"_blank\">MNIST-GELU</a></strong> to <a href='https://wandb.ai/shahi77-national-institute-of-technology-hamirpur/deep-learning-experiments' target=\"_blank\">Weights & Biases</a> (<a href='https://wandb.me/developer-guide' target=\"_blank\">docs</a>)<br>Sweep page: <a href='https://wandb.ai/shahi77-national-institute-of-technology-hamirpur/deep-learning-experiments/sweeps/ntjma6uk' target=\"_blank\">https://wandb.ai/shahi77-national-institute-of-technology-hamirpur/deep-learning-experiments/sweeps/ntjma6uk</a>"
            ]
          },
          "metadata": {}
        },
        {
          "output_type": "display_data",
          "data": {
            "text/plain": [
              "<IPython.core.display.HTML object>"
            ],
            "text/html": [
              " View project at <a href='https://wandb.ai/shahi77-national-institute-of-technology-hamirpur/deep-learning-experiments' target=\"_blank\">https://wandb.ai/shahi77-national-institute-of-technology-hamirpur/deep-learning-experiments</a>"
            ]
          },
          "metadata": {}
        },
        {
          "output_type": "display_data",
          "data": {
            "text/plain": [
              "<IPython.core.display.HTML object>"
            ],
            "text/html": [
              " View sweep at <a href='https://wandb.ai/shahi77-national-institute-of-technology-hamirpur/deep-learning-experiments/sweeps/ntjma6uk' target=\"_blank\">https://wandb.ai/shahi77-national-institute-of-technology-hamirpur/deep-learning-experiments/sweeps/ntjma6uk</a>"
            ]
          },
          "metadata": {}
        },
        {
          "output_type": "display_data",
          "data": {
            "text/plain": [
              "<IPython.core.display.HTML object>"
            ],
            "text/html": [
              " View run at <a href='https://wandb.ai/shahi77-national-institute-of-technology-hamirpur/deep-learning-experiments/runs/0mwgycw2' target=\"_blank\">https://wandb.ai/shahi77-national-institute-of-technology-hamirpur/deep-learning-experiments/runs/0mwgycw2</a>"
            ]
          },
          "metadata": {}
        },
        {
          "output_type": "stream",
          "name": "stdout",
          "text": [
            "Epoch [1/5], Loss: 319.8729, Accuracy: 0.8959\n",
            "Epoch [2/5], Loss: 147.5188, Accuracy: 0.9513\n",
            "Epoch [3/5], Loss: 109.5371, Accuracy: 0.9640\n",
            "Epoch [4/5], Loss: 89.8606, Accuracy: 0.9694\n",
            "Epoch [5/5], Loss: 77.6905, Accuracy: 0.9738\n"
          ]
        },
        {
          "output_type": "display_data",
          "data": {
            "text/plain": [
              "<IPython.core.display.HTML object>"
            ],
            "text/html": []
          },
          "metadata": {}
        },
        {
          "output_type": "display_data",
          "data": {
            "text/plain": [
              "<IPython.core.display.HTML object>"
            ],
            "text/html": [
              "<br>    <style><br>        .wandb-row {<br>            display: flex;<br>            flex-direction: row;<br>            flex-wrap: wrap;<br>            justify-content: flex-start;<br>            width: 100%;<br>        }<br>        .wandb-col {<br>            display: flex;<br>            flex-direction: column;<br>            flex-basis: 100%;<br>            flex: 1;<br>            padding: 10px;<br>        }<br>    </style><br><div class=\"wandb-row\"><div class=\"wandb-col\"><h3>Run history:</h3><br/><table class=\"wandb\"><tr><td>Accuracy</td><td>▁▆▇██</td></tr><tr><td>Epoch</td><td>▁▃▅▆█</td></tr><tr><td>Loss</td><td>█▃▂▁▁</td></tr></table><br/></div><div class=\"wandb-col\"><h3>Run summary:</h3><br/><table class=\"wandb\"><tr><td>Accuracy</td><td>0.97375</td></tr><tr><td>Activation Function</td><td>GELU</td></tr><tr><td>Dataset</td><td>MNIST</td></tr><tr><td>Epoch</td><td>5</td></tr><tr><td>Loss</td><td>0.08283</td></tr></table><br/></div></div>"
            ]
          },
          "metadata": {}
        },
        {
          "output_type": "display_data",
          "data": {
            "text/plain": [
              "<IPython.core.display.HTML object>"
            ],
            "text/html": [
              " View run <strong style=\"color:#cdcd00\">MNIST-GELU</strong> at: <a href='https://wandb.ai/shahi77-national-institute-of-technology-hamirpur/deep-learning-experiments/runs/0mwgycw2' target=\"_blank\">https://wandb.ai/shahi77-national-institute-of-technology-hamirpur/deep-learning-experiments/runs/0mwgycw2</a><br> View project at: <a href='https://wandb.ai/shahi77-national-institute-of-technology-hamirpur/deep-learning-experiments' target=\"_blank\">https://wandb.ai/shahi77-national-institute-of-technology-hamirpur/deep-learning-experiments</a><br>Synced 5 W&B file(s), 0 media file(s), 0 artifact file(s) and 0 other file(s)"
            ]
          },
          "metadata": {}
        },
        {
          "output_type": "display_data",
          "data": {
            "text/plain": [
              "<IPython.core.display.HTML object>"
            ],
            "text/html": [
              "Find logs at: <code>./wandb/run-20250206_142641-0mwgycw2/logs</code>"
            ]
          },
          "metadata": {}
        },
        {
          "output_type": "stream",
          "name": "stdout",
          "text": [
            "\n",
            "Training on MNIST with Activation: SELU\n"
          ]
        },
        {
          "output_type": "display_data",
          "data": {
            "text/plain": [
              "<IPython.core.display.HTML object>"
            ],
            "text/html": [
              "Changes to your `wandb` environment variables will be ignored because your `wandb` session has already started. For more information on how to modify your settings with `wandb.init()` arguments, please refer to <a href='https://wandb.me/wandb-init' target=\"_blank\">the W&B docs</a>."
            ]
          },
          "metadata": {}
        },
        {
          "output_type": "display_data",
          "data": {
            "text/plain": [
              "<IPython.core.display.HTML object>"
            ],
            "text/html": [
              "Ignoring project 'activation-functions-analysis' when running a sweep."
            ]
          },
          "metadata": {}
        },
        {
          "output_type": "display_data",
          "data": {
            "text/plain": [
              "<IPython.core.display.HTML object>"
            ],
            "text/html": [
              "Tracking run with wandb version 0.19.5"
            ]
          },
          "metadata": {}
        },
        {
          "output_type": "display_data",
          "data": {
            "text/plain": [
              "<IPython.core.display.HTML object>"
            ],
            "text/html": [
              "Run data is saved locally in <code>/content/wandb/run-20250206_142818-0mwgycw2</code>"
            ]
          },
          "metadata": {}
        },
        {
          "output_type": "display_data",
          "data": {
            "text/plain": [
              "<IPython.core.display.HTML object>"
            ],
            "text/html": [
              "Syncing run <strong><a href='https://wandb.ai/shahi77-national-institute-of-technology-hamirpur/deep-learning-experiments/runs/0mwgycw2' target=\"_blank\">MNIST-SELU</a></strong> to <a href='https://wandb.ai/shahi77-national-institute-of-technology-hamirpur/deep-learning-experiments' target=\"_blank\">Weights & Biases</a> (<a href='https://wandb.me/developer-guide' target=\"_blank\">docs</a>)<br>Sweep page: <a href='https://wandb.ai/shahi77-national-institute-of-technology-hamirpur/deep-learning-experiments/sweeps/ntjma6uk' target=\"_blank\">https://wandb.ai/shahi77-national-institute-of-technology-hamirpur/deep-learning-experiments/sweeps/ntjma6uk</a>"
            ]
          },
          "metadata": {}
        },
        {
          "output_type": "display_data",
          "data": {
            "text/plain": [
              "<IPython.core.display.HTML object>"
            ],
            "text/html": [
              " View project at <a href='https://wandb.ai/shahi77-national-institute-of-technology-hamirpur/deep-learning-experiments' target=\"_blank\">https://wandb.ai/shahi77-national-institute-of-technology-hamirpur/deep-learning-experiments</a>"
            ]
          },
          "metadata": {}
        },
        {
          "output_type": "display_data",
          "data": {
            "text/plain": [
              "<IPython.core.display.HTML object>"
            ],
            "text/html": [
              " View sweep at <a href='https://wandb.ai/shahi77-national-institute-of-technology-hamirpur/deep-learning-experiments/sweeps/ntjma6uk' target=\"_blank\">https://wandb.ai/shahi77-national-institute-of-technology-hamirpur/deep-learning-experiments/sweeps/ntjma6uk</a>"
            ]
          },
          "metadata": {}
        },
        {
          "output_type": "display_data",
          "data": {
            "text/plain": [
              "<IPython.core.display.HTML object>"
            ],
            "text/html": [
              " View run at <a href='https://wandb.ai/shahi77-national-institute-of-technology-hamirpur/deep-learning-experiments/runs/0mwgycw2' target=\"_blank\">https://wandb.ai/shahi77-national-institute-of-technology-hamirpur/deep-learning-experiments/runs/0mwgycw2</a>"
            ]
          },
          "metadata": {}
        },
        {
          "output_type": "stream",
          "name": "stdout",
          "text": [
            "Epoch [1/5], Loss: 311.0902, Accuracy: 0.9009\n",
            "Epoch [2/5], Loss: 145.2207, Accuracy: 0.9529\n",
            "Epoch [3/5], Loss: 106.2486, Accuracy: 0.9653\n",
            "Epoch [4/5], Loss: 85.4250, Accuracy: 0.9715\n",
            "Epoch [5/5], Loss: 72.9903, Accuracy: 0.9755\n"
          ]
        },
        {
          "output_type": "display_data",
          "data": {
            "text/plain": [
              "<IPython.core.display.HTML object>"
            ],
            "text/html": []
          },
          "metadata": {}
        },
        {
          "output_type": "display_data",
          "data": {
            "text/plain": [
              "<IPython.core.display.HTML object>"
            ],
            "text/html": [
              "<br>    <style><br>        .wandb-row {<br>            display: flex;<br>            flex-direction: row;<br>            flex-wrap: wrap;<br>            justify-content: flex-start;<br>            width: 100%;<br>        }<br>        .wandb-col {<br>            display: flex;<br>            flex-direction: column;<br>            flex-basis: 100%;<br>            flex: 1;<br>            padding: 10px;<br>        }<br>    </style><br><div class=\"wandb-row\"><div class=\"wandb-col\"><h3>Run history:</h3><br/><table class=\"wandb\"><tr><td>Accuracy</td><td>▁▆▇██</td></tr><tr><td>Epoch</td><td>▁▃▅▆█</td></tr><tr><td>Loss</td><td>█▃▂▁▁</td></tr></table><br/></div><div class=\"wandb-col\"><h3>Run summary:</h3><br/><table class=\"wandb\"><tr><td>Accuracy</td><td>0.97548</td></tr><tr><td>Activation Function</td><td>SELU</td></tr><tr><td>Dataset</td><td>MNIST</td></tr><tr><td>Epoch</td><td>5</td></tr><tr><td>Loss</td><td>0.07781</td></tr></table><br/></div></div>"
            ]
          },
          "metadata": {}
        },
        {
          "output_type": "display_data",
          "data": {
            "text/plain": [
              "<IPython.core.display.HTML object>"
            ],
            "text/html": [
              " View run <strong style=\"color:#cdcd00\">MNIST-SELU</strong> at: <a href='https://wandb.ai/shahi77-national-institute-of-technology-hamirpur/deep-learning-experiments/runs/0mwgycw2' target=\"_blank\">https://wandb.ai/shahi77-national-institute-of-technology-hamirpur/deep-learning-experiments/runs/0mwgycw2</a><br> View project at: <a href='https://wandb.ai/shahi77-national-institute-of-technology-hamirpur/deep-learning-experiments' target=\"_blank\">https://wandb.ai/shahi77-national-institute-of-technology-hamirpur/deep-learning-experiments</a><br>Synced 5 W&B file(s), 0 media file(s), 0 artifact file(s) and 0 other file(s)"
            ]
          },
          "metadata": {}
        },
        {
          "output_type": "display_data",
          "data": {
            "text/plain": [
              "<IPython.core.display.HTML object>"
            ],
            "text/html": [
              "Find logs at: <code>./wandb/run-20250206_142818-0mwgycw2/logs</code>"
            ]
          },
          "metadata": {}
        },
        {
          "output_type": "stream",
          "name": "stdout",
          "text": [
            "\n",
            "Training on Fashion-MNIST with Activation: Sigmoid\n"
          ]
        },
        {
          "output_type": "display_data",
          "data": {
            "text/plain": [
              "<IPython.core.display.HTML object>"
            ],
            "text/html": [
              "Changes to your `wandb` environment variables will be ignored because your `wandb` session has already started. For more information on how to modify your settings with `wandb.init()` arguments, please refer to <a href='https://wandb.me/wandb-init' target=\"_blank\">the W&B docs</a>."
            ]
          },
          "metadata": {}
        },
        {
          "output_type": "display_data",
          "data": {
            "text/plain": [
              "<IPython.core.display.HTML object>"
            ],
            "text/html": [
              "Ignoring project 'activation-functions-analysis' when running a sweep."
            ]
          },
          "metadata": {}
        },
        {
          "output_type": "display_data",
          "data": {
            "text/plain": [
              "<IPython.core.display.HTML object>"
            ],
            "text/html": [
              "Tracking run with wandb version 0.19.5"
            ]
          },
          "metadata": {}
        },
        {
          "output_type": "display_data",
          "data": {
            "text/plain": [
              "<IPython.core.display.HTML object>"
            ],
            "text/html": [
              "Run data is saved locally in <code>/content/wandb/run-20250206_142953-0mwgycw2</code>"
            ]
          },
          "metadata": {}
        },
        {
          "output_type": "display_data",
          "data": {
            "text/plain": [
              "<IPython.core.display.HTML object>"
            ],
            "text/html": [
              "Syncing run <strong><a href='https://wandb.ai/shahi77-national-institute-of-technology-hamirpur/deep-learning-experiments/runs/0mwgycw2' target=\"_blank\">Fashion-MNIST-Sigmoid</a></strong> to <a href='https://wandb.ai/shahi77-national-institute-of-technology-hamirpur/deep-learning-experiments' target=\"_blank\">Weights & Biases</a> (<a href='https://wandb.me/developer-guide' target=\"_blank\">docs</a>)<br>Sweep page: <a href='https://wandb.ai/shahi77-national-institute-of-technology-hamirpur/deep-learning-experiments/sweeps/ntjma6uk' target=\"_blank\">https://wandb.ai/shahi77-national-institute-of-technology-hamirpur/deep-learning-experiments/sweeps/ntjma6uk</a>"
            ]
          },
          "metadata": {}
        },
        {
          "output_type": "display_data",
          "data": {
            "text/plain": [
              "<IPython.core.display.HTML object>"
            ],
            "text/html": [
              " View project at <a href='https://wandb.ai/shahi77-national-institute-of-technology-hamirpur/deep-learning-experiments' target=\"_blank\">https://wandb.ai/shahi77-national-institute-of-technology-hamirpur/deep-learning-experiments</a>"
            ]
          },
          "metadata": {}
        },
        {
          "output_type": "display_data",
          "data": {
            "text/plain": [
              "<IPython.core.display.HTML object>"
            ],
            "text/html": [
              " View sweep at <a href='https://wandb.ai/shahi77-national-institute-of-technology-hamirpur/deep-learning-experiments/sweeps/ntjma6uk' target=\"_blank\">https://wandb.ai/shahi77-national-institute-of-technology-hamirpur/deep-learning-experiments/sweeps/ntjma6uk</a>"
            ]
          },
          "metadata": {}
        },
        {
          "output_type": "display_data",
          "data": {
            "text/plain": [
              "<IPython.core.display.HTML object>"
            ],
            "text/html": [
              " View run at <a href='https://wandb.ai/shahi77-national-institute-of-technology-hamirpur/deep-learning-experiments/runs/0mwgycw2' target=\"_blank\">https://wandb.ai/shahi77-national-institute-of-technology-hamirpur/deep-learning-experiments/runs/0mwgycw2</a>"
            ]
          },
          "metadata": {}
        },
        {
          "output_type": "stream",
          "name": "stdout",
          "text": [
            "Epoch [1/5], Loss: 720.7502, Accuracy: 0.7587\n",
            "Epoch [2/5], Loss: 391.6890, Accuracy: 0.8519\n",
            "Epoch [3/5], Loss: 340.6357, Accuracy: 0.8699\n",
            "Epoch [4/5], Loss: 314.0069, Accuracy: 0.8794\n",
            "Epoch [5/5], Loss: 293.3091, Accuracy: 0.8875\n"
          ]
        },
        {
          "output_type": "display_data",
          "data": {
            "text/plain": [
              "<IPython.core.display.HTML object>"
            ],
            "text/html": []
          },
          "metadata": {}
        },
        {
          "output_type": "display_data",
          "data": {
            "text/plain": [
              "<IPython.core.display.HTML object>"
            ],
            "text/html": [
              "<br>    <style><br>        .wandb-row {<br>            display: flex;<br>            flex-direction: row;<br>            flex-wrap: wrap;<br>            justify-content: flex-start;<br>            width: 100%;<br>        }<br>        .wandb-col {<br>            display: flex;<br>            flex-direction: column;<br>            flex-basis: 100%;<br>            flex: 1;<br>            padding: 10px;<br>        }<br>    </style><br><div class=\"wandb-row\"><div class=\"wandb-col\"><h3>Run history:</h3><br/><table class=\"wandb\"><tr><td>Accuracy</td><td>▁▆▇██</td></tr><tr><td>Epoch</td><td>▁▃▅▆█</td></tr><tr><td>Loss</td><td>█▃▂▁▁</td></tr></table><br/></div><div class=\"wandb-col\"><h3>Run summary:</h3><br/><table class=\"wandb\"><tr><td>Accuracy</td><td>0.88752</td></tr><tr><td>Activation Function</td><td>Sigmoid</td></tr><tr><td>Dataset</td><td>Fashion-MNIST</td></tr><tr><td>Epoch</td><td>5</td></tr><tr><td>Loss</td><td>0.3127</td></tr></table><br/></div></div>"
            ]
          },
          "metadata": {}
        },
        {
          "output_type": "display_data",
          "data": {
            "text/plain": [
              "<IPython.core.display.HTML object>"
            ],
            "text/html": [
              " View run <strong style=\"color:#cdcd00\">Fashion-MNIST-Sigmoid</strong> at: <a href='https://wandb.ai/shahi77-national-institute-of-technology-hamirpur/deep-learning-experiments/runs/0mwgycw2' target=\"_blank\">https://wandb.ai/shahi77-national-institute-of-technology-hamirpur/deep-learning-experiments/runs/0mwgycw2</a><br> View project at: <a href='https://wandb.ai/shahi77-national-institute-of-technology-hamirpur/deep-learning-experiments' target=\"_blank\">https://wandb.ai/shahi77-national-institute-of-technology-hamirpur/deep-learning-experiments</a><br>Synced 5 W&B file(s), 0 media file(s), 0 artifact file(s) and 0 other file(s)"
            ]
          },
          "metadata": {}
        },
        {
          "output_type": "display_data",
          "data": {
            "text/plain": [
              "<IPython.core.display.HTML object>"
            ],
            "text/html": [
              "Find logs at: <code>./wandb/run-20250206_142953-0mwgycw2/logs</code>"
            ]
          },
          "metadata": {}
        },
        {
          "output_type": "stream",
          "name": "stdout",
          "text": [
            "\n",
            "Training on Fashion-MNIST with Activation: Tanh\n"
          ]
        },
        {
          "output_type": "display_data",
          "data": {
            "text/plain": [
              "<IPython.core.display.HTML object>"
            ],
            "text/html": [
              "Changes to your `wandb` environment variables will be ignored because your `wandb` session has already started. For more information on how to modify your settings with `wandb.init()` arguments, please refer to <a href='https://wandb.me/wandb-init' target=\"_blank\">the W&B docs</a>."
            ]
          },
          "metadata": {}
        },
        {
          "output_type": "display_data",
          "data": {
            "text/plain": [
              "<IPython.core.display.HTML object>"
            ],
            "text/html": [
              "Ignoring project 'activation-functions-analysis' when running a sweep."
            ]
          },
          "metadata": {}
        },
        {
          "output_type": "display_data",
          "data": {
            "text/plain": [
              "<IPython.core.display.HTML object>"
            ],
            "text/html": [
              "Tracking run with wandb version 0.19.5"
            ]
          },
          "metadata": {}
        },
        {
          "output_type": "display_data",
          "data": {
            "text/plain": [
              "<IPython.core.display.HTML object>"
            ],
            "text/html": [
              "Run data is saved locally in <code>/content/wandb/run-20250206_143128-0mwgycw2</code>"
            ]
          },
          "metadata": {}
        },
        {
          "output_type": "display_data",
          "data": {
            "text/plain": [
              "<IPython.core.display.HTML object>"
            ],
            "text/html": [
              "Syncing run <strong><a href='https://wandb.ai/shahi77-national-institute-of-technology-hamirpur/deep-learning-experiments/runs/0mwgycw2' target=\"_blank\">Fashion-MNIST-Tanh</a></strong> to <a href='https://wandb.ai/shahi77-national-institute-of-technology-hamirpur/deep-learning-experiments' target=\"_blank\">Weights & Biases</a> (<a href='https://wandb.me/developer-guide' target=\"_blank\">docs</a>)<br>Sweep page: <a href='https://wandb.ai/shahi77-national-institute-of-technology-hamirpur/deep-learning-experiments/sweeps/ntjma6uk' target=\"_blank\">https://wandb.ai/shahi77-national-institute-of-technology-hamirpur/deep-learning-experiments/sweeps/ntjma6uk</a>"
            ]
          },
          "metadata": {}
        },
        {
          "output_type": "display_data",
          "data": {
            "text/plain": [
              "<IPython.core.display.HTML object>"
            ],
            "text/html": [
              " View project at <a href='https://wandb.ai/shahi77-national-institute-of-technology-hamirpur/deep-learning-experiments' target=\"_blank\">https://wandb.ai/shahi77-national-institute-of-technology-hamirpur/deep-learning-experiments</a>"
            ]
          },
          "metadata": {}
        },
        {
          "output_type": "display_data",
          "data": {
            "text/plain": [
              "<IPython.core.display.HTML object>"
            ],
            "text/html": [
              " View sweep at <a href='https://wandb.ai/shahi77-national-institute-of-technology-hamirpur/deep-learning-experiments/sweeps/ntjma6uk' target=\"_blank\">https://wandb.ai/shahi77-national-institute-of-technology-hamirpur/deep-learning-experiments/sweeps/ntjma6uk</a>"
            ]
          },
          "metadata": {}
        },
        {
          "output_type": "display_data",
          "data": {
            "text/plain": [
              "<IPython.core.display.HTML object>"
            ],
            "text/html": [
              " View run at <a href='https://wandb.ai/shahi77-national-institute-of-technology-hamirpur/deep-learning-experiments/runs/0mwgycw2' target=\"_blank\">https://wandb.ai/shahi77-national-institute-of-technology-hamirpur/deep-learning-experiments/runs/0mwgycw2</a>"
            ]
          },
          "metadata": {}
        },
        {
          "output_type": "stream",
          "name": "stdout",
          "text": [
            "Epoch [1/5], Loss: 482.2183, Accuracy: 0.8207\n",
            "Epoch [2/5], Loss: 356.7858, Accuracy: 0.8622\n",
            "Epoch [3/5], Loss: 324.5660, Accuracy: 0.8728\n",
            "Epoch [4/5], Loss: 304.2738, Accuracy: 0.8810\n",
            "Epoch [5/5], Loss: 290.0539, Accuracy: 0.8864\n"
          ]
        },
        {
          "output_type": "display_data",
          "data": {
            "text/plain": [
              "<IPython.core.display.HTML object>"
            ],
            "text/html": []
          },
          "metadata": {}
        },
        {
          "output_type": "display_data",
          "data": {
            "text/plain": [
              "<IPython.core.display.HTML object>"
            ],
            "text/html": [
              "<br>    <style><br>        .wandb-row {<br>            display: flex;<br>            flex-direction: row;<br>            flex-wrap: wrap;<br>            justify-content: flex-start;<br>            width: 100%;<br>        }<br>        .wandb-col {<br>            display: flex;<br>            flex-direction: column;<br>            flex-basis: 100%;<br>            flex: 1;<br>            padding: 10px;<br>        }<br>    </style><br><div class=\"wandb-row\"><div class=\"wandb-col\"><h3>Run history:</h3><br/><table class=\"wandb\"><tr><td>Accuracy</td><td>▁▅▇▇█</td></tr><tr><td>Epoch</td><td>▁▃▅▆█</td></tr><tr><td>Loss</td><td>█▃▂▂▁</td></tr></table><br/></div><div class=\"wandb-col\"><h3>Run summary:</h3><br/><table class=\"wandb\"><tr><td>Accuracy</td><td>0.88638</td></tr><tr><td>Activation Function</td><td>Tanh</td></tr><tr><td>Dataset</td><td>Fashion-MNIST</td></tr><tr><td>Epoch</td><td>5</td></tr><tr><td>Loss</td><td>0.30923</td></tr></table><br/></div></div>"
            ]
          },
          "metadata": {}
        },
        {
          "output_type": "display_data",
          "data": {
            "text/plain": [
              "<IPython.core.display.HTML object>"
            ],
            "text/html": [
              " View run <strong style=\"color:#cdcd00\">Fashion-MNIST-Tanh</strong> at: <a href='https://wandb.ai/shahi77-national-institute-of-technology-hamirpur/deep-learning-experiments/runs/0mwgycw2' target=\"_blank\">https://wandb.ai/shahi77-national-institute-of-technology-hamirpur/deep-learning-experiments/runs/0mwgycw2</a><br> View project at: <a href='https://wandb.ai/shahi77-national-institute-of-technology-hamirpur/deep-learning-experiments' target=\"_blank\">https://wandb.ai/shahi77-national-institute-of-technology-hamirpur/deep-learning-experiments</a><br>Synced 5 W&B file(s), 0 media file(s), 0 artifact file(s) and 0 other file(s)"
            ]
          },
          "metadata": {}
        },
        {
          "output_type": "display_data",
          "data": {
            "text/plain": [
              "<IPython.core.display.HTML object>"
            ],
            "text/html": [
              "Find logs at: <code>./wandb/run-20250206_143128-0mwgycw2/logs</code>"
            ]
          },
          "metadata": {}
        },
        {
          "output_type": "stream",
          "name": "stdout",
          "text": [
            "\n",
            "Training on Fashion-MNIST with Activation: Mish\n"
          ]
        },
        {
          "output_type": "display_data",
          "data": {
            "text/plain": [
              "<IPython.core.display.HTML object>"
            ],
            "text/html": [
              "Changes to your `wandb` environment variables will be ignored because your `wandb` session has already started. For more information on how to modify your settings with `wandb.init()` arguments, please refer to <a href='https://wandb.me/wandb-init' target=\"_blank\">the W&B docs</a>."
            ]
          },
          "metadata": {}
        },
        {
          "output_type": "display_data",
          "data": {
            "text/plain": [
              "<IPython.core.display.HTML object>"
            ],
            "text/html": [
              "Ignoring project 'activation-functions-analysis' when running a sweep."
            ]
          },
          "metadata": {}
        },
        {
          "output_type": "display_data",
          "data": {
            "text/plain": [
              "<IPython.core.display.HTML object>"
            ],
            "text/html": [
              "Tracking run with wandb version 0.19.5"
            ]
          },
          "metadata": {}
        },
        {
          "output_type": "display_data",
          "data": {
            "text/plain": [
              "<IPython.core.display.HTML object>"
            ],
            "text/html": [
              "Run data is saved locally in <code>/content/wandb/run-20250206_143302-0mwgycw2</code>"
            ]
          },
          "metadata": {}
        },
        {
          "output_type": "display_data",
          "data": {
            "text/plain": [
              "<IPython.core.display.HTML object>"
            ],
            "text/html": [
              "Syncing run <strong><a href='https://wandb.ai/shahi77-national-institute-of-technology-hamirpur/deep-learning-experiments/runs/0mwgycw2' target=\"_blank\">Fashion-MNIST-Mish</a></strong> to <a href='https://wandb.ai/shahi77-national-institute-of-technology-hamirpur/deep-learning-experiments' target=\"_blank\">Weights & Biases</a> (<a href='https://wandb.me/developer-guide' target=\"_blank\">docs</a>)<br>Sweep page: <a href='https://wandb.ai/shahi77-national-institute-of-technology-hamirpur/deep-learning-experiments/sweeps/ntjma6uk' target=\"_blank\">https://wandb.ai/shahi77-national-institute-of-technology-hamirpur/deep-learning-experiments/sweeps/ntjma6uk</a>"
            ]
          },
          "metadata": {}
        },
        {
          "output_type": "display_data",
          "data": {
            "text/plain": [
              "<IPython.core.display.HTML object>"
            ],
            "text/html": [
              " View project at <a href='https://wandb.ai/shahi77-national-institute-of-technology-hamirpur/deep-learning-experiments' target=\"_blank\">https://wandb.ai/shahi77-national-institute-of-technology-hamirpur/deep-learning-experiments</a>"
            ]
          },
          "metadata": {}
        },
        {
          "output_type": "display_data",
          "data": {
            "text/plain": [
              "<IPython.core.display.HTML object>"
            ],
            "text/html": [
              " View sweep at <a href='https://wandb.ai/shahi77-national-institute-of-technology-hamirpur/deep-learning-experiments/sweeps/ntjma6uk' target=\"_blank\">https://wandb.ai/shahi77-national-institute-of-technology-hamirpur/deep-learning-experiments/sweeps/ntjma6uk</a>"
            ]
          },
          "metadata": {}
        },
        {
          "output_type": "display_data",
          "data": {
            "text/plain": [
              "<IPython.core.display.HTML object>"
            ],
            "text/html": [
              " View run at <a href='https://wandb.ai/shahi77-national-institute-of-technology-hamirpur/deep-learning-experiments/runs/0mwgycw2' target=\"_blank\">https://wandb.ai/shahi77-national-institute-of-technology-hamirpur/deep-learning-experiments/runs/0mwgycw2</a>"
            ]
          },
          "metadata": {}
        },
        {
          "output_type": "stream",
          "name": "stdout",
          "text": [
            "Epoch [1/5], Loss: 462.8084, Accuracy: 0.8204\n",
            "Epoch [2/5], Loss: 349.5553, Accuracy: 0.8631\n",
            "Epoch [3/5], Loss: 311.1212, Accuracy: 0.8782\n",
            "Epoch [4/5], Loss: 284.2717, Accuracy: 0.8874\n",
            "Epoch [5/5], Loss: 267.3481, Accuracy: 0.8942\n"
          ]
        },
        {
          "output_type": "display_data",
          "data": {
            "text/plain": [
              "<IPython.core.display.HTML object>"
            ],
            "text/html": []
          },
          "metadata": {}
        },
        {
          "output_type": "display_data",
          "data": {
            "text/plain": [
              "<IPython.core.display.HTML object>"
            ],
            "text/html": [
              "<br>    <style><br>        .wandb-row {<br>            display: flex;<br>            flex-direction: row;<br>            flex-wrap: wrap;<br>            justify-content: flex-start;<br>            width: 100%;<br>        }<br>        .wandb-col {<br>            display: flex;<br>            flex-direction: column;<br>            flex-basis: 100%;<br>            flex: 1;<br>            padding: 10px;<br>        }<br>    </style><br><div class=\"wandb-row\"><div class=\"wandb-col\"><h3>Run history:</h3><br/><table class=\"wandb\"><tr><td>Accuracy</td><td>▁▅▆▇█</td></tr><tr><td>Epoch</td><td>▁▃▅▆█</td></tr><tr><td>Loss</td><td>█▄▃▂▁</td></tr></table><br/></div><div class=\"wandb-col\"><h3>Run summary:</h3><br/><table class=\"wandb\"><tr><td>Accuracy</td><td>0.89418</td></tr><tr><td>Activation Function</td><td>Mish</td></tr><tr><td>Dataset</td><td>Fashion-MNIST</td></tr><tr><td>Epoch</td><td>5</td></tr><tr><td>Loss</td><td>0.28502</td></tr></table><br/></div></div>"
            ]
          },
          "metadata": {}
        },
        {
          "output_type": "display_data",
          "data": {
            "text/plain": [
              "<IPython.core.display.HTML object>"
            ],
            "text/html": [
              " View run <strong style=\"color:#cdcd00\">Fashion-MNIST-Mish</strong> at: <a href='https://wandb.ai/shahi77-national-institute-of-technology-hamirpur/deep-learning-experiments/runs/0mwgycw2' target=\"_blank\">https://wandb.ai/shahi77-national-institute-of-technology-hamirpur/deep-learning-experiments/runs/0mwgycw2</a><br> View project at: <a href='https://wandb.ai/shahi77-national-institute-of-technology-hamirpur/deep-learning-experiments' target=\"_blank\">https://wandb.ai/shahi77-national-institute-of-technology-hamirpur/deep-learning-experiments</a><br>Synced 5 W&B file(s), 0 media file(s), 0 artifact file(s) and 0 other file(s)"
            ]
          },
          "metadata": {}
        },
        {
          "output_type": "display_data",
          "data": {
            "text/plain": [
              "<IPython.core.display.HTML object>"
            ],
            "text/html": [
              "Find logs at: <code>./wandb/run-20250206_143302-0mwgycw2/logs</code>"
            ]
          },
          "metadata": {}
        },
        {
          "output_type": "stream",
          "name": "stdout",
          "text": [
            "\n",
            "Training on Fashion-MNIST with Activation: ReLU\n"
          ]
        },
        {
          "output_type": "display_data",
          "data": {
            "text/plain": [
              "<IPython.core.display.HTML object>"
            ],
            "text/html": [
              "Changes to your `wandb` environment variables will be ignored because your `wandb` session has already started. For more information on how to modify your settings with `wandb.init()` arguments, please refer to <a href='https://wandb.me/wandb-init' target=\"_blank\">the W&B docs</a>."
            ]
          },
          "metadata": {}
        },
        {
          "output_type": "display_data",
          "data": {
            "text/plain": [
              "<IPython.core.display.HTML object>"
            ],
            "text/html": [
              "Ignoring project 'activation-functions-analysis' when running a sweep."
            ]
          },
          "metadata": {}
        },
        {
          "output_type": "display_data",
          "data": {
            "text/plain": [
              "<IPython.core.display.HTML object>"
            ],
            "text/html": [
              "Tracking run with wandb version 0.19.5"
            ]
          },
          "metadata": {}
        },
        {
          "output_type": "display_data",
          "data": {
            "text/plain": [
              "<IPython.core.display.HTML object>"
            ],
            "text/html": [
              "Run data is saved locally in <code>/content/wandb/run-20250206_143444-0mwgycw2</code>"
            ]
          },
          "metadata": {}
        },
        {
          "output_type": "display_data",
          "data": {
            "text/plain": [
              "<IPython.core.display.HTML object>"
            ],
            "text/html": [
              "Syncing run <strong><a href='https://wandb.ai/shahi77-national-institute-of-technology-hamirpur/deep-learning-experiments/runs/0mwgycw2' target=\"_blank\">Fashion-MNIST-ReLU</a></strong> to <a href='https://wandb.ai/shahi77-national-institute-of-technology-hamirpur/deep-learning-experiments' target=\"_blank\">Weights & Biases</a> (<a href='https://wandb.me/developer-guide' target=\"_blank\">docs</a>)<br>Sweep page: <a href='https://wandb.ai/shahi77-national-institute-of-technology-hamirpur/deep-learning-experiments/sweeps/ntjma6uk' target=\"_blank\">https://wandb.ai/shahi77-national-institute-of-technology-hamirpur/deep-learning-experiments/sweeps/ntjma6uk</a>"
            ]
          },
          "metadata": {}
        },
        {
          "output_type": "display_data",
          "data": {
            "text/plain": [
              "<IPython.core.display.HTML object>"
            ],
            "text/html": [
              " View project at <a href='https://wandb.ai/shahi77-national-institute-of-technology-hamirpur/deep-learning-experiments' target=\"_blank\">https://wandb.ai/shahi77-national-institute-of-technology-hamirpur/deep-learning-experiments</a>"
            ]
          },
          "metadata": {}
        },
        {
          "output_type": "display_data",
          "data": {
            "text/plain": [
              "<IPython.core.display.HTML object>"
            ],
            "text/html": [
              " View sweep at <a href='https://wandb.ai/shahi77-national-institute-of-technology-hamirpur/deep-learning-experiments/sweeps/ntjma6uk' target=\"_blank\">https://wandb.ai/shahi77-national-institute-of-technology-hamirpur/deep-learning-experiments/sweeps/ntjma6uk</a>"
            ]
          },
          "metadata": {}
        },
        {
          "output_type": "display_data",
          "data": {
            "text/plain": [
              "<IPython.core.display.HTML object>"
            ],
            "text/html": [
              " View run at <a href='https://wandb.ai/shahi77-national-institute-of-technology-hamirpur/deep-learning-experiments/runs/0mwgycw2' target=\"_blank\">https://wandb.ai/shahi77-national-institute-of-technology-hamirpur/deep-learning-experiments/runs/0mwgycw2</a>"
            ]
          },
          "metadata": {}
        },
        {
          "output_type": "stream",
          "name": "stdout",
          "text": [
            "Epoch [1/5], Loss: 485.2977, Accuracy: 0.8131\n",
            "Epoch [2/5], Loss: 356.7157, Accuracy: 0.8604\n",
            "Epoch [3/5], Loss: 318.1503, Accuracy: 0.8756\n",
            "Epoch [4/5], Loss: 296.6795, Accuracy: 0.8831\n",
            "Epoch [5/5], Loss: 279.4110, Accuracy: 0.8883\n"
          ]
        },
        {
          "output_type": "display_data",
          "data": {
            "text/plain": [
              "<IPython.core.display.HTML object>"
            ],
            "text/html": []
          },
          "metadata": {}
        },
        {
          "output_type": "display_data",
          "data": {
            "text/plain": [
              "<IPython.core.display.HTML object>"
            ],
            "text/html": [
              "<br>    <style><br>        .wandb-row {<br>            display: flex;<br>            flex-direction: row;<br>            flex-wrap: wrap;<br>            justify-content: flex-start;<br>            width: 100%;<br>        }<br>        .wandb-col {<br>            display: flex;<br>            flex-direction: column;<br>            flex-basis: 100%;<br>            flex: 1;<br>            padding: 10px;<br>        }<br>    </style><br><div class=\"wandb-row\"><div class=\"wandb-col\"><h3>Run history:</h3><br/><table class=\"wandb\"><tr><td>Accuracy</td><td>▁▅▇██</td></tr><tr><td>Epoch</td><td>▁▃▅▆█</td></tr><tr><td>Loss</td><td>█▄▂▂▁</td></tr></table><br/></div><div class=\"wandb-col\"><h3>Run summary:</h3><br/><table class=\"wandb\"><tr><td>Accuracy</td><td>0.88835</td></tr><tr><td>Activation Function</td><td>ReLU</td></tr><tr><td>Dataset</td><td>Fashion-MNIST</td></tr><tr><td>Epoch</td><td>5</td></tr><tr><td>Loss</td><td>0.29788</td></tr></table><br/></div></div>"
            ]
          },
          "metadata": {}
        },
        {
          "output_type": "display_data",
          "data": {
            "text/plain": [
              "<IPython.core.display.HTML object>"
            ],
            "text/html": [
              " View run <strong style=\"color:#cdcd00\">Fashion-MNIST-ReLU</strong> at: <a href='https://wandb.ai/shahi77-national-institute-of-technology-hamirpur/deep-learning-experiments/runs/0mwgycw2' target=\"_blank\">https://wandb.ai/shahi77-national-institute-of-technology-hamirpur/deep-learning-experiments/runs/0mwgycw2</a><br> View project at: <a href='https://wandb.ai/shahi77-national-institute-of-technology-hamirpur/deep-learning-experiments' target=\"_blank\">https://wandb.ai/shahi77-national-institute-of-technology-hamirpur/deep-learning-experiments</a><br>Synced 5 W&B file(s), 0 media file(s), 0 artifact file(s) and 0 other file(s)"
            ]
          },
          "metadata": {}
        },
        {
          "output_type": "display_data",
          "data": {
            "text/plain": [
              "<IPython.core.display.HTML object>"
            ],
            "text/html": [
              "Find logs at: <code>./wandb/run-20250206_143444-0mwgycw2/logs</code>"
            ]
          },
          "metadata": {}
        },
        {
          "output_type": "stream",
          "name": "stdout",
          "text": [
            "\n",
            "Training on Fashion-MNIST with Activation: LeakyReLU\n"
          ]
        },
        {
          "output_type": "display_data",
          "data": {
            "text/plain": [
              "<IPython.core.display.HTML object>"
            ],
            "text/html": [
              "Changes to your `wandb` environment variables will be ignored because your `wandb` session has already started. For more information on how to modify your settings with `wandb.init()` arguments, please refer to <a href='https://wandb.me/wandb-init' target=\"_blank\">the W&B docs</a>."
            ]
          },
          "metadata": {}
        },
        {
          "output_type": "display_data",
          "data": {
            "text/plain": [
              "<IPython.core.display.HTML object>"
            ],
            "text/html": [
              "Ignoring project 'activation-functions-analysis' when running a sweep."
            ]
          },
          "metadata": {}
        },
        {
          "output_type": "display_data",
          "data": {
            "text/plain": [
              "<IPython.core.display.HTML object>"
            ],
            "text/html": [
              "Tracking run with wandb version 0.19.5"
            ]
          },
          "metadata": {}
        },
        {
          "output_type": "display_data",
          "data": {
            "text/plain": [
              "<IPython.core.display.HTML object>"
            ],
            "text/html": [
              "Run data is saved locally in <code>/content/wandb/run-20250206_143622-0mwgycw2</code>"
            ]
          },
          "metadata": {}
        },
        {
          "output_type": "display_data",
          "data": {
            "text/plain": [
              "<IPython.core.display.HTML object>"
            ],
            "text/html": [
              "Syncing run <strong><a href='https://wandb.ai/shahi77-national-institute-of-technology-hamirpur/deep-learning-experiments/runs/0mwgycw2' target=\"_blank\">Fashion-MNIST-LeakyReLU</a></strong> to <a href='https://wandb.ai/shahi77-national-institute-of-technology-hamirpur/deep-learning-experiments' target=\"_blank\">Weights & Biases</a> (<a href='https://wandb.me/developer-guide' target=\"_blank\">docs</a>)<br>Sweep page: <a href='https://wandb.ai/shahi77-national-institute-of-technology-hamirpur/deep-learning-experiments/sweeps/ntjma6uk' target=\"_blank\">https://wandb.ai/shahi77-national-institute-of-technology-hamirpur/deep-learning-experiments/sweeps/ntjma6uk</a>"
            ]
          },
          "metadata": {}
        },
        {
          "output_type": "display_data",
          "data": {
            "text/plain": [
              "<IPython.core.display.HTML object>"
            ],
            "text/html": [
              " View project at <a href='https://wandb.ai/shahi77-national-institute-of-technology-hamirpur/deep-learning-experiments' target=\"_blank\">https://wandb.ai/shahi77-national-institute-of-technology-hamirpur/deep-learning-experiments</a>"
            ]
          },
          "metadata": {}
        },
        {
          "output_type": "display_data",
          "data": {
            "text/plain": [
              "<IPython.core.display.HTML object>"
            ],
            "text/html": [
              " View sweep at <a href='https://wandb.ai/shahi77-national-institute-of-technology-hamirpur/deep-learning-experiments/sweeps/ntjma6uk' target=\"_blank\">https://wandb.ai/shahi77-national-institute-of-technology-hamirpur/deep-learning-experiments/sweeps/ntjma6uk</a>"
            ]
          },
          "metadata": {}
        },
        {
          "output_type": "display_data",
          "data": {
            "text/plain": [
              "<IPython.core.display.HTML object>"
            ],
            "text/html": [
              " View run at <a href='https://wandb.ai/shahi77-national-institute-of-technology-hamirpur/deep-learning-experiments/runs/0mwgycw2' target=\"_blank\">https://wandb.ai/shahi77-national-institute-of-technology-hamirpur/deep-learning-experiments/runs/0mwgycw2</a>"
            ]
          },
          "metadata": {}
        },
        {
          "output_type": "stream",
          "name": "stdout",
          "text": [
            "Epoch [1/5], Loss: 483.7466, Accuracy: 0.8141\n",
            "Epoch [2/5], Loss: 351.5475, Accuracy: 0.8623\n",
            "Epoch [3/5], Loss: 318.5152, Accuracy: 0.8751\n",
            "Epoch [4/5], Loss: 294.2127, Accuracy: 0.8846\n",
            "Epoch [5/5], Loss: 277.6238, Accuracy: 0.8896\n"
          ]
        },
        {
          "output_type": "display_data",
          "data": {
            "text/plain": [
              "<IPython.core.display.HTML object>"
            ],
            "text/html": []
          },
          "metadata": {}
        },
        {
          "output_type": "display_data",
          "data": {
            "text/plain": [
              "<IPython.core.display.HTML object>"
            ],
            "text/html": [
              "<br>    <style><br>        .wandb-row {<br>            display: flex;<br>            flex-direction: row;<br>            flex-wrap: wrap;<br>            justify-content: flex-start;<br>            width: 100%;<br>        }<br>        .wandb-col {<br>            display: flex;<br>            flex-direction: column;<br>            flex-basis: 100%;<br>            flex: 1;<br>            padding: 10px;<br>        }<br>    </style><br><div class=\"wandb-row\"><div class=\"wandb-col\"><h3>Run history:</h3><br/><table class=\"wandb\"><tr><td>Accuracy</td><td>▁▅▇██</td></tr><tr><td>Epoch</td><td>▁▃▅▆█</td></tr><tr><td>Loss</td><td>█▄▂▂▁</td></tr></table><br/></div><div class=\"wandb-col\"><h3>Run summary:</h3><br/><table class=\"wandb\"><tr><td>Accuracy</td><td>0.88958</td></tr><tr><td>Activation Function</td><td>LeakyReLU</td></tr><tr><td>Dataset</td><td>Fashion-MNIST</td></tr><tr><td>Epoch</td><td>5</td></tr><tr><td>Loss</td><td>0.29597</td></tr></table><br/></div></div>"
            ]
          },
          "metadata": {}
        },
        {
          "output_type": "display_data",
          "data": {
            "text/plain": [
              "<IPython.core.display.HTML object>"
            ],
            "text/html": [
              " View run <strong style=\"color:#cdcd00\">Fashion-MNIST-LeakyReLU</strong> at: <a href='https://wandb.ai/shahi77-national-institute-of-technology-hamirpur/deep-learning-experiments/runs/0mwgycw2' target=\"_blank\">https://wandb.ai/shahi77-national-institute-of-technology-hamirpur/deep-learning-experiments/runs/0mwgycw2</a><br> View project at: <a href='https://wandb.ai/shahi77-national-institute-of-technology-hamirpur/deep-learning-experiments' target=\"_blank\">https://wandb.ai/shahi77-national-institute-of-technology-hamirpur/deep-learning-experiments</a><br>Synced 5 W&B file(s), 0 media file(s), 0 artifact file(s) and 0 other file(s)"
            ]
          },
          "metadata": {}
        },
        {
          "output_type": "display_data",
          "data": {
            "text/plain": [
              "<IPython.core.display.HTML object>"
            ],
            "text/html": [
              "Find logs at: <code>./wandb/run-20250206_143622-0mwgycw2/logs</code>"
            ]
          },
          "metadata": {}
        },
        {
          "output_type": "stream",
          "name": "stdout",
          "text": [
            "\n",
            "Training on Fashion-MNIST with Activation: PReLU\n"
          ]
        },
        {
          "output_type": "display_data",
          "data": {
            "text/plain": [
              "<IPython.core.display.HTML object>"
            ],
            "text/html": [
              "Changes to your `wandb` environment variables will be ignored because your `wandb` session has already started. For more information on how to modify your settings with `wandb.init()` arguments, please refer to <a href='https://wandb.me/wandb-init' target=\"_blank\">the W&B docs</a>."
            ]
          },
          "metadata": {}
        },
        {
          "output_type": "display_data",
          "data": {
            "text/plain": [
              "<IPython.core.display.HTML object>"
            ],
            "text/html": [
              "Ignoring project 'activation-functions-analysis' when running a sweep."
            ]
          },
          "metadata": {}
        },
        {
          "output_type": "display_data",
          "data": {
            "text/plain": [
              "<IPython.core.display.HTML object>"
            ],
            "text/html": [
              "Tracking run with wandb version 0.19.5"
            ]
          },
          "metadata": {}
        },
        {
          "output_type": "display_data",
          "data": {
            "text/plain": [
              "<IPython.core.display.HTML object>"
            ],
            "text/html": [
              "Run data is saved locally in <code>/content/wandb/run-20250206_143757-0mwgycw2</code>"
            ]
          },
          "metadata": {}
        },
        {
          "output_type": "display_data",
          "data": {
            "text/plain": [
              "<IPython.core.display.HTML object>"
            ],
            "text/html": [
              "Syncing run <strong><a href='https://wandb.ai/shahi77-national-institute-of-technology-hamirpur/deep-learning-experiments/runs/0mwgycw2' target=\"_blank\">Fashion-MNIST-PReLU</a></strong> to <a href='https://wandb.ai/shahi77-national-institute-of-technology-hamirpur/deep-learning-experiments' target=\"_blank\">Weights & Biases</a> (<a href='https://wandb.me/developer-guide' target=\"_blank\">docs</a>)<br>Sweep page: <a href='https://wandb.ai/shahi77-national-institute-of-technology-hamirpur/deep-learning-experiments/sweeps/ntjma6uk' target=\"_blank\">https://wandb.ai/shahi77-national-institute-of-technology-hamirpur/deep-learning-experiments/sweeps/ntjma6uk</a>"
            ]
          },
          "metadata": {}
        },
        {
          "output_type": "display_data",
          "data": {
            "text/plain": [
              "<IPython.core.display.HTML object>"
            ],
            "text/html": [
              " View project at <a href='https://wandb.ai/shahi77-national-institute-of-technology-hamirpur/deep-learning-experiments' target=\"_blank\">https://wandb.ai/shahi77-national-institute-of-technology-hamirpur/deep-learning-experiments</a>"
            ]
          },
          "metadata": {}
        },
        {
          "output_type": "display_data",
          "data": {
            "text/plain": [
              "<IPython.core.display.HTML object>"
            ],
            "text/html": [
              " View sweep at <a href='https://wandb.ai/shahi77-national-institute-of-technology-hamirpur/deep-learning-experiments/sweeps/ntjma6uk' target=\"_blank\">https://wandb.ai/shahi77-national-institute-of-technology-hamirpur/deep-learning-experiments/sweeps/ntjma6uk</a>"
            ]
          },
          "metadata": {}
        },
        {
          "output_type": "display_data",
          "data": {
            "text/plain": [
              "<IPython.core.display.HTML object>"
            ],
            "text/html": [
              " View run at <a href='https://wandb.ai/shahi77-national-institute-of-technology-hamirpur/deep-learning-experiments/runs/0mwgycw2' target=\"_blank\">https://wandb.ai/shahi77-national-institute-of-technology-hamirpur/deep-learning-experiments/runs/0mwgycw2</a>"
            ]
          },
          "metadata": {}
        },
        {
          "output_type": "stream",
          "name": "stdout",
          "text": [
            "Epoch [1/5], Loss: 483.3553, Accuracy: 0.8156\n",
            "Epoch [2/5], Loss: 351.0479, Accuracy: 0.8634\n",
            "Epoch [3/5], Loss: 314.4801, Accuracy: 0.8775\n",
            "Epoch [4/5], Loss: 292.3512, Accuracy: 0.8852\n",
            "Epoch [5/5], Loss: 276.8880, Accuracy: 0.8901\n"
          ]
        },
        {
          "output_type": "display_data",
          "data": {
            "text/plain": [
              "<IPython.core.display.HTML object>"
            ],
            "text/html": []
          },
          "metadata": {}
        },
        {
          "output_type": "display_data",
          "data": {
            "text/plain": [
              "<IPython.core.display.HTML object>"
            ],
            "text/html": [
              "<br>    <style><br>        .wandb-row {<br>            display: flex;<br>            flex-direction: row;<br>            flex-wrap: wrap;<br>            justify-content: flex-start;<br>            width: 100%;<br>        }<br>        .wandb-col {<br>            display: flex;<br>            flex-direction: column;<br>            flex-basis: 100%;<br>            flex: 1;<br>            padding: 10px;<br>        }<br>    </style><br><div class=\"wandb-row\"><div class=\"wandb-col\"><h3>Run history:</h3><br/><table class=\"wandb\"><tr><td>Accuracy</td><td>▁▅▇██</td></tr><tr><td>Epoch</td><td>▁▃▅▆█</td></tr><tr><td>Loss</td><td>█▄▂▂▁</td></tr></table><br/></div><div class=\"wandb-col\"><h3>Run summary:</h3><br/><table class=\"wandb\"><tr><td>Accuracy</td><td>0.89012</td></tr><tr><td>Activation Function</td><td>PReLU</td></tr><tr><td>Dataset</td><td>Fashion-MNIST</td></tr><tr><td>Epoch</td><td>5</td></tr><tr><td>Loss</td><td>0.29519</td></tr></table><br/></div></div>"
            ]
          },
          "metadata": {}
        },
        {
          "output_type": "display_data",
          "data": {
            "text/plain": [
              "<IPython.core.display.HTML object>"
            ],
            "text/html": [
              " View run <strong style=\"color:#cdcd00\">Fashion-MNIST-PReLU</strong> at: <a href='https://wandb.ai/shahi77-national-institute-of-technology-hamirpur/deep-learning-experiments/runs/0mwgycw2' target=\"_blank\">https://wandb.ai/shahi77-national-institute-of-technology-hamirpur/deep-learning-experiments/runs/0mwgycw2</a><br> View project at: <a href='https://wandb.ai/shahi77-national-institute-of-technology-hamirpur/deep-learning-experiments' target=\"_blank\">https://wandb.ai/shahi77-national-institute-of-technology-hamirpur/deep-learning-experiments</a><br>Synced 5 W&B file(s), 0 media file(s), 0 artifact file(s) and 0 other file(s)"
            ]
          },
          "metadata": {}
        },
        {
          "output_type": "display_data",
          "data": {
            "text/plain": [
              "<IPython.core.display.HTML object>"
            ],
            "text/html": [
              "Find logs at: <code>./wandb/run-20250206_143757-0mwgycw2/logs</code>"
            ]
          },
          "metadata": {}
        },
        {
          "output_type": "stream",
          "name": "stdout",
          "text": [
            "\n",
            "Training on Fashion-MNIST with Activation: ELU\n"
          ]
        },
        {
          "output_type": "display_data",
          "data": {
            "text/plain": [
              "<IPython.core.display.HTML object>"
            ],
            "text/html": [
              "Changes to your `wandb` environment variables will be ignored because your `wandb` session has already started. For more information on how to modify your settings with `wandb.init()` arguments, please refer to <a href='https://wandb.me/wandb-init' target=\"_blank\">the W&B docs</a>."
            ]
          },
          "metadata": {}
        },
        {
          "output_type": "display_data",
          "data": {
            "text/plain": [
              "<IPython.core.display.HTML object>"
            ],
            "text/html": [
              "Ignoring project 'activation-functions-analysis' when running a sweep."
            ]
          },
          "metadata": {}
        },
        {
          "output_type": "display_data",
          "data": {
            "text/plain": [
              "<IPython.core.display.HTML object>"
            ],
            "text/html": [
              "Tracking run with wandb version 0.19.5"
            ]
          },
          "metadata": {}
        },
        {
          "output_type": "display_data",
          "data": {
            "text/plain": [
              "<IPython.core.display.HTML object>"
            ],
            "text/html": [
              "Run data is saved locally in <code>/content/wandb/run-20250206_143933-0mwgycw2</code>"
            ]
          },
          "metadata": {}
        },
        {
          "output_type": "display_data",
          "data": {
            "text/plain": [
              "<IPython.core.display.HTML object>"
            ],
            "text/html": [
              "Syncing run <strong><a href='https://wandb.ai/shahi77-national-institute-of-technology-hamirpur/deep-learning-experiments/runs/0mwgycw2' target=\"_blank\">Fashion-MNIST-ELU</a></strong> to <a href='https://wandb.ai/shahi77-national-institute-of-technology-hamirpur/deep-learning-experiments' target=\"_blank\">Weights & Biases</a> (<a href='https://wandb.me/developer-guide' target=\"_blank\">docs</a>)<br>Sweep page: <a href='https://wandb.ai/shahi77-national-institute-of-technology-hamirpur/deep-learning-experiments/sweeps/ntjma6uk' target=\"_blank\">https://wandb.ai/shahi77-national-institute-of-technology-hamirpur/deep-learning-experiments/sweeps/ntjma6uk</a>"
            ]
          },
          "metadata": {}
        },
        {
          "output_type": "display_data",
          "data": {
            "text/plain": [
              "<IPython.core.display.HTML object>"
            ],
            "text/html": [
              " View project at <a href='https://wandb.ai/shahi77-national-institute-of-technology-hamirpur/deep-learning-experiments' target=\"_blank\">https://wandb.ai/shahi77-national-institute-of-technology-hamirpur/deep-learning-experiments</a>"
            ]
          },
          "metadata": {}
        },
        {
          "output_type": "display_data",
          "data": {
            "text/plain": [
              "<IPython.core.display.HTML object>"
            ],
            "text/html": [
              " View sweep at <a href='https://wandb.ai/shahi77-national-institute-of-technology-hamirpur/deep-learning-experiments/sweeps/ntjma6uk' target=\"_blank\">https://wandb.ai/shahi77-national-institute-of-technology-hamirpur/deep-learning-experiments/sweeps/ntjma6uk</a>"
            ]
          },
          "metadata": {}
        },
        {
          "output_type": "display_data",
          "data": {
            "text/plain": [
              "<IPython.core.display.HTML object>"
            ],
            "text/html": [
              " View run at <a href='https://wandb.ai/shahi77-national-institute-of-technology-hamirpur/deep-learning-experiments/runs/0mwgycw2' target=\"_blank\">https://wandb.ai/shahi77-national-institute-of-technology-hamirpur/deep-learning-experiments/runs/0mwgycw2</a>"
            ]
          },
          "metadata": {}
        },
        {
          "output_type": "stream",
          "name": "stdout",
          "text": [
            "Epoch [1/5], Loss: 472.3728, Accuracy: 0.8160\n",
            "Epoch [2/5], Loss: 355.7390, Accuracy: 0.8609\n",
            "Epoch [3/5], Loss: 318.0528, Accuracy: 0.8754\n",
            "Epoch [4/5], Loss: 293.3852, Accuracy: 0.8843\n",
            "Epoch [5/5], Loss: 276.4291, Accuracy: 0.8908\n"
          ]
        },
        {
          "output_type": "display_data",
          "data": {
            "text/plain": [
              "<IPython.core.display.HTML object>"
            ],
            "text/html": []
          },
          "metadata": {}
        },
        {
          "output_type": "display_data",
          "data": {
            "text/plain": [
              "<IPython.core.display.HTML object>"
            ],
            "text/html": [
              "<br>    <style><br>        .wandb-row {<br>            display: flex;<br>            flex-direction: row;<br>            flex-wrap: wrap;<br>            justify-content: flex-start;<br>            width: 100%;<br>        }<br>        .wandb-col {<br>            display: flex;<br>            flex-direction: column;<br>            flex-basis: 100%;<br>            flex: 1;<br>            padding: 10px;<br>        }<br>    </style><br><div class=\"wandb-row\"><div class=\"wandb-col\"><h3>Run history:</h3><br/><table class=\"wandb\"><tr><td>Accuracy</td><td>▁▅▇▇█</td></tr><tr><td>Epoch</td><td>▁▃▅▆█</td></tr><tr><td>Loss</td><td>█▄▂▂▁</td></tr></table><br/></div><div class=\"wandb-col\"><h3>Run summary:</h3><br/><table class=\"wandb\"><tr><td>Accuracy</td><td>0.89083</td></tr><tr><td>Activation Function</td><td>ELU</td></tr><tr><td>Dataset</td><td>Fashion-MNIST</td></tr><tr><td>Epoch</td><td>5</td></tr><tr><td>Loss</td><td>0.2947</td></tr></table><br/></div></div>"
            ]
          },
          "metadata": {}
        },
        {
          "output_type": "display_data",
          "data": {
            "text/plain": [
              "<IPython.core.display.HTML object>"
            ],
            "text/html": [
              " View run <strong style=\"color:#cdcd00\">Fashion-MNIST-ELU</strong> at: <a href='https://wandb.ai/shahi77-national-institute-of-technology-hamirpur/deep-learning-experiments/runs/0mwgycw2' target=\"_blank\">https://wandb.ai/shahi77-national-institute-of-technology-hamirpur/deep-learning-experiments/runs/0mwgycw2</a><br> View project at: <a href='https://wandb.ai/shahi77-national-institute-of-technology-hamirpur/deep-learning-experiments' target=\"_blank\">https://wandb.ai/shahi77-national-institute-of-technology-hamirpur/deep-learning-experiments</a><br>Synced 5 W&B file(s), 0 media file(s), 0 artifact file(s) and 0 other file(s)"
            ]
          },
          "metadata": {}
        },
        {
          "output_type": "display_data",
          "data": {
            "text/plain": [
              "<IPython.core.display.HTML object>"
            ],
            "text/html": [
              "Find logs at: <code>./wandb/run-20250206_143933-0mwgycw2/logs</code>"
            ]
          },
          "metadata": {}
        },
        {
          "output_type": "stream",
          "name": "stdout",
          "text": [
            "\n",
            "Training on Fashion-MNIST with Activation: Softmax\n"
          ]
        },
        {
          "output_type": "display_data",
          "data": {
            "text/plain": [
              "<IPython.core.display.HTML object>"
            ],
            "text/html": [
              "Changes to your `wandb` environment variables will be ignored because your `wandb` session has already started. For more information on how to modify your settings with `wandb.init()` arguments, please refer to <a href='https://wandb.me/wandb-init' target=\"_blank\">the W&B docs</a>."
            ]
          },
          "metadata": {}
        },
        {
          "output_type": "display_data",
          "data": {
            "text/plain": [
              "<IPython.core.display.HTML object>"
            ],
            "text/html": [
              "Ignoring project 'activation-functions-analysis' when running a sweep."
            ]
          },
          "metadata": {}
        },
        {
          "output_type": "display_data",
          "data": {
            "text/plain": [
              "<IPython.core.display.HTML object>"
            ],
            "text/html": [
              "Tracking run with wandb version 0.19.5"
            ]
          },
          "metadata": {}
        },
        {
          "output_type": "display_data",
          "data": {
            "text/plain": [
              "<IPython.core.display.HTML object>"
            ],
            "text/html": [
              "Run data is saved locally in <code>/content/wandb/run-20250206_144109-0mwgycw2</code>"
            ]
          },
          "metadata": {}
        },
        {
          "output_type": "display_data",
          "data": {
            "text/plain": [
              "<IPython.core.display.HTML object>"
            ],
            "text/html": [
              "Syncing run <strong><a href='https://wandb.ai/shahi77-national-institute-of-technology-hamirpur/deep-learning-experiments/runs/0mwgycw2' target=\"_blank\">Fashion-MNIST-Softmax</a></strong> to <a href='https://wandb.ai/shahi77-national-institute-of-technology-hamirpur/deep-learning-experiments' target=\"_blank\">Weights & Biases</a> (<a href='https://wandb.me/developer-guide' target=\"_blank\">docs</a>)<br>Sweep page: <a href='https://wandb.ai/shahi77-national-institute-of-technology-hamirpur/deep-learning-experiments/sweeps/ntjma6uk' target=\"_blank\">https://wandb.ai/shahi77-national-institute-of-technology-hamirpur/deep-learning-experiments/sweeps/ntjma6uk</a>"
            ]
          },
          "metadata": {}
        },
        {
          "output_type": "display_data",
          "data": {
            "text/plain": [
              "<IPython.core.display.HTML object>"
            ],
            "text/html": [
              " View project at <a href='https://wandb.ai/shahi77-national-institute-of-technology-hamirpur/deep-learning-experiments' target=\"_blank\">https://wandb.ai/shahi77-national-institute-of-technology-hamirpur/deep-learning-experiments</a>"
            ]
          },
          "metadata": {}
        },
        {
          "output_type": "display_data",
          "data": {
            "text/plain": [
              "<IPython.core.display.HTML object>"
            ],
            "text/html": [
              " View sweep at <a href='https://wandb.ai/shahi77-national-institute-of-technology-hamirpur/deep-learning-experiments/sweeps/ntjma6uk' target=\"_blank\">https://wandb.ai/shahi77-national-institute-of-technology-hamirpur/deep-learning-experiments/sweeps/ntjma6uk</a>"
            ]
          },
          "metadata": {}
        },
        {
          "output_type": "display_data",
          "data": {
            "text/plain": [
              "<IPython.core.display.HTML object>"
            ],
            "text/html": [
              " View run at <a href='https://wandb.ai/shahi77-national-institute-of-technology-hamirpur/deep-learning-experiments/runs/0mwgycw2' target=\"_blank\">https://wandb.ai/shahi77-national-institute-of-technology-hamirpur/deep-learning-experiments/runs/0mwgycw2</a>"
            ]
          },
          "metadata": {}
        },
        {
          "output_type": "stream",
          "name": "stdout",
          "text": [
            "Epoch [1/5], Loss: 1942.9064, Accuracy: 0.5468\n",
            "Epoch [2/5], Loss: 1108.8432, Accuracy: 0.7327\n",
            "Epoch [3/5], Loss: 741.9741, Accuracy: 0.7433\n",
            "Epoch [4/5], Loss: 638.3165, Accuracy: 0.7463\n",
            "Epoch [5/5], Loss: 597.4441, Accuracy: 0.7492\n"
          ]
        },
        {
          "output_type": "display_data",
          "data": {
            "text/plain": [
              "<IPython.core.display.HTML object>"
            ],
            "text/html": []
          },
          "metadata": {}
        },
        {
          "output_type": "display_data",
          "data": {
            "text/plain": [
              "<IPython.core.display.HTML object>"
            ],
            "text/html": [
              "<br>    <style><br>        .wandb-row {<br>            display: flex;<br>            flex-direction: row;<br>            flex-wrap: wrap;<br>            justify-content: flex-start;<br>            width: 100%;<br>        }<br>        .wandb-col {<br>            display: flex;<br>            flex-direction: column;<br>            flex-basis: 100%;<br>            flex: 1;<br>            padding: 10px;<br>        }<br>    </style><br><div class=\"wandb-row\"><div class=\"wandb-col\"><h3>Run history:</h3><br/><table class=\"wandb\"><tr><td>Accuracy</td><td>▁▇███</td></tr><tr><td>Epoch</td><td>▁▃▅▆█</td></tr><tr><td>Loss</td><td>█▄▂▁▁</td></tr></table><br/></div><div class=\"wandb-col\"><h3>Run summary:</h3><br/><table class=\"wandb\"><tr><td>Accuracy</td><td>0.7492</td></tr><tr><td>Activation Function</td><td>Softmax</td></tr><tr><td>Dataset</td><td>Fashion-MNIST</td></tr><tr><td>Epoch</td><td>5</td></tr><tr><td>Loss</td><td>0.63693</td></tr></table><br/></div></div>"
            ]
          },
          "metadata": {}
        },
        {
          "output_type": "display_data",
          "data": {
            "text/plain": [
              "<IPython.core.display.HTML object>"
            ],
            "text/html": [
              " View run <strong style=\"color:#cdcd00\">Fashion-MNIST-Softmax</strong> at: <a href='https://wandb.ai/shahi77-national-institute-of-technology-hamirpur/deep-learning-experiments/runs/0mwgycw2' target=\"_blank\">https://wandb.ai/shahi77-national-institute-of-technology-hamirpur/deep-learning-experiments/runs/0mwgycw2</a><br> View project at: <a href='https://wandb.ai/shahi77-national-institute-of-technology-hamirpur/deep-learning-experiments' target=\"_blank\">https://wandb.ai/shahi77-national-institute-of-technology-hamirpur/deep-learning-experiments</a><br>Synced 5 W&B file(s), 0 media file(s), 0 artifact file(s) and 0 other file(s)"
            ]
          },
          "metadata": {}
        },
        {
          "output_type": "display_data",
          "data": {
            "text/plain": [
              "<IPython.core.display.HTML object>"
            ],
            "text/html": [
              "Find logs at: <code>./wandb/run-20250206_144109-0mwgycw2/logs</code>"
            ]
          },
          "metadata": {}
        },
        {
          "output_type": "stream",
          "name": "stdout",
          "text": [
            "\n",
            "Training on Fashion-MNIST with Activation: Softplus\n"
          ]
        },
        {
          "output_type": "display_data",
          "data": {
            "text/plain": [
              "<IPython.core.display.HTML object>"
            ],
            "text/html": [
              "Changes to your `wandb` environment variables will be ignored because your `wandb` session has already started. For more information on how to modify your settings with `wandb.init()` arguments, please refer to <a href='https://wandb.me/wandb-init' target=\"_blank\">the W&B docs</a>."
            ]
          },
          "metadata": {}
        },
        {
          "output_type": "display_data",
          "data": {
            "text/plain": [
              "<IPython.core.display.HTML object>"
            ],
            "text/html": [
              "Ignoring project 'activation-functions-analysis' when running a sweep."
            ]
          },
          "metadata": {}
        },
        {
          "output_type": "display_data",
          "data": {
            "text/plain": [
              "<IPython.core.display.HTML object>"
            ],
            "text/html": [
              "Tracking run with wandb version 0.19.5"
            ]
          },
          "metadata": {}
        },
        {
          "output_type": "display_data",
          "data": {
            "text/plain": [
              "<IPython.core.display.HTML object>"
            ],
            "text/html": [
              "Run data is saved locally in <code>/content/wandb/run-20250206_144247-0mwgycw2</code>"
            ]
          },
          "metadata": {}
        },
        {
          "output_type": "display_data",
          "data": {
            "text/plain": [
              "<IPython.core.display.HTML object>"
            ],
            "text/html": [
              "Syncing run <strong><a href='https://wandb.ai/shahi77-national-institute-of-technology-hamirpur/deep-learning-experiments/runs/0mwgycw2' target=\"_blank\">Fashion-MNIST-Softplus</a></strong> to <a href='https://wandb.ai/shahi77-national-institute-of-technology-hamirpur/deep-learning-experiments' target=\"_blank\">Weights & Biases</a> (<a href='https://wandb.me/developer-guide' target=\"_blank\">docs</a>)<br>Sweep page: <a href='https://wandb.ai/shahi77-national-institute-of-technology-hamirpur/deep-learning-experiments/sweeps/ntjma6uk' target=\"_blank\">https://wandb.ai/shahi77-national-institute-of-technology-hamirpur/deep-learning-experiments/sweeps/ntjma6uk</a>"
            ]
          },
          "metadata": {}
        },
        {
          "output_type": "display_data",
          "data": {
            "text/plain": [
              "<IPython.core.display.HTML object>"
            ],
            "text/html": [
              " View project at <a href='https://wandb.ai/shahi77-national-institute-of-technology-hamirpur/deep-learning-experiments' target=\"_blank\">https://wandb.ai/shahi77-national-institute-of-technology-hamirpur/deep-learning-experiments</a>"
            ]
          },
          "metadata": {}
        },
        {
          "output_type": "display_data",
          "data": {
            "text/plain": [
              "<IPython.core.display.HTML object>"
            ],
            "text/html": [
              " View sweep at <a href='https://wandb.ai/shahi77-national-institute-of-technology-hamirpur/deep-learning-experiments/sweeps/ntjma6uk' target=\"_blank\">https://wandb.ai/shahi77-national-institute-of-technology-hamirpur/deep-learning-experiments/sweeps/ntjma6uk</a>"
            ]
          },
          "metadata": {}
        },
        {
          "output_type": "display_data",
          "data": {
            "text/plain": [
              "<IPython.core.display.HTML object>"
            ],
            "text/html": [
              " View run at <a href='https://wandb.ai/shahi77-national-institute-of-technology-hamirpur/deep-learning-experiments/runs/0mwgycw2' target=\"_blank\">https://wandb.ai/shahi77-national-institute-of-technology-hamirpur/deep-learning-experiments/runs/0mwgycw2</a>"
            ]
          },
          "metadata": {}
        },
        {
          "output_type": "stream",
          "name": "stdout",
          "text": [
            "Epoch [1/5], Loss: 496.0713, Accuracy: 0.8090\n",
            "Epoch [2/5], Loss: 368.1403, Accuracy: 0.8559\n",
            "Epoch [3/5], Loss: 331.6035, Accuracy: 0.8700\n",
            "Epoch [4/5], Loss: 305.0150, Accuracy: 0.8799\n",
            "Epoch [5/5], Loss: 285.7613, Accuracy: 0.8861\n"
          ]
        },
        {
          "output_type": "display_data",
          "data": {
            "text/plain": [
              "<IPython.core.display.HTML object>"
            ],
            "text/html": []
          },
          "metadata": {}
        },
        {
          "output_type": "display_data",
          "data": {
            "text/plain": [
              "<IPython.core.display.HTML object>"
            ],
            "text/html": [
              "<br>    <style><br>        .wandb-row {<br>            display: flex;<br>            flex-direction: row;<br>            flex-wrap: wrap;<br>            justify-content: flex-start;<br>            width: 100%;<br>        }<br>        .wandb-col {<br>            display: flex;<br>            flex-direction: column;<br>            flex-basis: 100%;<br>            flex: 1;<br>            padding: 10px;<br>        }<br>    </style><br><div class=\"wandb-row\"><div class=\"wandb-col\"><h3>Run history:</h3><br/><table class=\"wandb\"><tr><td>Accuracy</td><td>▁▅▇▇█</td></tr><tr><td>Epoch</td><td>▁▃▅▆█</td></tr><tr><td>Loss</td><td>█▄▃▂▁</td></tr></table><br/></div><div class=\"wandb-col\"><h3>Run summary:</h3><br/><table class=\"wandb\"><tr><td>Accuracy</td><td>0.88607</td></tr><tr><td>Activation Function</td><td>Softplus</td></tr><tr><td>Dataset</td><td>Fashion-MNIST</td></tr><tr><td>Epoch</td><td>5</td></tr><tr><td>Loss</td><td>0.30465</td></tr></table><br/></div></div>"
            ]
          },
          "metadata": {}
        },
        {
          "output_type": "display_data",
          "data": {
            "text/plain": [
              "<IPython.core.display.HTML object>"
            ],
            "text/html": [
              " View run <strong style=\"color:#cdcd00\">Fashion-MNIST-Softplus</strong> at: <a href='https://wandb.ai/shahi77-national-institute-of-technology-hamirpur/deep-learning-experiments/runs/0mwgycw2' target=\"_blank\">https://wandb.ai/shahi77-national-institute-of-technology-hamirpur/deep-learning-experiments/runs/0mwgycw2</a><br> View project at: <a href='https://wandb.ai/shahi77-national-institute-of-technology-hamirpur/deep-learning-experiments' target=\"_blank\">https://wandb.ai/shahi77-national-institute-of-technology-hamirpur/deep-learning-experiments</a><br>Synced 5 W&B file(s), 0 media file(s), 0 artifact file(s) and 0 other file(s)"
            ]
          },
          "metadata": {}
        },
        {
          "output_type": "display_data",
          "data": {
            "text/plain": [
              "<IPython.core.display.HTML object>"
            ],
            "text/html": [
              "Find logs at: <code>./wandb/run-20250206_144247-0mwgycw2/logs</code>"
            ]
          },
          "metadata": {}
        },
        {
          "output_type": "stream",
          "name": "stdout",
          "text": [
            "\n",
            "Training on Fashion-MNIST with Activation: Swish\n"
          ]
        },
        {
          "output_type": "display_data",
          "data": {
            "text/plain": [
              "<IPython.core.display.HTML object>"
            ],
            "text/html": [
              "Changes to your `wandb` environment variables will be ignored because your `wandb` session has already started. For more information on how to modify your settings with `wandb.init()` arguments, please refer to <a href='https://wandb.me/wandb-init' target=\"_blank\">the W&B docs</a>."
            ]
          },
          "metadata": {}
        },
        {
          "output_type": "display_data",
          "data": {
            "text/plain": [
              "<IPython.core.display.HTML object>"
            ],
            "text/html": [
              "Ignoring project 'activation-functions-analysis' when running a sweep."
            ]
          },
          "metadata": {}
        },
        {
          "output_type": "display_data",
          "data": {
            "text/plain": [
              "<IPython.core.display.HTML object>"
            ],
            "text/html": [
              "Tracking run with wandb version 0.19.5"
            ]
          },
          "metadata": {}
        },
        {
          "output_type": "display_data",
          "data": {
            "text/plain": [
              "<IPython.core.display.HTML object>"
            ],
            "text/html": [
              "Run data is saved locally in <code>/content/wandb/run-20250206_144422-0mwgycw2</code>"
            ]
          },
          "metadata": {}
        },
        {
          "output_type": "display_data",
          "data": {
            "text/plain": [
              "<IPython.core.display.HTML object>"
            ],
            "text/html": [
              "Syncing run <strong><a href='https://wandb.ai/shahi77-national-institute-of-technology-hamirpur/deep-learning-experiments/runs/0mwgycw2' target=\"_blank\">Fashion-MNIST-Swish</a></strong> to <a href='https://wandb.ai/shahi77-national-institute-of-technology-hamirpur/deep-learning-experiments' target=\"_blank\">Weights & Biases</a> (<a href='https://wandb.me/developer-guide' target=\"_blank\">docs</a>)<br>Sweep page: <a href='https://wandb.ai/shahi77-national-institute-of-technology-hamirpur/deep-learning-experiments/sweeps/ntjma6uk' target=\"_blank\">https://wandb.ai/shahi77-national-institute-of-technology-hamirpur/deep-learning-experiments/sweeps/ntjma6uk</a>"
            ]
          },
          "metadata": {}
        },
        {
          "output_type": "display_data",
          "data": {
            "text/plain": [
              "<IPython.core.display.HTML object>"
            ],
            "text/html": [
              " View project at <a href='https://wandb.ai/shahi77-national-institute-of-technology-hamirpur/deep-learning-experiments' target=\"_blank\">https://wandb.ai/shahi77-national-institute-of-technology-hamirpur/deep-learning-experiments</a>"
            ]
          },
          "metadata": {}
        },
        {
          "output_type": "display_data",
          "data": {
            "text/plain": [
              "<IPython.core.display.HTML object>"
            ],
            "text/html": [
              " View sweep at <a href='https://wandb.ai/shahi77-national-institute-of-technology-hamirpur/deep-learning-experiments/sweeps/ntjma6uk' target=\"_blank\">https://wandb.ai/shahi77-national-institute-of-technology-hamirpur/deep-learning-experiments/sweeps/ntjma6uk</a>"
            ]
          },
          "metadata": {}
        },
        {
          "output_type": "display_data",
          "data": {
            "text/plain": [
              "<IPython.core.display.HTML object>"
            ],
            "text/html": [
              " View run at <a href='https://wandb.ai/shahi77-national-institute-of-technology-hamirpur/deep-learning-experiments/runs/0mwgycw2' target=\"_blank\">https://wandb.ai/shahi77-national-institute-of-technology-hamirpur/deep-learning-experiments/runs/0mwgycw2</a>"
            ]
          },
          "metadata": {}
        },
        {
          "output_type": "stream",
          "name": "stdout",
          "text": [
            "Epoch [1/5], Loss: 468.7093, Accuracy: 0.8186\n",
            "Epoch [2/5], Loss: 344.1253, Accuracy: 0.8641\n",
            "Epoch [3/5], Loss: 309.0923, Accuracy: 0.8782\n",
            "Epoch [4/5], Loss: 286.0011, Accuracy: 0.8859\n",
            "Epoch [5/5], Loss: 265.9204, Accuracy: 0.8933\n"
          ]
        },
        {
          "output_type": "display_data",
          "data": {
            "text/plain": [
              "<IPython.core.display.HTML object>"
            ],
            "text/html": []
          },
          "metadata": {}
        },
        {
          "output_type": "display_data",
          "data": {
            "text/plain": [
              "<IPython.core.display.HTML object>"
            ],
            "text/html": [
              "<br>    <style><br>        .wandb-row {<br>            display: flex;<br>            flex-direction: row;<br>            flex-wrap: wrap;<br>            justify-content: flex-start;<br>            width: 100%;<br>        }<br>        .wandb-col {<br>            display: flex;<br>            flex-direction: column;<br>            flex-basis: 100%;<br>            flex: 1;<br>            padding: 10px;<br>        }<br>    </style><br><div class=\"wandb-row\"><div class=\"wandb-col\"><h3>Run history:</h3><br/><table class=\"wandb\"><tr><td>Accuracy</td><td>▁▅▇▇█</td></tr><tr><td>Epoch</td><td>▁▃▅▆█</td></tr><tr><td>Loss</td><td>█▄▂▂▁</td></tr></table><br/></div><div class=\"wandb-col\"><h3>Run summary:</h3><br/><table class=\"wandb\"><tr><td>Accuracy</td><td>0.89333</td></tr><tr><td>Activation Function</td><td>Swish</td></tr><tr><td>Dataset</td><td>Fashion-MNIST</td></tr><tr><td>Epoch</td><td>5</td></tr><tr><td>Loss</td><td>0.2835</td></tr></table><br/></div></div>"
            ]
          },
          "metadata": {}
        },
        {
          "output_type": "display_data",
          "data": {
            "text/plain": [
              "<IPython.core.display.HTML object>"
            ],
            "text/html": [
              " View run <strong style=\"color:#cdcd00\">Fashion-MNIST-Swish</strong> at: <a href='https://wandb.ai/shahi77-national-institute-of-technology-hamirpur/deep-learning-experiments/runs/0mwgycw2' target=\"_blank\">https://wandb.ai/shahi77-national-institute-of-technology-hamirpur/deep-learning-experiments/runs/0mwgycw2</a><br> View project at: <a href='https://wandb.ai/shahi77-national-institute-of-technology-hamirpur/deep-learning-experiments' target=\"_blank\">https://wandb.ai/shahi77-national-institute-of-technology-hamirpur/deep-learning-experiments</a><br>Synced 5 W&B file(s), 0 media file(s), 0 artifact file(s) and 0 other file(s)"
            ]
          },
          "metadata": {}
        },
        {
          "output_type": "display_data",
          "data": {
            "text/plain": [
              "<IPython.core.display.HTML object>"
            ],
            "text/html": [
              "Find logs at: <code>./wandb/run-20250206_144422-0mwgycw2/logs</code>"
            ]
          },
          "metadata": {}
        },
        {
          "output_type": "stream",
          "name": "stdout",
          "text": [
            "\n",
            "Training on Fashion-MNIST with Activation: ESwish\n"
          ]
        },
        {
          "output_type": "display_data",
          "data": {
            "text/plain": [
              "<IPython.core.display.HTML object>"
            ],
            "text/html": [
              "Changes to your `wandb` environment variables will be ignored because your `wandb` session has already started. For more information on how to modify your settings with `wandb.init()` arguments, please refer to <a href='https://wandb.me/wandb-init' target=\"_blank\">the W&B docs</a>."
            ]
          },
          "metadata": {}
        },
        {
          "output_type": "display_data",
          "data": {
            "text/plain": [
              "<IPython.core.display.HTML object>"
            ],
            "text/html": [
              "Ignoring project 'activation-functions-analysis' when running a sweep."
            ]
          },
          "metadata": {}
        },
        {
          "output_type": "display_data",
          "data": {
            "text/plain": [
              "<IPython.core.display.HTML object>"
            ],
            "text/html": [
              "Tracking run with wandb version 0.19.5"
            ]
          },
          "metadata": {}
        },
        {
          "output_type": "display_data",
          "data": {
            "text/plain": [
              "<IPython.core.display.HTML object>"
            ],
            "text/html": [
              "Run data is saved locally in <code>/content/wandb/run-20250206_144557-0mwgycw2</code>"
            ]
          },
          "metadata": {}
        },
        {
          "output_type": "display_data",
          "data": {
            "text/plain": [
              "<IPython.core.display.HTML object>"
            ],
            "text/html": [
              "Syncing run <strong><a href='https://wandb.ai/shahi77-national-institute-of-technology-hamirpur/deep-learning-experiments/runs/0mwgycw2' target=\"_blank\">Fashion-MNIST-ESwish</a></strong> to <a href='https://wandb.ai/shahi77-national-institute-of-technology-hamirpur/deep-learning-experiments' target=\"_blank\">Weights & Biases</a> (<a href='https://wandb.me/developer-guide' target=\"_blank\">docs</a>)<br>Sweep page: <a href='https://wandb.ai/shahi77-national-institute-of-technology-hamirpur/deep-learning-experiments/sweeps/ntjma6uk' target=\"_blank\">https://wandb.ai/shahi77-national-institute-of-technology-hamirpur/deep-learning-experiments/sweeps/ntjma6uk</a>"
            ]
          },
          "metadata": {}
        },
        {
          "output_type": "display_data",
          "data": {
            "text/plain": [
              "<IPython.core.display.HTML object>"
            ],
            "text/html": [
              " View project at <a href='https://wandb.ai/shahi77-national-institute-of-technology-hamirpur/deep-learning-experiments' target=\"_blank\">https://wandb.ai/shahi77-national-institute-of-technology-hamirpur/deep-learning-experiments</a>"
            ]
          },
          "metadata": {}
        },
        {
          "output_type": "display_data",
          "data": {
            "text/plain": [
              "<IPython.core.display.HTML object>"
            ],
            "text/html": [
              " View sweep at <a href='https://wandb.ai/shahi77-national-institute-of-technology-hamirpur/deep-learning-experiments/sweeps/ntjma6uk' target=\"_blank\">https://wandb.ai/shahi77-national-institute-of-technology-hamirpur/deep-learning-experiments/sweeps/ntjma6uk</a>"
            ]
          },
          "metadata": {}
        },
        {
          "output_type": "display_data",
          "data": {
            "text/plain": [
              "<IPython.core.display.HTML object>"
            ],
            "text/html": [
              " View run at <a href='https://wandb.ai/shahi77-national-institute-of-technology-hamirpur/deep-learning-experiments/runs/0mwgycw2' target=\"_blank\">https://wandb.ai/shahi77-national-institute-of-technology-hamirpur/deep-learning-experiments/runs/0mwgycw2</a>"
            ]
          },
          "metadata": {}
        },
        {
          "output_type": "stream",
          "name": "stdout",
          "text": [
            "Epoch [1/5], Loss: 453.1963, Accuracy: 0.8241\n",
            "Epoch [2/5], Loss: 337.5458, Accuracy: 0.8668\n",
            "Epoch [3/5], Loss: 303.7127, Accuracy: 0.8791\n",
            "Epoch [4/5], Loss: 281.5577, Accuracy: 0.8885\n",
            "Epoch [5/5], Loss: 262.1069, Accuracy: 0.8954\n"
          ]
        },
        {
          "output_type": "display_data",
          "data": {
            "text/plain": [
              "<IPython.core.display.HTML object>"
            ],
            "text/html": []
          },
          "metadata": {}
        },
        {
          "output_type": "display_data",
          "data": {
            "text/plain": [
              "<IPython.core.display.HTML object>"
            ],
            "text/html": [
              "<br>    <style><br>        .wandb-row {<br>            display: flex;<br>            flex-direction: row;<br>            flex-wrap: wrap;<br>            justify-content: flex-start;<br>            width: 100%;<br>        }<br>        .wandb-col {<br>            display: flex;<br>            flex-direction: column;<br>            flex-basis: 100%;<br>            flex: 1;<br>            padding: 10px;<br>        }<br>    </style><br><div class=\"wandb-row\"><div class=\"wandb-col\"><h3>Run history:</h3><br/><table class=\"wandb\"><tr><td>Accuracy</td><td>▁▅▆▇█</td></tr><tr><td>Epoch</td><td>▁▃▅▆█</td></tr><tr><td>Loss</td><td>█▄▃▂▁</td></tr></table><br/></div><div class=\"wandb-col\"><h3>Run summary:</h3><br/><table class=\"wandb\"><tr><td>Accuracy</td><td>0.8954</td></tr><tr><td>Activation Function</td><td>ESwish</td></tr><tr><td>Dataset</td><td>Fashion-MNIST</td></tr><tr><td>Epoch</td><td>5</td></tr><tr><td>Loss</td><td>0.27943</td></tr></table><br/></div></div>"
            ]
          },
          "metadata": {}
        },
        {
          "output_type": "display_data",
          "data": {
            "text/plain": [
              "<IPython.core.display.HTML object>"
            ],
            "text/html": [
              " View run <strong style=\"color:#cdcd00\">Fashion-MNIST-ESwish</strong> at: <a href='https://wandb.ai/shahi77-national-institute-of-technology-hamirpur/deep-learning-experiments/runs/0mwgycw2' target=\"_blank\">https://wandb.ai/shahi77-national-institute-of-technology-hamirpur/deep-learning-experiments/runs/0mwgycw2</a><br> View project at: <a href='https://wandb.ai/shahi77-national-institute-of-technology-hamirpur/deep-learning-experiments' target=\"_blank\">https://wandb.ai/shahi77-national-institute-of-technology-hamirpur/deep-learning-experiments</a><br>Synced 5 W&B file(s), 0 media file(s), 0 artifact file(s) and 0 other file(s)"
            ]
          },
          "metadata": {}
        },
        {
          "output_type": "display_data",
          "data": {
            "text/plain": [
              "<IPython.core.display.HTML object>"
            ],
            "text/html": [
              "Find logs at: <code>./wandb/run-20250206_144557-0mwgycw2/logs</code>"
            ]
          },
          "metadata": {}
        },
        {
          "output_type": "stream",
          "name": "stdout",
          "text": [
            "\n",
            "Training on Fashion-MNIST with Activation: GELU\n"
          ]
        },
        {
          "output_type": "display_data",
          "data": {
            "text/plain": [
              "<IPython.core.display.HTML object>"
            ],
            "text/html": [
              "Changes to your `wandb` environment variables will be ignored because your `wandb` session has already started. For more information on how to modify your settings with `wandb.init()` arguments, please refer to <a href='https://wandb.me/wandb-init' target=\"_blank\">the W&B docs</a>."
            ]
          },
          "metadata": {}
        },
        {
          "output_type": "display_data",
          "data": {
            "text/plain": [
              "<IPython.core.display.HTML object>"
            ],
            "text/html": [
              "Ignoring project 'activation-functions-analysis' when running a sweep."
            ]
          },
          "metadata": {}
        },
        {
          "output_type": "display_data",
          "data": {
            "text/plain": [
              "<IPython.core.display.HTML object>"
            ],
            "text/html": [
              "Tracking run with wandb version 0.19.5"
            ]
          },
          "metadata": {}
        },
        {
          "output_type": "display_data",
          "data": {
            "text/plain": [
              "<IPython.core.display.HTML object>"
            ],
            "text/html": [
              "Run data is saved locally in <code>/content/wandb/run-20250206_144736-0mwgycw2</code>"
            ]
          },
          "metadata": {}
        },
        {
          "output_type": "display_data",
          "data": {
            "text/plain": [
              "<IPython.core.display.HTML object>"
            ],
            "text/html": [
              "Syncing run <strong><a href='https://wandb.ai/shahi77-national-institute-of-technology-hamirpur/deep-learning-experiments/runs/0mwgycw2' target=\"_blank\">Fashion-MNIST-GELU</a></strong> to <a href='https://wandb.ai/shahi77-national-institute-of-technology-hamirpur/deep-learning-experiments' target=\"_blank\">Weights & Biases</a> (<a href='https://wandb.me/developer-guide' target=\"_blank\">docs</a>)<br>Sweep page: <a href='https://wandb.ai/shahi77-national-institute-of-technology-hamirpur/deep-learning-experiments/sweeps/ntjma6uk' target=\"_blank\">https://wandb.ai/shahi77-national-institute-of-technology-hamirpur/deep-learning-experiments/sweeps/ntjma6uk</a>"
            ]
          },
          "metadata": {}
        },
        {
          "output_type": "display_data",
          "data": {
            "text/plain": [
              "<IPython.core.display.HTML object>"
            ],
            "text/html": [
              " View project at <a href='https://wandb.ai/shahi77-national-institute-of-technology-hamirpur/deep-learning-experiments' target=\"_blank\">https://wandb.ai/shahi77-national-institute-of-technology-hamirpur/deep-learning-experiments</a>"
            ]
          },
          "metadata": {}
        },
        {
          "output_type": "display_data",
          "data": {
            "text/plain": [
              "<IPython.core.display.HTML object>"
            ],
            "text/html": [
              " View sweep at <a href='https://wandb.ai/shahi77-national-institute-of-technology-hamirpur/deep-learning-experiments/sweeps/ntjma6uk' target=\"_blank\">https://wandb.ai/shahi77-national-institute-of-technology-hamirpur/deep-learning-experiments/sweeps/ntjma6uk</a>"
            ]
          },
          "metadata": {}
        },
        {
          "output_type": "display_data",
          "data": {
            "text/plain": [
              "<IPython.core.display.HTML object>"
            ],
            "text/html": [
              " View run at <a href='https://wandb.ai/shahi77-national-institute-of-technology-hamirpur/deep-learning-experiments/runs/0mwgycw2' target=\"_blank\">https://wandb.ai/shahi77-national-institute-of-technology-hamirpur/deep-learning-experiments/runs/0mwgycw2</a>"
            ]
          },
          "metadata": {}
        },
        {
          "output_type": "stream",
          "name": "stdout",
          "text": [
            "Epoch [1/5], Loss: 470.2869, Accuracy: 0.8187\n",
            "Epoch [2/5], Loss: 344.8625, Accuracy: 0.8648\n",
            "Epoch [3/5], Loss: 310.0320, Accuracy: 0.8786\n",
            "Epoch [4/5], Loss: 287.9814, Accuracy: 0.8862\n",
            "Epoch [5/5], Loss: 270.2899, Accuracy: 0.8932\n"
          ]
        },
        {
          "output_type": "display_data",
          "data": {
            "text/plain": [
              "<IPython.core.display.HTML object>"
            ],
            "text/html": []
          },
          "metadata": {}
        },
        {
          "output_type": "display_data",
          "data": {
            "text/plain": [
              "<IPython.core.display.HTML object>"
            ],
            "text/html": [
              "<br>    <style><br>        .wandb-row {<br>            display: flex;<br>            flex-direction: row;<br>            flex-wrap: wrap;<br>            justify-content: flex-start;<br>            width: 100%;<br>        }<br>        .wandb-col {<br>            display: flex;<br>            flex-direction: column;<br>            flex-basis: 100%;<br>            flex: 1;<br>            padding: 10px;<br>        }<br>    </style><br><div class=\"wandb-row\"><div class=\"wandb-col\"><h3>Run history:</h3><br/><table class=\"wandb\"><tr><td>Accuracy</td><td>▁▅▇▇█</td></tr><tr><td>Epoch</td><td>▁▃▅▆█</td></tr><tr><td>Loss</td><td>█▄▂▂▁</td></tr></table><br/></div><div class=\"wandb-col\"><h3>Run summary:</h3><br/><table class=\"wandb\"><tr><td>Accuracy</td><td>0.89323</td></tr><tr><td>Activation Function</td><td>GELU</td></tr><tr><td>Dataset</td><td>Fashion-MNIST</td></tr><tr><td>Epoch</td><td>5</td></tr><tr><td>Loss</td><td>0.28816</td></tr></table><br/></div></div>"
            ]
          },
          "metadata": {}
        },
        {
          "output_type": "display_data",
          "data": {
            "text/plain": [
              "<IPython.core.display.HTML object>"
            ],
            "text/html": [
              " View run <strong style=\"color:#cdcd00\">Fashion-MNIST-GELU</strong> at: <a href='https://wandb.ai/shahi77-national-institute-of-technology-hamirpur/deep-learning-experiments/runs/0mwgycw2' target=\"_blank\">https://wandb.ai/shahi77-national-institute-of-technology-hamirpur/deep-learning-experiments/runs/0mwgycw2</a><br> View project at: <a href='https://wandb.ai/shahi77-national-institute-of-technology-hamirpur/deep-learning-experiments' target=\"_blank\">https://wandb.ai/shahi77-national-institute-of-technology-hamirpur/deep-learning-experiments</a><br>Synced 5 W&B file(s), 0 media file(s), 0 artifact file(s) and 0 other file(s)"
            ]
          },
          "metadata": {}
        },
        {
          "output_type": "display_data",
          "data": {
            "text/plain": [
              "<IPython.core.display.HTML object>"
            ],
            "text/html": [
              "Find logs at: <code>./wandb/run-20250206_144736-0mwgycw2/logs</code>"
            ]
          },
          "metadata": {}
        },
        {
          "output_type": "stream",
          "name": "stdout",
          "text": [
            "\n",
            "Training on Fashion-MNIST with Activation: SELU\n"
          ]
        },
        {
          "output_type": "display_data",
          "data": {
            "text/plain": [
              "<IPython.core.display.HTML object>"
            ],
            "text/html": [
              "Changes to your `wandb` environment variables will be ignored because your `wandb` session has already started. For more information on how to modify your settings with `wandb.init()` arguments, please refer to <a href='https://wandb.me/wandb-init' target=\"_blank\">the W&B docs</a>."
            ]
          },
          "metadata": {}
        },
        {
          "output_type": "display_data",
          "data": {
            "text/plain": [
              "<IPython.core.display.HTML object>"
            ],
            "text/html": [
              "Ignoring project 'activation-functions-analysis' when running a sweep."
            ]
          },
          "metadata": {}
        },
        {
          "output_type": "display_data",
          "data": {
            "text/plain": [
              "<IPython.core.display.HTML object>"
            ],
            "text/html": [
              "Tracking run with wandb version 0.19.5"
            ]
          },
          "metadata": {}
        },
        {
          "output_type": "display_data",
          "data": {
            "text/plain": [
              "<IPython.core.display.HTML object>"
            ],
            "text/html": [
              "Run data is saved locally in <code>/content/wandb/run-20250206_144912-0mwgycw2</code>"
            ]
          },
          "metadata": {}
        },
        {
          "output_type": "display_data",
          "data": {
            "text/plain": [
              "<IPython.core.display.HTML object>"
            ],
            "text/html": [
              "Syncing run <strong><a href='https://wandb.ai/shahi77-national-institute-of-technology-hamirpur/deep-learning-experiments/runs/0mwgycw2' target=\"_blank\">Fashion-MNIST-SELU</a></strong> to <a href='https://wandb.ai/shahi77-national-institute-of-technology-hamirpur/deep-learning-experiments' target=\"_blank\">Weights & Biases</a> (<a href='https://wandb.me/developer-guide' target=\"_blank\">docs</a>)<br>Sweep page: <a href='https://wandb.ai/shahi77-national-institute-of-technology-hamirpur/deep-learning-experiments/sweeps/ntjma6uk' target=\"_blank\">https://wandb.ai/shahi77-national-institute-of-technology-hamirpur/deep-learning-experiments/sweeps/ntjma6uk</a>"
            ]
          },
          "metadata": {}
        },
        {
          "output_type": "display_data",
          "data": {
            "text/plain": [
              "<IPython.core.display.HTML object>"
            ],
            "text/html": [
              " View project at <a href='https://wandb.ai/shahi77-national-institute-of-technology-hamirpur/deep-learning-experiments' target=\"_blank\">https://wandb.ai/shahi77-national-institute-of-technology-hamirpur/deep-learning-experiments</a>"
            ]
          },
          "metadata": {}
        },
        {
          "output_type": "display_data",
          "data": {
            "text/plain": [
              "<IPython.core.display.HTML object>"
            ],
            "text/html": [
              " View sweep at <a href='https://wandb.ai/shahi77-national-institute-of-technology-hamirpur/deep-learning-experiments/sweeps/ntjma6uk' target=\"_blank\">https://wandb.ai/shahi77-national-institute-of-technology-hamirpur/deep-learning-experiments/sweeps/ntjma6uk</a>"
            ]
          },
          "metadata": {}
        },
        {
          "output_type": "display_data",
          "data": {
            "text/plain": [
              "<IPython.core.display.HTML object>"
            ],
            "text/html": [
              " View run at <a href='https://wandb.ai/shahi77-national-institute-of-technology-hamirpur/deep-learning-experiments/runs/0mwgycw2' target=\"_blank\">https://wandb.ai/shahi77-national-institute-of-technology-hamirpur/deep-learning-experiments/runs/0mwgycw2</a>"
            ]
          },
          "metadata": {}
        },
        {
          "output_type": "stream",
          "name": "stdout",
          "text": [
            "Epoch [1/5], Loss: 468.3474, Accuracy: 0.8175\n",
            "Epoch [2/5], Loss: 358.7686, Accuracy: 0.8598\n",
            "Epoch [3/5], Loss: 324.1862, Accuracy: 0.8721\n",
            "Epoch [4/5], Loss: 300.5601, Accuracy: 0.8807\n",
            "Epoch [5/5], Loss: 282.9461, Accuracy: 0.8880\n"
          ]
        },
        {
          "output_type": "display_data",
          "data": {
            "text/plain": [
              "<IPython.core.display.HTML object>"
            ],
            "text/html": []
          },
          "metadata": {}
        },
        {
          "output_type": "display_data",
          "data": {
            "text/plain": [
              "<IPython.core.display.HTML object>"
            ],
            "text/html": [
              "<br>    <style><br>        .wandb-row {<br>            display: flex;<br>            flex-direction: row;<br>            flex-wrap: wrap;<br>            justify-content: flex-start;<br>            width: 100%;<br>        }<br>        .wandb-col {<br>            display: flex;<br>            flex-direction: column;<br>            flex-basis: 100%;<br>            flex: 1;<br>            padding: 10px;<br>        }<br>    </style><br><div class=\"wandb-row\"><div class=\"wandb-col\"><h3>Run history:</h3><br/><table class=\"wandb\"><tr><td>Accuracy</td><td>▁▅▆▇█</td></tr><tr><td>Epoch</td><td>▁▃▅▆█</td></tr><tr><td>Loss</td><td>█▄▃▂▁</td></tr></table><br/></div><div class=\"wandb-col\"><h3>Run summary:</h3><br/><table class=\"wandb\"><tr><td>Accuracy</td><td>0.88803</td></tr><tr><td>Activation Function</td><td>SELU</td></tr><tr><td>Dataset</td><td>Fashion-MNIST</td></tr><tr><td>Epoch</td><td>5</td></tr><tr><td>Loss</td><td>0.30165</td></tr></table><br/></div></div>"
            ]
          },
          "metadata": {}
        },
        {
          "output_type": "display_data",
          "data": {
            "text/plain": [
              "<IPython.core.display.HTML object>"
            ],
            "text/html": [
              " View run <strong style=\"color:#cdcd00\">Fashion-MNIST-SELU</strong> at: <a href='https://wandb.ai/shahi77-national-institute-of-technology-hamirpur/deep-learning-experiments/runs/0mwgycw2' target=\"_blank\">https://wandb.ai/shahi77-national-institute-of-technology-hamirpur/deep-learning-experiments/runs/0mwgycw2</a><br> View project at: <a href='https://wandb.ai/shahi77-national-institute-of-technology-hamirpur/deep-learning-experiments' target=\"_blank\">https://wandb.ai/shahi77-national-institute-of-technology-hamirpur/deep-learning-experiments</a><br>Synced 5 W&B file(s), 0 media file(s), 0 artifact file(s) and 0 other file(s)"
            ]
          },
          "metadata": {}
        },
        {
          "output_type": "display_data",
          "data": {
            "text/plain": [
              "<IPython.core.display.HTML object>"
            ],
            "text/html": [
              "Find logs at: <code>./wandb/run-20250206_144912-0mwgycw2/logs</code>"
            ]
          },
          "metadata": {}
        },
        {
          "output_type": "stream",
          "name": "stdout",
          "text": [
            "\n",
            "Training on CIFAR-10 with Activation: Sigmoid\n"
          ]
        },
        {
          "output_type": "display_data",
          "data": {
            "text/plain": [
              "<IPython.core.display.HTML object>"
            ],
            "text/html": [
              "Changes to your `wandb` environment variables will be ignored because your `wandb` session has already started. For more information on how to modify your settings with `wandb.init()` arguments, please refer to <a href='https://wandb.me/wandb-init' target=\"_blank\">the W&B docs</a>."
            ]
          },
          "metadata": {}
        },
        {
          "output_type": "display_data",
          "data": {
            "text/plain": [
              "<IPython.core.display.HTML object>"
            ],
            "text/html": [
              "Ignoring project 'activation-functions-analysis' when running a sweep."
            ]
          },
          "metadata": {}
        },
        {
          "output_type": "display_data",
          "data": {
            "text/plain": [
              "<IPython.core.display.HTML object>"
            ],
            "text/html": [
              "Tracking run with wandb version 0.19.5"
            ]
          },
          "metadata": {}
        },
        {
          "output_type": "display_data",
          "data": {
            "text/plain": [
              "<IPython.core.display.HTML object>"
            ],
            "text/html": [
              "Run data is saved locally in <code>/content/wandb/run-20250206_145046-0mwgycw2</code>"
            ]
          },
          "metadata": {}
        },
        {
          "output_type": "display_data",
          "data": {
            "text/plain": [
              "<IPython.core.display.HTML object>"
            ],
            "text/html": [
              "Syncing run <strong><a href='https://wandb.ai/shahi77-national-institute-of-technology-hamirpur/deep-learning-experiments/runs/0mwgycw2' target=\"_blank\">CIFAR-10-Sigmoid</a></strong> to <a href='https://wandb.ai/shahi77-national-institute-of-technology-hamirpur/deep-learning-experiments' target=\"_blank\">Weights & Biases</a> (<a href='https://wandb.me/developer-guide' target=\"_blank\">docs</a>)<br>Sweep page: <a href='https://wandb.ai/shahi77-national-institute-of-technology-hamirpur/deep-learning-experiments/sweeps/ntjma6uk' target=\"_blank\">https://wandb.ai/shahi77-national-institute-of-technology-hamirpur/deep-learning-experiments/sweeps/ntjma6uk</a>"
            ]
          },
          "metadata": {}
        },
        {
          "output_type": "display_data",
          "data": {
            "text/plain": [
              "<IPython.core.display.HTML object>"
            ],
            "text/html": [
              " View project at <a href='https://wandb.ai/shahi77-national-institute-of-technology-hamirpur/deep-learning-experiments' target=\"_blank\">https://wandb.ai/shahi77-national-institute-of-technology-hamirpur/deep-learning-experiments</a>"
            ]
          },
          "metadata": {}
        },
        {
          "output_type": "display_data",
          "data": {
            "text/plain": [
              "<IPython.core.display.HTML object>"
            ],
            "text/html": [
              " View sweep at <a href='https://wandb.ai/shahi77-national-institute-of-technology-hamirpur/deep-learning-experiments/sweeps/ntjma6uk' target=\"_blank\">https://wandb.ai/shahi77-national-institute-of-technology-hamirpur/deep-learning-experiments/sweeps/ntjma6uk</a>"
            ]
          },
          "metadata": {}
        },
        {
          "output_type": "display_data",
          "data": {
            "text/plain": [
              "<IPython.core.display.HTML object>"
            ],
            "text/html": [
              " View run at <a href='https://wandb.ai/shahi77-national-institute-of-technology-hamirpur/deep-learning-experiments/runs/0mwgycw2' target=\"_blank\">https://wandb.ai/shahi77-national-institute-of-technology-hamirpur/deep-learning-experiments/runs/0mwgycw2</a>"
            ]
          },
          "metadata": {}
        },
        {
          "output_type": "error",
          "ename": "RuntimeError",
          "evalue": "mat1 and mat2 shapes cannot be multiplied (64x3072 and 784x128)",
          "traceback": [
            "\u001b[0;31m---------------------------------------------------------------------------\u001b[0m",
            "\u001b[0;31mRuntimeError\u001b[0m                              Traceback (most recent call last)",
            "\u001b[0;32m<ipython-input-15-9eca4b28ad94>\u001b[0m in \u001b[0;36m<cell line: 0>\u001b[0;34m()\u001b[0m\n\u001b[1;32m     12\u001b[0m         \u001b[0mloss_fn\u001b[0m \u001b[0;34m=\u001b[0m \u001b[0mnn\u001b[0m\u001b[0;34m.\u001b[0m\u001b[0mCrossEntropyLoss\u001b[0m\u001b[0;34m(\u001b[0m\u001b[0;34m)\u001b[0m\u001b[0;34m\u001b[0m\u001b[0;34m\u001b[0m\u001b[0m\n\u001b[1;32m     13\u001b[0m \u001b[0;34m\u001b[0m\u001b[0m\n\u001b[0;32m---> 14\u001b[0;31m         \u001b[0mtrain_model\u001b[0m\u001b[0;34m(\u001b[0m\u001b[0mmodel\u001b[0m\u001b[0;34m,\u001b[0m \u001b[0mtrain_loader\u001b[0m\u001b[0;34m,\u001b[0m \u001b[0moptimizer\u001b[0m\u001b[0;34m,\u001b[0m \u001b[0mloss_fn\u001b[0m\u001b[0;34m,\u001b[0m \u001b[0mepochs\u001b[0m\u001b[0;34m=\u001b[0m\u001b[0;36m5\u001b[0m\u001b[0;34m,\u001b[0m \u001b[0mactivation_name\u001b[0m\u001b[0;34m=\u001b[0m\u001b[0mact_name\u001b[0m\u001b[0;34m,\u001b[0m \u001b[0mdataset_name\u001b[0m\u001b[0;34m=\u001b[0m\u001b[0mdataset_name\u001b[0m\u001b[0;34m)\u001b[0m\u001b[0;34m\u001b[0m\u001b[0;34m\u001b[0m\u001b[0m\n\u001b[0m\u001b[1;32m     15\u001b[0m \u001b[0;34m\u001b[0m\u001b[0m\n\u001b[1;32m     16\u001b[0m         \u001b[0mwandb\u001b[0m\u001b[0;34m.\u001b[0m\u001b[0mfinish\u001b[0m\u001b[0;34m(\u001b[0m\u001b[0;34m)\u001b[0m  \u001b[0;31m# Finish logging\u001b[0m\u001b[0;34m\u001b[0m\u001b[0;34m\u001b[0m\u001b[0m\n",
            "\u001b[0;32m<ipython-input-14-a5ca6b851363>\u001b[0m in \u001b[0;36mtrain_model\u001b[0;34m(model, train_loader, optimizer, loss_fn, epochs, activation_name, dataset_name)\u001b[0m\n\u001b[1;32m      8\u001b[0m         \u001b[0;32mfor\u001b[0m \u001b[0mimages\u001b[0m\u001b[0;34m,\u001b[0m \u001b[0mlabels\u001b[0m \u001b[0;32min\u001b[0m \u001b[0mtrain_loader\u001b[0m\u001b[0;34m:\u001b[0m\u001b[0;34m\u001b[0m\u001b[0;34m\u001b[0m\u001b[0m\n\u001b[1;32m      9\u001b[0m             \u001b[0moptimizer\u001b[0m\u001b[0;34m.\u001b[0m\u001b[0mzero_grad\u001b[0m\u001b[0;34m(\u001b[0m\u001b[0;34m)\u001b[0m\u001b[0;34m\u001b[0m\u001b[0;34m\u001b[0m\u001b[0m\n\u001b[0;32m---> 10\u001b[0;31m             \u001b[0moutputs\u001b[0m \u001b[0;34m=\u001b[0m \u001b[0mmodel\u001b[0m\u001b[0;34m(\u001b[0m\u001b[0mimages\u001b[0m\u001b[0;34m)\u001b[0m\u001b[0;34m\u001b[0m\u001b[0;34m\u001b[0m\u001b[0m\n\u001b[0m\u001b[1;32m     11\u001b[0m             \u001b[0mloss\u001b[0m \u001b[0;34m=\u001b[0m \u001b[0mloss_fn\u001b[0m\u001b[0;34m(\u001b[0m\u001b[0moutputs\u001b[0m\u001b[0;34m,\u001b[0m \u001b[0mlabels\u001b[0m\u001b[0;34m)\u001b[0m\u001b[0;34m\u001b[0m\u001b[0;34m\u001b[0m\u001b[0m\n\u001b[1;32m     12\u001b[0m             \u001b[0mloss\u001b[0m\u001b[0;34m.\u001b[0m\u001b[0mbackward\u001b[0m\u001b[0;34m(\u001b[0m\u001b[0;34m)\u001b[0m\u001b[0;34m\u001b[0m\u001b[0;34m\u001b[0m\u001b[0m\n",
            "\u001b[0;32m/usr/local/lib/python3.11/dist-packages/torch/nn/modules/module.py\u001b[0m in \u001b[0;36m_wrapped_call_impl\u001b[0;34m(self, *args, **kwargs)\u001b[0m\n\u001b[1;32m   1734\u001b[0m             \u001b[0;32mreturn\u001b[0m \u001b[0mself\u001b[0m\u001b[0;34m.\u001b[0m\u001b[0m_compiled_call_impl\u001b[0m\u001b[0;34m(\u001b[0m\u001b[0;34m*\u001b[0m\u001b[0margs\u001b[0m\u001b[0;34m,\u001b[0m \u001b[0;34m**\u001b[0m\u001b[0mkwargs\u001b[0m\u001b[0;34m)\u001b[0m  \u001b[0;31m# type: ignore[misc]\u001b[0m\u001b[0;34m\u001b[0m\u001b[0;34m\u001b[0m\u001b[0m\n\u001b[1;32m   1735\u001b[0m         \u001b[0;32melse\u001b[0m\u001b[0;34m:\u001b[0m\u001b[0;34m\u001b[0m\u001b[0;34m\u001b[0m\u001b[0m\n\u001b[0;32m-> 1736\u001b[0;31m             \u001b[0;32mreturn\u001b[0m \u001b[0mself\u001b[0m\u001b[0;34m.\u001b[0m\u001b[0m_call_impl\u001b[0m\u001b[0;34m(\u001b[0m\u001b[0;34m*\u001b[0m\u001b[0margs\u001b[0m\u001b[0;34m,\u001b[0m \u001b[0;34m**\u001b[0m\u001b[0mkwargs\u001b[0m\u001b[0;34m)\u001b[0m\u001b[0;34m\u001b[0m\u001b[0;34m\u001b[0m\u001b[0m\n\u001b[0m\u001b[1;32m   1737\u001b[0m \u001b[0;34m\u001b[0m\u001b[0m\n\u001b[1;32m   1738\u001b[0m     \u001b[0;31m# torchrec tests the code consistency with the following code\u001b[0m\u001b[0;34m\u001b[0m\u001b[0;34m\u001b[0m\u001b[0m\n",
            "\u001b[0;32m/usr/local/lib/python3.11/dist-packages/torch/nn/modules/module.py\u001b[0m in \u001b[0;36m_call_impl\u001b[0;34m(self, *args, **kwargs)\u001b[0m\n\u001b[1;32m   1745\u001b[0m                 \u001b[0;32mor\u001b[0m \u001b[0m_global_backward_pre_hooks\u001b[0m \u001b[0;32mor\u001b[0m \u001b[0m_global_backward_hooks\u001b[0m\u001b[0;34m\u001b[0m\u001b[0;34m\u001b[0m\u001b[0m\n\u001b[1;32m   1746\u001b[0m                 or _global_forward_hooks or _global_forward_pre_hooks):\n\u001b[0;32m-> 1747\u001b[0;31m             \u001b[0;32mreturn\u001b[0m \u001b[0mforward_call\u001b[0m\u001b[0;34m(\u001b[0m\u001b[0;34m*\u001b[0m\u001b[0margs\u001b[0m\u001b[0;34m,\u001b[0m \u001b[0;34m**\u001b[0m\u001b[0mkwargs\u001b[0m\u001b[0;34m)\u001b[0m\u001b[0;34m\u001b[0m\u001b[0;34m\u001b[0m\u001b[0m\n\u001b[0m\u001b[1;32m   1748\u001b[0m \u001b[0;34m\u001b[0m\u001b[0m\n\u001b[1;32m   1749\u001b[0m         \u001b[0mresult\u001b[0m \u001b[0;34m=\u001b[0m \u001b[0;32mNone\u001b[0m\u001b[0;34m\u001b[0m\u001b[0;34m\u001b[0m\u001b[0m\n",
            "\u001b[0;32m<ipython-input-12-f8c59a028da5>\u001b[0m in \u001b[0;36mforward\u001b[0;34m(self, x)\u001b[0m\n\u001b[1;32m     14\u001b[0m \u001b[0;34m\u001b[0m\u001b[0m\n\u001b[1;32m     15\u001b[0m     \u001b[0;32mdef\u001b[0m \u001b[0mforward\u001b[0m\u001b[0;34m(\u001b[0m\u001b[0mself\u001b[0m\u001b[0;34m,\u001b[0m \u001b[0mx\u001b[0m\u001b[0;34m)\u001b[0m\u001b[0;34m:\u001b[0m\u001b[0;34m\u001b[0m\u001b[0;34m\u001b[0m\u001b[0m\n\u001b[0;32m---> 16\u001b[0;31m         \u001b[0;32mreturn\u001b[0m \u001b[0mself\u001b[0m\u001b[0;34m.\u001b[0m\u001b[0mmodel\u001b[0m\u001b[0;34m(\u001b[0m\u001b[0mx\u001b[0m\u001b[0;34m.\u001b[0m\u001b[0mview\u001b[0m\u001b[0;34m(\u001b[0m\u001b[0mx\u001b[0m\u001b[0;34m.\u001b[0m\u001b[0msize\u001b[0m\u001b[0;34m(\u001b[0m\u001b[0;36m0\u001b[0m\u001b[0;34m)\u001b[0m\u001b[0;34m,\u001b[0m \u001b[0;34m-\u001b[0m\u001b[0;36m1\u001b[0m\u001b[0;34m)\u001b[0m\u001b[0;34m)\u001b[0m  \u001b[0;31m# Flatten input\u001b[0m\u001b[0;34m\u001b[0m\u001b[0;34m\u001b[0m\u001b[0m\n\u001b[0m",
            "\u001b[0;32m/usr/local/lib/python3.11/dist-packages/torch/nn/modules/module.py\u001b[0m in \u001b[0;36m_wrapped_call_impl\u001b[0;34m(self, *args, **kwargs)\u001b[0m\n\u001b[1;32m   1734\u001b[0m             \u001b[0;32mreturn\u001b[0m \u001b[0mself\u001b[0m\u001b[0;34m.\u001b[0m\u001b[0m_compiled_call_impl\u001b[0m\u001b[0;34m(\u001b[0m\u001b[0;34m*\u001b[0m\u001b[0margs\u001b[0m\u001b[0;34m,\u001b[0m \u001b[0;34m**\u001b[0m\u001b[0mkwargs\u001b[0m\u001b[0;34m)\u001b[0m  \u001b[0;31m# type: ignore[misc]\u001b[0m\u001b[0;34m\u001b[0m\u001b[0;34m\u001b[0m\u001b[0m\n\u001b[1;32m   1735\u001b[0m         \u001b[0;32melse\u001b[0m\u001b[0;34m:\u001b[0m\u001b[0;34m\u001b[0m\u001b[0;34m\u001b[0m\u001b[0m\n\u001b[0;32m-> 1736\u001b[0;31m             \u001b[0;32mreturn\u001b[0m \u001b[0mself\u001b[0m\u001b[0;34m.\u001b[0m\u001b[0m_call_impl\u001b[0m\u001b[0;34m(\u001b[0m\u001b[0;34m*\u001b[0m\u001b[0margs\u001b[0m\u001b[0;34m,\u001b[0m \u001b[0;34m**\u001b[0m\u001b[0mkwargs\u001b[0m\u001b[0;34m)\u001b[0m\u001b[0;34m\u001b[0m\u001b[0;34m\u001b[0m\u001b[0m\n\u001b[0m\u001b[1;32m   1737\u001b[0m \u001b[0;34m\u001b[0m\u001b[0m\n\u001b[1;32m   1738\u001b[0m     \u001b[0;31m# torchrec tests the code consistency with the following code\u001b[0m\u001b[0;34m\u001b[0m\u001b[0;34m\u001b[0m\u001b[0m\n",
            "\u001b[0;32m/usr/local/lib/python3.11/dist-packages/torch/nn/modules/module.py\u001b[0m in \u001b[0;36m_call_impl\u001b[0;34m(self, *args, **kwargs)\u001b[0m\n\u001b[1;32m   1745\u001b[0m                 \u001b[0;32mor\u001b[0m \u001b[0m_global_backward_pre_hooks\u001b[0m \u001b[0;32mor\u001b[0m \u001b[0m_global_backward_hooks\u001b[0m\u001b[0;34m\u001b[0m\u001b[0;34m\u001b[0m\u001b[0m\n\u001b[1;32m   1746\u001b[0m                 or _global_forward_hooks or _global_forward_pre_hooks):\n\u001b[0;32m-> 1747\u001b[0;31m             \u001b[0;32mreturn\u001b[0m \u001b[0mforward_call\u001b[0m\u001b[0;34m(\u001b[0m\u001b[0;34m*\u001b[0m\u001b[0margs\u001b[0m\u001b[0;34m,\u001b[0m \u001b[0;34m**\u001b[0m\u001b[0mkwargs\u001b[0m\u001b[0;34m)\u001b[0m\u001b[0;34m\u001b[0m\u001b[0;34m\u001b[0m\u001b[0m\n\u001b[0m\u001b[1;32m   1748\u001b[0m \u001b[0;34m\u001b[0m\u001b[0m\n\u001b[1;32m   1749\u001b[0m         \u001b[0mresult\u001b[0m \u001b[0;34m=\u001b[0m \u001b[0;32mNone\u001b[0m\u001b[0;34m\u001b[0m\u001b[0;34m\u001b[0m\u001b[0m\n",
            "\u001b[0;32m/usr/local/lib/python3.11/dist-packages/torch/nn/modules/container.py\u001b[0m in \u001b[0;36mforward\u001b[0;34m(self, input)\u001b[0m\n\u001b[1;32m    248\u001b[0m     \u001b[0;32mdef\u001b[0m \u001b[0mforward\u001b[0m\u001b[0;34m(\u001b[0m\u001b[0mself\u001b[0m\u001b[0;34m,\u001b[0m \u001b[0minput\u001b[0m\u001b[0;34m)\u001b[0m\u001b[0;34m:\u001b[0m\u001b[0;34m\u001b[0m\u001b[0;34m\u001b[0m\u001b[0m\n\u001b[1;32m    249\u001b[0m         \u001b[0;32mfor\u001b[0m \u001b[0mmodule\u001b[0m \u001b[0;32min\u001b[0m \u001b[0mself\u001b[0m\u001b[0;34m:\u001b[0m\u001b[0;34m\u001b[0m\u001b[0;34m\u001b[0m\u001b[0m\n\u001b[0;32m--> 250\u001b[0;31m             \u001b[0minput\u001b[0m \u001b[0;34m=\u001b[0m \u001b[0mmodule\u001b[0m\u001b[0;34m(\u001b[0m\u001b[0minput\u001b[0m\u001b[0;34m)\u001b[0m\u001b[0;34m\u001b[0m\u001b[0;34m\u001b[0m\u001b[0m\n\u001b[0m\u001b[1;32m    251\u001b[0m         \u001b[0;32mreturn\u001b[0m \u001b[0minput\u001b[0m\u001b[0;34m\u001b[0m\u001b[0;34m\u001b[0m\u001b[0m\n\u001b[1;32m    252\u001b[0m \u001b[0;34m\u001b[0m\u001b[0m\n",
            "\u001b[0;32m/usr/local/lib/python3.11/dist-packages/torch/nn/modules/module.py\u001b[0m in \u001b[0;36m_wrapped_call_impl\u001b[0;34m(self, *args, **kwargs)\u001b[0m\n\u001b[1;32m   1734\u001b[0m             \u001b[0;32mreturn\u001b[0m \u001b[0mself\u001b[0m\u001b[0;34m.\u001b[0m\u001b[0m_compiled_call_impl\u001b[0m\u001b[0;34m(\u001b[0m\u001b[0;34m*\u001b[0m\u001b[0margs\u001b[0m\u001b[0;34m,\u001b[0m \u001b[0;34m**\u001b[0m\u001b[0mkwargs\u001b[0m\u001b[0;34m)\u001b[0m  \u001b[0;31m# type: ignore[misc]\u001b[0m\u001b[0;34m\u001b[0m\u001b[0;34m\u001b[0m\u001b[0m\n\u001b[1;32m   1735\u001b[0m         \u001b[0;32melse\u001b[0m\u001b[0;34m:\u001b[0m\u001b[0;34m\u001b[0m\u001b[0;34m\u001b[0m\u001b[0m\n\u001b[0;32m-> 1736\u001b[0;31m             \u001b[0;32mreturn\u001b[0m \u001b[0mself\u001b[0m\u001b[0;34m.\u001b[0m\u001b[0m_call_impl\u001b[0m\u001b[0;34m(\u001b[0m\u001b[0;34m*\u001b[0m\u001b[0margs\u001b[0m\u001b[0;34m,\u001b[0m \u001b[0;34m**\u001b[0m\u001b[0mkwargs\u001b[0m\u001b[0;34m)\u001b[0m\u001b[0;34m\u001b[0m\u001b[0;34m\u001b[0m\u001b[0m\n\u001b[0m\u001b[1;32m   1737\u001b[0m \u001b[0;34m\u001b[0m\u001b[0m\n\u001b[1;32m   1738\u001b[0m     \u001b[0;31m# torchrec tests the code consistency with the following code\u001b[0m\u001b[0;34m\u001b[0m\u001b[0;34m\u001b[0m\u001b[0m\n",
            "\u001b[0;32m/usr/local/lib/python3.11/dist-packages/torch/nn/modules/module.py\u001b[0m in \u001b[0;36m_call_impl\u001b[0;34m(self, *args, **kwargs)\u001b[0m\n\u001b[1;32m   1745\u001b[0m                 \u001b[0;32mor\u001b[0m \u001b[0m_global_backward_pre_hooks\u001b[0m \u001b[0;32mor\u001b[0m \u001b[0m_global_backward_hooks\u001b[0m\u001b[0;34m\u001b[0m\u001b[0;34m\u001b[0m\u001b[0m\n\u001b[1;32m   1746\u001b[0m                 or _global_forward_hooks or _global_forward_pre_hooks):\n\u001b[0;32m-> 1747\u001b[0;31m             \u001b[0;32mreturn\u001b[0m \u001b[0mforward_call\u001b[0m\u001b[0;34m(\u001b[0m\u001b[0;34m*\u001b[0m\u001b[0margs\u001b[0m\u001b[0;34m,\u001b[0m \u001b[0;34m**\u001b[0m\u001b[0mkwargs\u001b[0m\u001b[0;34m)\u001b[0m\u001b[0;34m\u001b[0m\u001b[0;34m\u001b[0m\u001b[0m\n\u001b[0m\u001b[1;32m   1748\u001b[0m \u001b[0;34m\u001b[0m\u001b[0m\n\u001b[1;32m   1749\u001b[0m         \u001b[0mresult\u001b[0m \u001b[0;34m=\u001b[0m \u001b[0;32mNone\u001b[0m\u001b[0;34m\u001b[0m\u001b[0;34m\u001b[0m\u001b[0m\n",
            "\u001b[0;32m/usr/local/lib/python3.11/dist-packages/torch/nn/modules/linear.py\u001b[0m in \u001b[0;36mforward\u001b[0;34m(self, input)\u001b[0m\n\u001b[1;32m    123\u001b[0m \u001b[0;34m\u001b[0m\u001b[0m\n\u001b[1;32m    124\u001b[0m     \u001b[0;32mdef\u001b[0m \u001b[0mforward\u001b[0m\u001b[0;34m(\u001b[0m\u001b[0mself\u001b[0m\u001b[0;34m,\u001b[0m \u001b[0minput\u001b[0m\u001b[0;34m:\u001b[0m \u001b[0mTensor\u001b[0m\u001b[0;34m)\u001b[0m \u001b[0;34m->\u001b[0m \u001b[0mTensor\u001b[0m\u001b[0;34m:\u001b[0m\u001b[0;34m\u001b[0m\u001b[0;34m\u001b[0m\u001b[0m\n\u001b[0;32m--> 125\u001b[0;31m         \u001b[0;32mreturn\u001b[0m \u001b[0mF\u001b[0m\u001b[0;34m.\u001b[0m\u001b[0mlinear\u001b[0m\u001b[0;34m(\u001b[0m\u001b[0minput\u001b[0m\u001b[0;34m,\u001b[0m \u001b[0mself\u001b[0m\u001b[0;34m.\u001b[0m\u001b[0mweight\u001b[0m\u001b[0;34m,\u001b[0m \u001b[0mself\u001b[0m\u001b[0;34m.\u001b[0m\u001b[0mbias\u001b[0m\u001b[0;34m)\u001b[0m\u001b[0;34m\u001b[0m\u001b[0;34m\u001b[0m\u001b[0m\n\u001b[0m\u001b[1;32m    126\u001b[0m \u001b[0;34m\u001b[0m\u001b[0m\n\u001b[1;32m    127\u001b[0m     \u001b[0;32mdef\u001b[0m \u001b[0mextra_repr\u001b[0m\u001b[0;34m(\u001b[0m\u001b[0mself\u001b[0m\u001b[0;34m)\u001b[0m \u001b[0;34m->\u001b[0m \u001b[0mstr\u001b[0m\u001b[0;34m:\u001b[0m\u001b[0;34m\u001b[0m\u001b[0;34m\u001b[0m\u001b[0m\n",
            "\u001b[0;31mRuntimeError\u001b[0m: mat1 and mat2 shapes cannot be multiplied (64x3072 and 784x128)"
          ]
        }
      ]
    },
    {
      "cell_type": "code",
      "source": [
        "input_sizes = {\n",
        "    \"MNIST\": 784,  # 28x28 grayscale\n",
        "    \"Fashion-MNIST\": 784,  # 28x28 grayscale\n",
        "    \"CIFAR-10\": 3072,  # 32x32x3 (color)\n",
        "    \"CIFAR-100\": 3072  # 32x32x3 (color)\n",
        "}\n",
        "\n",
        "for dataset_name in [\"MNIST\", \"Fashion-MNIST\", \"CIFAR-10\", \"CIFAR-100\"]:\n",
        "    train_loader, test_loader = get_dataloader(dataset_name)\n",
        "\n",
        "    for act_name, act_func in activations.items():\n",
        "        print(f\"\\nTraining on {dataset_name} with Activation: {act_name}\")\n",
        "\n",
        "        # Initialize WandB\n",
        "        wandb.init(project=\"activation-functions-analysis\", name=f\"{dataset_name}-{act_name}\")\n",
        "\n",
        "        model = NeuralNetwork(\n",
        "            input_size=input_sizes[dataset_name],  # Dynamically adjust input size\n",
        "            hidden_layers=[128, 64],\n",
        "            output_size=10,\n",
        "            activation_fn=act_func\n",
        "        )\n",
        "\n",
        "        optimizer = torch.optim.Adam(model.parameters(), lr=0.001)\n",
        "        loss_fn = nn.CrossEntropyLoss()\n",
        "\n",
        "        train_model(model, train_loader, optimizer, loss_fn, epochs=5, activation_name=act_name, dataset_name=dataset_name)\n",
        "\n",
        "        wandb.finish()  # Finish logging\n"
      ],
      "metadata": {
        "colab": {
          "base_uri": "https://localhost:8080/",
          "height": 1000
        },
        "id": "qDyii0pj6z2h",
        "outputId": "5bfd3676-c494-4386-ddeb-f43352c0b89e"
      },
      "execution_count": null,
      "outputs": [
        {
          "output_type": "stream",
          "name": "stdout",
          "text": [
            "\n",
            "Training on MNIST with Activation: Sigmoid\n"
          ]
        },
        {
          "output_type": "display_data",
          "data": {
            "text/plain": [
              "<IPython.core.display.HTML object>"
            ],
            "text/html": [
              "Changes to your `wandb` environment variables will be ignored because your `wandb` session has already started. For more information on how to modify your settings with `wandb.init()` arguments, please refer to <a href='https://wandb.me/wandb-init' target=\"_blank\">the W&B docs</a>."
            ]
          },
          "metadata": {}
        },
        {
          "output_type": "display_data",
          "data": {
            "text/plain": [
              "<IPython.core.display.HTML object>"
            ],
            "text/html": [
              "Ignoring project 'activation-functions-analysis' when running a sweep."
            ]
          },
          "metadata": {}
        },
        {
          "output_type": "stream",
          "name": "stdout",
          "text": [
            "Epoch [1/5], Loss: 600.7933, Accuracy: 0.8392\n",
            "Epoch [2/5], Loss: 205.3074, Accuracy: 0.9378\n",
            "Epoch [3/5], Loss: 145.2399, Accuracy: 0.9552\n",
            "Epoch [4/5], Loss: 112.8483, Accuracy: 0.9646\n",
            "Epoch [5/5], Loss: 92.2043, Accuracy: 0.9718\n"
          ]
        },
        {
          "output_type": "display_data",
          "data": {
            "text/plain": [
              "<IPython.core.display.HTML object>"
            ],
            "text/html": []
          },
          "metadata": {}
        },
        {
          "output_type": "display_data",
          "data": {
            "text/plain": [
              "<IPython.core.display.HTML object>"
            ],
            "text/html": [
              "<br>    <style><br>        .wandb-row {<br>            display: flex;<br>            flex-direction: row;<br>            flex-wrap: wrap;<br>            justify-content: flex-start;<br>            width: 100%;<br>        }<br>        .wandb-col {<br>            display: flex;<br>            flex-direction: column;<br>            flex-basis: 100%;<br>            flex: 1;<br>            padding: 10px;<br>        }<br>    </style><br><div class=\"wandb-row\"><div class=\"wandb-col\"><h3>Run history:</h3><br/><table class=\"wandb\"><tr><td>Accuracy</td><td>▁▆▇███</td></tr><tr><td>Epoch</td><td>▁▁▃▅▆█</td></tr><tr><td>Loss</td><td>█▄▂▁▁▁</td></tr></table><br/></div><div class=\"wandb-col\"><h3>Run summary:</h3><br/><table class=\"wandb\"><tr><td>Accuracy</td><td>0.97183</td></tr><tr><td>Activation Function</td><td>Sigmoid</td></tr><tr><td>Dataset</td><td>MNIST</td></tr><tr><td>Epoch</td><td>5</td></tr><tr><td>Loss</td><td>0.0983</td></tr></table><br/></div></div>"
            ]
          },
          "metadata": {}
        },
        {
          "output_type": "display_data",
          "data": {
            "text/plain": [
              "<IPython.core.display.HTML object>"
            ],
            "text/html": [
              " View run <strong style=\"color:#cdcd00\">CIFAR-10-Sigmoid</strong> at: <a href='https://wandb.ai/shahi77-national-institute-of-technology-hamirpur/deep-learning-experiments/runs/0mwgycw2' target=\"_blank\">https://wandb.ai/shahi77-national-institute-of-technology-hamirpur/deep-learning-experiments/runs/0mwgycw2</a><br> View project at: <a href='https://wandb.ai/shahi77-national-institute-of-technology-hamirpur/deep-learning-experiments' target=\"_blank\">https://wandb.ai/shahi77-national-institute-of-technology-hamirpur/deep-learning-experiments</a><br>Synced 5 W&B file(s), 0 media file(s), 0 artifact file(s) and 0 other file(s)"
            ]
          },
          "metadata": {}
        },
        {
          "output_type": "display_data",
          "data": {
            "text/plain": [
              "<IPython.core.display.HTML object>"
            ],
            "text/html": [
              "Find logs at: <code>./wandb/run-20250206_145046-0mwgycw2/logs</code>"
            ]
          },
          "metadata": {}
        },
        {
          "output_type": "stream",
          "name": "stdout",
          "text": [
            "\n",
            "Training on MNIST with Activation: Tanh\n"
          ]
        },
        {
          "output_type": "display_data",
          "data": {
            "text/plain": [
              "<IPython.core.display.HTML object>"
            ],
            "text/html": [
              "Changes to your `wandb` environment variables will be ignored because your `wandb` session has already started. For more information on how to modify your settings with `wandb.init()` arguments, please refer to <a href='https://wandb.me/wandb-init' target=\"_blank\">the W&B docs</a>."
            ]
          },
          "metadata": {}
        },
        {
          "output_type": "display_data",
          "data": {
            "text/plain": [
              "<IPython.core.display.HTML object>"
            ],
            "text/html": [
              "Ignoring project 'activation-functions-analysis' when running a sweep."
            ]
          },
          "metadata": {}
        },
        {
          "output_type": "display_data",
          "data": {
            "text/plain": [
              "<IPython.core.display.HTML object>"
            ],
            "text/html": [
              "Tracking run with wandb version 0.19.5"
            ]
          },
          "metadata": {}
        },
        {
          "output_type": "display_data",
          "data": {
            "text/plain": [
              "<IPython.core.display.HTML object>"
            ],
            "text/html": [
              "Run data is saved locally in <code>/content/wandb/run-20250206_154200-0mwgycw2</code>"
            ]
          },
          "metadata": {}
        },
        {
          "output_type": "display_data",
          "data": {
            "text/plain": [
              "<IPython.core.display.HTML object>"
            ],
            "text/html": [
              "Syncing run <strong><a href='https://wandb.ai/shahi77-national-institute-of-technology-hamirpur/deep-learning-experiments/runs/0mwgycw2' target=\"_blank\">MNIST-Tanh</a></strong> to <a href='https://wandb.ai/shahi77-national-institute-of-technology-hamirpur/deep-learning-experiments' target=\"_blank\">Weights & Biases</a> (<a href='https://wandb.me/developer-guide' target=\"_blank\">docs</a>)<br>Sweep page: <a href='https://wandb.ai/shahi77-national-institute-of-technology-hamirpur/deep-learning-experiments/sweeps/ntjma6uk' target=\"_blank\">https://wandb.ai/shahi77-national-institute-of-technology-hamirpur/deep-learning-experiments/sweeps/ntjma6uk</a>"
            ]
          },
          "metadata": {}
        },
        {
          "output_type": "display_data",
          "data": {
            "text/plain": [
              "<IPython.core.display.HTML object>"
            ],
            "text/html": [
              " View project at <a href='https://wandb.ai/shahi77-national-institute-of-technology-hamirpur/deep-learning-experiments' target=\"_blank\">https://wandb.ai/shahi77-national-institute-of-technology-hamirpur/deep-learning-experiments</a>"
            ]
          },
          "metadata": {}
        },
        {
          "output_type": "display_data",
          "data": {
            "text/plain": [
              "<IPython.core.display.HTML object>"
            ],
            "text/html": [
              " View sweep at <a href='https://wandb.ai/shahi77-national-institute-of-technology-hamirpur/deep-learning-experiments/sweeps/ntjma6uk' target=\"_blank\">https://wandb.ai/shahi77-national-institute-of-technology-hamirpur/deep-learning-experiments/sweeps/ntjma6uk</a>"
            ]
          },
          "metadata": {}
        },
        {
          "output_type": "display_data",
          "data": {
            "text/plain": [
              "<IPython.core.display.HTML object>"
            ],
            "text/html": [
              " View run at <a href='https://wandb.ai/shahi77-national-institute-of-technology-hamirpur/deep-learning-experiments/runs/0mwgycw2' target=\"_blank\">https://wandb.ai/shahi77-national-institute-of-technology-hamirpur/deep-learning-experiments/runs/0mwgycw2</a>"
            ]
          },
          "metadata": {}
        },
        {
          "output_type": "stream",
          "name": "stdout",
          "text": [
            "Epoch [1/5], Loss: 325.7528, Accuracy: 0.9020\n",
            "Epoch [2/5], Loss: 151.1027, Accuracy: 0.9504\n",
            "Epoch [3/5], Loss: 114.2542, Accuracy: 0.9625\n",
            "Epoch [4/5], Loss: 102.2772, Accuracy: 0.9664\n",
            "Epoch [5/5], Loss: 96.5635, Accuracy: 0.9674\n"
          ]
        },
        {
          "output_type": "display_data",
          "data": {
            "text/plain": [
              "<IPython.core.display.HTML object>"
            ],
            "text/html": []
          },
          "metadata": {}
        },
        {
          "output_type": "display_data",
          "data": {
            "text/plain": [
              "<IPython.core.display.HTML object>"
            ],
            "text/html": [
              "<br>    <style><br>        .wandb-row {<br>            display: flex;<br>            flex-direction: row;<br>            flex-wrap: wrap;<br>            justify-content: flex-start;<br>            width: 100%;<br>        }<br>        .wandb-col {<br>            display: flex;<br>            flex-direction: column;<br>            flex-basis: 100%;<br>            flex: 1;<br>            padding: 10px;<br>        }<br>    </style><br><div class=\"wandb-row\"><div class=\"wandb-col\"><h3>Run history:</h3><br/><table class=\"wandb\"><tr><td>Accuracy</td><td>▁▆▇██</td></tr><tr><td>Epoch</td><td>▁▃▅▆█</td></tr><tr><td>Loss</td><td>█▃▂▁▁</td></tr></table><br/></div><div class=\"wandb-col\"><h3>Run summary:</h3><br/><table class=\"wandb\"><tr><td>Accuracy</td><td>0.9674</td></tr><tr><td>Activation Function</td><td>Tanh</td></tr><tr><td>Dataset</td><td>MNIST</td></tr><tr><td>Epoch</td><td>5</td></tr><tr><td>Loss</td><td>0.10295</td></tr></table><br/></div></div>"
            ]
          },
          "metadata": {}
        },
        {
          "output_type": "display_data",
          "data": {
            "text/plain": [
              "<IPython.core.display.HTML object>"
            ],
            "text/html": [
              " View run <strong style=\"color:#cdcd00\">MNIST-Tanh</strong> at: <a href='https://wandb.ai/shahi77-national-institute-of-technology-hamirpur/deep-learning-experiments/runs/0mwgycw2' target=\"_blank\">https://wandb.ai/shahi77-national-institute-of-technology-hamirpur/deep-learning-experiments/runs/0mwgycw2</a><br> View project at: <a href='https://wandb.ai/shahi77-national-institute-of-technology-hamirpur/deep-learning-experiments' target=\"_blank\">https://wandb.ai/shahi77-national-institute-of-technology-hamirpur/deep-learning-experiments</a><br>Synced 5 W&B file(s), 0 media file(s), 0 artifact file(s) and 0 other file(s)"
            ]
          },
          "metadata": {}
        },
        {
          "output_type": "display_data",
          "data": {
            "text/plain": [
              "<IPython.core.display.HTML object>"
            ],
            "text/html": [
              "Find logs at: <code>./wandb/run-20250206_154200-0mwgycw2/logs</code>"
            ]
          },
          "metadata": {}
        },
        {
          "output_type": "stream",
          "name": "stdout",
          "text": [
            "\n",
            "Training on MNIST with Activation: Mish\n"
          ]
        },
        {
          "output_type": "display_data",
          "data": {
            "text/plain": [
              "<IPython.core.display.HTML object>"
            ],
            "text/html": [
              "Changes to your `wandb` environment variables will be ignored because your `wandb` session has already started. For more information on how to modify your settings with `wandb.init()` arguments, please refer to <a href='https://wandb.me/wandb-init' target=\"_blank\">the W&B docs</a>."
            ]
          },
          "metadata": {}
        },
        {
          "output_type": "display_data",
          "data": {
            "text/plain": [
              "<IPython.core.display.HTML object>"
            ],
            "text/html": [
              "Ignoring project 'activation-functions-analysis' when running a sweep."
            ]
          },
          "metadata": {}
        },
        {
          "output_type": "display_data",
          "data": {
            "text/plain": [
              "<IPython.core.display.HTML object>"
            ],
            "text/html": [
              "Tracking run with wandb version 0.19.5"
            ]
          },
          "metadata": {}
        },
        {
          "output_type": "display_data",
          "data": {
            "text/plain": [
              "<IPython.core.display.HTML object>"
            ],
            "text/html": [
              "Run data is saved locally in <code>/content/wandb/run-20250206_154336-0mwgycw2</code>"
            ]
          },
          "metadata": {}
        },
        {
          "output_type": "display_data",
          "data": {
            "text/plain": [
              "<IPython.core.display.HTML object>"
            ],
            "text/html": [
              "Syncing run <strong><a href='https://wandb.ai/shahi77-national-institute-of-technology-hamirpur/deep-learning-experiments/runs/0mwgycw2' target=\"_blank\">MNIST-Mish</a></strong> to <a href='https://wandb.ai/shahi77-national-institute-of-technology-hamirpur/deep-learning-experiments' target=\"_blank\">Weights & Biases</a> (<a href='https://wandb.me/developer-guide' target=\"_blank\">docs</a>)<br>Sweep page: <a href='https://wandb.ai/shahi77-national-institute-of-technology-hamirpur/deep-learning-experiments/sweeps/ntjma6uk' target=\"_blank\">https://wandb.ai/shahi77-national-institute-of-technology-hamirpur/deep-learning-experiments/sweeps/ntjma6uk</a>"
            ]
          },
          "metadata": {}
        },
        {
          "output_type": "display_data",
          "data": {
            "text/plain": [
              "<IPython.core.display.HTML object>"
            ],
            "text/html": [
              " View project at <a href='https://wandb.ai/shahi77-national-institute-of-technology-hamirpur/deep-learning-experiments' target=\"_blank\">https://wandb.ai/shahi77-national-institute-of-technology-hamirpur/deep-learning-experiments</a>"
            ]
          },
          "metadata": {}
        },
        {
          "output_type": "display_data",
          "data": {
            "text/plain": [
              "<IPython.core.display.HTML object>"
            ],
            "text/html": [
              " View sweep at <a href='https://wandb.ai/shahi77-national-institute-of-technology-hamirpur/deep-learning-experiments/sweeps/ntjma6uk' target=\"_blank\">https://wandb.ai/shahi77-national-institute-of-technology-hamirpur/deep-learning-experiments/sweeps/ntjma6uk</a>"
            ]
          },
          "metadata": {}
        },
        {
          "output_type": "display_data",
          "data": {
            "text/plain": [
              "<IPython.core.display.HTML object>"
            ],
            "text/html": [
              " View run at <a href='https://wandb.ai/shahi77-national-institute-of-technology-hamirpur/deep-learning-experiments/runs/0mwgycw2' target=\"_blank\">https://wandb.ai/shahi77-national-institute-of-technology-hamirpur/deep-learning-experiments/runs/0mwgycw2</a>"
            ]
          },
          "metadata": {}
        },
        {
          "output_type": "stream",
          "name": "stdout",
          "text": [
            "Epoch [1/5], Loss: 309.0992, Accuracy: 0.8996\n",
            "Epoch [2/5], Loss: 138.3400, Accuracy: 0.9548\n",
            "Epoch [3/5], Loss: 104.2073, Accuracy: 0.9653\n",
            "Epoch [4/5], Loss: 81.6851, Accuracy: 0.9729\n",
            "Epoch [5/5], Loss: 71.7427, Accuracy: 0.9759\n"
          ]
        },
        {
          "output_type": "display_data",
          "data": {
            "text/plain": [
              "<IPython.core.display.HTML object>"
            ],
            "text/html": []
          },
          "metadata": {}
        },
        {
          "output_type": "display_data",
          "data": {
            "text/plain": [
              "<IPython.core.display.HTML object>"
            ],
            "text/html": [
              "<br>    <style><br>        .wandb-row {<br>            display: flex;<br>            flex-direction: row;<br>            flex-wrap: wrap;<br>            justify-content: flex-start;<br>            width: 100%;<br>        }<br>        .wandb-col {<br>            display: flex;<br>            flex-direction: column;<br>            flex-basis: 100%;<br>            flex: 1;<br>            padding: 10px;<br>        }<br>    </style><br><div class=\"wandb-row\"><div class=\"wandb-col\"><h3>Run history:</h3><br/><table class=\"wandb\"><tr><td>Accuracy</td><td>▁▆▇██</td></tr><tr><td>Epoch</td><td>▁▃▅▆█</td></tr><tr><td>Loss</td><td>█▃▂▁▁</td></tr></table><br/></div><div class=\"wandb-col\"><h3>Run summary:</h3><br/><table class=\"wandb\"><tr><td>Accuracy</td><td>0.97588</td></tr><tr><td>Activation Function</td><td>Mish</td></tr><tr><td>Dataset</td><td>MNIST</td></tr><tr><td>Epoch</td><td>5</td></tr><tr><td>Loss</td><td>0.07648</td></tr></table><br/></div></div>"
            ]
          },
          "metadata": {}
        },
        {
          "output_type": "display_data",
          "data": {
            "text/plain": [
              "<IPython.core.display.HTML object>"
            ],
            "text/html": [
              " View run <strong style=\"color:#cdcd00\">MNIST-Mish</strong> at: <a href='https://wandb.ai/shahi77-national-institute-of-technology-hamirpur/deep-learning-experiments/runs/0mwgycw2' target=\"_blank\">https://wandb.ai/shahi77-national-institute-of-technology-hamirpur/deep-learning-experiments/runs/0mwgycw2</a><br> View project at: <a href='https://wandb.ai/shahi77-national-institute-of-technology-hamirpur/deep-learning-experiments' target=\"_blank\">https://wandb.ai/shahi77-national-institute-of-technology-hamirpur/deep-learning-experiments</a><br>Synced 5 W&B file(s), 0 media file(s), 0 artifact file(s) and 0 other file(s)"
            ]
          },
          "metadata": {}
        },
        {
          "output_type": "display_data",
          "data": {
            "text/plain": [
              "<IPython.core.display.HTML object>"
            ],
            "text/html": [
              "Find logs at: <code>./wandb/run-20250206_154336-0mwgycw2/logs</code>"
            ]
          },
          "metadata": {}
        },
        {
          "output_type": "stream",
          "name": "stdout",
          "text": [
            "\n",
            "Training on MNIST with Activation: ReLU\n"
          ]
        },
        {
          "output_type": "display_data",
          "data": {
            "text/plain": [
              "<IPython.core.display.HTML object>"
            ],
            "text/html": [
              "Changes to your `wandb` environment variables will be ignored because your `wandb` session has already started. For more information on how to modify your settings with `wandb.init()` arguments, please refer to <a href='https://wandb.me/wandb-init' target=\"_blank\">the W&B docs</a>."
            ]
          },
          "metadata": {}
        },
        {
          "output_type": "display_data",
          "data": {
            "text/plain": [
              "<IPython.core.display.HTML object>"
            ],
            "text/html": [
              "Ignoring project 'activation-functions-analysis' when running a sweep."
            ]
          },
          "metadata": {}
        },
        {
          "output_type": "display_data",
          "data": {
            "text/plain": [
              "<IPython.core.display.HTML object>"
            ],
            "text/html": [
              "Tracking run with wandb version 0.19.5"
            ]
          },
          "metadata": {}
        },
        {
          "output_type": "display_data",
          "data": {
            "text/plain": [
              "<IPython.core.display.HTML object>"
            ],
            "text/html": [
              "Run data is saved locally in <code>/content/wandb/run-20250206_154513-0mwgycw2</code>"
            ]
          },
          "metadata": {}
        },
        {
          "output_type": "display_data",
          "data": {
            "text/plain": [
              "<IPython.core.display.HTML object>"
            ],
            "text/html": [
              "Syncing run <strong><a href='https://wandb.ai/shahi77-national-institute-of-technology-hamirpur/deep-learning-experiments/runs/0mwgycw2' target=\"_blank\">MNIST-ReLU</a></strong> to <a href='https://wandb.ai/shahi77-national-institute-of-technology-hamirpur/deep-learning-experiments' target=\"_blank\">Weights & Biases</a> (<a href='https://wandb.me/developer-guide' target=\"_blank\">docs</a>)<br>Sweep page: <a href='https://wandb.ai/shahi77-national-institute-of-technology-hamirpur/deep-learning-experiments/sweeps/ntjma6uk' target=\"_blank\">https://wandb.ai/shahi77-national-institute-of-technology-hamirpur/deep-learning-experiments/sweeps/ntjma6uk</a>"
            ]
          },
          "metadata": {}
        },
        {
          "output_type": "display_data",
          "data": {
            "text/plain": [
              "<IPython.core.display.HTML object>"
            ],
            "text/html": [
              " View project at <a href='https://wandb.ai/shahi77-national-institute-of-technology-hamirpur/deep-learning-experiments' target=\"_blank\">https://wandb.ai/shahi77-national-institute-of-technology-hamirpur/deep-learning-experiments</a>"
            ]
          },
          "metadata": {}
        },
        {
          "output_type": "display_data",
          "data": {
            "text/plain": [
              "<IPython.core.display.HTML object>"
            ],
            "text/html": [
              " View sweep at <a href='https://wandb.ai/shahi77-national-institute-of-technology-hamirpur/deep-learning-experiments/sweeps/ntjma6uk' target=\"_blank\">https://wandb.ai/shahi77-national-institute-of-technology-hamirpur/deep-learning-experiments/sweeps/ntjma6uk</a>"
            ]
          },
          "metadata": {}
        },
        {
          "output_type": "display_data",
          "data": {
            "text/plain": [
              "<IPython.core.display.HTML object>"
            ],
            "text/html": [
              " View run at <a href='https://wandb.ai/shahi77-national-institute-of-technology-hamirpur/deep-learning-experiments/runs/0mwgycw2' target=\"_blank\">https://wandb.ai/shahi77-national-institute-of-technology-hamirpur/deep-learning-experiments/runs/0mwgycw2</a>"
            ]
          },
          "metadata": {}
        },
        {
          "output_type": "stream",
          "name": "stdout",
          "text": [
            "Epoch [1/5], Loss: 372.8407, Accuracy: 0.8814\n",
            "Epoch [2/5], Loss: 174.0927, Accuracy: 0.9439\n",
            "Epoch [3/5], Loss: 129.4285, Accuracy: 0.9569\n",
            "Epoch [4/5], Loss: 103.5227, Accuracy: 0.9660\n",
            "Epoch [5/5], Loss: 90.1249, Accuracy: 0.9694\n"
          ]
        },
        {
          "output_type": "display_data",
          "data": {
            "text/plain": [
              "<IPython.core.display.HTML object>"
            ],
            "text/html": []
          },
          "metadata": {}
        },
        {
          "output_type": "display_data",
          "data": {
            "text/plain": [
              "<IPython.core.display.HTML object>"
            ],
            "text/html": [
              "<br>    <style><br>        .wandb-row {<br>            display: flex;<br>            flex-direction: row;<br>            flex-wrap: wrap;<br>            justify-content: flex-start;<br>            width: 100%;<br>        }<br>        .wandb-col {<br>            display: flex;<br>            flex-direction: column;<br>            flex-basis: 100%;<br>            flex: 1;<br>            padding: 10px;<br>        }<br>    </style><br><div class=\"wandb-row\"><div class=\"wandb-col\"><h3>Run history:</h3><br/><table class=\"wandb\"><tr><td>Accuracy</td><td>▁▆▇██</td></tr><tr><td>Epoch</td><td>▁▃▅▆█</td></tr><tr><td>Loss</td><td>█▃▂▁▁</td></tr></table><br/></div><div class=\"wandb-col\"><h3>Run summary:</h3><br/><table class=\"wandb\"><tr><td>Accuracy</td><td>0.96942</td></tr><tr><td>Activation Function</td><td>ReLU</td></tr><tr><td>Dataset</td><td>MNIST</td></tr><tr><td>Epoch</td><td>5</td></tr><tr><td>Loss</td><td>0.09608</td></tr></table><br/></div></div>"
            ]
          },
          "metadata": {}
        },
        {
          "output_type": "display_data",
          "data": {
            "text/plain": [
              "<IPython.core.display.HTML object>"
            ],
            "text/html": [
              " View run <strong style=\"color:#cdcd00\">MNIST-ReLU</strong> at: <a href='https://wandb.ai/shahi77-national-institute-of-technology-hamirpur/deep-learning-experiments/runs/0mwgycw2' target=\"_blank\">https://wandb.ai/shahi77-national-institute-of-technology-hamirpur/deep-learning-experiments/runs/0mwgycw2</a><br> View project at: <a href='https://wandb.ai/shahi77-national-institute-of-technology-hamirpur/deep-learning-experiments' target=\"_blank\">https://wandb.ai/shahi77-national-institute-of-technology-hamirpur/deep-learning-experiments</a><br>Synced 5 W&B file(s), 0 media file(s), 0 artifact file(s) and 0 other file(s)"
            ]
          },
          "metadata": {}
        },
        {
          "output_type": "display_data",
          "data": {
            "text/plain": [
              "<IPython.core.display.HTML object>"
            ],
            "text/html": [
              "Find logs at: <code>./wandb/run-20250206_154513-0mwgycw2/logs</code>"
            ]
          },
          "metadata": {}
        },
        {
          "output_type": "stream",
          "name": "stdout",
          "text": [
            "\n",
            "Training on MNIST with Activation: LeakyReLU\n"
          ]
        },
        {
          "output_type": "display_data",
          "data": {
            "text/plain": [
              "<IPython.core.display.HTML object>"
            ],
            "text/html": [
              "Changes to your `wandb` environment variables will be ignored because your `wandb` session has already started. For more information on how to modify your settings with `wandb.init()` arguments, please refer to <a href='https://wandb.me/wandb-init' target=\"_blank\">the W&B docs</a>."
            ]
          },
          "metadata": {}
        },
        {
          "output_type": "display_data",
          "data": {
            "text/plain": [
              "<IPython.core.display.HTML object>"
            ],
            "text/html": [
              "Ignoring project 'activation-functions-analysis' when running a sweep."
            ]
          },
          "metadata": {}
        },
        {
          "output_type": "display_data",
          "data": {
            "text/plain": [
              "<IPython.core.display.HTML object>"
            ],
            "text/html": [
              "Tracking run with wandb version 0.19.5"
            ]
          },
          "metadata": {}
        },
        {
          "output_type": "display_data",
          "data": {
            "text/plain": [
              "<IPython.core.display.HTML object>"
            ],
            "text/html": [
              "Run data is saved locally in <code>/content/wandb/run-20250206_154656-0mwgycw2</code>"
            ]
          },
          "metadata": {}
        },
        {
          "output_type": "display_data",
          "data": {
            "text/plain": [
              "<IPython.core.display.HTML object>"
            ],
            "text/html": [
              "Syncing run <strong><a href='https://wandb.ai/shahi77-national-institute-of-technology-hamirpur/deep-learning-experiments/runs/0mwgycw2' target=\"_blank\">MNIST-LeakyReLU</a></strong> to <a href='https://wandb.ai/shahi77-national-institute-of-technology-hamirpur/deep-learning-experiments' target=\"_blank\">Weights & Biases</a> (<a href='https://wandb.me/developer-guide' target=\"_blank\">docs</a>)<br>Sweep page: <a href='https://wandb.ai/shahi77-national-institute-of-technology-hamirpur/deep-learning-experiments/sweeps/ntjma6uk' target=\"_blank\">https://wandb.ai/shahi77-national-institute-of-technology-hamirpur/deep-learning-experiments/sweeps/ntjma6uk</a>"
            ]
          },
          "metadata": {}
        },
        {
          "output_type": "display_data",
          "data": {
            "text/plain": [
              "<IPython.core.display.HTML object>"
            ],
            "text/html": [
              " View project at <a href='https://wandb.ai/shahi77-national-institute-of-technology-hamirpur/deep-learning-experiments' target=\"_blank\">https://wandb.ai/shahi77-national-institute-of-technology-hamirpur/deep-learning-experiments</a>"
            ]
          },
          "metadata": {}
        },
        {
          "output_type": "display_data",
          "data": {
            "text/plain": [
              "<IPython.core.display.HTML object>"
            ],
            "text/html": [
              " View sweep at <a href='https://wandb.ai/shahi77-national-institute-of-technology-hamirpur/deep-learning-experiments/sweeps/ntjma6uk' target=\"_blank\">https://wandb.ai/shahi77-national-institute-of-technology-hamirpur/deep-learning-experiments/sweeps/ntjma6uk</a>"
            ]
          },
          "metadata": {}
        },
        {
          "output_type": "display_data",
          "data": {
            "text/plain": [
              "<IPython.core.display.HTML object>"
            ],
            "text/html": [
              " View run at <a href='https://wandb.ai/shahi77-national-institute-of-technology-hamirpur/deep-learning-experiments/runs/0mwgycw2' target=\"_blank\">https://wandb.ai/shahi77-national-institute-of-technology-hamirpur/deep-learning-experiments/runs/0mwgycw2</a>"
            ]
          },
          "metadata": {}
        },
        {
          "output_type": "stream",
          "name": "stdout",
          "text": [
            "Epoch [1/5], Loss: 361.1093, Accuracy: 0.8858\n",
            "Epoch [2/5], Loss: 166.9423, Accuracy: 0.9463\n",
            "Epoch [3/5], Loss: 124.3705, Accuracy: 0.9588\n",
            "Epoch [4/5], Loss: 100.3392, Accuracy: 0.9661\n",
            "Epoch [5/5], Loss: 83.8159, Accuracy: 0.9723\n"
          ]
        },
        {
          "output_type": "display_data",
          "data": {
            "text/plain": [
              "<IPython.core.display.HTML object>"
            ],
            "text/html": []
          },
          "metadata": {}
        },
        {
          "output_type": "display_data",
          "data": {
            "text/plain": [
              "<IPython.core.display.HTML object>"
            ],
            "text/html": [
              "<br>    <style><br>        .wandb-row {<br>            display: flex;<br>            flex-direction: row;<br>            flex-wrap: wrap;<br>            justify-content: flex-start;<br>            width: 100%;<br>        }<br>        .wandb-col {<br>            display: flex;<br>            flex-direction: column;<br>            flex-basis: 100%;<br>            flex: 1;<br>            padding: 10px;<br>        }<br>    </style><br><div class=\"wandb-row\"><div class=\"wandb-col\"><h3>Run history:</h3><br/><table class=\"wandb\"><tr><td>Accuracy</td><td>▁▆▇██</td></tr><tr><td>Epoch</td><td>▁▃▅▆█</td></tr><tr><td>Loss</td><td>█▃▂▁▁</td></tr></table><br/></div><div class=\"wandb-col\"><h3>Run summary:</h3><br/><table class=\"wandb\"><tr><td>Accuracy</td><td>0.97227</td></tr><tr><td>Activation Function</td><td>LeakyReLU</td></tr><tr><td>Dataset</td><td>MNIST</td></tr><tr><td>Epoch</td><td>5</td></tr><tr><td>Loss</td><td>0.08936</td></tr></table><br/></div></div>"
            ]
          },
          "metadata": {}
        },
        {
          "output_type": "display_data",
          "data": {
            "text/plain": [
              "<IPython.core.display.HTML object>"
            ],
            "text/html": [
              " View run <strong style=\"color:#cdcd00\">MNIST-LeakyReLU</strong> at: <a href='https://wandb.ai/shahi77-national-institute-of-technology-hamirpur/deep-learning-experiments/runs/0mwgycw2' target=\"_blank\">https://wandb.ai/shahi77-national-institute-of-technology-hamirpur/deep-learning-experiments/runs/0mwgycw2</a><br> View project at: <a href='https://wandb.ai/shahi77-national-institute-of-technology-hamirpur/deep-learning-experiments' target=\"_blank\">https://wandb.ai/shahi77-national-institute-of-technology-hamirpur/deep-learning-experiments</a><br>Synced 5 W&B file(s), 0 media file(s), 0 artifact file(s) and 0 other file(s)"
            ]
          },
          "metadata": {}
        },
        {
          "output_type": "display_data",
          "data": {
            "text/plain": [
              "<IPython.core.display.HTML object>"
            ],
            "text/html": [
              "Find logs at: <code>./wandb/run-20250206_154656-0mwgycw2/logs</code>"
            ]
          },
          "metadata": {}
        },
        {
          "output_type": "stream",
          "name": "stdout",
          "text": [
            "\n",
            "Training on MNIST with Activation: PReLU\n"
          ]
        },
        {
          "output_type": "display_data",
          "data": {
            "text/plain": [
              "<IPython.core.display.HTML object>"
            ],
            "text/html": [
              "Changes to your `wandb` environment variables will be ignored because your `wandb` session has already started. For more information on how to modify your settings with `wandb.init()` arguments, please refer to <a href='https://wandb.me/wandb-init' target=\"_blank\">the W&B docs</a>."
            ]
          },
          "metadata": {}
        },
        {
          "output_type": "display_data",
          "data": {
            "text/plain": [
              "<IPython.core.display.HTML object>"
            ],
            "text/html": [
              "Ignoring project 'activation-functions-analysis' when running a sweep."
            ]
          },
          "metadata": {}
        },
        {
          "output_type": "display_data",
          "data": {
            "text/plain": [
              "<IPython.core.display.HTML object>"
            ],
            "text/html": [
              "Tracking run with wandb version 0.19.5"
            ]
          },
          "metadata": {}
        },
        {
          "output_type": "display_data",
          "data": {
            "text/plain": [
              "<IPython.core.display.HTML object>"
            ],
            "text/html": [
              "Run data is saved locally in <code>/content/wandb/run-20250206_154832-0mwgycw2</code>"
            ]
          },
          "metadata": {}
        },
        {
          "output_type": "display_data",
          "data": {
            "text/plain": [
              "<IPython.core.display.HTML object>"
            ],
            "text/html": [
              "Syncing run <strong><a href='https://wandb.ai/shahi77-national-institute-of-technology-hamirpur/deep-learning-experiments/runs/0mwgycw2' target=\"_blank\">MNIST-PReLU</a></strong> to <a href='https://wandb.ai/shahi77-national-institute-of-technology-hamirpur/deep-learning-experiments' target=\"_blank\">Weights & Biases</a> (<a href='https://wandb.me/developer-guide' target=\"_blank\">docs</a>)<br>Sweep page: <a href='https://wandb.ai/shahi77-national-institute-of-technology-hamirpur/deep-learning-experiments/sweeps/ntjma6uk' target=\"_blank\">https://wandb.ai/shahi77-national-institute-of-technology-hamirpur/deep-learning-experiments/sweeps/ntjma6uk</a>"
            ]
          },
          "metadata": {}
        },
        {
          "output_type": "display_data",
          "data": {
            "text/plain": [
              "<IPython.core.display.HTML object>"
            ],
            "text/html": [
              " View project at <a href='https://wandb.ai/shahi77-national-institute-of-technology-hamirpur/deep-learning-experiments' target=\"_blank\">https://wandb.ai/shahi77-national-institute-of-technology-hamirpur/deep-learning-experiments</a>"
            ]
          },
          "metadata": {}
        },
        {
          "output_type": "display_data",
          "data": {
            "text/plain": [
              "<IPython.core.display.HTML object>"
            ],
            "text/html": [
              " View sweep at <a href='https://wandb.ai/shahi77-national-institute-of-technology-hamirpur/deep-learning-experiments/sweeps/ntjma6uk' target=\"_blank\">https://wandb.ai/shahi77-national-institute-of-technology-hamirpur/deep-learning-experiments/sweeps/ntjma6uk</a>"
            ]
          },
          "metadata": {}
        },
        {
          "output_type": "display_data",
          "data": {
            "text/plain": [
              "<IPython.core.display.HTML object>"
            ],
            "text/html": [
              " View run at <a href='https://wandb.ai/shahi77-national-institute-of-technology-hamirpur/deep-learning-experiments/runs/0mwgycw2' target=\"_blank\">https://wandb.ai/shahi77-national-institute-of-technology-hamirpur/deep-learning-experiments/runs/0mwgycw2</a>"
            ]
          },
          "metadata": {}
        },
        {
          "output_type": "stream",
          "name": "stdout",
          "text": [
            "Epoch [1/5], Loss: 351.4609, Accuracy: 0.8891\n",
            "Epoch [2/5], Loss: 137.6787, Accuracy: 0.9549\n",
            "Epoch [3/5], Loss: 102.7501, Accuracy: 0.9660\n",
            "Epoch [4/5], Loss: 86.6126, Accuracy: 0.9712\n",
            "Epoch [5/5], Loss: 76.1441, Accuracy: 0.9744\n"
          ]
        },
        {
          "output_type": "display_data",
          "data": {
            "text/plain": [
              "<IPython.core.display.HTML object>"
            ],
            "text/html": []
          },
          "metadata": {}
        },
        {
          "output_type": "display_data",
          "data": {
            "text/plain": [
              "<IPython.core.display.HTML object>"
            ],
            "text/html": [
              "<br>    <style><br>        .wandb-row {<br>            display: flex;<br>            flex-direction: row;<br>            flex-wrap: wrap;<br>            justify-content: flex-start;<br>            width: 100%;<br>        }<br>        .wandb-col {<br>            display: flex;<br>            flex-direction: column;<br>            flex-basis: 100%;<br>            flex: 1;<br>            padding: 10px;<br>        }<br>    </style><br><div class=\"wandb-row\"><div class=\"wandb-col\"><h3>Run history:</h3><br/><table class=\"wandb\"><tr><td>Accuracy</td><td>▁▆▇██</td></tr><tr><td>Epoch</td><td>▁▃▅▆█</td></tr><tr><td>Loss</td><td>█▃▂▁▁</td></tr></table><br/></div><div class=\"wandb-col\"><h3>Run summary:</h3><br/><table class=\"wandb\"><tr><td>Accuracy</td><td>0.97437</td></tr><tr><td>Activation Function</td><td>PReLU</td></tr><tr><td>Dataset</td><td>MNIST</td></tr><tr><td>Epoch</td><td>5</td></tr><tr><td>Loss</td><td>0.08118</td></tr></table><br/></div></div>"
            ]
          },
          "metadata": {}
        },
        {
          "output_type": "display_data",
          "data": {
            "text/plain": [
              "<IPython.core.display.HTML object>"
            ],
            "text/html": [
              " View run <strong style=\"color:#cdcd00\">MNIST-PReLU</strong> at: <a href='https://wandb.ai/shahi77-national-institute-of-technology-hamirpur/deep-learning-experiments/runs/0mwgycw2' target=\"_blank\">https://wandb.ai/shahi77-national-institute-of-technology-hamirpur/deep-learning-experiments/runs/0mwgycw2</a><br> View project at: <a href='https://wandb.ai/shahi77-national-institute-of-technology-hamirpur/deep-learning-experiments' target=\"_blank\">https://wandb.ai/shahi77-national-institute-of-technology-hamirpur/deep-learning-experiments</a><br>Synced 5 W&B file(s), 0 media file(s), 0 artifact file(s) and 0 other file(s)"
            ]
          },
          "metadata": {}
        },
        {
          "output_type": "display_data",
          "data": {
            "text/plain": [
              "<IPython.core.display.HTML object>"
            ],
            "text/html": [
              "Find logs at: <code>./wandb/run-20250206_154832-0mwgycw2/logs</code>"
            ]
          },
          "metadata": {}
        },
        {
          "output_type": "stream",
          "name": "stdout",
          "text": [
            "\n",
            "Training on MNIST with Activation: ELU\n"
          ]
        },
        {
          "output_type": "display_data",
          "data": {
            "text/plain": [
              "<IPython.core.display.HTML object>"
            ],
            "text/html": [
              "Changes to your `wandb` environment variables will be ignored because your `wandb` session has already started. For more information on how to modify your settings with `wandb.init()` arguments, please refer to <a href='https://wandb.me/wandb-init' target=\"_blank\">the W&B docs</a>."
            ]
          },
          "metadata": {}
        },
        {
          "output_type": "display_data",
          "data": {
            "text/plain": [
              "<IPython.core.display.HTML object>"
            ],
            "text/html": [
              "Ignoring project 'activation-functions-analysis' when running a sweep."
            ]
          },
          "metadata": {}
        },
        {
          "output_type": "display_data",
          "data": {
            "text/plain": [
              "<IPython.core.display.HTML object>"
            ],
            "text/html": [
              "Tracking run with wandb version 0.19.5"
            ]
          },
          "metadata": {}
        },
        {
          "output_type": "display_data",
          "data": {
            "text/plain": [
              "<IPython.core.display.HTML object>"
            ],
            "text/html": [
              "Run data is saved locally in <code>/content/wandb/run-20250206_155010-0mwgycw2</code>"
            ]
          },
          "metadata": {}
        },
        {
          "output_type": "display_data",
          "data": {
            "text/plain": [
              "<IPython.core.display.HTML object>"
            ],
            "text/html": [
              "Syncing run <strong><a href='https://wandb.ai/shahi77-national-institute-of-technology-hamirpur/deep-learning-experiments/runs/0mwgycw2' target=\"_blank\">MNIST-ELU</a></strong> to <a href='https://wandb.ai/shahi77-national-institute-of-technology-hamirpur/deep-learning-experiments' target=\"_blank\">Weights & Biases</a> (<a href='https://wandb.me/developer-guide' target=\"_blank\">docs</a>)<br>Sweep page: <a href='https://wandb.ai/shahi77-national-institute-of-technology-hamirpur/deep-learning-experiments/sweeps/ntjma6uk' target=\"_blank\">https://wandb.ai/shahi77-national-institute-of-technology-hamirpur/deep-learning-experiments/sweeps/ntjma6uk</a>"
            ]
          },
          "metadata": {}
        },
        {
          "output_type": "display_data",
          "data": {
            "text/plain": [
              "<IPython.core.display.HTML object>"
            ],
            "text/html": [
              " View project at <a href='https://wandb.ai/shahi77-national-institute-of-technology-hamirpur/deep-learning-experiments' target=\"_blank\">https://wandb.ai/shahi77-national-institute-of-technology-hamirpur/deep-learning-experiments</a>"
            ]
          },
          "metadata": {}
        },
        {
          "output_type": "display_data",
          "data": {
            "text/plain": [
              "<IPython.core.display.HTML object>"
            ],
            "text/html": [
              " View sweep at <a href='https://wandb.ai/shahi77-national-institute-of-technology-hamirpur/deep-learning-experiments/sweeps/ntjma6uk' target=\"_blank\">https://wandb.ai/shahi77-national-institute-of-technology-hamirpur/deep-learning-experiments/sweeps/ntjma6uk</a>"
            ]
          },
          "metadata": {}
        },
        {
          "output_type": "display_data",
          "data": {
            "text/plain": [
              "<IPython.core.display.HTML object>"
            ],
            "text/html": [
              " View run at <a href='https://wandb.ai/shahi77-national-institute-of-technology-hamirpur/deep-learning-experiments/runs/0mwgycw2' target=\"_blank\">https://wandb.ai/shahi77-national-institute-of-technology-hamirpur/deep-learning-experiments/runs/0mwgycw2</a>"
            ]
          },
          "metadata": {}
        },
        {
          "output_type": "stream",
          "name": "stdout",
          "text": [
            "Epoch [1/5], Loss: 319.1410, Accuracy: 0.8978\n",
            "Epoch [2/5], Loss: 144.0421, Accuracy: 0.9535\n",
            "Epoch [3/5], Loss: 100.3175, Accuracy: 0.9664\n",
            "Epoch [4/5], Loss: 81.7006, Accuracy: 0.9724\n",
            "Epoch [5/5], Loss: 68.0513, Accuracy: 0.9774\n"
          ]
        },
        {
          "output_type": "display_data",
          "data": {
            "text/plain": [
              "<IPython.core.display.HTML object>"
            ],
            "text/html": []
          },
          "metadata": {}
        },
        {
          "output_type": "display_data",
          "data": {
            "text/plain": [
              "<IPython.core.display.HTML object>"
            ],
            "text/html": [
              "<br>    <style><br>        .wandb-row {<br>            display: flex;<br>            flex-direction: row;<br>            flex-wrap: wrap;<br>            justify-content: flex-start;<br>            width: 100%;<br>        }<br>        .wandb-col {<br>            display: flex;<br>            flex-direction: column;<br>            flex-basis: 100%;<br>            flex: 1;<br>            padding: 10px;<br>        }<br>    </style><br><div class=\"wandb-row\"><div class=\"wandb-col\"><h3>Run history:</h3><br/><table class=\"wandb\"><tr><td>Accuracy</td><td>▁▆▇██</td></tr><tr><td>Epoch</td><td>▁▃▅▆█</td></tr><tr><td>Loss</td><td>█▃▂▁▁</td></tr></table><br/></div><div class=\"wandb-col\"><h3>Run summary:</h3><br/><table class=\"wandb\"><tr><td>Accuracy</td><td>0.97735</td></tr><tr><td>Activation Function</td><td>ELU</td></tr><tr><td>Dataset</td><td>MNIST</td></tr><tr><td>Epoch</td><td>5</td></tr><tr><td>Loss</td><td>0.07255</td></tr></table><br/></div></div>"
            ]
          },
          "metadata": {}
        },
        {
          "output_type": "display_data",
          "data": {
            "text/plain": [
              "<IPython.core.display.HTML object>"
            ],
            "text/html": [
              " View run <strong style=\"color:#cdcd00\">MNIST-ELU</strong> at: <a href='https://wandb.ai/shahi77-national-institute-of-technology-hamirpur/deep-learning-experiments/runs/0mwgycw2' target=\"_blank\">https://wandb.ai/shahi77-national-institute-of-technology-hamirpur/deep-learning-experiments/runs/0mwgycw2</a><br> View project at: <a href='https://wandb.ai/shahi77-national-institute-of-technology-hamirpur/deep-learning-experiments' target=\"_blank\">https://wandb.ai/shahi77-national-institute-of-technology-hamirpur/deep-learning-experiments</a><br>Synced 5 W&B file(s), 0 media file(s), 0 artifact file(s) and 0 other file(s)"
            ]
          },
          "metadata": {}
        },
        {
          "output_type": "display_data",
          "data": {
            "text/plain": [
              "<IPython.core.display.HTML object>"
            ],
            "text/html": [
              "Find logs at: <code>./wandb/run-20250206_155010-0mwgycw2/logs</code>"
            ]
          },
          "metadata": {}
        },
        {
          "output_type": "stream",
          "name": "stdout",
          "text": [
            "\n",
            "Training on MNIST with Activation: Softmax\n"
          ]
        },
        {
          "output_type": "display_data",
          "data": {
            "text/plain": [
              "<IPython.core.display.HTML object>"
            ],
            "text/html": [
              "Changes to your `wandb` environment variables will be ignored because your `wandb` session has already started. For more information on how to modify your settings with `wandb.init()` arguments, please refer to <a href='https://wandb.me/wandb-init' target=\"_blank\">the W&B docs</a>."
            ]
          },
          "metadata": {}
        },
        {
          "output_type": "display_data",
          "data": {
            "text/plain": [
              "<IPython.core.display.HTML object>"
            ],
            "text/html": [
              "Ignoring project 'activation-functions-analysis' when running a sweep."
            ]
          },
          "metadata": {}
        },
        {
          "output_type": "display_data",
          "data": {
            "text/plain": [
              "<IPython.core.display.HTML object>"
            ],
            "text/html": [
              "Tracking run with wandb version 0.19.5"
            ]
          },
          "metadata": {}
        },
        {
          "output_type": "display_data",
          "data": {
            "text/plain": [
              "<IPython.core.display.HTML object>"
            ],
            "text/html": [
              "Run data is saved locally in <code>/content/wandb/run-20250206_155148-0mwgycw2</code>"
            ]
          },
          "metadata": {}
        },
        {
          "output_type": "display_data",
          "data": {
            "text/plain": [
              "<IPython.core.display.HTML object>"
            ],
            "text/html": [
              "Syncing run <strong><a href='https://wandb.ai/shahi77-national-institute-of-technology-hamirpur/deep-learning-experiments/runs/0mwgycw2' target=\"_blank\">MNIST-Softmax</a></strong> to <a href='https://wandb.ai/shahi77-national-institute-of-technology-hamirpur/deep-learning-experiments' target=\"_blank\">Weights & Biases</a> (<a href='https://wandb.me/developer-guide' target=\"_blank\">docs</a>)<br>Sweep page: <a href='https://wandb.ai/shahi77-national-institute-of-technology-hamirpur/deep-learning-experiments/sweeps/ntjma6uk' target=\"_blank\">https://wandb.ai/shahi77-national-institute-of-technology-hamirpur/deep-learning-experiments/sweeps/ntjma6uk</a>"
            ]
          },
          "metadata": {}
        },
        {
          "output_type": "display_data",
          "data": {
            "text/plain": [
              "<IPython.core.display.HTML object>"
            ],
            "text/html": [
              " View project at <a href='https://wandb.ai/shahi77-national-institute-of-technology-hamirpur/deep-learning-experiments' target=\"_blank\">https://wandb.ai/shahi77-national-institute-of-technology-hamirpur/deep-learning-experiments</a>"
            ]
          },
          "metadata": {}
        },
        {
          "output_type": "display_data",
          "data": {
            "text/plain": [
              "<IPython.core.display.HTML object>"
            ],
            "text/html": [
              " View sweep at <a href='https://wandb.ai/shahi77-national-institute-of-technology-hamirpur/deep-learning-experiments/sweeps/ntjma6uk' target=\"_blank\">https://wandb.ai/shahi77-national-institute-of-technology-hamirpur/deep-learning-experiments/sweeps/ntjma6uk</a>"
            ]
          },
          "metadata": {}
        },
        {
          "output_type": "display_data",
          "data": {
            "text/plain": [
              "<IPython.core.display.HTML object>"
            ],
            "text/html": [
              " View run at <a href='https://wandb.ai/shahi77-national-institute-of-technology-hamirpur/deep-learning-experiments/runs/0mwgycw2' target=\"_blank\">https://wandb.ai/shahi77-national-institute-of-technology-hamirpur/deep-learning-experiments/runs/0mwgycw2</a>"
            ]
          },
          "metadata": {}
        },
        {
          "output_type": "stream",
          "name": "stdout",
          "text": [
            "Epoch [1/5], Loss: 1925.6495, Accuracy: 0.4970\n",
            "Epoch [2/5], Loss: 1007.1120, Accuracy: 0.7525\n",
            "Epoch [3/5], Loss: 682.0073, Accuracy: 0.7620\n",
            "Epoch [4/5], Loss: 591.0083, Accuracy: 0.7676\n",
            "Epoch [5/5], Loss: 553.7707, Accuracy: 0.7712\n"
          ]
        },
        {
          "output_type": "display_data",
          "data": {
            "text/plain": [
              "<IPython.core.display.HTML object>"
            ],
            "text/html": []
          },
          "metadata": {}
        },
        {
          "output_type": "display_data",
          "data": {
            "text/plain": [
              "<IPython.core.display.HTML object>"
            ],
            "text/html": [
              "<br>    <style><br>        .wandb-row {<br>            display: flex;<br>            flex-direction: row;<br>            flex-wrap: wrap;<br>            justify-content: flex-start;<br>            width: 100%;<br>        }<br>        .wandb-col {<br>            display: flex;<br>            flex-direction: column;<br>            flex-basis: 100%;<br>            flex: 1;<br>            padding: 10px;<br>        }<br>    </style><br><div class=\"wandb-row\"><div class=\"wandb-col\"><h3>Run history:</h3><br/><table class=\"wandb\"><tr><td>Accuracy</td><td>▁████</td></tr><tr><td>Epoch</td><td>▁▃▅▆█</td></tr><tr><td>Loss</td><td>█▃▂▁▁</td></tr></table><br/></div><div class=\"wandb-col\"><h3>Run summary:</h3><br/><table class=\"wandb\"><tr><td>Accuracy</td><td>0.77115</td></tr><tr><td>Activation Function</td><td>Softmax</td></tr><tr><td>Dataset</td><td>MNIST</td></tr><tr><td>Epoch</td><td>5</td></tr><tr><td>Loss</td><td>0.59037</td></tr></table><br/></div></div>"
            ]
          },
          "metadata": {}
        },
        {
          "output_type": "display_data",
          "data": {
            "text/plain": [
              "<IPython.core.display.HTML object>"
            ],
            "text/html": [
              " View run <strong style=\"color:#cdcd00\">MNIST-Softmax</strong> at: <a href='https://wandb.ai/shahi77-national-institute-of-technology-hamirpur/deep-learning-experiments/runs/0mwgycw2' target=\"_blank\">https://wandb.ai/shahi77-national-institute-of-technology-hamirpur/deep-learning-experiments/runs/0mwgycw2</a><br> View project at: <a href='https://wandb.ai/shahi77-national-institute-of-technology-hamirpur/deep-learning-experiments' target=\"_blank\">https://wandb.ai/shahi77-national-institute-of-technology-hamirpur/deep-learning-experiments</a><br>Synced 5 W&B file(s), 0 media file(s), 0 artifact file(s) and 0 other file(s)"
            ]
          },
          "metadata": {}
        },
        {
          "output_type": "display_data",
          "data": {
            "text/plain": [
              "<IPython.core.display.HTML object>"
            ],
            "text/html": [
              "Find logs at: <code>./wandb/run-20250206_155148-0mwgycw2/logs</code>"
            ]
          },
          "metadata": {}
        },
        {
          "output_type": "stream",
          "name": "stdout",
          "text": [
            "\n",
            "Training on MNIST with Activation: Softplus\n"
          ]
        },
        {
          "output_type": "display_data",
          "data": {
            "text/plain": [
              "<IPython.core.display.HTML object>"
            ],
            "text/html": [
              "Changes to your `wandb` environment variables will be ignored because your `wandb` session has already started. For more information on how to modify your settings with `wandb.init()` arguments, please refer to <a href='https://wandb.me/wandb-init' target=\"_blank\">the W&B docs</a>."
            ]
          },
          "metadata": {}
        },
        {
          "output_type": "display_data",
          "data": {
            "text/plain": [
              "<IPython.core.display.HTML object>"
            ],
            "text/html": [
              "Ignoring project 'activation-functions-analysis' when running a sweep."
            ]
          },
          "metadata": {}
        },
        {
          "output_type": "display_data",
          "data": {
            "text/plain": [
              "<IPython.core.display.HTML object>"
            ],
            "text/html": [
              "Tracking run with wandb version 0.19.5"
            ]
          },
          "metadata": {}
        },
        {
          "output_type": "display_data",
          "data": {
            "text/plain": [
              "<IPython.core.display.HTML object>"
            ],
            "text/html": [
              "Run data is saved locally in <code>/content/wandb/run-20250206_155324-0mwgycw2</code>"
            ]
          },
          "metadata": {}
        },
        {
          "output_type": "display_data",
          "data": {
            "text/plain": [
              "<IPython.core.display.HTML object>"
            ],
            "text/html": [
              "Syncing run <strong><a href='https://wandb.ai/shahi77-national-institute-of-technology-hamirpur/deep-learning-experiments/runs/0mwgycw2' target=\"_blank\">MNIST-Softplus</a></strong> to <a href='https://wandb.ai/shahi77-national-institute-of-technology-hamirpur/deep-learning-experiments' target=\"_blank\">Weights & Biases</a> (<a href='https://wandb.me/developer-guide' target=\"_blank\">docs</a>)<br>Sweep page: <a href='https://wandb.ai/shahi77-national-institute-of-technology-hamirpur/deep-learning-experiments/sweeps/ntjma6uk' target=\"_blank\">https://wandb.ai/shahi77-national-institute-of-technology-hamirpur/deep-learning-experiments/sweeps/ntjma6uk</a>"
            ]
          },
          "metadata": {}
        },
        {
          "output_type": "display_data",
          "data": {
            "text/plain": [
              "<IPython.core.display.HTML object>"
            ],
            "text/html": [
              " View project at <a href='https://wandb.ai/shahi77-national-institute-of-technology-hamirpur/deep-learning-experiments' target=\"_blank\">https://wandb.ai/shahi77-national-institute-of-technology-hamirpur/deep-learning-experiments</a>"
            ]
          },
          "metadata": {}
        },
        {
          "output_type": "display_data",
          "data": {
            "text/plain": [
              "<IPython.core.display.HTML object>"
            ],
            "text/html": [
              " View sweep at <a href='https://wandb.ai/shahi77-national-institute-of-technology-hamirpur/deep-learning-experiments/sweeps/ntjma6uk' target=\"_blank\">https://wandb.ai/shahi77-national-institute-of-technology-hamirpur/deep-learning-experiments/sweeps/ntjma6uk</a>"
            ]
          },
          "metadata": {}
        },
        {
          "output_type": "display_data",
          "data": {
            "text/plain": [
              "<IPython.core.display.HTML object>"
            ],
            "text/html": [
              " View run at <a href='https://wandb.ai/shahi77-national-institute-of-technology-hamirpur/deep-learning-experiments/runs/0mwgycw2' target=\"_blank\">https://wandb.ai/shahi77-national-institute-of-technology-hamirpur/deep-learning-experiments/runs/0mwgycw2</a>"
            ]
          },
          "metadata": {}
        },
        {
          "output_type": "stream",
          "name": "stdout",
          "text": [
            "Epoch [1/5], Loss: 366.7990, Accuracy: 0.8818\n",
            "Epoch [2/5], Loss: 170.6435, Accuracy: 0.9447\n",
            "Epoch [3/5], Loss: 123.0435, Accuracy: 0.9597\n",
            "Epoch [4/5], Loss: 95.9005, Accuracy: 0.9680\n",
            "Epoch [5/5], Loss: 81.7743, Accuracy: 0.9725\n"
          ]
        },
        {
          "output_type": "display_data",
          "data": {
            "text/plain": [
              "<IPython.core.display.HTML object>"
            ],
            "text/html": []
          },
          "metadata": {}
        },
        {
          "output_type": "display_data",
          "data": {
            "text/plain": [
              "<IPython.core.display.HTML object>"
            ],
            "text/html": [
              "<br>    <style><br>        .wandb-row {<br>            display: flex;<br>            flex-direction: row;<br>            flex-wrap: wrap;<br>            justify-content: flex-start;<br>            width: 100%;<br>        }<br>        .wandb-col {<br>            display: flex;<br>            flex-direction: column;<br>            flex-basis: 100%;<br>            flex: 1;<br>            padding: 10px;<br>        }<br>    </style><br><div class=\"wandb-row\"><div class=\"wandb-col\"><h3>Run history:</h3><br/><table class=\"wandb\"><tr><td>Accuracy</td><td>▁▆▇██</td></tr><tr><td>Epoch</td><td>▁▃▅▆█</td></tr><tr><td>Loss</td><td>█▃▂▁▁</td></tr></table><br/></div><div class=\"wandb-col\"><h3>Run summary:</h3><br/><table class=\"wandb\"><tr><td>Accuracy</td><td>0.97248</td></tr><tr><td>Activation Function</td><td>Softplus</td></tr><tr><td>Dataset</td><td>MNIST</td></tr><tr><td>Epoch</td><td>5</td></tr><tr><td>Loss</td><td>0.08718</td></tr></table><br/></div></div>"
            ]
          },
          "metadata": {}
        },
        {
          "output_type": "display_data",
          "data": {
            "text/plain": [
              "<IPython.core.display.HTML object>"
            ],
            "text/html": [
              " View run <strong style=\"color:#cdcd00\">MNIST-Softplus</strong> at: <a href='https://wandb.ai/shahi77-national-institute-of-technology-hamirpur/deep-learning-experiments/runs/0mwgycw2' target=\"_blank\">https://wandb.ai/shahi77-national-institute-of-technology-hamirpur/deep-learning-experiments/runs/0mwgycw2</a><br> View project at: <a href='https://wandb.ai/shahi77-national-institute-of-technology-hamirpur/deep-learning-experiments' target=\"_blank\">https://wandb.ai/shahi77-national-institute-of-technology-hamirpur/deep-learning-experiments</a><br>Synced 5 W&B file(s), 0 media file(s), 0 artifact file(s) and 0 other file(s)"
            ]
          },
          "metadata": {}
        },
        {
          "output_type": "display_data",
          "data": {
            "text/plain": [
              "<IPython.core.display.HTML object>"
            ],
            "text/html": [
              "Find logs at: <code>./wandb/run-20250206_155324-0mwgycw2/logs</code>"
            ]
          },
          "metadata": {}
        },
        {
          "output_type": "stream",
          "name": "stdout",
          "text": [
            "\n",
            "Training on MNIST with Activation: Swish\n"
          ]
        },
        {
          "output_type": "display_data",
          "data": {
            "text/plain": [
              "<IPython.core.display.HTML object>"
            ],
            "text/html": [
              "Changes to your `wandb` environment variables will be ignored because your `wandb` session has already started. For more information on how to modify your settings with `wandb.init()` arguments, please refer to <a href='https://wandb.me/wandb-init' target=\"_blank\">the W&B docs</a>."
            ]
          },
          "metadata": {}
        },
        {
          "output_type": "display_data",
          "data": {
            "text/plain": [
              "<IPython.core.display.HTML object>"
            ],
            "text/html": [
              "Ignoring project 'activation-functions-analysis' when running a sweep."
            ]
          },
          "metadata": {}
        },
        {
          "output_type": "display_data",
          "data": {
            "text/plain": [
              "<IPython.core.display.HTML object>"
            ],
            "text/html": [
              "Tracking run with wandb version 0.19.5"
            ]
          },
          "metadata": {}
        },
        {
          "output_type": "display_data",
          "data": {
            "text/plain": [
              "<IPython.core.display.HTML object>"
            ],
            "text/html": [
              "Run data is saved locally in <code>/content/wandb/run-20250206_155506-0mwgycw2</code>"
            ]
          },
          "metadata": {}
        },
        {
          "output_type": "display_data",
          "data": {
            "text/plain": [
              "<IPython.core.display.HTML object>"
            ],
            "text/html": [
              "Syncing run <strong><a href='https://wandb.ai/shahi77-national-institute-of-technology-hamirpur/deep-learning-experiments/runs/0mwgycw2' target=\"_blank\">MNIST-Swish</a></strong> to <a href='https://wandb.ai/shahi77-national-institute-of-technology-hamirpur/deep-learning-experiments' target=\"_blank\">Weights & Biases</a> (<a href='https://wandb.me/developer-guide' target=\"_blank\">docs</a>)<br>Sweep page: <a href='https://wandb.ai/shahi77-national-institute-of-technology-hamirpur/deep-learning-experiments/sweeps/ntjma6uk' target=\"_blank\">https://wandb.ai/shahi77-national-institute-of-technology-hamirpur/deep-learning-experiments/sweeps/ntjma6uk</a>"
            ]
          },
          "metadata": {}
        },
        {
          "output_type": "display_data",
          "data": {
            "text/plain": [
              "<IPython.core.display.HTML object>"
            ],
            "text/html": [
              " View project at <a href='https://wandb.ai/shahi77-national-institute-of-technology-hamirpur/deep-learning-experiments' target=\"_blank\">https://wandb.ai/shahi77-national-institute-of-technology-hamirpur/deep-learning-experiments</a>"
            ]
          },
          "metadata": {}
        },
        {
          "output_type": "display_data",
          "data": {
            "text/plain": [
              "<IPython.core.display.HTML object>"
            ],
            "text/html": [
              " View sweep at <a href='https://wandb.ai/shahi77-national-institute-of-technology-hamirpur/deep-learning-experiments/sweeps/ntjma6uk' target=\"_blank\">https://wandb.ai/shahi77-national-institute-of-technology-hamirpur/deep-learning-experiments/sweeps/ntjma6uk</a>"
            ]
          },
          "metadata": {}
        },
        {
          "output_type": "display_data",
          "data": {
            "text/plain": [
              "<IPython.core.display.HTML object>"
            ],
            "text/html": [
              " View run at <a href='https://wandb.ai/shahi77-national-institute-of-technology-hamirpur/deep-learning-experiments/runs/0mwgycw2' target=\"_blank\">https://wandb.ai/shahi77-national-institute-of-technology-hamirpur/deep-learning-experiments/runs/0mwgycw2</a>"
            ]
          },
          "metadata": {}
        },
        {
          "output_type": "stream",
          "name": "stdout",
          "text": [
            "Epoch [1/5], Loss: 313.3387, Accuracy: 0.8996\n",
            "Epoch [2/5], Loss: 138.7900, Accuracy: 0.9555\n",
            "Epoch [3/5], Loss: 105.5001, Accuracy: 0.9648\n",
            "Epoch [4/5], Loss: 81.8569, Accuracy: 0.9724\n",
            "Epoch [5/5], Loss: 70.9011, Accuracy: 0.9763\n"
          ]
        },
        {
          "output_type": "display_data",
          "data": {
            "text/plain": [
              "<IPython.core.display.HTML object>"
            ],
            "text/html": []
          },
          "metadata": {}
        },
        {
          "output_type": "display_data",
          "data": {
            "text/plain": [
              "<IPython.core.display.HTML object>"
            ],
            "text/html": [
              "<br>    <style><br>        .wandb-row {<br>            display: flex;<br>            flex-direction: row;<br>            flex-wrap: wrap;<br>            justify-content: flex-start;<br>            width: 100%;<br>        }<br>        .wandb-col {<br>            display: flex;<br>            flex-direction: column;<br>            flex-basis: 100%;<br>            flex: 1;<br>            padding: 10px;<br>        }<br>    </style><br><div class=\"wandb-row\"><div class=\"wandb-col\"><h3>Run history:</h3><br/><table class=\"wandb\"><tr><td>Accuracy</td><td>▁▆▇██</td></tr><tr><td>Epoch</td><td>▁▃▅▆█</td></tr><tr><td>Loss</td><td>█▃▂▁▁</td></tr></table><br/></div><div class=\"wandb-col\"><h3>Run summary:</h3><br/><table class=\"wandb\"><tr><td>Accuracy</td><td>0.97633</td></tr><tr><td>Activation Function</td><td>Swish</td></tr><tr><td>Dataset</td><td>MNIST</td></tr><tr><td>Epoch</td><td>5</td></tr><tr><td>Loss</td><td>0.07559</td></tr></table><br/></div></div>"
            ]
          },
          "metadata": {}
        },
        {
          "output_type": "display_data",
          "data": {
            "text/plain": [
              "<IPython.core.display.HTML object>"
            ],
            "text/html": [
              " View run <strong style=\"color:#cdcd00\">MNIST-Swish</strong> at: <a href='https://wandb.ai/shahi77-national-institute-of-technology-hamirpur/deep-learning-experiments/runs/0mwgycw2' target=\"_blank\">https://wandb.ai/shahi77-national-institute-of-technology-hamirpur/deep-learning-experiments/runs/0mwgycw2</a><br> View project at: <a href='https://wandb.ai/shahi77-national-institute-of-technology-hamirpur/deep-learning-experiments' target=\"_blank\">https://wandb.ai/shahi77-national-institute-of-technology-hamirpur/deep-learning-experiments</a><br>Synced 5 W&B file(s), 0 media file(s), 0 artifact file(s) and 0 other file(s)"
            ]
          },
          "metadata": {}
        },
        {
          "output_type": "display_data",
          "data": {
            "text/plain": [
              "<IPython.core.display.HTML object>"
            ],
            "text/html": [
              "Find logs at: <code>./wandb/run-20250206_155506-0mwgycw2/logs</code>"
            ]
          },
          "metadata": {}
        },
        {
          "output_type": "stream",
          "name": "stdout",
          "text": [
            "\n",
            "Training on MNIST with Activation: ESwish\n"
          ]
        },
        {
          "output_type": "display_data",
          "data": {
            "text/plain": [
              "<IPython.core.display.HTML object>"
            ],
            "text/html": [
              "Changes to your `wandb` environment variables will be ignored because your `wandb` session has already started. For more information on how to modify your settings with `wandb.init()` arguments, please refer to <a href='https://wandb.me/wandb-init' target=\"_blank\">the W&B docs</a>."
            ]
          },
          "metadata": {}
        },
        {
          "output_type": "display_data",
          "data": {
            "text/plain": [
              "<IPython.core.display.HTML object>"
            ],
            "text/html": [
              "Ignoring project 'activation-functions-analysis' when running a sweep."
            ]
          },
          "metadata": {}
        },
        {
          "output_type": "display_data",
          "data": {
            "text/plain": [
              "<IPython.core.display.HTML object>"
            ],
            "text/html": [
              "Tracking run with wandb version 0.19.5"
            ]
          },
          "metadata": {}
        },
        {
          "output_type": "display_data",
          "data": {
            "text/plain": [
              "<IPython.core.display.HTML object>"
            ],
            "text/html": [
              "Run data is saved locally in <code>/content/wandb/run-20250206_155642-0mwgycw2</code>"
            ]
          },
          "metadata": {}
        },
        {
          "output_type": "display_data",
          "data": {
            "text/plain": [
              "<IPython.core.display.HTML object>"
            ],
            "text/html": [
              "Syncing run <strong><a href='https://wandb.ai/shahi77-national-institute-of-technology-hamirpur/deep-learning-experiments/runs/0mwgycw2' target=\"_blank\">MNIST-ESwish</a></strong> to <a href='https://wandb.ai/shahi77-national-institute-of-technology-hamirpur/deep-learning-experiments' target=\"_blank\">Weights & Biases</a> (<a href='https://wandb.me/developer-guide' target=\"_blank\">docs</a>)<br>Sweep page: <a href='https://wandb.ai/shahi77-national-institute-of-technology-hamirpur/deep-learning-experiments/sweeps/ntjma6uk' target=\"_blank\">https://wandb.ai/shahi77-national-institute-of-technology-hamirpur/deep-learning-experiments/sweeps/ntjma6uk</a>"
            ]
          },
          "metadata": {}
        },
        {
          "output_type": "display_data",
          "data": {
            "text/plain": [
              "<IPython.core.display.HTML object>"
            ],
            "text/html": [
              " View project at <a href='https://wandb.ai/shahi77-national-institute-of-technology-hamirpur/deep-learning-experiments' target=\"_blank\">https://wandb.ai/shahi77-national-institute-of-technology-hamirpur/deep-learning-experiments</a>"
            ]
          },
          "metadata": {}
        },
        {
          "output_type": "display_data",
          "data": {
            "text/plain": [
              "<IPython.core.display.HTML object>"
            ],
            "text/html": [
              " View sweep at <a href='https://wandb.ai/shahi77-national-institute-of-technology-hamirpur/deep-learning-experiments/sweeps/ntjma6uk' target=\"_blank\">https://wandb.ai/shahi77-national-institute-of-technology-hamirpur/deep-learning-experiments/sweeps/ntjma6uk</a>"
            ]
          },
          "metadata": {}
        },
        {
          "output_type": "display_data",
          "data": {
            "text/plain": [
              "<IPython.core.display.HTML object>"
            ],
            "text/html": [
              " View run at <a href='https://wandb.ai/shahi77-national-institute-of-technology-hamirpur/deep-learning-experiments/runs/0mwgycw2' target=\"_blank\">https://wandb.ai/shahi77-national-institute-of-technology-hamirpur/deep-learning-experiments/runs/0mwgycw2</a>"
            ]
          },
          "metadata": {}
        },
        {
          "output_type": "stream",
          "name": "stdout",
          "text": [
            "Epoch [1/5], Loss: 277.4800, Accuracy: 0.9090\n",
            "Epoch [2/5], Loss: 126.5480, Accuracy: 0.9589\n",
            "Epoch [3/5], Loss: 96.7534, Accuracy: 0.9674\n",
            "Epoch [4/5], Loss: 81.2466, Accuracy: 0.9724\n",
            "Epoch [5/5], Loss: 71.2528, Accuracy: 0.9760\n"
          ]
        },
        {
          "output_type": "display_data",
          "data": {
            "text/plain": [
              "<IPython.core.display.HTML object>"
            ],
            "text/html": []
          },
          "metadata": {}
        },
        {
          "output_type": "display_data",
          "data": {
            "text/plain": [
              "<IPython.core.display.HTML object>"
            ],
            "text/html": [
              "<br>    <style><br>        .wandb-row {<br>            display: flex;<br>            flex-direction: row;<br>            flex-wrap: wrap;<br>            justify-content: flex-start;<br>            width: 100%;<br>        }<br>        .wandb-col {<br>            display: flex;<br>            flex-direction: column;<br>            flex-basis: 100%;<br>            flex: 1;<br>            padding: 10px;<br>        }<br>    </style><br><div class=\"wandb-row\"><div class=\"wandb-col\"><h3>Run history:</h3><br/><table class=\"wandb\"><tr><td>Accuracy</td><td>▁▆▇██</td></tr><tr><td>Epoch</td><td>▁▃▅▆█</td></tr><tr><td>Loss</td><td>█▃▂▁▁</td></tr></table><br/></div><div class=\"wandb-col\"><h3>Run summary:</h3><br/><table class=\"wandb\"><tr><td>Accuracy</td><td>0.97597</td></tr><tr><td>Activation Function</td><td>ESwish</td></tr><tr><td>Dataset</td><td>MNIST</td></tr><tr><td>Epoch</td><td>5</td></tr><tr><td>Loss</td><td>0.07596</td></tr></table><br/></div></div>"
            ]
          },
          "metadata": {}
        },
        {
          "output_type": "display_data",
          "data": {
            "text/plain": [
              "<IPython.core.display.HTML object>"
            ],
            "text/html": [
              " View run <strong style=\"color:#cdcd00\">MNIST-ESwish</strong> at: <a href='https://wandb.ai/shahi77-national-institute-of-technology-hamirpur/deep-learning-experiments/runs/0mwgycw2' target=\"_blank\">https://wandb.ai/shahi77-national-institute-of-technology-hamirpur/deep-learning-experiments/runs/0mwgycw2</a><br> View project at: <a href='https://wandb.ai/shahi77-national-institute-of-technology-hamirpur/deep-learning-experiments' target=\"_blank\">https://wandb.ai/shahi77-national-institute-of-technology-hamirpur/deep-learning-experiments</a><br>Synced 5 W&B file(s), 0 media file(s), 0 artifact file(s) and 0 other file(s)"
            ]
          },
          "metadata": {}
        },
        {
          "output_type": "display_data",
          "data": {
            "text/plain": [
              "<IPython.core.display.HTML object>"
            ],
            "text/html": [
              "Find logs at: <code>./wandb/run-20250206_155642-0mwgycw2/logs</code>"
            ]
          },
          "metadata": {}
        },
        {
          "output_type": "stream",
          "name": "stdout",
          "text": [
            "\n",
            "Training on MNIST with Activation: GELU\n"
          ]
        },
        {
          "output_type": "display_data",
          "data": {
            "text/plain": [
              "<IPython.core.display.HTML object>"
            ],
            "text/html": [
              "Changes to your `wandb` environment variables will be ignored because your `wandb` session has already started. For more information on how to modify your settings with `wandb.init()` arguments, please refer to <a href='https://wandb.me/wandb-init' target=\"_blank\">the W&B docs</a>."
            ]
          },
          "metadata": {}
        },
        {
          "output_type": "display_data",
          "data": {
            "text/plain": [
              "<IPython.core.display.HTML object>"
            ],
            "text/html": [
              "Ignoring project 'activation-functions-analysis' when running a sweep."
            ]
          },
          "metadata": {}
        },
        {
          "output_type": "display_data",
          "data": {
            "text/plain": [
              "<IPython.core.display.HTML object>"
            ],
            "text/html": [
              "Tracking run with wandb version 0.19.5"
            ]
          },
          "metadata": {}
        },
        {
          "output_type": "display_data",
          "data": {
            "text/plain": [
              "<IPython.core.display.HTML object>"
            ],
            "text/html": [
              "Run data is saved locally in <code>/content/wandb/run-20250206_155825-0mwgycw2</code>"
            ]
          },
          "metadata": {}
        },
        {
          "output_type": "display_data",
          "data": {
            "text/plain": [
              "<IPython.core.display.HTML object>"
            ],
            "text/html": [
              "Syncing run <strong><a href='https://wandb.ai/shahi77-national-institute-of-technology-hamirpur/deep-learning-experiments/runs/0mwgycw2' target=\"_blank\">MNIST-GELU</a></strong> to <a href='https://wandb.ai/shahi77-national-institute-of-technology-hamirpur/deep-learning-experiments' target=\"_blank\">Weights & Biases</a> (<a href='https://wandb.me/developer-guide' target=\"_blank\">docs</a>)<br>Sweep page: <a href='https://wandb.ai/shahi77-national-institute-of-technology-hamirpur/deep-learning-experiments/sweeps/ntjma6uk' target=\"_blank\">https://wandb.ai/shahi77-national-institute-of-technology-hamirpur/deep-learning-experiments/sweeps/ntjma6uk</a>"
            ]
          },
          "metadata": {}
        },
        {
          "output_type": "display_data",
          "data": {
            "text/plain": [
              "<IPython.core.display.HTML object>"
            ],
            "text/html": [
              " View project at <a href='https://wandb.ai/shahi77-national-institute-of-technology-hamirpur/deep-learning-experiments' target=\"_blank\">https://wandb.ai/shahi77-national-institute-of-technology-hamirpur/deep-learning-experiments</a>"
            ]
          },
          "metadata": {}
        },
        {
          "output_type": "display_data",
          "data": {
            "text/plain": [
              "<IPython.core.display.HTML object>"
            ],
            "text/html": [
              " View sweep at <a href='https://wandb.ai/shahi77-national-institute-of-technology-hamirpur/deep-learning-experiments/sweeps/ntjma6uk' target=\"_blank\">https://wandb.ai/shahi77-national-institute-of-technology-hamirpur/deep-learning-experiments/sweeps/ntjma6uk</a>"
            ]
          },
          "metadata": {}
        },
        {
          "output_type": "display_data",
          "data": {
            "text/plain": [
              "<IPython.core.display.HTML object>"
            ],
            "text/html": [
              " View run at <a href='https://wandb.ai/shahi77-national-institute-of-technology-hamirpur/deep-learning-experiments/runs/0mwgycw2' target=\"_blank\">https://wandb.ai/shahi77-national-institute-of-technology-hamirpur/deep-learning-experiments/runs/0mwgycw2</a>"
            ]
          },
          "metadata": {}
        },
        {
          "output_type": "stream",
          "name": "stdout",
          "text": [
            "Epoch [1/5], Loss: 321.6544, Accuracy: 0.8966\n",
            "Epoch [2/5], Loss: 146.6626, Accuracy: 0.9530\n",
            "Epoch [3/5], Loss: 108.7945, Accuracy: 0.9643\n",
            "Epoch [4/5], Loss: 89.4912, Accuracy: 0.9707\n",
            "Epoch [5/5], Loss: 77.4177, Accuracy: 0.9740\n"
          ]
        },
        {
          "output_type": "display_data",
          "data": {
            "text/plain": [
              "<IPython.core.display.HTML object>"
            ],
            "text/html": []
          },
          "metadata": {}
        },
        {
          "output_type": "display_data",
          "data": {
            "text/plain": [
              "<IPython.core.display.HTML object>"
            ],
            "text/html": [
              "<br>    <style><br>        .wandb-row {<br>            display: flex;<br>            flex-direction: row;<br>            flex-wrap: wrap;<br>            justify-content: flex-start;<br>            width: 100%;<br>        }<br>        .wandb-col {<br>            display: flex;<br>            flex-direction: column;<br>            flex-basis: 100%;<br>            flex: 1;<br>            padding: 10px;<br>        }<br>    </style><br><div class=\"wandb-row\"><div class=\"wandb-col\"><h3>Run history:</h3><br/><table class=\"wandb\"><tr><td>Accuracy</td><td>▁▆▇██</td></tr><tr><td>Epoch</td><td>▁▃▅▆█</td></tr><tr><td>Loss</td><td>█▃▂▁▁</td></tr></table><br/></div><div class=\"wandb-col\"><h3>Run summary:</h3><br/><table class=\"wandb\"><tr><td>Accuracy</td><td>0.97398</td></tr><tr><td>Activation Function</td><td>GELU</td></tr><tr><td>Dataset</td><td>MNIST</td></tr><tr><td>Epoch</td><td>5</td></tr><tr><td>Loss</td><td>0.08253</td></tr></table><br/></div></div>"
            ]
          },
          "metadata": {}
        },
        {
          "output_type": "display_data",
          "data": {
            "text/plain": [
              "<IPython.core.display.HTML object>"
            ],
            "text/html": [
              " View run <strong style=\"color:#cdcd00\">MNIST-GELU</strong> at: <a href='https://wandb.ai/shahi77-national-institute-of-technology-hamirpur/deep-learning-experiments/runs/0mwgycw2' target=\"_blank\">https://wandb.ai/shahi77-national-institute-of-technology-hamirpur/deep-learning-experiments/runs/0mwgycw2</a><br> View project at: <a href='https://wandb.ai/shahi77-national-institute-of-technology-hamirpur/deep-learning-experiments' target=\"_blank\">https://wandb.ai/shahi77-national-institute-of-technology-hamirpur/deep-learning-experiments</a><br>Synced 5 W&B file(s), 0 media file(s), 0 artifact file(s) and 0 other file(s)"
            ]
          },
          "metadata": {}
        },
        {
          "output_type": "display_data",
          "data": {
            "text/plain": [
              "<IPython.core.display.HTML object>"
            ],
            "text/html": [
              "Find logs at: <code>./wandb/run-20250206_155825-0mwgycw2/logs</code>"
            ]
          },
          "metadata": {}
        },
        {
          "output_type": "stream",
          "name": "stdout",
          "text": [
            "\n",
            "Training on MNIST with Activation: SELU\n"
          ]
        },
        {
          "output_type": "display_data",
          "data": {
            "text/plain": [
              "<IPython.core.display.HTML object>"
            ],
            "text/html": [
              "Changes to your `wandb` environment variables will be ignored because your `wandb` session has already started. For more information on how to modify your settings with `wandb.init()` arguments, please refer to <a href='https://wandb.me/wandb-init' target=\"_blank\">the W&B docs</a>."
            ]
          },
          "metadata": {}
        },
        {
          "output_type": "display_data",
          "data": {
            "text/plain": [
              "<IPython.core.display.HTML object>"
            ],
            "text/html": [
              "Ignoring project 'activation-functions-analysis' when running a sweep."
            ]
          },
          "metadata": {}
        },
        {
          "output_type": "display_data",
          "data": {
            "text/plain": [
              "<IPython.core.display.HTML object>"
            ],
            "text/html": [
              "Tracking run with wandb version 0.19.5"
            ]
          },
          "metadata": {}
        },
        {
          "output_type": "display_data",
          "data": {
            "text/plain": [
              "<IPython.core.display.HTML object>"
            ],
            "text/html": [
              "Run data is saved locally in <code>/content/wandb/run-20250206_160003-0mwgycw2</code>"
            ]
          },
          "metadata": {}
        },
        {
          "output_type": "display_data",
          "data": {
            "text/plain": [
              "<IPython.core.display.HTML object>"
            ],
            "text/html": [
              "Syncing run <strong><a href='https://wandb.ai/shahi77-national-institute-of-technology-hamirpur/deep-learning-experiments/runs/0mwgycw2' target=\"_blank\">MNIST-SELU</a></strong> to <a href='https://wandb.ai/shahi77-national-institute-of-technology-hamirpur/deep-learning-experiments' target=\"_blank\">Weights & Biases</a> (<a href='https://wandb.me/developer-guide' target=\"_blank\">docs</a>)<br>Sweep page: <a href='https://wandb.ai/shahi77-national-institute-of-technology-hamirpur/deep-learning-experiments/sweeps/ntjma6uk' target=\"_blank\">https://wandb.ai/shahi77-national-institute-of-technology-hamirpur/deep-learning-experiments/sweeps/ntjma6uk</a>"
            ]
          },
          "metadata": {}
        },
        {
          "output_type": "display_data",
          "data": {
            "text/plain": [
              "<IPython.core.display.HTML object>"
            ],
            "text/html": [
              " View project at <a href='https://wandb.ai/shahi77-national-institute-of-technology-hamirpur/deep-learning-experiments' target=\"_blank\">https://wandb.ai/shahi77-national-institute-of-technology-hamirpur/deep-learning-experiments</a>"
            ]
          },
          "metadata": {}
        },
        {
          "output_type": "display_data",
          "data": {
            "text/plain": [
              "<IPython.core.display.HTML object>"
            ],
            "text/html": [
              " View sweep at <a href='https://wandb.ai/shahi77-national-institute-of-technology-hamirpur/deep-learning-experiments/sweeps/ntjma6uk' target=\"_blank\">https://wandb.ai/shahi77-national-institute-of-technology-hamirpur/deep-learning-experiments/sweeps/ntjma6uk</a>"
            ]
          },
          "metadata": {}
        },
        {
          "output_type": "display_data",
          "data": {
            "text/plain": [
              "<IPython.core.display.HTML object>"
            ],
            "text/html": [
              " View run at <a href='https://wandb.ai/shahi77-national-institute-of-technology-hamirpur/deep-learning-experiments/runs/0mwgycw2' target=\"_blank\">https://wandb.ai/shahi77-national-institute-of-technology-hamirpur/deep-learning-experiments/runs/0mwgycw2</a>"
            ]
          },
          "metadata": {}
        },
        {
          "output_type": "stream",
          "name": "stdout",
          "text": [
            "Epoch [1/5], Loss: 314.9296, Accuracy: 0.8990\n",
            "Epoch [2/5], Loss: 145.9916, Accuracy: 0.9521\n",
            "Epoch [3/5], Loss: 105.8763, Accuracy: 0.9649\n",
            "Epoch [4/5], Loss: 86.6644, Accuracy: 0.9705\n",
            "Epoch [5/5], Loss: 72.8505, Accuracy: 0.9748\n"
          ]
        },
        {
          "output_type": "display_data",
          "data": {
            "text/plain": [
              "<IPython.core.display.HTML object>"
            ],
            "text/html": []
          },
          "metadata": {}
        },
        {
          "output_type": "display_data",
          "data": {
            "text/plain": [
              "<IPython.core.display.HTML object>"
            ],
            "text/html": [
              "<br>    <style><br>        .wandb-row {<br>            display: flex;<br>            flex-direction: row;<br>            flex-wrap: wrap;<br>            justify-content: flex-start;<br>            width: 100%;<br>        }<br>        .wandb-col {<br>            display: flex;<br>            flex-direction: column;<br>            flex-basis: 100%;<br>            flex: 1;<br>            padding: 10px;<br>        }<br>    </style><br><div class=\"wandb-row\"><div class=\"wandb-col\"><h3>Run history:</h3><br/><table class=\"wandb\"><tr><td>Accuracy</td><td>▁▆▇██</td></tr><tr><td>Epoch</td><td>▁▃▅▆█</td></tr><tr><td>Loss</td><td>█▃▂▁▁</td></tr></table><br/></div><div class=\"wandb-col\"><h3>Run summary:</h3><br/><table class=\"wandb\"><tr><td>Accuracy</td><td>0.9748</td></tr><tr><td>Activation Function</td><td>SELU</td></tr><tr><td>Dataset</td><td>MNIST</td></tr><tr><td>Epoch</td><td>5</td></tr><tr><td>Loss</td><td>0.07767</td></tr></table><br/></div></div>"
            ]
          },
          "metadata": {}
        },
        {
          "output_type": "display_data",
          "data": {
            "text/plain": [
              "<IPython.core.display.HTML object>"
            ],
            "text/html": [
              " View run <strong style=\"color:#cdcd00\">MNIST-SELU</strong> at: <a href='https://wandb.ai/shahi77-national-institute-of-technology-hamirpur/deep-learning-experiments/runs/0mwgycw2' target=\"_blank\">https://wandb.ai/shahi77-national-institute-of-technology-hamirpur/deep-learning-experiments/runs/0mwgycw2</a><br> View project at: <a href='https://wandb.ai/shahi77-national-institute-of-technology-hamirpur/deep-learning-experiments' target=\"_blank\">https://wandb.ai/shahi77-national-institute-of-technology-hamirpur/deep-learning-experiments</a><br>Synced 5 W&B file(s), 0 media file(s), 0 artifact file(s) and 0 other file(s)"
            ]
          },
          "metadata": {}
        },
        {
          "output_type": "display_data",
          "data": {
            "text/plain": [
              "<IPython.core.display.HTML object>"
            ],
            "text/html": [
              "Find logs at: <code>./wandb/run-20250206_160003-0mwgycw2/logs</code>"
            ]
          },
          "metadata": {}
        },
        {
          "output_type": "stream",
          "name": "stdout",
          "text": [
            "\n",
            "Training on Fashion-MNIST with Activation: Sigmoid\n"
          ]
        },
        {
          "output_type": "display_data",
          "data": {
            "text/plain": [
              "<IPython.core.display.HTML object>"
            ],
            "text/html": [
              "Changes to your `wandb` environment variables will be ignored because your `wandb` session has already started. For more information on how to modify your settings with `wandb.init()` arguments, please refer to <a href='https://wandb.me/wandb-init' target=\"_blank\">the W&B docs</a>."
            ]
          },
          "metadata": {}
        },
        {
          "output_type": "display_data",
          "data": {
            "text/plain": [
              "<IPython.core.display.HTML object>"
            ],
            "text/html": [
              "Ignoring project 'activation-functions-analysis' when running a sweep."
            ]
          },
          "metadata": {}
        },
        {
          "output_type": "display_data",
          "data": {
            "text/plain": [
              "<IPython.core.display.HTML object>"
            ],
            "text/html": [
              "Tracking run with wandb version 0.19.5"
            ]
          },
          "metadata": {}
        },
        {
          "output_type": "display_data",
          "data": {
            "text/plain": [
              "<IPython.core.display.HTML object>"
            ],
            "text/html": [
              "Run data is saved locally in <code>/content/wandb/run-20250206_160154-0mwgycw2</code>"
            ]
          },
          "metadata": {}
        },
        {
          "output_type": "display_data",
          "data": {
            "text/plain": [
              "<IPython.core.display.HTML object>"
            ],
            "text/html": [
              "Syncing run <strong><a href='https://wandb.ai/shahi77-national-institute-of-technology-hamirpur/deep-learning-experiments/runs/0mwgycw2' target=\"_blank\">Fashion-MNIST-Sigmoid</a></strong> to <a href='https://wandb.ai/shahi77-national-institute-of-technology-hamirpur/deep-learning-experiments' target=\"_blank\">Weights & Biases</a> (<a href='https://wandb.me/developer-guide' target=\"_blank\">docs</a>)<br>Sweep page: <a href='https://wandb.ai/shahi77-national-institute-of-technology-hamirpur/deep-learning-experiments/sweeps/ntjma6uk' target=\"_blank\">https://wandb.ai/shahi77-national-institute-of-technology-hamirpur/deep-learning-experiments/sweeps/ntjma6uk</a>"
            ]
          },
          "metadata": {}
        },
        {
          "output_type": "display_data",
          "data": {
            "text/plain": [
              "<IPython.core.display.HTML object>"
            ],
            "text/html": [
              " View project at <a href='https://wandb.ai/shahi77-national-institute-of-technology-hamirpur/deep-learning-experiments' target=\"_blank\">https://wandb.ai/shahi77-national-institute-of-technology-hamirpur/deep-learning-experiments</a>"
            ]
          },
          "metadata": {}
        },
        {
          "output_type": "display_data",
          "data": {
            "text/plain": [
              "<IPython.core.display.HTML object>"
            ],
            "text/html": [
              " View sweep at <a href='https://wandb.ai/shahi77-national-institute-of-technology-hamirpur/deep-learning-experiments/sweeps/ntjma6uk' target=\"_blank\">https://wandb.ai/shahi77-national-institute-of-technology-hamirpur/deep-learning-experiments/sweeps/ntjma6uk</a>"
            ]
          },
          "metadata": {}
        },
        {
          "output_type": "display_data",
          "data": {
            "text/plain": [
              "<IPython.core.display.HTML object>"
            ],
            "text/html": [
              " View run at <a href='https://wandb.ai/shahi77-national-institute-of-technology-hamirpur/deep-learning-experiments/runs/0mwgycw2' target=\"_blank\">https://wandb.ai/shahi77-national-institute-of-technology-hamirpur/deep-learning-experiments/runs/0mwgycw2</a>"
            ]
          },
          "metadata": {}
        },
        {
          "output_type": "stream",
          "name": "stdout",
          "text": [
            "Epoch [1/5], Loss: 717.1034, Accuracy: 0.7546\n",
            "Epoch [2/5], Loss: 396.0156, Accuracy: 0.8499\n",
            "Epoch [3/5], Loss: 345.7198, Accuracy: 0.8675\n",
            "Epoch [4/5], Loss: 318.5219, Accuracy: 0.8781\n",
            "Epoch [5/5], Loss: 298.0618, Accuracy: 0.8837\n"
          ]
        },
        {
          "output_type": "display_data",
          "data": {
            "text/plain": [
              "<IPython.core.display.HTML object>"
            ],
            "text/html": []
          },
          "metadata": {}
        },
        {
          "output_type": "display_data",
          "data": {
            "text/plain": [
              "<IPython.core.display.HTML object>"
            ],
            "text/html": [
              "<br>    <style><br>        .wandb-row {<br>            display: flex;<br>            flex-direction: row;<br>            flex-wrap: wrap;<br>            justify-content: flex-start;<br>            width: 100%;<br>        }<br>        .wandb-col {<br>            display: flex;<br>            flex-direction: column;<br>            flex-basis: 100%;<br>            flex: 1;<br>            padding: 10px;<br>        }<br>    </style><br><div class=\"wandb-row\"><div class=\"wandb-col\"><h3>Run history:</h3><br/><table class=\"wandb\"><tr><td>Accuracy</td><td>▁▆▇██</td></tr><tr><td>Epoch</td><td>▁▃▅▆█</td></tr><tr><td>Loss</td><td>█▃▂▁▁</td></tr></table><br/></div><div class=\"wandb-col\"><h3>Run summary:</h3><br/><table class=\"wandb\"><tr><td>Accuracy</td><td>0.8837</td></tr><tr><td>Activation Function</td><td>Sigmoid</td></tr><tr><td>Dataset</td><td>Fashion-MNIST</td></tr><tr><td>Epoch</td><td>5</td></tr><tr><td>Loss</td><td>0.31776</td></tr></table><br/></div></div>"
            ]
          },
          "metadata": {}
        },
        {
          "output_type": "display_data",
          "data": {
            "text/plain": [
              "<IPython.core.display.HTML object>"
            ],
            "text/html": [
              " View run <strong style=\"color:#cdcd00\">Fashion-MNIST-Sigmoid</strong> at: <a href='https://wandb.ai/shahi77-national-institute-of-technology-hamirpur/deep-learning-experiments/runs/0mwgycw2' target=\"_blank\">https://wandb.ai/shahi77-national-institute-of-technology-hamirpur/deep-learning-experiments/runs/0mwgycw2</a><br> View project at: <a href='https://wandb.ai/shahi77-national-institute-of-technology-hamirpur/deep-learning-experiments' target=\"_blank\">https://wandb.ai/shahi77-national-institute-of-technology-hamirpur/deep-learning-experiments</a><br>Synced 5 W&B file(s), 0 media file(s), 0 artifact file(s) and 0 other file(s)"
            ]
          },
          "metadata": {}
        },
        {
          "output_type": "display_data",
          "data": {
            "text/plain": [
              "<IPython.core.display.HTML object>"
            ],
            "text/html": [
              "Find logs at: <code>./wandb/run-20250206_160154-0mwgycw2/logs</code>"
            ]
          },
          "metadata": {}
        },
        {
          "output_type": "stream",
          "name": "stdout",
          "text": [
            "\n",
            "Training on Fashion-MNIST with Activation: Tanh\n"
          ]
        },
        {
          "output_type": "display_data",
          "data": {
            "text/plain": [
              "<IPython.core.display.HTML object>"
            ],
            "text/html": [
              "Changes to your `wandb` environment variables will be ignored because your `wandb` session has already started. For more information on how to modify your settings with `wandb.init()` arguments, please refer to <a href='https://wandb.me/wandb-init' target=\"_blank\">the W&B docs</a>."
            ]
          },
          "metadata": {}
        },
        {
          "output_type": "display_data",
          "data": {
            "text/plain": [
              "<IPython.core.display.HTML object>"
            ],
            "text/html": [
              "Ignoring project 'activation-functions-analysis' when running a sweep."
            ]
          },
          "metadata": {}
        },
        {
          "output_type": "display_data",
          "data": {
            "text/plain": [
              "<IPython.core.display.HTML object>"
            ],
            "text/html": [
              "Tracking run with wandb version 0.19.5"
            ]
          },
          "metadata": {}
        },
        {
          "output_type": "display_data",
          "data": {
            "text/plain": [
              "<IPython.core.display.HTML object>"
            ],
            "text/html": [
              "Run data is saved locally in <code>/content/wandb/run-20250206_160332-0mwgycw2</code>"
            ]
          },
          "metadata": {}
        },
        {
          "output_type": "display_data",
          "data": {
            "text/plain": [
              "<IPython.core.display.HTML object>"
            ],
            "text/html": [
              "Syncing run <strong><a href='https://wandb.ai/shahi77-national-institute-of-technology-hamirpur/deep-learning-experiments/runs/0mwgycw2' target=\"_blank\">Fashion-MNIST-Tanh</a></strong> to <a href='https://wandb.ai/shahi77-national-institute-of-technology-hamirpur/deep-learning-experiments' target=\"_blank\">Weights & Biases</a> (<a href='https://wandb.me/developer-guide' target=\"_blank\">docs</a>)<br>Sweep page: <a href='https://wandb.ai/shahi77-national-institute-of-technology-hamirpur/deep-learning-experiments/sweeps/ntjma6uk' target=\"_blank\">https://wandb.ai/shahi77-national-institute-of-technology-hamirpur/deep-learning-experiments/sweeps/ntjma6uk</a>"
            ]
          },
          "metadata": {}
        },
        {
          "output_type": "display_data",
          "data": {
            "text/plain": [
              "<IPython.core.display.HTML object>"
            ],
            "text/html": [
              " View project at <a href='https://wandb.ai/shahi77-national-institute-of-technology-hamirpur/deep-learning-experiments' target=\"_blank\">https://wandb.ai/shahi77-national-institute-of-technology-hamirpur/deep-learning-experiments</a>"
            ]
          },
          "metadata": {}
        },
        {
          "output_type": "display_data",
          "data": {
            "text/plain": [
              "<IPython.core.display.HTML object>"
            ],
            "text/html": [
              " View sweep at <a href='https://wandb.ai/shahi77-national-institute-of-technology-hamirpur/deep-learning-experiments/sweeps/ntjma6uk' target=\"_blank\">https://wandb.ai/shahi77-national-institute-of-technology-hamirpur/deep-learning-experiments/sweeps/ntjma6uk</a>"
            ]
          },
          "metadata": {}
        },
        {
          "output_type": "display_data",
          "data": {
            "text/plain": [
              "<IPython.core.display.HTML object>"
            ],
            "text/html": [
              " View run at <a href='https://wandb.ai/shahi77-national-institute-of-technology-hamirpur/deep-learning-experiments/runs/0mwgycw2' target=\"_blank\">https://wandb.ai/shahi77-national-institute-of-technology-hamirpur/deep-learning-experiments/runs/0mwgycw2</a>"
            ]
          },
          "metadata": {}
        },
        {
          "output_type": "stream",
          "name": "stdout",
          "text": [
            "Epoch [1/5], Loss: 480.4457, Accuracy: 0.8212\n",
            "Epoch [2/5], Loss: 353.6627, Accuracy: 0.8638\n",
            "Epoch [3/5], Loss: 323.1022, Accuracy: 0.8734\n",
            "Epoch [4/5], Loss: 304.0890, Accuracy: 0.8807\n",
            "Epoch [5/5], Loss: 289.9707, Accuracy: 0.8864\n"
          ]
        },
        {
          "output_type": "display_data",
          "data": {
            "text/plain": [
              "<IPython.core.display.HTML object>"
            ],
            "text/html": []
          },
          "metadata": {}
        },
        {
          "output_type": "display_data",
          "data": {
            "text/plain": [
              "<IPython.core.display.HTML object>"
            ],
            "text/html": [
              "<br>    <style><br>        .wandb-row {<br>            display: flex;<br>            flex-direction: row;<br>            flex-wrap: wrap;<br>            justify-content: flex-start;<br>            width: 100%;<br>        }<br>        .wandb-col {<br>            display: flex;<br>            flex-direction: column;<br>            flex-basis: 100%;<br>            flex: 1;<br>            padding: 10px;<br>        }<br>    </style><br><div class=\"wandb-row\"><div class=\"wandb-col\"><h3>Run history:</h3><br/><table class=\"wandb\"><tr><td>Accuracy</td><td>▁▆▇▇█</td></tr><tr><td>Epoch</td><td>▁▃▅▆█</td></tr><tr><td>Loss</td><td>█▃▂▂▁</td></tr></table><br/></div><div class=\"wandb-col\"><h3>Run summary:</h3><br/><table class=\"wandb\"><tr><td>Accuracy</td><td>0.88637</td></tr><tr><td>Activation Function</td><td>Tanh</td></tr><tr><td>Dataset</td><td>Fashion-MNIST</td></tr><tr><td>Epoch</td><td>5</td></tr><tr><td>Loss</td><td>0.30914</td></tr></table><br/></div></div>"
            ]
          },
          "metadata": {}
        },
        {
          "output_type": "display_data",
          "data": {
            "text/plain": [
              "<IPython.core.display.HTML object>"
            ],
            "text/html": [
              " View run <strong style=\"color:#cdcd00\">Fashion-MNIST-Tanh</strong> at: <a href='https://wandb.ai/shahi77-national-institute-of-technology-hamirpur/deep-learning-experiments/runs/0mwgycw2' target=\"_blank\">https://wandb.ai/shahi77-national-institute-of-technology-hamirpur/deep-learning-experiments/runs/0mwgycw2</a><br> View project at: <a href='https://wandb.ai/shahi77-national-institute-of-technology-hamirpur/deep-learning-experiments' target=\"_blank\">https://wandb.ai/shahi77-national-institute-of-technology-hamirpur/deep-learning-experiments</a><br>Synced 5 W&B file(s), 0 media file(s), 0 artifact file(s) and 0 other file(s)"
            ]
          },
          "metadata": {}
        },
        {
          "output_type": "display_data",
          "data": {
            "text/plain": [
              "<IPython.core.display.HTML object>"
            ],
            "text/html": [
              "Find logs at: <code>./wandb/run-20250206_160332-0mwgycw2/logs</code>"
            ]
          },
          "metadata": {}
        },
        {
          "output_type": "stream",
          "name": "stdout",
          "text": [
            "\n",
            "Training on Fashion-MNIST with Activation: Mish\n"
          ]
        },
        {
          "output_type": "display_data",
          "data": {
            "text/plain": [
              "<IPython.core.display.HTML object>"
            ],
            "text/html": [
              "Changes to your `wandb` environment variables will be ignored because your `wandb` session has already started. For more information on how to modify your settings with `wandb.init()` arguments, please refer to <a href='https://wandb.me/wandb-init' target=\"_blank\">the W&B docs</a>."
            ]
          },
          "metadata": {}
        },
        {
          "output_type": "display_data",
          "data": {
            "text/plain": [
              "<IPython.core.display.HTML object>"
            ],
            "text/html": [
              "Ignoring project 'activation-functions-analysis' when running a sweep."
            ]
          },
          "metadata": {}
        },
        {
          "output_type": "display_data",
          "data": {
            "text/plain": [
              "<IPython.core.display.HTML object>"
            ],
            "text/html": [
              "Tracking run with wandb version 0.19.5"
            ]
          },
          "metadata": {}
        },
        {
          "output_type": "display_data",
          "data": {
            "text/plain": [
              "<IPython.core.display.HTML object>"
            ],
            "text/html": [
              "Run data is saved locally in <code>/content/wandb/run-20250206_160507-0mwgycw2</code>"
            ]
          },
          "metadata": {}
        },
        {
          "output_type": "display_data",
          "data": {
            "text/plain": [
              "<IPython.core.display.HTML object>"
            ],
            "text/html": [
              "Syncing run <strong><a href='https://wandb.ai/shahi77-national-institute-of-technology-hamirpur/deep-learning-experiments/runs/0mwgycw2' target=\"_blank\">Fashion-MNIST-Mish</a></strong> to <a href='https://wandb.ai/shahi77-national-institute-of-technology-hamirpur/deep-learning-experiments' target=\"_blank\">Weights & Biases</a> (<a href='https://wandb.me/developer-guide' target=\"_blank\">docs</a>)<br>Sweep page: <a href='https://wandb.ai/shahi77-national-institute-of-technology-hamirpur/deep-learning-experiments/sweeps/ntjma6uk' target=\"_blank\">https://wandb.ai/shahi77-national-institute-of-technology-hamirpur/deep-learning-experiments/sweeps/ntjma6uk</a>"
            ]
          },
          "metadata": {}
        },
        {
          "output_type": "display_data",
          "data": {
            "text/plain": [
              "<IPython.core.display.HTML object>"
            ],
            "text/html": [
              " View project at <a href='https://wandb.ai/shahi77-national-institute-of-technology-hamirpur/deep-learning-experiments' target=\"_blank\">https://wandb.ai/shahi77-national-institute-of-technology-hamirpur/deep-learning-experiments</a>"
            ]
          },
          "metadata": {}
        },
        {
          "output_type": "display_data",
          "data": {
            "text/plain": [
              "<IPython.core.display.HTML object>"
            ],
            "text/html": [
              " View sweep at <a href='https://wandb.ai/shahi77-national-institute-of-technology-hamirpur/deep-learning-experiments/sweeps/ntjma6uk' target=\"_blank\">https://wandb.ai/shahi77-national-institute-of-technology-hamirpur/deep-learning-experiments/sweeps/ntjma6uk</a>"
            ]
          },
          "metadata": {}
        },
        {
          "output_type": "display_data",
          "data": {
            "text/plain": [
              "<IPython.core.display.HTML object>"
            ],
            "text/html": [
              " View run at <a href='https://wandb.ai/shahi77-national-institute-of-technology-hamirpur/deep-learning-experiments/runs/0mwgycw2' target=\"_blank\">https://wandb.ai/shahi77-national-institute-of-technology-hamirpur/deep-learning-experiments/runs/0mwgycw2</a>"
            ]
          },
          "metadata": {}
        },
        {
          "output_type": "stream",
          "name": "stdout",
          "text": [
            "Epoch [1/5], Loss: 472.3336, Accuracy: 0.8176\n",
            "Epoch [2/5], Loss: 347.1838, Accuracy: 0.8646\n",
            "Epoch [3/5], Loss: 308.2094, Accuracy: 0.8781\n",
            "Epoch [4/5], Loss: 284.3197, Accuracy: 0.8877\n",
            "Epoch [5/5], Loss: 266.7382, Accuracy: 0.8945\n"
          ]
        },
        {
          "output_type": "display_data",
          "data": {
            "text/plain": [
              "<IPython.core.display.HTML object>"
            ],
            "text/html": []
          },
          "metadata": {}
        },
        {
          "output_type": "display_data",
          "data": {
            "text/plain": [
              "<IPython.core.display.HTML object>"
            ],
            "text/html": [
              "<br>    <style><br>        .wandb-row {<br>            display: flex;<br>            flex-direction: row;<br>            flex-wrap: wrap;<br>            justify-content: flex-start;<br>            width: 100%;<br>        }<br>        .wandb-col {<br>            display: flex;<br>            flex-direction: column;<br>            flex-basis: 100%;<br>            flex: 1;<br>            padding: 10px;<br>        }<br>    </style><br><div class=\"wandb-row\"><div class=\"wandb-col\"><h3>Run history:</h3><br/><table class=\"wandb\"><tr><td>Accuracy</td><td>▁▅▇▇█</td></tr><tr><td>Epoch</td><td>▁▃▅▆█</td></tr><tr><td>Loss</td><td>█▄▂▂▁</td></tr></table><br/></div><div class=\"wandb-col\"><h3>Run summary:</h3><br/><table class=\"wandb\"><tr><td>Accuracy</td><td>0.89453</td></tr><tr><td>Activation Function</td><td>Mish</td></tr><tr><td>Dataset</td><td>Fashion-MNIST</td></tr><tr><td>Epoch</td><td>5</td></tr><tr><td>Loss</td><td>0.28437</td></tr></table><br/></div></div>"
            ]
          },
          "metadata": {}
        },
        {
          "output_type": "display_data",
          "data": {
            "text/plain": [
              "<IPython.core.display.HTML object>"
            ],
            "text/html": [
              " View run <strong style=\"color:#cdcd00\">Fashion-MNIST-Mish</strong> at: <a href='https://wandb.ai/shahi77-national-institute-of-technology-hamirpur/deep-learning-experiments/runs/0mwgycw2' target=\"_blank\">https://wandb.ai/shahi77-national-institute-of-technology-hamirpur/deep-learning-experiments/runs/0mwgycw2</a><br> View project at: <a href='https://wandb.ai/shahi77-national-institute-of-technology-hamirpur/deep-learning-experiments' target=\"_blank\">https://wandb.ai/shahi77-national-institute-of-technology-hamirpur/deep-learning-experiments</a><br>Synced 5 W&B file(s), 0 media file(s), 0 artifact file(s) and 0 other file(s)"
            ]
          },
          "metadata": {}
        },
        {
          "output_type": "display_data",
          "data": {
            "text/plain": [
              "<IPython.core.display.HTML object>"
            ],
            "text/html": [
              "Find logs at: <code>./wandb/run-20250206_160507-0mwgycw2/logs</code>"
            ]
          },
          "metadata": {}
        },
        {
          "output_type": "stream",
          "name": "stdout",
          "text": [
            "\n",
            "Training on Fashion-MNIST with Activation: ReLU\n"
          ]
        },
        {
          "output_type": "display_data",
          "data": {
            "text/plain": [
              "<IPython.core.display.HTML object>"
            ],
            "text/html": [
              "Changes to your `wandb` environment variables will be ignored because your `wandb` session has already started. For more information on how to modify your settings with `wandb.init()` arguments, please refer to <a href='https://wandb.me/wandb-init' target=\"_blank\">the W&B docs</a>."
            ]
          },
          "metadata": {}
        },
        {
          "output_type": "display_data",
          "data": {
            "text/plain": [
              "<IPython.core.display.HTML object>"
            ],
            "text/html": [
              "Ignoring project 'activation-functions-analysis' when running a sweep."
            ]
          },
          "metadata": {}
        },
        {
          "output_type": "display_data",
          "data": {
            "text/plain": [
              "<IPython.core.display.HTML object>"
            ],
            "text/html": [
              "Tracking run with wandb version 0.19.5"
            ]
          },
          "metadata": {}
        },
        {
          "output_type": "display_data",
          "data": {
            "text/plain": [
              "<IPython.core.display.HTML object>"
            ],
            "text/html": [
              "Run data is saved locally in <code>/content/wandb/run-20250206_160647-0mwgycw2</code>"
            ]
          },
          "metadata": {}
        },
        {
          "output_type": "display_data",
          "data": {
            "text/plain": [
              "<IPython.core.display.HTML object>"
            ],
            "text/html": [
              "Syncing run <strong><a href='https://wandb.ai/shahi77-national-institute-of-technology-hamirpur/deep-learning-experiments/runs/0mwgycw2' target=\"_blank\">Fashion-MNIST-ReLU</a></strong> to <a href='https://wandb.ai/shahi77-national-institute-of-technology-hamirpur/deep-learning-experiments' target=\"_blank\">Weights & Biases</a> (<a href='https://wandb.me/developer-guide' target=\"_blank\">docs</a>)<br>Sweep page: <a href='https://wandb.ai/shahi77-national-institute-of-technology-hamirpur/deep-learning-experiments/sweeps/ntjma6uk' target=\"_blank\">https://wandb.ai/shahi77-national-institute-of-technology-hamirpur/deep-learning-experiments/sweeps/ntjma6uk</a>"
            ]
          },
          "metadata": {}
        },
        {
          "output_type": "display_data",
          "data": {
            "text/plain": [
              "<IPython.core.display.HTML object>"
            ],
            "text/html": [
              " View project at <a href='https://wandb.ai/shahi77-national-institute-of-technology-hamirpur/deep-learning-experiments' target=\"_blank\">https://wandb.ai/shahi77-national-institute-of-technology-hamirpur/deep-learning-experiments</a>"
            ]
          },
          "metadata": {}
        },
        {
          "output_type": "display_data",
          "data": {
            "text/plain": [
              "<IPython.core.display.HTML object>"
            ],
            "text/html": [
              " View sweep at <a href='https://wandb.ai/shahi77-national-institute-of-technology-hamirpur/deep-learning-experiments/sweeps/ntjma6uk' target=\"_blank\">https://wandb.ai/shahi77-national-institute-of-technology-hamirpur/deep-learning-experiments/sweeps/ntjma6uk</a>"
            ]
          },
          "metadata": {}
        },
        {
          "output_type": "display_data",
          "data": {
            "text/plain": [
              "<IPython.core.display.HTML object>"
            ],
            "text/html": [
              " View run at <a href='https://wandb.ai/shahi77-national-institute-of-technology-hamirpur/deep-learning-experiments/runs/0mwgycw2' target=\"_blank\">https://wandb.ai/shahi77-national-institute-of-technology-hamirpur/deep-learning-experiments/runs/0mwgycw2</a>"
            ]
          },
          "metadata": {}
        },
        {
          "output_type": "stream",
          "name": "stdout",
          "text": [
            "Epoch [1/5], Loss: 483.5053, Accuracy: 0.8124\n",
            "Epoch [2/5], Loss: 351.6267, Accuracy: 0.8623\n",
            "Epoch [3/5], Loss: 318.3776, Accuracy: 0.8744\n",
            "Epoch [4/5], Loss: 296.6110, Accuracy: 0.8833\n",
            "Epoch [5/5], Loss: 277.9296, Accuracy: 0.8902\n"
          ]
        },
        {
          "output_type": "display_data",
          "data": {
            "text/plain": [
              "<IPython.core.display.HTML object>"
            ],
            "text/html": []
          },
          "metadata": {}
        },
        {
          "output_type": "display_data",
          "data": {
            "text/plain": [
              "<IPython.core.display.HTML object>"
            ],
            "text/html": [
              "<br>    <style><br>        .wandb-row {<br>            display: flex;<br>            flex-direction: row;<br>            flex-wrap: wrap;<br>            justify-content: flex-start;<br>            width: 100%;<br>        }<br>        .wandb-col {<br>            display: flex;<br>            flex-direction: column;<br>            flex-basis: 100%;<br>            flex: 1;<br>            padding: 10px;<br>        }<br>    </style><br><div class=\"wandb-row\"><div class=\"wandb-col\"><h3>Run history:</h3><br/><table class=\"wandb\"><tr><td>Accuracy</td><td>▁▅▇▇█</td></tr><tr><td>Epoch</td><td>▁▃▅▆█</td></tr><tr><td>Loss</td><td>█▄▂▂▁</td></tr></table><br/></div><div class=\"wandb-col\"><h3>Run summary:</h3><br/><table class=\"wandb\"><tr><td>Accuracy</td><td>0.89025</td></tr><tr><td>Activation Function</td><td>ReLU</td></tr><tr><td>Dataset</td><td>Fashion-MNIST</td></tr><tr><td>Epoch</td><td>5</td></tr><tr><td>Loss</td><td>0.2963</td></tr></table><br/></div></div>"
            ]
          },
          "metadata": {}
        },
        {
          "output_type": "display_data",
          "data": {
            "text/plain": [
              "<IPython.core.display.HTML object>"
            ],
            "text/html": [
              " View run <strong style=\"color:#cdcd00\">Fashion-MNIST-ReLU</strong> at: <a href='https://wandb.ai/shahi77-national-institute-of-technology-hamirpur/deep-learning-experiments/runs/0mwgycw2' target=\"_blank\">https://wandb.ai/shahi77-national-institute-of-technology-hamirpur/deep-learning-experiments/runs/0mwgycw2</a><br> View project at: <a href='https://wandb.ai/shahi77-national-institute-of-technology-hamirpur/deep-learning-experiments' target=\"_blank\">https://wandb.ai/shahi77-national-institute-of-technology-hamirpur/deep-learning-experiments</a><br>Synced 5 W&B file(s), 0 media file(s), 0 artifact file(s) and 0 other file(s)"
            ]
          },
          "metadata": {}
        },
        {
          "output_type": "display_data",
          "data": {
            "text/plain": [
              "<IPython.core.display.HTML object>"
            ],
            "text/html": [
              "Find logs at: <code>./wandb/run-20250206_160647-0mwgycw2/logs</code>"
            ]
          },
          "metadata": {}
        },
        {
          "output_type": "stream",
          "name": "stdout",
          "text": [
            "\n",
            "Training on Fashion-MNIST with Activation: LeakyReLU\n"
          ]
        },
        {
          "output_type": "display_data",
          "data": {
            "text/plain": [
              "<IPython.core.display.HTML object>"
            ],
            "text/html": [
              "Changes to your `wandb` environment variables will be ignored because your `wandb` session has already started. For more information on how to modify your settings with `wandb.init()` arguments, please refer to <a href='https://wandb.me/wandb-init' target=\"_blank\">the W&B docs</a>."
            ]
          },
          "metadata": {}
        },
        {
          "output_type": "display_data",
          "data": {
            "text/plain": [
              "<IPython.core.display.HTML object>"
            ],
            "text/html": [
              "Ignoring project 'activation-functions-analysis' when running a sweep."
            ]
          },
          "metadata": {}
        },
        {
          "output_type": "display_data",
          "data": {
            "text/plain": [
              "<IPython.core.display.HTML object>"
            ],
            "text/html": [
              "Tracking run with wandb version 0.19.5"
            ]
          },
          "metadata": {}
        },
        {
          "output_type": "display_data",
          "data": {
            "text/plain": [
              "<IPython.core.display.HTML object>"
            ],
            "text/html": [
              "Run data is saved locally in <code>/content/wandb/run-20250206_160832-0mwgycw2</code>"
            ]
          },
          "metadata": {}
        },
        {
          "output_type": "display_data",
          "data": {
            "text/plain": [
              "<IPython.core.display.HTML object>"
            ],
            "text/html": [
              "Syncing run <strong><a href='https://wandb.ai/shahi77-national-institute-of-technology-hamirpur/deep-learning-experiments/runs/0mwgycw2' target=\"_blank\">Fashion-MNIST-LeakyReLU</a></strong> to <a href='https://wandb.ai/shahi77-national-institute-of-technology-hamirpur/deep-learning-experiments' target=\"_blank\">Weights & Biases</a> (<a href='https://wandb.me/developer-guide' target=\"_blank\">docs</a>)<br>Sweep page: <a href='https://wandb.ai/shahi77-national-institute-of-technology-hamirpur/deep-learning-experiments/sweeps/ntjma6uk' target=\"_blank\">https://wandb.ai/shahi77-national-institute-of-technology-hamirpur/deep-learning-experiments/sweeps/ntjma6uk</a>"
            ]
          },
          "metadata": {}
        },
        {
          "output_type": "display_data",
          "data": {
            "text/plain": [
              "<IPython.core.display.HTML object>"
            ],
            "text/html": [
              " View project at <a href='https://wandb.ai/shahi77-national-institute-of-technology-hamirpur/deep-learning-experiments' target=\"_blank\">https://wandb.ai/shahi77-national-institute-of-technology-hamirpur/deep-learning-experiments</a>"
            ]
          },
          "metadata": {}
        },
        {
          "output_type": "display_data",
          "data": {
            "text/plain": [
              "<IPython.core.display.HTML object>"
            ],
            "text/html": [
              " View sweep at <a href='https://wandb.ai/shahi77-national-institute-of-technology-hamirpur/deep-learning-experiments/sweeps/ntjma6uk' target=\"_blank\">https://wandb.ai/shahi77-national-institute-of-technology-hamirpur/deep-learning-experiments/sweeps/ntjma6uk</a>"
            ]
          },
          "metadata": {}
        },
        {
          "output_type": "display_data",
          "data": {
            "text/plain": [
              "<IPython.core.display.HTML object>"
            ],
            "text/html": [
              " View run at <a href='https://wandb.ai/shahi77-national-institute-of-technology-hamirpur/deep-learning-experiments/runs/0mwgycw2' target=\"_blank\">https://wandb.ai/shahi77-national-institute-of-technology-hamirpur/deep-learning-experiments/runs/0mwgycw2</a>"
            ]
          },
          "metadata": {}
        },
        {
          "output_type": "stream",
          "name": "stdout",
          "text": [
            "Epoch [1/5], Loss: 480.4674, Accuracy: 0.8143\n",
            "Epoch [2/5], Loss: 355.7566, Accuracy: 0.8626\n",
            "Epoch [3/5], Loss: 319.8043, Accuracy: 0.8739\n",
            "Epoch [4/5], Loss: 297.1837, Accuracy: 0.8839\n",
            "Epoch [5/5], Loss: 279.3921, Accuracy: 0.8905\n"
          ]
        },
        {
          "output_type": "display_data",
          "data": {
            "text/plain": [
              "<IPython.core.display.HTML object>"
            ],
            "text/html": []
          },
          "metadata": {}
        },
        {
          "output_type": "display_data",
          "data": {
            "text/plain": [
              "<IPython.core.display.HTML object>"
            ],
            "text/html": [
              "<br>    <style><br>        .wandb-row {<br>            display: flex;<br>            flex-direction: row;<br>            flex-wrap: wrap;<br>            justify-content: flex-start;<br>            width: 100%;<br>        }<br>        .wandb-col {<br>            display: flex;<br>            flex-direction: column;<br>            flex-basis: 100%;<br>            flex: 1;<br>            padding: 10px;<br>        }<br>    </style><br><div class=\"wandb-row\"><div class=\"wandb-col\"><h3>Run history:</h3><br/><table class=\"wandb\"><tr><td>Accuracy</td><td>▁▅▆▇█</td></tr><tr><td>Epoch</td><td>▁▃▅▆█</td></tr><tr><td>Loss</td><td>█▄▂▂▁</td></tr></table><br/></div><div class=\"wandb-col\"><h3>Run summary:</h3><br/><table class=\"wandb\"><tr><td>Accuracy</td><td>0.89048</td></tr><tr><td>Activation Function</td><td>LeakyReLU</td></tr><tr><td>Dataset</td><td>Fashion-MNIST</td></tr><tr><td>Epoch</td><td>5</td></tr><tr><td>Loss</td><td>0.29786</td></tr></table><br/></div></div>"
            ]
          },
          "metadata": {}
        },
        {
          "output_type": "display_data",
          "data": {
            "text/plain": [
              "<IPython.core.display.HTML object>"
            ],
            "text/html": [
              " View run <strong style=\"color:#cdcd00\">Fashion-MNIST-LeakyReLU</strong> at: <a href='https://wandb.ai/shahi77-national-institute-of-technology-hamirpur/deep-learning-experiments/runs/0mwgycw2' target=\"_blank\">https://wandb.ai/shahi77-national-institute-of-technology-hamirpur/deep-learning-experiments/runs/0mwgycw2</a><br> View project at: <a href='https://wandb.ai/shahi77-national-institute-of-technology-hamirpur/deep-learning-experiments' target=\"_blank\">https://wandb.ai/shahi77-national-institute-of-technology-hamirpur/deep-learning-experiments</a><br>Synced 5 W&B file(s), 0 media file(s), 0 artifact file(s) and 0 other file(s)"
            ]
          },
          "metadata": {}
        },
        {
          "output_type": "display_data",
          "data": {
            "text/plain": [
              "<IPython.core.display.HTML object>"
            ],
            "text/html": [
              "Find logs at: <code>./wandb/run-20250206_160832-0mwgycw2/logs</code>"
            ]
          },
          "metadata": {}
        },
        {
          "output_type": "stream",
          "name": "stdout",
          "text": [
            "\n",
            "Training on Fashion-MNIST with Activation: PReLU\n"
          ]
        },
        {
          "output_type": "display_data",
          "data": {
            "text/plain": [
              "<IPython.core.display.HTML object>"
            ],
            "text/html": [
              "Changes to your `wandb` environment variables will be ignored because your `wandb` session has already started. For more information on how to modify your settings with `wandb.init()` arguments, please refer to <a href='https://wandb.me/wandb-init' target=\"_blank\">the W&B docs</a>."
            ]
          },
          "metadata": {}
        },
        {
          "output_type": "display_data",
          "data": {
            "text/plain": [
              "<IPython.core.display.HTML object>"
            ],
            "text/html": [
              "Ignoring project 'activation-functions-analysis' when running a sweep."
            ]
          },
          "metadata": {}
        },
        {
          "output_type": "display_data",
          "data": {
            "text/plain": [
              "<IPython.core.display.HTML object>"
            ],
            "text/html": [
              "Tracking run with wandb version 0.19.5"
            ]
          },
          "metadata": {}
        },
        {
          "output_type": "display_data",
          "data": {
            "text/plain": [
              "<IPython.core.display.HTML object>"
            ],
            "text/html": [
              "Run data is saved locally in <code>/content/wandb/run-20250206_161008-0mwgycw2</code>"
            ]
          },
          "metadata": {}
        },
        {
          "output_type": "display_data",
          "data": {
            "text/plain": [
              "<IPython.core.display.HTML object>"
            ],
            "text/html": [
              "Syncing run <strong><a href='https://wandb.ai/shahi77-national-institute-of-technology-hamirpur/deep-learning-experiments/runs/0mwgycw2' target=\"_blank\">Fashion-MNIST-PReLU</a></strong> to <a href='https://wandb.ai/shahi77-national-institute-of-technology-hamirpur/deep-learning-experiments' target=\"_blank\">Weights & Biases</a> (<a href='https://wandb.me/developer-guide' target=\"_blank\">docs</a>)<br>Sweep page: <a href='https://wandb.ai/shahi77-national-institute-of-technology-hamirpur/deep-learning-experiments/sweeps/ntjma6uk' target=\"_blank\">https://wandb.ai/shahi77-national-institute-of-technology-hamirpur/deep-learning-experiments/sweeps/ntjma6uk</a>"
            ]
          },
          "metadata": {}
        },
        {
          "output_type": "display_data",
          "data": {
            "text/plain": [
              "<IPython.core.display.HTML object>"
            ],
            "text/html": [
              " View project at <a href='https://wandb.ai/shahi77-national-institute-of-technology-hamirpur/deep-learning-experiments' target=\"_blank\">https://wandb.ai/shahi77-national-institute-of-technology-hamirpur/deep-learning-experiments</a>"
            ]
          },
          "metadata": {}
        },
        {
          "output_type": "display_data",
          "data": {
            "text/plain": [
              "<IPython.core.display.HTML object>"
            ],
            "text/html": [
              " View sweep at <a href='https://wandb.ai/shahi77-national-institute-of-technology-hamirpur/deep-learning-experiments/sweeps/ntjma6uk' target=\"_blank\">https://wandb.ai/shahi77-national-institute-of-technology-hamirpur/deep-learning-experiments/sweeps/ntjma6uk</a>"
            ]
          },
          "metadata": {}
        },
        {
          "output_type": "display_data",
          "data": {
            "text/plain": [
              "<IPython.core.display.HTML object>"
            ],
            "text/html": [
              " View run at <a href='https://wandb.ai/shahi77-national-institute-of-technology-hamirpur/deep-learning-experiments/runs/0mwgycw2' target=\"_blank\">https://wandb.ai/shahi77-national-institute-of-technology-hamirpur/deep-learning-experiments/runs/0mwgycw2</a>"
            ]
          },
          "metadata": {}
        },
        {
          "output_type": "stream",
          "name": "stdout",
          "text": [
            "Epoch [1/5], Loss: 486.9063, Accuracy: 0.8121\n",
            "Epoch [2/5], Loss: 350.7033, Accuracy: 0.8631\n",
            "Epoch [3/5], Loss: 316.6241, Accuracy: 0.8755\n",
            "Epoch [4/5], Loss: 293.2949, Accuracy: 0.8848\n",
            "Epoch [5/5], Loss: 275.9137, Accuracy: 0.8920\n"
          ]
        },
        {
          "output_type": "display_data",
          "data": {
            "text/plain": [
              "<IPython.core.display.HTML object>"
            ],
            "text/html": []
          },
          "metadata": {}
        },
        {
          "output_type": "display_data",
          "data": {
            "text/plain": [
              "<IPython.core.display.HTML object>"
            ],
            "text/html": [
              "<br>    <style><br>        .wandb-row {<br>            display: flex;<br>            flex-direction: row;<br>            flex-wrap: wrap;<br>            justify-content: flex-start;<br>            width: 100%;<br>        }<br>        .wandb-col {<br>            display: flex;<br>            flex-direction: column;<br>            flex-basis: 100%;<br>            flex: 1;<br>            padding: 10px;<br>        }<br>    </style><br><div class=\"wandb-row\"><div class=\"wandb-col\"><h3>Run history:</h3><br/><table class=\"wandb\"><tr><td>Accuracy</td><td>▁▅▇▇█</td></tr><tr><td>Epoch</td><td>▁▃▅▆█</td></tr><tr><td>Loss</td><td>█▃▂▂▁</td></tr></table><br/></div><div class=\"wandb-col\"><h3>Run summary:</h3><br/><table class=\"wandb\"><tr><td>Accuracy</td><td>0.89198</td></tr><tr><td>Activation Function</td><td>PReLU</td></tr><tr><td>Dataset</td><td>Fashion-MNIST</td></tr><tr><td>Epoch</td><td>5</td></tr><tr><td>Loss</td><td>0.29415</td></tr></table><br/></div></div>"
            ]
          },
          "metadata": {}
        },
        {
          "output_type": "display_data",
          "data": {
            "text/plain": [
              "<IPython.core.display.HTML object>"
            ],
            "text/html": [
              " View run <strong style=\"color:#cdcd00\">Fashion-MNIST-PReLU</strong> at: <a href='https://wandb.ai/shahi77-national-institute-of-technology-hamirpur/deep-learning-experiments/runs/0mwgycw2' target=\"_blank\">https://wandb.ai/shahi77-national-institute-of-technology-hamirpur/deep-learning-experiments/runs/0mwgycw2</a><br> View project at: <a href='https://wandb.ai/shahi77-national-institute-of-technology-hamirpur/deep-learning-experiments' target=\"_blank\">https://wandb.ai/shahi77-national-institute-of-technology-hamirpur/deep-learning-experiments</a><br>Synced 5 W&B file(s), 0 media file(s), 0 artifact file(s) and 0 other file(s)"
            ]
          },
          "metadata": {}
        },
        {
          "output_type": "display_data",
          "data": {
            "text/plain": [
              "<IPython.core.display.HTML object>"
            ],
            "text/html": [
              "Find logs at: <code>./wandb/run-20250206_161008-0mwgycw2/logs</code>"
            ]
          },
          "metadata": {}
        },
        {
          "output_type": "stream",
          "name": "stdout",
          "text": [
            "\n",
            "Training on Fashion-MNIST with Activation: ELU\n"
          ]
        },
        {
          "output_type": "display_data",
          "data": {
            "text/plain": [
              "<IPython.core.display.HTML object>"
            ],
            "text/html": [
              "Changes to your `wandb` environment variables will be ignored because your `wandb` session has already started. For more information on how to modify your settings with `wandb.init()` arguments, please refer to <a href='https://wandb.me/wandb-init' target=\"_blank\">the W&B docs</a>."
            ]
          },
          "metadata": {}
        },
        {
          "output_type": "display_data",
          "data": {
            "text/plain": [
              "<IPython.core.display.HTML object>"
            ],
            "text/html": [
              "Ignoring project 'activation-functions-analysis' when running a sweep."
            ]
          },
          "metadata": {}
        },
        {
          "output_type": "display_data",
          "data": {
            "text/plain": [
              "<IPython.core.display.HTML object>"
            ],
            "text/html": [
              "Tracking run with wandb version 0.19.5"
            ]
          },
          "metadata": {}
        },
        {
          "output_type": "display_data",
          "data": {
            "text/plain": [
              "<IPython.core.display.HTML object>"
            ],
            "text/html": [
              "Run data is saved locally in <code>/content/wandb/run-20250206_161144-0mwgycw2</code>"
            ]
          },
          "metadata": {}
        },
        {
          "output_type": "display_data",
          "data": {
            "text/plain": [
              "<IPython.core.display.HTML object>"
            ],
            "text/html": [
              "Syncing run <strong><a href='https://wandb.ai/shahi77-national-institute-of-technology-hamirpur/deep-learning-experiments/runs/0mwgycw2' target=\"_blank\">Fashion-MNIST-ELU</a></strong> to <a href='https://wandb.ai/shahi77-national-institute-of-technology-hamirpur/deep-learning-experiments' target=\"_blank\">Weights & Biases</a> (<a href='https://wandb.me/developer-guide' target=\"_blank\">docs</a>)<br>Sweep page: <a href='https://wandb.ai/shahi77-national-institute-of-technology-hamirpur/deep-learning-experiments/sweeps/ntjma6uk' target=\"_blank\">https://wandb.ai/shahi77-national-institute-of-technology-hamirpur/deep-learning-experiments/sweeps/ntjma6uk</a>"
            ]
          },
          "metadata": {}
        },
        {
          "output_type": "display_data",
          "data": {
            "text/plain": [
              "<IPython.core.display.HTML object>"
            ],
            "text/html": [
              " View project at <a href='https://wandb.ai/shahi77-national-institute-of-technology-hamirpur/deep-learning-experiments' target=\"_blank\">https://wandb.ai/shahi77-national-institute-of-technology-hamirpur/deep-learning-experiments</a>"
            ]
          },
          "metadata": {}
        },
        {
          "output_type": "display_data",
          "data": {
            "text/plain": [
              "<IPython.core.display.HTML object>"
            ],
            "text/html": [
              " View sweep at <a href='https://wandb.ai/shahi77-national-institute-of-technology-hamirpur/deep-learning-experiments/sweeps/ntjma6uk' target=\"_blank\">https://wandb.ai/shahi77-national-institute-of-technology-hamirpur/deep-learning-experiments/sweeps/ntjma6uk</a>"
            ]
          },
          "metadata": {}
        },
        {
          "output_type": "display_data",
          "data": {
            "text/plain": [
              "<IPython.core.display.HTML object>"
            ],
            "text/html": [
              " View run at <a href='https://wandb.ai/shahi77-national-institute-of-technology-hamirpur/deep-learning-experiments/runs/0mwgycw2' target=\"_blank\">https://wandb.ai/shahi77-national-institute-of-technology-hamirpur/deep-learning-experiments/runs/0mwgycw2</a>"
            ]
          },
          "metadata": {}
        },
        {
          "output_type": "stream",
          "name": "stdout",
          "text": [
            "Epoch [1/5], Loss: 473.6014, Accuracy: 0.8174\n",
            "Epoch [2/5], Loss: 355.6056, Accuracy: 0.8605\n",
            "Epoch [3/5], Loss: 318.5474, Accuracy: 0.8756\n",
            "Epoch [4/5], Loss: 295.3180, Accuracy: 0.8827\n",
            "Epoch [5/5], Loss: 278.1557, Accuracy: 0.8896\n"
          ]
        },
        {
          "output_type": "display_data",
          "data": {
            "text/plain": [
              "<IPython.core.display.HTML object>"
            ],
            "text/html": []
          },
          "metadata": {}
        },
        {
          "output_type": "display_data",
          "data": {
            "text/plain": [
              "<IPython.core.display.HTML object>"
            ],
            "text/html": [
              "<br>    <style><br>        .wandb-row {<br>            display: flex;<br>            flex-direction: row;<br>            flex-wrap: wrap;<br>            justify-content: flex-start;<br>            width: 100%;<br>        }<br>        .wandb-col {<br>            display: flex;<br>            flex-direction: column;<br>            flex-basis: 100%;<br>            flex: 1;<br>            padding: 10px;<br>        }<br>    </style><br><div class=\"wandb-row\"><div class=\"wandb-col\"><h3>Run history:</h3><br/><table class=\"wandb\"><tr><td>Accuracy</td><td>▁▅▇▇█</td></tr><tr><td>Epoch</td><td>▁▃▅▆█</td></tr><tr><td>Loss</td><td>█▄▂▂▁</td></tr></table><br/></div><div class=\"wandb-col\"><h3>Run summary:</h3><br/><table class=\"wandb\"><tr><td>Accuracy</td><td>0.88963</td></tr><tr><td>Activation Function</td><td>ELU</td></tr><tr><td>Dataset</td><td>Fashion-MNIST</td></tr><tr><td>Epoch</td><td>5</td></tr><tr><td>Loss</td><td>0.29654</td></tr></table><br/></div></div>"
            ]
          },
          "metadata": {}
        },
        {
          "output_type": "display_data",
          "data": {
            "text/plain": [
              "<IPython.core.display.HTML object>"
            ],
            "text/html": [
              " View run <strong style=\"color:#cdcd00\">Fashion-MNIST-ELU</strong> at: <a href='https://wandb.ai/shahi77-national-institute-of-technology-hamirpur/deep-learning-experiments/runs/0mwgycw2' target=\"_blank\">https://wandb.ai/shahi77-national-institute-of-technology-hamirpur/deep-learning-experiments/runs/0mwgycw2</a><br> View project at: <a href='https://wandb.ai/shahi77-national-institute-of-technology-hamirpur/deep-learning-experiments' target=\"_blank\">https://wandb.ai/shahi77-national-institute-of-technology-hamirpur/deep-learning-experiments</a><br>Synced 5 W&B file(s), 0 media file(s), 0 artifact file(s) and 0 other file(s)"
            ]
          },
          "metadata": {}
        },
        {
          "output_type": "display_data",
          "data": {
            "text/plain": [
              "<IPython.core.display.HTML object>"
            ],
            "text/html": [
              "Find logs at: <code>./wandb/run-20250206_161144-0mwgycw2/logs</code>"
            ]
          },
          "metadata": {}
        },
        {
          "output_type": "stream",
          "name": "stdout",
          "text": [
            "\n",
            "Training on Fashion-MNIST with Activation: Softmax\n"
          ]
        },
        {
          "output_type": "display_data",
          "data": {
            "text/plain": [
              "<IPython.core.display.HTML object>"
            ],
            "text/html": [
              "Changes to your `wandb` environment variables will be ignored because your `wandb` session has already started. For more information on how to modify your settings with `wandb.init()` arguments, please refer to <a href='https://wandb.me/wandb-init' target=\"_blank\">the W&B docs</a>."
            ]
          },
          "metadata": {}
        },
        {
          "output_type": "display_data",
          "data": {
            "text/plain": [
              "<IPython.core.display.HTML object>"
            ],
            "text/html": [
              "Ignoring project 'activation-functions-analysis' when running a sweep."
            ]
          },
          "metadata": {}
        },
        {
          "output_type": "display_data",
          "data": {
            "text/plain": [
              "<IPython.core.display.HTML object>"
            ],
            "text/html": [
              "Tracking run with wandb version 0.19.5"
            ]
          },
          "metadata": {}
        },
        {
          "output_type": "display_data",
          "data": {
            "text/plain": [
              "<IPython.core.display.HTML object>"
            ],
            "text/html": [
              "Run data is saved locally in <code>/content/wandb/run-20250206_161320-0mwgycw2</code>"
            ]
          },
          "metadata": {}
        },
        {
          "output_type": "display_data",
          "data": {
            "text/plain": [
              "<IPython.core.display.HTML object>"
            ],
            "text/html": [
              "Syncing run <strong><a href='https://wandb.ai/shahi77-national-institute-of-technology-hamirpur/deep-learning-experiments/runs/0mwgycw2' target=\"_blank\">Fashion-MNIST-Softmax</a></strong> to <a href='https://wandb.ai/shahi77-national-institute-of-technology-hamirpur/deep-learning-experiments' target=\"_blank\">Weights & Biases</a> (<a href='https://wandb.me/developer-guide' target=\"_blank\">docs</a>)<br>Sweep page: <a href='https://wandb.ai/shahi77-national-institute-of-technology-hamirpur/deep-learning-experiments/sweeps/ntjma6uk' target=\"_blank\">https://wandb.ai/shahi77-national-institute-of-technology-hamirpur/deep-learning-experiments/sweeps/ntjma6uk</a>"
            ]
          },
          "metadata": {}
        },
        {
          "output_type": "display_data",
          "data": {
            "text/plain": [
              "<IPython.core.display.HTML object>"
            ],
            "text/html": [
              " View project at <a href='https://wandb.ai/shahi77-national-institute-of-technology-hamirpur/deep-learning-experiments' target=\"_blank\">https://wandb.ai/shahi77-national-institute-of-technology-hamirpur/deep-learning-experiments</a>"
            ]
          },
          "metadata": {}
        },
        {
          "output_type": "display_data",
          "data": {
            "text/plain": [
              "<IPython.core.display.HTML object>"
            ],
            "text/html": [
              " View sweep at <a href='https://wandb.ai/shahi77-national-institute-of-technology-hamirpur/deep-learning-experiments/sweeps/ntjma6uk' target=\"_blank\">https://wandb.ai/shahi77-national-institute-of-technology-hamirpur/deep-learning-experiments/sweeps/ntjma6uk</a>"
            ]
          },
          "metadata": {}
        },
        {
          "output_type": "display_data",
          "data": {
            "text/plain": [
              "<IPython.core.display.HTML object>"
            ],
            "text/html": [
              " View run at <a href='https://wandb.ai/shahi77-national-institute-of-technology-hamirpur/deep-learning-experiments/runs/0mwgycw2' target=\"_blank\">https://wandb.ai/shahi77-national-institute-of-technology-hamirpur/deep-learning-experiments/runs/0mwgycw2</a>"
            ]
          },
          "metadata": {}
        },
        {
          "output_type": "stream",
          "name": "stdout",
          "text": [
            "Epoch [1/5], Loss: 1935.6348, Accuracy: 0.5078\n",
            "Epoch [2/5], Loss: 1151.2405, Accuracy: 0.6491\n",
            "Epoch [3/5], Loss: 846.5690, Accuracy: 0.6576\n",
            "Epoch [4/5], Loss: 754.4110, Accuracy: 0.6677\n",
            "Epoch [5/5], Loss: 714.3277, Accuracy: 0.6741\n"
          ]
        },
        {
          "output_type": "display_data",
          "data": {
            "text/plain": [
              "<IPython.core.display.HTML object>"
            ],
            "text/html": []
          },
          "metadata": {}
        },
        {
          "output_type": "display_data",
          "data": {
            "text/plain": [
              "<IPython.core.display.HTML object>"
            ],
            "text/html": [
              "<br>    <style><br>        .wandb-row {<br>            display: flex;<br>            flex-direction: row;<br>            flex-wrap: wrap;<br>            justify-content: flex-start;<br>            width: 100%;<br>        }<br>        .wandb-col {<br>            display: flex;<br>            flex-direction: column;<br>            flex-basis: 100%;<br>            flex: 1;<br>            padding: 10px;<br>        }<br>    </style><br><div class=\"wandb-row\"><div class=\"wandb-col\"><h3>Run history:</h3><br/><table class=\"wandb\"><tr><td>Accuracy</td><td>▁▇▇██</td></tr><tr><td>Epoch</td><td>▁▃▅▆█</td></tr><tr><td>Loss</td><td>█▄▂▁▁</td></tr></table><br/></div><div class=\"wandb-col\"><h3>Run summary:</h3><br/><table class=\"wandb\"><tr><td>Accuracy</td><td>0.67405</td></tr><tr><td>Activation Function</td><td>Softmax</td></tr><tr><td>Dataset</td><td>Fashion-MNIST</td></tr><tr><td>Epoch</td><td>5</td></tr><tr><td>Loss</td><td>0.76154</td></tr></table><br/></div></div>"
            ]
          },
          "metadata": {}
        },
        {
          "output_type": "display_data",
          "data": {
            "text/plain": [
              "<IPython.core.display.HTML object>"
            ],
            "text/html": [
              " View run <strong style=\"color:#cdcd00\">Fashion-MNIST-Softmax</strong> at: <a href='https://wandb.ai/shahi77-national-institute-of-technology-hamirpur/deep-learning-experiments/runs/0mwgycw2' target=\"_blank\">https://wandb.ai/shahi77-national-institute-of-technology-hamirpur/deep-learning-experiments/runs/0mwgycw2</a><br> View project at: <a href='https://wandb.ai/shahi77-national-institute-of-technology-hamirpur/deep-learning-experiments' target=\"_blank\">https://wandb.ai/shahi77-national-institute-of-technology-hamirpur/deep-learning-experiments</a><br>Synced 5 W&B file(s), 0 media file(s), 0 artifact file(s) and 0 other file(s)"
            ]
          },
          "metadata": {}
        },
        {
          "output_type": "display_data",
          "data": {
            "text/plain": [
              "<IPython.core.display.HTML object>"
            ],
            "text/html": [
              "Find logs at: <code>./wandb/run-20250206_161320-0mwgycw2/logs</code>"
            ]
          },
          "metadata": {}
        },
        {
          "output_type": "stream",
          "name": "stdout",
          "text": [
            "\n",
            "Training on Fashion-MNIST with Activation: Softplus\n"
          ]
        },
        {
          "output_type": "display_data",
          "data": {
            "text/plain": [
              "<IPython.core.display.HTML object>"
            ],
            "text/html": [
              "Changes to your `wandb` environment variables will be ignored because your `wandb` session has already started. For more information on how to modify your settings with `wandb.init()` arguments, please refer to <a href='https://wandb.me/wandb-init' target=\"_blank\">the W&B docs</a>."
            ]
          },
          "metadata": {}
        },
        {
          "output_type": "display_data",
          "data": {
            "text/plain": [
              "<IPython.core.display.HTML object>"
            ],
            "text/html": [
              "Ignoring project 'activation-functions-analysis' when running a sweep."
            ]
          },
          "metadata": {}
        },
        {
          "output_type": "display_data",
          "data": {
            "text/plain": [
              "<IPython.core.display.HTML object>"
            ],
            "text/html": [
              "Tracking run with wandb version 0.19.5"
            ]
          },
          "metadata": {}
        },
        {
          "output_type": "display_data",
          "data": {
            "text/plain": [
              "<IPython.core.display.HTML object>"
            ],
            "text/html": [
              "Run data is saved locally in <code>/content/wandb/run-20250206_161459-0mwgycw2</code>"
            ]
          },
          "metadata": {}
        },
        {
          "output_type": "display_data",
          "data": {
            "text/plain": [
              "<IPython.core.display.HTML object>"
            ],
            "text/html": [
              "Syncing run <strong><a href='https://wandb.ai/shahi77-national-institute-of-technology-hamirpur/deep-learning-experiments/runs/0mwgycw2' target=\"_blank\">Fashion-MNIST-Softplus</a></strong> to <a href='https://wandb.ai/shahi77-national-institute-of-technology-hamirpur/deep-learning-experiments' target=\"_blank\">Weights & Biases</a> (<a href='https://wandb.me/developer-guide' target=\"_blank\">docs</a>)<br>Sweep page: <a href='https://wandb.ai/shahi77-national-institute-of-technology-hamirpur/deep-learning-experiments/sweeps/ntjma6uk' target=\"_blank\">https://wandb.ai/shahi77-national-institute-of-technology-hamirpur/deep-learning-experiments/sweeps/ntjma6uk</a>"
            ]
          },
          "metadata": {}
        },
        {
          "output_type": "display_data",
          "data": {
            "text/plain": [
              "<IPython.core.display.HTML object>"
            ],
            "text/html": [
              " View project at <a href='https://wandb.ai/shahi77-national-institute-of-technology-hamirpur/deep-learning-experiments' target=\"_blank\">https://wandb.ai/shahi77-national-institute-of-technology-hamirpur/deep-learning-experiments</a>"
            ]
          },
          "metadata": {}
        },
        {
          "output_type": "display_data",
          "data": {
            "text/plain": [
              "<IPython.core.display.HTML object>"
            ],
            "text/html": [
              " View sweep at <a href='https://wandb.ai/shahi77-national-institute-of-technology-hamirpur/deep-learning-experiments/sweeps/ntjma6uk' target=\"_blank\">https://wandb.ai/shahi77-national-institute-of-technology-hamirpur/deep-learning-experiments/sweeps/ntjma6uk</a>"
            ]
          },
          "metadata": {}
        },
        {
          "output_type": "display_data",
          "data": {
            "text/plain": [
              "<IPython.core.display.HTML object>"
            ],
            "text/html": [
              " View run at <a href='https://wandb.ai/shahi77-national-institute-of-technology-hamirpur/deep-learning-experiments/runs/0mwgycw2' target=\"_blank\">https://wandb.ai/shahi77-national-institute-of-technology-hamirpur/deep-learning-experiments/runs/0mwgycw2</a>"
            ]
          },
          "metadata": {}
        },
        {
          "output_type": "stream",
          "name": "stdout",
          "text": [
            "Epoch [1/5], Loss: 494.2068, Accuracy: 0.8087\n",
            "Epoch [2/5], Loss: 367.6360, Accuracy: 0.8568\n",
            "Epoch [3/5], Loss: 330.2451, Accuracy: 0.8709\n",
            "Epoch [4/5], Loss: 304.5369, Accuracy: 0.8800\n",
            "Epoch [5/5], Loss: 284.0816, Accuracy: 0.8880\n"
          ]
        },
        {
          "output_type": "display_data",
          "data": {
            "text/plain": [
              "<IPython.core.display.HTML object>"
            ],
            "text/html": []
          },
          "metadata": {}
        },
        {
          "output_type": "display_data",
          "data": {
            "text/plain": [
              "<IPython.core.display.HTML object>"
            ],
            "text/html": [
              "<br>    <style><br>        .wandb-row {<br>            display: flex;<br>            flex-direction: row;<br>            flex-wrap: wrap;<br>            justify-content: flex-start;<br>            width: 100%;<br>        }<br>        .wandb-col {<br>            display: flex;<br>            flex-direction: column;<br>            flex-basis: 100%;<br>            flex: 1;<br>            padding: 10px;<br>        }<br>    </style><br><div class=\"wandb-row\"><div class=\"wandb-col\"><h3>Run history:</h3><br/><table class=\"wandb\"><tr><td>Accuracy</td><td>▁▅▆▇█</td></tr><tr><td>Epoch</td><td>▁▃▅▆█</td></tr><tr><td>Loss</td><td>█▄▃▂▁</td></tr></table><br/></div><div class=\"wandb-col\"><h3>Run summary:</h3><br/><table class=\"wandb\"><tr><td>Accuracy</td><td>0.88795</td></tr><tr><td>Activation Function</td><td>Softplus</td></tr><tr><td>Dataset</td><td>Fashion-MNIST</td></tr><tr><td>Epoch</td><td>5</td></tr><tr><td>Loss</td><td>0.30286</td></tr></table><br/></div></div>"
            ]
          },
          "metadata": {}
        },
        {
          "output_type": "display_data",
          "data": {
            "text/plain": [
              "<IPython.core.display.HTML object>"
            ],
            "text/html": [
              " View run <strong style=\"color:#cdcd00\">Fashion-MNIST-Softplus</strong> at: <a href='https://wandb.ai/shahi77-national-institute-of-technology-hamirpur/deep-learning-experiments/runs/0mwgycw2' target=\"_blank\">https://wandb.ai/shahi77-national-institute-of-technology-hamirpur/deep-learning-experiments/runs/0mwgycw2</a><br> View project at: <a href='https://wandb.ai/shahi77-national-institute-of-technology-hamirpur/deep-learning-experiments' target=\"_blank\">https://wandb.ai/shahi77-national-institute-of-technology-hamirpur/deep-learning-experiments</a><br>Synced 5 W&B file(s), 0 media file(s), 0 artifact file(s) and 0 other file(s)"
            ]
          },
          "metadata": {}
        },
        {
          "output_type": "display_data",
          "data": {
            "text/plain": [
              "<IPython.core.display.HTML object>"
            ],
            "text/html": [
              "Find logs at: <code>./wandb/run-20250206_161459-0mwgycw2/logs</code>"
            ]
          },
          "metadata": {}
        },
        {
          "output_type": "stream",
          "name": "stdout",
          "text": [
            "\n",
            "Training on Fashion-MNIST with Activation: Swish\n"
          ]
        },
        {
          "output_type": "display_data",
          "data": {
            "text/plain": [
              "<IPython.core.display.HTML object>"
            ],
            "text/html": [
              "Changes to your `wandb` environment variables will be ignored because your `wandb` session has already started. For more information on how to modify your settings with `wandb.init()` arguments, please refer to <a href='https://wandb.me/wandb-init' target=\"_blank\">the W&B docs</a>."
            ]
          },
          "metadata": {}
        },
        {
          "output_type": "display_data",
          "data": {
            "text/plain": [
              "<IPython.core.display.HTML object>"
            ],
            "text/html": [
              "Ignoring project 'activation-functions-analysis' when running a sweep."
            ]
          },
          "metadata": {}
        },
        {
          "output_type": "display_data",
          "data": {
            "text/plain": [
              "<IPython.core.display.HTML object>"
            ],
            "text/html": [
              "Tracking run with wandb version 0.19.5"
            ]
          },
          "metadata": {}
        },
        {
          "output_type": "display_data",
          "data": {
            "text/plain": [
              "<IPython.core.display.HTML object>"
            ],
            "text/html": [
              "Run data is saved locally in <code>/content/wandb/run-20250206_161637-0mwgycw2</code>"
            ]
          },
          "metadata": {}
        },
        {
          "output_type": "display_data",
          "data": {
            "text/plain": [
              "<IPython.core.display.HTML object>"
            ],
            "text/html": [
              "Syncing run <strong><a href='https://wandb.ai/shahi77-national-institute-of-technology-hamirpur/deep-learning-experiments/runs/0mwgycw2' target=\"_blank\">Fashion-MNIST-Swish</a></strong> to <a href='https://wandb.ai/shahi77-national-institute-of-technology-hamirpur/deep-learning-experiments' target=\"_blank\">Weights & Biases</a> (<a href='https://wandb.me/developer-guide' target=\"_blank\">docs</a>)<br>Sweep page: <a href='https://wandb.ai/shahi77-national-institute-of-technology-hamirpur/deep-learning-experiments/sweeps/ntjma6uk' target=\"_blank\">https://wandb.ai/shahi77-national-institute-of-technology-hamirpur/deep-learning-experiments/sweeps/ntjma6uk</a>"
            ]
          },
          "metadata": {}
        },
        {
          "output_type": "display_data",
          "data": {
            "text/plain": [
              "<IPython.core.display.HTML object>"
            ],
            "text/html": [
              " View project at <a href='https://wandb.ai/shahi77-national-institute-of-technology-hamirpur/deep-learning-experiments' target=\"_blank\">https://wandb.ai/shahi77-national-institute-of-technology-hamirpur/deep-learning-experiments</a>"
            ]
          },
          "metadata": {}
        },
        {
          "output_type": "display_data",
          "data": {
            "text/plain": [
              "<IPython.core.display.HTML object>"
            ],
            "text/html": [
              " View sweep at <a href='https://wandb.ai/shahi77-national-institute-of-technology-hamirpur/deep-learning-experiments/sweeps/ntjma6uk' target=\"_blank\">https://wandb.ai/shahi77-national-institute-of-technology-hamirpur/deep-learning-experiments/sweeps/ntjma6uk</a>"
            ]
          },
          "metadata": {}
        },
        {
          "output_type": "display_data",
          "data": {
            "text/plain": [
              "<IPython.core.display.HTML object>"
            ],
            "text/html": [
              " View run at <a href='https://wandb.ai/shahi77-national-institute-of-technology-hamirpur/deep-learning-experiments/runs/0mwgycw2' target=\"_blank\">https://wandb.ai/shahi77-national-institute-of-technology-hamirpur/deep-learning-experiments/runs/0mwgycw2</a>"
            ]
          },
          "metadata": {}
        },
        {
          "output_type": "stream",
          "name": "stdout",
          "text": [
            "Epoch [1/5], Loss: 469.5411, Accuracy: 0.8189\n",
            "Epoch [2/5], Loss: 346.4005, Accuracy: 0.8646\n",
            "Epoch [3/5], Loss: 308.7798, Accuracy: 0.8778\n",
            "Epoch [4/5], Loss: 286.1902, Accuracy: 0.8861\n",
            "Epoch [5/5], Loss: 266.4181, Accuracy: 0.8941\n"
          ]
        },
        {
          "output_type": "display_data",
          "data": {
            "text/plain": [
              "<IPython.core.display.HTML object>"
            ],
            "text/html": []
          },
          "metadata": {}
        },
        {
          "output_type": "display_data",
          "data": {
            "text/plain": [
              "<IPython.core.display.HTML object>"
            ],
            "text/html": [
              "<br>    <style><br>        .wandb-row {<br>            display: flex;<br>            flex-direction: row;<br>            flex-wrap: wrap;<br>            justify-content: flex-start;<br>            width: 100%;<br>        }<br>        .wandb-col {<br>            display: flex;<br>            flex-direction: column;<br>            flex-basis: 100%;<br>            flex: 1;<br>            padding: 10px;<br>        }<br>    </style><br><div class=\"wandb-row\"><div class=\"wandb-col\"><h3>Run history:</h3><br/><table class=\"wandb\"><tr><td>Accuracy</td><td>▁▅▆▇█</td></tr><tr><td>Epoch</td><td>▁▃▅▆█</td></tr><tr><td>Loss</td><td>█▄▂▂▁</td></tr></table><br/></div><div class=\"wandb-col\"><h3>Run summary:</h3><br/><table class=\"wandb\"><tr><td>Accuracy</td><td>0.89413</td></tr><tr><td>Activation Function</td><td>Swish</td></tr><tr><td>Dataset</td><td>Fashion-MNIST</td></tr><tr><td>Epoch</td><td>5</td></tr><tr><td>Loss</td><td>0.28403</td></tr></table><br/></div></div>"
            ]
          },
          "metadata": {}
        },
        {
          "output_type": "display_data",
          "data": {
            "text/plain": [
              "<IPython.core.display.HTML object>"
            ],
            "text/html": [
              " View run <strong style=\"color:#cdcd00\">Fashion-MNIST-Swish</strong> at: <a href='https://wandb.ai/shahi77-national-institute-of-technology-hamirpur/deep-learning-experiments/runs/0mwgycw2' target=\"_blank\">https://wandb.ai/shahi77-national-institute-of-technology-hamirpur/deep-learning-experiments/runs/0mwgycw2</a><br> View project at: <a href='https://wandb.ai/shahi77-national-institute-of-technology-hamirpur/deep-learning-experiments' target=\"_blank\">https://wandb.ai/shahi77-national-institute-of-technology-hamirpur/deep-learning-experiments</a><br>Synced 5 W&B file(s), 0 media file(s), 0 artifact file(s) and 0 other file(s)"
            ]
          },
          "metadata": {}
        },
        {
          "output_type": "display_data",
          "data": {
            "text/plain": [
              "<IPython.core.display.HTML object>"
            ],
            "text/html": [
              "Find logs at: <code>./wandb/run-20250206_161637-0mwgycw2/logs</code>"
            ]
          },
          "metadata": {}
        },
        {
          "output_type": "stream",
          "name": "stdout",
          "text": [
            "\n",
            "Training on Fashion-MNIST with Activation: ESwish\n"
          ]
        },
        {
          "output_type": "display_data",
          "data": {
            "text/plain": [
              "<IPython.core.display.HTML object>"
            ],
            "text/html": [
              "Changes to your `wandb` environment variables will be ignored because your `wandb` session has already started. For more information on how to modify your settings with `wandb.init()` arguments, please refer to <a href='https://wandb.me/wandb-init' target=\"_blank\">the W&B docs</a>."
            ]
          },
          "metadata": {}
        },
        {
          "output_type": "display_data",
          "data": {
            "text/plain": [
              "<IPython.core.display.HTML object>"
            ],
            "text/html": [
              "Ignoring project 'activation-functions-analysis' when running a sweep."
            ]
          },
          "metadata": {}
        },
        {
          "output_type": "display_data",
          "data": {
            "text/plain": [
              "<IPython.core.display.HTML object>"
            ],
            "text/html": [
              "Tracking run with wandb version 0.19.5"
            ]
          },
          "metadata": {}
        },
        {
          "output_type": "display_data",
          "data": {
            "text/plain": [
              "<IPython.core.display.HTML object>"
            ],
            "text/html": [
              "Run data is saved locally in <code>/content/wandb/run-20250206_161825-0mwgycw2</code>"
            ]
          },
          "metadata": {}
        },
        {
          "output_type": "display_data",
          "data": {
            "text/plain": [
              "<IPython.core.display.HTML object>"
            ],
            "text/html": [
              "Syncing run <strong><a href='https://wandb.ai/shahi77-national-institute-of-technology-hamirpur/deep-learning-experiments/runs/0mwgycw2' target=\"_blank\">Fashion-MNIST-ESwish</a></strong> to <a href='https://wandb.ai/shahi77-national-institute-of-technology-hamirpur/deep-learning-experiments' target=\"_blank\">Weights & Biases</a> (<a href='https://wandb.me/developer-guide' target=\"_blank\">docs</a>)<br>Sweep page: <a href='https://wandb.ai/shahi77-national-institute-of-technology-hamirpur/deep-learning-experiments/sweeps/ntjma6uk' target=\"_blank\">https://wandb.ai/shahi77-national-institute-of-technology-hamirpur/deep-learning-experiments/sweeps/ntjma6uk</a>"
            ]
          },
          "metadata": {}
        },
        {
          "output_type": "display_data",
          "data": {
            "text/plain": [
              "<IPython.core.display.HTML object>"
            ],
            "text/html": [
              " View project at <a href='https://wandb.ai/shahi77-national-institute-of-technology-hamirpur/deep-learning-experiments' target=\"_blank\">https://wandb.ai/shahi77-national-institute-of-technology-hamirpur/deep-learning-experiments</a>"
            ]
          },
          "metadata": {}
        },
        {
          "output_type": "display_data",
          "data": {
            "text/plain": [
              "<IPython.core.display.HTML object>"
            ],
            "text/html": [
              " View sweep at <a href='https://wandb.ai/shahi77-national-institute-of-technology-hamirpur/deep-learning-experiments/sweeps/ntjma6uk' target=\"_blank\">https://wandb.ai/shahi77-national-institute-of-technology-hamirpur/deep-learning-experiments/sweeps/ntjma6uk</a>"
            ]
          },
          "metadata": {}
        },
        {
          "output_type": "display_data",
          "data": {
            "text/plain": [
              "<IPython.core.display.HTML object>"
            ],
            "text/html": [
              " View run at <a href='https://wandb.ai/shahi77-national-institute-of-technology-hamirpur/deep-learning-experiments/runs/0mwgycw2' target=\"_blank\">https://wandb.ai/shahi77-national-institute-of-technology-hamirpur/deep-learning-experiments/runs/0mwgycw2</a>"
            ]
          },
          "metadata": {}
        },
        {
          "output_type": "stream",
          "name": "stdout",
          "text": [
            "Epoch [1/5], Loss: 454.2731, Accuracy: 0.8217\n",
            "Epoch [2/5], Loss: 339.9233, Accuracy: 0.8662\n",
            "Epoch [3/5], Loss: 301.4357, Accuracy: 0.8823\n",
            "Epoch [4/5], Loss: 276.1400, Accuracy: 0.8910\n",
            "Epoch [5/5], Loss: 260.3180, Accuracy: 0.8954\n"
          ]
        },
        {
          "output_type": "display_data",
          "data": {
            "text/plain": [
              "<IPython.core.display.HTML object>"
            ],
            "text/html": []
          },
          "metadata": {}
        },
        {
          "output_type": "display_data",
          "data": {
            "text/plain": [
              "<IPython.core.display.HTML object>"
            ],
            "text/html": [
              "<br>    <style><br>        .wandb-row {<br>            display: flex;<br>            flex-direction: row;<br>            flex-wrap: wrap;<br>            justify-content: flex-start;<br>            width: 100%;<br>        }<br>        .wandb-col {<br>            display: flex;<br>            flex-direction: column;<br>            flex-basis: 100%;<br>            flex: 1;<br>            padding: 10px;<br>        }<br>    </style><br><div class=\"wandb-row\"><div class=\"wandb-col\"><h3>Run history:</h3><br/><table class=\"wandb\"><tr><td>Accuracy</td><td>▁▅▇██</td></tr><tr><td>Epoch</td><td>▁▃▅▆█</td></tr><tr><td>Loss</td><td>█▄▂▂▁</td></tr></table><br/></div><div class=\"wandb-col\"><h3>Run summary:</h3><br/><table class=\"wandb\"><tr><td>Accuracy</td><td>0.8954</td></tr><tr><td>Activation Function</td><td>ESwish</td></tr><tr><td>Dataset</td><td>Fashion-MNIST</td></tr><tr><td>Epoch</td><td>5</td></tr><tr><td>Loss</td><td>0.27752</td></tr></table><br/></div></div>"
            ]
          },
          "metadata": {}
        },
        {
          "output_type": "display_data",
          "data": {
            "text/plain": [
              "<IPython.core.display.HTML object>"
            ],
            "text/html": [
              " View run <strong style=\"color:#cdcd00\">Fashion-MNIST-ESwish</strong> at: <a href='https://wandb.ai/shahi77-national-institute-of-technology-hamirpur/deep-learning-experiments/runs/0mwgycw2' target=\"_blank\">https://wandb.ai/shahi77-national-institute-of-technology-hamirpur/deep-learning-experiments/runs/0mwgycw2</a><br> View project at: <a href='https://wandb.ai/shahi77-national-institute-of-technology-hamirpur/deep-learning-experiments' target=\"_blank\">https://wandb.ai/shahi77-national-institute-of-technology-hamirpur/deep-learning-experiments</a><br>Synced 5 W&B file(s), 0 media file(s), 0 artifact file(s) and 0 other file(s)"
            ]
          },
          "metadata": {}
        },
        {
          "output_type": "display_data",
          "data": {
            "text/plain": [
              "<IPython.core.display.HTML object>"
            ],
            "text/html": [
              "Find logs at: <code>./wandb/run-20250206_161825-0mwgycw2/logs</code>"
            ]
          },
          "metadata": {}
        },
        {
          "output_type": "stream",
          "name": "stdout",
          "text": [
            "\n",
            "Training on Fashion-MNIST with Activation: GELU\n"
          ]
        },
        {
          "output_type": "display_data",
          "data": {
            "text/plain": [
              "<IPython.core.display.HTML object>"
            ],
            "text/html": [
              "Changes to your `wandb` environment variables will be ignored because your `wandb` session has already started. For more information on how to modify your settings with `wandb.init()` arguments, please refer to <a href='https://wandb.me/wandb-init' target=\"_blank\">the W&B docs</a>."
            ]
          },
          "metadata": {}
        },
        {
          "output_type": "display_data",
          "data": {
            "text/plain": [
              "<IPython.core.display.HTML object>"
            ],
            "text/html": [
              "Ignoring project 'activation-functions-analysis' when running a sweep."
            ]
          },
          "metadata": {}
        },
        {
          "output_type": "display_data",
          "data": {
            "text/plain": [
              "<IPython.core.display.HTML object>"
            ],
            "text/html": [
              "Tracking run with wandb version 0.19.5"
            ]
          },
          "metadata": {}
        },
        {
          "output_type": "display_data",
          "data": {
            "text/plain": [
              "<IPython.core.display.HTML object>"
            ],
            "text/html": [
              "Run data is saved locally in <code>/content/wandb/run-20250206_162001-0mwgycw2</code>"
            ]
          },
          "metadata": {}
        },
        {
          "output_type": "display_data",
          "data": {
            "text/plain": [
              "<IPython.core.display.HTML object>"
            ],
            "text/html": [
              "Syncing run <strong><a href='https://wandb.ai/shahi77-national-institute-of-technology-hamirpur/deep-learning-experiments/runs/0mwgycw2' target=\"_blank\">Fashion-MNIST-GELU</a></strong> to <a href='https://wandb.ai/shahi77-national-institute-of-technology-hamirpur/deep-learning-experiments' target=\"_blank\">Weights & Biases</a> (<a href='https://wandb.me/developer-guide' target=\"_blank\">docs</a>)<br>Sweep page: <a href='https://wandb.ai/shahi77-national-institute-of-technology-hamirpur/deep-learning-experiments/sweeps/ntjma6uk' target=\"_blank\">https://wandb.ai/shahi77-national-institute-of-technology-hamirpur/deep-learning-experiments/sweeps/ntjma6uk</a>"
            ]
          },
          "metadata": {}
        },
        {
          "output_type": "display_data",
          "data": {
            "text/plain": [
              "<IPython.core.display.HTML object>"
            ],
            "text/html": [
              " View project at <a href='https://wandb.ai/shahi77-national-institute-of-technology-hamirpur/deep-learning-experiments' target=\"_blank\">https://wandb.ai/shahi77-national-institute-of-technology-hamirpur/deep-learning-experiments</a>"
            ]
          },
          "metadata": {}
        },
        {
          "output_type": "display_data",
          "data": {
            "text/plain": [
              "<IPython.core.display.HTML object>"
            ],
            "text/html": [
              " View sweep at <a href='https://wandb.ai/shahi77-national-institute-of-technology-hamirpur/deep-learning-experiments/sweeps/ntjma6uk' target=\"_blank\">https://wandb.ai/shahi77-national-institute-of-technology-hamirpur/deep-learning-experiments/sweeps/ntjma6uk</a>"
            ]
          },
          "metadata": {}
        },
        {
          "output_type": "display_data",
          "data": {
            "text/plain": [
              "<IPython.core.display.HTML object>"
            ],
            "text/html": [
              " View run at <a href='https://wandb.ai/shahi77-national-institute-of-technology-hamirpur/deep-learning-experiments/runs/0mwgycw2' target=\"_blank\">https://wandb.ai/shahi77-national-institute-of-technology-hamirpur/deep-learning-experiments/runs/0mwgycw2</a>"
            ]
          },
          "metadata": {}
        },
        {
          "output_type": "stream",
          "name": "stdout",
          "text": [
            "Epoch [1/5], Loss: 469.7751, Accuracy: 0.8174\n",
            "Epoch [2/5], Loss: 346.0449, Accuracy: 0.8653\n",
            "Epoch [3/5], Loss: 311.1752, Accuracy: 0.8774\n",
            "Epoch [4/5], Loss: 287.9537, Accuracy: 0.8857\n",
            "Epoch [5/5], Loss: 270.1006, Accuracy: 0.8945\n"
          ]
        },
        {
          "output_type": "display_data",
          "data": {
            "text/plain": [
              "<IPython.core.display.HTML object>"
            ],
            "text/html": []
          },
          "metadata": {}
        },
        {
          "output_type": "display_data",
          "data": {
            "text/plain": [
              "<IPython.core.display.HTML object>"
            ],
            "text/html": [
              "<br>    <style><br>        .wandb-row {<br>            display: flex;<br>            flex-direction: row;<br>            flex-wrap: wrap;<br>            justify-content: flex-start;<br>            width: 100%;<br>        }<br>        .wandb-col {<br>            display: flex;<br>            flex-direction: column;<br>            flex-basis: 100%;<br>            flex: 1;<br>            padding: 10px;<br>        }<br>    </style><br><div class=\"wandb-row\"><div class=\"wandb-col\"><h3>Run history:</h3><br/><table class=\"wandb\"><tr><td>Accuracy</td><td>▁▅▆▇█</td></tr><tr><td>Epoch</td><td>▁▃▅▆█</td></tr><tr><td>Loss</td><td>█▄▂▂▁</td></tr></table><br/></div><div class=\"wandb-col\"><h3>Run summary:</h3><br/><table class=\"wandb\"><tr><td>Accuracy</td><td>0.89452</td></tr><tr><td>Activation Function</td><td>GELU</td></tr><tr><td>Dataset</td><td>Fashion-MNIST</td></tr><tr><td>Epoch</td><td>5</td></tr><tr><td>Loss</td><td>0.28795</td></tr></table><br/></div></div>"
            ]
          },
          "metadata": {}
        },
        {
          "output_type": "display_data",
          "data": {
            "text/plain": [
              "<IPython.core.display.HTML object>"
            ],
            "text/html": [
              " View run <strong style=\"color:#cdcd00\">Fashion-MNIST-GELU</strong> at: <a href='https://wandb.ai/shahi77-national-institute-of-technology-hamirpur/deep-learning-experiments/runs/0mwgycw2' target=\"_blank\">https://wandb.ai/shahi77-national-institute-of-technology-hamirpur/deep-learning-experiments/runs/0mwgycw2</a><br> View project at: <a href='https://wandb.ai/shahi77-national-institute-of-technology-hamirpur/deep-learning-experiments' target=\"_blank\">https://wandb.ai/shahi77-national-institute-of-technology-hamirpur/deep-learning-experiments</a><br>Synced 5 W&B file(s), 0 media file(s), 0 artifact file(s) and 0 other file(s)"
            ]
          },
          "metadata": {}
        },
        {
          "output_type": "display_data",
          "data": {
            "text/plain": [
              "<IPython.core.display.HTML object>"
            ],
            "text/html": [
              "Find logs at: <code>./wandb/run-20250206_162001-0mwgycw2/logs</code>"
            ]
          },
          "metadata": {}
        },
        {
          "output_type": "stream",
          "name": "stdout",
          "text": [
            "\n",
            "Training on Fashion-MNIST with Activation: SELU\n"
          ]
        },
        {
          "output_type": "display_data",
          "data": {
            "text/plain": [
              "<IPython.core.display.HTML object>"
            ],
            "text/html": [
              "Changes to your `wandb` environment variables will be ignored because your `wandb` session has already started. For more information on how to modify your settings with `wandb.init()` arguments, please refer to <a href='https://wandb.me/wandb-init' target=\"_blank\">the W&B docs</a>."
            ]
          },
          "metadata": {}
        },
        {
          "output_type": "display_data",
          "data": {
            "text/plain": [
              "<IPython.core.display.HTML object>"
            ],
            "text/html": [
              "Ignoring project 'activation-functions-analysis' when running a sweep."
            ]
          },
          "metadata": {}
        },
        {
          "output_type": "display_data",
          "data": {
            "text/plain": [
              "<IPython.core.display.HTML object>"
            ],
            "text/html": [
              "Tracking run with wandb version 0.19.5"
            ]
          },
          "metadata": {}
        },
        {
          "output_type": "display_data",
          "data": {
            "text/plain": [
              "<IPython.core.display.HTML object>"
            ],
            "text/html": [
              "Run data is saved locally in <code>/content/wandb/run-20250206_162139-0mwgycw2</code>"
            ]
          },
          "metadata": {}
        },
        {
          "output_type": "display_data",
          "data": {
            "text/plain": [
              "<IPython.core.display.HTML object>"
            ],
            "text/html": [
              "Syncing run <strong><a href='https://wandb.ai/shahi77-national-institute-of-technology-hamirpur/deep-learning-experiments/runs/0mwgycw2' target=\"_blank\">Fashion-MNIST-SELU</a></strong> to <a href='https://wandb.ai/shahi77-national-institute-of-technology-hamirpur/deep-learning-experiments' target=\"_blank\">Weights & Biases</a> (<a href='https://wandb.me/developer-guide' target=\"_blank\">docs</a>)<br>Sweep page: <a href='https://wandb.ai/shahi77-national-institute-of-technology-hamirpur/deep-learning-experiments/sweeps/ntjma6uk' target=\"_blank\">https://wandb.ai/shahi77-national-institute-of-technology-hamirpur/deep-learning-experiments/sweeps/ntjma6uk</a>"
            ]
          },
          "metadata": {}
        },
        {
          "output_type": "display_data",
          "data": {
            "text/plain": [
              "<IPython.core.display.HTML object>"
            ],
            "text/html": [
              " View project at <a href='https://wandb.ai/shahi77-national-institute-of-technology-hamirpur/deep-learning-experiments' target=\"_blank\">https://wandb.ai/shahi77-national-institute-of-technology-hamirpur/deep-learning-experiments</a>"
            ]
          },
          "metadata": {}
        },
        {
          "output_type": "display_data",
          "data": {
            "text/plain": [
              "<IPython.core.display.HTML object>"
            ],
            "text/html": [
              " View sweep at <a href='https://wandb.ai/shahi77-national-institute-of-technology-hamirpur/deep-learning-experiments/sweeps/ntjma6uk' target=\"_blank\">https://wandb.ai/shahi77-national-institute-of-technology-hamirpur/deep-learning-experiments/sweeps/ntjma6uk</a>"
            ]
          },
          "metadata": {}
        },
        {
          "output_type": "display_data",
          "data": {
            "text/plain": [
              "<IPython.core.display.HTML object>"
            ],
            "text/html": [
              " View run at <a href='https://wandb.ai/shahi77-national-institute-of-technology-hamirpur/deep-learning-experiments/runs/0mwgycw2' target=\"_blank\">https://wandb.ai/shahi77-national-institute-of-technology-hamirpur/deep-learning-experiments/runs/0mwgycw2</a>"
            ]
          },
          "metadata": {}
        },
        {
          "output_type": "stream",
          "name": "stdout",
          "text": [
            "Epoch [1/5], Loss: 473.6554, Accuracy: 0.8177\n",
            "Epoch [2/5], Loss: 362.8557, Accuracy: 0.8569\n",
            "Epoch [3/5], Loss: 327.7089, Accuracy: 0.8711\n",
            "Epoch [4/5], Loss: 300.7284, Accuracy: 0.8812\n",
            "Epoch [5/5], Loss: 283.1231, Accuracy: 0.8873\n"
          ]
        },
        {
          "output_type": "display_data",
          "data": {
            "text/plain": [
              "<IPython.core.display.HTML object>"
            ],
            "text/html": []
          },
          "metadata": {}
        },
        {
          "output_type": "display_data",
          "data": {
            "text/plain": [
              "<IPython.core.display.HTML object>"
            ],
            "text/html": [
              "<br>    <style><br>        .wandb-row {<br>            display: flex;<br>            flex-direction: row;<br>            flex-wrap: wrap;<br>            justify-content: flex-start;<br>            width: 100%;<br>        }<br>        .wandb-col {<br>            display: flex;<br>            flex-direction: column;<br>            flex-basis: 100%;<br>            flex: 1;<br>            padding: 10px;<br>        }<br>    </style><br><div class=\"wandb-row\"><div class=\"wandb-col\"><h3>Run history:</h3><br/><table class=\"wandb\"><tr><td>Accuracy</td><td>▁▅▆▇█</td></tr><tr><td>Epoch</td><td>▁▃▅▆█</td></tr><tr><td>Loss</td><td>█▄▃▂▁</td></tr></table><br/></div><div class=\"wandb-col\"><h3>Run summary:</h3><br/><table class=\"wandb\"><tr><td>Accuracy</td><td>0.88732</td></tr><tr><td>Activation Function</td><td>SELU</td></tr><tr><td>Dataset</td><td>Fashion-MNIST</td></tr><tr><td>Epoch</td><td>5</td></tr><tr><td>Loss</td><td>0.30184</td></tr></table><br/></div></div>"
            ]
          },
          "metadata": {}
        },
        {
          "output_type": "display_data",
          "data": {
            "text/plain": [
              "<IPython.core.display.HTML object>"
            ],
            "text/html": [
              " View run <strong style=\"color:#cdcd00\">Fashion-MNIST-SELU</strong> at: <a href='https://wandb.ai/shahi77-national-institute-of-technology-hamirpur/deep-learning-experiments/runs/0mwgycw2' target=\"_blank\">https://wandb.ai/shahi77-national-institute-of-technology-hamirpur/deep-learning-experiments/runs/0mwgycw2</a><br> View project at: <a href='https://wandb.ai/shahi77-national-institute-of-technology-hamirpur/deep-learning-experiments' target=\"_blank\">https://wandb.ai/shahi77-national-institute-of-technology-hamirpur/deep-learning-experiments</a><br>Synced 5 W&B file(s), 0 media file(s), 0 artifact file(s) and 0 other file(s)"
            ]
          },
          "metadata": {}
        },
        {
          "output_type": "display_data",
          "data": {
            "text/plain": [
              "<IPython.core.display.HTML object>"
            ],
            "text/html": [
              "Find logs at: <code>./wandb/run-20250206_162139-0mwgycw2/logs</code>"
            ]
          },
          "metadata": {}
        },
        {
          "output_type": "stream",
          "name": "stdout",
          "text": [
            "\n",
            "Training on CIFAR-10 with Activation: Sigmoid\n"
          ]
        },
        {
          "output_type": "display_data",
          "data": {
            "text/plain": [
              "<IPython.core.display.HTML object>"
            ],
            "text/html": [
              "Changes to your `wandb` environment variables will be ignored because your `wandb` session has already started. For more information on how to modify your settings with `wandb.init()` arguments, please refer to <a href='https://wandb.me/wandb-init' target=\"_blank\">the W&B docs</a>."
            ]
          },
          "metadata": {}
        },
        {
          "output_type": "display_data",
          "data": {
            "text/plain": [
              "<IPython.core.display.HTML object>"
            ],
            "text/html": [
              "Ignoring project 'activation-functions-analysis' when running a sweep."
            ]
          },
          "metadata": {}
        },
        {
          "output_type": "display_data",
          "data": {
            "text/plain": [
              "<IPython.core.display.HTML object>"
            ],
            "text/html": [
              "Tracking run with wandb version 0.19.5"
            ]
          },
          "metadata": {}
        },
        {
          "output_type": "display_data",
          "data": {
            "text/plain": [
              "<IPython.core.display.HTML object>"
            ],
            "text/html": [
              "Run data is saved locally in <code>/content/wandb/run-20250206_162316-0mwgycw2</code>"
            ]
          },
          "metadata": {}
        },
        {
          "output_type": "display_data",
          "data": {
            "text/plain": [
              "<IPython.core.display.HTML object>"
            ],
            "text/html": [
              "Syncing run <strong><a href='https://wandb.ai/shahi77-national-institute-of-technology-hamirpur/deep-learning-experiments/runs/0mwgycw2' target=\"_blank\">CIFAR-10-Sigmoid</a></strong> to <a href='https://wandb.ai/shahi77-national-institute-of-technology-hamirpur/deep-learning-experiments' target=\"_blank\">Weights & Biases</a> (<a href='https://wandb.me/developer-guide' target=\"_blank\">docs</a>)<br>Sweep page: <a href='https://wandb.ai/shahi77-national-institute-of-technology-hamirpur/deep-learning-experiments/sweeps/ntjma6uk' target=\"_blank\">https://wandb.ai/shahi77-national-institute-of-technology-hamirpur/deep-learning-experiments/sweeps/ntjma6uk</a>"
            ]
          },
          "metadata": {}
        },
        {
          "output_type": "display_data",
          "data": {
            "text/plain": [
              "<IPython.core.display.HTML object>"
            ],
            "text/html": [
              " View project at <a href='https://wandb.ai/shahi77-national-institute-of-technology-hamirpur/deep-learning-experiments' target=\"_blank\">https://wandb.ai/shahi77-national-institute-of-technology-hamirpur/deep-learning-experiments</a>"
            ]
          },
          "metadata": {}
        },
        {
          "output_type": "display_data",
          "data": {
            "text/plain": [
              "<IPython.core.display.HTML object>"
            ],
            "text/html": [
              " View sweep at <a href='https://wandb.ai/shahi77-national-institute-of-technology-hamirpur/deep-learning-experiments/sweeps/ntjma6uk' target=\"_blank\">https://wandb.ai/shahi77-national-institute-of-technology-hamirpur/deep-learning-experiments/sweeps/ntjma6uk</a>"
            ]
          },
          "metadata": {}
        },
        {
          "output_type": "display_data",
          "data": {
            "text/plain": [
              "<IPython.core.display.HTML object>"
            ],
            "text/html": [
              " View run at <a href='https://wandb.ai/shahi77-national-institute-of-technology-hamirpur/deep-learning-experiments/runs/0mwgycw2' target=\"_blank\">https://wandb.ai/shahi77-national-institute-of-technology-hamirpur/deep-learning-experiments/runs/0mwgycw2</a>"
            ]
          },
          "metadata": {}
        },
        {
          "output_type": "stream",
          "name": "stdout",
          "text": [
            "Epoch [1/5], Loss: 1455.4417, Accuracy: 0.3362\n",
            "Epoch [2/5], Loss: 1298.9650, Accuracy: 0.4155\n",
            "Epoch [3/5], Loss: 1233.4310, Accuracy: 0.4454\n",
            "Epoch [4/5], Loss: 1184.5164, Accuracy: 0.4682\n",
            "Epoch [5/5], Loss: 1143.9985, Accuracy: 0.4866\n"
          ]
        },
        {
          "output_type": "display_data",
          "data": {
            "text/plain": [
              "<IPython.core.display.HTML object>"
            ],
            "text/html": []
          },
          "metadata": {}
        },
        {
          "output_type": "display_data",
          "data": {
            "text/plain": [
              "<IPython.core.display.HTML object>"
            ],
            "text/html": [
              "<br>    <style><br>        .wandb-row {<br>            display: flex;<br>            flex-direction: row;<br>            flex-wrap: wrap;<br>            justify-content: flex-start;<br>            width: 100%;<br>        }<br>        .wandb-col {<br>            display: flex;<br>            flex-direction: column;<br>            flex-basis: 100%;<br>            flex: 1;<br>            padding: 10px;<br>        }<br>    </style><br><div class=\"wandb-row\"><div class=\"wandb-col\"><h3>Run history:</h3><br/><table class=\"wandb\"><tr><td>Accuracy</td><td>▁▅▆▇█</td></tr><tr><td>Epoch</td><td>▁▃▅▆█</td></tr><tr><td>Loss</td><td>█▄▃▂▁</td></tr></table><br/></div><div class=\"wandb-col\"><h3>Run summary:</h3><br/><table class=\"wandb\"><tr><td>Accuracy</td><td>0.48656</td></tr><tr><td>Activation Function</td><td>Sigmoid</td></tr><tr><td>Dataset</td><td>CIFAR-10</td></tr><tr><td>Epoch</td><td>5</td></tr><tr><td>Loss</td><td>1.46291</td></tr></table><br/></div></div>"
            ]
          },
          "metadata": {}
        },
        {
          "output_type": "display_data",
          "data": {
            "text/plain": [
              "<IPython.core.display.HTML object>"
            ],
            "text/html": [
              " View run <strong style=\"color:#cdcd00\">CIFAR-10-Sigmoid</strong> at: <a href='https://wandb.ai/shahi77-national-institute-of-technology-hamirpur/deep-learning-experiments/runs/0mwgycw2' target=\"_blank\">https://wandb.ai/shahi77-national-institute-of-technology-hamirpur/deep-learning-experiments/runs/0mwgycw2</a><br> View project at: <a href='https://wandb.ai/shahi77-national-institute-of-technology-hamirpur/deep-learning-experiments' target=\"_blank\">https://wandb.ai/shahi77-national-institute-of-technology-hamirpur/deep-learning-experiments</a><br>Synced 5 W&B file(s), 0 media file(s), 0 artifact file(s) and 0 other file(s)"
            ]
          },
          "metadata": {}
        },
        {
          "output_type": "display_data",
          "data": {
            "text/plain": [
              "<IPython.core.display.HTML object>"
            ],
            "text/html": [
              "Find logs at: <code>./wandb/run-20250206_162316-0mwgycw2/logs</code>"
            ]
          },
          "metadata": {}
        },
        {
          "output_type": "stream",
          "name": "stdout",
          "text": [
            "\n",
            "Training on CIFAR-10 with Activation: Tanh\n"
          ]
        },
        {
          "output_type": "display_data",
          "data": {
            "text/plain": [
              "<IPython.core.display.HTML object>"
            ],
            "text/html": [
              "Changes to your `wandb` environment variables will be ignored because your `wandb` session has already started. For more information on how to modify your settings with `wandb.init()` arguments, please refer to <a href='https://wandb.me/wandb-init' target=\"_blank\">the W&B docs</a>."
            ]
          },
          "metadata": {}
        },
        {
          "output_type": "display_data",
          "data": {
            "text/plain": [
              "<IPython.core.display.HTML object>"
            ],
            "text/html": [
              "Ignoring project 'activation-functions-analysis' when running a sweep."
            ]
          },
          "metadata": {}
        },
        {
          "output_type": "display_data",
          "data": {
            "text/plain": [
              "<IPython.core.display.HTML object>"
            ],
            "text/html": [
              "Tracking run with wandb version 0.19.5"
            ]
          },
          "metadata": {}
        },
        {
          "output_type": "display_data",
          "data": {
            "text/plain": [
              "<IPython.core.display.HTML object>"
            ],
            "text/html": [
              "Run data is saved locally in <code>/content/wandb/run-20250206_162503-0mwgycw2</code>"
            ]
          },
          "metadata": {}
        },
        {
          "output_type": "display_data",
          "data": {
            "text/plain": [
              "<IPython.core.display.HTML object>"
            ],
            "text/html": [
              "Syncing run <strong><a href='https://wandb.ai/shahi77-national-institute-of-technology-hamirpur/deep-learning-experiments/runs/0mwgycw2' target=\"_blank\">CIFAR-10-Tanh</a></strong> to <a href='https://wandb.ai/shahi77-national-institute-of-technology-hamirpur/deep-learning-experiments' target=\"_blank\">Weights & Biases</a> (<a href='https://wandb.me/developer-guide' target=\"_blank\">docs</a>)<br>Sweep page: <a href='https://wandb.ai/shahi77-national-institute-of-technology-hamirpur/deep-learning-experiments/sweeps/ntjma6uk' target=\"_blank\">https://wandb.ai/shahi77-national-institute-of-technology-hamirpur/deep-learning-experiments/sweeps/ntjma6uk</a>"
            ]
          },
          "metadata": {}
        },
        {
          "output_type": "display_data",
          "data": {
            "text/plain": [
              "<IPython.core.display.HTML object>"
            ],
            "text/html": [
              " View project at <a href='https://wandb.ai/shahi77-national-institute-of-technology-hamirpur/deep-learning-experiments' target=\"_blank\">https://wandb.ai/shahi77-national-institute-of-technology-hamirpur/deep-learning-experiments</a>"
            ]
          },
          "metadata": {}
        },
        {
          "output_type": "display_data",
          "data": {
            "text/plain": [
              "<IPython.core.display.HTML object>"
            ],
            "text/html": [
              " View sweep at <a href='https://wandb.ai/shahi77-national-institute-of-technology-hamirpur/deep-learning-experiments/sweeps/ntjma6uk' target=\"_blank\">https://wandb.ai/shahi77-national-institute-of-technology-hamirpur/deep-learning-experiments/sweeps/ntjma6uk</a>"
            ]
          },
          "metadata": {}
        },
        {
          "output_type": "display_data",
          "data": {
            "text/plain": [
              "<IPython.core.display.HTML object>"
            ],
            "text/html": [
              " View run at <a href='https://wandb.ai/shahi77-national-institute-of-technology-hamirpur/deep-learning-experiments/runs/0mwgycw2' target=\"_blank\">https://wandb.ai/shahi77-national-institute-of-technology-hamirpur/deep-learning-experiments/runs/0mwgycw2</a>"
            ]
          },
          "metadata": {}
        },
        {
          "output_type": "stream",
          "name": "stdout",
          "text": [
            "Epoch [1/5], Loss: 1380.2975, Accuracy: 0.3829\n",
            "Epoch [2/5], Loss: 1283.3817, Accuracy: 0.4287\n",
            "Epoch [3/5], Loss: 1234.8726, Accuracy: 0.4498\n",
            "Epoch [4/5], Loss: 1204.2849, Accuracy: 0.4633\n",
            "Epoch [5/5], Loss: 1171.1344, Accuracy: 0.4757\n"
          ]
        },
        {
          "output_type": "display_data",
          "data": {
            "text/plain": [
              "<IPython.core.display.HTML object>"
            ],
            "text/html": []
          },
          "metadata": {}
        },
        {
          "output_type": "display_data",
          "data": {
            "text/plain": [
              "<IPython.core.display.HTML object>"
            ],
            "text/html": [
              "<br>    <style><br>        .wandb-row {<br>            display: flex;<br>            flex-direction: row;<br>            flex-wrap: wrap;<br>            justify-content: flex-start;<br>            width: 100%;<br>        }<br>        .wandb-col {<br>            display: flex;<br>            flex-direction: column;<br>            flex-basis: 100%;<br>            flex: 1;<br>            padding: 10px;<br>        }<br>    </style><br><div class=\"wandb-row\"><div class=\"wandb-col\"><h3>Run history:</h3><br/><table class=\"wandb\"><tr><td>Accuracy</td><td>▁▄▆▇█</td></tr><tr><td>Epoch</td><td>▁▃▅▆█</td></tr><tr><td>Loss</td><td>█▅▃▂▁</td></tr></table><br/></div><div class=\"wandb-col\"><h3>Run summary:</h3><br/><table class=\"wandb\"><tr><td>Accuracy</td><td>0.47568</td></tr><tr><td>Activation Function</td><td>Tanh</td></tr><tr><td>Dataset</td><td>CIFAR-10</td></tr><tr><td>Epoch</td><td>5</td></tr><tr><td>Loss</td><td>1.49761</td></tr></table><br/></div></div>"
            ]
          },
          "metadata": {}
        },
        {
          "output_type": "display_data",
          "data": {
            "text/plain": [
              "<IPython.core.display.HTML object>"
            ],
            "text/html": [
              " View run <strong style=\"color:#cdcd00\">CIFAR-10-Tanh</strong> at: <a href='https://wandb.ai/shahi77-national-institute-of-technology-hamirpur/deep-learning-experiments/runs/0mwgycw2' target=\"_blank\">https://wandb.ai/shahi77-national-institute-of-technology-hamirpur/deep-learning-experiments/runs/0mwgycw2</a><br> View project at: <a href='https://wandb.ai/shahi77-national-institute-of-technology-hamirpur/deep-learning-experiments' target=\"_blank\">https://wandb.ai/shahi77-national-institute-of-technology-hamirpur/deep-learning-experiments</a><br>Synced 5 W&B file(s), 0 media file(s), 0 artifact file(s) and 0 other file(s)"
            ]
          },
          "metadata": {}
        },
        {
          "output_type": "display_data",
          "data": {
            "text/plain": [
              "<IPython.core.display.HTML object>"
            ],
            "text/html": [
              "Find logs at: <code>./wandb/run-20250206_162503-0mwgycw2/logs</code>"
            ]
          },
          "metadata": {}
        },
        {
          "output_type": "stream",
          "name": "stdout",
          "text": [
            "\n",
            "Training on CIFAR-10 with Activation: Mish\n"
          ]
        },
        {
          "output_type": "display_data",
          "data": {
            "text/plain": [
              "<IPython.core.display.HTML object>"
            ],
            "text/html": [
              "Changes to your `wandb` environment variables will be ignored because your `wandb` session has already started. For more information on how to modify your settings with `wandb.init()` arguments, please refer to <a href='https://wandb.me/wandb-init' target=\"_blank\">the W&B docs</a>."
            ]
          },
          "metadata": {}
        },
        {
          "output_type": "display_data",
          "data": {
            "text/plain": [
              "<IPython.core.display.HTML object>"
            ],
            "text/html": [
              "Ignoring project 'activation-functions-analysis' when running a sweep."
            ]
          },
          "metadata": {}
        },
        {
          "output_type": "display_data",
          "data": {
            "text/plain": [
              "<IPython.core.display.HTML object>"
            ],
            "text/html": [
              "Tracking run with wandb version 0.19.5"
            ]
          },
          "metadata": {}
        },
        {
          "output_type": "display_data",
          "data": {
            "text/plain": [
              "<IPython.core.display.HTML object>"
            ],
            "text/html": [
              "Run data is saved locally in <code>/content/wandb/run-20250206_162652-0mwgycw2</code>"
            ]
          },
          "metadata": {}
        },
        {
          "output_type": "display_data",
          "data": {
            "text/plain": [
              "<IPython.core.display.HTML object>"
            ],
            "text/html": [
              "Syncing run <strong><a href='https://wandb.ai/shahi77-national-institute-of-technology-hamirpur/deep-learning-experiments/runs/0mwgycw2' target=\"_blank\">CIFAR-10-Mish</a></strong> to <a href='https://wandb.ai/shahi77-national-institute-of-technology-hamirpur/deep-learning-experiments' target=\"_blank\">Weights & Biases</a> (<a href='https://wandb.me/developer-guide' target=\"_blank\">docs</a>)<br>Sweep page: <a href='https://wandb.ai/shahi77-national-institute-of-technology-hamirpur/deep-learning-experiments/sweeps/ntjma6uk' target=\"_blank\">https://wandb.ai/shahi77-national-institute-of-technology-hamirpur/deep-learning-experiments/sweeps/ntjma6uk</a>"
            ]
          },
          "metadata": {}
        },
        {
          "output_type": "display_data",
          "data": {
            "text/plain": [
              "<IPython.core.display.HTML object>"
            ],
            "text/html": [
              " View project at <a href='https://wandb.ai/shahi77-national-institute-of-technology-hamirpur/deep-learning-experiments' target=\"_blank\">https://wandb.ai/shahi77-national-institute-of-technology-hamirpur/deep-learning-experiments</a>"
            ]
          },
          "metadata": {}
        },
        {
          "output_type": "display_data",
          "data": {
            "text/plain": [
              "<IPython.core.display.HTML object>"
            ],
            "text/html": [
              " View sweep at <a href='https://wandb.ai/shahi77-national-institute-of-technology-hamirpur/deep-learning-experiments/sweeps/ntjma6uk' target=\"_blank\">https://wandb.ai/shahi77-national-institute-of-technology-hamirpur/deep-learning-experiments/sweeps/ntjma6uk</a>"
            ]
          },
          "metadata": {}
        },
        {
          "output_type": "display_data",
          "data": {
            "text/plain": [
              "<IPython.core.display.HTML object>"
            ],
            "text/html": [
              " View run at <a href='https://wandb.ai/shahi77-national-institute-of-technology-hamirpur/deep-learning-experiments/runs/0mwgycw2' target=\"_blank\">https://wandb.ai/shahi77-national-institute-of-technology-hamirpur/deep-learning-experiments/runs/0mwgycw2</a>"
            ]
          },
          "metadata": {}
        },
        {
          "output_type": "stream",
          "name": "stdout",
          "text": [
            "Epoch [1/5], Loss: 1273.7957, Accuracy: 0.4200\n",
            "Epoch [2/5], Loss: 1116.8870, Accuracy: 0.4952\n",
            "Epoch [3/5], Loss: 1040.1422, Accuracy: 0.5291\n",
            "Epoch [4/5], Loss: 983.2674, Accuracy: 0.5578\n",
            "Epoch [5/5], Loss: 937.4032, Accuracy: 0.5738\n"
          ]
        },
        {
          "output_type": "display_data",
          "data": {
            "text/plain": [
              "<IPython.core.display.HTML object>"
            ],
            "text/html": []
          },
          "metadata": {}
        },
        {
          "output_type": "display_data",
          "data": {
            "text/plain": [
              "<IPython.core.display.HTML object>"
            ],
            "text/html": [
              "<br>    <style><br>        .wandb-row {<br>            display: flex;<br>            flex-direction: row;<br>            flex-wrap: wrap;<br>            justify-content: flex-start;<br>            width: 100%;<br>        }<br>        .wandb-col {<br>            display: flex;<br>            flex-direction: column;<br>            flex-basis: 100%;<br>            flex: 1;<br>            padding: 10px;<br>        }<br>    </style><br><div class=\"wandb-row\"><div class=\"wandb-col\"><h3>Run history:</h3><br/><table class=\"wandb\"><tr><td>Accuracy</td><td>▁▄▆▇█</td></tr><tr><td>Epoch</td><td>▁▃▅▆█</td></tr><tr><td>Loss</td><td>█▅▃▂▁</td></tr></table><br/></div><div class=\"wandb-col\"><h3>Run summary:</h3><br/><table class=\"wandb\"><tr><td>Accuracy</td><td>0.5738</td></tr><tr><td>Activation Function</td><td>Mish</td></tr><tr><td>Dataset</td><td>CIFAR-10</td></tr><tr><td>Epoch</td><td>5</td></tr><tr><td>Loss</td><td>1.19873</td></tr></table><br/></div></div>"
            ]
          },
          "metadata": {}
        },
        {
          "output_type": "display_data",
          "data": {
            "text/plain": [
              "<IPython.core.display.HTML object>"
            ],
            "text/html": [
              " View run <strong style=\"color:#cdcd00\">CIFAR-10-Mish</strong> at: <a href='https://wandb.ai/shahi77-national-institute-of-technology-hamirpur/deep-learning-experiments/runs/0mwgycw2' target=\"_blank\">https://wandb.ai/shahi77-national-institute-of-technology-hamirpur/deep-learning-experiments/runs/0mwgycw2</a><br> View project at: <a href='https://wandb.ai/shahi77-national-institute-of-technology-hamirpur/deep-learning-experiments' target=\"_blank\">https://wandb.ai/shahi77-national-institute-of-technology-hamirpur/deep-learning-experiments</a><br>Synced 5 W&B file(s), 0 media file(s), 0 artifact file(s) and 0 other file(s)"
            ]
          },
          "metadata": {}
        },
        {
          "output_type": "display_data",
          "data": {
            "text/plain": [
              "<IPython.core.display.HTML object>"
            ],
            "text/html": [
              "Find logs at: <code>./wandb/run-20250206_162652-0mwgycw2/logs</code>"
            ]
          },
          "metadata": {}
        },
        {
          "output_type": "stream",
          "name": "stdout",
          "text": [
            "\n",
            "Training on CIFAR-10 with Activation: ReLU\n"
          ]
        },
        {
          "output_type": "display_data",
          "data": {
            "text/plain": [
              "<IPython.core.display.HTML object>"
            ],
            "text/html": [
              "Changes to your `wandb` environment variables will be ignored because your `wandb` session has already started. For more information on how to modify your settings with `wandb.init()` arguments, please refer to <a href='https://wandb.me/wandb-init' target=\"_blank\">the W&B docs</a>."
            ]
          },
          "metadata": {}
        },
        {
          "output_type": "display_data",
          "data": {
            "text/plain": [
              "<IPython.core.display.HTML object>"
            ],
            "text/html": [
              "Ignoring project 'activation-functions-analysis' when running a sweep."
            ]
          },
          "metadata": {}
        },
        {
          "output_type": "display_data",
          "data": {
            "text/plain": [
              "<IPython.core.display.HTML object>"
            ],
            "text/html": [
              "Tracking run with wandb version 0.19.5"
            ]
          },
          "metadata": {}
        },
        {
          "output_type": "display_data",
          "data": {
            "text/plain": [
              "<IPython.core.display.HTML object>"
            ],
            "text/html": [
              "Run data is saved locally in <code>/content/wandb/run-20250206_162841-0mwgycw2</code>"
            ]
          },
          "metadata": {}
        },
        {
          "output_type": "display_data",
          "data": {
            "text/plain": [
              "<IPython.core.display.HTML object>"
            ],
            "text/html": [
              "Syncing run <strong><a href='https://wandb.ai/shahi77-national-institute-of-technology-hamirpur/deep-learning-experiments/runs/0mwgycw2' target=\"_blank\">CIFAR-10-ReLU</a></strong> to <a href='https://wandb.ai/shahi77-national-institute-of-technology-hamirpur/deep-learning-experiments' target=\"_blank\">Weights & Biases</a> (<a href='https://wandb.me/developer-guide' target=\"_blank\">docs</a>)<br>Sweep page: <a href='https://wandb.ai/shahi77-national-institute-of-technology-hamirpur/deep-learning-experiments/sweeps/ntjma6uk' target=\"_blank\">https://wandb.ai/shahi77-national-institute-of-technology-hamirpur/deep-learning-experiments/sweeps/ntjma6uk</a>"
            ]
          },
          "metadata": {}
        },
        {
          "output_type": "display_data",
          "data": {
            "text/plain": [
              "<IPython.core.display.HTML object>"
            ],
            "text/html": [
              " View project at <a href='https://wandb.ai/shahi77-national-institute-of-technology-hamirpur/deep-learning-experiments' target=\"_blank\">https://wandb.ai/shahi77-national-institute-of-technology-hamirpur/deep-learning-experiments</a>"
            ]
          },
          "metadata": {}
        },
        {
          "output_type": "display_data",
          "data": {
            "text/plain": [
              "<IPython.core.display.HTML object>"
            ],
            "text/html": [
              " View sweep at <a href='https://wandb.ai/shahi77-national-institute-of-technology-hamirpur/deep-learning-experiments/sweeps/ntjma6uk' target=\"_blank\">https://wandb.ai/shahi77-national-institute-of-technology-hamirpur/deep-learning-experiments/sweeps/ntjma6uk</a>"
            ]
          },
          "metadata": {}
        },
        {
          "output_type": "display_data",
          "data": {
            "text/plain": [
              "<IPython.core.display.HTML object>"
            ],
            "text/html": [
              " View run at <a href='https://wandb.ai/shahi77-national-institute-of-technology-hamirpur/deep-learning-experiments/runs/0mwgycw2' target=\"_blank\">https://wandb.ai/shahi77-national-institute-of-technology-hamirpur/deep-learning-experiments/runs/0mwgycw2</a>"
            ]
          },
          "metadata": {}
        },
        {
          "output_type": "stream",
          "name": "stdout",
          "text": [
            "Epoch [1/5], Loss: 1288.0544, Accuracy: 0.4165\n",
            "Epoch [2/5], Loss: 1129.5766, Accuracy: 0.4916\n",
            "Epoch [3/5], Loss: 1056.3768, Accuracy: 0.5247\n",
            "Epoch [4/5], Loss: 1001.2219, Accuracy: 0.5474\n",
            "Epoch [5/5], Loss: 952.7349, Accuracy: 0.5716\n"
          ]
        },
        {
          "output_type": "display_data",
          "data": {
            "text/plain": [
              "<IPython.core.display.HTML object>"
            ],
            "text/html": []
          },
          "metadata": {}
        },
        {
          "output_type": "display_data",
          "data": {
            "text/plain": [
              "<IPython.core.display.HTML object>"
            ],
            "text/html": [
              "<br>    <style><br>        .wandb-row {<br>            display: flex;<br>            flex-direction: row;<br>            flex-wrap: wrap;<br>            justify-content: flex-start;<br>            width: 100%;<br>        }<br>        .wandb-col {<br>            display: flex;<br>            flex-direction: column;<br>            flex-basis: 100%;<br>            flex: 1;<br>            padding: 10px;<br>        }<br>    </style><br><div class=\"wandb-row\"><div class=\"wandb-col\"><h3>Run history:</h3><br/><table class=\"wandb\"><tr><td>Accuracy</td><td>▁▄▆▇█</td></tr><tr><td>Epoch</td><td>▁▃▅▆█</td></tr><tr><td>Loss</td><td>█▅▃▂▁</td></tr></table><br/></div><div class=\"wandb-col\"><h3>Run summary:</h3><br/><table class=\"wandb\"><tr><td>Accuracy</td><td>0.57162</td></tr><tr><td>Activation Function</td><td>ReLU</td></tr><tr><td>Dataset</td><td>CIFAR-10</td></tr><tr><td>Epoch</td><td>5</td></tr><tr><td>Loss</td><td>1.21833</td></tr></table><br/></div></div>"
            ]
          },
          "metadata": {}
        },
        {
          "output_type": "display_data",
          "data": {
            "text/plain": [
              "<IPython.core.display.HTML object>"
            ],
            "text/html": [
              " View run <strong style=\"color:#cdcd00\">CIFAR-10-ReLU</strong> at: <a href='https://wandb.ai/shahi77-national-institute-of-technology-hamirpur/deep-learning-experiments/runs/0mwgycw2' target=\"_blank\">https://wandb.ai/shahi77-national-institute-of-technology-hamirpur/deep-learning-experiments/runs/0mwgycw2</a><br> View project at: <a href='https://wandb.ai/shahi77-national-institute-of-technology-hamirpur/deep-learning-experiments' target=\"_blank\">https://wandb.ai/shahi77-national-institute-of-technology-hamirpur/deep-learning-experiments</a><br>Synced 5 W&B file(s), 0 media file(s), 0 artifact file(s) and 0 other file(s)"
            ]
          },
          "metadata": {}
        },
        {
          "output_type": "display_data",
          "data": {
            "text/plain": [
              "<IPython.core.display.HTML object>"
            ],
            "text/html": [
              "Find logs at: <code>./wandb/run-20250206_162841-0mwgycw2/logs</code>"
            ]
          },
          "metadata": {}
        },
        {
          "output_type": "stream",
          "name": "stdout",
          "text": [
            "\n",
            "Training on CIFAR-10 with Activation: LeakyReLU\n"
          ]
        },
        {
          "output_type": "display_data",
          "data": {
            "text/plain": [
              "<IPython.core.display.HTML object>"
            ],
            "text/html": [
              "Changes to your `wandb` environment variables will be ignored because your `wandb` session has already started. For more information on how to modify your settings with `wandb.init()` arguments, please refer to <a href='https://wandb.me/wandb-init' target=\"_blank\">the W&B docs</a>."
            ]
          },
          "metadata": {}
        },
        {
          "output_type": "display_data",
          "data": {
            "text/plain": [
              "<IPython.core.display.HTML object>"
            ],
            "text/html": [
              "Ignoring project 'activation-functions-analysis' when running a sweep."
            ]
          },
          "metadata": {}
        },
        {
          "output_type": "display_data",
          "data": {
            "text/plain": [
              "<IPython.core.display.HTML object>"
            ],
            "text/html": [
              "Tracking run with wandb version 0.19.5"
            ]
          },
          "metadata": {}
        },
        {
          "output_type": "display_data",
          "data": {
            "text/plain": [
              "<IPython.core.display.HTML object>"
            ],
            "text/html": [
              "Run data is saved locally in <code>/content/wandb/run-20250206_163030-0mwgycw2</code>"
            ]
          },
          "metadata": {}
        },
        {
          "output_type": "display_data",
          "data": {
            "text/plain": [
              "<IPython.core.display.HTML object>"
            ],
            "text/html": [
              "Syncing run <strong><a href='https://wandb.ai/shahi77-national-institute-of-technology-hamirpur/deep-learning-experiments/runs/0mwgycw2' target=\"_blank\">CIFAR-10-LeakyReLU</a></strong> to <a href='https://wandb.ai/shahi77-national-institute-of-technology-hamirpur/deep-learning-experiments' target=\"_blank\">Weights & Biases</a> (<a href='https://wandb.me/developer-guide' target=\"_blank\">docs</a>)<br>Sweep page: <a href='https://wandb.ai/shahi77-national-institute-of-technology-hamirpur/deep-learning-experiments/sweeps/ntjma6uk' target=\"_blank\">https://wandb.ai/shahi77-national-institute-of-technology-hamirpur/deep-learning-experiments/sweeps/ntjma6uk</a>"
            ]
          },
          "metadata": {}
        },
        {
          "output_type": "display_data",
          "data": {
            "text/plain": [
              "<IPython.core.display.HTML object>"
            ],
            "text/html": [
              " View project at <a href='https://wandb.ai/shahi77-national-institute-of-technology-hamirpur/deep-learning-experiments' target=\"_blank\">https://wandb.ai/shahi77-national-institute-of-technology-hamirpur/deep-learning-experiments</a>"
            ]
          },
          "metadata": {}
        },
        {
          "output_type": "display_data",
          "data": {
            "text/plain": [
              "<IPython.core.display.HTML object>"
            ],
            "text/html": [
              " View sweep at <a href='https://wandb.ai/shahi77-national-institute-of-technology-hamirpur/deep-learning-experiments/sweeps/ntjma6uk' target=\"_blank\">https://wandb.ai/shahi77-national-institute-of-technology-hamirpur/deep-learning-experiments/sweeps/ntjma6uk</a>"
            ]
          },
          "metadata": {}
        },
        {
          "output_type": "display_data",
          "data": {
            "text/plain": [
              "<IPython.core.display.HTML object>"
            ],
            "text/html": [
              " View run at <a href='https://wandb.ai/shahi77-national-institute-of-technology-hamirpur/deep-learning-experiments/runs/0mwgycw2' target=\"_blank\">https://wandb.ai/shahi77-national-institute-of-technology-hamirpur/deep-learning-experiments/runs/0mwgycw2</a>"
            ]
          },
          "metadata": {}
        },
        {
          "output_type": "stream",
          "name": "stdout",
          "text": [
            "Epoch [1/5], Loss: 1289.5877, Accuracy: 0.4134\n",
            "Epoch [2/5], Loss: 1131.6670, Accuracy: 0.4886\n",
            "Epoch [3/5], Loss: 1059.3584, Accuracy: 0.5256\n",
            "Epoch [4/5], Loss: 1004.2026, Accuracy: 0.5486\n",
            "Epoch [5/5], Loss: 957.0729, Accuracy: 0.5692\n"
          ]
        },
        {
          "output_type": "display_data",
          "data": {
            "text/plain": [
              "<IPython.core.display.HTML object>"
            ],
            "text/html": []
          },
          "metadata": {}
        },
        {
          "output_type": "display_data",
          "data": {
            "text/plain": [
              "<IPython.core.display.HTML object>"
            ],
            "text/html": [
              "<br>    <style><br>        .wandb-row {<br>            display: flex;<br>            flex-direction: row;<br>            flex-wrap: wrap;<br>            justify-content: flex-start;<br>            width: 100%;<br>        }<br>        .wandb-col {<br>            display: flex;<br>            flex-direction: column;<br>            flex-basis: 100%;<br>            flex: 1;<br>            padding: 10px;<br>        }<br>    </style><br><div class=\"wandb-row\"><div class=\"wandb-col\"><h3>Run history:</h3><br/><table class=\"wandb\"><tr><td>Accuracy</td><td>▁▄▆▇█</td></tr><tr><td>Epoch</td><td>▁▃▅▆█</td></tr><tr><td>Loss</td><td>█▅▃▂▁</td></tr></table><br/></div><div class=\"wandb-col\"><h3>Run summary:</h3><br/><table class=\"wandb\"><tr><td>Accuracy</td><td>0.5692</td></tr><tr><td>Activation Function</td><td>LeakyReLU</td></tr><tr><td>Dataset</td><td>CIFAR-10</td></tr><tr><td>Epoch</td><td>5</td></tr><tr><td>Loss</td><td>1.22388</td></tr></table><br/></div></div>"
            ]
          },
          "metadata": {}
        },
        {
          "output_type": "display_data",
          "data": {
            "text/plain": [
              "<IPython.core.display.HTML object>"
            ],
            "text/html": [
              " View run <strong style=\"color:#cdcd00\">CIFAR-10-LeakyReLU</strong> at: <a href='https://wandb.ai/shahi77-national-institute-of-technology-hamirpur/deep-learning-experiments/runs/0mwgycw2' target=\"_blank\">https://wandb.ai/shahi77-national-institute-of-technology-hamirpur/deep-learning-experiments/runs/0mwgycw2</a><br> View project at: <a href='https://wandb.ai/shahi77-national-institute-of-technology-hamirpur/deep-learning-experiments' target=\"_blank\">https://wandb.ai/shahi77-national-institute-of-technology-hamirpur/deep-learning-experiments</a><br>Synced 5 W&B file(s), 0 media file(s), 0 artifact file(s) and 0 other file(s)"
            ]
          },
          "metadata": {}
        },
        {
          "output_type": "display_data",
          "data": {
            "text/plain": [
              "<IPython.core.display.HTML object>"
            ],
            "text/html": [
              "Find logs at: <code>./wandb/run-20250206_163030-0mwgycw2/logs</code>"
            ]
          },
          "metadata": {}
        },
        {
          "output_type": "stream",
          "name": "stdout",
          "text": [
            "\n",
            "Training on CIFAR-10 with Activation: PReLU\n"
          ]
        },
        {
          "output_type": "display_data",
          "data": {
            "text/plain": [
              "<IPython.core.display.HTML object>"
            ],
            "text/html": [
              "Changes to your `wandb` environment variables will be ignored because your `wandb` session has already started. For more information on how to modify your settings with `wandb.init()` arguments, please refer to <a href='https://wandb.me/wandb-init' target=\"_blank\">the W&B docs</a>."
            ]
          },
          "metadata": {}
        },
        {
          "output_type": "display_data",
          "data": {
            "text/plain": [
              "<IPython.core.display.HTML object>"
            ],
            "text/html": [
              "Ignoring project 'activation-functions-analysis' when running a sweep."
            ]
          },
          "metadata": {}
        },
        {
          "output_type": "display_data",
          "data": {
            "text/plain": [
              "<IPython.core.display.HTML object>"
            ],
            "text/html": [
              "Tracking run with wandb version 0.19.5"
            ]
          },
          "metadata": {}
        },
        {
          "output_type": "display_data",
          "data": {
            "text/plain": [
              "<IPython.core.display.HTML object>"
            ],
            "text/html": [
              "Run data is saved locally in <code>/content/wandb/run-20250206_163218-0mwgycw2</code>"
            ]
          },
          "metadata": {}
        },
        {
          "output_type": "display_data",
          "data": {
            "text/plain": [
              "<IPython.core.display.HTML object>"
            ],
            "text/html": [
              "Syncing run <strong><a href='https://wandb.ai/shahi77-national-institute-of-technology-hamirpur/deep-learning-experiments/runs/0mwgycw2' target=\"_blank\">CIFAR-10-PReLU</a></strong> to <a href='https://wandb.ai/shahi77-national-institute-of-technology-hamirpur/deep-learning-experiments' target=\"_blank\">Weights & Biases</a> (<a href='https://wandb.me/developer-guide' target=\"_blank\">docs</a>)<br>Sweep page: <a href='https://wandb.ai/shahi77-national-institute-of-technology-hamirpur/deep-learning-experiments/sweeps/ntjma6uk' target=\"_blank\">https://wandb.ai/shahi77-national-institute-of-technology-hamirpur/deep-learning-experiments/sweeps/ntjma6uk</a>"
            ]
          },
          "metadata": {}
        },
        {
          "output_type": "display_data",
          "data": {
            "text/plain": [
              "<IPython.core.display.HTML object>"
            ],
            "text/html": [
              " View project at <a href='https://wandb.ai/shahi77-national-institute-of-technology-hamirpur/deep-learning-experiments' target=\"_blank\">https://wandb.ai/shahi77-national-institute-of-technology-hamirpur/deep-learning-experiments</a>"
            ]
          },
          "metadata": {}
        },
        {
          "output_type": "display_data",
          "data": {
            "text/plain": [
              "<IPython.core.display.HTML object>"
            ],
            "text/html": [
              " View sweep at <a href='https://wandb.ai/shahi77-national-institute-of-technology-hamirpur/deep-learning-experiments/sweeps/ntjma6uk' target=\"_blank\">https://wandb.ai/shahi77-national-institute-of-technology-hamirpur/deep-learning-experiments/sweeps/ntjma6uk</a>"
            ]
          },
          "metadata": {}
        },
        {
          "output_type": "display_data",
          "data": {
            "text/plain": [
              "<IPython.core.display.HTML object>"
            ],
            "text/html": [
              " View run at <a href='https://wandb.ai/shahi77-national-institute-of-technology-hamirpur/deep-learning-experiments/runs/0mwgycw2' target=\"_blank\">https://wandb.ai/shahi77-national-institute-of-technology-hamirpur/deep-learning-experiments/runs/0mwgycw2</a>"
            ]
          },
          "metadata": {}
        },
        {
          "output_type": "stream",
          "name": "stdout",
          "text": [
            "Epoch [1/5], Loss: 1298.1496, Accuracy: 0.4096\n",
            "Epoch [2/5], Loss: 1129.3680, Accuracy: 0.4926\n",
            "Epoch [3/5], Loss: 1054.5289, Accuracy: 0.5251\n",
            "Epoch [4/5], Loss: 991.7141, Accuracy: 0.5532\n",
            "Epoch [5/5], Loss: 945.1871, Accuracy: 0.5744\n"
          ]
        },
        {
          "output_type": "display_data",
          "data": {
            "text/plain": [
              "<IPython.core.display.HTML object>"
            ],
            "text/html": []
          },
          "metadata": {}
        },
        {
          "output_type": "display_data",
          "data": {
            "text/plain": [
              "<IPython.core.display.HTML object>"
            ],
            "text/html": [
              "<br>    <style><br>        .wandb-row {<br>            display: flex;<br>            flex-direction: row;<br>            flex-wrap: wrap;<br>            justify-content: flex-start;<br>            width: 100%;<br>        }<br>        .wandb-col {<br>            display: flex;<br>            flex-direction: column;<br>            flex-basis: 100%;<br>            flex: 1;<br>            padding: 10px;<br>        }<br>    </style><br><div class=\"wandb-row\"><div class=\"wandb-col\"><h3>Run history:</h3><br/><table class=\"wandb\"><tr><td>Accuracy</td><td>▁▅▆▇█</td></tr><tr><td>Epoch</td><td>▁▃▅▆█</td></tr><tr><td>Loss</td><td>█▅▃▂▁</td></tr></table><br/></div><div class=\"wandb-col\"><h3>Run summary:</h3><br/><table class=\"wandb\"><tr><td>Accuracy</td><td>0.57438</td></tr><tr><td>Activation Function</td><td>PReLU</td></tr><tr><td>Dataset</td><td>CIFAR-10</td></tr><tr><td>Epoch</td><td>5</td></tr><tr><td>Loss</td><td>1.20868</td></tr></table><br/></div></div>"
            ]
          },
          "metadata": {}
        },
        {
          "output_type": "display_data",
          "data": {
            "text/plain": [
              "<IPython.core.display.HTML object>"
            ],
            "text/html": [
              " View run <strong style=\"color:#cdcd00\">CIFAR-10-PReLU</strong> at: <a href='https://wandb.ai/shahi77-national-institute-of-technology-hamirpur/deep-learning-experiments/runs/0mwgycw2' target=\"_blank\">https://wandb.ai/shahi77-national-institute-of-technology-hamirpur/deep-learning-experiments/runs/0mwgycw2</a><br> View project at: <a href='https://wandb.ai/shahi77-national-institute-of-technology-hamirpur/deep-learning-experiments' target=\"_blank\">https://wandb.ai/shahi77-national-institute-of-technology-hamirpur/deep-learning-experiments</a><br>Synced 5 W&B file(s), 0 media file(s), 0 artifact file(s) and 0 other file(s)"
            ]
          },
          "metadata": {}
        },
        {
          "output_type": "display_data",
          "data": {
            "text/plain": [
              "<IPython.core.display.HTML object>"
            ],
            "text/html": [
              "Find logs at: <code>./wandb/run-20250206_163218-0mwgycw2/logs</code>"
            ]
          },
          "metadata": {}
        },
        {
          "output_type": "stream",
          "name": "stdout",
          "text": [
            "\n",
            "Training on CIFAR-10 with Activation: ELU\n"
          ]
        },
        {
          "output_type": "display_data",
          "data": {
            "text/plain": [
              "<IPython.core.display.HTML object>"
            ],
            "text/html": [
              "Changes to your `wandb` environment variables will be ignored because your `wandb` session has already started. For more information on how to modify your settings with `wandb.init()` arguments, please refer to <a href='https://wandb.me/wandb-init' target=\"_blank\">the W&B docs</a>."
            ]
          },
          "metadata": {}
        },
        {
          "output_type": "display_data",
          "data": {
            "text/plain": [
              "<IPython.core.display.HTML object>"
            ],
            "text/html": [
              "Ignoring project 'activation-functions-analysis' when running a sweep."
            ]
          },
          "metadata": {}
        },
        {
          "output_type": "display_data",
          "data": {
            "text/plain": [
              "<IPython.core.display.HTML object>"
            ],
            "text/html": [
              "Tracking run with wandb version 0.19.5"
            ]
          },
          "metadata": {}
        },
        {
          "output_type": "display_data",
          "data": {
            "text/plain": [
              "<IPython.core.display.HTML object>"
            ],
            "text/html": [
              "Run data is saved locally in <code>/content/wandb/run-20250206_163408-0mwgycw2</code>"
            ]
          },
          "metadata": {}
        },
        {
          "output_type": "display_data",
          "data": {
            "text/plain": [
              "<IPython.core.display.HTML object>"
            ],
            "text/html": [
              "Syncing run <strong><a href='https://wandb.ai/shahi77-national-institute-of-technology-hamirpur/deep-learning-experiments/runs/0mwgycw2' target=\"_blank\">CIFAR-10-ELU</a></strong> to <a href='https://wandb.ai/shahi77-national-institute-of-technology-hamirpur/deep-learning-experiments' target=\"_blank\">Weights & Biases</a> (<a href='https://wandb.me/developer-guide' target=\"_blank\">docs</a>)<br>Sweep page: <a href='https://wandb.ai/shahi77-national-institute-of-technology-hamirpur/deep-learning-experiments/sweeps/ntjma6uk' target=\"_blank\">https://wandb.ai/shahi77-national-institute-of-technology-hamirpur/deep-learning-experiments/sweeps/ntjma6uk</a>"
            ]
          },
          "metadata": {}
        },
        {
          "output_type": "display_data",
          "data": {
            "text/plain": [
              "<IPython.core.display.HTML object>"
            ],
            "text/html": [
              " View project at <a href='https://wandb.ai/shahi77-national-institute-of-technology-hamirpur/deep-learning-experiments' target=\"_blank\">https://wandb.ai/shahi77-national-institute-of-technology-hamirpur/deep-learning-experiments</a>"
            ]
          },
          "metadata": {}
        },
        {
          "output_type": "display_data",
          "data": {
            "text/plain": [
              "<IPython.core.display.HTML object>"
            ],
            "text/html": [
              " View sweep at <a href='https://wandb.ai/shahi77-national-institute-of-technology-hamirpur/deep-learning-experiments/sweeps/ntjma6uk' target=\"_blank\">https://wandb.ai/shahi77-national-institute-of-technology-hamirpur/deep-learning-experiments/sweeps/ntjma6uk</a>"
            ]
          },
          "metadata": {}
        },
        {
          "output_type": "display_data",
          "data": {
            "text/plain": [
              "<IPython.core.display.HTML object>"
            ],
            "text/html": [
              " View run at <a href='https://wandb.ai/shahi77-national-institute-of-technology-hamirpur/deep-learning-experiments/runs/0mwgycw2' target=\"_blank\">https://wandb.ai/shahi77-national-institute-of-technology-hamirpur/deep-learning-experiments/runs/0mwgycw2</a>"
            ]
          },
          "metadata": {}
        },
        {
          "output_type": "stream",
          "name": "stdout",
          "text": [
            "Epoch [1/5], Loss: 1273.2577, Accuracy: 0.4211\n",
            "Epoch [2/5], Loss: 1108.8100, Accuracy: 0.4958\n",
            "Epoch [3/5], Loss: 1032.7933, Accuracy: 0.5304\n",
            "Epoch [4/5], Loss: 974.0017, Accuracy: 0.5579\n",
            "Epoch [5/5], Loss: 924.5610, Accuracy: 0.5807\n"
          ]
        },
        {
          "output_type": "display_data",
          "data": {
            "text/plain": [
              "<IPython.core.display.HTML object>"
            ],
            "text/html": []
          },
          "metadata": {}
        },
        {
          "output_type": "display_data",
          "data": {
            "text/plain": [
              "<IPython.core.display.HTML object>"
            ],
            "text/html": [
              "<br>    <style><br>        .wandb-row {<br>            display: flex;<br>            flex-direction: row;<br>            flex-wrap: wrap;<br>            justify-content: flex-start;<br>            width: 100%;<br>        }<br>        .wandb-col {<br>            display: flex;<br>            flex-direction: column;<br>            flex-basis: 100%;<br>            flex: 1;<br>            padding: 10px;<br>        }<br>    </style><br><div class=\"wandb-row\"><div class=\"wandb-col\"><h3>Run history:</h3><br/><table class=\"wandb\"><tr><td>Accuracy</td><td>▁▄▆▇█</td></tr><tr><td>Epoch</td><td>▁▃▅▆█</td></tr><tr><td>Loss</td><td>█▅▃▂▁</td></tr></table><br/></div><div class=\"wandb-col\"><h3>Run summary:</h3><br/><table class=\"wandb\"><tr><td>Accuracy</td><td>0.58068</td></tr><tr><td>Activation Function</td><td>ELU</td></tr><tr><td>Dataset</td><td>CIFAR-10</td></tr><tr><td>Epoch</td><td>5</td></tr><tr><td>Loss</td><td>1.1823</td></tr></table><br/></div></div>"
            ]
          },
          "metadata": {}
        },
        {
          "output_type": "display_data",
          "data": {
            "text/plain": [
              "<IPython.core.display.HTML object>"
            ],
            "text/html": [
              " View run <strong style=\"color:#cdcd00\">CIFAR-10-ELU</strong> at: <a href='https://wandb.ai/shahi77-national-institute-of-technology-hamirpur/deep-learning-experiments/runs/0mwgycw2' target=\"_blank\">https://wandb.ai/shahi77-national-institute-of-technology-hamirpur/deep-learning-experiments/runs/0mwgycw2</a><br> View project at: <a href='https://wandb.ai/shahi77-national-institute-of-technology-hamirpur/deep-learning-experiments' target=\"_blank\">https://wandb.ai/shahi77-national-institute-of-technology-hamirpur/deep-learning-experiments</a><br>Synced 5 W&B file(s), 0 media file(s), 0 artifact file(s) and 0 other file(s)"
            ]
          },
          "metadata": {}
        },
        {
          "output_type": "display_data",
          "data": {
            "text/plain": [
              "<IPython.core.display.HTML object>"
            ],
            "text/html": [
              "Find logs at: <code>./wandb/run-20250206_163408-0mwgycw2/logs</code>"
            ]
          },
          "metadata": {}
        },
        {
          "output_type": "stream",
          "name": "stdout",
          "text": [
            "\n",
            "Training on CIFAR-10 with Activation: Softmax\n"
          ]
        },
        {
          "output_type": "display_data",
          "data": {
            "text/plain": [
              "<IPython.core.display.HTML object>"
            ],
            "text/html": [
              "Changes to your `wandb` environment variables will be ignored because your `wandb` session has already started. For more information on how to modify your settings with `wandb.init()` arguments, please refer to <a href='https://wandb.me/wandb-init' target=\"_blank\">the W&B docs</a>."
            ]
          },
          "metadata": {}
        },
        {
          "output_type": "display_data",
          "data": {
            "text/plain": [
              "<IPython.core.display.HTML object>"
            ],
            "text/html": [
              "Ignoring project 'activation-functions-analysis' when running a sweep."
            ]
          },
          "metadata": {}
        },
        {
          "output_type": "display_data",
          "data": {
            "text/plain": [
              "<IPython.core.display.HTML object>"
            ],
            "text/html": [
              "Tracking run with wandb version 0.19.5"
            ]
          },
          "metadata": {}
        },
        {
          "output_type": "display_data",
          "data": {
            "text/plain": [
              "<IPython.core.display.HTML object>"
            ],
            "text/html": [
              "Run data is saved locally in <code>/content/wandb/run-20250206_163553-0mwgycw2</code>"
            ]
          },
          "metadata": {}
        },
        {
          "output_type": "display_data",
          "data": {
            "text/plain": [
              "<IPython.core.display.HTML object>"
            ],
            "text/html": [
              "Syncing run <strong><a href='https://wandb.ai/shahi77-national-institute-of-technology-hamirpur/deep-learning-experiments/runs/0mwgycw2' target=\"_blank\">CIFAR-10-Softmax</a></strong> to <a href='https://wandb.ai/shahi77-national-institute-of-technology-hamirpur/deep-learning-experiments' target=\"_blank\">Weights & Biases</a> (<a href='https://wandb.me/developer-guide' target=\"_blank\">docs</a>)<br>Sweep page: <a href='https://wandb.ai/shahi77-national-institute-of-technology-hamirpur/deep-learning-experiments/sweeps/ntjma6uk' target=\"_blank\">https://wandb.ai/shahi77-national-institute-of-technology-hamirpur/deep-learning-experiments/sweeps/ntjma6uk</a>"
            ]
          },
          "metadata": {}
        },
        {
          "output_type": "display_data",
          "data": {
            "text/plain": [
              "<IPython.core.display.HTML object>"
            ],
            "text/html": [
              " View project at <a href='https://wandb.ai/shahi77-national-institute-of-technology-hamirpur/deep-learning-experiments' target=\"_blank\">https://wandb.ai/shahi77-national-institute-of-technology-hamirpur/deep-learning-experiments</a>"
            ]
          },
          "metadata": {}
        },
        {
          "output_type": "display_data",
          "data": {
            "text/plain": [
              "<IPython.core.display.HTML object>"
            ],
            "text/html": [
              " View sweep at <a href='https://wandb.ai/shahi77-national-institute-of-technology-hamirpur/deep-learning-experiments/sweeps/ntjma6uk' target=\"_blank\">https://wandb.ai/shahi77-national-institute-of-technology-hamirpur/deep-learning-experiments/sweeps/ntjma6uk</a>"
            ]
          },
          "metadata": {}
        },
        {
          "output_type": "display_data",
          "data": {
            "text/plain": [
              "<IPython.core.display.HTML object>"
            ],
            "text/html": [
              " View run at <a href='https://wandb.ai/shahi77-national-institute-of-technology-hamirpur/deep-learning-experiments/runs/0mwgycw2' target=\"_blank\">https://wandb.ai/shahi77-national-institute-of-technology-hamirpur/deep-learning-experiments/runs/0mwgycw2</a>"
            ]
          },
          "metadata": {}
        },
        {
          "output_type": "stream",
          "name": "stdout",
          "text": [
            "Epoch [1/5], Loss: 1762.0695, Accuracy: 0.1794\n",
            "Epoch [2/5], Loss: 1618.9758, Accuracy: 0.2411\n",
            "Epoch [3/5], Loss: 1545.8119, Accuracy: 0.2628\n",
            "Epoch [4/5], Loss: 1511.3608, Accuracy: 0.2778\n",
            "Epoch [5/5], Loss: 1482.4336, Accuracy: 0.2932\n"
          ]
        },
        {
          "output_type": "display_data",
          "data": {
            "text/plain": [
              "<IPython.core.display.HTML object>"
            ],
            "text/html": []
          },
          "metadata": {}
        },
        {
          "output_type": "display_data",
          "data": {
            "text/plain": [
              "<IPython.core.display.HTML object>"
            ],
            "text/html": [
              "<br>    <style><br>        .wandb-row {<br>            display: flex;<br>            flex-direction: row;<br>            flex-wrap: wrap;<br>            justify-content: flex-start;<br>            width: 100%;<br>        }<br>        .wandb-col {<br>            display: flex;<br>            flex-direction: column;<br>            flex-basis: 100%;<br>            flex: 1;<br>            padding: 10px;<br>        }<br>    </style><br><div class=\"wandb-row\"><div class=\"wandb-col\"><h3>Run history:</h3><br/><table class=\"wandb\"><tr><td>Accuracy</td><td>▁▅▆▇█</td></tr><tr><td>Epoch</td><td>▁▃▅▆█</td></tr><tr><td>Loss</td><td>█▄▃▂▁</td></tr></table><br/></div><div class=\"wandb-col\"><h3>Run summary:</h3><br/><table class=\"wandb\"><tr><td>Accuracy</td><td>0.29316</td></tr><tr><td>Activation Function</td><td>Softmax</td></tr><tr><td>Dataset</td><td>CIFAR-10</td></tr><tr><td>Epoch</td><td>5</td></tr><tr><td>Loss</td><td>1.8957</td></tr></table><br/></div></div>"
            ]
          },
          "metadata": {}
        },
        {
          "output_type": "display_data",
          "data": {
            "text/plain": [
              "<IPython.core.display.HTML object>"
            ],
            "text/html": [
              " View run <strong style=\"color:#cdcd00\">CIFAR-10-Softmax</strong> at: <a href='https://wandb.ai/shahi77-national-institute-of-technology-hamirpur/deep-learning-experiments/runs/0mwgycw2' target=\"_blank\">https://wandb.ai/shahi77-national-institute-of-technology-hamirpur/deep-learning-experiments/runs/0mwgycw2</a><br> View project at: <a href='https://wandb.ai/shahi77-national-institute-of-technology-hamirpur/deep-learning-experiments' target=\"_blank\">https://wandb.ai/shahi77-national-institute-of-technology-hamirpur/deep-learning-experiments</a><br>Synced 5 W&B file(s), 0 media file(s), 0 artifact file(s) and 0 other file(s)"
            ]
          },
          "metadata": {}
        },
        {
          "output_type": "display_data",
          "data": {
            "text/plain": [
              "<IPython.core.display.HTML object>"
            ],
            "text/html": [
              "Find logs at: <code>./wandb/run-20250206_163553-0mwgycw2/logs</code>"
            ]
          },
          "metadata": {}
        },
        {
          "output_type": "stream",
          "name": "stdout",
          "text": [
            "\n",
            "Training on CIFAR-10 with Activation: Softplus\n"
          ]
        },
        {
          "output_type": "display_data",
          "data": {
            "text/plain": [
              "<IPython.core.display.HTML object>"
            ],
            "text/html": [
              "Changes to your `wandb` environment variables will be ignored because your `wandb` session has already started. For more information on how to modify your settings with `wandb.init()` arguments, please refer to <a href='https://wandb.me/wandb-init' target=\"_blank\">the W&B docs</a>."
            ]
          },
          "metadata": {}
        },
        {
          "output_type": "display_data",
          "data": {
            "text/plain": [
              "<IPython.core.display.HTML object>"
            ],
            "text/html": [
              "Ignoring project 'activation-functions-analysis' when running a sweep."
            ]
          },
          "metadata": {}
        },
        {
          "output_type": "display_data",
          "data": {
            "text/plain": [
              "<IPython.core.display.HTML object>"
            ],
            "text/html": [
              "Tracking run with wandb version 0.19.5"
            ]
          },
          "metadata": {}
        },
        {
          "output_type": "display_data",
          "data": {
            "text/plain": [
              "<IPython.core.display.HTML object>"
            ],
            "text/html": [
              "Run data is saved locally in <code>/content/wandb/run-20250206_163802-0mwgycw2</code>"
            ]
          },
          "metadata": {}
        },
        {
          "output_type": "display_data",
          "data": {
            "text/plain": [
              "<IPython.core.display.HTML object>"
            ],
            "text/html": [
              "Syncing run <strong><a href='https://wandb.ai/shahi77-national-institute-of-technology-hamirpur/deep-learning-experiments/runs/0mwgycw2' target=\"_blank\">CIFAR-10-Softplus</a></strong> to <a href='https://wandb.ai/shahi77-national-institute-of-technology-hamirpur/deep-learning-experiments' target=\"_blank\">Weights & Biases</a> (<a href='https://wandb.me/developer-guide' target=\"_blank\">docs</a>)<br>Sweep page: <a href='https://wandb.ai/shahi77-national-institute-of-technology-hamirpur/deep-learning-experiments/sweeps/ntjma6uk' target=\"_blank\">https://wandb.ai/shahi77-national-institute-of-technology-hamirpur/deep-learning-experiments/sweeps/ntjma6uk</a>"
            ]
          },
          "metadata": {}
        },
        {
          "output_type": "display_data",
          "data": {
            "text/plain": [
              "<IPython.core.display.HTML object>"
            ],
            "text/html": [
              " View project at <a href='https://wandb.ai/shahi77-national-institute-of-technology-hamirpur/deep-learning-experiments' target=\"_blank\">https://wandb.ai/shahi77-national-institute-of-technology-hamirpur/deep-learning-experiments</a>"
            ]
          },
          "metadata": {}
        },
        {
          "output_type": "display_data",
          "data": {
            "text/plain": [
              "<IPython.core.display.HTML object>"
            ],
            "text/html": [
              " View sweep at <a href='https://wandb.ai/shahi77-national-institute-of-technology-hamirpur/deep-learning-experiments/sweeps/ntjma6uk' target=\"_blank\">https://wandb.ai/shahi77-national-institute-of-technology-hamirpur/deep-learning-experiments/sweeps/ntjma6uk</a>"
            ]
          },
          "metadata": {}
        },
        {
          "output_type": "display_data",
          "data": {
            "text/plain": [
              "<IPython.core.display.HTML object>"
            ],
            "text/html": [
              " View run at <a href='https://wandb.ai/shahi77-national-institute-of-technology-hamirpur/deep-learning-experiments/runs/0mwgycw2' target=\"_blank\">https://wandb.ai/shahi77-national-institute-of-technology-hamirpur/deep-learning-experiments/runs/0mwgycw2</a>"
            ]
          },
          "metadata": {}
        },
        {
          "output_type": "stream",
          "name": "stdout",
          "text": [
            "Epoch [1/5], Loss: 1288.8714, Accuracy: 0.4144\n",
            "Epoch [2/5], Loss: 1119.0952, Accuracy: 0.4939\n",
            "Epoch [3/5], Loss: 1038.7830, Accuracy: 0.5283\n",
            "Epoch [4/5], Loss: 975.5492, Accuracy: 0.5586\n",
            "Epoch [5/5], Loss: 927.4576, Accuracy: 0.5807\n"
          ]
        },
        {
          "output_type": "display_data",
          "data": {
            "text/plain": [
              "<IPython.core.display.HTML object>"
            ],
            "text/html": []
          },
          "metadata": {}
        },
        {
          "output_type": "display_data",
          "data": {
            "text/plain": [
              "<IPython.core.display.HTML object>"
            ],
            "text/html": [
              "<br>    <style><br>        .wandb-row {<br>            display: flex;<br>            flex-direction: row;<br>            flex-wrap: wrap;<br>            justify-content: flex-start;<br>            width: 100%;<br>        }<br>        .wandb-col {<br>            display: flex;<br>            flex-direction: column;<br>            flex-basis: 100%;<br>            flex: 1;<br>            padding: 10px;<br>        }<br>    </style><br><div class=\"wandb-row\"><div class=\"wandb-col\"><h3>Run history:</h3><br/><table class=\"wandb\"><tr><td>Accuracy</td><td>▁▄▆▇█</td></tr><tr><td>Epoch</td><td>▁▃▅▆█</td></tr><tr><td>Loss</td><td>█▅▃▂▁</td></tr></table><br/></div><div class=\"wandb-col\"><h3>Run summary:</h3><br/><table class=\"wandb\"><tr><td>Accuracy</td><td>0.5807</td></tr><tr><td>Activation Function</td><td>Softplus</td></tr><tr><td>Dataset</td><td>CIFAR-10</td></tr><tr><td>Epoch</td><td>5</td></tr><tr><td>Loss</td><td>1.18601</td></tr></table><br/></div></div>"
            ]
          },
          "metadata": {}
        },
        {
          "output_type": "display_data",
          "data": {
            "text/plain": [
              "<IPython.core.display.HTML object>"
            ],
            "text/html": [
              " View run <strong style=\"color:#cdcd00\">CIFAR-10-Softplus</strong> at: <a href='https://wandb.ai/shahi77-national-institute-of-technology-hamirpur/deep-learning-experiments/runs/0mwgycw2' target=\"_blank\">https://wandb.ai/shahi77-national-institute-of-technology-hamirpur/deep-learning-experiments/runs/0mwgycw2</a><br> View project at: <a href='https://wandb.ai/shahi77-national-institute-of-technology-hamirpur/deep-learning-experiments' target=\"_blank\">https://wandb.ai/shahi77-national-institute-of-technology-hamirpur/deep-learning-experiments</a><br>Synced 5 W&B file(s), 0 media file(s), 0 artifact file(s) and 0 other file(s)"
            ]
          },
          "metadata": {}
        },
        {
          "output_type": "display_data",
          "data": {
            "text/plain": [
              "<IPython.core.display.HTML object>"
            ],
            "text/html": [
              "Find logs at: <code>./wandb/run-20250206_163802-0mwgycw2/logs</code>"
            ]
          },
          "metadata": {}
        },
        {
          "output_type": "stream",
          "name": "stdout",
          "text": [
            "\n",
            "Training on CIFAR-10 with Activation: Swish\n"
          ]
        },
        {
          "output_type": "display_data",
          "data": {
            "text/plain": [
              "<IPython.core.display.HTML object>"
            ],
            "text/html": [
              "Changes to your `wandb` environment variables will be ignored because your `wandb` session has already started. For more information on how to modify your settings with `wandb.init()` arguments, please refer to <a href='https://wandb.me/wandb-init' target=\"_blank\">the W&B docs</a>."
            ]
          },
          "metadata": {}
        },
        {
          "output_type": "display_data",
          "data": {
            "text/plain": [
              "<IPython.core.display.HTML object>"
            ],
            "text/html": [
              "Ignoring project 'activation-functions-analysis' when running a sweep."
            ]
          },
          "metadata": {}
        },
        {
          "output_type": "display_data",
          "data": {
            "text/plain": [
              "<IPython.core.display.HTML object>"
            ],
            "text/html": [
              "Tracking run with wandb version 0.19.5"
            ]
          },
          "metadata": {}
        },
        {
          "output_type": "display_data",
          "data": {
            "text/plain": [
              "<IPython.core.display.HTML object>"
            ],
            "text/html": [
              "Run data is saved locally in <code>/content/wandb/run-20250206_163948-0mwgycw2</code>"
            ]
          },
          "metadata": {}
        },
        {
          "output_type": "display_data",
          "data": {
            "text/plain": [
              "<IPython.core.display.HTML object>"
            ],
            "text/html": [
              "Syncing run <strong><a href='https://wandb.ai/shahi77-national-institute-of-technology-hamirpur/deep-learning-experiments/runs/0mwgycw2' target=\"_blank\">CIFAR-10-Swish</a></strong> to <a href='https://wandb.ai/shahi77-national-institute-of-technology-hamirpur/deep-learning-experiments' target=\"_blank\">Weights & Biases</a> (<a href='https://wandb.me/developer-guide' target=\"_blank\">docs</a>)<br>Sweep page: <a href='https://wandb.ai/shahi77-national-institute-of-technology-hamirpur/deep-learning-experiments/sweeps/ntjma6uk' target=\"_blank\">https://wandb.ai/shahi77-national-institute-of-technology-hamirpur/deep-learning-experiments/sweeps/ntjma6uk</a>"
            ]
          },
          "metadata": {}
        },
        {
          "output_type": "display_data",
          "data": {
            "text/plain": [
              "<IPython.core.display.HTML object>"
            ],
            "text/html": [
              " View project at <a href='https://wandb.ai/shahi77-national-institute-of-technology-hamirpur/deep-learning-experiments' target=\"_blank\">https://wandb.ai/shahi77-national-institute-of-technology-hamirpur/deep-learning-experiments</a>"
            ]
          },
          "metadata": {}
        },
        {
          "output_type": "display_data",
          "data": {
            "text/plain": [
              "<IPython.core.display.HTML object>"
            ],
            "text/html": [
              " View sweep at <a href='https://wandb.ai/shahi77-national-institute-of-technology-hamirpur/deep-learning-experiments/sweeps/ntjma6uk' target=\"_blank\">https://wandb.ai/shahi77-national-institute-of-technology-hamirpur/deep-learning-experiments/sweeps/ntjma6uk</a>"
            ]
          },
          "metadata": {}
        },
        {
          "output_type": "display_data",
          "data": {
            "text/plain": [
              "<IPython.core.display.HTML object>"
            ],
            "text/html": [
              " View run at <a href='https://wandb.ai/shahi77-national-institute-of-technology-hamirpur/deep-learning-experiments/runs/0mwgycw2' target=\"_blank\">https://wandb.ai/shahi77-national-institute-of-technology-hamirpur/deep-learning-experiments/runs/0mwgycw2</a>"
            ]
          },
          "metadata": {}
        },
        {
          "output_type": "stream",
          "name": "stdout",
          "text": [
            "Epoch [1/5], Loss: 1273.5578, Accuracy: 0.4233\n",
            "Epoch [2/5], Loss: 1112.9610, Accuracy: 0.4985\n",
            "Epoch [3/5], Loss: 1038.7366, Accuracy: 0.5337\n",
            "Epoch [4/5], Loss: 980.9749, Accuracy: 0.5575\n",
            "Epoch [5/5], Loss: 933.1132, Accuracy: 0.5782\n"
          ]
        },
        {
          "output_type": "display_data",
          "data": {
            "text/plain": [
              "<IPython.core.display.HTML object>"
            ],
            "text/html": []
          },
          "metadata": {}
        },
        {
          "output_type": "display_data",
          "data": {
            "text/plain": [
              "<IPython.core.display.HTML object>"
            ],
            "text/html": [
              "<br>    <style><br>        .wandb-row {<br>            display: flex;<br>            flex-direction: row;<br>            flex-wrap: wrap;<br>            justify-content: flex-start;<br>            width: 100%;<br>        }<br>        .wandb-col {<br>            display: flex;<br>            flex-direction: column;<br>            flex-basis: 100%;<br>            flex: 1;<br>            padding: 10px;<br>        }<br>    </style><br><div class=\"wandb-row\"><div class=\"wandb-col\"><h3>Run history:</h3><br/><table class=\"wandb\"><tr><td>Accuracy</td><td>▁▄▆▇█</td></tr><tr><td>Epoch</td><td>▁▃▅▆█</td></tr><tr><td>Loss</td><td>█▅▃▂▁</td></tr></table><br/></div><div class=\"wandb-col\"><h3>Run summary:</h3><br/><table class=\"wandb\"><tr><td>Accuracy</td><td>0.57822</td></tr><tr><td>Activation Function</td><td>Swish</td></tr><tr><td>Dataset</td><td>CIFAR-10</td></tr><tr><td>Epoch</td><td>5</td></tr><tr><td>Loss</td><td>1.19324</td></tr></table><br/></div></div>"
            ]
          },
          "metadata": {}
        },
        {
          "output_type": "display_data",
          "data": {
            "text/plain": [
              "<IPython.core.display.HTML object>"
            ],
            "text/html": [
              " View run <strong style=\"color:#cdcd00\">CIFAR-10-Swish</strong> at: <a href='https://wandb.ai/shahi77-national-institute-of-technology-hamirpur/deep-learning-experiments/runs/0mwgycw2' target=\"_blank\">https://wandb.ai/shahi77-national-institute-of-technology-hamirpur/deep-learning-experiments/runs/0mwgycw2</a><br> View project at: <a href='https://wandb.ai/shahi77-national-institute-of-technology-hamirpur/deep-learning-experiments' target=\"_blank\">https://wandb.ai/shahi77-national-institute-of-technology-hamirpur/deep-learning-experiments</a><br>Synced 5 W&B file(s), 0 media file(s), 0 artifact file(s) and 0 other file(s)"
            ]
          },
          "metadata": {}
        },
        {
          "output_type": "display_data",
          "data": {
            "text/plain": [
              "<IPython.core.display.HTML object>"
            ],
            "text/html": [
              "Find logs at: <code>./wandb/run-20250206_163948-0mwgycw2/logs</code>"
            ]
          },
          "metadata": {}
        },
        {
          "output_type": "stream",
          "name": "stdout",
          "text": [
            "\n",
            "Training on CIFAR-10 with Activation: ESwish\n"
          ]
        },
        {
          "output_type": "display_data",
          "data": {
            "text/plain": [
              "<IPython.core.display.HTML object>"
            ],
            "text/html": [
              "Changes to your `wandb` environment variables will be ignored because your `wandb` session has already started. For more information on how to modify your settings with `wandb.init()` arguments, please refer to <a href='https://wandb.me/wandb-init' target=\"_blank\">the W&B docs</a>."
            ]
          },
          "metadata": {}
        },
        {
          "output_type": "display_data",
          "data": {
            "text/plain": [
              "<IPython.core.display.HTML object>"
            ],
            "text/html": [
              "Ignoring project 'activation-functions-analysis' when running a sweep."
            ]
          },
          "metadata": {}
        },
        {
          "output_type": "display_data",
          "data": {
            "text/plain": [
              "<IPython.core.display.HTML object>"
            ],
            "text/html": [
              "Tracking run with wandb version 0.19.5"
            ]
          },
          "metadata": {}
        },
        {
          "output_type": "display_data",
          "data": {
            "text/plain": [
              "<IPython.core.display.HTML object>"
            ],
            "text/html": [
              "Run data is saved locally in <code>/content/wandb/run-20250206_164137-0mwgycw2</code>"
            ]
          },
          "metadata": {}
        },
        {
          "output_type": "display_data",
          "data": {
            "text/plain": [
              "<IPython.core.display.HTML object>"
            ],
            "text/html": [
              "Syncing run <strong><a href='https://wandb.ai/shahi77-national-institute-of-technology-hamirpur/deep-learning-experiments/runs/0mwgycw2' target=\"_blank\">CIFAR-10-ESwish</a></strong> to <a href='https://wandb.ai/shahi77-national-institute-of-technology-hamirpur/deep-learning-experiments' target=\"_blank\">Weights & Biases</a> (<a href='https://wandb.me/developer-guide' target=\"_blank\">docs</a>)<br>Sweep page: <a href='https://wandb.ai/shahi77-national-institute-of-technology-hamirpur/deep-learning-experiments/sweeps/ntjma6uk' target=\"_blank\">https://wandb.ai/shahi77-national-institute-of-technology-hamirpur/deep-learning-experiments/sweeps/ntjma6uk</a>"
            ]
          },
          "metadata": {}
        },
        {
          "output_type": "display_data",
          "data": {
            "text/plain": [
              "<IPython.core.display.HTML object>"
            ],
            "text/html": [
              " View project at <a href='https://wandb.ai/shahi77-national-institute-of-technology-hamirpur/deep-learning-experiments' target=\"_blank\">https://wandb.ai/shahi77-national-institute-of-technology-hamirpur/deep-learning-experiments</a>"
            ]
          },
          "metadata": {}
        },
        {
          "output_type": "display_data",
          "data": {
            "text/plain": [
              "<IPython.core.display.HTML object>"
            ],
            "text/html": [
              " View sweep at <a href='https://wandb.ai/shahi77-national-institute-of-technology-hamirpur/deep-learning-experiments/sweeps/ntjma6uk' target=\"_blank\">https://wandb.ai/shahi77-national-institute-of-technology-hamirpur/deep-learning-experiments/sweeps/ntjma6uk</a>"
            ]
          },
          "metadata": {}
        },
        {
          "output_type": "display_data",
          "data": {
            "text/plain": [
              "<IPython.core.display.HTML object>"
            ],
            "text/html": [
              " View run at <a href='https://wandb.ai/shahi77-national-institute-of-technology-hamirpur/deep-learning-experiments/runs/0mwgycw2' target=\"_blank\">https://wandb.ai/shahi77-national-institute-of-technology-hamirpur/deep-learning-experiments/runs/0mwgycw2</a>"
            ]
          },
          "metadata": {}
        },
        {
          "output_type": "stream",
          "name": "stdout",
          "text": [
            "Epoch [1/5], Loss: 1273.4022, Accuracy: 0.4223\n",
            "Epoch [2/5], Loss: 1115.8402, Accuracy: 0.4962\n",
            "Epoch [3/5], Loss: 1042.8883, Accuracy: 0.5304\n",
            "Epoch [4/5], Loss: 987.8029, Accuracy: 0.5562\n",
            "Epoch [5/5], Loss: 941.5685, Accuracy: 0.5745\n"
          ]
        },
        {
          "output_type": "display_data",
          "data": {
            "text/plain": [
              "<IPython.core.display.HTML object>"
            ],
            "text/html": []
          },
          "metadata": {}
        },
        {
          "output_type": "display_data",
          "data": {
            "text/plain": [
              "<IPython.core.display.HTML object>"
            ],
            "text/html": [
              "<br>    <style><br>        .wandb-row {<br>            display: flex;<br>            flex-direction: row;<br>            flex-wrap: wrap;<br>            justify-content: flex-start;<br>            width: 100%;<br>        }<br>        .wandb-col {<br>            display: flex;<br>            flex-direction: column;<br>            flex-basis: 100%;<br>            flex: 1;<br>            padding: 10px;<br>        }<br>    </style><br><div class=\"wandb-row\"><div class=\"wandb-col\"><h3>Run history:</h3><br/><table class=\"wandb\"><tr><td>Accuracy</td><td>▁▄▆▇█</td></tr><tr><td>Epoch</td><td>▁▃▅▆█</td></tr><tr><td>Loss</td><td>█▅▃▂▁</td></tr></table><br/></div><div class=\"wandb-col\"><h3>Run summary:</h3><br/><table class=\"wandb\"><tr><td>Accuracy</td><td>0.57446</td></tr><tr><td>Activation Function</td><td>ESwish</td></tr><tr><td>Dataset</td><td>CIFAR-10</td></tr><tr><td>Epoch</td><td>5</td></tr><tr><td>Loss</td><td>1.20405</td></tr></table><br/></div></div>"
            ]
          },
          "metadata": {}
        },
        {
          "output_type": "display_data",
          "data": {
            "text/plain": [
              "<IPython.core.display.HTML object>"
            ],
            "text/html": [
              " View run <strong style=\"color:#cdcd00\">CIFAR-10-ESwish</strong> at: <a href='https://wandb.ai/shahi77-national-institute-of-technology-hamirpur/deep-learning-experiments/runs/0mwgycw2' target=\"_blank\">https://wandb.ai/shahi77-national-institute-of-technology-hamirpur/deep-learning-experiments/runs/0mwgycw2</a><br> View project at: <a href='https://wandb.ai/shahi77-national-institute-of-technology-hamirpur/deep-learning-experiments' target=\"_blank\">https://wandb.ai/shahi77-national-institute-of-technology-hamirpur/deep-learning-experiments</a><br>Synced 5 W&B file(s), 0 media file(s), 0 artifact file(s) and 0 other file(s)"
            ]
          },
          "metadata": {}
        },
        {
          "output_type": "display_data",
          "data": {
            "text/plain": [
              "<IPython.core.display.HTML object>"
            ],
            "text/html": [
              "Find logs at: <code>./wandb/run-20250206_164137-0mwgycw2/logs</code>"
            ]
          },
          "metadata": {}
        },
        {
          "output_type": "stream",
          "name": "stdout",
          "text": [
            "\n",
            "Training on CIFAR-10 with Activation: GELU\n"
          ]
        },
        {
          "output_type": "display_data",
          "data": {
            "text/plain": [
              "<IPython.core.display.HTML object>"
            ],
            "text/html": [
              "Changes to your `wandb` environment variables will be ignored because your `wandb` session has already started. For more information on how to modify your settings with `wandb.init()` arguments, please refer to <a href='https://wandb.me/wandb-init' target=\"_blank\">the W&B docs</a>."
            ]
          },
          "metadata": {}
        },
        {
          "output_type": "display_data",
          "data": {
            "text/plain": [
              "<IPython.core.display.HTML object>"
            ],
            "text/html": [
              "Ignoring project 'activation-functions-analysis' when running a sweep."
            ]
          },
          "metadata": {}
        },
        {
          "output_type": "display_data",
          "data": {
            "text/plain": [
              "<IPython.core.display.HTML object>"
            ],
            "text/html": [
              "Tracking run with wandb version 0.19.5"
            ]
          },
          "metadata": {}
        },
        {
          "output_type": "display_data",
          "data": {
            "text/plain": [
              "<IPython.core.display.HTML object>"
            ],
            "text/html": [
              "Run data is saved locally in <code>/content/wandb/run-20250206_164323-0mwgycw2</code>"
            ]
          },
          "metadata": {}
        },
        {
          "output_type": "display_data",
          "data": {
            "text/plain": [
              "<IPython.core.display.HTML object>"
            ],
            "text/html": [
              "Syncing run <strong><a href='https://wandb.ai/shahi77-national-institute-of-technology-hamirpur/deep-learning-experiments/runs/0mwgycw2' target=\"_blank\">CIFAR-10-GELU</a></strong> to <a href='https://wandb.ai/shahi77-national-institute-of-technology-hamirpur/deep-learning-experiments' target=\"_blank\">Weights & Biases</a> (<a href='https://wandb.me/developer-guide' target=\"_blank\">docs</a>)<br>Sweep page: <a href='https://wandb.ai/shahi77-national-institute-of-technology-hamirpur/deep-learning-experiments/sweeps/ntjma6uk' target=\"_blank\">https://wandb.ai/shahi77-national-institute-of-technology-hamirpur/deep-learning-experiments/sweeps/ntjma6uk</a>"
            ]
          },
          "metadata": {}
        },
        {
          "output_type": "display_data",
          "data": {
            "text/plain": [
              "<IPython.core.display.HTML object>"
            ],
            "text/html": [
              " View project at <a href='https://wandb.ai/shahi77-national-institute-of-technology-hamirpur/deep-learning-experiments' target=\"_blank\">https://wandb.ai/shahi77-national-institute-of-technology-hamirpur/deep-learning-experiments</a>"
            ]
          },
          "metadata": {}
        },
        {
          "output_type": "display_data",
          "data": {
            "text/plain": [
              "<IPython.core.display.HTML object>"
            ],
            "text/html": [
              " View sweep at <a href='https://wandb.ai/shahi77-national-institute-of-technology-hamirpur/deep-learning-experiments/sweeps/ntjma6uk' target=\"_blank\">https://wandb.ai/shahi77-national-institute-of-technology-hamirpur/deep-learning-experiments/sweeps/ntjma6uk</a>"
            ]
          },
          "metadata": {}
        },
        {
          "output_type": "display_data",
          "data": {
            "text/plain": [
              "<IPython.core.display.HTML object>"
            ],
            "text/html": [
              " View run at <a href='https://wandb.ai/shahi77-national-institute-of-technology-hamirpur/deep-learning-experiments/runs/0mwgycw2' target=\"_blank\">https://wandb.ai/shahi77-national-institute-of-technology-hamirpur/deep-learning-experiments/runs/0mwgycw2</a>"
            ]
          },
          "metadata": {}
        },
        {
          "output_type": "stream",
          "name": "stdout",
          "text": [
            "Epoch [1/5], Loss: 1281.6679, Accuracy: 0.4187\n",
            "Epoch [2/5], Loss: 1122.9775, Accuracy: 0.4931\n",
            "Epoch [3/5], Loss: 1050.5058, Accuracy: 0.5257\n",
            "Epoch [4/5], Loss: 995.7827, Accuracy: 0.5530\n",
            "Epoch [5/5], Loss: 950.7014, Accuracy: 0.5737\n"
          ]
        },
        {
          "output_type": "display_data",
          "data": {
            "text/plain": [
              "<IPython.core.display.HTML object>"
            ],
            "text/html": []
          },
          "metadata": {}
        },
        {
          "output_type": "display_data",
          "data": {
            "text/plain": [
              "<IPython.core.display.HTML object>"
            ],
            "text/html": [
              "<br>    <style><br>        .wandb-row {<br>            display: flex;<br>            flex-direction: row;<br>            flex-wrap: wrap;<br>            justify-content: flex-start;<br>            width: 100%;<br>        }<br>        .wandb-col {<br>            display: flex;<br>            flex-direction: column;<br>            flex-basis: 100%;<br>            flex: 1;<br>            padding: 10px;<br>        }<br>    </style><br><div class=\"wandb-row\"><div class=\"wandb-col\"><h3>Run history:</h3><br/><table class=\"wandb\"><tr><td>Accuracy</td><td>▁▄▆▇█</td></tr><tr><td>Epoch</td><td>▁▃▅▆█</td></tr><tr><td>Loss</td><td>█▅▃▂▁</td></tr></table><br/></div><div class=\"wandb-col\"><h3>Run summary:</h3><br/><table class=\"wandb\"><tr><td>Accuracy</td><td>0.57372</td></tr><tr><td>Activation Function</td><td>GELU</td></tr><tr><td>Dataset</td><td>CIFAR-10</td></tr><tr><td>Epoch</td><td>5</td></tr><tr><td>Loss</td><td>1.21573</td></tr></table><br/></div></div>"
            ]
          },
          "metadata": {}
        },
        {
          "output_type": "display_data",
          "data": {
            "text/plain": [
              "<IPython.core.display.HTML object>"
            ],
            "text/html": [
              " View run <strong style=\"color:#cdcd00\">CIFAR-10-GELU</strong> at: <a href='https://wandb.ai/shahi77-national-institute-of-technology-hamirpur/deep-learning-experiments/runs/0mwgycw2' target=\"_blank\">https://wandb.ai/shahi77-national-institute-of-technology-hamirpur/deep-learning-experiments/runs/0mwgycw2</a><br> View project at: <a href='https://wandb.ai/shahi77-national-institute-of-technology-hamirpur/deep-learning-experiments' target=\"_blank\">https://wandb.ai/shahi77-national-institute-of-technology-hamirpur/deep-learning-experiments</a><br>Synced 5 W&B file(s), 0 media file(s), 0 artifact file(s) and 0 other file(s)"
            ]
          },
          "metadata": {}
        },
        {
          "output_type": "display_data",
          "data": {
            "text/plain": [
              "<IPython.core.display.HTML object>"
            ],
            "text/html": [
              "Find logs at: <code>./wandb/run-20250206_164323-0mwgycw2/logs</code>"
            ]
          },
          "metadata": {}
        },
        {
          "output_type": "stream",
          "name": "stdout",
          "text": [
            "\n",
            "Training on CIFAR-10 with Activation: SELU\n"
          ]
        },
        {
          "output_type": "display_data",
          "data": {
            "text/plain": [
              "<IPython.core.display.HTML object>"
            ],
            "text/html": [
              "Changes to your `wandb` environment variables will be ignored because your `wandb` session has already started. For more information on how to modify your settings with `wandb.init()` arguments, please refer to <a href='https://wandb.me/wandb-init' target=\"_blank\">the W&B docs</a>."
            ]
          },
          "metadata": {}
        },
        {
          "output_type": "display_data",
          "data": {
            "text/plain": [
              "<IPython.core.display.HTML object>"
            ],
            "text/html": [
              "Ignoring project 'activation-functions-analysis' when running a sweep."
            ]
          },
          "metadata": {}
        },
        {
          "output_type": "display_data",
          "data": {
            "text/plain": [
              "<IPython.core.display.HTML object>"
            ],
            "text/html": [
              "Tracking run with wandb version 0.19.5"
            ]
          },
          "metadata": {}
        },
        {
          "output_type": "display_data",
          "data": {
            "text/plain": [
              "<IPython.core.display.HTML object>"
            ],
            "text/html": [
              "Run data is saved locally in <code>/content/wandb/run-20250206_164511-0mwgycw2</code>"
            ]
          },
          "metadata": {}
        },
        {
          "output_type": "display_data",
          "data": {
            "text/plain": [
              "<IPython.core.display.HTML object>"
            ],
            "text/html": [
              "Syncing run <strong><a href='https://wandb.ai/shahi77-national-institute-of-technology-hamirpur/deep-learning-experiments/runs/0mwgycw2' target=\"_blank\">CIFAR-10-SELU</a></strong> to <a href='https://wandb.ai/shahi77-national-institute-of-technology-hamirpur/deep-learning-experiments' target=\"_blank\">Weights & Biases</a> (<a href='https://wandb.me/developer-guide' target=\"_blank\">docs</a>)<br>Sweep page: <a href='https://wandb.ai/shahi77-national-institute-of-technology-hamirpur/deep-learning-experiments/sweeps/ntjma6uk' target=\"_blank\">https://wandb.ai/shahi77-national-institute-of-technology-hamirpur/deep-learning-experiments/sweeps/ntjma6uk</a>"
            ]
          },
          "metadata": {}
        },
        {
          "output_type": "display_data",
          "data": {
            "text/plain": [
              "<IPython.core.display.HTML object>"
            ],
            "text/html": [
              " View project at <a href='https://wandb.ai/shahi77-national-institute-of-technology-hamirpur/deep-learning-experiments' target=\"_blank\">https://wandb.ai/shahi77-national-institute-of-technology-hamirpur/deep-learning-experiments</a>"
            ]
          },
          "metadata": {}
        },
        {
          "output_type": "display_data",
          "data": {
            "text/plain": [
              "<IPython.core.display.HTML object>"
            ],
            "text/html": [
              " View sweep at <a href='https://wandb.ai/shahi77-national-institute-of-technology-hamirpur/deep-learning-experiments/sweeps/ntjma6uk' target=\"_blank\">https://wandb.ai/shahi77-national-institute-of-technology-hamirpur/deep-learning-experiments/sweeps/ntjma6uk</a>"
            ]
          },
          "metadata": {}
        },
        {
          "output_type": "display_data",
          "data": {
            "text/plain": [
              "<IPython.core.display.HTML object>"
            ],
            "text/html": [
              " View run at <a href='https://wandb.ai/shahi77-national-institute-of-technology-hamirpur/deep-learning-experiments/runs/0mwgycw2' target=\"_blank\">https://wandb.ai/shahi77-national-institute-of-technology-hamirpur/deep-learning-experiments/runs/0mwgycw2</a>"
            ]
          },
          "metadata": {}
        },
        {
          "output_type": "stream",
          "name": "stdout",
          "text": [
            "Epoch [1/5], Loss: 1289.2967, Accuracy: 0.4129\n",
            "Epoch [2/5], Loss: 1123.8529, Accuracy: 0.4890\n",
            "Epoch [3/5], Loss: 1047.7950, Accuracy: 0.5255\n",
            "Epoch [4/5], Loss: 986.2791, Accuracy: 0.5494\n",
            "Epoch [5/5], Loss: 942.4435, Accuracy: 0.5711\n"
          ]
        },
        {
          "output_type": "display_data",
          "data": {
            "text/plain": [
              "<IPython.core.display.HTML object>"
            ],
            "text/html": []
          },
          "metadata": {}
        },
        {
          "output_type": "display_data",
          "data": {
            "text/plain": [
              "<IPython.core.display.HTML object>"
            ],
            "text/html": [
              "<br>    <style><br>        .wandb-row {<br>            display: flex;<br>            flex-direction: row;<br>            flex-wrap: wrap;<br>            justify-content: flex-start;<br>            width: 100%;<br>        }<br>        .wandb-col {<br>            display: flex;<br>            flex-direction: column;<br>            flex-basis: 100%;<br>            flex: 1;<br>            padding: 10px;<br>        }<br>    </style><br><div class=\"wandb-row\"><div class=\"wandb-col\"><h3>Run history:</h3><br/><table class=\"wandb\"><tr><td>Accuracy</td><td>▁▄▆▇█</td></tr><tr><td>Epoch</td><td>▁▃▅▆█</td></tr><tr><td>Loss</td><td>█▅▃▂▁</td></tr></table><br/></div><div class=\"wandb-col\"><h3>Run summary:</h3><br/><table class=\"wandb\"><tr><td>Accuracy</td><td>0.57112</td></tr><tr><td>Activation Function</td><td>SELU</td></tr><tr><td>Dataset</td><td>CIFAR-10</td></tr><tr><td>Epoch</td><td>5</td></tr><tr><td>Loss</td><td>1.20517</td></tr></table><br/></div></div>"
            ]
          },
          "metadata": {}
        },
        {
          "output_type": "display_data",
          "data": {
            "text/plain": [
              "<IPython.core.display.HTML object>"
            ],
            "text/html": [
              " View run <strong style=\"color:#cdcd00\">CIFAR-10-SELU</strong> at: <a href='https://wandb.ai/shahi77-national-institute-of-technology-hamirpur/deep-learning-experiments/runs/0mwgycw2' target=\"_blank\">https://wandb.ai/shahi77-national-institute-of-technology-hamirpur/deep-learning-experiments/runs/0mwgycw2</a><br> View project at: <a href='https://wandb.ai/shahi77-national-institute-of-technology-hamirpur/deep-learning-experiments' target=\"_blank\">https://wandb.ai/shahi77-national-institute-of-technology-hamirpur/deep-learning-experiments</a><br>Synced 5 W&B file(s), 0 media file(s), 0 artifact file(s) and 0 other file(s)"
            ]
          },
          "metadata": {}
        },
        {
          "output_type": "display_data",
          "data": {
            "text/plain": [
              "<IPython.core.display.HTML object>"
            ],
            "text/html": [
              "Find logs at: <code>./wandb/run-20250206_164511-0mwgycw2/logs</code>"
            ]
          },
          "metadata": {}
        },
        {
          "output_type": "stream",
          "name": "stdout",
          "text": [
            "\n",
            "Training on CIFAR-100 with Activation: Sigmoid\n"
          ]
        },
        {
          "output_type": "display_data",
          "data": {
            "text/plain": [
              "<IPython.core.display.HTML object>"
            ],
            "text/html": [
              "Changes to your `wandb` environment variables will be ignored because your `wandb` session has already started. For more information on how to modify your settings with `wandb.init()` arguments, please refer to <a href='https://wandb.me/wandb-init' target=\"_blank\">the W&B docs</a>."
            ]
          },
          "metadata": {}
        },
        {
          "output_type": "display_data",
          "data": {
            "text/plain": [
              "<IPython.core.display.HTML object>"
            ],
            "text/html": [
              "Ignoring project 'activation-functions-analysis' when running a sweep."
            ]
          },
          "metadata": {}
        },
        {
          "output_type": "display_data",
          "data": {
            "text/plain": [
              "<IPython.core.display.HTML object>"
            ],
            "text/html": [
              "Tracking run with wandb version 0.19.5"
            ]
          },
          "metadata": {}
        },
        {
          "output_type": "display_data",
          "data": {
            "text/plain": [
              "<IPython.core.display.HTML object>"
            ],
            "text/html": [
              "Run data is saved locally in <code>/content/wandb/run-20250206_164700-0mwgycw2</code>"
            ]
          },
          "metadata": {}
        },
        {
          "output_type": "display_data",
          "data": {
            "text/plain": [
              "<IPython.core.display.HTML object>"
            ],
            "text/html": [
              "Syncing run <strong><a href='https://wandb.ai/shahi77-national-institute-of-technology-hamirpur/deep-learning-experiments/runs/0mwgycw2' target=\"_blank\">CIFAR-100-Sigmoid</a></strong> to <a href='https://wandb.ai/shahi77-national-institute-of-technology-hamirpur/deep-learning-experiments' target=\"_blank\">Weights & Biases</a> (<a href='https://wandb.me/developer-guide' target=\"_blank\">docs</a>)<br>Sweep page: <a href='https://wandb.ai/shahi77-national-institute-of-technology-hamirpur/deep-learning-experiments/sweeps/ntjma6uk' target=\"_blank\">https://wandb.ai/shahi77-national-institute-of-technology-hamirpur/deep-learning-experiments/sweeps/ntjma6uk</a>"
            ]
          },
          "metadata": {}
        },
        {
          "output_type": "display_data",
          "data": {
            "text/plain": [
              "<IPython.core.display.HTML object>"
            ],
            "text/html": [
              " View project at <a href='https://wandb.ai/shahi77-national-institute-of-technology-hamirpur/deep-learning-experiments' target=\"_blank\">https://wandb.ai/shahi77-national-institute-of-technology-hamirpur/deep-learning-experiments</a>"
            ]
          },
          "metadata": {}
        },
        {
          "output_type": "display_data",
          "data": {
            "text/plain": [
              "<IPython.core.display.HTML object>"
            ],
            "text/html": [
              " View sweep at <a href='https://wandb.ai/shahi77-national-institute-of-technology-hamirpur/deep-learning-experiments/sweeps/ntjma6uk' target=\"_blank\">https://wandb.ai/shahi77-national-institute-of-technology-hamirpur/deep-learning-experiments/sweeps/ntjma6uk</a>"
            ]
          },
          "metadata": {}
        },
        {
          "output_type": "display_data",
          "data": {
            "text/plain": [
              "<IPython.core.display.HTML object>"
            ],
            "text/html": [
              " View run at <a href='https://wandb.ai/shahi77-national-institute-of-technology-hamirpur/deep-learning-experiments/runs/0mwgycw2' target=\"_blank\">https://wandb.ai/shahi77-national-institute-of-technology-hamirpur/deep-learning-experiments/runs/0mwgycw2</a>"
            ]
          },
          "metadata": {}
        },
        {
          "output_type": "error",
          "ename": "IndexError",
          "evalue": "Target 45 is out of bounds.",
          "traceback": [
            "\u001b[0;31m---------------------------------------------------------------------------\u001b[0m",
            "\u001b[0;31mIndexError\u001b[0m                                Traceback (most recent call last)",
            "\u001b[0;32m<ipython-input-18-654d8f33db32>\u001b[0m in \u001b[0;36m<cell line: 0>\u001b[0;34m()\u001b[0m\n\u001b[1;32m     25\u001b[0m         \u001b[0mloss_fn\u001b[0m \u001b[0;34m=\u001b[0m \u001b[0mnn\u001b[0m\u001b[0;34m.\u001b[0m\u001b[0mCrossEntropyLoss\u001b[0m\u001b[0;34m(\u001b[0m\u001b[0;34m)\u001b[0m\u001b[0;34m\u001b[0m\u001b[0;34m\u001b[0m\u001b[0m\n\u001b[1;32m     26\u001b[0m \u001b[0;34m\u001b[0m\u001b[0m\n\u001b[0;32m---> 27\u001b[0;31m         \u001b[0mtrain_model\u001b[0m\u001b[0;34m(\u001b[0m\u001b[0mmodel\u001b[0m\u001b[0;34m,\u001b[0m \u001b[0mtrain_loader\u001b[0m\u001b[0;34m,\u001b[0m \u001b[0moptimizer\u001b[0m\u001b[0;34m,\u001b[0m \u001b[0mloss_fn\u001b[0m\u001b[0;34m,\u001b[0m \u001b[0mepochs\u001b[0m\u001b[0;34m=\u001b[0m\u001b[0;36m5\u001b[0m\u001b[0;34m,\u001b[0m \u001b[0mactivation_name\u001b[0m\u001b[0;34m=\u001b[0m\u001b[0mact_name\u001b[0m\u001b[0;34m,\u001b[0m \u001b[0mdataset_name\u001b[0m\u001b[0;34m=\u001b[0m\u001b[0mdataset_name\u001b[0m\u001b[0;34m)\u001b[0m\u001b[0;34m\u001b[0m\u001b[0;34m\u001b[0m\u001b[0m\n\u001b[0m\u001b[1;32m     28\u001b[0m \u001b[0;34m\u001b[0m\u001b[0m\n\u001b[1;32m     29\u001b[0m         \u001b[0mwandb\u001b[0m\u001b[0;34m.\u001b[0m\u001b[0mfinish\u001b[0m\u001b[0;34m(\u001b[0m\u001b[0;34m)\u001b[0m  \u001b[0;31m# Finish logging\u001b[0m\u001b[0;34m\u001b[0m\u001b[0;34m\u001b[0m\u001b[0m\n",
            "\u001b[0;32m<ipython-input-14-a5ca6b851363>\u001b[0m in \u001b[0;36mtrain_model\u001b[0;34m(model, train_loader, optimizer, loss_fn, epochs, activation_name, dataset_name)\u001b[0m\n\u001b[1;32m      9\u001b[0m             \u001b[0moptimizer\u001b[0m\u001b[0;34m.\u001b[0m\u001b[0mzero_grad\u001b[0m\u001b[0;34m(\u001b[0m\u001b[0;34m)\u001b[0m\u001b[0;34m\u001b[0m\u001b[0;34m\u001b[0m\u001b[0m\n\u001b[1;32m     10\u001b[0m             \u001b[0moutputs\u001b[0m \u001b[0;34m=\u001b[0m \u001b[0mmodel\u001b[0m\u001b[0;34m(\u001b[0m\u001b[0mimages\u001b[0m\u001b[0;34m)\u001b[0m\u001b[0;34m\u001b[0m\u001b[0;34m\u001b[0m\u001b[0m\n\u001b[0;32m---> 11\u001b[0;31m             \u001b[0mloss\u001b[0m \u001b[0;34m=\u001b[0m \u001b[0mloss_fn\u001b[0m\u001b[0;34m(\u001b[0m\u001b[0moutputs\u001b[0m\u001b[0;34m,\u001b[0m \u001b[0mlabels\u001b[0m\u001b[0;34m)\u001b[0m\u001b[0;34m\u001b[0m\u001b[0;34m\u001b[0m\u001b[0m\n\u001b[0m\u001b[1;32m     12\u001b[0m             \u001b[0mloss\u001b[0m\u001b[0;34m.\u001b[0m\u001b[0mbackward\u001b[0m\u001b[0;34m(\u001b[0m\u001b[0;34m)\u001b[0m\u001b[0;34m\u001b[0m\u001b[0;34m\u001b[0m\u001b[0m\n\u001b[1;32m     13\u001b[0m             \u001b[0moptimizer\u001b[0m\u001b[0;34m.\u001b[0m\u001b[0mstep\u001b[0m\u001b[0;34m(\u001b[0m\u001b[0;34m)\u001b[0m\u001b[0;34m\u001b[0m\u001b[0;34m\u001b[0m\u001b[0m\n",
            "\u001b[0;32m/usr/local/lib/python3.11/dist-packages/torch/nn/modules/module.py\u001b[0m in \u001b[0;36m_wrapped_call_impl\u001b[0;34m(self, *args, **kwargs)\u001b[0m\n\u001b[1;32m   1734\u001b[0m             \u001b[0;32mreturn\u001b[0m \u001b[0mself\u001b[0m\u001b[0;34m.\u001b[0m\u001b[0m_compiled_call_impl\u001b[0m\u001b[0;34m(\u001b[0m\u001b[0;34m*\u001b[0m\u001b[0margs\u001b[0m\u001b[0;34m,\u001b[0m \u001b[0;34m**\u001b[0m\u001b[0mkwargs\u001b[0m\u001b[0;34m)\u001b[0m  \u001b[0;31m# type: ignore[misc]\u001b[0m\u001b[0;34m\u001b[0m\u001b[0;34m\u001b[0m\u001b[0m\n\u001b[1;32m   1735\u001b[0m         \u001b[0;32melse\u001b[0m\u001b[0;34m:\u001b[0m\u001b[0;34m\u001b[0m\u001b[0;34m\u001b[0m\u001b[0m\n\u001b[0;32m-> 1736\u001b[0;31m             \u001b[0;32mreturn\u001b[0m \u001b[0mself\u001b[0m\u001b[0;34m.\u001b[0m\u001b[0m_call_impl\u001b[0m\u001b[0;34m(\u001b[0m\u001b[0;34m*\u001b[0m\u001b[0margs\u001b[0m\u001b[0;34m,\u001b[0m \u001b[0;34m**\u001b[0m\u001b[0mkwargs\u001b[0m\u001b[0;34m)\u001b[0m\u001b[0;34m\u001b[0m\u001b[0;34m\u001b[0m\u001b[0m\n\u001b[0m\u001b[1;32m   1737\u001b[0m \u001b[0;34m\u001b[0m\u001b[0m\n\u001b[1;32m   1738\u001b[0m     \u001b[0;31m# torchrec tests the code consistency with the following code\u001b[0m\u001b[0;34m\u001b[0m\u001b[0;34m\u001b[0m\u001b[0m\n",
            "\u001b[0;32m/usr/local/lib/python3.11/dist-packages/torch/nn/modules/module.py\u001b[0m in \u001b[0;36m_call_impl\u001b[0;34m(self, *args, **kwargs)\u001b[0m\n\u001b[1;32m   1745\u001b[0m                 \u001b[0;32mor\u001b[0m \u001b[0m_global_backward_pre_hooks\u001b[0m \u001b[0;32mor\u001b[0m \u001b[0m_global_backward_hooks\u001b[0m\u001b[0;34m\u001b[0m\u001b[0;34m\u001b[0m\u001b[0m\n\u001b[1;32m   1746\u001b[0m                 or _global_forward_hooks or _global_forward_pre_hooks):\n\u001b[0;32m-> 1747\u001b[0;31m             \u001b[0;32mreturn\u001b[0m \u001b[0mforward_call\u001b[0m\u001b[0;34m(\u001b[0m\u001b[0;34m*\u001b[0m\u001b[0margs\u001b[0m\u001b[0;34m,\u001b[0m \u001b[0;34m**\u001b[0m\u001b[0mkwargs\u001b[0m\u001b[0;34m)\u001b[0m\u001b[0;34m\u001b[0m\u001b[0;34m\u001b[0m\u001b[0m\n\u001b[0m\u001b[1;32m   1748\u001b[0m \u001b[0;34m\u001b[0m\u001b[0m\n\u001b[1;32m   1749\u001b[0m         \u001b[0mresult\u001b[0m \u001b[0;34m=\u001b[0m \u001b[0;32mNone\u001b[0m\u001b[0;34m\u001b[0m\u001b[0;34m\u001b[0m\u001b[0m\n",
            "\u001b[0;32m/usr/local/lib/python3.11/dist-packages/torch/nn/modules/loss.py\u001b[0m in \u001b[0;36mforward\u001b[0;34m(self, input, target)\u001b[0m\n\u001b[1;32m   1291\u001b[0m \u001b[0;34m\u001b[0m\u001b[0m\n\u001b[1;32m   1292\u001b[0m     \u001b[0;32mdef\u001b[0m \u001b[0mforward\u001b[0m\u001b[0;34m(\u001b[0m\u001b[0mself\u001b[0m\u001b[0;34m,\u001b[0m \u001b[0minput\u001b[0m\u001b[0;34m:\u001b[0m \u001b[0mTensor\u001b[0m\u001b[0;34m,\u001b[0m \u001b[0mtarget\u001b[0m\u001b[0;34m:\u001b[0m \u001b[0mTensor\u001b[0m\u001b[0;34m)\u001b[0m \u001b[0;34m->\u001b[0m \u001b[0mTensor\u001b[0m\u001b[0;34m:\u001b[0m\u001b[0;34m\u001b[0m\u001b[0;34m\u001b[0m\u001b[0m\n\u001b[0;32m-> 1293\u001b[0;31m         return F.cross_entropy(\n\u001b[0m\u001b[1;32m   1294\u001b[0m             \u001b[0minput\u001b[0m\u001b[0;34m,\u001b[0m\u001b[0;34m\u001b[0m\u001b[0;34m\u001b[0m\u001b[0m\n\u001b[1;32m   1295\u001b[0m             \u001b[0mtarget\u001b[0m\u001b[0;34m,\u001b[0m\u001b[0;34m\u001b[0m\u001b[0;34m\u001b[0m\u001b[0m\n",
            "\u001b[0;32m/usr/local/lib/python3.11/dist-packages/torch/nn/functional.py\u001b[0m in \u001b[0;36mcross_entropy\u001b[0;34m(input, target, weight, size_average, ignore_index, reduce, reduction, label_smoothing)\u001b[0m\n\u001b[1;32m   3477\u001b[0m     \u001b[0;32mif\u001b[0m \u001b[0msize_average\u001b[0m \u001b[0;32mis\u001b[0m \u001b[0;32mnot\u001b[0m \u001b[0;32mNone\u001b[0m \u001b[0;32mor\u001b[0m \u001b[0mreduce\u001b[0m \u001b[0;32mis\u001b[0m \u001b[0;32mnot\u001b[0m \u001b[0;32mNone\u001b[0m\u001b[0;34m:\u001b[0m\u001b[0;34m\u001b[0m\u001b[0;34m\u001b[0m\u001b[0m\n\u001b[1;32m   3478\u001b[0m         \u001b[0mreduction\u001b[0m \u001b[0;34m=\u001b[0m \u001b[0m_Reduction\u001b[0m\u001b[0;34m.\u001b[0m\u001b[0mlegacy_get_string\u001b[0m\u001b[0;34m(\u001b[0m\u001b[0msize_average\u001b[0m\u001b[0;34m,\u001b[0m \u001b[0mreduce\u001b[0m\u001b[0;34m)\u001b[0m\u001b[0;34m\u001b[0m\u001b[0;34m\u001b[0m\u001b[0m\n\u001b[0;32m-> 3479\u001b[0;31m     return torch._C._nn.cross_entropy_loss(\n\u001b[0m\u001b[1;32m   3480\u001b[0m         \u001b[0minput\u001b[0m\u001b[0;34m,\u001b[0m\u001b[0;34m\u001b[0m\u001b[0;34m\u001b[0m\u001b[0m\n\u001b[1;32m   3481\u001b[0m         \u001b[0mtarget\u001b[0m\u001b[0;34m,\u001b[0m\u001b[0;34m\u001b[0m\u001b[0;34m\u001b[0m\u001b[0m\n",
            "\u001b[0;31mIndexError\u001b[0m: Target 45 is out of bounds."
          ]
        }
      ]
    },
    {
      "cell_type": "code",
      "source": [
        "from torchvision import models\n",
        "\n",
        "architectures = {\n",
        "    \"ResNet\": models.resnet18(pretrained=True),\n",
        "    \"LeNet\": models.alexnet(pretrained=True),\n",
        "    \"MobileNet\": models.mobilenet_v2(pretrained=True),\n",
        "    \"AlexNet\": models.alexnet(pretrained=True)\n",
        "}\n",
        "\n",
        "def modify_architecture(model, activation_fn):\n",
        "    \"\"\"Replaces all activation functions in a model with the specified activation function.\"\"\"\n",
        "    for name, module in model.named_modules():\n",
        "        if isinstance(module, (nn.ReLU, nn.LeakyReLU, nn.GELU)):  # Include other activations\n",
        "            parent_name = name.rsplit('.', 1)[0] if '.' in name else ''\n",
        "            if parent_name:\n",
        "                parent_module = dict(model.named_modules())[parent_name]\n",
        "                setattr(parent_module, name.split('.')[-1], activation_fn())\n",
        "            else:\n",
        "                setattr(model, name, activation_fn())  # For top-level modules\n",
        "    return model\n",
        "\n",
        "\n",
        "for arch_name, arch_model in architectures.items():\n",
        "    for act_name, act_func in activations.items():\n",
        "        print(f\"\\nTraining {arch_name} with Activation: {act_name}\")\n",
        "\n",
        "        wandb.init(project=\"deep-architectures-analysis\", name=f\"{arch_name}-{act_name}\")\n",
        "\n",
        "        # Modify activation functions\n",
        "        modified_model = modify_architecture(arch_model, act_func)\n",
        "\n",
        "        # Adjust output layer for CIFAR-10 (10 classes instead of 1000)\n",
        "        if isinstance(modified_model, models.ResNet):\n",
        "            modified_model.fc = nn.Linear(modified_model.fc.in_features, 10)\n",
        "        elif isinstance(modified_model, models.AlexNet) or isinstance(modified_model, models.MobileNetV2):\n",
        "            modified_model.classifier[-1] = nn.Linear(modified_model.classifier[-1].in_features, 10)\n",
        "\n",
        "        train_model(modified_model, train_loader, torch.optim.Adam(modified_model.parameters(), lr=0.001), nn.CrossEntropyLoss(), epochs=5, activation_name=act_name, dataset_name=\"CIFAR-10\")\n",
        "\n",
        "        wandb.finish()\n",
        "\n"
      ],
      "metadata": {
        "colab": {
          "base_uri": "https://localhost:8080/",
          "height": 425
        },
        "id": "hIkV5Hf9mLgH",
        "outputId": "1cd80b2b-f0b7-408c-d77b-a8ccfe75ef70"
      },
      "execution_count": null,
      "outputs": [
        {
          "output_type": "stream",
          "name": "stdout",
          "text": [
            "\n",
            "Training ResNet with Activation: Sigmoid\n"
          ]
        },
        {
          "output_type": "display_data",
          "data": {
            "text/plain": [
              "<IPython.core.display.HTML object>"
            ],
            "text/html": [
              "Changes to your `wandb` environment variables will be ignored because your `wandb` session has already started. For more information on how to modify your settings with `wandb.init()` arguments, please refer to <a href='https://wandb.me/wandb-init' target=\"_blank\">the W&B docs</a>."
            ]
          },
          "metadata": {}
        },
        {
          "output_type": "display_data",
          "data": {
            "text/plain": [
              "<IPython.core.display.HTML object>"
            ],
            "text/html": [
              "Ignoring project 'deep-architectures-analysis' when running a sweep."
            ]
          },
          "metadata": {}
        },
        {
          "output_type": "error",
          "ename": "TypeError",
          "evalue": "Sigmoid.forward() missing 1 required positional argument: 'input'",
          "traceback": [
            "\u001b[0;31m---------------------------------------------------------------------------\u001b[0m",
            "\u001b[0;31mTypeError\u001b[0m                                 Traceback (most recent call last)",
            "\u001b[0;32m<ipython-input-19-ccb8b7ebe04a>\u001b[0m in \u001b[0;36m<cell line: 0>\u001b[0;34m()\u001b[0m\n\u001b[1;32m     28\u001b[0m \u001b[0;34m\u001b[0m\u001b[0m\n\u001b[1;32m     29\u001b[0m         \u001b[0;31m# Modify activation functions\u001b[0m\u001b[0;34m\u001b[0m\u001b[0;34m\u001b[0m\u001b[0m\n\u001b[0;32m---> 30\u001b[0;31m         \u001b[0mmodified_model\u001b[0m \u001b[0;34m=\u001b[0m \u001b[0mmodify_architecture\u001b[0m\u001b[0;34m(\u001b[0m\u001b[0march_model\u001b[0m\u001b[0;34m,\u001b[0m \u001b[0mact_func\u001b[0m\u001b[0;34m)\u001b[0m\u001b[0;34m\u001b[0m\u001b[0;34m\u001b[0m\u001b[0m\n\u001b[0m\u001b[1;32m     31\u001b[0m \u001b[0;34m\u001b[0m\u001b[0m\n\u001b[1;32m     32\u001b[0m         \u001b[0;31m# Adjust output layer for CIFAR-10 (10 classes instead of 1000)\u001b[0m\u001b[0;34m\u001b[0m\u001b[0;34m\u001b[0m\u001b[0m\n",
            "\u001b[0;32m<ipython-input-19-ccb8b7ebe04a>\u001b[0m in \u001b[0;36mmodify_architecture\u001b[0;34m(model, activation_fn)\u001b[0m\n\u001b[1;32m     17\u001b[0m                 \u001b[0msetattr\u001b[0m\u001b[0;34m(\u001b[0m\u001b[0mparent_module\u001b[0m\u001b[0;34m,\u001b[0m \u001b[0mname\u001b[0m\u001b[0;34m.\u001b[0m\u001b[0msplit\u001b[0m\u001b[0;34m(\u001b[0m\u001b[0;34m'.'\u001b[0m\u001b[0;34m)\u001b[0m\u001b[0;34m[\u001b[0m\u001b[0;34m-\u001b[0m\u001b[0;36m1\u001b[0m\u001b[0;34m]\u001b[0m\u001b[0;34m,\u001b[0m \u001b[0mactivation_fn\u001b[0m\u001b[0;34m(\u001b[0m\u001b[0;34m)\u001b[0m\u001b[0;34m)\u001b[0m\u001b[0;34m\u001b[0m\u001b[0;34m\u001b[0m\u001b[0m\n\u001b[1;32m     18\u001b[0m             \u001b[0;32melse\u001b[0m\u001b[0;34m:\u001b[0m\u001b[0;34m\u001b[0m\u001b[0;34m\u001b[0m\u001b[0m\n\u001b[0;32m---> 19\u001b[0;31m                 \u001b[0msetattr\u001b[0m\u001b[0;34m(\u001b[0m\u001b[0mmodel\u001b[0m\u001b[0;34m,\u001b[0m \u001b[0mname\u001b[0m\u001b[0;34m,\u001b[0m \u001b[0mactivation_fn\u001b[0m\u001b[0;34m(\u001b[0m\u001b[0;34m)\u001b[0m\u001b[0;34m)\u001b[0m  \u001b[0;31m# For top-level modules\u001b[0m\u001b[0;34m\u001b[0m\u001b[0;34m\u001b[0m\u001b[0m\n\u001b[0m\u001b[1;32m     20\u001b[0m     \u001b[0;32mreturn\u001b[0m \u001b[0mmodel\u001b[0m\u001b[0;34m\u001b[0m\u001b[0;34m\u001b[0m\u001b[0m\n\u001b[1;32m     21\u001b[0m \u001b[0;34m\u001b[0m\u001b[0m\n",
            "\u001b[0;32m/usr/local/lib/python3.11/dist-packages/torch/nn/modules/module.py\u001b[0m in \u001b[0;36m_wrapped_call_impl\u001b[0;34m(self, *args, **kwargs)\u001b[0m\n\u001b[1;32m   1734\u001b[0m             \u001b[0;32mreturn\u001b[0m \u001b[0mself\u001b[0m\u001b[0;34m.\u001b[0m\u001b[0m_compiled_call_impl\u001b[0m\u001b[0;34m(\u001b[0m\u001b[0;34m*\u001b[0m\u001b[0margs\u001b[0m\u001b[0;34m,\u001b[0m \u001b[0;34m**\u001b[0m\u001b[0mkwargs\u001b[0m\u001b[0;34m)\u001b[0m  \u001b[0;31m# type: ignore[misc]\u001b[0m\u001b[0;34m\u001b[0m\u001b[0;34m\u001b[0m\u001b[0m\n\u001b[1;32m   1735\u001b[0m         \u001b[0;32melse\u001b[0m\u001b[0;34m:\u001b[0m\u001b[0;34m\u001b[0m\u001b[0;34m\u001b[0m\u001b[0m\n\u001b[0;32m-> 1736\u001b[0;31m             \u001b[0;32mreturn\u001b[0m \u001b[0mself\u001b[0m\u001b[0;34m.\u001b[0m\u001b[0m_call_impl\u001b[0m\u001b[0;34m(\u001b[0m\u001b[0;34m*\u001b[0m\u001b[0margs\u001b[0m\u001b[0;34m,\u001b[0m \u001b[0;34m**\u001b[0m\u001b[0mkwargs\u001b[0m\u001b[0;34m)\u001b[0m\u001b[0;34m\u001b[0m\u001b[0;34m\u001b[0m\u001b[0m\n\u001b[0m\u001b[1;32m   1737\u001b[0m \u001b[0;34m\u001b[0m\u001b[0m\n\u001b[1;32m   1738\u001b[0m     \u001b[0;31m# torchrec tests the code consistency with the following code\u001b[0m\u001b[0;34m\u001b[0m\u001b[0;34m\u001b[0m\u001b[0m\n",
            "\u001b[0;32m/usr/local/lib/python3.11/dist-packages/torch/nn/modules/module.py\u001b[0m in \u001b[0;36m_call_impl\u001b[0;34m(self, *args, **kwargs)\u001b[0m\n\u001b[1;32m   1745\u001b[0m                 \u001b[0;32mor\u001b[0m \u001b[0m_global_backward_pre_hooks\u001b[0m \u001b[0;32mor\u001b[0m \u001b[0m_global_backward_hooks\u001b[0m\u001b[0;34m\u001b[0m\u001b[0;34m\u001b[0m\u001b[0m\n\u001b[1;32m   1746\u001b[0m                 or _global_forward_hooks or _global_forward_pre_hooks):\n\u001b[0;32m-> 1747\u001b[0;31m             \u001b[0;32mreturn\u001b[0m \u001b[0mforward_call\u001b[0m\u001b[0;34m(\u001b[0m\u001b[0;34m*\u001b[0m\u001b[0margs\u001b[0m\u001b[0;34m,\u001b[0m \u001b[0;34m**\u001b[0m\u001b[0mkwargs\u001b[0m\u001b[0;34m)\u001b[0m\u001b[0;34m\u001b[0m\u001b[0;34m\u001b[0m\u001b[0m\n\u001b[0m\u001b[1;32m   1748\u001b[0m \u001b[0;34m\u001b[0m\u001b[0m\n\u001b[1;32m   1749\u001b[0m         \u001b[0mresult\u001b[0m \u001b[0;34m=\u001b[0m \u001b[0;32mNone\u001b[0m\u001b[0;34m\u001b[0m\u001b[0;34m\u001b[0m\u001b[0m\n",
            "\u001b[0;31mTypeError\u001b[0m: Sigmoid.forward() missing 1 required positional argument: 'input'"
          ]
        }
      ]
    }
  ]
}