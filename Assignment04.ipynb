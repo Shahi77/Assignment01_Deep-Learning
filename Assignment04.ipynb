{
  "nbformat": 4,
  "nbformat_minor": 0,
  "metadata": {
    "colab": {
      "provenance": [],
      "authorship_tag": "ABX9TyP0hmcKkiJ4Dv+IWnVIQsDW",
      "include_colab_link": true
    },
    "kernelspec": {
      "name": "python3",
      "display_name": "Python 3"
    },
    "language_info": {
      "name": "python"
    }
  },
  "cells": [
    {
      "cell_type": "markdown",
      "metadata": {
        "id": "view-in-github",
        "colab_type": "text"
      },
      "source": [
        "<a href=\"https://colab.research.google.com/github/Shahi77/DeepLearning_Assignments/blob/main/Assignment04.ipynb\" target=\"_parent\"><img src=\"https://colab.research.google.com/assets/colab-badge.svg\" alt=\"Open In Colab\"/></a>"
      ]
    },
    {
      "cell_type": "markdown",
      "source": [
        "1. Implement the dropout function for a single layer. Draw samples from the uniform distribution S[0,1] . Keep those nodes for which the corresponding sample is greater than p probability , dropping the rest. Implement a dropout_layer function that drops out the elements in the tensor input X with probability dropout, rescaling the remainder. Test the dropout layer with few examples"
      ],
      "metadata": {
        "id": "Wo9YdB-kdXYl"
      }
    },
    {
      "cell_type": "code",
      "execution_count": null,
      "metadata": {
        "id": "nMPwz5Z6At7m",
        "colab": {
          "base_uri": "https://localhost:8080/"
        },
        "outputId": "31e08c11-299d-401e-fc02-4a3252279bac"
      },
      "outputs": [
        {
          "output_type": "stream",
          "name": "stdout",
          "text": [
            "Dropout Probability: 0.0\n",
            "Dropout Probability: 0.3\n",
            "Original Input:\n",
            "tensor([[1., 2., 3.],\n",
            "        [4., 5., 6.],\n",
            "        [7., 8., 9.]])\n",
            "Generated Mask:\n",
            "tensor([[1., 1., 1.],\n",
            "        [1., 1., 1.],\n",
            "        [0., 1., 1.]])\n",
            "Dropout Applied Output:\n",
            "tensor([[ 1.4286,  2.8571,  4.2857],\n",
            "        [ 5.7143,  7.1429,  8.5714],\n",
            "        [ 0.0000, 11.4286, 12.8571]])\n",
            "Percentage of dropped values: 11.11%\n",
            "Mean of input: 5.0000, Mean of output: 6.0317\n",
            "-\n",
            "Dropout Probability: 0.5\n",
            "Original Input:\n",
            "tensor([[1., 2., 3.],\n",
            "        [4., 5., 6.],\n",
            "        [7., 8., 9.]])\n",
            "Generated Mask:\n",
            "tensor([[0., 1., 1.],\n",
            "        [1., 1., 1.],\n",
            "        [0., 1., 1.]])\n",
            "Dropout Applied Output:\n",
            "tensor([[ 0.,  4.,  6.],\n",
            "        [ 8., 10., 12.],\n",
            "        [ 0., 16., 18.]])\n",
            "Percentage of dropped values: 22.22%\n",
            "Mean of input: 5.0000, Mean of output: 8.2222\n",
            "-\n",
            "Dropout Probability: 0.8\n",
            "Original Input:\n",
            "tensor([[1., 2., 3.],\n",
            "        [4., 5., 6.],\n",
            "        [7., 8., 9.]])\n",
            "Generated Mask:\n",
            "tensor([[0., 0., 0.],\n",
            "        [0., 0., 1.],\n",
            "        [0., 0., 0.]])\n",
            "Dropout Applied Output:\n",
            "tensor([[ 0.,  0.,  0.],\n",
            "        [ 0.,  0., 30.],\n",
            "        [ 0.,  0.,  0.]])\n",
            "Percentage of dropped values: 88.89%\n",
            "Mean of input: 5.0000, Mean of output: 3.3333\n",
            "-\n"
          ]
        }
      ],
      "source": [
        "import torch\n",
        "import torch.nn.functional as F\n",
        "\n",
        "def dropout_layer(X: torch.Tensor, dropout: float) -> torch.Tensor:\n",
        "    \"\"\"\n",
        "    Applies dropout to a given input tensor X.\n",
        "\n",
        "    Parameters:\n",
        "    X (torch.Tensor): Input tensor.\n",
        "    dropout (float): Dropout probability (0 <= dropout < 1). Higher means more units dropped.\n",
        "\n",
        "    Returns:\n",
        "    torch.Tensor: Tensor after applying dropout (scaled appropriately).\n",
        "    \"\"\"\n",
        "    assert 0 <= dropout < 1, \"Dropout probability must be in the range [0, 1).\"\n",
        "\n",
        "    if dropout == 0:\n",
        "        return X  # No dropout applied\n",
        "\n",
        "    # Generate a mask with the same shape as X, using uniform distribution\n",
        "    mask = (torch.rand_like(X) > dropout).float()\n",
        "\n",
        "    # Scale the remaining elements\n",
        "    output = (X * mask) / (1.0 - dropout)\n",
        "\n",
        "    # Debugging info\n",
        "    print(\"Original Input:\")\n",
        "    print(X)\n",
        "    print(\"Generated Mask:\")\n",
        "    print(mask)\n",
        "    print(\"Dropout Applied Output:\")\n",
        "    print(output)\n",
        "    print(f\"Percentage of dropped values: {100 * (1 - mask.mean().item()):.2f}%\")\n",
        "    print(f\"Mean of input: {X.mean().item():.4f}, Mean of output: {output.mean().item():.4f}\")\n",
        "    print(\"-\")\n",
        "\n",
        "    return output\n",
        "\n",
        "# Testing the dropout layer with a few examples\n",
        "if __name__ == \"__main__\":\n",
        "    torch.manual_seed(42)  # For reproducibility\n",
        "\n",
        "    # Example input tensor\n",
        "    X = torch.tensor([[1.0, 2.0, 3.0],\n",
        "                      [4.0, 5.0, 6.0],\n",
        "                      [7.0, 8.0, 9.0]])\n",
        "\n",
        "    dropout_rates = [0.0, 0.3, 0.5, 0.8]\n",
        "\n",
        "    for p in dropout_rates:\n",
        "        print(f\"Dropout Probability: {p}\")\n",
        "        dropout_layer(X, p)\n"
      ]
    },
    {
      "cell_type": "markdown",
      "source": [
        "2. Implement Dropout layer in neural network model after every fully connected layer"
      ],
      "metadata": {
        "id": "G5bzsnkdfo4Y"
      }
    },
    {
      "cell_type": "code",
      "source": [
        "import torch\n",
        "import torch.nn as nn\n",
        "import torch.nn.functional as F\n",
        "\n",
        "class NeuralNetwork(nn.Module):\n",
        "    def __init__(self, input_size, hidden_size, output_size, dropout_prob):\n",
        "        super(NeuralNetwork, self).__init__()\n",
        "        self.fc1 = nn.Linear(input_size, hidden_size)\n",
        "        self.dropout1 = nn.Dropout(p=dropout_prob)\n",
        "        self.fc2 = nn.Linear(hidden_size, hidden_size)\n",
        "        self.dropout2 = nn.Dropout(p=dropout_prob)\n",
        "        self.fc3 = nn.Linear(hidden_size, output_size)\n",
        "\n",
        "    def forward(self, x):\n",
        "        x = F.relu(self.fc1(x))\n",
        "        x = self.dropout1(x)\n",
        "        x = F.relu(self.fc2(x))\n",
        "        x = self.dropout2(x)\n",
        "        x = self.fc3(x)\n",
        "        return x\n",
        "\n",
        "# Testing the neural network with dropout\n",
        "if __name__ == \"__main__\":\n",
        "    torch.manual_seed(42)  # For reproducibility\n",
        "\n",
        "    # Example input tensor\n",
        "    X = torch.randn(5, 10)  # Batch of 5 samples, 10 features each\n",
        "\n",
        "    model = NeuralNetwork(input_size=10, hidden_size=20, output_size=5, dropout_prob=0.3)\n",
        "    model.eval()  # Set model to evaluation mode (no dropout applied)\n",
        "    print(\"Output without dropout (evaluation mode):\")\n",
        "    print(model(X))\n",
        "\n",
        "    model.train()  # Set model to training mode (dropout applied)\n",
        "    print(\"Output with dropout (training mode):\")\n",
        "    print(model(X))\n"
      ],
      "metadata": {
        "colab": {
          "base_uri": "https://localhost:8080/"
        },
        "id": "xvagTsl5fY8m",
        "outputId": "b1932eb2-1634-4ae6-df15-8bb987ddbc8a"
      },
      "execution_count": null,
      "outputs": [
        {
          "output_type": "stream",
          "name": "stdout",
          "text": [
            "Output without dropout (evaluation mode):\n",
            "tensor([[ 0.0713, -0.0538,  0.0075, -0.3819, -0.2163],\n",
            "        [-0.0048,  0.1738,  0.2743, -0.2746, -0.1560],\n",
            "        [ 0.0465,  0.0078,  0.2278, -0.1960, -0.0924],\n",
            "        [-0.0017,  0.0759,  0.2682, -0.2008, -0.1750],\n",
            "        [ 0.0606,  0.0299,  0.2935, -0.2621, -0.1218]],\n",
            "       grad_fn=<AddmmBackward0>)\n",
            "Output with dropout (training mode):\n",
            "tensor([[ 0.1122, -0.1865,  0.0692, -0.4563, -0.2607],\n",
            "        [-0.0957,  0.4482,  0.2956, -0.2055, -0.1704],\n",
            "        [ 0.0796,  0.1718,  0.2367, -0.2209, -0.1437],\n",
            "        [-0.0208,  0.2398,  0.3445, -0.2174, -0.1471],\n",
            "        [ 0.0470,  0.1374,  0.4373, -0.4032, -0.0424]],\n",
            "       grad_fn=<AddmmBackward0>)\n"
          ]
        }
      ]
    },
    {
      "cell_type": "markdown",
      "source": [
        "3. Visualization using wandb library for various experimental setups."
      ],
      "metadata": {
        "id": "GEYYKx8of0Cw"
      }
    },
    {
      "cell_type": "code",
      "source": [
        "pip install torch torchvision torchtext wandb numpy"
      ],
      "metadata": {
        "colab": {
          "base_uri": "https://localhost:8080/"
        },
        "id": "_dXT9UtkS34V",
        "outputId": "f2900602-3617-45e8-8e35-b528e1333290"
      },
      "execution_count": null,
      "outputs": [
        {
          "output_type": "stream",
          "name": "stdout",
          "text": [
            "Requirement already satisfied: torch in /usr/local/lib/python3.11/dist-packages (2.5.1+cu124)\n",
            "Requirement already satisfied: torchvision in /usr/local/lib/python3.11/dist-packages (0.20.1+cu124)\n",
            "Collecting torchtext\n",
            "  Downloading torchtext-0.18.0-cp311-cp311-manylinux1_x86_64.whl.metadata (7.9 kB)\n",
            "Requirement already satisfied: wandb in /usr/local/lib/python3.11/dist-packages (0.19.6)\n",
            "Requirement already satisfied: numpy in /usr/local/lib/python3.11/dist-packages (1.26.4)\n",
            "Requirement already satisfied: filelock in /usr/local/lib/python3.11/dist-packages (from torch) (3.17.0)\n",
            "Requirement already satisfied: typing-extensions>=4.8.0 in /usr/local/lib/python3.11/dist-packages (from torch) (4.12.2)\n",
            "Requirement already satisfied: networkx in /usr/local/lib/python3.11/dist-packages (from torch) (3.4.2)\n",
            "Requirement already satisfied: jinja2 in /usr/local/lib/python3.11/dist-packages (from torch) (3.1.5)\n",
            "Requirement already satisfied: fsspec in /usr/local/lib/python3.11/dist-packages (from torch) (2024.10.0)\n",
            "Collecting nvidia-cuda-nvrtc-cu12==12.4.127 (from torch)\n",
            "  Downloading nvidia_cuda_nvrtc_cu12-12.4.127-py3-none-manylinux2014_x86_64.whl.metadata (1.5 kB)\n",
            "Collecting nvidia-cuda-runtime-cu12==12.4.127 (from torch)\n",
            "  Downloading nvidia_cuda_runtime_cu12-12.4.127-py3-none-manylinux2014_x86_64.whl.metadata (1.5 kB)\n",
            "Collecting nvidia-cuda-cupti-cu12==12.4.127 (from torch)\n",
            "  Downloading nvidia_cuda_cupti_cu12-12.4.127-py3-none-manylinux2014_x86_64.whl.metadata (1.6 kB)\n",
            "Collecting nvidia-cudnn-cu12==9.1.0.70 (from torch)\n",
            "  Downloading nvidia_cudnn_cu12-9.1.0.70-py3-none-manylinux2014_x86_64.whl.metadata (1.6 kB)\n",
            "Collecting nvidia-cublas-cu12==12.4.5.8 (from torch)\n",
            "  Downloading nvidia_cublas_cu12-12.4.5.8-py3-none-manylinux2014_x86_64.whl.metadata (1.5 kB)\n",
            "Collecting nvidia-cufft-cu12==11.2.1.3 (from torch)\n",
            "  Downloading nvidia_cufft_cu12-11.2.1.3-py3-none-manylinux2014_x86_64.whl.metadata (1.5 kB)\n",
            "Collecting nvidia-curand-cu12==10.3.5.147 (from torch)\n",
            "  Downloading nvidia_curand_cu12-10.3.5.147-py3-none-manylinux2014_x86_64.whl.metadata (1.5 kB)\n",
            "Collecting nvidia-cusolver-cu12==11.6.1.9 (from torch)\n",
            "  Downloading nvidia_cusolver_cu12-11.6.1.9-py3-none-manylinux2014_x86_64.whl.metadata (1.6 kB)\n",
            "Collecting nvidia-cusparse-cu12==12.3.1.170 (from torch)\n",
            "  Downloading nvidia_cusparse_cu12-12.3.1.170-py3-none-manylinux2014_x86_64.whl.metadata (1.6 kB)\n",
            "Requirement already satisfied: nvidia-nccl-cu12==2.21.5 in /usr/local/lib/python3.11/dist-packages (from torch) (2.21.5)\n",
            "Requirement already satisfied: nvidia-nvtx-cu12==12.4.127 in /usr/local/lib/python3.11/dist-packages (from torch) (12.4.127)\n",
            "Collecting nvidia-nvjitlink-cu12==12.4.127 (from torch)\n",
            "  Downloading nvidia_nvjitlink_cu12-12.4.127-py3-none-manylinux2014_x86_64.whl.metadata (1.5 kB)\n",
            "Requirement already satisfied: triton==3.1.0 in /usr/local/lib/python3.11/dist-packages (from torch) (3.1.0)\n",
            "Requirement already satisfied: sympy==1.13.1 in /usr/local/lib/python3.11/dist-packages (from torch) (1.13.1)\n",
            "Requirement already satisfied: mpmath<1.4,>=1.1.0 in /usr/local/lib/python3.11/dist-packages (from sympy==1.13.1->torch) (1.3.0)\n",
            "Requirement already satisfied: pillow!=8.3.*,>=5.3.0 in /usr/local/lib/python3.11/dist-packages (from torchvision) (11.1.0)\n",
            "Requirement already satisfied: tqdm in /usr/local/lib/python3.11/dist-packages (from torchtext) (4.67.1)\n",
            "Requirement already satisfied: requests in /usr/local/lib/python3.11/dist-packages (from torchtext) (2.32.3)\n",
            "Requirement already satisfied: click!=8.0.0,>=7.1 in /usr/local/lib/python3.11/dist-packages (from wandb) (8.1.8)\n",
            "Requirement already satisfied: docker-pycreds>=0.4.0 in /usr/local/lib/python3.11/dist-packages (from wandb) (0.4.0)\n",
            "Requirement already satisfied: gitpython!=3.1.29,>=1.0.0 in /usr/local/lib/python3.11/dist-packages (from wandb) (3.1.44)\n",
            "Requirement already satisfied: platformdirs in /usr/local/lib/python3.11/dist-packages (from wandb) (4.3.6)\n",
            "Requirement already satisfied: protobuf!=4.21.0,!=5.28.0,<6,>=3.19.0 in /usr/local/lib/python3.11/dist-packages (from wandb) (4.25.6)\n",
            "Requirement already satisfied: psutil>=5.0.0 in /usr/local/lib/python3.11/dist-packages (from wandb) (5.9.5)\n",
            "Requirement already satisfied: pydantic<3,>=2.6 in /usr/local/lib/python3.11/dist-packages (from wandb) (2.10.6)\n",
            "Requirement already satisfied: pyyaml in /usr/local/lib/python3.11/dist-packages (from wandb) (6.0.2)\n",
            "Requirement already satisfied: sentry-sdk>=2.0.0 in /usr/local/lib/python3.11/dist-packages (from wandb) (2.21.0)\n",
            "Requirement already satisfied: setproctitle in /usr/local/lib/python3.11/dist-packages (from wandb) (1.3.4)\n",
            "Requirement already satisfied: setuptools in /usr/local/lib/python3.11/dist-packages (from wandb) (75.1.0)\n",
            "Requirement already satisfied: six>=1.4.0 in /usr/local/lib/python3.11/dist-packages (from docker-pycreds>=0.4.0->wandb) (1.17.0)\n",
            "Requirement already satisfied: gitdb<5,>=4.0.1 in /usr/local/lib/python3.11/dist-packages (from gitpython!=3.1.29,>=1.0.0->wandb) (4.0.12)\n",
            "Requirement already satisfied: annotated-types>=0.6.0 in /usr/local/lib/python3.11/dist-packages (from pydantic<3,>=2.6->wandb) (0.7.0)\n",
            "Requirement already satisfied: pydantic-core==2.27.2 in /usr/local/lib/python3.11/dist-packages (from pydantic<3,>=2.6->wandb) (2.27.2)\n",
            "Requirement already satisfied: charset-normalizer<4,>=2 in /usr/local/lib/python3.11/dist-packages (from requests->torchtext) (3.4.1)\n",
            "Requirement already satisfied: idna<4,>=2.5 in /usr/local/lib/python3.11/dist-packages (from requests->torchtext) (3.10)\n",
            "Requirement already satisfied: urllib3<3,>=1.21.1 in /usr/local/lib/python3.11/dist-packages (from requests->torchtext) (2.3.0)\n",
            "Requirement already satisfied: certifi>=2017.4.17 in /usr/local/lib/python3.11/dist-packages (from requests->torchtext) (2025.1.31)\n",
            "Requirement already satisfied: MarkupSafe>=2.0 in /usr/local/lib/python3.11/dist-packages (from jinja2->torch) (3.0.2)\n",
            "Requirement already satisfied: smmap<6,>=3.0.1 in /usr/local/lib/python3.11/dist-packages (from gitdb<5,>=4.0.1->gitpython!=3.1.29,>=1.0.0->wandb) (5.0.2)\n",
            "Downloading nvidia_cublas_cu12-12.4.5.8-py3-none-manylinux2014_x86_64.whl (363.4 MB)\n",
            "\u001b[2K   \u001b[90m━━━━━━━━━━━━━━━━━━━━━━━━━━━━━━━━━━━━━━━━\u001b[0m \u001b[32m363.4/363.4 MB\u001b[0m \u001b[31m3.0 MB/s\u001b[0m eta \u001b[36m0:00:00\u001b[0m\n",
            "\u001b[?25hDownloading nvidia_cuda_cupti_cu12-12.4.127-py3-none-manylinux2014_x86_64.whl (13.8 MB)\n",
            "\u001b[2K   \u001b[90m━━━━━━━━━━━━━━━━━━━━━━━━━━━━━━━━━━━━━━━━\u001b[0m \u001b[32m13.8/13.8 MB\u001b[0m \u001b[31m61.7 MB/s\u001b[0m eta \u001b[36m0:00:00\u001b[0m\n",
            "\u001b[?25hDownloading nvidia_cuda_nvrtc_cu12-12.4.127-py3-none-manylinux2014_x86_64.whl (24.6 MB)\n",
            "\u001b[2K   \u001b[90m━━━━━━━━━━━━━━━━━━━━━━━━━━━━━━━━━━━━━━━━\u001b[0m \u001b[32m24.6/24.6 MB\u001b[0m \u001b[31m46.4 MB/s\u001b[0m eta \u001b[36m0:00:00\u001b[0m\n",
            "\u001b[?25hDownloading nvidia_cuda_runtime_cu12-12.4.127-py3-none-manylinux2014_x86_64.whl (883 kB)\n",
            "\u001b[2K   \u001b[90m━━━━━━━━━━━━━━━━━━━━━━━━━━━━━━━━━━━━━━━━\u001b[0m \u001b[32m883.7/883.7 kB\u001b[0m \u001b[31m40.1 MB/s\u001b[0m eta \u001b[36m0:00:00\u001b[0m\n",
            "\u001b[?25hDownloading nvidia_cudnn_cu12-9.1.0.70-py3-none-manylinux2014_x86_64.whl (664.8 MB)\n",
            "\u001b[2K   \u001b[90m━━━━━━━━━━━━━━━━━━━━━━━━━━━━━━━━━━━━━━━━\u001b[0m \u001b[32m664.8/664.8 MB\u001b[0m \u001b[31m2.8 MB/s\u001b[0m eta \u001b[36m0:00:00\u001b[0m\n",
            "\u001b[?25hDownloading nvidia_cufft_cu12-11.2.1.3-py3-none-manylinux2014_x86_64.whl (211.5 MB)\n",
            "\u001b[2K   \u001b[90m━━━━━━━━━━━━━━━━━━━━━━━━━━━━━━━━━━━━━━━━\u001b[0m \u001b[32m211.5/211.5 MB\u001b[0m \u001b[31m6.1 MB/s\u001b[0m eta \u001b[36m0:00:00\u001b[0m\n",
            "\u001b[?25hDownloading nvidia_curand_cu12-10.3.5.147-py3-none-manylinux2014_x86_64.whl (56.3 MB)\n",
            "\u001b[2K   \u001b[90m━━━━━━━━━━━━━━━━━━━━━━━━━━━━━━━━━━━━━━━━\u001b[0m \u001b[32m56.3/56.3 MB\u001b[0m \u001b[31m12.3 MB/s\u001b[0m eta \u001b[36m0:00:00\u001b[0m\n",
            "\u001b[?25hDownloading nvidia_cusolver_cu12-11.6.1.9-py3-none-manylinux2014_x86_64.whl (127.9 MB)\n",
            "\u001b[2K   \u001b[90m━━━━━━━━━━━━━━━━━━━━━━━━━━━━━━━━━━━━━━━━\u001b[0m \u001b[32m127.9/127.9 MB\u001b[0m \u001b[31m7.8 MB/s\u001b[0m eta \u001b[36m0:00:00\u001b[0m\n",
            "\u001b[?25hDownloading nvidia_cusparse_cu12-12.3.1.170-py3-none-manylinux2014_x86_64.whl (207.5 MB)\n",
            "\u001b[2K   \u001b[90m━━━━━━━━━━━━━━━━━━━━━━━━━━━━━━━━━━━━━━━━\u001b[0m \u001b[32m207.5/207.5 MB\u001b[0m \u001b[31m5.6 MB/s\u001b[0m eta \u001b[36m0:00:00\u001b[0m\n",
            "\u001b[?25hDownloading nvidia_nvjitlink_cu12-12.4.127-py3-none-manylinux2014_x86_64.whl (21.1 MB)\n",
            "\u001b[2K   \u001b[90m━━━━━━━━━━━━━━━━━━━━━━━━━━━━━━━━━━━━━━━━\u001b[0m \u001b[32m21.1/21.1 MB\u001b[0m \u001b[31m52.7 MB/s\u001b[0m eta \u001b[36m0:00:00\u001b[0m\n",
            "\u001b[?25hDownloading torchtext-0.18.0-cp311-cp311-manylinux1_x86_64.whl (2.0 MB)\n",
            "\u001b[2K   \u001b[90m━━━━━━━━━━━━━━━━━━━━━━━━━━━━━━━━━━━━━━━━\u001b[0m \u001b[32m2.0/2.0 MB\u001b[0m \u001b[31m59.3 MB/s\u001b[0m eta \u001b[36m0:00:00\u001b[0m\n",
            "\u001b[?25hInstalling collected packages: nvidia-nvjitlink-cu12, nvidia-curand-cu12, nvidia-cufft-cu12, nvidia-cuda-runtime-cu12, nvidia-cuda-nvrtc-cu12, nvidia-cuda-cupti-cu12, nvidia-cublas-cu12, nvidia-cusparse-cu12, nvidia-cudnn-cu12, nvidia-cusolver-cu12, torchtext\n",
            "  Attempting uninstall: nvidia-nvjitlink-cu12\n",
            "    Found existing installation: nvidia-nvjitlink-cu12 12.5.82\n",
            "    Uninstalling nvidia-nvjitlink-cu12-12.5.82:\n",
            "      Successfully uninstalled nvidia-nvjitlink-cu12-12.5.82\n",
            "  Attempting uninstall: nvidia-curand-cu12\n",
            "    Found existing installation: nvidia-curand-cu12 10.3.6.82\n",
            "    Uninstalling nvidia-curand-cu12-10.3.6.82:\n",
            "      Successfully uninstalled nvidia-curand-cu12-10.3.6.82\n",
            "  Attempting uninstall: nvidia-cufft-cu12\n",
            "    Found existing installation: nvidia-cufft-cu12 11.2.3.61\n",
            "    Uninstalling nvidia-cufft-cu12-11.2.3.61:\n",
            "      Successfully uninstalled nvidia-cufft-cu12-11.2.3.61\n",
            "  Attempting uninstall: nvidia-cuda-runtime-cu12\n",
            "    Found existing installation: nvidia-cuda-runtime-cu12 12.5.82\n",
            "    Uninstalling nvidia-cuda-runtime-cu12-12.5.82:\n",
            "      Successfully uninstalled nvidia-cuda-runtime-cu12-12.5.82\n",
            "  Attempting uninstall: nvidia-cuda-nvrtc-cu12\n",
            "    Found existing installation: nvidia-cuda-nvrtc-cu12 12.5.82\n",
            "    Uninstalling nvidia-cuda-nvrtc-cu12-12.5.82:\n",
            "      Successfully uninstalled nvidia-cuda-nvrtc-cu12-12.5.82\n",
            "  Attempting uninstall: nvidia-cuda-cupti-cu12\n",
            "    Found existing installation: nvidia-cuda-cupti-cu12 12.5.82\n",
            "    Uninstalling nvidia-cuda-cupti-cu12-12.5.82:\n",
            "      Successfully uninstalled nvidia-cuda-cupti-cu12-12.5.82\n",
            "  Attempting uninstall: nvidia-cublas-cu12\n",
            "    Found existing installation: nvidia-cublas-cu12 12.5.3.2\n",
            "    Uninstalling nvidia-cublas-cu12-12.5.3.2:\n",
            "      Successfully uninstalled nvidia-cublas-cu12-12.5.3.2\n",
            "  Attempting uninstall: nvidia-cusparse-cu12\n",
            "    Found existing installation: nvidia-cusparse-cu12 12.5.1.3\n",
            "    Uninstalling nvidia-cusparse-cu12-12.5.1.3:\n",
            "      Successfully uninstalled nvidia-cusparse-cu12-12.5.1.3\n",
            "  Attempting uninstall: nvidia-cudnn-cu12\n",
            "    Found existing installation: nvidia-cudnn-cu12 9.3.0.75\n",
            "    Uninstalling nvidia-cudnn-cu12-9.3.0.75:\n",
            "      Successfully uninstalled nvidia-cudnn-cu12-9.3.0.75\n",
            "  Attempting uninstall: nvidia-cusolver-cu12\n",
            "    Found existing installation: nvidia-cusolver-cu12 11.6.3.83\n",
            "    Uninstalling nvidia-cusolver-cu12-11.6.3.83:\n",
            "      Successfully uninstalled nvidia-cusolver-cu12-11.6.3.83\n",
            "Successfully installed nvidia-cublas-cu12-12.4.5.8 nvidia-cuda-cupti-cu12-12.4.127 nvidia-cuda-nvrtc-cu12-12.4.127 nvidia-cuda-runtime-cu12-12.4.127 nvidia-cudnn-cu12-9.1.0.70 nvidia-cufft-cu12-11.2.1.3 nvidia-curand-cu12-10.3.5.147 nvidia-cusolver-cu12-11.6.1.9 nvidia-cusparse-cu12-12.3.1.170 nvidia-nvjitlink-cu12-12.4.127 torchtext-0.18.0\n"
          ]
        }
      ]
    },
    {
      "cell_type": "code",
      "source": [
        "import wandb\n",
        "wandb.login()"
      ],
      "metadata": {
        "colab": {
          "base_uri": "https://localhost:8080/",
          "height": 173
        },
        "id": "GbSYP4OA_VD2",
        "outputId": "04fed547-8fe6-43dc-f126-6167ce35b957"
      },
      "execution_count": 1,
      "outputs": [
        {
          "output_type": "display_data",
          "data": {
            "text/plain": [
              "<IPython.core.display.Javascript object>"
            ],
            "application/javascript": [
              "\n",
              "        window._wandbApiKey = new Promise((resolve, reject) => {\n",
              "            function loadScript(url) {\n",
              "            return new Promise(function(resolve, reject) {\n",
              "                let newScript = document.createElement(\"script\");\n",
              "                newScript.onerror = reject;\n",
              "                newScript.onload = resolve;\n",
              "                document.body.appendChild(newScript);\n",
              "                newScript.src = url;\n",
              "            });\n",
              "            }\n",
              "            loadScript(\"https://cdn.jsdelivr.net/npm/postmate/build/postmate.min.js\").then(() => {\n",
              "            const iframe = document.createElement('iframe')\n",
              "            iframe.style.cssText = \"width:0;height:0;border:none\"\n",
              "            document.body.appendChild(iframe)\n",
              "            const handshake = new Postmate({\n",
              "                container: iframe,\n",
              "                url: 'https://wandb.ai/authorize'\n",
              "            });\n",
              "            const timeout = setTimeout(() => reject(\"Couldn't auto authenticate\"), 5000)\n",
              "            handshake.then(function(child) {\n",
              "                child.on('authorize', data => {\n",
              "                    clearTimeout(timeout)\n",
              "                    resolve(data)\n",
              "                });\n",
              "            });\n",
              "            })\n",
              "        });\n",
              "    "
            ]
          },
          "metadata": {}
        },
        {
          "output_type": "stream",
          "name": "stderr",
          "text": [
            "\u001b[34m\u001b[1mwandb\u001b[0m: Logging into wandb.ai. (Learn how to deploy a W&B server locally: https://wandb.me/wandb-server)\n",
            "\u001b[34m\u001b[1mwandb\u001b[0m: You can find your API key in your browser here: https://wandb.ai/authorize\n",
            "wandb: Paste an API key from your profile and hit enter:"
          ]
        },
        {
          "name": "stdout",
          "output_type": "stream",
          "text": [
            " ··········\n"
          ]
        },
        {
          "output_type": "stream",
          "name": "stderr",
          "text": [
            "\u001b[34m\u001b[1mwandb\u001b[0m: \u001b[33mWARNING\u001b[0m If you're specifying your api key in code, ensure this code is not shared publicly.\n",
            "\u001b[34m\u001b[1mwandb\u001b[0m: \u001b[33mWARNING\u001b[0m Consider setting the WANDB_API_KEY environment variable, or running `wandb login` from the command line.\n",
            "\u001b[34m\u001b[1mwandb\u001b[0m: Appending key for api.wandb.ai to your netrc file: /root/.netrc\n",
            "\u001b[34m\u001b[1mwandb\u001b[0m: Currently logged in as: \u001b[33mshahi77\u001b[0m (\u001b[33mshahi77-national-institute-of-technology-hamirpur\u001b[0m) to \u001b[32mhttps://api.wandb.ai\u001b[0m. Use \u001b[1m`wandb login --relogin`\u001b[0m to force relogin\n"
          ]
        },
        {
          "output_type": "execute_result",
          "data": {
            "text/plain": [
              "True"
            ]
          },
          "metadata": {},
          "execution_count": 1
        }
      ]
    },
    {
      "cell_type": "code",
      "source": [
        "sweep_config = {\n",
        "    'method': 'random'\n",
        "    }\n",
        "\n",
        "metric = {\n",
        "    'name': 'validation_accuracy',\n",
        "    'goal': 'maximize'\n",
        "    }\n",
        "\n",
        "sweep_config['metric'] = metric\n",
        "\n",
        "parameters_dict= {\n",
        "        'epochs': {'values': [10]},\n",
        "        'lr': {'values': [0.001, 0.01]},\n",
        "        'momentum': {'values': [0.9, 0.99]},\n",
        "        'optimizer': {'values': ['sgd']},\n",
        "        'batch_size': {'values': [64]},\n",
        "        'weight_init': {'values': ['random']},\n",
        "        'dropout_prob': {'values': [0.2, 0.3, 0.5]},  # Dropout probability between 20% to 50%\n",
        "        'dropout_method': {'values': ['random', 'dropconnect', 'dropblock', 'maxdropout', 'biased_dropout', 'flipover']},\n",
        "        'model': {'values': ['create_standard_network_1', 'create_standard_network_2', 'create_dropout_network_logistic', 'create_dropout_network_relu']}\n",
        "    }\n",
        "\n",
        "sweep_config['parameters'] = parameters_dict\n",
        "\n",
        "import pprint\n",
        "pprint.pprint(sweep_config)"
      ],
      "metadata": {
        "colab": {
          "base_uri": "https://localhost:8080/"
        },
        "id": "CTPMWnt3_hL1",
        "outputId": "dc05eb77-76bd-40e1-a426-713e7e2983d7"
      },
      "execution_count": 2,
      "outputs": [
        {
          "output_type": "stream",
          "name": "stdout",
          "text": [
            "{'method': 'random',\n",
            " 'metric': {'goal': 'maximize', 'name': 'validation_accuracy'},\n",
            " 'parameters': {'batch_size': {'values': [64]},\n",
            "                'dropout_method': {'values': ['random',\n",
            "                                              'dropconnect',\n",
            "                                              'dropblock',\n",
            "                                              'maxdropout',\n",
            "                                              'biased_dropout',\n",
            "                                              'flipover']},\n",
            "                'dropout_prob': {'values': [0.2, 0.3, 0.5]},\n",
            "                'epochs': {'values': [10]},\n",
            "                'lr': {'values': [0.001, 0.01]},\n",
            "                'model': {'values': ['create_standard_network_1',\n",
            "                                     'create_standard_network_2',\n",
            "                                     'create_dropout_network_logistic',\n",
            "                                     'create_dropout_network_relu']},\n",
            "                'momentum': {'values': [0.9, 0.99]},\n",
            "                'optimizer': {'values': ['sgd']},\n",
            "                'weight_init': {'values': ['random']}}}\n"
          ]
        }
      ]
    },
    {
      "cell_type": "code",
      "source": [
        "sweep_id = wandb.sweep(sweep_config, project=\"Dropout04\")"
      ],
      "metadata": {
        "colab": {
          "base_uri": "https://localhost:8080/"
        },
        "id": "LD6YOMCT_w0F",
        "outputId": "3ad71385-9c51-44ff-ac39-bd88d41106d3"
      },
      "execution_count": 3,
      "outputs": [
        {
          "output_type": "stream",
          "name": "stdout",
          "text": [
            "Create sweep with ID: qf1328ih\n",
            "Sweep URL: https://wandb.ai/shahi77-national-institute-of-technology-hamirpur/Dropout04/sweeps/qf1328ih\n"
          ]
        }
      ]
    },
    {
      "cell_type": "code",
      "source": [
        "import torch\n",
        "import torch.nn as nn\n",
        "import torch.optim as optim\n",
        "import torch.nn.functional as F\n",
        "import wandb\n",
        "from torch.utils.data import DataLoader, random_split\n",
        "from torchvision import datasets, transforms\n",
        "\n",
        "# Initialize device\n",
        "device = torch.device(\"cuda\" if torch.cuda.is_available() else \"cpu\")\n",
        "\n",
        "# Dataset building function\n",
        "def build_dataset(batch_size):\n",
        "    transform = transforms.Compose([transforms.ToTensor(), transforms.Normalize((0.1307,), (0.3081,))])  # Normalize for MNIST\n",
        "    dataset = datasets.MNIST('.', train=True, download=True, transform=transform)\n",
        "    # Split 10% for validation\n",
        "    train_size = int(0.9 * len(dataset))\n",
        "    val_size = len(dataset) - train_size\n",
        "    train_dataset, val_dataset = random_split(dataset, [train_size, val_size])\n",
        "\n",
        "    train_loader = DataLoader(train_dataset, batch_size=batch_size, shuffle=True)\n",
        "    val_loader = DataLoader(val_dataset, batch_size=batch_size, shuffle=False)\n",
        "    return train_loader, val_loader\n",
        "\n",
        "\n",
        "# Neural Network Architecture with Dropout\n",
        "class NeuralNetworkWithDropout(nn.Module):\n",
        "    def __init__(self, input_size, hidden_layers, output_size, dropout_prob, activation_fn, init_method, max_threshold=None):\n",
        "        super(NeuralNetworkWithDropout, self).__init__()\n",
        "        self.init_method = init_method\n",
        "        self.max_threshold = max_threshold\n",
        "\n",
        "        layers = []\n",
        "\n",
        "        # Input to first hidden layer\n",
        "        layers.append(nn.Linear(input_size, hidden_layers[0]))\n",
        "        layers.append(activation_fn())\n",
        "        layers.append(nn.Dropout(dropout_prob))\n",
        "\n",
        "        # Hidden layers with dropout\n",
        "        for i in range(1, len(hidden_layers)):\n",
        "            layers.append(nn.Linear(hidden_layers[i-1], hidden_layers[i]))\n",
        "            layers.append(activation_fn())\n",
        "            layers.append(nn.Dropout(dropout_prob))\n",
        "\n",
        "        # Output layer\n",
        "        layers.append(nn.Linear(hidden_layers[-1], output_size))\n",
        "\n",
        "        self.network = nn.Sequential(*layers)\n",
        "        self.apply(self._initialize_weights)\n",
        "\n",
        "    def forward(self, x):\n",
        "      # Flatten the input tensor\n",
        "      x = x.view(x.size(0), -1)  # Flatten the 28x28 images into a 784 vector\n",
        "      return self.network(x)\n",
        "\n",
        "\n",
        "    def _initialize_weights(self, layer):\n",
        "        if isinstance(layer, nn.Linear):\n",
        "            if self.init_method == 'random':\n",
        "                nn.init.normal_(layer.weight, mean=0, std=0.01)\n",
        "            elif self.init_method == 'max_threshold':\n",
        "                nn.init.normal_(layer.weight, mean=0, std=0.01)\n",
        "                if self.max_threshold:\n",
        "                    torch.clamp(layer.weight, max=self.max_threshold)\n",
        "            elif self.init_method == 'pretraining':\n",
        "                nn.init.normal_(layer.weight, mean=0, std=0.01)\n",
        "\n",
        "            if layer.bias is not None:\n",
        "                nn.init.constant_(layer.bias, 0)\n",
        "\n",
        "\n",
        "# Experiment Configurations\n",
        "\n",
        "# 1. StandardNeuralNet Logistic 2 layers, 100 units\n",
        "def create_standard_network_1():\n",
        "    return NeuralNetworkWithDropout(input_size=784, hidden_layers=[100, 100], output_size=10,\n",
        "                                    dropout_prob=0.5, activation_fn=nn.Sigmoid, init_method='random')\n",
        "\n",
        "# 2. StandardNeuralNet Logistic 2 layers, 800 units\n",
        "def create_standard_network_2():\n",
        "    return NeuralNetworkWithDropout(input_size=784, hidden_layers=[800, 800], output_size=10,\n",
        "                                    dropout_prob=0.5, activation_fn=nn.Sigmoid, init_method='random')\n",
        "\n",
        "# 3. DropoutNN Logistic 3 layers, 1024 units\n",
        "def create_dropout_network_logistic():\n",
        "    return NeuralNetworkWithDropout(input_size=784, hidden_layers=[1024, 1024, 1024], output_size=10,\n",
        "                                    dropout_prob=0.5, activation_fn=nn.Sigmoid, init_method='random')\n",
        "\n",
        "# 4. DropoutNN ReLU 3 layers, 1024 units\n",
        "def create_dropout_network_relu():\n",
        "    return NeuralNetworkWithDropout(input_size=784, hidden_layers=[1024, 1024, 1024], output_size=10,\n",
        "                                    dropout_prob=0.5, activation_fn=nn.ReLU, init_method='random')\n",
        "\n",
        "\n",
        "# DROPOUTS\n",
        "\n",
        "# Define custom DropConnect layer\n",
        "class DropConnect(nn.Module):\n",
        "    def __init__(self, layer, p=0.5):\n",
        "        super(DropConnect, self).__init__()\n",
        "        self.layer = layer\n",
        "        self.p = p\n",
        "\n",
        "    def forward(self, x):\n",
        "        if self.training:\n",
        "            # DropConnect: Randomly zero out weights, not activations\n",
        "            mask = (torch.rand_like(self.layer.weight) > self.p).float()\n",
        "            weight = self.layer.weight * mask\n",
        "            return F.linear(x, weight, self.layer.bias)\n",
        "        else:\n",
        "            return self.layer(x)\n",
        "\n",
        "# Define custom DropBlock layer\n",
        "class DropBlock(nn.Module):\n",
        "    def __init__(self, p=0.5):\n",
        "        super(DropBlock, self).__init__()\n",
        "        self.p = p\n",
        "\n",
        "    def forward(self, x):\n",
        "        if self.training:\n",
        "            # DropBlock: Randomly block entire blocks of activations\n",
        "            block_size = int(x.size(1) * self.p)\n",
        "            mask = torch.ones_like(x)\n",
        "            mask[:, :block_size] = 0  # You can modify this logic to randomly block in more advanced ways\n",
        "            x = x * mask\n",
        "        return x\n",
        "\n",
        "# Define Maxdropout (drop the largest activations)\n",
        "class MaxDropout(nn.Module):\n",
        "    def __init__(self, p=0.5):\n",
        "        super(MaxDropout, self).__init__()\n",
        "        self.p = p\n",
        "\n",
        "    def forward(self, x):\n",
        "        if self.training:\n",
        "            # Drop the max activations\n",
        "            top_k = int(x.size(1) * self.p)\n",
        "            _, indices = torch.topk(x, top_k, dim=1, largest=True, sorted=False)\n",
        "            mask = torch.zeros_like(x)\n",
        "            mask.scatter_(1, indices, 1)\n",
        "            x = x * mask\n",
        "        return x\n",
        "\n",
        "# Define Biased Dropout\n",
        "class BiasedDropout(nn.Module):\n",
        "    def __init__(self, p=0.5, bias=0.2):\n",
        "        super(BiasedDropout, self).__init__()\n",
        "        self.p = p\n",
        "        self.bias = bias\n",
        "\n",
        "    def forward(self, x):\n",
        "        if self.training:\n",
        "            # Biased Dropout: Apply biased dropout, where some neurons are more likely to be dropped\n",
        "            prob = torch.full_like(x, self.p + self.bias)\n",
        "            mask = (torch.rand_like(x) > prob).float()\n",
        "            x = x * mask\n",
        "        return x\n",
        "\n",
        "# Define Flipover Dropout\n",
        "class FlipoverDropout(nn.Module):\n",
        "    def __init__(self, p=0.5):\n",
        "        super(FlipoverDropout, self).__init__()\n",
        "        self.p = p\n",
        "\n",
        "    def forward(self, x):\n",
        "        if self.training:\n",
        "            # Flipover: Randomly negate the activations of dropped units\n",
        "            mask = (torch.rand_like(x) > self.p).float()\n",
        "            x = x * mask\n",
        "            x = x - (x * mask)  # Negate the dropped values\n",
        "        return x\n",
        "\n",
        "# Main function to apply different dropout methods\n",
        "def apply_dropout_method(model, method_name, dropout_prob=0.5):\n",
        "    if method_name == \"random\":\n",
        "        # Apply standard random dropout to each layer\n",
        "        for module in model.children():\n",
        "            if isinstance(module, nn.Linear):\n",
        "                module.dropout = nn.Dropout(dropout_prob)\n",
        "        return model\n",
        "\n",
        "    if method_name == \"dropconnect\":\n",
        "        # Apply DropConnect\n",
        "        for module in model.children():\n",
        "            if isinstance(module, nn.Linear):\n",
        "                module = DropConnect(module, p=dropout_prob)\n",
        "        return model\n",
        "\n",
        "    if method_name == \"dropblock\":\n",
        "        # Apply DropBlock\n",
        "        for module in model.children():\n",
        "            if isinstance(module, nn.Linear):\n",
        "                module = DropBlock(p=dropout_prob)\n",
        "        return model\n",
        "\n",
        "    if method_name == \"maxdropout\":\n",
        "        # Apply Maxdropout\n",
        "        for module in model.children():\n",
        "            if isinstance(module, nn.Linear):\n",
        "                module = MaxDropout(p=dropout_prob)\n",
        "        return model\n",
        "\n",
        "    if method_name == \"biased_dropout\":\n",
        "        # Apply Biased Dropout\n",
        "        for module in model.children():\n",
        "            if isinstance(module, nn.Linear):\n",
        "                module = BiasedDropout(p=dropout_prob)\n",
        "        return model\n",
        "\n",
        "    if method_name == \"flipover\":\n",
        "        # Apply Flipover Dropout\n",
        "        for module in model.children():\n",
        "            if isinstance(module, nn.Linear):\n",
        "                module = FlipoverDropout(p=dropout_prob)\n",
        "        return model\n",
        "\n",
        "    # Default: no dropout\n",
        "    return model\n",
        "\n",
        "\n",
        "# Optimizer function\n",
        "def get_optimizer(model, optimizer_name, lr, momentum=0, weight_decay=0):\n",
        "    if optimizer_name == 'sgd':\n",
        "        return optim.SGD(model.parameters(), lr=lr, momentum=momentum)\n",
        "    else:\n",
        "        raise ValueError(\"Optimizer not supported\")\n",
        "\n",
        "\n",
        "# Training function\n",
        "def train(model, train_loader, optimizer, criterion, epochs):\n",
        "        config = wandb.config\n",
        "\n",
        "        model.train()\n",
        "        for epoch in range(epochs):\n",
        "            running_loss = 0.0\n",
        "            correct = 0\n",
        "            total = 0\n",
        "            for inputs, labels in train_loader:\n",
        "                inputs, labels = inputs.to(device), labels.to(device)\n",
        "                optimizer.zero_grad()\n",
        "\n",
        "                # Forward pass\n",
        "                outputs = model(inputs)\n",
        "                loss = criterion(outputs, labels)\n",
        "                loss.backward()\n",
        "                optimizer.step()\n",
        "\n",
        "                running_loss += loss.item()\n",
        "                _, predicted = torch.max(outputs.data, 1)\n",
        "                total += labels.size(0)\n",
        "                correct += (predicted == labels).sum().item()\n",
        "\n",
        "            wandb.log({\n",
        "                \"epoch\": epoch + 1,\n",
        "                \"train_loss\": running_loss / len(train_loader),\n",
        "                \"train_accuracy\": 100 * correct / total,\n",
        "                \"trial_name\": f\"m_{config.model}_dr_{config.dropout_method}_p_{config.dropout_prob}lr_{config.lr}_m_{config.momentum}\"  # Add trial name\n",
        "            })\n",
        "\n",
        "            print(f\"Epoch {epoch+1}, Loss: {running_loss / len(train_loader)}, Accuracy: {100 * correct / total}%\")\n",
        "\n",
        "# Evaluation function\n",
        "def evaluate(model, val_loader):\n",
        "    model.eval()\n",
        "    correct = 0\n",
        "    total = 0\n",
        "    with torch.no_grad():\n",
        "        for inputs, labels in val_loader:\n",
        "            inputs, labels = inputs.to(device), labels.to(device)\n",
        "            outputs = model(inputs)\n",
        "            _, predicted = torch.max(outputs.data, 1)\n",
        "            total += labels.size(0)\n",
        "            correct += (predicted == labels).sum().item()\n",
        "\n",
        "    accuracy = 100 * correct / total\n",
        "    return accuracy\n"
      ],
      "metadata": {
        "id": "iAmajWmH_7HJ"
      },
      "execution_count": 4,
      "outputs": []
    },
    {
      "cell_type": "code",
      "source": [
        "import wandb\n",
        "\n",
        "def run_experiment():\n",
        "    # Initialize a new wandb run\n",
        "    with wandb.init() as run:\n",
        "        # Access the sweep config from wandb\n",
        "        config = wandb.config\n",
        "\n",
        "        # Generate a custom trial name using hyperparameters from the config\n",
        "        trial_name = f\"m_{config.model}_dr_{config.dropout_method}_p_{config.dropout_prob}lr_{config.lr}_m_{config.momentum}\"\n",
        "\n",
        "        run.name = trial_name\n",
        "\n",
        "        # Build dataset for training and validation\n",
        "        train_loader, val_loader = build_dataset(config.batch_size)\n",
        "\n",
        "        # Choose model based on config\n",
        "        if config.model == 'create_standard_network_1':\n",
        "            model = create_standard_network_1().to(device)\n",
        "        elif config.model == 'create_standard_network_2':\n",
        "            model = create_standard_network_2().to(device)\n",
        "        elif config.model == 'create_dropout_network_logistic':\n",
        "            model = create_dropout_network_logistic().to(device)\n",
        "        elif config.model == 'create_dropout_network_relu':\n",
        "            model = create_dropout_network_relu().to(device)\n",
        "        else:\n",
        "            raise ValueError(f\"Unknown model: {config.model}\")\n",
        "\n",
        "        # Apply the selected dropout method\n",
        "        model = apply_dropout_method(model, config.dropout_method, dropout_prob=config.dropout_prob)\n",
        "\n",
        "        # Define loss and optimizer\n",
        "        criterion = nn.CrossEntropyLoss()\n",
        "        optimizer = get_optimizer(model, config.optimizer, config.lr)\n",
        "\n",
        "        # Train the model\n",
        "        train(model, train_loader, optimizer, criterion, config.epochs)\n",
        "\n",
        "        # Evaluate the model\n",
        "        val_accuracy = evaluate(model, val_loader)\n",
        "        wandb.log({\"validation_accuracy\": val_accuracy, \"trial_name\": trial_name})"
      ],
      "metadata": {
        "id": "zAq2kDei_8va"
      },
      "execution_count": 5,
      "outputs": []
    },
    {
      "cell_type": "code",
      "source": [
        "# Run the sweep\n",
        "wandb.agent(sweep_id, run_experiment,count=15)"
      ],
      "metadata": {
        "colab": {
          "base_uri": "https://localhost:8080/",
          "height": 1000
        },
        "id": "Hmu4oMLQACTN",
        "outputId": "ef578f0c-ea78-4bae-91eb-71bc6ce7de51"
      },
      "execution_count": 6,
      "outputs": [
        {
          "output_type": "stream",
          "name": "stderr",
          "text": [
            "\u001b[34m\u001b[1mwandb\u001b[0m: Agent Starting Run: v9tfq5la with config:\n",
            "\u001b[34m\u001b[1mwandb\u001b[0m: \tbatch_size: 64\n",
            "\u001b[34m\u001b[1mwandb\u001b[0m: \tdropout_method: random\n",
            "\u001b[34m\u001b[1mwandb\u001b[0m: \tdropout_prob: 0.2\n",
            "\u001b[34m\u001b[1mwandb\u001b[0m: \tepochs: 10\n",
            "\u001b[34m\u001b[1mwandb\u001b[0m: \tlr: 0.001\n",
            "\u001b[34m\u001b[1mwandb\u001b[0m: \tmodel: create_standard_network_2\n",
            "\u001b[34m\u001b[1mwandb\u001b[0m: \tmomentum: 0.9\n",
            "\u001b[34m\u001b[1mwandb\u001b[0m: \toptimizer: sgd\n",
            "\u001b[34m\u001b[1mwandb\u001b[0m: \tweight_init: random\n",
            "\u001b[34m\u001b[1mwandb\u001b[0m: Using wandb-core as the SDK backend.  Please refer to https://wandb.me/wandb-core for more information.\n"
          ]
        },
        {
          "output_type": "display_data",
          "data": {
            "text/plain": [
              "<IPython.core.display.HTML object>"
            ],
            "text/html": [
              "Tracking run with wandb version 0.19.6"
            ]
          },
          "metadata": {}
        },
        {
          "output_type": "display_data",
          "data": {
            "text/plain": [
              "<IPython.core.display.HTML object>"
            ],
            "text/html": [
              "Run data is saved locally in <code>/content/wandb/run-20250217_130229-v9tfq5la</code>"
            ]
          },
          "metadata": {}
        },
        {
          "output_type": "display_data",
          "data": {
            "text/plain": [
              "<IPython.core.display.HTML object>"
            ],
            "text/html": [
              "Syncing run <strong><a href='https://wandb.ai/shahi77-national-institute-of-technology-hamirpur/Dropout04/runs/v9tfq5la' target=\"_blank\">driven-sweep-1</a></strong> to <a href='https://wandb.ai/shahi77-national-institute-of-technology-hamirpur/Dropout04' target=\"_blank\">Weights & Biases</a> (<a href='https://wandb.me/developer-guide' target=\"_blank\">docs</a>)<br>Sweep page: <a href='https://wandb.ai/shahi77-national-institute-of-technology-hamirpur/Dropout04/sweeps/qf1328ih' target=\"_blank\">https://wandb.ai/shahi77-national-institute-of-technology-hamirpur/Dropout04/sweeps/qf1328ih</a>"
            ]
          },
          "metadata": {}
        },
        {
          "output_type": "display_data",
          "data": {
            "text/plain": [
              "<IPython.core.display.HTML object>"
            ],
            "text/html": [
              " View project at <a href='https://wandb.ai/shahi77-national-institute-of-technology-hamirpur/Dropout04' target=\"_blank\">https://wandb.ai/shahi77-national-institute-of-technology-hamirpur/Dropout04</a>"
            ]
          },
          "metadata": {}
        },
        {
          "output_type": "display_data",
          "data": {
            "text/plain": [
              "<IPython.core.display.HTML object>"
            ],
            "text/html": [
              " View sweep at <a href='https://wandb.ai/shahi77-national-institute-of-technology-hamirpur/Dropout04/sweeps/qf1328ih' target=\"_blank\">https://wandb.ai/shahi77-national-institute-of-technology-hamirpur/Dropout04/sweeps/qf1328ih</a>"
            ]
          },
          "metadata": {}
        },
        {
          "output_type": "display_data",
          "data": {
            "text/plain": [
              "<IPython.core.display.HTML object>"
            ],
            "text/html": [
              " View run at <a href='https://wandb.ai/shahi77-national-institute-of-technology-hamirpur/Dropout04/runs/v9tfq5la' target=\"_blank\">https://wandb.ai/shahi77-national-institute-of-technology-hamirpur/Dropout04/runs/v9tfq5la</a>"
            ]
          },
          "metadata": {}
        },
        {
          "output_type": "stream",
          "name": "stdout",
          "text": [
            "Downloading http://yann.lecun.com/exdb/mnist/train-images-idx3-ubyte.gz\n",
            "Failed to download (trying next):\n",
            "HTTP Error 404: Not Found\n",
            "\n",
            "Downloading https://ossci-datasets.s3.amazonaws.com/mnist/train-images-idx3-ubyte.gz\n",
            "Downloading https://ossci-datasets.s3.amazonaws.com/mnist/train-images-idx3-ubyte.gz to ./MNIST/raw/train-images-idx3-ubyte.gz\n"
          ]
        },
        {
          "output_type": "stream",
          "name": "stderr",
          "text": [
            "100%|██████████| 9.91M/9.91M [00:01<00:00, 5.26MB/s]\n"
          ]
        },
        {
          "output_type": "stream",
          "name": "stdout",
          "text": [
            "Extracting ./MNIST/raw/train-images-idx3-ubyte.gz to ./MNIST/raw\n",
            "\n",
            "Downloading http://yann.lecun.com/exdb/mnist/train-labels-idx1-ubyte.gz\n",
            "Failed to download (trying next):\n",
            "HTTP Error 404: Not Found\n",
            "\n",
            "Downloading https://ossci-datasets.s3.amazonaws.com/mnist/train-labels-idx1-ubyte.gz\n",
            "Downloading https://ossci-datasets.s3.amazonaws.com/mnist/train-labels-idx1-ubyte.gz to ./MNIST/raw/train-labels-idx1-ubyte.gz\n"
          ]
        },
        {
          "output_type": "stream",
          "name": "stderr",
          "text": [
            "100%|██████████| 28.9k/28.9k [00:00<00:00, 152kB/s]\n"
          ]
        },
        {
          "output_type": "stream",
          "name": "stdout",
          "text": [
            "Extracting ./MNIST/raw/train-labels-idx1-ubyte.gz to ./MNIST/raw\n",
            "\n",
            "Downloading http://yann.lecun.com/exdb/mnist/t10k-images-idx3-ubyte.gz\n",
            "Failed to download (trying next):\n",
            "HTTP Error 404: Not Found\n",
            "\n",
            "Downloading https://ossci-datasets.s3.amazonaws.com/mnist/t10k-images-idx3-ubyte.gz\n",
            "Downloading https://ossci-datasets.s3.amazonaws.com/mnist/t10k-images-idx3-ubyte.gz to ./MNIST/raw/t10k-images-idx3-ubyte.gz\n"
          ]
        },
        {
          "output_type": "stream",
          "name": "stderr",
          "text": [
            "100%|██████████| 1.65M/1.65M [00:01<00:00, 1.45MB/s]\n"
          ]
        },
        {
          "output_type": "stream",
          "name": "stdout",
          "text": [
            "Extracting ./MNIST/raw/t10k-images-idx3-ubyte.gz to ./MNIST/raw\n",
            "\n",
            "Downloading http://yann.lecun.com/exdb/mnist/t10k-labels-idx1-ubyte.gz\n",
            "Failed to download (trying next):\n",
            "HTTP Error 404: Not Found\n",
            "\n",
            "Downloading https://ossci-datasets.s3.amazonaws.com/mnist/t10k-labels-idx1-ubyte.gz\n",
            "Downloading https://ossci-datasets.s3.amazonaws.com/mnist/t10k-labels-idx1-ubyte.gz to ./MNIST/raw/t10k-labels-idx1-ubyte.gz\n"
          ]
        },
        {
          "output_type": "stream",
          "name": "stderr",
          "text": [
            "100%|██████████| 4.54k/4.54k [00:00<00:00, 2.92MB/s]\n"
          ]
        },
        {
          "output_type": "stream",
          "name": "stdout",
          "text": [
            "Extracting ./MNIST/raw/t10k-labels-idx1-ubyte.gz to ./MNIST/raw\n",
            "\n",
            "Epoch 1, Loss: 2.3106267339245403, Accuracy: 10.50925925925926%\n",
            "Epoch 2, Loss: 2.3095635893220585, Accuracy: 10.272222222222222%\n",
            "Epoch 3, Loss: 2.309007144087299, Accuracy: 10.59074074074074%\n",
            "Epoch 4, Loss: 2.3072172934410133, Accuracy: 10.707407407407407%\n",
            "Epoch 5, Loss: 2.306970873432702, Accuracy: 10.616666666666667%\n",
            "Epoch 6, Loss: 2.3057013447815775, Accuracy: 11.03888888888889%\n",
            "Epoch 7, Loss: 2.3047259749394455, Accuracy: 11.00925925925926%\n",
            "Epoch 8, Loss: 2.30427934801409, Accuracy: 10.91851851851852%\n",
            "Epoch 9, Loss: 2.3035729874931805, Accuracy: 11.012962962962963%\n",
            "Epoch 10, Loss: 2.3020088279981747, Accuracy: 11.298148148148147%\n"
          ]
        },
        {
          "output_type": "display_data",
          "data": {
            "text/plain": [
              "<IPython.core.display.HTML object>"
            ],
            "text/html": []
          },
          "metadata": {}
        },
        {
          "output_type": "display_data",
          "data": {
            "text/plain": [
              "<IPython.core.display.HTML object>"
            ],
            "text/html": [
              "<br>    <style><br>        .wandb-row {<br>            display: flex;<br>            flex-direction: row;<br>            flex-wrap: wrap;<br>            justify-content: flex-start;<br>            width: 100%;<br>        }<br>        .wandb-col {<br>            display: flex;<br>            flex-direction: column;<br>            flex-basis: 100%;<br>            flex: 1;<br>            padding: 10px;<br>        }<br>    </style><br><div class=\"wandb-row\"><div class=\"wandb-col\"><h3>Run history:</h3><br/><table class=\"wandb\"><tr><td>epoch</td><td>▁▂▃▃▄▅▆▆▇█</td></tr><tr><td>train_accuracy</td><td>▃▁▃▄▃▆▆▅▆█</td></tr><tr><td>train_loss</td><td>█▇▇▅▅▄▃▃▂▁</td></tr><tr><td>validation_accuracy</td><td>▁</td></tr></table><br/></div><div class=\"wandb-col\"><h3>Run summary:</h3><br/><table class=\"wandb\"><tr><td>epoch</td><td>10</td></tr><tr><td>train_accuracy</td><td>11.29815</td></tr><tr><td>train_loss</td><td>2.30201</td></tr><tr><td>trial_name</td><td>m_create_standard_ne...</td></tr><tr><td>validation_accuracy</td><td>10.91667</td></tr></table><br/></div></div>"
            ]
          },
          "metadata": {}
        },
        {
          "output_type": "display_data",
          "data": {
            "text/plain": [
              "<IPython.core.display.HTML object>"
            ],
            "text/html": [
              " View run <strong style=\"color:#cdcd00\">m_create_standard_network_2_dr_random_p_0.2lr_0.001_m_0.9</strong> at: <a href='https://wandb.ai/shahi77-national-institute-of-technology-hamirpur/Dropout04/runs/v9tfq5la' target=\"_blank\">https://wandb.ai/shahi77-national-institute-of-technology-hamirpur/Dropout04/runs/v9tfq5la</a><br> View project at: <a href='https://wandb.ai/shahi77-national-institute-of-technology-hamirpur/Dropout04' target=\"_blank\">https://wandb.ai/shahi77-national-institute-of-technology-hamirpur/Dropout04</a><br>Synced 5 W&B file(s), 0 media file(s), 0 artifact file(s) and 0 other file(s)"
            ]
          },
          "metadata": {}
        },
        {
          "output_type": "display_data",
          "data": {
            "text/plain": [
              "<IPython.core.display.HTML object>"
            ],
            "text/html": [
              "Find logs at: <code>./wandb/run-20250217_130229-v9tfq5la/logs</code>"
            ]
          },
          "metadata": {}
        },
        {
          "output_type": "stream",
          "name": "stderr",
          "text": [
            "\u001b[34m\u001b[1mwandb\u001b[0m: Agent Starting Run: p94e56ji with config:\n",
            "\u001b[34m\u001b[1mwandb\u001b[0m: \tbatch_size: 64\n",
            "\u001b[34m\u001b[1mwandb\u001b[0m: \tdropout_method: dropblock\n",
            "\u001b[34m\u001b[1mwandb\u001b[0m: \tdropout_prob: 0.3\n",
            "\u001b[34m\u001b[1mwandb\u001b[0m: \tepochs: 10\n",
            "\u001b[34m\u001b[1mwandb\u001b[0m: \tlr: 0.01\n",
            "\u001b[34m\u001b[1mwandb\u001b[0m: \tmodel: create_standard_network_1\n",
            "\u001b[34m\u001b[1mwandb\u001b[0m: \tmomentum: 0.9\n",
            "\u001b[34m\u001b[1mwandb\u001b[0m: \toptimizer: sgd\n",
            "\u001b[34m\u001b[1mwandb\u001b[0m: \tweight_init: random\n"
          ]
        },
        {
          "output_type": "display_data",
          "data": {
            "text/plain": [
              "<IPython.core.display.HTML object>"
            ],
            "text/html": [
              "Tracking run with wandb version 0.19.6"
            ]
          },
          "metadata": {}
        },
        {
          "output_type": "display_data",
          "data": {
            "text/plain": [
              "<IPython.core.display.HTML object>"
            ],
            "text/html": [
              "Run data is saved locally in <code>/content/wandb/run-20250217_130638-p94e56ji</code>"
            ]
          },
          "metadata": {}
        },
        {
          "output_type": "display_data",
          "data": {
            "text/plain": [
              "<IPython.core.display.HTML object>"
            ],
            "text/html": [
              "Syncing run <strong><a href='https://wandb.ai/shahi77-national-institute-of-technology-hamirpur/Dropout04/runs/p94e56ji' target=\"_blank\">zesty-sweep-2</a></strong> to <a href='https://wandb.ai/shahi77-national-institute-of-technology-hamirpur/Dropout04' target=\"_blank\">Weights & Biases</a> (<a href='https://wandb.me/developer-guide' target=\"_blank\">docs</a>)<br>Sweep page: <a href='https://wandb.ai/shahi77-national-institute-of-technology-hamirpur/Dropout04/sweeps/qf1328ih' target=\"_blank\">https://wandb.ai/shahi77-national-institute-of-technology-hamirpur/Dropout04/sweeps/qf1328ih</a>"
            ]
          },
          "metadata": {}
        },
        {
          "output_type": "display_data",
          "data": {
            "text/plain": [
              "<IPython.core.display.HTML object>"
            ],
            "text/html": [
              " View project at <a href='https://wandb.ai/shahi77-national-institute-of-technology-hamirpur/Dropout04' target=\"_blank\">https://wandb.ai/shahi77-national-institute-of-technology-hamirpur/Dropout04</a>"
            ]
          },
          "metadata": {}
        },
        {
          "output_type": "display_data",
          "data": {
            "text/plain": [
              "<IPython.core.display.HTML object>"
            ],
            "text/html": [
              " View sweep at <a href='https://wandb.ai/shahi77-national-institute-of-technology-hamirpur/Dropout04/sweeps/qf1328ih' target=\"_blank\">https://wandb.ai/shahi77-national-institute-of-technology-hamirpur/Dropout04/sweeps/qf1328ih</a>"
            ]
          },
          "metadata": {}
        },
        {
          "output_type": "display_data",
          "data": {
            "text/plain": [
              "<IPython.core.display.HTML object>"
            ],
            "text/html": [
              " View run at <a href='https://wandb.ai/shahi77-national-institute-of-technology-hamirpur/Dropout04/runs/p94e56ji' target=\"_blank\">https://wandb.ai/shahi77-national-institute-of-technology-hamirpur/Dropout04/runs/p94e56ji</a>"
            ]
          },
          "metadata": {}
        },
        {
          "output_type": "stream",
          "name": "stdout",
          "text": [
            "Epoch 1, Loss: 2.3031999406656385, Accuracy: 10.62962962962963%\n",
            "Epoch 2, Loss: 2.3030581592948516, Accuracy: 10.655555555555555%\n",
            "Epoch 3, Loss: 2.3028893083757698, Accuracy: 10.829629629629629%\n",
            "Epoch 4, Loss: 2.3029235169220876, Accuracy: 10.931481481481482%\n",
            "Epoch 5, Loss: 2.3030373310025833, Accuracy: 10.692592592592593%\n",
            "Epoch 6, Loss: 2.3027734796017834, Accuracy: 10.8%\n",
            "Epoch 7, Loss: 2.3026011583364405, Accuracy: 10.940740740740742%\n",
            "Epoch 8, Loss: 2.302071382649137, Accuracy: 11.12962962962963%\n",
            "Epoch 9, Loss: 2.3022544787958337, Accuracy: 10.855555555555556%\n",
            "Epoch 10, Loss: 2.302238217744782, Accuracy: 11.044444444444444%\n"
          ]
        },
        {
          "output_type": "display_data",
          "data": {
            "text/plain": [
              "<IPython.core.display.HTML object>"
            ],
            "text/html": []
          },
          "metadata": {}
        },
        {
          "output_type": "display_data",
          "data": {
            "text/plain": [
              "<IPython.core.display.HTML object>"
            ],
            "text/html": [
              "<br>    <style><br>        .wandb-row {<br>            display: flex;<br>            flex-direction: row;<br>            flex-wrap: wrap;<br>            justify-content: flex-start;<br>            width: 100%;<br>        }<br>        .wandb-col {<br>            display: flex;<br>            flex-direction: column;<br>            flex-basis: 100%;<br>            flex: 1;<br>            padding: 10px;<br>        }<br>    </style><br><div class=\"wandb-row\"><div class=\"wandb-col\"><h3>Run history:</h3><br/><table class=\"wandb\"><tr><td>epoch</td><td>▁▂▃▃▄▅▆▆▇█</td></tr><tr><td>train_accuracy</td><td>▁▁▄▅▂▃▅█▄▇</td></tr><tr><td>train_loss</td><td>█▇▆▆▇▅▄▁▂▂</td></tr><tr><td>validation_accuracy</td><td>▁</td></tr></table><br/></div><div class=\"wandb-col\"><h3>Run summary:</h3><br/><table class=\"wandb\"><tr><td>epoch</td><td>10</td></tr><tr><td>train_accuracy</td><td>11.04444</td></tr><tr><td>train_loss</td><td>2.30224</td></tr><tr><td>trial_name</td><td>m_create_standard_ne...</td></tr><tr><td>validation_accuracy</td><td>11.75</td></tr></table><br/></div></div>"
            ]
          },
          "metadata": {}
        },
        {
          "output_type": "display_data",
          "data": {
            "text/plain": [
              "<IPython.core.display.HTML object>"
            ],
            "text/html": [
              " View run <strong style=\"color:#cdcd00\">m_create_standard_network_1_dr_dropblock_p_0.3lr_0.01_m_0.9</strong> at: <a href='https://wandb.ai/shahi77-national-institute-of-technology-hamirpur/Dropout04/runs/p94e56ji' target=\"_blank\">https://wandb.ai/shahi77-national-institute-of-technology-hamirpur/Dropout04/runs/p94e56ji</a><br> View project at: <a href='https://wandb.ai/shahi77-national-institute-of-technology-hamirpur/Dropout04' target=\"_blank\">https://wandb.ai/shahi77-national-institute-of-technology-hamirpur/Dropout04</a><br>Synced 5 W&B file(s), 0 media file(s), 0 artifact file(s) and 0 other file(s)"
            ]
          },
          "metadata": {}
        },
        {
          "output_type": "display_data",
          "data": {
            "text/plain": [
              "<IPython.core.display.HTML object>"
            ],
            "text/html": [
              "Find logs at: <code>./wandb/run-20250217_130638-p94e56ji/logs</code>"
            ]
          },
          "metadata": {}
        },
        {
          "output_type": "stream",
          "name": "stderr",
          "text": [
            "\u001b[34m\u001b[1mwandb\u001b[0m: Agent Starting Run: rx06qchq with config:\n",
            "\u001b[34m\u001b[1mwandb\u001b[0m: \tbatch_size: 64\n",
            "\u001b[34m\u001b[1mwandb\u001b[0m: \tdropout_method: random\n",
            "\u001b[34m\u001b[1mwandb\u001b[0m: \tdropout_prob: 0.2\n",
            "\u001b[34m\u001b[1mwandb\u001b[0m: \tepochs: 10\n",
            "\u001b[34m\u001b[1mwandb\u001b[0m: \tlr: 0.01\n",
            "\u001b[34m\u001b[1mwandb\u001b[0m: \tmodel: create_dropout_network_relu\n",
            "\u001b[34m\u001b[1mwandb\u001b[0m: \tmomentum: 0.9\n",
            "\u001b[34m\u001b[1mwandb\u001b[0m: \toptimizer: sgd\n",
            "\u001b[34m\u001b[1mwandb\u001b[0m: \tweight_init: random\n"
          ]
        },
        {
          "output_type": "display_data",
          "data": {
            "text/plain": [
              "<IPython.core.display.HTML object>"
            ],
            "text/html": [
              "Tracking run with wandb version 0.19.6"
            ]
          },
          "metadata": {}
        },
        {
          "output_type": "display_data",
          "data": {
            "text/plain": [
              "<IPython.core.display.HTML object>"
            ],
            "text/html": [
              "Run data is saved locally in <code>/content/wandb/run-20250217_130915-rx06qchq</code>"
            ]
          },
          "metadata": {}
        },
        {
          "output_type": "display_data",
          "data": {
            "text/plain": [
              "<IPython.core.display.HTML object>"
            ],
            "text/html": [
              "Syncing run <strong><a href='https://wandb.ai/shahi77-national-institute-of-technology-hamirpur/Dropout04/runs/rx06qchq' target=\"_blank\">morning-sweep-3</a></strong> to <a href='https://wandb.ai/shahi77-national-institute-of-technology-hamirpur/Dropout04' target=\"_blank\">Weights & Biases</a> (<a href='https://wandb.me/developer-guide' target=\"_blank\">docs</a>)<br>Sweep page: <a href='https://wandb.ai/shahi77-national-institute-of-technology-hamirpur/Dropout04/sweeps/qf1328ih' target=\"_blank\">https://wandb.ai/shahi77-national-institute-of-technology-hamirpur/Dropout04/sweeps/qf1328ih</a>"
            ]
          },
          "metadata": {}
        },
        {
          "output_type": "display_data",
          "data": {
            "text/plain": [
              "<IPython.core.display.HTML object>"
            ],
            "text/html": [
              " View project at <a href='https://wandb.ai/shahi77-national-institute-of-technology-hamirpur/Dropout04' target=\"_blank\">https://wandb.ai/shahi77-national-institute-of-technology-hamirpur/Dropout04</a>"
            ]
          },
          "metadata": {}
        },
        {
          "output_type": "display_data",
          "data": {
            "text/plain": [
              "<IPython.core.display.HTML object>"
            ],
            "text/html": [
              " View sweep at <a href='https://wandb.ai/shahi77-national-institute-of-technology-hamirpur/Dropout04/sweeps/qf1328ih' target=\"_blank\">https://wandb.ai/shahi77-national-institute-of-technology-hamirpur/Dropout04/sweeps/qf1328ih</a>"
            ]
          },
          "metadata": {}
        },
        {
          "output_type": "display_data",
          "data": {
            "text/plain": [
              "<IPython.core.display.HTML object>"
            ],
            "text/html": [
              " View run at <a href='https://wandb.ai/shahi77-national-institute-of-technology-hamirpur/Dropout04/runs/rx06qchq' target=\"_blank\">https://wandb.ai/shahi77-national-institute-of-technology-hamirpur/Dropout04/runs/rx06qchq</a>"
            ]
          },
          "metadata": {}
        },
        {
          "output_type": "stream",
          "name": "stdout",
          "text": [
            "Epoch 1, Loss: 2.2852392380271476, Accuracy: 21.694444444444443%\n",
            "Epoch 2, Loss: 1.416105817208923, Accuracy: 53.68703703703704%\n",
            "Epoch 3, Loss: 0.574048833471339, Accuracy: 82.33703703703704%\n",
            "Epoch 4, Loss: 0.40803594482947864, Accuracy: 87.87777777777778%\n",
            "Epoch 5, Loss: 0.3271725147397597, Accuracy: 90.56111111111112%\n",
            "Epoch 6, Loss: 0.27143678877290817, Accuracy: 91.95925925925926%\n",
            "Epoch 7, Loss: 0.23015742094843025, Accuracy: 93.17962962962963%\n",
            "Epoch 8, Loss: 0.19987236142546927, Accuracy: 94.07407407407408%\n",
            "Epoch 9, Loss: 0.1781525617284409, Accuracy: 94.75185185185185%\n",
            "Epoch 10, Loss: 0.16138505093726854, Accuracy: 95.27407407407408%\n"
          ]
        },
        {
          "output_type": "display_data",
          "data": {
            "text/plain": [
              "<IPython.core.display.HTML object>"
            ],
            "text/html": []
          },
          "metadata": {}
        },
        {
          "output_type": "display_data",
          "data": {
            "text/plain": [
              "<IPython.core.display.HTML object>"
            ],
            "text/html": [
              "<br>    <style><br>        .wandb-row {<br>            display: flex;<br>            flex-direction: row;<br>            flex-wrap: wrap;<br>            justify-content: flex-start;<br>            width: 100%;<br>        }<br>        .wandb-col {<br>            display: flex;<br>            flex-direction: column;<br>            flex-basis: 100%;<br>            flex: 1;<br>            padding: 10px;<br>        }<br>    </style><br><div class=\"wandb-row\"><div class=\"wandb-col\"><h3>Run history:</h3><br/><table class=\"wandb\"><tr><td>epoch</td><td>▁▂▃▃▄▅▆▆▇█</td></tr><tr><td>train_accuracy</td><td>▁▄▇▇██████</td></tr><tr><td>train_loss</td><td>█▅▂▂▂▁▁▁▁▁</td></tr><tr><td>validation_accuracy</td><td>▁</td></tr></table><br/></div><div class=\"wandb-col\"><h3>Run summary:</h3><br/><table class=\"wandb\"><tr><td>epoch</td><td>10</td></tr><tr><td>train_accuracy</td><td>95.27407</td></tr><tr><td>train_loss</td><td>0.16139</td></tr><tr><td>trial_name</td><td>m_create_dropout_net...</td></tr><tr><td>validation_accuracy</td><td>95.81667</td></tr></table><br/></div></div>"
            ]
          },
          "metadata": {}
        },
        {
          "output_type": "display_data",
          "data": {
            "text/plain": [
              "<IPython.core.display.HTML object>"
            ],
            "text/html": [
              " View run <strong style=\"color:#cdcd00\">m_create_dropout_network_relu_dr_random_p_0.2lr_0.01_m_0.9</strong> at: <a href='https://wandb.ai/shahi77-national-institute-of-technology-hamirpur/Dropout04/runs/rx06qchq' target=\"_blank\">https://wandb.ai/shahi77-national-institute-of-technology-hamirpur/Dropout04/runs/rx06qchq</a><br> View project at: <a href='https://wandb.ai/shahi77-national-institute-of-technology-hamirpur/Dropout04' target=\"_blank\">https://wandb.ai/shahi77-national-institute-of-technology-hamirpur/Dropout04</a><br>Synced 5 W&B file(s), 0 media file(s), 0 artifact file(s) and 0 other file(s)"
            ]
          },
          "metadata": {}
        },
        {
          "output_type": "display_data",
          "data": {
            "text/plain": [
              "<IPython.core.display.HTML object>"
            ],
            "text/html": [
              "Find logs at: <code>./wandb/run-20250217_130915-rx06qchq/logs</code>"
            ]
          },
          "metadata": {}
        },
        {
          "output_type": "stream",
          "name": "stderr",
          "text": [
            "\u001b[34m\u001b[1mwandb\u001b[0m: Agent Starting Run: 9jxjxwf9 with config:\n",
            "\u001b[34m\u001b[1mwandb\u001b[0m: \tbatch_size: 64\n",
            "\u001b[34m\u001b[1mwandb\u001b[0m: \tdropout_method: maxdropout\n",
            "\u001b[34m\u001b[1mwandb\u001b[0m: \tdropout_prob: 0.5\n",
            "\u001b[34m\u001b[1mwandb\u001b[0m: \tepochs: 10\n",
            "\u001b[34m\u001b[1mwandb\u001b[0m: \tlr: 0.01\n",
            "\u001b[34m\u001b[1mwandb\u001b[0m: \tmodel: create_standard_network_2\n",
            "\u001b[34m\u001b[1mwandb\u001b[0m: \tmomentum: 0.9\n",
            "\u001b[34m\u001b[1mwandb\u001b[0m: \toptimizer: sgd\n",
            "\u001b[34m\u001b[1mwandb\u001b[0m: \tweight_init: random\n"
          ]
        },
        {
          "output_type": "display_data",
          "data": {
            "text/plain": [
              "<IPython.core.display.HTML object>"
            ],
            "text/html": [
              "Tracking run with wandb version 0.19.6"
            ]
          },
          "metadata": {}
        },
        {
          "output_type": "display_data",
          "data": {
            "text/plain": [
              "<IPython.core.display.HTML object>"
            ],
            "text/html": [
              "Run data is saved locally in <code>/content/wandb/run-20250217_131534-9jxjxwf9</code>"
            ]
          },
          "metadata": {}
        },
        {
          "output_type": "display_data",
          "data": {
            "text/plain": [
              "<IPython.core.display.HTML object>"
            ],
            "text/html": [
              "Syncing run <strong><a href='https://wandb.ai/shahi77-national-institute-of-technology-hamirpur/Dropout04/runs/9jxjxwf9' target=\"_blank\">fancy-sweep-4</a></strong> to <a href='https://wandb.ai/shahi77-national-institute-of-technology-hamirpur/Dropout04' target=\"_blank\">Weights & Biases</a> (<a href='https://wandb.me/developer-guide' target=\"_blank\">docs</a>)<br>Sweep page: <a href='https://wandb.ai/shahi77-national-institute-of-technology-hamirpur/Dropout04/sweeps/qf1328ih' target=\"_blank\">https://wandb.ai/shahi77-national-institute-of-technology-hamirpur/Dropout04/sweeps/qf1328ih</a>"
            ]
          },
          "metadata": {}
        },
        {
          "output_type": "display_data",
          "data": {
            "text/plain": [
              "<IPython.core.display.HTML object>"
            ],
            "text/html": [
              " View project at <a href='https://wandb.ai/shahi77-national-institute-of-technology-hamirpur/Dropout04' target=\"_blank\">https://wandb.ai/shahi77-national-institute-of-technology-hamirpur/Dropout04</a>"
            ]
          },
          "metadata": {}
        },
        {
          "output_type": "display_data",
          "data": {
            "text/plain": [
              "<IPython.core.display.HTML object>"
            ],
            "text/html": [
              " View sweep at <a href='https://wandb.ai/shahi77-national-institute-of-technology-hamirpur/Dropout04/sweeps/qf1328ih' target=\"_blank\">https://wandb.ai/shahi77-national-institute-of-technology-hamirpur/Dropout04/sweeps/qf1328ih</a>"
            ]
          },
          "metadata": {}
        },
        {
          "output_type": "display_data",
          "data": {
            "text/plain": [
              "<IPython.core.display.HTML object>"
            ],
            "text/html": [
              " View run at <a href='https://wandb.ai/shahi77-national-institute-of-technology-hamirpur/Dropout04/runs/9jxjxwf9' target=\"_blank\">https://wandb.ai/shahi77-national-institute-of-technology-hamirpur/Dropout04/runs/9jxjxwf9</a>"
            ]
          },
          "metadata": {}
        },
        {
          "output_type": "stream",
          "name": "stdout",
          "text": [
            "Epoch 1, Loss: 2.3144466843085265, Accuracy: 10.58148148148148%\n",
            "Epoch 2, Loss: 2.3067024460336043, Accuracy: 11.514814814814814%\n",
            "Epoch 3, Loss: 2.292291136432033, Accuracy: 13.187037037037037%\n",
            "Epoch 4, Loss: 2.235943135209558, Accuracy: 18.54074074074074%\n",
            "Epoch 5, Loss: 1.9771226109204134, Accuracy: 31.746296296296297%\n",
            "Epoch 6, Loss: 1.5355960661766088, Accuracy: 45.20925925925926%\n",
            "Epoch 7, Loss: 1.2250512471131239, Accuracy: 56.105555555555554%\n",
            "Epoch 8, Loss: 1.023503540322114, Accuracy: 63.56481481481482%\n",
            "Epoch 9, Loss: 0.9123693003332446, Accuracy: 68.35740740740741%\n",
            "Epoch 10, Loss: 0.834683044438396, Accuracy: 71.52962962962962%\n"
          ]
        },
        {
          "output_type": "display_data",
          "data": {
            "text/plain": [
              "<IPython.core.display.HTML object>"
            ],
            "text/html": []
          },
          "metadata": {}
        },
        {
          "output_type": "display_data",
          "data": {
            "text/plain": [
              "<IPython.core.display.HTML object>"
            ],
            "text/html": [
              "<br>    <style><br>        .wandb-row {<br>            display: flex;<br>            flex-direction: row;<br>            flex-wrap: wrap;<br>            justify-content: flex-start;<br>            width: 100%;<br>        }<br>        .wandb-col {<br>            display: flex;<br>            flex-direction: column;<br>            flex-basis: 100%;<br>            flex: 1;<br>            padding: 10px;<br>        }<br>    </style><br><div class=\"wandb-row\"><div class=\"wandb-col\"><h3>Run history:</h3><br/><table class=\"wandb\"><tr><td>epoch</td><td>▁▂▃▃▄▅▆▆▇█</td></tr><tr><td>train_accuracy</td><td>▁▁▁▂▃▅▆▇██</td></tr><tr><td>train_loss</td><td>████▆▄▃▂▁▁</td></tr><tr><td>validation_accuracy</td><td>▁</td></tr></table><br/></div><div class=\"wandb-col\"><h3>Run summary:</h3><br/><table class=\"wandb\"><tr><td>epoch</td><td>10</td></tr><tr><td>train_accuracy</td><td>71.52963</td></tr><tr><td>train_loss</td><td>0.83468</td></tr><tr><td>trial_name</td><td>m_create_standard_ne...</td></tr><tr><td>validation_accuracy</td><td>77.7</td></tr></table><br/></div></div>"
            ]
          },
          "metadata": {}
        },
        {
          "output_type": "display_data",
          "data": {
            "text/plain": [
              "<IPython.core.display.HTML object>"
            ],
            "text/html": [
              " View run <strong style=\"color:#cdcd00\">m_create_standard_network_2_dr_maxdropout_p_0.5lr_0.01_m_0.9</strong> at: <a href='https://wandb.ai/shahi77-national-institute-of-technology-hamirpur/Dropout04/runs/9jxjxwf9' target=\"_blank\">https://wandb.ai/shahi77-national-institute-of-technology-hamirpur/Dropout04/runs/9jxjxwf9</a><br> View project at: <a href='https://wandb.ai/shahi77-national-institute-of-technology-hamirpur/Dropout04' target=\"_blank\">https://wandb.ai/shahi77-national-institute-of-technology-hamirpur/Dropout04</a><br>Synced 5 W&B file(s), 0 media file(s), 0 artifact file(s) and 0 other file(s)"
            ]
          },
          "metadata": {}
        },
        {
          "output_type": "display_data",
          "data": {
            "text/plain": [
              "<IPython.core.display.HTML object>"
            ],
            "text/html": [
              "Find logs at: <code>./wandb/run-20250217_131534-9jxjxwf9/logs</code>"
            ]
          },
          "metadata": {}
        },
        {
          "output_type": "stream",
          "name": "stderr",
          "text": [
            "\u001b[34m\u001b[1mwandb\u001b[0m: Agent Starting Run: utvy21jc with config:\n",
            "\u001b[34m\u001b[1mwandb\u001b[0m: \tbatch_size: 64\n",
            "\u001b[34m\u001b[1mwandb\u001b[0m: \tdropout_method: biased_dropout\n",
            "\u001b[34m\u001b[1mwandb\u001b[0m: \tdropout_prob: 0.5\n",
            "\u001b[34m\u001b[1mwandb\u001b[0m: \tepochs: 10\n",
            "\u001b[34m\u001b[1mwandb\u001b[0m: \tlr: 0.001\n",
            "\u001b[34m\u001b[1mwandb\u001b[0m: \tmodel: create_standard_network_2\n",
            "\u001b[34m\u001b[1mwandb\u001b[0m: \tmomentum: 0.9\n",
            "\u001b[34m\u001b[1mwandb\u001b[0m: \toptimizer: sgd\n",
            "\u001b[34m\u001b[1mwandb\u001b[0m: \tweight_init: random\n"
          ]
        },
        {
          "output_type": "display_data",
          "data": {
            "text/plain": [
              "<IPython.core.display.HTML object>"
            ],
            "text/html": [
              "Tracking run with wandb version 0.19.6"
            ]
          },
          "metadata": {}
        },
        {
          "output_type": "display_data",
          "data": {
            "text/plain": [
              "<IPython.core.display.HTML object>"
            ],
            "text/html": [
              "Run data is saved locally in <code>/content/wandb/run-20250217_131929-utvy21jc</code>"
            ]
          },
          "metadata": {}
        },
        {
          "output_type": "display_data",
          "data": {
            "text/plain": [
              "<IPython.core.display.HTML object>"
            ],
            "text/html": [
              "Syncing run <strong><a href='https://wandb.ai/shahi77-national-institute-of-technology-hamirpur/Dropout04/runs/utvy21jc' target=\"_blank\">tough-sweep-5</a></strong> to <a href='https://wandb.ai/shahi77-national-institute-of-technology-hamirpur/Dropout04' target=\"_blank\">Weights & Biases</a> (<a href='https://wandb.me/developer-guide' target=\"_blank\">docs</a>)<br>Sweep page: <a href='https://wandb.ai/shahi77-national-institute-of-technology-hamirpur/Dropout04/sweeps/qf1328ih' target=\"_blank\">https://wandb.ai/shahi77-national-institute-of-technology-hamirpur/Dropout04/sweeps/qf1328ih</a>"
            ]
          },
          "metadata": {}
        },
        {
          "output_type": "display_data",
          "data": {
            "text/plain": [
              "<IPython.core.display.HTML object>"
            ],
            "text/html": [
              " View project at <a href='https://wandb.ai/shahi77-national-institute-of-technology-hamirpur/Dropout04' target=\"_blank\">https://wandb.ai/shahi77-national-institute-of-technology-hamirpur/Dropout04</a>"
            ]
          },
          "metadata": {}
        },
        {
          "output_type": "display_data",
          "data": {
            "text/plain": [
              "<IPython.core.display.HTML object>"
            ],
            "text/html": [
              " View sweep at <a href='https://wandb.ai/shahi77-national-institute-of-technology-hamirpur/Dropout04/sweeps/qf1328ih' target=\"_blank\">https://wandb.ai/shahi77-national-institute-of-technology-hamirpur/Dropout04/sweeps/qf1328ih</a>"
            ]
          },
          "metadata": {}
        },
        {
          "output_type": "display_data",
          "data": {
            "text/plain": [
              "<IPython.core.display.HTML object>"
            ],
            "text/html": [
              " View run at <a href='https://wandb.ai/shahi77-national-institute-of-technology-hamirpur/Dropout04/runs/utvy21jc' target=\"_blank\">https://wandb.ai/shahi77-national-institute-of-technology-hamirpur/Dropout04/runs/utvy21jc</a>"
            ]
          },
          "metadata": {}
        },
        {
          "output_type": "stream",
          "name": "stdout",
          "text": [
            "Epoch 1, Loss: 2.3105598244621857, Accuracy: 10.253703703703703%\n",
            "Epoch 2, Loss: 2.3093936138243474, Accuracy: 10.562962962962963%\n",
            "Epoch 3, Loss: 2.308897952897854, Accuracy: 10.451851851851853%\n",
            "Epoch 4, Loss: 2.3070224927499963, Accuracy: 10.714814814814815%\n",
            "Epoch 5, Loss: 2.3070722211028727, Accuracy: 10.62037037037037%\n",
            "Epoch 6, Loss: 2.3063156186686875, Accuracy: 10.942592592592593%\n",
            "Epoch 7, Loss: 2.3055620255628466, Accuracy: 11.07037037037037%\n",
            "Epoch 8, Loss: 2.3044907148415446, Accuracy: 11.166666666666666%\n",
            "Epoch 9, Loss: 2.3024540676324854, Accuracy: 11.227777777777778%\n",
            "Epoch 10, Loss: 2.302882396779354, Accuracy: 11.244444444444444%\n"
          ]
        },
        {
          "output_type": "display_data",
          "data": {
            "text/plain": [
              "<IPython.core.display.HTML object>"
            ],
            "text/html": []
          },
          "metadata": {}
        },
        {
          "output_type": "display_data",
          "data": {
            "text/plain": [
              "<IPython.core.display.HTML object>"
            ],
            "text/html": [
              "<br>    <style><br>        .wandb-row {<br>            display: flex;<br>            flex-direction: row;<br>            flex-wrap: wrap;<br>            justify-content: flex-start;<br>            width: 100%;<br>        }<br>        .wandb-col {<br>            display: flex;<br>            flex-direction: column;<br>            flex-basis: 100%;<br>            flex: 1;<br>            padding: 10px;<br>        }<br>    </style><br><div class=\"wandb-row\"><div class=\"wandb-col\"><h3>Run history:</h3><br/><table class=\"wandb\"><tr><td>epoch</td><td>▁▂▃▃▄▅▆▆▇█</td></tr><tr><td>train_accuracy</td><td>▁▃▂▄▄▆▇▇██</td></tr><tr><td>train_loss</td><td>█▇▇▅▅▄▄▃▁▁</td></tr><tr><td>validation_accuracy</td><td>▁</td></tr></table><br/></div><div class=\"wandb-col\"><h3>Run summary:</h3><br/><table class=\"wandb\"><tr><td>epoch</td><td>10</td></tr><tr><td>train_accuracy</td><td>11.24444</td></tr><tr><td>train_loss</td><td>2.30288</td></tr><tr><td>trial_name</td><td>m_create_standard_ne...</td></tr><tr><td>validation_accuracy</td><td>11.06667</td></tr></table><br/></div></div>"
            ]
          },
          "metadata": {}
        },
        {
          "output_type": "display_data",
          "data": {
            "text/plain": [
              "<IPython.core.display.HTML object>"
            ],
            "text/html": [
              " View run <strong style=\"color:#cdcd00\">m_create_standard_network_2_dr_biased_dropout_p_0.5lr_0.001_m_0.9</strong> at: <a href='https://wandb.ai/shahi77-national-institute-of-technology-hamirpur/Dropout04/runs/utvy21jc' target=\"_blank\">https://wandb.ai/shahi77-national-institute-of-technology-hamirpur/Dropout04/runs/utvy21jc</a><br> View project at: <a href='https://wandb.ai/shahi77-national-institute-of-technology-hamirpur/Dropout04' target=\"_blank\">https://wandb.ai/shahi77-national-institute-of-technology-hamirpur/Dropout04</a><br>Synced 5 W&B file(s), 0 media file(s), 0 artifact file(s) and 0 other file(s)"
            ]
          },
          "metadata": {}
        },
        {
          "output_type": "display_data",
          "data": {
            "text/plain": [
              "<IPython.core.display.HTML object>"
            ],
            "text/html": [
              "Find logs at: <code>./wandb/run-20250217_131929-utvy21jc/logs</code>"
            ]
          },
          "metadata": {}
        },
        {
          "output_type": "stream",
          "name": "stderr",
          "text": [
            "\u001b[34m\u001b[1mwandb\u001b[0m: Agent Starting Run: 8qgevo2y with config:\n",
            "\u001b[34m\u001b[1mwandb\u001b[0m: \tbatch_size: 64\n",
            "\u001b[34m\u001b[1mwandb\u001b[0m: \tdropout_method: random\n",
            "\u001b[34m\u001b[1mwandb\u001b[0m: \tdropout_prob: 0.5\n",
            "\u001b[34m\u001b[1mwandb\u001b[0m: \tepochs: 10\n",
            "\u001b[34m\u001b[1mwandb\u001b[0m: \tlr: 0.01\n",
            "\u001b[34m\u001b[1mwandb\u001b[0m: \tmodel: create_dropout_network_logistic\n",
            "\u001b[34m\u001b[1mwandb\u001b[0m: \tmomentum: 0.99\n",
            "\u001b[34m\u001b[1mwandb\u001b[0m: \toptimizer: sgd\n",
            "\u001b[34m\u001b[1mwandb\u001b[0m: \tweight_init: random\n"
          ]
        },
        {
          "output_type": "display_data",
          "data": {
            "text/plain": [
              "<IPython.core.display.HTML object>"
            ],
            "text/html": [
              "Tracking run with wandb version 0.19.6"
            ]
          },
          "metadata": {}
        },
        {
          "output_type": "display_data",
          "data": {
            "text/plain": [
              "<IPython.core.display.HTML object>"
            ],
            "text/html": [
              "Run data is saved locally in <code>/content/wandb/run-20250217_132328-8qgevo2y</code>"
            ]
          },
          "metadata": {}
        },
        {
          "output_type": "display_data",
          "data": {
            "text/plain": [
              "<IPython.core.display.HTML object>"
            ],
            "text/html": [
              "Syncing run <strong><a href='https://wandb.ai/shahi77-national-institute-of-technology-hamirpur/Dropout04/runs/8qgevo2y' target=\"_blank\">light-sweep-6</a></strong> to <a href='https://wandb.ai/shahi77-national-institute-of-technology-hamirpur/Dropout04' target=\"_blank\">Weights & Biases</a> (<a href='https://wandb.me/developer-guide' target=\"_blank\">docs</a>)<br>Sweep page: <a href='https://wandb.ai/shahi77-national-institute-of-technology-hamirpur/Dropout04/sweeps/qf1328ih' target=\"_blank\">https://wandb.ai/shahi77-national-institute-of-technology-hamirpur/Dropout04/sweeps/qf1328ih</a>"
            ]
          },
          "metadata": {}
        },
        {
          "output_type": "display_data",
          "data": {
            "text/plain": [
              "<IPython.core.display.HTML object>"
            ],
            "text/html": [
              " View project at <a href='https://wandb.ai/shahi77-national-institute-of-technology-hamirpur/Dropout04' target=\"_blank\">https://wandb.ai/shahi77-national-institute-of-technology-hamirpur/Dropout04</a>"
            ]
          },
          "metadata": {}
        },
        {
          "output_type": "display_data",
          "data": {
            "text/plain": [
              "<IPython.core.display.HTML object>"
            ],
            "text/html": [
              " View sweep at <a href='https://wandb.ai/shahi77-national-institute-of-technology-hamirpur/Dropout04/sweeps/qf1328ih' target=\"_blank\">https://wandb.ai/shahi77-national-institute-of-technology-hamirpur/Dropout04/sweeps/qf1328ih</a>"
            ]
          },
          "metadata": {}
        },
        {
          "output_type": "display_data",
          "data": {
            "text/plain": [
              "<IPython.core.display.HTML object>"
            ],
            "text/html": [
              " View run at <a href='https://wandb.ai/shahi77-national-institute-of-technology-hamirpur/Dropout04/runs/8qgevo2y' target=\"_blank\">https://wandb.ai/shahi77-national-institute-of-technology-hamirpur/Dropout04/runs/8qgevo2y</a>"
            ]
          },
          "metadata": {}
        },
        {
          "output_type": "stream",
          "name": "stdout",
          "text": [
            "Epoch 1, Loss: 2.323109934962756, Accuracy: 10.196296296296296%\n",
            "Epoch 2, Loss: 2.3208652037014894, Accuracy: 10.042592592592593%\n",
            "Epoch 3, Loss: 2.320201059370809, Accuracy: 10.042592592592593%\n",
            "Epoch 4, Loss: 2.319742131007226, Accuracy: 10.107407407407408%\n",
            "Epoch 5, Loss: 2.317587066600673, Accuracy: 10.181481481481482%\n",
            "Epoch 6, Loss: 2.3163350526755453, Accuracy: 10.424074074074074%\n",
            "Epoch 7, Loss: 2.316274464412888, Accuracy: 10.248148148148148%\n",
            "Epoch 8, Loss: 2.315778323541885, Accuracy: 10.414814814814815%\n",
            "Epoch 9, Loss: 2.314827937367968, Accuracy: 10.298148148148147%\n",
            "Epoch 10, Loss: 2.3139970376028267, Accuracy: 10.34074074074074%\n"
          ]
        },
        {
          "output_type": "display_data",
          "data": {
            "text/plain": [
              "<IPython.core.display.HTML object>"
            ],
            "text/html": []
          },
          "metadata": {}
        },
        {
          "output_type": "display_data",
          "data": {
            "text/plain": [
              "<IPython.core.display.HTML object>"
            ],
            "text/html": [
              "<br>    <style><br>        .wandb-row {<br>            display: flex;<br>            flex-direction: row;<br>            flex-wrap: wrap;<br>            justify-content: flex-start;<br>            width: 100%;<br>        }<br>        .wandb-col {<br>            display: flex;<br>            flex-direction: column;<br>            flex-basis: 100%;<br>            flex: 1;<br>            padding: 10px;<br>        }<br>    </style><br><div class=\"wandb-row\"><div class=\"wandb-col\"><h3>Run history:</h3><br/><table class=\"wandb\"><tr><td>epoch</td><td>▁▂▃▃▄▅▆▆▇█</td></tr><tr><td>train_accuracy</td><td>▄▁▁▂▄█▅█▆▆</td></tr><tr><td>train_loss</td><td>█▆▆▅▄▃▃▂▂▁</td></tr><tr><td>validation_accuracy</td><td>▁</td></tr></table><br/></div><div class=\"wandb-col\"><h3>Run summary:</h3><br/><table class=\"wandb\"><tr><td>epoch</td><td>10</td></tr><tr><td>train_accuracy</td><td>10.34074</td></tr><tr><td>train_loss</td><td>2.314</td></tr><tr><td>trial_name</td><td>m_create_dropout_net...</td></tr><tr><td>validation_accuracy</td><td>10.65</td></tr></table><br/></div></div>"
            ]
          },
          "metadata": {}
        },
        {
          "output_type": "display_data",
          "data": {
            "text/plain": [
              "<IPython.core.display.HTML object>"
            ],
            "text/html": [
              " View run <strong style=\"color:#cdcd00\">m_create_dropout_network_logistic_dr_random_p_0.5lr_0.01_m_0.99</strong> at: <a href='https://wandb.ai/shahi77-national-institute-of-technology-hamirpur/Dropout04/runs/8qgevo2y' target=\"_blank\">https://wandb.ai/shahi77-national-institute-of-technology-hamirpur/Dropout04/runs/8qgevo2y</a><br> View project at: <a href='https://wandb.ai/shahi77-national-institute-of-technology-hamirpur/Dropout04' target=\"_blank\">https://wandb.ai/shahi77-national-institute-of-technology-hamirpur/Dropout04</a><br>Synced 5 W&B file(s), 0 media file(s), 0 artifact file(s) and 0 other file(s)"
            ]
          },
          "metadata": {}
        },
        {
          "output_type": "display_data",
          "data": {
            "text/plain": [
              "<IPython.core.display.HTML object>"
            ],
            "text/html": [
              "Find logs at: <code>./wandb/run-20250217_132328-8qgevo2y/logs</code>"
            ]
          },
          "metadata": {}
        },
        {
          "output_type": "stream",
          "name": "stderr",
          "text": [
            "\u001b[34m\u001b[1mwandb\u001b[0m: Agent Starting Run: uz4h0mlj with config:\n",
            "\u001b[34m\u001b[1mwandb\u001b[0m: \tbatch_size: 64\n",
            "\u001b[34m\u001b[1mwandb\u001b[0m: \tdropout_method: biased_dropout\n",
            "\u001b[34m\u001b[1mwandb\u001b[0m: \tdropout_prob: 0.5\n",
            "\u001b[34m\u001b[1mwandb\u001b[0m: \tepochs: 10\n",
            "\u001b[34m\u001b[1mwandb\u001b[0m: \tlr: 0.001\n",
            "\u001b[34m\u001b[1mwandb\u001b[0m: \tmodel: create_standard_network_2\n",
            "\u001b[34m\u001b[1mwandb\u001b[0m: \tmomentum: 0.99\n",
            "\u001b[34m\u001b[1mwandb\u001b[0m: \toptimizer: sgd\n",
            "\u001b[34m\u001b[1mwandb\u001b[0m: \tweight_init: random\n"
          ]
        },
        {
          "output_type": "display_data",
          "data": {
            "text/plain": [
              "<IPython.core.display.HTML object>"
            ],
            "text/html": [
              "Tracking run with wandb version 0.19.6"
            ]
          },
          "metadata": {}
        },
        {
          "output_type": "display_data",
          "data": {
            "text/plain": [
              "<IPython.core.display.HTML object>"
            ],
            "text/html": [
              "Run data is saved locally in <code>/content/wandb/run-20250217_132947-uz4h0mlj</code>"
            ]
          },
          "metadata": {}
        },
        {
          "output_type": "display_data",
          "data": {
            "text/plain": [
              "<IPython.core.display.HTML object>"
            ],
            "text/html": [
              "Syncing run <strong><a href='https://wandb.ai/shahi77-national-institute-of-technology-hamirpur/Dropout04/runs/uz4h0mlj' target=\"_blank\">magic-sweep-7</a></strong> to <a href='https://wandb.ai/shahi77-national-institute-of-technology-hamirpur/Dropout04' target=\"_blank\">Weights & Biases</a> (<a href='https://wandb.me/developer-guide' target=\"_blank\">docs</a>)<br>Sweep page: <a href='https://wandb.ai/shahi77-national-institute-of-technology-hamirpur/Dropout04/sweeps/qf1328ih' target=\"_blank\">https://wandb.ai/shahi77-national-institute-of-technology-hamirpur/Dropout04/sweeps/qf1328ih</a>"
            ]
          },
          "metadata": {}
        },
        {
          "output_type": "display_data",
          "data": {
            "text/plain": [
              "<IPython.core.display.HTML object>"
            ],
            "text/html": [
              " View project at <a href='https://wandb.ai/shahi77-national-institute-of-technology-hamirpur/Dropout04' target=\"_blank\">https://wandb.ai/shahi77-national-institute-of-technology-hamirpur/Dropout04</a>"
            ]
          },
          "metadata": {}
        },
        {
          "output_type": "display_data",
          "data": {
            "text/plain": [
              "<IPython.core.display.HTML object>"
            ],
            "text/html": [
              " View sweep at <a href='https://wandb.ai/shahi77-national-institute-of-technology-hamirpur/Dropout04/sweeps/qf1328ih' target=\"_blank\">https://wandb.ai/shahi77-national-institute-of-technology-hamirpur/Dropout04/sweeps/qf1328ih</a>"
            ]
          },
          "metadata": {}
        },
        {
          "output_type": "display_data",
          "data": {
            "text/plain": [
              "<IPython.core.display.HTML object>"
            ],
            "text/html": [
              " View run at <a href='https://wandb.ai/shahi77-national-institute-of-technology-hamirpur/Dropout04/runs/uz4h0mlj' target=\"_blank\">https://wandb.ai/shahi77-national-institute-of-technology-hamirpur/Dropout04/runs/uz4h0mlj</a>"
            ]
          },
          "metadata": {}
        },
        {
          "output_type": "stream",
          "name": "stdout",
          "text": [
            "Epoch 1, Loss: 2.3095516616134284, Accuracy: 10.531481481481482%\n",
            "Epoch 2, Loss: 2.3087543178508634, Accuracy: 10.464814814814815%\n",
            "Epoch 3, Loss: 2.3089560021721356, Accuracy: 10.47037037037037%\n",
            "Epoch 4, Loss: 2.307067565160905, Accuracy: 10.625925925925927%\n",
            "Epoch 5, Loss: 2.3064717887702146, Accuracy: 10.84074074074074%\n",
            "Epoch 6, Loss: 2.3051281980993625, Accuracy: 10.948148148148148%\n",
            "Epoch 7, Loss: 2.3047177093853883, Accuracy: 10.925925925925926%\n",
            "Epoch 8, Loss: 2.303856722833986, Accuracy: 11.12037037037037%\n",
            "Epoch 9, Loss: 2.3038409903151162, Accuracy: 11.14074074074074%\n",
            "Epoch 10, Loss: 2.3028115534104443, Accuracy: 11.24074074074074%\n"
          ]
        },
        {
          "output_type": "display_data",
          "data": {
            "text/plain": [
              "<IPython.core.display.HTML object>"
            ],
            "text/html": []
          },
          "metadata": {}
        },
        {
          "output_type": "display_data",
          "data": {
            "text/plain": [
              "<IPython.core.display.HTML object>"
            ],
            "text/html": [
              "<br>    <style><br>        .wandb-row {<br>            display: flex;<br>            flex-direction: row;<br>            flex-wrap: wrap;<br>            justify-content: flex-start;<br>            width: 100%;<br>        }<br>        .wandb-col {<br>            display: flex;<br>            flex-direction: column;<br>            flex-basis: 100%;<br>            flex: 1;<br>            padding: 10px;<br>        }<br>    </style><br><div class=\"wandb-row\"><div class=\"wandb-col\"><h3>Run history:</h3><br/><table class=\"wandb\"><tr><td>epoch</td><td>▁▂▃▃▄▅▆▆▇█</td></tr><tr><td>train_accuracy</td><td>▂▁▁▂▄▅▅▇▇█</td></tr><tr><td>train_loss</td><td>█▇▇▅▅▃▃▂▂▁</td></tr><tr><td>validation_accuracy</td><td>▁</td></tr></table><br/></div><div class=\"wandb-col\"><h3>Run summary:</h3><br/><table class=\"wandb\"><tr><td>epoch</td><td>10</td></tr><tr><td>train_accuracy</td><td>11.24074</td></tr><tr><td>train_loss</td><td>2.30281</td></tr><tr><td>trial_name</td><td>m_create_standard_ne...</td></tr><tr><td>validation_accuracy</td><td>10.88333</td></tr></table><br/></div></div>"
            ]
          },
          "metadata": {}
        },
        {
          "output_type": "display_data",
          "data": {
            "text/plain": [
              "<IPython.core.display.HTML object>"
            ],
            "text/html": [
              " View run <strong style=\"color:#cdcd00\">m_create_standard_network_2_dr_biased_dropout_p_0.5lr_0.001_m_0.99</strong> at: <a href='https://wandb.ai/shahi77-national-institute-of-technology-hamirpur/Dropout04/runs/uz4h0mlj' target=\"_blank\">https://wandb.ai/shahi77-national-institute-of-technology-hamirpur/Dropout04/runs/uz4h0mlj</a><br> View project at: <a href='https://wandb.ai/shahi77-national-institute-of-technology-hamirpur/Dropout04' target=\"_blank\">https://wandb.ai/shahi77-national-institute-of-technology-hamirpur/Dropout04</a><br>Synced 5 W&B file(s), 0 media file(s), 0 artifact file(s) and 0 other file(s)"
            ]
          },
          "metadata": {}
        },
        {
          "output_type": "display_data",
          "data": {
            "text/plain": [
              "<IPython.core.display.HTML object>"
            ],
            "text/html": [
              "Find logs at: <code>./wandb/run-20250217_132947-uz4h0mlj/logs</code>"
            ]
          },
          "metadata": {}
        },
        {
          "output_type": "stream",
          "name": "stderr",
          "text": [
            "\u001b[34m\u001b[1mwandb\u001b[0m: Agent Starting Run: do1qwj1e with config:\n",
            "\u001b[34m\u001b[1mwandb\u001b[0m: \tbatch_size: 64\n",
            "\u001b[34m\u001b[1mwandb\u001b[0m: \tdropout_method: biased_dropout\n",
            "\u001b[34m\u001b[1mwandb\u001b[0m: \tdropout_prob: 0.3\n",
            "\u001b[34m\u001b[1mwandb\u001b[0m: \tepochs: 10\n",
            "\u001b[34m\u001b[1mwandb\u001b[0m: \tlr: 0.01\n",
            "\u001b[34m\u001b[1mwandb\u001b[0m: \tmodel: create_standard_network_2\n",
            "\u001b[34m\u001b[1mwandb\u001b[0m: \tmomentum: 0.99\n",
            "\u001b[34m\u001b[1mwandb\u001b[0m: \toptimizer: sgd\n",
            "\u001b[34m\u001b[1mwandb\u001b[0m: \tweight_init: random\n"
          ]
        },
        {
          "output_type": "display_data",
          "data": {
            "text/plain": [
              "<IPython.core.display.HTML object>"
            ],
            "text/html": [
              "Tracking run with wandb version 0.19.6"
            ]
          },
          "metadata": {}
        },
        {
          "output_type": "display_data",
          "data": {
            "text/plain": [
              "<IPython.core.display.HTML object>"
            ],
            "text/html": [
              "Run data is saved locally in <code>/content/wandb/run-20250217_133342-do1qwj1e</code>"
            ]
          },
          "metadata": {}
        },
        {
          "output_type": "display_data",
          "data": {
            "text/plain": [
              "<IPython.core.display.HTML object>"
            ],
            "text/html": [
              "Syncing run <strong><a href='https://wandb.ai/shahi77-national-institute-of-technology-hamirpur/Dropout04/runs/do1qwj1e' target=\"_blank\">swift-sweep-8</a></strong> to <a href='https://wandb.ai/shahi77-national-institute-of-technology-hamirpur/Dropout04' target=\"_blank\">Weights & Biases</a> (<a href='https://wandb.me/developer-guide' target=\"_blank\">docs</a>)<br>Sweep page: <a href='https://wandb.ai/shahi77-national-institute-of-technology-hamirpur/Dropout04/sweeps/qf1328ih' target=\"_blank\">https://wandb.ai/shahi77-national-institute-of-technology-hamirpur/Dropout04/sweeps/qf1328ih</a>"
            ]
          },
          "metadata": {}
        },
        {
          "output_type": "display_data",
          "data": {
            "text/plain": [
              "<IPython.core.display.HTML object>"
            ],
            "text/html": [
              " View project at <a href='https://wandb.ai/shahi77-national-institute-of-technology-hamirpur/Dropout04' target=\"_blank\">https://wandb.ai/shahi77-national-institute-of-technology-hamirpur/Dropout04</a>"
            ]
          },
          "metadata": {}
        },
        {
          "output_type": "display_data",
          "data": {
            "text/plain": [
              "<IPython.core.display.HTML object>"
            ],
            "text/html": [
              " View sweep at <a href='https://wandb.ai/shahi77-national-institute-of-technology-hamirpur/Dropout04/sweeps/qf1328ih' target=\"_blank\">https://wandb.ai/shahi77-national-institute-of-technology-hamirpur/Dropout04/sweeps/qf1328ih</a>"
            ]
          },
          "metadata": {}
        },
        {
          "output_type": "display_data",
          "data": {
            "text/plain": [
              "<IPython.core.display.HTML object>"
            ],
            "text/html": [
              " View run at <a href='https://wandb.ai/shahi77-national-institute-of-technology-hamirpur/Dropout04/runs/do1qwj1e' target=\"_blank\">https://wandb.ai/shahi77-national-institute-of-technology-hamirpur/Dropout04/runs/do1qwj1e</a>"
            ]
          },
          "metadata": {}
        },
        {
          "output_type": "stream",
          "name": "stdout",
          "text": [
            "Epoch 1, Loss: 2.314686783399627, Accuracy: 10.540740740740741%\n",
            "Epoch 2, Loss: 2.3071049796461494, Accuracy: 11.35925925925926%\n",
            "Epoch 3, Loss: 2.2906996184050756, Accuracy: 13.174074074074074%\n",
            "Epoch 4, Loss: 2.2325829595186133, Accuracy: 18.62037037037037%\n",
            "Epoch 5, Loss: 1.9565880208218833, Accuracy: 31.714814814814815%\n",
            "Epoch 6, Loss: 1.5297392277638495, Accuracy: 44.861111111111114%\n",
            "Epoch 7, Loss: 1.2335832075202635, Accuracy: 55.81111111111111%\n",
            "Epoch 8, Loss: 1.0304274416365329, Accuracy: 63.407407407407405%\n",
            "Epoch 9, Loss: 0.9175385637164681, Accuracy: 68.22962962962963%\n",
            "Epoch 10, Loss: 0.8437717124042918, Accuracy: 71.37037037037037%\n"
          ]
        },
        {
          "output_type": "display_data",
          "data": {
            "text/plain": [
              "<IPython.core.display.HTML object>"
            ],
            "text/html": []
          },
          "metadata": {}
        },
        {
          "output_type": "display_data",
          "data": {
            "text/plain": [
              "<IPython.core.display.HTML object>"
            ],
            "text/html": [
              "<br>    <style><br>        .wandb-row {<br>            display: flex;<br>            flex-direction: row;<br>            flex-wrap: wrap;<br>            justify-content: flex-start;<br>            width: 100%;<br>        }<br>        .wandb-col {<br>            display: flex;<br>            flex-direction: column;<br>            flex-basis: 100%;<br>            flex: 1;<br>            padding: 10px;<br>        }<br>    </style><br><div class=\"wandb-row\"><div class=\"wandb-col\"><h3>Run history:</h3><br/><table class=\"wandb\"><tr><td>epoch</td><td>▁▂▃▃▄▅▆▆▇█</td></tr><tr><td>train_accuracy</td><td>▁▁▁▂▃▅▆▇██</td></tr><tr><td>train_loss</td><td>████▆▄▃▂▁▁</td></tr><tr><td>validation_accuracy</td><td>▁</td></tr></table><br/></div><div class=\"wandb-col\"><h3>Run summary:</h3><br/><table class=\"wandb\"><tr><td>epoch</td><td>10</td></tr><tr><td>train_accuracy</td><td>71.37037</td></tr><tr><td>train_loss</td><td>0.84377</td></tr><tr><td>trial_name</td><td>m_create_standard_ne...</td></tr><tr><td>validation_accuracy</td><td>76.4</td></tr></table><br/></div></div>"
            ]
          },
          "metadata": {}
        },
        {
          "output_type": "display_data",
          "data": {
            "text/plain": [
              "<IPython.core.display.HTML object>"
            ],
            "text/html": [
              " View run <strong style=\"color:#cdcd00\">m_create_standard_network_2_dr_biased_dropout_p_0.3lr_0.01_m_0.99</strong> at: <a href='https://wandb.ai/shahi77-national-institute-of-technology-hamirpur/Dropout04/runs/do1qwj1e' target=\"_blank\">https://wandb.ai/shahi77-national-institute-of-technology-hamirpur/Dropout04/runs/do1qwj1e</a><br> View project at: <a href='https://wandb.ai/shahi77-national-institute-of-technology-hamirpur/Dropout04' target=\"_blank\">https://wandb.ai/shahi77-national-institute-of-technology-hamirpur/Dropout04</a><br>Synced 5 W&B file(s), 0 media file(s), 0 artifact file(s) and 0 other file(s)"
            ]
          },
          "metadata": {}
        },
        {
          "output_type": "display_data",
          "data": {
            "text/plain": [
              "<IPython.core.display.HTML object>"
            ],
            "text/html": [
              "Find logs at: <code>./wandb/run-20250217_133342-do1qwj1e/logs</code>"
            ]
          },
          "metadata": {}
        },
        {
          "output_type": "stream",
          "name": "stderr",
          "text": [
            "\u001b[34m\u001b[1mwandb\u001b[0m: Agent Starting Run: yq0fgd1d with config:\n",
            "\u001b[34m\u001b[1mwandb\u001b[0m: \tbatch_size: 64\n",
            "\u001b[34m\u001b[1mwandb\u001b[0m: \tdropout_method: flipover\n",
            "\u001b[34m\u001b[1mwandb\u001b[0m: \tdropout_prob: 0.2\n",
            "\u001b[34m\u001b[1mwandb\u001b[0m: \tepochs: 10\n",
            "\u001b[34m\u001b[1mwandb\u001b[0m: \tlr: 0.001\n",
            "\u001b[34m\u001b[1mwandb\u001b[0m: \tmodel: create_dropout_network_relu\n",
            "\u001b[34m\u001b[1mwandb\u001b[0m: \tmomentum: 0.9\n",
            "\u001b[34m\u001b[1mwandb\u001b[0m: \toptimizer: sgd\n",
            "\u001b[34m\u001b[1mwandb\u001b[0m: \tweight_init: random\n"
          ]
        },
        {
          "output_type": "display_data",
          "data": {
            "text/plain": [
              "<IPython.core.display.HTML object>"
            ],
            "text/html": [
              "Tracking run with wandb version 0.19.6"
            ]
          },
          "metadata": {}
        },
        {
          "output_type": "display_data",
          "data": {
            "text/plain": [
              "<IPython.core.display.HTML object>"
            ],
            "text/html": [
              "Run data is saved locally in <code>/content/wandb/run-20250217_133736-yq0fgd1d</code>"
            ]
          },
          "metadata": {}
        },
        {
          "output_type": "display_data",
          "data": {
            "text/plain": [
              "<IPython.core.display.HTML object>"
            ],
            "text/html": [
              "Syncing run <strong><a href='https://wandb.ai/shahi77-national-institute-of-technology-hamirpur/Dropout04/runs/yq0fgd1d' target=\"_blank\">bright-sweep-9</a></strong> to <a href='https://wandb.ai/shahi77-national-institute-of-technology-hamirpur/Dropout04' target=\"_blank\">Weights & Biases</a> (<a href='https://wandb.me/developer-guide' target=\"_blank\">docs</a>)<br>Sweep page: <a href='https://wandb.ai/shahi77-national-institute-of-technology-hamirpur/Dropout04/sweeps/qf1328ih' target=\"_blank\">https://wandb.ai/shahi77-national-institute-of-technology-hamirpur/Dropout04/sweeps/qf1328ih</a>"
            ]
          },
          "metadata": {}
        },
        {
          "output_type": "display_data",
          "data": {
            "text/plain": [
              "<IPython.core.display.HTML object>"
            ],
            "text/html": [
              " View project at <a href='https://wandb.ai/shahi77-national-institute-of-technology-hamirpur/Dropout04' target=\"_blank\">https://wandb.ai/shahi77-national-institute-of-technology-hamirpur/Dropout04</a>"
            ]
          },
          "metadata": {}
        },
        {
          "output_type": "display_data",
          "data": {
            "text/plain": [
              "<IPython.core.display.HTML object>"
            ],
            "text/html": [
              " View sweep at <a href='https://wandb.ai/shahi77-national-institute-of-technology-hamirpur/Dropout04/sweeps/qf1328ih' target=\"_blank\">https://wandb.ai/shahi77-national-institute-of-technology-hamirpur/Dropout04/sweeps/qf1328ih</a>"
            ]
          },
          "metadata": {}
        },
        {
          "output_type": "display_data",
          "data": {
            "text/plain": [
              "<IPython.core.display.HTML object>"
            ],
            "text/html": [
              " View run at <a href='https://wandb.ai/shahi77-national-institute-of-technology-hamirpur/Dropout04/runs/yq0fgd1d' target=\"_blank\">https://wandb.ai/shahi77-national-institute-of-technology-hamirpur/Dropout04/runs/yq0fgd1d</a>"
            ]
          },
          "metadata": {}
        },
        {
          "output_type": "stream",
          "name": "stdout",
          "text": [
            "Epoch 1, Loss: 2.302140318669414, Accuracy: 11.798148148148147%\n",
            "Epoch 2, Loss: 2.3003498273438185, Accuracy: 15.222222222222221%\n",
            "Epoch 3, Loss: 2.2985737035624787, Accuracy: 15.827777777777778%\n",
            "Epoch 4, Loss: 2.296463081904497, Accuracy: 16.514814814814816%\n",
            "Epoch 5, Loss: 2.2939558684543413, Accuracy: 18.48148148148148%\n",
            "Epoch 6, Loss: 2.2905879585663853, Accuracy: 21.053703703703704%\n",
            "Epoch 7, Loss: 2.2856873135431117, Accuracy: 24.37037037037037%\n",
            "Epoch 8, Loss: 2.27824674652651, Accuracy: 25.751851851851853%\n",
            "Epoch 9, Loss: 2.265034979271098, Accuracy: 25.192592592592593%\n",
            "Epoch 10, Loss: 2.2397502697474585, Accuracy: 23.774074074074075%\n"
          ]
        },
        {
          "output_type": "display_data",
          "data": {
            "text/plain": [
              "<IPython.core.display.HTML object>"
            ],
            "text/html": []
          },
          "metadata": {}
        },
        {
          "output_type": "display_data",
          "data": {
            "text/plain": [
              "<IPython.core.display.HTML object>"
            ],
            "text/html": [
              "<br>    <style><br>        .wandb-row {<br>            display: flex;<br>            flex-direction: row;<br>            flex-wrap: wrap;<br>            justify-content: flex-start;<br>            width: 100%;<br>        }<br>        .wandb-col {<br>            display: flex;<br>            flex-direction: column;<br>            flex-basis: 100%;<br>            flex: 1;<br>            padding: 10px;<br>        }<br>    </style><br><div class=\"wandb-row\"><div class=\"wandb-col\"><h3>Run history:</h3><br/><table class=\"wandb\"><tr><td>epoch</td><td>▁▂▃▃▄▅▆▆▇█</td></tr><tr><td>train_accuracy</td><td>▁▃▃▃▄▆▇██▇</td></tr><tr><td>train_loss</td><td>███▇▇▇▆▅▄▁</td></tr><tr><td>validation_accuracy</td><td>▁</td></tr></table><br/></div><div class=\"wandb-col\"><h3>Run summary:</h3><br/><table class=\"wandb\"><tr><td>epoch</td><td>10</td></tr><tr><td>train_accuracy</td><td>23.77407</td></tr><tr><td>train_loss</td><td>2.23975</td></tr><tr><td>trial_name</td><td>m_create_dropout_net...</td></tr><tr><td>validation_accuracy</td><td>28.48333</td></tr></table><br/></div></div>"
            ]
          },
          "metadata": {}
        },
        {
          "output_type": "display_data",
          "data": {
            "text/plain": [
              "<IPython.core.display.HTML object>"
            ],
            "text/html": [
              " View run <strong style=\"color:#cdcd00\">m_create_dropout_network_relu_dr_flipover_p_0.2lr_0.001_m_0.9</strong> at: <a href='https://wandb.ai/shahi77-national-institute-of-technology-hamirpur/Dropout04/runs/yq0fgd1d' target=\"_blank\">https://wandb.ai/shahi77-national-institute-of-technology-hamirpur/Dropout04/runs/yq0fgd1d</a><br> View project at: <a href='https://wandb.ai/shahi77-national-institute-of-technology-hamirpur/Dropout04' target=\"_blank\">https://wandb.ai/shahi77-national-institute-of-technology-hamirpur/Dropout04</a><br>Synced 5 W&B file(s), 0 media file(s), 0 artifact file(s) and 0 other file(s)"
            ]
          },
          "metadata": {}
        },
        {
          "output_type": "display_data",
          "data": {
            "text/plain": [
              "<IPython.core.display.HTML object>"
            ],
            "text/html": [
              "Find logs at: <code>./wandb/run-20250217_133736-yq0fgd1d/logs</code>"
            ]
          },
          "metadata": {}
        },
        {
          "output_type": "stream",
          "name": "stderr",
          "text": [
            "\u001b[34m\u001b[1mwandb\u001b[0m: Sweep Agent: Waiting for job.\n",
            "\u001b[34m\u001b[1mwandb\u001b[0m: Job received.\n",
            "\u001b[34m\u001b[1mwandb\u001b[0m: Agent Starting Run: 5p8egpky with config:\n",
            "\u001b[34m\u001b[1mwandb\u001b[0m: \tbatch_size: 64\n",
            "\u001b[34m\u001b[1mwandb\u001b[0m: \tdropout_method: maxdropout\n",
            "\u001b[34m\u001b[1mwandb\u001b[0m: \tdropout_prob: 0.5\n",
            "\u001b[34m\u001b[1mwandb\u001b[0m: \tepochs: 10\n",
            "\u001b[34m\u001b[1mwandb\u001b[0m: \tlr: 0.01\n",
            "\u001b[34m\u001b[1mwandb\u001b[0m: \tmodel: create_dropout_network_logistic\n",
            "\u001b[34m\u001b[1mwandb\u001b[0m: \tmomentum: 0.99\n",
            "\u001b[34m\u001b[1mwandb\u001b[0m: \toptimizer: sgd\n",
            "\u001b[34m\u001b[1mwandb\u001b[0m: \tweight_init: random\n"
          ]
        },
        {
          "output_type": "display_data",
          "data": {
            "text/plain": [
              "<IPython.core.display.HTML object>"
            ],
            "text/html": [
              "Tracking run with wandb version 0.19.6"
            ]
          },
          "metadata": {}
        },
        {
          "output_type": "display_data",
          "data": {
            "text/plain": [
              "<IPython.core.display.HTML object>"
            ],
            "text/html": [
              "Run data is saved locally in <code>/content/wandb/run-20250217_134413-5p8egpky</code>"
            ]
          },
          "metadata": {}
        },
        {
          "output_type": "display_data",
          "data": {
            "text/plain": [
              "<IPython.core.display.HTML object>"
            ],
            "text/html": [
              "Syncing run <strong><a href='https://wandb.ai/shahi77-national-institute-of-technology-hamirpur/Dropout04/runs/5p8egpky' target=\"_blank\">lyric-sweep-10</a></strong> to <a href='https://wandb.ai/shahi77-national-institute-of-technology-hamirpur/Dropout04' target=\"_blank\">Weights & Biases</a> (<a href='https://wandb.me/developer-guide' target=\"_blank\">docs</a>)<br>Sweep page: <a href='https://wandb.ai/shahi77-national-institute-of-technology-hamirpur/Dropout04/sweeps/qf1328ih' target=\"_blank\">https://wandb.ai/shahi77-national-institute-of-technology-hamirpur/Dropout04/sweeps/qf1328ih</a>"
            ]
          },
          "metadata": {}
        },
        {
          "output_type": "display_data",
          "data": {
            "text/plain": [
              "<IPython.core.display.HTML object>"
            ],
            "text/html": [
              " View project at <a href='https://wandb.ai/shahi77-national-institute-of-technology-hamirpur/Dropout04' target=\"_blank\">https://wandb.ai/shahi77-national-institute-of-technology-hamirpur/Dropout04</a>"
            ]
          },
          "metadata": {}
        },
        {
          "output_type": "display_data",
          "data": {
            "text/plain": [
              "<IPython.core.display.HTML object>"
            ],
            "text/html": [
              " View sweep at <a href='https://wandb.ai/shahi77-national-institute-of-technology-hamirpur/Dropout04/sweeps/qf1328ih' target=\"_blank\">https://wandb.ai/shahi77-national-institute-of-technology-hamirpur/Dropout04/sweeps/qf1328ih</a>"
            ]
          },
          "metadata": {}
        },
        {
          "output_type": "display_data",
          "data": {
            "text/plain": [
              "<IPython.core.display.HTML object>"
            ],
            "text/html": [
              " View run at <a href='https://wandb.ai/shahi77-national-institute-of-technology-hamirpur/Dropout04/runs/5p8egpky' target=\"_blank\">https://wandb.ai/shahi77-national-institute-of-technology-hamirpur/Dropout04/runs/5p8egpky</a>"
            ]
          },
          "metadata": {}
        },
        {
          "output_type": "stream",
          "name": "stdout",
          "text": [
            "Epoch 1, Loss: 2.322178803348993, Accuracy: 10.2%\n",
            "Epoch 2, Loss: 2.3213957511418237, Accuracy: 10.268518518518519%\n",
            "Epoch 3, Loss: 2.319338659539607, Accuracy: 10.162962962962963%\n",
            "Epoch 4, Loss: 2.318204434279582, Accuracy: 10.116666666666667%\n",
            "Epoch 5, Loss: 2.3172467257739244, Accuracy: 10.444444444444445%\n",
            "Epoch 6, Loss: 2.3162091142758374, Accuracy: 10.292592592592593%\n",
            "Epoch 7, Loss: 2.317132752088574, Accuracy: 10.201851851851853%\n",
            "Epoch 8, Loss: 2.314833129186766, Accuracy: 10.1%\n",
            "Epoch 9, Loss: 2.3142942602600534, Accuracy: 10.394444444444444%\n",
            "Epoch 10, Loss: 2.314697989355331, Accuracy: 10.162962962962963%\n"
          ]
        },
        {
          "output_type": "display_data",
          "data": {
            "text/plain": [
              "<IPython.core.display.HTML object>"
            ],
            "text/html": []
          },
          "metadata": {}
        },
        {
          "output_type": "display_data",
          "data": {
            "text/plain": [
              "<IPython.core.display.HTML object>"
            ],
            "text/html": [
              "<br>    <style><br>        .wandb-row {<br>            display: flex;<br>            flex-direction: row;<br>            flex-wrap: wrap;<br>            justify-content: flex-start;<br>            width: 100%;<br>        }<br>        .wandb-col {<br>            display: flex;<br>            flex-direction: column;<br>            flex-basis: 100%;<br>            flex: 1;<br>            padding: 10px;<br>        }<br>    </style><br><div class=\"wandb-row\"><div class=\"wandb-col\"><h3>Run history:</h3><br/><table class=\"wandb\"><tr><td>epoch</td><td>▁▂▃▃▄▅▆▆▇█</td></tr><tr><td>train_accuracy</td><td>▃▄▂▁█▅▃▁▇▂</td></tr><tr><td>train_loss</td><td>█▇▅▄▄▃▄▁▁▁</td></tr><tr><td>validation_accuracy</td><td>▁</td></tr></table><br/></div><div class=\"wandb-col\"><h3>Run summary:</h3><br/><table class=\"wandb\"><tr><td>epoch</td><td>10</td></tr><tr><td>train_accuracy</td><td>10.16296</td></tr><tr><td>train_loss</td><td>2.3147</td></tr><tr><td>trial_name</td><td>m_create_dropout_net...</td></tr><tr><td>validation_accuracy</td><td>11.51667</td></tr></table><br/></div></div>"
            ]
          },
          "metadata": {}
        },
        {
          "output_type": "display_data",
          "data": {
            "text/plain": [
              "<IPython.core.display.HTML object>"
            ],
            "text/html": [
              " View run <strong style=\"color:#cdcd00\">m_create_dropout_network_logistic_dr_maxdropout_p_0.5lr_0.01_m_0.99</strong> at: <a href='https://wandb.ai/shahi77-national-institute-of-technology-hamirpur/Dropout04/runs/5p8egpky' target=\"_blank\">https://wandb.ai/shahi77-national-institute-of-technology-hamirpur/Dropout04/runs/5p8egpky</a><br> View project at: <a href='https://wandb.ai/shahi77-national-institute-of-technology-hamirpur/Dropout04' target=\"_blank\">https://wandb.ai/shahi77-national-institute-of-technology-hamirpur/Dropout04</a><br>Synced 5 W&B file(s), 0 media file(s), 0 artifact file(s) and 0 other file(s)"
            ]
          },
          "metadata": {}
        },
        {
          "output_type": "display_data",
          "data": {
            "text/plain": [
              "<IPython.core.display.HTML object>"
            ],
            "text/html": [
              "Find logs at: <code>./wandb/run-20250217_134413-5p8egpky/logs</code>"
            ]
          },
          "metadata": {}
        },
        {
          "output_type": "stream",
          "name": "stderr",
          "text": [
            "\u001b[34m\u001b[1mwandb\u001b[0m: Agent Starting Run: 7jzym7q5 with config:\n",
            "\u001b[34m\u001b[1mwandb\u001b[0m: \tbatch_size: 64\n",
            "\u001b[34m\u001b[1mwandb\u001b[0m: \tdropout_method: maxdropout\n",
            "\u001b[34m\u001b[1mwandb\u001b[0m: \tdropout_prob: 0.2\n",
            "\u001b[34m\u001b[1mwandb\u001b[0m: \tepochs: 10\n",
            "\u001b[34m\u001b[1mwandb\u001b[0m: \tlr: 0.01\n",
            "\u001b[34m\u001b[1mwandb\u001b[0m: \tmodel: create_standard_network_1\n",
            "\u001b[34m\u001b[1mwandb\u001b[0m: \tmomentum: 0.9\n",
            "\u001b[34m\u001b[1mwandb\u001b[0m: \toptimizer: sgd\n",
            "\u001b[34m\u001b[1mwandb\u001b[0m: \tweight_init: random\n"
          ]
        },
        {
          "output_type": "display_data",
          "data": {
            "text/plain": [
              "<IPython.core.display.HTML object>"
            ],
            "text/html": [
              "Tracking run with wandb version 0.19.6"
            ]
          },
          "metadata": {}
        },
        {
          "output_type": "display_data",
          "data": {
            "text/plain": [
              "<IPython.core.display.HTML object>"
            ],
            "text/html": [
              "Run data is saved locally in <code>/content/wandb/run-20250217_135038-7jzym7q5</code>"
            ]
          },
          "metadata": {}
        },
        {
          "output_type": "display_data",
          "data": {
            "text/plain": [
              "<IPython.core.display.HTML object>"
            ],
            "text/html": [
              "Syncing run <strong><a href='https://wandb.ai/shahi77-national-institute-of-technology-hamirpur/Dropout04/runs/7jzym7q5' target=\"_blank\">polar-sweep-11</a></strong> to <a href='https://wandb.ai/shahi77-national-institute-of-technology-hamirpur/Dropout04' target=\"_blank\">Weights & Biases</a> (<a href='https://wandb.me/developer-guide' target=\"_blank\">docs</a>)<br>Sweep page: <a href='https://wandb.ai/shahi77-national-institute-of-technology-hamirpur/Dropout04/sweeps/qf1328ih' target=\"_blank\">https://wandb.ai/shahi77-national-institute-of-technology-hamirpur/Dropout04/sweeps/qf1328ih</a>"
            ]
          },
          "metadata": {}
        },
        {
          "output_type": "display_data",
          "data": {
            "text/plain": [
              "<IPython.core.display.HTML object>"
            ],
            "text/html": [
              " View project at <a href='https://wandb.ai/shahi77-national-institute-of-technology-hamirpur/Dropout04' target=\"_blank\">https://wandb.ai/shahi77-national-institute-of-technology-hamirpur/Dropout04</a>"
            ]
          },
          "metadata": {}
        },
        {
          "output_type": "display_data",
          "data": {
            "text/plain": [
              "<IPython.core.display.HTML object>"
            ],
            "text/html": [
              " View sweep at <a href='https://wandb.ai/shahi77-national-institute-of-technology-hamirpur/Dropout04/sweeps/qf1328ih' target=\"_blank\">https://wandb.ai/shahi77-national-institute-of-technology-hamirpur/Dropout04/sweeps/qf1328ih</a>"
            ]
          },
          "metadata": {}
        },
        {
          "output_type": "display_data",
          "data": {
            "text/plain": [
              "<IPython.core.display.HTML object>"
            ],
            "text/html": [
              " View run at <a href='https://wandb.ai/shahi77-national-institute-of-technology-hamirpur/Dropout04/runs/7jzym7q5' target=\"_blank\">https://wandb.ai/shahi77-national-institute-of-technology-hamirpur/Dropout04/runs/7jzym7q5</a>"
            ]
          },
          "metadata": {}
        },
        {
          "output_type": "stream",
          "name": "stdout",
          "text": [
            "Epoch 1, Loss: 2.3035479120168643, Accuracy: 10.768518518518519%\n",
            "Epoch 2, Loss: 2.302786775109892, Accuracy: 11.003703703703703%\n",
            "Epoch 3, Loss: 2.3029743605315405, Accuracy: 10.887037037037038%\n",
            "Epoch 4, Loss: 2.3029153338540786, Accuracy: 10.901851851851852%\n",
            "Epoch 5, Loss: 2.302995502948761, Accuracy: 10.97962962962963%\n",
            "Epoch 6, Loss: 2.3026437287647012, Accuracy: 10.983333333333333%\n",
            "Epoch 7, Loss: 2.3024790496057808, Accuracy: 10.97962962962963%\n",
            "Epoch 8, Loss: 2.302218095386198, Accuracy: 11.098148148148148%\n",
            "Epoch 9, Loss: 2.3021446613338887, Accuracy: 10.868518518518519%\n",
            "Epoch 10, Loss: 2.3024215068297362, Accuracy: 11.02037037037037%\n"
          ]
        },
        {
          "output_type": "display_data",
          "data": {
            "text/plain": [
              "<IPython.core.display.HTML object>"
            ],
            "text/html": []
          },
          "metadata": {}
        },
        {
          "output_type": "display_data",
          "data": {
            "text/plain": [
              "<IPython.core.display.HTML object>"
            ],
            "text/html": [
              "<br>    <style><br>        .wandb-row {<br>            display: flex;<br>            flex-direction: row;<br>            flex-wrap: wrap;<br>            justify-content: flex-start;<br>            width: 100%;<br>        }<br>        .wandb-col {<br>            display: flex;<br>            flex-direction: column;<br>            flex-basis: 100%;<br>            flex: 1;<br>            padding: 10px;<br>        }<br>    </style><br><div class=\"wandb-row\"><div class=\"wandb-col\"><h3>Run history:</h3><br/><table class=\"wandb\"><tr><td>epoch</td><td>▁▂▃▃▄▅▆▆▇█</td></tr><tr><td>train_accuracy</td><td>▁▆▄▄▅▆▅█▃▆</td></tr><tr><td>train_loss</td><td>█▄▅▅▅▃▃▁▁▂</td></tr><tr><td>validation_accuracy</td><td>▁</td></tr></table><br/></div><div class=\"wandb-col\"><h3>Run summary:</h3><br/><table class=\"wandb\"><tr><td>epoch</td><td>10</td></tr><tr><td>train_accuracy</td><td>11.02037</td></tr><tr><td>train_loss</td><td>2.30242</td></tr><tr><td>trial_name</td><td>m_create_standard_ne...</td></tr><tr><td>validation_accuracy</td><td>10.68333</td></tr></table><br/></div></div>"
            ]
          },
          "metadata": {}
        },
        {
          "output_type": "display_data",
          "data": {
            "text/plain": [
              "<IPython.core.display.HTML object>"
            ],
            "text/html": [
              " View run <strong style=\"color:#cdcd00\">m_create_standard_network_1_dr_maxdropout_p_0.2lr_0.01_m_0.9</strong> at: <a href='https://wandb.ai/shahi77-national-institute-of-technology-hamirpur/Dropout04/runs/7jzym7q5' target=\"_blank\">https://wandb.ai/shahi77-national-institute-of-technology-hamirpur/Dropout04/runs/7jzym7q5</a><br> View project at: <a href='https://wandb.ai/shahi77-national-institute-of-technology-hamirpur/Dropout04' target=\"_blank\">https://wandb.ai/shahi77-national-institute-of-technology-hamirpur/Dropout04</a><br>Synced 5 W&B file(s), 0 media file(s), 0 artifact file(s) and 0 other file(s)"
            ]
          },
          "metadata": {}
        },
        {
          "output_type": "display_data",
          "data": {
            "text/plain": [
              "<IPython.core.display.HTML object>"
            ],
            "text/html": [
              "Find logs at: <code>./wandb/run-20250217_135038-7jzym7q5/logs</code>"
            ]
          },
          "metadata": {}
        },
        {
          "output_type": "stream",
          "name": "stderr",
          "text": [
            "\u001b[34m\u001b[1mwandb\u001b[0m: Agent Starting Run: q85mqcme with config:\n",
            "\u001b[34m\u001b[1mwandb\u001b[0m: \tbatch_size: 64\n",
            "\u001b[34m\u001b[1mwandb\u001b[0m: \tdropout_method: biased_dropout\n",
            "\u001b[34m\u001b[1mwandb\u001b[0m: \tdropout_prob: 0.5\n",
            "\u001b[34m\u001b[1mwandb\u001b[0m: \tepochs: 10\n",
            "\u001b[34m\u001b[1mwandb\u001b[0m: \tlr: 0.01\n",
            "\u001b[34m\u001b[1mwandb\u001b[0m: \tmodel: create_standard_network_1\n",
            "\u001b[34m\u001b[1mwandb\u001b[0m: \tmomentum: 0.99\n",
            "\u001b[34m\u001b[1mwandb\u001b[0m: \toptimizer: sgd\n",
            "\u001b[34m\u001b[1mwandb\u001b[0m: \tweight_init: random\n"
          ]
        },
        {
          "output_type": "display_data",
          "data": {
            "text/plain": [
              "<IPython.core.display.HTML object>"
            ],
            "text/html": [
              "Tracking run with wandb version 0.19.6"
            ]
          },
          "metadata": {}
        },
        {
          "output_type": "display_data",
          "data": {
            "text/plain": [
              "<IPython.core.display.HTML object>"
            ],
            "text/html": [
              "Run data is saved locally in <code>/content/wandb/run-20250217_135314-q85mqcme</code>"
            ]
          },
          "metadata": {}
        },
        {
          "output_type": "display_data",
          "data": {
            "text/plain": [
              "<IPython.core.display.HTML object>"
            ],
            "text/html": [
              "Syncing run <strong><a href='https://wandb.ai/shahi77-national-institute-of-technology-hamirpur/Dropout04/runs/q85mqcme' target=\"_blank\">zany-sweep-12</a></strong> to <a href='https://wandb.ai/shahi77-national-institute-of-technology-hamirpur/Dropout04' target=\"_blank\">Weights & Biases</a> (<a href='https://wandb.me/developer-guide' target=\"_blank\">docs</a>)<br>Sweep page: <a href='https://wandb.ai/shahi77-national-institute-of-technology-hamirpur/Dropout04/sweeps/qf1328ih' target=\"_blank\">https://wandb.ai/shahi77-national-institute-of-technology-hamirpur/Dropout04/sweeps/qf1328ih</a>"
            ]
          },
          "metadata": {}
        },
        {
          "output_type": "display_data",
          "data": {
            "text/plain": [
              "<IPython.core.display.HTML object>"
            ],
            "text/html": [
              " View project at <a href='https://wandb.ai/shahi77-national-institute-of-technology-hamirpur/Dropout04' target=\"_blank\">https://wandb.ai/shahi77-national-institute-of-technology-hamirpur/Dropout04</a>"
            ]
          },
          "metadata": {}
        },
        {
          "output_type": "display_data",
          "data": {
            "text/plain": [
              "<IPython.core.display.HTML object>"
            ],
            "text/html": [
              " View sweep at <a href='https://wandb.ai/shahi77-national-institute-of-technology-hamirpur/Dropout04/sweeps/qf1328ih' target=\"_blank\">https://wandb.ai/shahi77-national-institute-of-technology-hamirpur/Dropout04/sweeps/qf1328ih</a>"
            ]
          },
          "metadata": {}
        },
        {
          "output_type": "display_data",
          "data": {
            "text/plain": [
              "<IPython.core.display.HTML object>"
            ],
            "text/html": [
              " View run at <a href='https://wandb.ai/shahi77-national-institute-of-technology-hamirpur/Dropout04/runs/q85mqcme' target=\"_blank\">https://wandb.ai/shahi77-national-institute-of-technology-hamirpur/Dropout04/runs/q85mqcme</a>"
            ]
          },
          "metadata": {}
        },
        {
          "output_type": "stream",
          "name": "stdout",
          "text": [
            "Epoch 1, Loss: 2.3029085680206807, Accuracy: 10.670370370370371%\n",
            "Epoch 2, Loss: 2.3029544955181285, Accuracy: 10.829629629629629%\n",
            "Epoch 3, Loss: 2.302960321519047, Accuracy: 10.694444444444445%\n",
            "Epoch 4, Loss: 2.302467646474522, Accuracy: 11.018518518518519%\n",
            "Epoch 5, Loss: 2.3027527880329655, Accuracy: 10.951851851851853%\n",
            "Epoch 6, Loss: 2.3028164446636397, Accuracy: 10.957407407407407%\n",
            "Epoch 7, Loss: 2.3022458996817963, Accuracy: 10.907407407407407%\n",
            "Epoch 8, Loss: 2.3026644194860593, Accuracy: 10.907407407407407%\n",
            "Epoch 9, Loss: 2.301896325219864, Accuracy: 11.107407407407408%\n",
            "Epoch 10, Loss: 2.301961244000078, Accuracy: 11.148148148148149%\n"
          ]
        },
        {
          "output_type": "display_data",
          "data": {
            "text/plain": [
              "<IPython.core.display.HTML object>"
            ],
            "text/html": []
          },
          "metadata": {}
        },
        {
          "output_type": "display_data",
          "data": {
            "text/plain": [
              "<IPython.core.display.HTML object>"
            ],
            "text/html": [
              "<br>    <style><br>        .wandb-row {<br>            display: flex;<br>            flex-direction: row;<br>            flex-wrap: wrap;<br>            justify-content: flex-start;<br>            width: 100%;<br>        }<br>        .wandb-col {<br>            display: flex;<br>            flex-direction: column;<br>            flex-basis: 100%;<br>            flex: 1;<br>            padding: 10px;<br>        }<br>    </style><br><div class=\"wandb-row\"><div class=\"wandb-col\"><h3>Run history:</h3><br/><table class=\"wandb\"><tr><td>epoch</td><td>▁▂▃▃▄▅▆▆▇█</td></tr><tr><td>train_accuracy</td><td>▁▃▁▆▅▅▄▄▇█</td></tr><tr><td>train_loss</td><td>███▅▇▇▃▆▁▁</td></tr><tr><td>validation_accuracy</td><td>▁</td></tr></table><br/></div><div class=\"wandb-col\"><h3>Run summary:</h3><br/><table class=\"wandb\"><tr><td>epoch</td><td>10</td></tr><tr><td>train_accuracy</td><td>11.14815</td></tr><tr><td>train_loss</td><td>2.30196</td></tr><tr><td>trial_name</td><td>m_create_standard_ne...</td></tr><tr><td>validation_accuracy</td><td>10.73333</td></tr></table><br/></div></div>"
            ]
          },
          "metadata": {}
        },
        {
          "output_type": "display_data",
          "data": {
            "text/plain": [
              "<IPython.core.display.HTML object>"
            ],
            "text/html": [
              " View run <strong style=\"color:#cdcd00\">m_create_standard_network_1_dr_biased_dropout_p_0.5lr_0.01_m_0.99</strong> at: <a href='https://wandb.ai/shahi77-national-institute-of-technology-hamirpur/Dropout04/runs/q85mqcme' target=\"_blank\">https://wandb.ai/shahi77-national-institute-of-technology-hamirpur/Dropout04/runs/q85mqcme</a><br> View project at: <a href='https://wandb.ai/shahi77-national-institute-of-technology-hamirpur/Dropout04' target=\"_blank\">https://wandb.ai/shahi77-national-institute-of-technology-hamirpur/Dropout04</a><br>Synced 5 W&B file(s), 0 media file(s), 0 artifact file(s) and 0 other file(s)"
            ]
          },
          "metadata": {}
        },
        {
          "output_type": "display_data",
          "data": {
            "text/plain": [
              "<IPython.core.display.HTML object>"
            ],
            "text/html": [
              "Find logs at: <code>./wandb/run-20250217_135314-q85mqcme/logs</code>"
            ]
          },
          "metadata": {}
        },
        {
          "output_type": "stream",
          "name": "stderr",
          "text": [
            "\u001b[34m\u001b[1mwandb\u001b[0m: Agent Starting Run: 04xsmxzc with config:\n",
            "\u001b[34m\u001b[1mwandb\u001b[0m: \tbatch_size: 64\n",
            "\u001b[34m\u001b[1mwandb\u001b[0m: \tdropout_method: biased_dropout\n",
            "\u001b[34m\u001b[1mwandb\u001b[0m: \tdropout_prob: 0.5\n",
            "\u001b[34m\u001b[1mwandb\u001b[0m: \tepochs: 10\n",
            "\u001b[34m\u001b[1mwandb\u001b[0m: \tlr: 0.01\n",
            "\u001b[34m\u001b[1mwandb\u001b[0m: \tmodel: create_dropout_network_logistic\n",
            "\u001b[34m\u001b[1mwandb\u001b[0m: \tmomentum: 0.99\n",
            "\u001b[34m\u001b[1mwandb\u001b[0m: \toptimizer: sgd\n",
            "\u001b[34m\u001b[1mwandb\u001b[0m: \tweight_init: random\n"
          ]
        },
        {
          "output_type": "display_data",
          "data": {
            "text/plain": [
              "<IPython.core.display.HTML object>"
            ],
            "text/html": [
              "Tracking run with wandb version 0.19.6"
            ]
          },
          "metadata": {}
        },
        {
          "output_type": "display_data",
          "data": {
            "text/plain": [
              "<IPython.core.display.HTML object>"
            ],
            "text/html": [
              "Run data is saved locally in <code>/content/wandb/run-20250217_135550-04xsmxzc</code>"
            ]
          },
          "metadata": {}
        },
        {
          "output_type": "display_data",
          "data": {
            "text/plain": [
              "<IPython.core.display.HTML object>"
            ],
            "text/html": [
              "Syncing run <strong><a href='https://wandb.ai/shahi77-national-institute-of-technology-hamirpur/Dropout04/runs/04xsmxzc' target=\"_blank\">jolly-sweep-13</a></strong> to <a href='https://wandb.ai/shahi77-national-institute-of-technology-hamirpur/Dropout04' target=\"_blank\">Weights & Biases</a> (<a href='https://wandb.me/developer-guide' target=\"_blank\">docs</a>)<br>Sweep page: <a href='https://wandb.ai/shahi77-national-institute-of-technology-hamirpur/Dropout04/sweeps/qf1328ih' target=\"_blank\">https://wandb.ai/shahi77-national-institute-of-technology-hamirpur/Dropout04/sweeps/qf1328ih</a>"
            ]
          },
          "metadata": {}
        },
        {
          "output_type": "display_data",
          "data": {
            "text/plain": [
              "<IPython.core.display.HTML object>"
            ],
            "text/html": [
              " View project at <a href='https://wandb.ai/shahi77-national-institute-of-technology-hamirpur/Dropout04' target=\"_blank\">https://wandb.ai/shahi77-national-institute-of-technology-hamirpur/Dropout04</a>"
            ]
          },
          "metadata": {}
        },
        {
          "output_type": "display_data",
          "data": {
            "text/plain": [
              "<IPython.core.display.HTML object>"
            ],
            "text/html": [
              " View sweep at <a href='https://wandb.ai/shahi77-national-institute-of-technology-hamirpur/Dropout04/sweeps/qf1328ih' target=\"_blank\">https://wandb.ai/shahi77-national-institute-of-technology-hamirpur/Dropout04/sweeps/qf1328ih</a>"
            ]
          },
          "metadata": {}
        },
        {
          "output_type": "display_data",
          "data": {
            "text/plain": [
              "<IPython.core.display.HTML object>"
            ],
            "text/html": [
              " View run at <a href='https://wandb.ai/shahi77-national-institute-of-technology-hamirpur/Dropout04/runs/04xsmxzc' target=\"_blank\">https://wandb.ai/shahi77-national-institute-of-technology-hamirpur/Dropout04/runs/04xsmxzc</a>"
            ]
          },
          "metadata": {}
        },
        {
          "output_type": "stream",
          "name": "stdout",
          "text": [
            "Epoch 1, Loss: 2.321923885865234, Accuracy: 10.464814814814815%\n",
            "Epoch 2, Loss: 2.321089148238937, Accuracy: 10.366666666666667%\n",
            "Epoch 3, Loss: 2.3189339383518526, Accuracy: 10.512962962962963%\n",
            "Epoch 4, Loss: 2.3188130844260844, Accuracy: 10.105555555555556%\n",
            "Epoch 5, Loss: 2.318038048337421, Accuracy: 10.248148148148148%\n",
            "Epoch 6, Loss: 2.315951153565357, Accuracy: 10.257407407407408%\n",
            "Epoch 7, Loss: 2.3153448627458366, Accuracy: 10.401851851851852%\n",
            "Epoch 8, Loss: 2.314873009778877, Accuracy: 10.357407407407408%\n",
            "Epoch 9, Loss: 2.314141500900142, Accuracy: 10.290740740740741%\n",
            "Epoch 10, Loss: 2.314305024689408, Accuracy: 10.32037037037037%\n"
          ]
        },
        {
          "output_type": "display_data",
          "data": {
            "text/plain": [
              "<IPython.core.display.HTML object>"
            ],
            "text/html": []
          },
          "metadata": {}
        },
        {
          "output_type": "display_data",
          "data": {
            "text/plain": [
              "<IPython.core.display.HTML object>"
            ],
            "text/html": [
              "<br>    <style><br>        .wandb-row {<br>            display: flex;<br>            flex-direction: row;<br>            flex-wrap: wrap;<br>            justify-content: flex-start;<br>            width: 100%;<br>        }<br>        .wandb-col {<br>            display: flex;<br>            flex-direction: column;<br>            flex-basis: 100%;<br>            flex: 1;<br>            padding: 10px;<br>        }<br>    </style><br><div class=\"wandb-row\"><div class=\"wandb-col\"><h3>Run history:</h3><br/><table class=\"wandb\"><tr><td>epoch</td><td>▁▂▃▃▄▅▆▆▇█</td></tr><tr><td>train_accuracy</td><td>▇▅█▁▃▄▆▅▄▅</td></tr><tr><td>train_loss</td><td>█▇▅▅▅▃▂▂▁▁</td></tr><tr><td>validation_accuracy</td><td>▁</td></tr></table><br/></div><div class=\"wandb-col\"><h3>Run summary:</h3><br/><table class=\"wandb\"><tr><td>epoch</td><td>10</td></tr><tr><td>train_accuracy</td><td>10.32037</td></tr><tr><td>train_loss</td><td>2.31431</td></tr><tr><td>trial_name</td><td>m_create_dropout_net...</td></tr><tr><td>validation_accuracy</td><td>11.06667</td></tr></table><br/></div></div>"
            ]
          },
          "metadata": {}
        },
        {
          "output_type": "display_data",
          "data": {
            "text/plain": [
              "<IPython.core.display.HTML object>"
            ],
            "text/html": [
              " View run <strong style=\"color:#cdcd00\">m_create_dropout_network_logistic_dr_biased_dropout_p_0.5lr_0.01_m_0.99</strong> at: <a href='https://wandb.ai/shahi77-national-institute-of-technology-hamirpur/Dropout04/runs/04xsmxzc' target=\"_blank\">https://wandb.ai/shahi77-national-institute-of-technology-hamirpur/Dropout04/runs/04xsmxzc</a><br> View project at: <a href='https://wandb.ai/shahi77-national-institute-of-technology-hamirpur/Dropout04' target=\"_blank\">https://wandb.ai/shahi77-national-institute-of-technology-hamirpur/Dropout04</a><br>Synced 5 W&B file(s), 0 media file(s), 0 artifact file(s) and 0 other file(s)"
            ]
          },
          "metadata": {}
        },
        {
          "output_type": "display_data",
          "data": {
            "text/plain": [
              "<IPython.core.display.HTML object>"
            ],
            "text/html": [
              "Find logs at: <code>./wandb/run-20250217_135550-04xsmxzc/logs</code>"
            ]
          },
          "metadata": {}
        },
        {
          "output_type": "stream",
          "name": "stderr",
          "text": [
            "\u001b[34m\u001b[1mwandb\u001b[0m: Agent Starting Run: d7m80ysq with config:\n",
            "\u001b[34m\u001b[1mwandb\u001b[0m: \tbatch_size: 64\n",
            "\u001b[34m\u001b[1mwandb\u001b[0m: \tdropout_method: dropblock\n",
            "\u001b[34m\u001b[1mwandb\u001b[0m: \tdropout_prob: 0.3\n",
            "\u001b[34m\u001b[1mwandb\u001b[0m: \tepochs: 10\n",
            "\u001b[34m\u001b[1mwandb\u001b[0m: \tlr: 0.001\n",
            "\u001b[34m\u001b[1mwandb\u001b[0m: \tmodel: create_dropout_network_relu\n",
            "\u001b[34m\u001b[1mwandb\u001b[0m: \tmomentum: 0.9\n",
            "\u001b[34m\u001b[1mwandb\u001b[0m: \toptimizer: sgd\n",
            "\u001b[34m\u001b[1mwandb\u001b[0m: \tweight_init: random\n"
          ]
        },
        {
          "output_type": "display_data",
          "data": {
            "text/plain": [
              "<IPython.core.display.HTML object>"
            ],
            "text/html": [
              "Tracking run with wandb version 0.19.6"
            ]
          },
          "metadata": {}
        },
        {
          "output_type": "display_data",
          "data": {
            "text/plain": [
              "<IPython.core.display.HTML object>"
            ],
            "text/html": [
              "Run data is saved locally in <code>/content/wandb/run-20250217_140212-d7m80ysq</code>"
            ]
          },
          "metadata": {}
        },
        {
          "output_type": "display_data",
          "data": {
            "text/plain": [
              "<IPython.core.display.HTML object>"
            ],
            "text/html": [
              "Syncing run <strong><a href='https://wandb.ai/shahi77-national-institute-of-technology-hamirpur/Dropout04/runs/d7m80ysq' target=\"_blank\">breezy-sweep-14</a></strong> to <a href='https://wandb.ai/shahi77-national-institute-of-technology-hamirpur/Dropout04' target=\"_blank\">Weights & Biases</a> (<a href='https://wandb.me/developer-guide' target=\"_blank\">docs</a>)<br>Sweep page: <a href='https://wandb.ai/shahi77-national-institute-of-technology-hamirpur/Dropout04/sweeps/qf1328ih' target=\"_blank\">https://wandb.ai/shahi77-national-institute-of-technology-hamirpur/Dropout04/sweeps/qf1328ih</a>"
            ]
          },
          "metadata": {}
        },
        {
          "output_type": "display_data",
          "data": {
            "text/plain": [
              "<IPython.core.display.HTML object>"
            ],
            "text/html": [
              " View project at <a href='https://wandb.ai/shahi77-national-institute-of-technology-hamirpur/Dropout04' target=\"_blank\">https://wandb.ai/shahi77-national-institute-of-technology-hamirpur/Dropout04</a>"
            ]
          },
          "metadata": {}
        },
        {
          "output_type": "display_data",
          "data": {
            "text/plain": [
              "<IPython.core.display.HTML object>"
            ],
            "text/html": [
              " View sweep at <a href='https://wandb.ai/shahi77-national-institute-of-technology-hamirpur/Dropout04/sweeps/qf1328ih' target=\"_blank\">https://wandb.ai/shahi77-national-institute-of-technology-hamirpur/Dropout04/sweeps/qf1328ih</a>"
            ]
          },
          "metadata": {}
        },
        {
          "output_type": "display_data",
          "data": {
            "text/plain": [
              "<IPython.core.display.HTML object>"
            ],
            "text/html": [
              " View run at <a href='https://wandb.ai/shahi77-national-institute-of-technology-hamirpur/Dropout04/runs/d7m80ysq' target=\"_blank\">https://wandb.ai/shahi77-national-institute-of-technology-hamirpur/Dropout04/runs/d7m80ysq</a>"
            ]
          },
          "metadata": {}
        },
        {
          "output_type": "stream",
          "name": "stdout",
          "text": [
            "Epoch 1, Loss: 2.301475048912645, Accuracy: 12.175925925925926%\n",
            "Epoch 2, Loss: 2.299672288917252, Accuracy: 16.844444444444445%\n",
            "Epoch 3, Loss: 2.2978957295417786, Accuracy: 19.353703703703705%\n",
            "Epoch 4, Loss: 2.295639655883843, Accuracy: 20.733333333333334%\n",
            "Epoch 5, Loss: 2.292934204447326, Accuracy: 22.57037037037037%\n",
            "Epoch 6, Loss: 2.2890873412950343, Accuracy: 26.355555555555554%\n",
            "Epoch 7, Loss: 2.28374356737634, Accuracy: 29.83888888888889%\n",
            "Epoch 8, Loss: 2.275112891649183, Accuracy: 31.66296296296296%\n",
            "Epoch 9, Loss: 2.2599542883900106, Accuracy: 29.522222222222222%\n",
            "Epoch 10, Loss: 2.230000697888469, Accuracy: 26.17037037037037%\n"
          ]
        },
        {
          "output_type": "display_data",
          "data": {
            "text/plain": [
              "<IPython.core.display.HTML object>"
            ],
            "text/html": []
          },
          "metadata": {}
        },
        {
          "output_type": "display_data",
          "data": {
            "text/plain": [
              "<IPython.core.display.HTML object>"
            ],
            "text/html": [
              "<br>    <style><br>        .wandb-row {<br>            display: flex;<br>            flex-direction: row;<br>            flex-wrap: wrap;<br>            justify-content: flex-start;<br>            width: 100%;<br>        }<br>        .wandb-col {<br>            display: flex;<br>            flex-direction: column;<br>            flex-basis: 100%;<br>            flex: 1;<br>            padding: 10px;<br>        }<br>    </style><br><div class=\"wandb-row\"><div class=\"wandb-col\"><h3>Run history:</h3><br/><table class=\"wandb\"><tr><td>epoch</td><td>▁▂▃▃▄▅▆▆▇█</td></tr><tr><td>train_accuracy</td><td>▁▃▄▄▅▆▇█▇▆</td></tr><tr><td>train_loss</td><td>███▇▇▇▆▅▄▁</td></tr><tr><td>validation_accuracy</td><td>▁</td></tr></table><br/></div><div class=\"wandb-col\"><h3>Run summary:</h3><br/><table class=\"wandb\"><tr><td>epoch</td><td>10</td></tr><tr><td>train_accuracy</td><td>26.17037</td></tr><tr><td>train_loss</td><td>2.23</td></tr><tr><td>trial_name</td><td>m_create_dropout_net...</td></tr><tr><td>validation_accuracy</td><td>28.25</td></tr></table><br/></div></div>"
            ]
          },
          "metadata": {}
        },
        {
          "output_type": "display_data",
          "data": {
            "text/plain": [
              "<IPython.core.display.HTML object>"
            ],
            "text/html": [
              " View run <strong style=\"color:#cdcd00\">m_create_dropout_network_relu_dr_dropblock_p_0.3lr_0.001_m_0.9</strong> at: <a href='https://wandb.ai/shahi77-national-institute-of-technology-hamirpur/Dropout04/runs/d7m80ysq' target=\"_blank\">https://wandb.ai/shahi77-national-institute-of-technology-hamirpur/Dropout04/runs/d7m80ysq</a><br> View project at: <a href='https://wandb.ai/shahi77-national-institute-of-technology-hamirpur/Dropout04' target=\"_blank\">https://wandb.ai/shahi77-national-institute-of-technology-hamirpur/Dropout04</a><br>Synced 5 W&B file(s), 0 media file(s), 0 artifact file(s) and 0 other file(s)"
            ]
          },
          "metadata": {}
        },
        {
          "output_type": "display_data",
          "data": {
            "text/plain": [
              "<IPython.core.display.HTML object>"
            ],
            "text/html": [
              "Find logs at: <code>./wandb/run-20250217_140212-d7m80ysq/logs</code>"
            ]
          },
          "metadata": {}
        },
        {
          "output_type": "stream",
          "name": "stderr",
          "text": [
            "\u001b[34m\u001b[1mwandb\u001b[0m: Agent Starting Run: a0wkmdjx with config:\n",
            "\u001b[34m\u001b[1mwandb\u001b[0m: \tbatch_size: 64\n",
            "\u001b[34m\u001b[1mwandb\u001b[0m: \tdropout_method: flipover\n",
            "\u001b[34m\u001b[1mwandb\u001b[0m: \tdropout_prob: 0.2\n",
            "\u001b[34m\u001b[1mwandb\u001b[0m: \tepochs: 10\n",
            "\u001b[34m\u001b[1mwandb\u001b[0m: \tlr: 0.001\n",
            "\u001b[34m\u001b[1mwandb\u001b[0m: \tmodel: create_standard_network_2\n",
            "\u001b[34m\u001b[1mwandb\u001b[0m: \tmomentum: 0.9\n",
            "\u001b[34m\u001b[1mwandb\u001b[0m: \toptimizer: sgd\n",
            "\u001b[34m\u001b[1mwandb\u001b[0m: \tweight_init: random\n"
          ]
        },
        {
          "output_type": "display_data",
          "data": {
            "text/plain": [
              "<IPython.core.display.HTML object>"
            ],
            "text/html": [
              "Tracking run with wandb version 0.19.6"
            ]
          },
          "metadata": {}
        },
        {
          "output_type": "display_data",
          "data": {
            "text/plain": [
              "<IPython.core.display.HTML object>"
            ],
            "text/html": [
              "Run data is saved locally in <code>/content/wandb/run-20250217_140835-a0wkmdjx</code>"
            ]
          },
          "metadata": {}
        },
        {
          "output_type": "display_data",
          "data": {
            "text/plain": [
              "<IPython.core.display.HTML object>"
            ],
            "text/html": [
              "Syncing run <strong><a href='https://wandb.ai/shahi77-national-institute-of-technology-hamirpur/Dropout04/runs/a0wkmdjx' target=\"_blank\">grateful-sweep-15</a></strong> to <a href='https://wandb.ai/shahi77-national-institute-of-technology-hamirpur/Dropout04' target=\"_blank\">Weights & Biases</a> (<a href='https://wandb.me/developer-guide' target=\"_blank\">docs</a>)<br>Sweep page: <a href='https://wandb.ai/shahi77-national-institute-of-technology-hamirpur/Dropout04/sweeps/qf1328ih' target=\"_blank\">https://wandb.ai/shahi77-national-institute-of-technology-hamirpur/Dropout04/sweeps/qf1328ih</a>"
            ]
          },
          "metadata": {}
        },
        {
          "output_type": "display_data",
          "data": {
            "text/plain": [
              "<IPython.core.display.HTML object>"
            ],
            "text/html": [
              " View project at <a href='https://wandb.ai/shahi77-national-institute-of-technology-hamirpur/Dropout04' target=\"_blank\">https://wandb.ai/shahi77-national-institute-of-technology-hamirpur/Dropout04</a>"
            ]
          },
          "metadata": {}
        },
        {
          "output_type": "display_data",
          "data": {
            "text/plain": [
              "<IPython.core.display.HTML object>"
            ],
            "text/html": [
              " View sweep at <a href='https://wandb.ai/shahi77-national-institute-of-technology-hamirpur/Dropout04/sweeps/qf1328ih' target=\"_blank\">https://wandb.ai/shahi77-national-institute-of-technology-hamirpur/Dropout04/sweeps/qf1328ih</a>"
            ]
          },
          "metadata": {}
        },
        {
          "output_type": "display_data",
          "data": {
            "text/plain": [
              "<IPython.core.display.HTML object>"
            ],
            "text/html": [
              " View run at <a href='https://wandb.ai/shahi77-national-institute-of-technology-hamirpur/Dropout04/runs/a0wkmdjx' target=\"_blank\">https://wandb.ai/shahi77-national-institute-of-technology-hamirpur/Dropout04/runs/a0wkmdjx</a>"
            ]
          },
          "metadata": {}
        },
        {
          "output_type": "stream",
          "name": "stdout",
          "text": [
            "Epoch 1, Loss: 2.3109447360038757, Accuracy: 10.325925925925926%\n",
            "Epoch 2, Loss: 2.3102651020926888, Accuracy: 10.548148148148147%\n",
            "Epoch 3, Loss: 2.3087392310960597, Accuracy: 10.425925925925926%\n",
            "Epoch 4, Loss: 2.307606799342621, Accuracy: 10.531481481481482%\n",
            "Epoch 5, Loss: 2.3064858306075724, Accuracy: 10.9%\n",
            "Epoch 6, Loss: 2.30623351199932, Accuracy: 10.75%\n",
            "Epoch 7, Loss: 2.3044260652709347, Accuracy: 11.133333333333333%\n",
            "Epoch 8, Loss: 2.3052413008789316, Accuracy: 10.953703703703704%\n",
            "Epoch 9, Loss: 2.304041623504241, Accuracy: 10.985185185185186%\n",
            "Epoch 10, Loss: 2.3030125445099237, Accuracy: 11.337037037037037%\n"
          ]
        },
        {
          "output_type": "display_data",
          "data": {
            "text/plain": [
              "<IPython.core.display.HTML object>"
            ],
            "text/html": []
          },
          "metadata": {}
        },
        {
          "output_type": "display_data",
          "data": {
            "text/plain": [
              "<IPython.core.display.HTML object>"
            ],
            "text/html": [
              "<br>    <style><br>        .wandb-row {<br>            display: flex;<br>            flex-direction: row;<br>            flex-wrap: wrap;<br>            justify-content: flex-start;<br>            width: 100%;<br>        }<br>        .wandb-col {<br>            display: flex;<br>            flex-direction: column;<br>            flex-basis: 100%;<br>            flex: 1;<br>            padding: 10px;<br>        }<br>    </style><br><div class=\"wandb-row\"><div class=\"wandb-col\"><h3>Run history:</h3><br/><table class=\"wandb\"><tr><td>epoch</td><td>▁▂▃▃▄▅▆▆▇█</td></tr><tr><td>train_accuracy</td><td>▁▃▂▂▅▄▇▅▆█</td></tr><tr><td>train_loss</td><td>█▇▆▅▄▄▂▃▂▁</td></tr><tr><td>validation_accuracy</td><td>▁</td></tr></table><br/></div><div class=\"wandb-col\"><h3>Run summary:</h3><br/><table class=\"wandb\"><tr><td>epoch</td><td>10</td></tr><tr><td>train_accuracy</td><td>11.33704</td></tr><tr><td>train_loss</td><td>2.30301</td></tr><tr><td>trial_name</td><td>m_create_standard_ne...</td></tr><tr><td>validation_accuracy</td><td>11.86667</td></tr></table><br/></div></div>"
            ]
          },
          "metadata": {}
        },
        {
          "output_type": "display_data",
          "data": {
            "text/plain": [
              "<IPython.core.display.HTML object>"
            ],
            "text/html": [
              " View run <strong style=\"color:#cdcd00\">m_create_standard_network_2_dr_flipover_p_0.2lr_0.001_m_0.9</strong> at: <a href='https://wandb.ai/shahi77-national-institute-of-technology-hamirpur/Dropout04/runs/a0wkmdjx' target=\"_blank\">https://wandb.ai/shahi77-national-institute-of-technology-hamirpur/Dropout04/runs/a0wkmdjx</a><br> View project at: <a href='https://wandb.ai/shahi77-national-institute-of-technology-hamirpur/Dropout04' target=\"_blank\">https://wandb.ai/shahi77-national-institute-of-technology-hamirpur/Dropout04</a><br>Synced 5 W&B file(s), 0 media file(s), 0 artifact file(s) and 0 other file(s)"
            ]
          },
          "metadata": {}
        },
        {
          "output_type": "display_data",
          "data": {
            "text/plain": [
              "<IPython.core.display.HTML object>"
            ],
            "text/html": [
              "Find logs at: <code>./wandb/run-20250217_140835-a0wkmdjx/logs</code>"
            ]
          },
          "metadata": {}
        }
      ]
    },
    {
      "cell_type": "code",
      "source": [
        "import torch\n",
        "import torch.nn as nn\n",
        "import torch.optim as optim\n",
        "import torch.nn.functional as F\n",
        "import wandb\n",
        "from torch.utils.data import DataLoader, random_split\n",
        "from torchvision import datasets, transforms\n",
        "\n",
        "# Initialize device\n",
        "device = torch.device(\"cuda\" if torch.cuda.is_available() else \"cpu\")\n",
        "\n",
        "# Dataset building function\n",
        "def build_dataset(batch_size):\n",
        "    transform = transforms.Compose([\n",
        "        transforms.ToTensor(),\n",
        "        transforms.Normalize((0.5, 0.5, 0.5), (0.5, 0.5, 0.5))  # Normalize for CIFAR-10\n",
        "    ])\n",
        "\n",
        "    dataset = datasets.CIFAR10(root='.', train=True, download=True, transform=transform)\n",
        "\n",
        "    train_size = int(0.9 * len(dataset))\n",
        "    val_size = len(dataset) - train_size\n",
        "    train_dataset, val_dataset = random_split(dataset, [train_size, val_size])\n",
        "\n",
        "    train_loader = DataLoader(train_dataset, batch_size=batch_size, shuffle=True)\n",
        "    val_loader = DataLoader(val_dataset, batch_size=batch_size, shuffle=False)\n",
        "\n",
        "    return train_loader, val_loader\n",
        "\n",
        "# Neural Network Architecture with Dropout\n",
        "class NeuralNetworkWithDropout(nn.Module):\n",
        "    def __init__(self, input_size, hidden_layers, output_size, dropout_prob, activation_fn, init_method, max_threshold=None):\n",
        "        super(NeuralNetworkWithDropout, self).__init__()\n",
        "        self.init_method = init_method\n",
        "        self.max_threshold = max_threshold\n",
        "\n",
        "        layers = []\n",
        "\n",
        "        # Input to first hidden layer\n",
        "        layers.append(nn.Linear(input_size, hidden_layers[0]))\n",
        "        layers.append(activation_fn())\n",
        "        layers.append(nn.Dropout(dropout_prob))\n",
        "\n",
        "        # Hidden layers with dropout\n",
        "        for i in range(1, len(hidden_layers)):\n",
        "            layers.append(nn.Linear(hidden_layers[i-1], hidden_layers[i]))\n",
        "            layers.append(activation_fn())\n",
        "            layers.append(nn.Dropout(dropout_prob))\n",
        "\n",
        "        # Output layer\n",
        "        layers.append(nn.Linear(hidden_layers[-1], output_size))\n",
        "\n",
        "        self.network = nn.Sequential(*layers)\n",
        "        self.apply(self._initialize_weights)\n",
        "\n",
        "    def forward(self, x):\n",
        "      # Flatten the input tensor\n",
        "      x = x.view(x.size(0), -1)  # Flatten the 28x28 images into a 784 vector\n",
        "      return self.network(x)\n",
        "\n",
        "\n",
        "    def _initialize_weights(self, layer):\n",
        "        if isinstance(layer, nn.Linear):\n",
        "            if self.init_method == 'random':\n",
        "                nn.init.normal_(layer.weight, mean=0, std=0.01)\n",
        "            elif self.init_method == 'max_threshold':\n",
        "                nn.init.normal_(layer.weight, mean=0, std=0.01)\n",
        "                if self.max_threshold:\n",
        "                    torch.clamp(layer.weight, max=self.max_threshold)\n",
        "            elif self.init_method == 'pretraining':\n",
        "                nn.init.normal_(layer.weight, mean=0, std=0.01)\n",
        "\n",
        "            if layer.bias is not None:\n",
        "                nn.init.constant_(layer.bias, 0)\n",
        "\n",
        "\n",
        "# Experiment Configurations\n",
        "\n",
        "# 1. StandardNeuralNet Logistic 2 layers, 100 units\n",
        "def create_standard_network_1():\n",
        "    return NeuralNetworkWithDropout(input_size=784, hidden_layers=[100, 100], output_size=10,\n",
        "                                    dropout_prob=0.5, activation_fn=nn.Sigmoid, init_method='random')\n",
        "\n",
        "# 2. StandardNeuralNet Logistic 2 layers, 800 units\n",
        "def create_standard_network_2():\n",
        "    return NeuralNetworkWithDropout(input_size=784, hidden_layers=[800, 800], output_size=10,\n",
        "                                    dropout_prob=0.5, activation_fn=nn.Sigmoid, init_method='random')\n",
        "\n",
        "# 3. DropoutNN Logistic 3 layers, 1024 units\n",
        "def create_dropout_network_logistic():\n",
        "    return NeuralNetworkWithDropout(input_size=784, hidden_layers=[1024, 1024, 1024], output_size=10,\n",
        "                                    dropout_prob=0.5, activation_fn=nn.Sigmoid, init_method='random')\n",
        "\n",
        "# 4. DropoutNN ReLU 3 layers, 1024 units\n",
        "def create_dropout_network_relu():\n",
        "    return NeuralNetworkWithDropout(input_size=784, hidden_layers=[1024, 1024, 1024], output_size=10,\n",
        "                                    dropout_prob=0.5, activation_fn=nn.ReLU, init_method='random')\n",
        "\n",
        "\n",
        "# DROPOUTS\n",
        "\n",
        "# Define custom DropConnect layer\n",
        "class DropConnect(nn.Module):\n",
        "    def __init__(self, layer, p=0.5):\n",
        "        super(DropConnect, self).__init__()\n",
        "        self.layer = layer\n",
        "        self.p = p\n",
        "\n",
        "    def forward(self, x):\n",
        "        if self.training:\n",
        "            # DropConnect: Randomly zero out weights, not activations\n",
        "            mask = (torch.rand_like(self.layer.weight) > self.p).float()\n",
        "            weight = self.layer.weight * mask\n",
        "            return F.linear(x, weight, self.layer.bias)\n",
        "        else:\n",
        "            return self.layer(x)\n",
        "\n",
        "# Define custom DropBlock layer\n",
        "class DropBlock(nn.Module):\n",
        "    def __init__(self, p=0.5):\n",
        "        super(DropBlock, self).__init__()\n",
        "        self.p = p\n",
        "\n",
        "    def forward(self, x):\n",
        "        if self.training:\n",
        "            # DropBlock: Randomly block entire blocks of activations\n",
        "            block_size = int(x.size(1) * self.p)\n",
        "            mask = torch.ones_like(x)\n",
        "            mask[:, :block_size] = 0  # You can modify this logic to randomly block in more advanced ways\n",
        "            x = x * mask\n",
        "        return x\n",
        "\n",
        "# Define Maxdropout (drop the largest activations)\n",
        "class MaxDropout(nn.Module):\n",
        "    def __init__(self, p=0.5):\n",
        "        super(MaxDropout, self).__init__()\n",
        "        self.p = p\n",
        "\n",
        "    def forward(self, x):\n",
        "        if self.training:\n",
        "            # Drop the max activations\n",
        "            top_k = int(x.size(1) * self.p)\n",
        "            _, indices = torch.topk(x, top_k, dim=1, largest=True, sorted=False)\n",
        "            mask = torch.zeros_like(x)\n",
        "            mask.scatter_(1, indices, 1)\n",
        "            x = x * mask\n",
        "        return x\n",
        "\n",
        "# Define Biased Dropout\n",
        "class BiasedDropout(nn.Module):\n",
        "    def __init__(self, p=0.5, bias=0.2):\n",
        "        super(BiasedDropout, self).__init__()\n",
        "        self.p = p\n",
        "        self.bias = bias\n",
        "\n",
        "    def forward(self, x):\n",
        "        if self.training:\n",
        "            # Biased Dropout: Apply biased dropout, where some neurons are more likely to be dropped\n",
        "            prob = torch.full_like(x, self.p + self.bias)\n",
        "            mask = (torch.rand_like(x) > prob).float()\n",
        "            x = x * mask\n",
        "        return x\n",
        "\n",
        "# Define Flipover Dropout\n",
        "class FlipoverDropout(nn.Module):\n",
        "    def __init__(self, p=0.5):\n",
        "        super(FlipoverDropout, self).__init__()\n",
        "        self.p = p\n",
        "\n",
        "    def forward(self, x):\n",
        "        if self.training:\n",
        "            # Flipover: Randomly negate the activations of dropped units\n",
        "            mask = (torch.rand_like(x) > self.p).float()\n",
        "            x = x * mask\n",
        "            x = x - (x * mask)  # Negate the dropped values\n",
        "        return x\n",
        "\n",
        "# Main function to apply different dropout methods\n",
        "def apply_dropout_method(model, method_name, dropout_prob=0.5):\n",
        "    if method_name == \"random\":\n",
        "        # Apply standard random dropout to each layer\n",
        "        for module in model.children():\n",
        "            if isinstance(module, nn.Linear):\n",
        "                module.dropout = nn.Dropout(dropout_prob)\n",
        "        return model\n",
        "\n",
        "    if method_name == \"dropconnect\":\n",
        "        # Apply DropConnect\n",
        "        for module in model.children():\n",
        "            if isinstance(module, nn.Linear):\n",
        "                module = DropConnect(module, p=dropout_prob)\n",
        "        return model\n",
        "\n",
        "    if method_name == \"dropblock\":\n",
        "        # Apply DropBlock\n",
        "        for module in model.children():\n",
        "            if isinstance(module, nn.Linear):\n",
        "                module = DropBlock(p=dropout_prob)\n",
        "        return model\n",
        "\n",
        "    if method_name == \"maxdropout\":\n",
        "        # Apply Maxdropout\n",
        "        for module in model.children():\n",
        "            if isinstance(module, nn.Linear):\n",
        "                module = MaxDropout(p=dropout_prob)\n",
        "        return model\n",
        "\n",
        "    if method_name == \"biased_dropout\":\n",
        "        # Apply Biased Dropout\n",
        "        for module in model.children():\n",
        "            if isinstance(module, nn.Linear):\n",
        "                module = BiasedDropout(p=dropout_prob)\n",
        "        return model\n",
        "\n",
        "    if method_name == \"flipover\":\n",
        "        # Apply Flipover Dropout\n",
        "        for module in model.children():\n",
        "            if isinstance(module, nn.Linear):\n",
        "                module = FlipoverDropout(p=dropout_prob)\n",
        "        return model\n",
        "\n",
        "    # Default: no dropout\n",
        "    return model\n",
        "\n",
        "\n",
        "# Optimizer function\n",
        "def get_optimizer(model, optimizer_name, lr, momentum=0, weight_decay=0):\n",
        "    if optimizer_name == 'sgd':\n",
        "        return optim.SGD(model.parameters(), lr=lr, momentum=momentum)\n",
        "    else:\n",
        "        raise ValueError(\"Optimizer not supported\")\n",
        "\n",
        "\n",
        "# Training function\n",
        "def train(model, train_loader, optimizer, criterion, epochs):\n",
        "        config = wandb.config\n",
        "\n",
        "        model.train()\n",
        "        for epoch in range(epochs):\n",
        "            running_loss = 0.0\n",
        "            correct = 0\n",
        "            total = 0\n",
        "            for inputs, labels in train_loader:\n",
        "                inputs, labels = inputs.to(device), labels.to(device)\n",
        "                optimizer.zero_grad()\n",
        "\n",
        "                # Forward pass\n",
        "                outputs = model(inputs)\n",
        "                loss = criterion(outputs, labels)\n",
        "                loss.backward()\n",
        "                optimizer.step()\n",
        "\n",
        "                running_loss += loss.item()\n",
        "                _, predicted = torch.max(outputs.data, 1)\n",
        "                total += labels.size(0)\n",
        "                correct += (predicted == labels).sum().item()\n",
        "\n",
        "            wandb.log({\n",
        "                \"epoch\": epoch + 1,\n",
        "                \"train_loss\": running_loss / len(train_loader),\n",
        "                \"train_accuracy\": 100 * correct / total,\n",
        "                \"trial_name\": f\"m_{config.model}_dr_{config.dropout_method}_p_{config.dropout_prob}lr_{config.lr}_m_{config.momentum}\"  # Add trial name\n",
        "            })\n",
        "\n",
        "            print(f\"Epoch {epoch+1}, Loss: {running_loss / len(train_loader)}, Accuracy: {100 * correct / total}%\")\n",
        "\n",
        "# Evaluation function\n",
        "def evaluate(model, val_loader):\n",
        "    model.eval()\n",
        "    correct = 0\n",
        "    total = 0\n",
        "    with torch.no_grad():\n",
        "        for inputs, labels in val_loader:\n",
        "            inputs, labels = inputs.to(device), labels.to(device)\n",
        "            outputs = model(inputs)\n",
        "            _, predicted = torch.max(outputs.data, 1)\n",
        "            total += labels.size(0)\n",
        "            correct += (predicted == labels).sum().item()\n",
        "\n",
        "    accuracy = 100 * correct / total\n",
        "    return accuracy\n",
        "\n",
        "import wandb\n",
        "\n",
        "def run_experiment():\n",
        "    # Initialize a new wandb run\n",
        "    with wandb.init() as run:\n",
        "        # Access the sweep config from wandb\n",
        "        config = wandb.config\n",
        "\n",
        "        # Generate a custom trial name using hyperparameters from the config\n",
        "        trial_name = f\"m_{config.model}_dr_{config.dropout_method}_p_{config.dropout_prob}lr_{config.lr}_m_{config.momentum}\"\n",
        "\n",
        "        run.name = trial_name\n",
        "\n",
        "        # Build dataset for training and validation\n",
        "        train_loader, val_loader = build_dataset(config.batch_size)\n",
        "\n",
        "        # Choose model based on config\n",
        "        if config.model == 'create_standard_network_1':\n",
        "            model = create_standard_network_1().to(device)\n",
        "        elif config.model == 'create_standard_network_2':\n",
        "            model = create_standard_network_2().to(device)\n",
        "        elif config.model == 'create_dropout_network_logistic':\n",
        "            model = create_dropout_network_logistic().to(device)\n",
        "        elif config.model == 'create_dropout_network_relu':\n",
        "            model = create_dropout_network_relu().to(device)\n",
        "        else:\n",
        "            raise ValueError(f\"Unknown model: {config.model}\")\n",
        "\n",
        "        # Apply the selected dropout method\n",
        "        model = apply_dropout_method(model, config.dropout_method, dropout_prob=config.dropout_prob)\n",
        "\n",
        "        # Define loss and optimizer\n",
        "        criterion = nn.CrossEntropyLoss()\n",
        "        optimizer = get_optimizer(model, config.optimizer, config.lr)\n",
        "\n",
        "        # Train the model\n",
        "        train(model, train_loader, optimizer, criterion, config.epochs)\n",
        "\n",
        "        # Evaluate the model\n",
        "        val_accuracy = evaluate(model, val_loader)\n",
        "        wandb.log({\"validation_accuracy\": val_accuracy, \"trial_name\": trial_name})\n",
        "\n",
        "# Run the sweep\n",
        "wandb.agent(sweep_id, run_experiment,count=15)"
      ],
      "metadata": {
        "colab": {
          "base_uri": "https://localhost:8080/",
          "height": 1000
        },
        "id": "KV3JX7KVIp3U",
        "outputId": "7a772a41-ac3b-41c7-eb12-168bfbd38fa8"
      },
      "execution_count": 7,
      "outputs": [
        {
          "output_type": "stream",
          "name": "stderr",
          "text": [
            "\u001b[34m\u001b[1mwandb\u001b[0m: Agent Starting Run: lbtn3ebl with config:\n",
            "\u001b[34m\u001b[1mwandb\u001b[0m: \tbatch_size: 64\n",
            "\u001b[34m\u001b[1mwandb\u001b[0m: \tdropout_method: random\n",
            "\u001b[34m\u001b[1mwandb\u001b[0m: \tdropout_prob: 0.2\n",
            "\u001b[34m\u001b[1mwandb\u001b[0m: \tepochs: 10\n",
            "\u001b[34m\u001b[1mwandb\u001b[0m: \tlr: 0.01\n",
            "\u001b[34m\u001b[1mwandb\u001b[0m: \tmodel: create_dropout_network_logistic\n",
            "\u001b[34m\u001b[1mwandb\u001b[0m: \tmomentum: 0.99\n",
            "\u001b[34m\u001b[1mwandb\u001b[0m: \toptimizer: sgd\n",
            "\u001b[34m\u001b[1mwandb\u001b[0m: \tweight_init: random\n"
          ]
        },
        {
          "output_type": "display_data",
          "data": {
            "text/plain": [
              "<IPython.core.display.HTML object>"
            ],
            "text/html": [
              "Tracking run with wandb version 0.19.6"
            ]
          },
          "metadata": {}
        },
        {
          "output_type": "display_data",
          "data": {
            "text/plain": [
              "<IPython.core.display.HTML object>"
            ],
            "text/html": [
              "Run data is saved locally in <code>/content/wandb/run-20250217_141858-lbtn3ebl</code>"
            ]
          },
          "metadata": {}
        },
        {
          "output_type": "display_data",
          "data": {
            "text/plain": [
              "<IPython.core.display.HTML object>"
            ],
            "text/html": [
              "Syncing run <strong><a href='https://wandb.ai/shahi77-national-institute-of-technology-hamirpur/Dropout04/runs/lbtn3ebl' target=\"_blank\">leafy-sweep-16</a></strong> to <a href='https://wandb.ai/shahi77-national-institute-of-technology-hamirpur/Dropout04' target=\"_blank\">Weights & Biases</a> (<a href='https://wandb.me/developer-guide' target=\"_blank\">docs</a>)<br>Sweep page: <a href='https://wandb.ai/shahi77-national-institute-of-technology-hamirpur/Dropout04/sweeps/qf1328ih' target=\"_blank\">https://wandb.ai/shahi77-national-institute-of-technology-hamirpur/Dropout04/sweeps/qf1328ih</a>"
            ]
          },
          "metadata": {}
        },
        {
          "output_type": "display_data",
          "data": {
            "text/plain": [
              "<IPython.core.display.HTML object>"
            ],
            "text/html": [
              " View project at <a href='https://wandb.ai/shahi77-national-institute-of-technology-hamirpur/Dropout04' target=\"_blank\">https://wandb.ai/shahi77-national-institute-of-technology-hamirpur/Dropout04</a>"
            ]
          },
          "metadata": {}
        },
        {
          "output_type": "display_data",
          "data": {
            "text/plain": [
              "<IPython.core.display.HTML object>"
            ],
            "text/html": [
              " View sweep at <a href='https://wandb.ai/shahi77-national-institute-of-technology-hamirpur/Dropout04/sweeps/qf1328ih' target=\"_blank\">https://wandb.ai/shahi77-national-institute-of-technology-hamirpur/Dropout04/sweeps/qf1328ih</a>"
            ]
          },
          "metadata": {}
        },
        {
          "output_type": "display_data",
          "data": {
            "text/plain": [
              "<IPython.core.display.HTML object>"
            ],
            "text/html": [
              " View run at <a href='https://wandb.ai/shahi77-national-institute-of-technology-hamirpur/Dropout04/runs/lbtn3ebl' target=\"_blank\">https://wandb.ai/shahi77-national-institute-of-technology-hamirpur/Dropout04/runs/lbtn3ebl</a>"
            ]
          },
          "metadata": {}
        },
        {
          "output_type": "stream",
          "name": "stdout",
          "text": [
            "Downloading https://www.cs.toronto.edu/~kriz/cifar-10-python.tar.gz to ./cifar-10-python.tar.gz\n"
          ]
        },
        {
          "output_type": "stream",
          "name": "stderr",
          "text": [
            "100%|██████████| 170M/170M [00:11<00:00, 14.6MB/s]\n"
          ]
        },
        {
          "output_type": "stream",
          "name": "stdout",
          "text": [
            "Extracting ./cifar-10-python.tar.gz to .\n"
          ]
        },
        {
          "output_type": "stream",
          "name": "stderr",
          "text": [
            "Traceback (most recent call last):\n",
            "  File \"<ipython-input-7-dd308e14cb39>\", line 319, in run_experiment\n",
            "    train(model, train_loader, optimizer, criterion, config.epochs)\n",
            "  File \"<ipython-input-7-dd308e14cb39>\", line 248, in train\n",
            "    outputs = model(inputs)\n",
            "              ^^^^^^^^^^^^^\n",
            "  File \"/usr/local/lib/python3.11/dist-packages/torch/nn/modules/module.py\", line 1736, in _wrapped_call_impl\n",
            "    return self._call_impl(*args, **kwargs)\n",
            "           ^^^^^^^^^^^^^^^^^^^^^^^^^^^^^^^^\n",
            "  File \"/usr/local/lib/python3.11/dist-packages/torch/nn/modules/module.py\", line 1747, in _call_impl\n",
            "    return forward_call(*args, **kwargs)\n",
            "           ^^^^^^^^^^^^^^^^^^^^^^^^^^^^^\n",
            "  File \"<ipython-input-7-dd308e14cb39>\", line 59, in forward\n",
            "    return self.network(x)\n",
            "           ^^^^^^^^^^^^^^^\n",
            "  File \"/usr/local/lib/python3.11/dist-packages/torch/nn/modules/module.py\", line 1736, in _wrapped_call_impl\n",
            "    return self._call_impl(*args, **kwargs)\n",
            "           ^^^^^^^^^^^^^^^^^^^^^^^^^^^^^^^^\n",
            "  File \"/usr/local/lib/python3.11/dist-packages/torch/nn/modules/module.py\", line 1747, in _call_impl\n",
            "    return forward_call(*args, **kwargs)\n",
            "           ^^^^^^^^^^^^^^^^^^^^^^^^^^^^^\n",
            "  File \"/usr/local/lib/python3.11/dist-packages/torch/nn/modules/container.py\", line 250, in forward\n",
            "    input = module(input)\n",
            "            ^^^^^^^^^^^^^\n",
            "  File \"/usr/local/lib/python3.11/dist-packages/torch/nn/modules/module.py\", line 1736, in _wrapped_call_impl\n",
            "    return self._call_impl(*args, **kwargs)\n",
            "           ^^^^^^^^^^^^^^^^^^^^^^^^^^^^^^^^\n",
            "  File \"/usr/local/lib/python3.11/dist-packages/torch/nn/modules/module.py\", line 1747, in _call_impl\n",
            "    return forward_call(*args, **kwargs)\n",
            "           ^^^^^^^^^^^^^^^^^^^^^^^^^^^^^\n",
            "  File \"/usr/local/lib/python3.11/dist-packages/torch/nn/modules/linear.py\", line 125, in forward\n",
            "    return F.linear(input, self.weight, self.bias)\n",
            "           ^^^^^^^^^^^^^^^^^^^^^^^^^^^^^^^^^^^^^^^\n",
            "RuntimeError: mat1 and mat2 shapes cannot be multiplied (64x3072 and 784x1024)\n"
          ]
        },
        {
          "output_type": "display_data",
          "data": {
            "text/plain": [
              "<IPython.core.display.HTML object>"
            ],
            "text/html": []
          },
          "metadata": {}
        },
        {
          "output_type": "display_data",
          "data": {
            "text/plain": [
              "<IPython.core.display.HTML object>"
            ],
            "text/html": [
              " View run <strong style=\"color:#cdcd00\">m_create_dropout_network_logistic_dr_random_p_0.2lr_0.01_m_0.99</strong> at: <a href='https://wandb.ai/shahi77-national-institute-of-technology-hamirpur/Dropout04/runs/lbtn3ebl' target=\"_blank\">https://wandb.ai/shahi77-national-institute-of-technology-hamirpur/Dropout04/runs/lbtn3ebl</a><br> View project at: <a href='https://wandb.ai/shahi77-national-institute-of-technology-hamirpur/Dropout04' target=\"_blank\">https://wandb.ai/shahi77-national-institute-of-technology-hamirpur/Dropout04</a><br>Synced 5 W&B file(s), 0 media file(s), 0 artifact file(s) and 0 other file(s)"
            ]
          },
          "metadata": {}
        },
        {
          "output_type": "display_data",
          "data": {
            "text/plain": [
              "<IPython.core.display.HTML object>"
            ],
            "text/html": [
              "Find logs at: <code>./wandb/run-20250217_141858-lbtn3ebl/logs</code>"
            ]
          },
          "metadata": {}
        },
        {
          "output_type": "stream",
          "name": "stderr",
          "text": [
            "Run lbtn3ebl errored:\n",
            "Traceback (most recent call last):\n",
            "  File \"/usr/local/lib/python3.11/dist-packages/wandb/agents/pyagent.py\", line 306, in _run_job\n",
            "    self._function()\n",
            "  File \"<ipython-input-7-dd308e14cb39>\", line 319, in run_experiment\n",
            "    train(model, train_loader, optimizer, criterion, config.epochs)\n",
            "  File \"<ipython-input-7-dd308e14cb39>\", line 248, in train\n",
            "    outputs = model(inputs)\n",
            "              ^^^^^^^^^^^^^\n",
            "  File \"/usr/local/lib/python3.11/dist-packages/torch/nn/modules/module.py\", line 1736, in _wrapped_call_impl\n",
            "    return self._call_impl(*args, **kwargs)\n",
            "           ^^^^^^^^^^^^^^^^^^^^^^^^^^^^^^^^\n",
            "  File \"/usr/local/lib/python3.11/dist-packages/torch/nn/modules/module.py\", line 1747, in _call_impl\n",
            "    return forward_call(*args, **kwargs)\n",
            "           ^^^^^^^^^^^^^^^^^^^^^^^^^^^^^\n",
            "  File \"<ipython-input-7-dd308e14cb39>\", line 59, in forward\n",
            "    return self.network(x)\n",
            "           ^^^^^^^^^^^^^^^\n",
            "  File \"/usr/local/lib/python3.11/dist-packages/torch/nn/modules/module.py\", line 1736, in _wrapped_call_impl\n",
            "    return self._call_impl(*args, **kwargs)\n",
            "           ^^^^^^^^^^^^^^^^^^^^^^^^^^^^^^^^\n",
            "  File \"/usr/local/lib/python3.11/dist-packages/torch/nn/modules/module.py\", line 1747, in _call_impl\n",
            "    return forward_call(*args, **kwargs)\n",
            "           ^^^^^^^^^^^^^^^^^^^^^^^^^^^^^\n",
            "  File \"/usr/local/lib/python3.11/dist-packages/torch/nn/modules/container.py\", line 250, in forward\n",
            "    input = module(input)\n",
            "            ^^^^^^^^^^^^^\n",
            "  File \"/usr/local/lib/python3.11/dist-packages/torch/nn/modules/module.py\", line 1736, in _wrapped_call_impl\n",
            "    return self._call_impl(*args, **kwargs)\n",
            "           ^^^^^^^^^^^^^^^^^^^^^^^^^^^^^^^^\n",
            "  File \"/usr/local/lib/python3.11/dist-packages/torch/nn/modules/module.py\", line 1747, in _call_impl\n",
            "    return forward_call(*args, **kwargs)\n",
            "           ^^^^^^^^^^^^^^^^^^^^^^^^^^^^^\n",
            "  File \"/usr/local/lib/python3.11/dist-packages/torch/nn/modules/linear.py\", line 125, in forward\n",
            "    return F.linear(input, self.weight, self.bias)\n",
            "           ^^^^^^^^^^^^^^^^^^^^^^^^^^^^^^^^^^^^^^^\n",
            "RuntimeError: mat1 and mat2 shapes cannot be multiplied (64x3072 and 784x1024)\n",
            "\n",
            "\u001b[34m\u001b[1mwandb\u001b[0m: \u001b[32m\u001b[41mERROR\u001b[0m Run lbtn3ebl errored:\n",
            "\u001b[34m\u001b[1mwandb\u001b[0m: \u001b[32m\u001b[41mERROR\u001b[0m Traceback (most recent call last):\n",
            "\u001b[34m\u001b[1mwandb\u001b[0m: \u001b[32m\u001b[41mERROR\u001b[0m   File \"/usr/local/lib/python3.11/dist-packages/wandb/agents/pyagent.py\", line 306, in _run_job\n",
            "\u001b[34m\u001b[1mwandb\u001b[0m: \u001b[32m\u001b[41mERROR\u001b[0m     self._function()\n",
            "\u001b[34m\u001b[1mwandb\u001b[0m: \u001b[32m\u001b[41mERROR\u001b[0m   File \"<ipython-input-7-dd308e14cb39>\", line 319, in run_experiment\n",
            "\u001b[34m\u001b[1mwandb\u001b[0m: \u001b[32m\u001b[41mERROR\u001b[0m     train(model, train_loader, optimizer, criterion, config.epochs)\n",
            "\u001b[34m\u001b[1mwandb\u001b[0m: \u001b[32m\u001b[41mERROR\u001b[0m   File \"<ipython-input-7-dd308e14cb39>\", line 248, in train\n",
            "\u001b[34m\u001b[1mwandb\u001b[0m: \u001b[32m\u001b[41mERROR\u001b[0m     outputs = model(inputs)\n",
            "\u001b[34m\u001b[1mwandb\u001b[0m: \u001b[32m\u001b[41mERROR\u001b[0m               ^^^^^^^^^^^^^\n",
            "\u001b[34m\u001b[1mwandb\u001b[0m: \u001b[32m\u001b[41mERROR\u001b[0m   File \"/usr/local/lib/python3.11/dist-packages/torch/nn/modules/module.py\", line 1736, in _wrapped_call_impl\n",
            "\u001b[34m\u001b[1mwandb\u001b[0m: \u001b[32m\u001b[41mERROR\u001b[0m     return self._call_impl(*args, **kwargs)\n",
            "\u001b[34m\u001b[1mwandb\u001b[0m: \u001b[32m\u001b[41mERROR\u001b[0m            ^^^^^^^^^^^^^^^^^^^^^^^^^^^^^^^^\n",
            "\u001b[34m\u001b[1mwandb\u001b[0m: \u001b[32m\u001b[41mERROR\u001b[0m   File \"/usr/local/lib/python3.11/dist-packages/torch/nn/modules/module.py\", line 1747, in _call_impl\n",
            "\u001b[34m\u001b[1mwandb\u001b[0m: \u001b[32m\u001b[41mERROR\u001b[0m     return forward_call(*args, **kwargs)\n",
            "\u001b[34m\u001b[1mwandb\u001b[0m: \u001b[32m\u001b[41mERROR\u001b[0m            ^^^^^^^^^^^^^^^^^^^^^^^^^^^^^\n",
            "\u001b[34m\u001b[1mwandb\u001b[0m: \u001b[32m\u001b[41mERROR\u001b[0m   File \"<ipython-input-7-dd308e14cb39>\", line 59, in forward\n",
            "\u001b[34m\u001b[1mwandb\u001b[0m: \u001b[32m\u001b[41mERROR\u001b[0m     return self.network(x)\n",
            "\u001b[34m\u001b[1mwandb\u001b[0m: \u001b[32m\u001b[41mERROR\u001b[0m            ^^^^^^^^^^^^^^^\n",
            "\u001b[34m\u001b[1mwandb\u001b[0m: \u001b[32m\u001b[41mERROR\u001b[0m   File \"/usr/local/lib/python3.11/dist-packages/torch/nn/modules/module.py\", line 1736, in _wrapped_call_impl\n",
            "\u001b[34m\u001b[1mwandb\u001b[0m: \u001b[32m\u001b[41mERROR\u001b[0m     return self._call_impl(*args, **kwargs)\n",
            "\u001b[34m\u001b[1mwandb\u001b[0m: \u001b[32m\u001b[41mERROR\u001b[0m            ^^^^^^^^^^^^^^^^^^^^^^^^^^^^^^^^\n",
            "\u001b[34m\u001b[1mwandb\u001b[0m: \u001b[32m\u001b[41mERROR\u001b[0m   File \"/usr/local/lib/python3.11/dist-packages/torch/nn/modules/module.py\", line 1747, in _call_impl\n",
            "\u001b[34m\u001b[1mwandb\u001b[0m: \u001b[32m\u001b[41mERROR\u001b[0m     return forward_call(*args, **kwargs)\n",
            "\u001b[34m\u001b[1mwandb\u001b[0m: \u001b[32m\u001b[41mERROR\u001b[0m            ^^^^^^^^^^^^^^^^^^^^^^^^^^^^^\n",
            "\u001b[34m\u001b[1mwandb\u001b[0m: \u001b[32m\u001b[41mERROR\u001b[0m   File \"/usr/local/lib/python3.11/dist-packages/torch/nn/modules/container.py\", line 250, in forward\n",
            "\u001b[34m\u001b[1mwandb\u001b[0m: \u001b[32m\u001b[41mERROR\u001b[0m     input = module(input)\n",
            "\u001b[34m\u001b[1mwandb\u001b[0m: \u001b[32m\u001b[41mERROR\u001b[0m             ^^^^^^^^^^^^^\n",
            "\u001b[34m\u001b[1mwandb\u001b[0m: \u001b[32m\u001b[41mERROR\u001b[0m   File \"/usr/local/lib/python3.11/dist-packages/torch/nn/modules/module.py\", line 1736, in _wrapped_call_impl\n",
            "\u001b[34m\u001b[1mwandb\u001b[0m: \u001b[32m\u001b[41mERROR\u001b[0m     return self._call_impl(*args, **kwargs)\n",
            "\u001b[34m\u001b[1mwandb\u001b[0m: \u001b[32m\u001b[41mERROR\u001b[0m            ^^^^^^^^^^^^^^^^^^^^^^^^^^^^^^^^\n",
            "\u001b[34m\u001b[1mwandb\u001b[0m: \u001b[32m\u001b[41mERROR\u001b[0m   File \"/usr/local/lib/python3.11/dist-packages/torch/nn/modules/module.py\", line 1747, in _call_impl\n",
            "\u001b[34m\u001b[1mwandb\u001b[0m: \u001b[32m\u001b[41mERROR\u001b[0m     return forward_call(*args, **kwargs)\n",
            "\u001b[34m\u001b[1mwandb\u001b[0m: \u001b[32m\u001b[41mERROR\u001b[0m            ^^^^^^^^^^^^^^^^^^^^^^^^^^^^^\n",
            "\u001b[34m\u001b[1mwandb\u001b[0m: \u001b[32m\u001b[41mERROR\u001b[0m   File \"/usr/local/lib/python3.11/dist-packages/torch/nn/modules/linear.py\", line 125, in forward\n",
            "\u001b[34m\u001b[1mwandb\u001b[0m: \u001b[32m\u001b[41mERROR\u001b[0m     return F.linear(input, self.weight, self.bias)\n",
            "\u001b[34m\u001b[1mwandb\u001b[0m: \u001b[32m\u001b[41mERROR\u001b[0m            ^^^^^^^^^^^^^^^^^^^^^^^^^^^^^^^^^^^^^^^\n",
            "\u001b[34m\u001b[1mwandb\u001b[0m: \u001b[32m\u001b[41mERROR\u001b[0m RuntimeError: mat1 and mat2 shapes cannot be multiplied (64x3072 and 784x1024)\n",
            "\u001b[34m\u001b[1mwandb\u001b[0m: \u001b[32m\u001b[41mERROR\u001b[0m \n",
            "\u001b[34m\u001b[1mwandb\u001b[0m: Sweep Agent: Waiting for job.\n",
            "\u001b[34m\u001b[1mwandb\u001b[0m: Job received.\n",
            "\u001b[34m\u001b[1mwandb\u001b[0m: Agent Starting Run: 1hwdknr5 with config:\n",
            "\u001b[34m\u001b[1mwandb\u001b[0m: \tbatch_size: 64\n",
            "\u001b[34m\u001b[1mwandb\u001b[0m: \tdropout_method: dropconnect\n",
            "\u001b[34m\u001b[1mwandb\u001b[0m: \tdropout_prob: 0.3\n",
            "\u001b[34m\u001b[1mwandb\u001b[0m: \tepochs: 10\n",
            "\u001b[34m\u001b[1mwandb\u001b[0m: \tlr: 0.001\n",
            "\u001b[34m\u001b[1mwandb\u001b[0m: \tmodel: create_standard_network_2\n",
            "\u001b[34m\u001b[1mwandb\u001b[0m: \tmomentum: 0.99\n",
            "\u001b[34m\u001b[1mwandb\u001b[0m: \toptimizer: sgd\n",
            "\u001b[34m\u001b[1mwandb\u001b[0m: \tweight_init: random\n"
          ]
        },
        {
          "output_type": "display_data",
          "data": {
            "text/plain": [
              "<IPython.core.display.HTML object>"
            ],
            "text/html": [
              "Tracking run with wandb version 0.19.6"
            ]
          },
          "metadata": {}
        },
        {
          "output_type": "display_data",
          "data": {
            "text/plain": [
              "<IPython.core.display.HTML object>"
            ],
            "text/html": [
              "Run data is saved locally in <code>/content/wandb/run-20250217_141935-1hwdknr5</code>"
            ]
          },
          "metadata": {}
        },
        {
          "output_type": "display_data",
          "data": {
            "text/plain": [
              "<IPython.core.display.HTML object>"
            ],
            "text/html": [
              "Syncing run <strong><a href='https://wandb.ai/shahi77-national-institute-of-technology-hamirpur/Dropout04/runs/1hwdknr5' target=\"_blank\">likely-sweep-17</a></strong> to <a href='https://wandb.ai/shahi77-national-institute-of-technology-hamirpur/Dropout04' target=\"_blank\">Weights & Biases</a> (<a href='https://wandb.me/developer-guide' target=\"_blank\">docs</a>)<br>Sweep page: <a href='https://wandb.ai/shahi77-national-institute-of-technology-hamirpur/Dropout04/sweeps/qf1328ih' target=\"_blank\">https://wandb.ai/shahi77-national-institute-of-technology-hamirpur/Dropout04/sweeps/qf1328ih</a>"
            ]
          },
          "metadata": {}
        },
        {
          "output_type": "display_data",
          "data": {
            "text/plain": [
              "<IPython.core.display.HTML object>"
            ],
            "text/html": [
              " View project at <a href='https://wandb.ai/shahi77-national-institute-of-technology-hamirpur/Dropout04' target=\"_blank\">https://wandb.ai/shahi77-national-institute-of-technology-hamirpur/Dropout04</a>"
            ]
          },
          "metadata": {}
        },
        {
          "output_type": "display_data",
          "data": {
            "text/plain": [
              "<IPython.core.display.HTML object>"
            ],
            "text/html": [
              " View sweep at <a href='https://wandb.ai/shahi77-national-institute-of-technology-hamirpur/Dropout04/sweeps/qf1328ih' target=\"_blank\">https://wandb.ai/shahi77-national-institute-of-technology-hamirpur/Dropout04/sweeps/qf1328ih</a>"
            ]
          },
          "metadata": {}
        },
        {
          "output_type": "display_data",
          "data": {
            "text/plain": [
              "<IPython.core.display.HTML object>"
            ],
            "text/html": [
              " View run at <a href='https://wandb.ai/shahi77-national-institute-of-technology-hamirpur/Dropout04/runs/1hwdknr5' target=\"_blank\">https://wandb.ai/shahi77-national-institute-of-technology-hamirpur/Dropout04/runs/1hwdknr5</a>"
            ]
          },
          "metadata": {}
        },
        {
          "output_type": "stream",
          "name": "stdout",
          "text": [
            "Files already downloaded and verified\n"
          ]
        },
        {
          "output_type": "stream",
          "name": "stderr",
          "text": [
            "Traceback (most recent call last):\n",
            "  File \"<ipython-input-7-dd308e14cb39>\", line 319, in run_experiment\n",
            "    train(model, train_loader, optimizer, criterion, config.epochs)\n",
            "  File \"<ipython-input-7-dd308e14cb39>\", line 248, in train\n",
            "    outputs = model(inputs)\n",
            "              ^^^^^^^^^^^^^\n",
            "  File \"/usr/local/lib/python3.11/dist-packages/torch/nn/modules/module.py\", line 1736, in _wrapped_call_impl\n",
            "    return self._call_impl(*args, **kwargs)\n",
            "           ^^^^^^^^^^^^^^^^^^^^^^^^^^^^^^^^\n",
            "  File \"/usr/local/lib/python3.11/dist-packages/torch/nn/modules/module.py\", line 1747, in _call_impl\n",
            "    return forward_call(*args, **kwargs)\n",
            "           ^^^^^^^^^^^^^^^^^^^^^^^^^^^^^\n",
            "  File \"<ipython-input-7-dd308e14cb39>\", line 59, in forward\n",
            "    return self.network(x)\n",
            "           ^^^^^^^^^^^^^^^\n",
            "  File \"/usr/local/lib/python3.11/dist-packages/torch/nn/modules/module.py\", line 1736, in _wrapped_call_impl\n",
            "    return self._call_impl(*args, **kwargs)\n",
            "           ^^^^^^^^^^^^^^^^^^^^^^^^^^^^^^^^\n",
            "  File \"/usr/local/lib/python3.11/dist-packages/torch/nn/modules/module.py\", line 1747, in _call_impl\n",
            "    return forward_call(*args, **kwargs)\n",
            "           ^^^^^^^^^^^^^^^^^^^^^^^^^^^^^\n",
            "  File \"/usr/local/lib/python3.11/dist-packages/torch/nn/modules/container.py\", line 250, in forward\n",
            "    input = module(input)\n",
            "            ^^^^^^^^^^^^^\n",
            "  File \"/usr/local/lib/python3.11/dist-packages/torch/nn/modules/module.py\", line 1736, in _wrapped_call_impl\n",
            "    return self._call_impl(*args, **kwargs)\n",
            "           ^^^^^^^^^^^^^^^^^^^^^^^^^^^^^^^^\n",
            "  File \"/usr/local/lib/python3.11/dist-packages/torch/nn/modules/module.py\", line 1747, in _call_impl\n",
            "    return forward_call(*args, **kwargs)\n",
            "           ^^^^^^^^^^^^^^^^^^^^^^^^^^^^^\n",
            "  File \"/usr/local/lib/python3.11/dist-packages/torch/nn/modules/linear.py\", line 125, in forward\n",
            "    return F.linear(input, self.weight, self.bias)\n",
            "           ^^^^^^^^^^^^^^^^^^^^^^^^^^^^^^^^^^^^^^^\n",
            "RuntimeError: mat1 and mat2 shapes cannot be multiplied (64x3072 and 784x800)\n"
          ]
        },
        {
          "output_type": "display_data",
          "data": {
            "text/plain": [
              "<IPython.core.display.HTML object>"
            ],
            "text/html": []
          },
          "metadata": {}
        },
        {
          "output_type": "display_data",
          "data": {
            "text/plain": [
              "<IPython.core.display.HTML object>"
            ],
            "text/html": [
              " View run <strong style=\"color:#cdcd00\">m_create_standard_network_2_dr_dropconnect_p_0.3lr_0.001_m_0.99</strong> at: <a href='https://wandb.ai/shahi77-national-institute-of-technology-hamirpur/Dropout04/runs/1hwdknr5' target=\"_blank\">https://wandb.ai/shahi77-national-institute-of-technology-hamirpur/Dropout04/runs/1hwdknr5</a><br> View project at: <a href='https://wandb.ai/shahi77-national-institute-of-technology-hamirpur/Dropout04' target=\"_blank\">https://wandb.ai/shahi77-national-institute-of-technology-hamirpur/Dropout04</a><br>Synced 5 W&B file(s), 0 media file(s), 0 artifact file(s) and 0 other file(s)"
            ]
          },
          "metadata": {}
        },
        {
          "output_type": "display_data",
          "data": {
            "text/plain": [
              "<IPython.core.display.HTML object>"
            ],
            "text/html": [
              "Find logs at: <code>./wandb/run-20250217_141935-1hwdknr5/logs</code>"
            ]
          },
          "metadata": {}
        },
        {
          "output_type": "stream",
          "name": "stderr",
          "text": [
            "Run 1hwdknr5 errored:\n",
            "Traceback (most recent call last):\n",
            "  File \"/usr/local/lib/python3.11/dist-packages/wandb/agents/pyagent.py\", line 306, in _run_job\n",
            "    self._function()\n",
            "  File \"<ipython-input-7-dd308e14cb39>\", line 319, in run_experiment\n",
            "    train(model, train_loader, optimizer, criterion, config.epochs)\n",
            "  File \"<ipython-input-7-dd308e14cb39>\", line 248, in train\n",
            "    outputs = model(inputs)\n",
            "              ^^^^^^^^^^^^^\n",
            "  File \"/usr/local/lib/python3.11/dist-packages/torch/nn/modules/module.py\", line 1736, in _wrapped_call_impl\n",
            "    return self._call_impl(*args, **kwargs)\n",
            "           ^^^^^^^^^^^^^^^^^^^^^^^^^^^^^^^^\n",
            "  File \"/usr/local/lib/python3.11/dist-packages/torch/nn/modules/module.py\", line 1747, in _call_impl\n",
            "    return forward_call(*args, **kwargs)\n",
            "           ^^^^^^^^^^^^^^^^^^^^^^^^^^^^^\n",
            "  File \"<ipython-input-7-dd308e14cb39>\", line 59, in forward\n",
            "    return self.network(x)\n",
            "           ^^^^^^^^^^^^^^^\n",
            "  File \"/usr/local/lib/python3.11/dist-packages/torch/nn/modules/module.py\", line 1736, in _wrapped_call_impl\n",
            "    return self._call_impl(*args, **kwargs)\n",
            "           ^^^^^^^^^^^^^^^^^^^^^^^^^^^^^^^^\n",
            "  File \"/usr/local/lib/python3.11/dist-packages/torch/nn/modules/module.py\", line 1747, in _call_impl\n",
            "    return forward_call(*args, **kwargs)\n",
            "           ^^^^^^^^^^^^^^^^^^^^^^^^^^^^^\n",
            "  File \"/usr/local/lib/python3.11/dist-packages/torch/nn/modules/container.py\", line 250, in forward\n",
            "    input = module(input)\n",
            "            ^^^^^^^^^^^^^\n",
            "  File \"/usr/local/lib/python3.11/dist-packages/torch/nn/modules/module.py\", line 1736, in _wrapped_call_impl\n",
            "    return self._call_impl(*args, **kwargs)\n",
            "           ^^^^^^^^^^^^^^^^^^^^^^^^^^^^^^^^\n",
            "  File \"/usr/local/lib/python3.11/dist-packages/torch/nn/modules/module.py\", line 1747, in _call_impl\n",
            "    return forward_call(*args, **kwargs)\n",
            "           ^^^^^^^^^^^^^^^^^^^^^^^^^^^^^\n",
            "  File \"/usr/local/lib/python3.11/dist-packages/torch/nn/modules/linear.py\", line 125, in forward\n",
            "    return F.linear(input, self.weight, self.bias)\n",
            "           ^^^^^^^^^^^^^^^^^^^^^^^^^^^^^^^^^^^^^^^\n",
            "RuntimeError: mat1 and mat2 shapes cannot be multiplied (64x3072 and 784x800)\n",
            "\n",
            "\u001b[34m\u001b[1mwandb\u001b[0m: \u001b[32m\u001b[41mERROR\u001b[0m Run 1hwdknr5 errored:\n",
            "\u001b[34m\u001b[1mwandb\u001b[0m: \u001b[32m\u001b[41mERROR\u001b[0m Traceback (most recent call last):\n",
            "\u001b[34m\u001b[1mwandb\u001b[0m: \u001b[32m\u001b[41mERROR\u001b[0m   File \"/usr/local/lib/python3.11/dist-packages/wandb/agents/pyagent.py\", line 306, in _run_job\n",
            "\u001b[34m\u001b[1mwandb\u001b[0m: \u001b[32m\u001b[41mERROR\u001b[0m     self._function()\n",
            "\u001b[34m\u001b[1mwandb\u001b[0m: \u001b[32m\u001b[41mERROR\u001b[0m   File \"<ipython-input-7-dd308e14cb39>\", line 319, in run_experiment\n",
            "\u001b[34m\u001b[1mwandb\u001b[0m: \u001b[32m\u001b[41mERROR\u001b[0m     train(model, train_loader, optimizer, criterion, config.epochs)\n",
            "\u001b[34m\u001b[1mwandb\u001b[0m: \u001b[32m\u001b[41mERROR\u001b[0m   File \"<ipython-input-7-dd308e14cb39>\", line 248, in train\n",
            "\u001b[34m\u001b[1mwandb\u001b[0m: \u001b[32m\u001b[41mERROR\u001b[0m     outputs = model(inputs)\n",
            "\u001b[34m\u001b[1mwandb\u001b[0m: \u001b[32m\u001b[41mERROR\u001b[0m               ^^^^^^^^^^^^^\n",
            "\u001b[34m\u001b[1mwandb\u001b[0m: \u001b[32m\u001b[41mERROR\u001b[0m   File \"/usr/local/lib/python3.11/dist-packages/torch/nn/modules/module.py\", line 1736, in _wrapped_call_impl\n",
            "\u001b[34m\u001b[1mwandb\u001b[0m: \u001b[32m\u001b[41mERROR\u001b[0m     return self._call_impl(*args, **kwargs)\n",
            "\u001b[34m\u001b[1mwandb\u001b[0m: \u001b[32m\u001b[41mERROR\u001b[0m            ^^^^^^^^^^^^^^^^^^^^^^^^^^^^^^^^\n",
            "\u001b[34m\u001b[1mwandb\u001b[0m: \u001b[32m\u001b[41mERROR\u001b[0m   File \"/usr/local/lib/python3.11/dist-packages/torch/nn/modules/module.py\", line 1747, in _call_impl\n",
            "\u001b[34m\u001b[1mwandb\u001b[0m: \u001b[32m\u001b[41mERROR\u001b[0m     return forward_call(*args, **kwargs)\n",
            "\u001b[34m\u001b[1mwandb\u001b[0m: \u001b[32m\u001b[41mERROR\u001b[0m            ^^^^^^^^^^^^^^^^^^^^^^^^^^^^^\n",
            "\u001b[34m\u001b[1mwandb\u001b[0m: \u001b[32m\u001b[41mERROR\u001b[0m   File \"<ipython-input-7-dd308e14cb39>\", line 59, in forward\n",
            "\u001b[34m\u001b[1mwandb\u001b[0m: \u001b[32m\u001b[41mERROR\u001b[0m     return self.network(x)\n",
            "\u001b[34m\u001b[1mwandb\u001b[0m: \u001b[32m\u001b[41mERROR\u001b[0m            ^^^^^^^^^^^^^^^\n",
            "\u001b[34m\u001b[1mwandb\u001b[0m: \u001b[32m\u001b[41mERROR\u001b[0m   File \"/usr/local/lib/python3.11/dist-packages/torch/nn/modules/module.py\", line 1736, in _wrapped_call_impl\n",
            "\u001b[34m\u001b[1mwandb\u001b[0m: \u001b[32m\u001b[41mERROR\u001b[0m     return self._call_impl(*args, **kwargs)\n",
            "\u001b[34m\u001b[1mwandb\u001b[0m: \u001b[32m\u001b[41mERROR\u001b[0m            ^^^^^^^^^^^^^^^^^^^^^^^^^^^^^^^^\n",
            "\u001b[34m\u001b[1mwandb\u001b[0m: \u001b[32m\u001b[41mERROR\u001b[0m   File \"/usr/local/lib/python3.11/dist-packages/torch/nn/modules/module.py\", line 1747, in _call_impl\n",
            "\u001b[34m\u001b[1mwandb\u001b[0m: \u001b[32m\u001b[41mERROR\u001b[0m     return forward_call(*args, **kwargs)\n",
            "\u001b[34m\u001b[1mwandb\u001b[0m: \u001b[32m\u001b[41mERROR\u001b[0m            ^^^^^^^^^^^^^^^^^^^^^^^^^^^^^\n",
            "\u001b[34m\u001b[1mwandb\u001b[0m: \u001b[32m\u001b[41mERROR\u001b[0m   File \"/usr/local/lib/python3.11/dist-packages/torch/nn/modules/container.py\", line 250, in forward\n",
            "\u001b[34m\u001b[1mwandb\u001b[0m: \u001b[32m\u001b[41mERROR\u001b[0m     input = module(input)\n",
            "\u001b[34m\u001b[1mwandb\u001b[0m: \u001b[32m\u001b[41mERROR\u001b[0m             ^^^^^^^^^^^^^\n",
            "\u001b[34m\u001b[1mwandb\u001b[0m: \u001b[32m\u001b[41mERROR\u001b[0m   File \"/usr/local/lib/python3.11/dist-packages/torch/nn/modules/module.py\", line 1736, in _wrapped_call_impl\n",
            "\u001b[34m\u001b[1mwandb\u001b[0m: \u001b[32m\u001b[41mERROR\u001b[0m     return self._call_impl(*args, **kwargs)\n",
            "\u001b[34m\u001b[1mwandb\u001b[0m: \u001b[32m\u001b[41mERROR\u001b[0m            ^^^^^^^^^^^^^^^^^^^^^^^^^^^^^^^^\n",
            "\u001b[34m\u001b[1mwandb\u001b[0m: \u001b[32m\u001b[41mERROR\u001b[0m   File \"/usr/local/lib/python3.11/dist-packages/torch/nn/modules/module.py\", line 1747, in _call_impl\n",
            "\u001b[34m\u001b[1mwandb\u001b[0m: \u001b[32m\u001b[41mERROR\u001b[0m     return forward_call(*args, **kwargs)\n",
            "\u001b[34m\u001b[1mwandb\u001b[0m: \u001b[32m\u001b[41mERROR\u001b[0m            ^^^^^^^^^^^^^^^^^^^^^^^^^^^^^\n",
            "\u001b[34m\u001b[1mwandb\u001b[0m: \u001b[32m\u001b[41mERROR\u001b[0m   File \"/usr/local/lib/python3.11/dist-packages/torch/nn/modules/linear.py\", line 125, in forward\n",
            "\u001b[34m\u001b[1mwandb\u001b[0m: \u001b[32m\u001b[41mERROR\u001b[0m     return F.linear(input, self.weight, self.bias)\n",
            "\u001b[34m\u001b[1mwandb\u001b[0m: \u001b[32m\u001b[41mERROR\u001b[0m            ^^^^^^^^^^^^^^^^^^^^^^^^^^^^^^^^^^^^^^^\n",
            "\u001b[34m\u001b[1mwandb\u001b[0m: \u001b[32m\u001b[41mERROR\u001b[0m RuntimeError: mat1 and mat2 shapes cannot be multiplied (64x3072 and 784x800)\n",
            "\u001b[34m\u001b[1mwandb\u001b[0m: \u001b[32m\u001b[41mERROR\u001b[0m \n",
            "\u001b[34m\u001b[1mwandb\u001b[0m: Agent Starting Run: yijngqcr with config:\n",
            "\u001b[34m\u001b[1mwandb\u001b[0m: \tbatch_size: 64\n",
            "\u001b[34m\u001b[1mwandb\u001b[0m: \tdropout_method: dropconnect\n",
            "\u001b[34m\u001b[1mwandb\u001b[0m: \tdropout_prob: 0.5\n",
            "\u001b[34m\u001b[1mwandb\u001b[0m: \tepochs: 10\n",
            "\u001b[34m\u001b[1mwandb\u001b[0m: \tlr: 0.001\n",
            "\u001b[34m\u001b[1mwandb\u001b[0m: \tmodel: create_standard_network_1\n",
            "\u001b[34m\u001b[1mwandb\u001b[0m: \tmomentum: 0.9\n",
            "\u001b[34m\u001b[1mwandb\u001b[0m: \toptimizer: sgd\n",
            "\u001b[34m\u001b[1mwandb\u001b[0m: \tweight_init: random\n"
          ]
        },
        {
          "output_type": "display_data",
          "data": {
            "text/plain": [
              "<IPython.core.display.HTML object>"
            ],
            "text/html": [
              "Tracking run with wandb version 0.19.6"
            ]
          },
          "metadata": {}
        },
        {
          "output_type": "display_data",
          "data": {
            "text/plain": [
              "<IPython.core.display.HTML object>"
            ],
            "text/html": [
              "Run data is saved locally in <code>/content/wandb/run-20250217_141951-yijngqcr</code>"
            ]
          },
          "metadata": {}
        },
        {
          "output_type": "display_data",
          "data": {
            "text/plain": [
              "<IPython.core.display.HTML object>"
            ],
            "text/html": [
              "Syncing run <strong><a href='https://wandb.ai/shahi77-national-institute-of-technology-hamirpur/Dropout04/runs/yijngqcr' target=\"_blank\">robust-sweep-18</a></strong> to <a href='https://wandb.ai/shahi77-national-institute-of-technology-hamirpur/Dropout04' target=\"_blank\">Weights & Biases</a> (<a href='https://wandb.me/developer-guide' target=\"_blank\">docs</a>)<br>Sweep page: <a href='https://wandb.ai/shahi77-national-institute-of-technology-hamirpur/Dropout04/sweeps/qf1328ih' target=\"_blank\">https://wandb.ai/shahi77-national-institute-of-technology-hamirpur/Dropout04/sweeps/qf1328ih</a>"
            ]
          },
          "metadata": {}
        },
        {
          "output_type": "display_data",
          "data": {
            "text/plain": [
              "<IPython.core.display.HTML object>"
            ],
            "text/html": [
              " View project at <a href='https://wandb.ai/shahi77-national-institute-of-technology-hamirpur/Dropout04' target=\"_blank\">https://wandb.ai/shahi77-national-institute-of-technology-hamirpur/Dropout04</a>"
            ]
          },
          "metadata": {}
        },
        {
          "output_type": "display_data",
          "data": {
            "text/plain": [
              "<IPython.core.display.HTML object>"
            ],
            "text/html": [
              " View sweep at <a href='https://wandb.ai/shahi77-national-institute-of-technology-hamirpur/Dropout04/sweeps/qf1328ih' target=\"_blank\">https://wandb.ai/shahi77-national-institute-of-technology-hamirpur/Dropout04/sweeps/qf1328ih</a>"
            ]
          },
          "metadata": {}
        },
        {
          "output_type": "display_data",
          "data": {
            "text/plain": [
              "<IPython.core.display.HTML object>"
            ],
            "text/html": [
              " View run at <a href='https://wandb.ai/shahi77-national-institute-of-technology-hamirpur/Dropout04/runs/yijngqcr' target=\"_blank\">https://wandb.ai/shahi77-national-institute-of-technology-hamirpur/Dropout04/runs/yijngqcr</a>"
            ]
          },
          "metadata": {}
        },
        {
          "output_type": "stream",
          "name": "stdout",
          "text": [
            "Files already downloaded and verified\n"
          ]
        },
        {
          "output_type": "stream",
          "name": "stderr",
          "text": [
            "Traceback (most recent call last):\n",
            "  File \"<ipython-input-7-dd308e14cb39>\", line 319, in run_experiment\n",
            "    train(model, train_loader, optimizer, criterion, config.epochs)\n",
            "  File \"<ipython-input-7-dd308e14cb39>\", line 248, in train\n",
            "    outputs = model(inputs)\n",
            "              ^^^^^^^^^^^^^\n",
            "  File \"/usr/local/lib/python3.11/dist-packages/torch/nn/modules/module.py\", line 1736, in _wrapped_call_impl\n",
            "    return self._call_impl(*args, **kwargs)\n",
            "           ^^^^^^^^^^^^^^^^^^^^^^^^^^^^^^^^\n",
            "  File \"/usr/local/lib/python3.11/dist-packages/torch/nn/modules/module.py\", line 1747, in _call_impl\n",
            "    return forward_call(*args, **kwargs)\n",
            "           ^^^^^^^^^^^^^^^^^^^^^^^^^^^^^\n",
            "  File \"<ipython-input-7-dd308e14cb39>\", line 59, in forward\n",
            "    return self.network(x)\n",
            "           ^^^^^^^^^^^^^^^\n",
            "  File \"/usr/local/lib/python3.11/dist-packages/torch/nn/modules/module.py\", line 1736, in _wrapped_call_impl\n",
            "    return self._call_impl(*args, **kwargs)\n",
            "           ^^^^^^^^^^^^^^^^^^^^^^^^^^^^^^^^\n",
            "  File \"/usr/local/lib/python3.11/dist-packages/torch/nn/modules/module.py\", line 1747, in _call_impl\n",
            "    return forward_call(*args, **kwargs)\n",
            "           ^^^^^^^^^^^^^^^^^^^^^^^^^^^^^\n",
            "  File \"/usr/local/lib/python3.11/dist-packages/torch/nn/modules/container.py\", line 250, in forward\n",
            "    input = module(input)\n",
            "            ^^^^^^^^^^^^^\n",
            "  File \"/usr/local/lib/python3.11/dist-packages/torch/nn/modules/module.py\", line 1736, in _wrapped_call_impl\n",
            "    return self._call_impl(*args, **kwargs)\n",
            "           ^^^^^^^^^^^^^^^^^^^^^^^^^^^^^^^^\n",
            "  File \"/usr/local/lib/python3.11/dist-packages/torch/nn/modules/module.py\", line 1747, in _call_impl\n",
            "    return forward_call(*args, **kwargs)\n",
            "           ^^^^^^^^^^^^^^^^^^^^^^^^^^^^^\n",
            "  File \"/usr/local/lib/python3.11/dist-packages/torch/nn/modules/linear.py\", line 125, in forward\n",
            "    return F.linear(input, self.weight, self.bias)\n",
            "           ^^^^^^^^^^^^^^^^^^^^^^^^^^^^^^^^^^^^^^^\n",
            "RuntimeError: mat1 and mat2 shapes cannot be multiplied (64x3072 and 784x100)\n"
          ]
        },
        {
          "output_type": "display_data",
          "data": {
            "text/plain": [
              "<IPython.core.display.HTML object>"
            ],
            "text/html": []
          },
          "metadata": {}
        },
        {
          "output_type": "display_data",
          "data": {
            "text/plain": [
              "<IPython.core.display.HTML object>"
            ],
            "text/html": [
              " View run <strong style=\"color:#cdcd00\">m_create_standard_network_1_dr_dropconnect_p_0.5lr_0.001_m_0.9</strong> at: <a href='https://wandb.ai/shahi77-national-institute-of-technology-hamirpur/Dropout04/runs/yijngqcr' target=\"_blank\">https://wandb.ai/shahi77-national-institute-of-technology-hamirpur/Dropout04/runs/yijngqcr</a><br> View project at: <a href='https://wandb.ai/shahi77-national-institute-of-technology-hamirpur/Dropout04' target=\"_blank\">https://wandb.ai/shahi77-national-institute-of-technology-hamirpur/Dropout04</a><br>Synced 5 W&B file(s), 0 media file(s), 0 artifact file(s) and 0 other file(s)"
            ]
          },
          "metadata": {}
        },
        {
          "output_type": "display_data",
          "data": {
            "text/plain": [
              "<IPython.core.display.HTML object>"
            ],
            "text/html": [
              "Find logs at: <code>./wandb/run-20250217_141951-yijngqcr/logs</code>"
            ]
          },
          "metadata": {}
        },
        {
          "output_type": "stream",
          "name": "stderr",
          "text": [
            "Run yijngqcr errored:\n",
            "Traceback (most recent call last):\n",
            "  File \"/usr/local/lib/python3.11/dist-packages/wandb/agents/pyagent.py\", line 306, in _run_job\n",
            "    self._function()\n",
            "  File \"<ipython-input-7-dd308e14cb39>\", line 319, in run_experiment\n",
            "    train(model, train_loader, optimizer, criterion, config.epochs)\n",
            "  File \"<ipython-input-7-dd308e14cb39>\", line 248, in train\n",
            "    outputs = model(inputs)\n",
            "              ^^^^^^^^^^^^^\n",
            "  File \"/usr/local/lib/python3.11/dist-packages/torch/nn/modules/module.py\", line 1736, in _wrapped_call_impl\n",
            "    return self._call_impl(*args, **kwargs)\n",
            "           ^^^^^^^^^^^^^^^^^^^^^^^^^^^^^^^^\n",
            "  File \"/usr/local/lib/python3.11/dist-packages/torch/nn/modules/module.py\", line 1747, in _call_impl\n",
            "    return forward_call(*args, **kwargs)\n",
            "           ^^^^^^^^^^^^^^^^^^^^^^^^^^^^^\n",
            "  File \"<ipython-input-7-dd308e14cb39>\", line 59, in forward\n",
            "    return self.network(x)\n",
            "           ^^^^^^^^^^^^^^^\n",
            "  File \"/usr/local/lib/python3.11/dist-packages/torch/nn/modules/module.py\", line 1736, in _wrapped_call_impl\n",
            "    return self._call_impl(*args, **kwargs)\n",
            "           ^^^^^^^^^^^^^^^^^^^^^^^^^^^^^^^^\n",
            "  File \"/usr/local/lib/python3.11/dist-packages/torch/nn/modules/module.py\", line 1747, in _call_impl\n",
            "    return forward_call(*args, **kwargs)\n",
            "           ^^^^^^^^^^^^^^^^^^^^^^^^^^^^^\n",
            "  File \"/usr/local/lib/python3.11/dist-packages/torch/nn/modules/container.py\", line 250, in forward\n",
            "    input = module(input)\n",
            "            ^^^^^^^^^^^^^\n",
            "  File \"/usr/local/lib/python3.11/dist-packages/torch/nn/modules/module.py\", line 1736, in _wrapped_call_impl\n",
            "    return self._call_impl(*args, **kwargs)\n",
            "           ^^^^^^^^^^^^^^^^^^^^^^^^^^^^^^^^\n",
            "  File \"/usr/local/lib/python3.11/dist-packages/torch/nn/modules/module.py\", line 1747, in _call_impl\n",
            "    return forward_call(*args, **kwargs)\n",
            "           ^^^^^^^^^^^^^^^^^^^^^^^^^^^^^\n",
            "  File \"/usr/local/lib/python3.11/dist-packages/torch/nn/modules/linear.py\", line 125, in forward\n",
            "    return F.linear(input, self.weight, self.bias)\n",
            "           ^^^^^^^^^^^^^^^^^^^^^^^^^^^^^^^^^^^^^^^\n",
            "RuntimeError: mat1 and mat2 shapes cannot be multiplied (64x3072 and 784x100)\n",
            "\n",
            "\u001b[34m\u001b[1mwandb\u001b[0m: \u001b[32m\u001b[41mERROR\u001b[0m Run yijngqcr errored:\n",
            "\u001b[34m\u001b[1mwandb\u001b[0m: \u001b[32m\u001b[41mERROR\u001b[0m Traceback (most recent call last):\n",
            "\u001b[34m\u001b[1mwandb\u001b[0m: \u001b[32m\u001b[41mERROR\u001b[0m   File \"/usr/local/lib/python3.11/dist-packages/wandb/agents/pyagent.py\", line 306, in _run_job\n",
            "\u001b[34m\u001b[1mwandb\u001b[0m: \u001b[32m\u001b[41mERROR\u001b[0m     self._function()\n",
            "\u001b[34m\u001b[1mwandb\u001b[0m: \u001b[32m\u001b[41mERROR\u001b[0m   File \"<ipython-input-7-dd308e14cb39>\", line 319, in run_experiment\n",
            "\u001b[34m\u001b[1mwandb\u001b[0m: \u001b[32m\u001b[41mERROR\u001b[0m     train(model, train_loader, optimizer, criterion, config.epochs)\n",
            "\u001b[34m\u001b[1mwandb\u001b[0m: \u001b[32m\u001b[41mERROR\u001b[0m   File \"<ipython-input-7-dd308e14cb39>\", line 248, in train\n",
            "\u001b[34m\u001b[1mwandb\u001b[0m: \u001b[32m\u001b[41mERROR\u001b[0m     outputs = model(inputs)\n",
            "\u001b[34m\u001b[1mwandb\u001b[0m: \u001b[32m\u001b[41mERROR\u001b[0m               ^^^^^^^^^^^^^\n",
            "\u001b[34m\u001b[1mwandb\u001b[0m: \u001b[32m\u001b[41mERROR\u001b[0m   File \"/usr/local/lib/python3.11/dist-packages/torch/nn/modules/module.py\", line 1736, in _wrapped_call_impl\n",
            "\u001b[34m\u001b[1mwandb\u001b[0m: \u001b[32m\u001b[41mERROR\u001b[0m     return self._call_impl(*args, **kwargs)\n",
            "\u001b[34m\u001b[1mwandb\u001b[0m: \u001b[32m\u001b[41mERROR\u001b[0m            ^^^^^^^^^^^^^^^^^^^^^^^^^^^^^^^^\n",
            "\u001b[34m\u001b[1mwandb\u001b[0m: \u001b[32m\u001b[41mERROR\u001b[0m   File \"/usr/local/lib/python3.11/dist-packages/torch/nn/modules/module.py\", line 1747, in _call_impl\n",
            "\u001b[34m\u001b[1mwandb\u001b[0m: \u001b[32m\u001b[41mERROR\u001b[0m     return forward_call(*args, **kwargs)\n",
            "\u001b[34m\u001b[1mwandb\u001b[0m: \u001b[32m\u001b[41mERROR\u001b[0m            ^^^^^^^^^^^^^^^^^^^^^^^^^^^^^\n",
            "\u001b[34m\u001b[1mwandb\u001b[0m: \u001b[32m\u001b[41mERROR\u001b[0m   File \"<ipython-input-7-dd308e14cb39>\", line 59, in forward\n",
            "\u001b[34m\u001b[1mwandb\u001b[0m: \u001b[32m\u001b[41mERROR\u001b[0m     return self.network(x)\n",
            "\u001b[34m\u001b[1mwandb\u001b[0m: \u001b[32m\u001b[41mERROR\u001b[0m            ^^^^^^^^^^^^^^^\n",
            "\u001b[34m\u001b[1mwandb\u001b[0m: \u001b[32m\u001b[41mERROR\u001b[0m   File \"/usr/local/lib/python3.11/dist-packages/torch/nn/modules/module.py\", line 1736, in _wrapped_call_impl\n",
            "\u001b[34m\u001b[1mwandb\u001b[0m: \u001b[32m\u001b[41mERROR\u001b[0m     return self._call_impl(*args, **kwargs)\n",
            "\u001b[34m\u001b[1mwandb\u001b[0m: \u001b[32m\u001b[41mERROR\u001b[0m            ^^^^^^^^^^^^^^^^^^^^^^^^^^^^^^^^\n",
            "\u001b[34m\u001b[1mwandb\u001b[0m: \u001b[32m\u001b[41mERROR\u001b[0m   File \"/usr/local/lib/python3.11/dist-packages/torch/nn/modules/module.py\", line 1747, in _call_impl\n",
            "\u001b[34m\u001b[1mwandb\u001b[0m: \u001b[32m\u001b[41mERROR\u001b[0m     return forward_call(*args, **kwargs)\n",
            "\u001b[34m\u001b[1mwandb\u001b[0m: \u001b[32m\u001b[41mERROR\u001b[0m            ^^^^^^^^^^^^^^^^^^^^^^^^^^^^^\n",
            "\u001b[34m\u001b[1mwandb\u001b[0m: \u001b[32m\u001b[41mERROR\u001b[0m   File \"/usr/local/lib/python3.11/dist-packages/torch/nn/modules/container.py\", line 250, in forward\n",
            "\u001b[34m\u001b[1mwandb\u001b[0m: \u001b[32m\u001b[41mERROR\u001b[0m     input = module(input)\n",
            "\u001b[34m\u001b[1mwandb\u001b[0m: \u001b[32m\u001b[41mERROR\u001b[0m             ^^^^^^^^^^^^^\n",
            "\u001b[34m\u001b[1mwandb\u001b[0m: \u001b[32m\u001b[41mERROR\u001b[0m   File \"/usr/local/lib/python3.11/dist-packages/torch/nn/modules/module.py\", line 1736, in _wrapped_call_impl\n",
            "\u001b[34m\u001b[1mwandb\u001b[0m: \u001b[32m\u001b[41mERROR\u001b[0m     return self._call_impl(*args, **kwargs)\n",
            "\u001b[34m\u001b[1mwandb\u001b[0m: \u001b[32m\u001b[41mERROR\u001b[0m            ^^^^^^^^^^^^^^^^^^^^^^^^^^^^^^^^\n",
            "\u001b[34m\u001b[1mwandb\u001b[0m: \u001b[32m\u001b[41mERROR\u001b[0m   File \"/usr/local/lib/python3.11/dist-packages/torch/nn/modules/module.py\", line 1747, in _call_impl\n",
            "\u001b[34m\u001b[1mwandb\u001b[0m: \u001b[32m\u001b[41mERROR\u001b[0m     return forward_call(*args, **kwargs)\n",
            "\u001b[34m\u001b[1mwandb\u001b[0m: \u001b[32m\u001b[41mERROR\u001b[0m            ^^^^^^^^^^^^^^^^^^^^^^^^^^^^^\n",
            "\u001b[34m\u001b[1mwandb\u001b[0m: \u001b[32m\u001b[41mERROR\u001b[0m   File \"/usr/local/lib/python3.11/dist-packages/torch/nn/modules/linear.py\", line 125, in forward\n",
            "\u001b[34m\u001b[1mwandb\u001b[0m: \u001b[32m\u001b[41mERROR\u001b[0m     return F.linear(input, self.weight, self.bias)\n",
            "\u001b[34m\u001b[1mwandb\u001b[0m: \u001b[32m\u001b[41mERROR\u001b[0m            ^^^^^^^^^^^^^^^^^^^^^^^^^^^^^^^^^^^^^^^\n",
            "\u001b[34m\u001b[1mwandb\u001b[0m: \u001b[32m\u001b[41mERROR\u001b[0m RuntimeError: mat1 and mat2 shapes cannot be multiplied (64x3072 and 784x100)\n",
            "\u001b[34m\u001b[1mwandb\u001b[0m: \u001b[32m\u001b[41mERROR\u001b[0m \n",
            "\u001b[34m\u001b[1mwandb\u001b[0m: Agent Starting Run: u6hc3d92 with config:\n",
            "\u001b[34m\u001b[1mwandb\u001b[0m: \tbatch_size: 64\n",
            "\u001b[34m\u001b[1mwandb\u001b[0m: \tdropout_method: dropblock\n",
            "\u001b[34m\u001b[1mwandb\u001b[0m: \tdropout_prob: 0.2\n",
            "\u001b[34m\u001b[1mwandb\u001b[0m: \tepochs: 10\n",
            "\u001b[34m\u001b[1mwandb\u001b[0m: \tlr: 0.01\n",
            "\u001b[34m\u001b[1mwandb\u001b[0m: \tmodel: create_dropout_network_logistic\n",
            "\u001b[34m\u001b[1mwandb\u001b[0m: \tmomentum: 0.9\n",
            "\u001b[34m\u001b[1mwandb\u001b[0m: \toptimizer: sgd\n",
            "\u001b[34m\u001b[1mwandb\u001b[0m: \tweight_init: random\n"
          ]
        },
        {
          "output_type": "display_data",
          "data": {
            "text/plain": [
              "<IPython.core.display.HTML object>"
            ],
            "text/html": [
              "Tracking run with wandb version 0.19.6"
            ]
          },
          "metadata": {}
        },
        {
          "output_type": "display_data",
          "data": {
            "text/plain": [
              "<IPython.core.display.HTML object>"
            ],
            "text/html": [
              "Run data is saved locally in <code>/content/wandb/run-20250217_142007-u6hc3d92</code>"
            ]
          },
          "metadata": {}
        },
        {
          "output_type": "display_data",
          "data": {
            "text/plain": [
              "<IPython.core.display.HTML object>"
            ],
            "text/html": [
              "Syncing run <strong><a href='https://wandb.ai/shahi77-national-institute-of-technology-hamirpur/Dropout04/runs/u6hc3d92' target=\"_blank\">twilight-sweep-19</a></strong> to <a href='https://wandb.ai/shahi77-national-institute-of-technology-hamirpur/Dropout04' target=\"_blank\">Weights & Biases</a> (<a href='https://wandb.me/developer-guide' target=\"_blank\">docs</a>)<br>Sweep page: <a href='https://wandb.ai/shahi77-national-institute-of-technology-hamirpur/Dropout04/sweeps/qf1328ih' target=\"_blank\">https://wandb.ai/shahi77-national-institute-of-technology-hamirpur/Dropout04/sweeps/qf1328ih</a>"
            ]
          },
          "metadata": {}
        },
        {
          "output_type": "display_data",
          "data": {
            "text/plain": [
              "<IPython.core.display.HTML object>"
            ],
            "text/html": [
              " View project at <a href='https://wandb.ai/shahi77-national-institute-of-technology-hamirpur/Dropout04' target=\"_blank\">https://wandb.ai/shahi77-national-institute-of-technology-hamirpur/Dropout04</a>"
            ]
          },
          "metadata": {}
        },
        {
          "output_type": "display_data",
          "data": {
            "text/plain": [
              "<IPython.core.display.HTML object>"
            ],
            "text/html": [
              " View sweep at <a href='https://wandb.ai/shahi77-national-institute-of-technology-hamirpur/Dropout04/sweeps/qf1328ih' target=\"_blank\">https://wandb.ai/shahi77-national-institute-of-technology-hamirpur/Dropout04/sweeps/qf1328ih</a>"
            ]
          },
          "metadata": {}
        },
        {
          "output_type": "display_data",
          "data": {
            "text/plain": [
              "<IPython.core.display.HTML object>"
            ],
            "text/html": [
              " View run at <a href='https://wandb.ai/shahi77-national-institute-of-technology-hamirpur/Dropout04/runs/u6hc3d92' target=\"_blank\">https://wandb.ai/shahi77-national-institute-of-technology-hamirpur/Dropout04/runs/u6hc3d92</a>"
            ]
          },
          "metadata": {}
        },
        {
          "output_type": "stream",
          "name": "stdout",
          "text": [
            "Files already downloaded and verified\n"
          ]
        },
        {
          "output_type": "stream",
          "name": "stderr",
          "text": [
            "Traceback (most recent call last):\n",
            "  File \"<ipython-input-7-dd308e14cb39>\", line 319, in run_experiment\n",
            "    train(model, train_loader, optimizer, criterion, config.epochs)\n",
            "  File \"<ipython-input-7-dd308e14cb39>\", line 248, in train\n",
            "    outputs = model(inputs)\n",
            "              ^^^^^^^^^^^^^\n",
            "  File \"/usr/local/lib/python3.11/dist-packages/torch/nn/modules/module.py\", line 1736, in _wrapped_call_impl\n",
            "    return self._call_impl(*args, **kwargs)\n",
            "           ^^^^^^^^^^^^^^^^^^^^^^^^^^^^^^^^\n",
            "  File \"/usr/local/lib/python3.11/dist-packages/torch/nn/modules/module.py\", line 1747, in _call_impl\n",
            "    return forward_call(*args, **kwargs)\n",
            "           ^^^^^^^^^^^^^^^^^^^^^^^^^^^^^\n",
            "  File \"<ipython-input-7-dd308e14cb39>\", line 59, in forward\n",
            "    return self.network(x)\n",
            "           ^^^^^^^^^^^^^^^\n",
            "  File \"/usr/local/lib/python3.11/dist-packages/torch/nn/modules/module.py\", line 1736, in _wrapped_call_impl\n",
            "    return self._call_impl(*args, **kwargs)\n",
            "           ^^^^^^^^^^^^^^^^^^^^^^^^^^^^^^^^\n",
            "  File \"/usr/local/lib/python3.11/dist-packages/torch/nn/modules/module.py\", line 1747, in _call_impl\n",
            "    return forward_call(*args, **kwargs)\n",
            "           ^^^^^^^^^^^^^^^^^^^^^^^^^^^^^\n",
            "  File \"/usr/local/lib/python3.11/dist-packages/torch/nn/modules/container.py\", line 250, in forward\n",
            "    input = module(input)\n",
            "            ^^^^^^^^^^^^^\n",
            "  File \"/usr/local/lib/python3.11/dist-packages/torch/nn/modules/module.py\", line 1736, in _wrapped_call_impl\n",
            "    return self._call_impl(*args, **kwargs)\n",
            "           ^^^^^^^^^^^^^^^^^^^^^^^^^^^^^^^^\n",
            "  File \"/usr/local/lib/python3.11/dist-packages/torch/nn/modules/module.py\", line 1747, in _call_impl\n",
            "    return forward_call(*args, **kwargs)\n",
            "           ^^^^^^^^^^^^^^^^^^^^^^^^^^^^^\n",
            "  File \"/usr/local/lib/python3.11/dist-packages/torch/nn/modules/linear.py\", line 125, in forward\n",
            "    return F.linear(input, self.weight, self.bias)\n",
            "           ^^^^^^^^^^^^^^^^^^^^^^^^^^^^^^^^^^^^^^^\n",
            "RuntimeError: mat1 and mat2 shapes cannot be multiplied (64x3072 and 784x1024)\n"
          ]
        },
        {
          "output_type": "display_data",
          "data": {
            "text/plain": [
              "<IPython.core.display.HTML object>"
            ],
            "text/html": []
          },
          "metadata": {}
        },
        {
          "output_type": "display_data",
          "data": {
            "text/plain": [
              "<IPython.core.display.HTML object>"
            ],
            "text/html": [
              " View run <strong style=\"color:#cdcd00\">m_create_dropout_network_logistic_dr_dropblock_p_0.2lr_0.01_m_0.9</strong> at: <a href='https://wandb.ai/shahi77-national-institute-of-technology-hamirpur/Dropout04/runs/u6hc3d92' target=\"_blank\">https://wandb.ai/shahi77-national-institute-of-technology-hamirpur/Dropout04/runs/u6hc3d92</a><br> View project at: <a href='https://wandb.ai/shahi77-national-institute-of-technology-hamirpur/Dropout04' target=\"_blank\">https://wandb.ai/shahi77-national-institute-of-technology-hamirpur/Dropout04</a><br>Synced 5 W&B file(s), 0 media file(s), 0 artifact file(s) and 0 other file(s)"
            ]
          },
          "metadata": {}
        },
        {
          "output_type": "display_data",
          "data": {
            "text/plain": [
              "<IPython.core.display.HTML object>"
            ],
            "text/html": [
              "Find logs at: <code>./wandb/run-20250217_142007-u6hc3d92/logs</code>"
            ]
          },
          "metadata": {}
        },
        {
          "output_type": "stream",
          "name": "stderr",
          "text": [
            "Run u6hc3d92 errored:\n",
            "Traceback (most recent call last):\n",
            "  File \"/usr/local/lib/python3.11/dist-packages/wandb/agents/pyagent.py\", line 306, in _run_job\n",
            "    self._function()\n",
            "  File \"<ipython-input-7-dd308e14cb39>\", line 319, in run_experiment\n",
            "    train(model, train_loader, optimizer, criterion, config.epochs)\n",
            "  File \"<ipython-input-7-dd308e14cb39>\", line 248, in train\n",
            "    outputs = model(inputs)\n",
            "              ^^^^^^^^^^^^^\n",
            "  File \"/usr/local/lib/python3.11/dist-packages/torch/nn/modules/module.py\", line 1736, in _wrapped_call_impl\n",
            "    return self._call_impl(*args, **kwargs)\n",
            "           ^^^^^^^^^^^^^^^^^^^^^^^^^^^^^^^^\n",
            "  File \"/usr/local/lib/python3.11/dist-packages/torch/nn/modules/module.py\", line 1747, in _call_impl\n",
            "    return forward_call(*args, **kwargs)\n",
            "           ^^^^^^^^^^^^^^^^^^^^^^^^^^^^^\n",
            "  File \"<ipython-input-7-dd308e14cb39>\", line 59, in forward\n",
            "    return self.network(x)\n",
            "           ^^^^^^^^^^^^^^^\n",
            "  File \"/usr/local/lib/python3.11/dist-packages/torch/nn/modules/module.py\", line 1736, in _wrapped_call_impl\n",
            "    return self._call_impl(*args, **kwargs)\n",
            "           ^^^^^^^^^^^^^^^^^^^^^^^^^^^^^^^^\n",
            "  File \"/usr/local/lib/python3.11/dist-packages/torch/nn/modules/module.py\", line 1747, in _call_impl\n",
            "    return forward_call(*args, **kwargs)\n",
            "           ^^^^^^^^^^^^^^^^^^^^^^^^^^^^^\n",
            "  File \"/usr/local/lib/python3.11/dist-packages/torch/nn/modules/container.py\", line 250, in forward\n",
            "    input = module(input)\n",
            "            ^^^^^^^^^^^^^\n",
            "  File \"/usr/local/lib/python3.11/dist-packages/torch/nn/modules/module.py\", line 1736, in _wrapped_call_impl\n",
            "    return self._call_impl(*args, **kwargs)\n",
            "           ^^^^^^^^^^^^^^^^^^^^^^^^^^^^^^^^\n",
            "  File \"/usr/local/lib/python3.11/dist-packages/torch/nn/modules/module.py\", line 1747, in _call_impl\n",
            "    return forward_call(*args, **kwargs)\n",
            "           ^^^^^^^^^^^^^^^^^^^^^^^^^^^^^\n",
            "  File \"/usr/local/lib/python3.11/dist-packages/torch/nn/modules/linear.py\", line 125, in forward\n",
            "    return F.linear(input, self.weight, self.bias)\n",
            "           ^^^^^^^^^^^^^^^^^^^^^^^^^^^^^^^^^^^^^^^\n",
            "RuntimeError: mat1 and mat2 shapes cannot be multiplied (64x3072 and 784x1024)\n",
            "\n",
            "\u001b[34m\u001b[1mwandb\u001b[0m: \u001b[32m\u001b[41mERROR\u001b[0m Run u6hc3d92 errored:\n",
            "\u001b[34m\u001b[1mwandb\u001b[0m: \u001b[32m\u001b[41mERROR\u001b[0m Traceback (most recent call last):\n",
            "\u001b[34m\u001b[1mwandb\u001b[0m: \u001b[32m\u001b[41mERROR\u001b[0m   File \"/usr/local/lib/python3.11/dist-packages/wandb/agents/pyagent.py\", line 306, in _run_job\n",
            "\u001b[34m\u001b[1mwandb\u001b[0m: \u001b[32m\u001b[41mERROR\u001b[0m     self._function()\n",
            "\u001b[34m\u001b[1mwandb\u001b[0m: \u001b[32m\u001b[41mERROR\u001b[0m   File \"<ipython-input-7-dd308e14cb39>\", line 319, in run_experiment\n",
            "\u001b[34m\u001b[1mwandb\u001b[0m: \u001b[32m\u001b[41mERROR\u001b[0m     train(model, train_loader, optimizer, criterion, config.epochs)\n",
            "\u001b[34m\u001b[1mwandb\u001b[0m: \u001b[32m\u001b[41mERROR\u001b[0m   File \"<ipython-input-7-dd308e14cb39>\", line 248, in train\n",
            "\u001b[34m\u001b[1mwandb\u001b[0m: \u001b[32m\u001b[41mERROR\u001b[0m     outputs = model(inputs)\n",
            "\u001b[34m\u001b[1mwandb\u001b[0m: \u001b[32m\u001b[41mERROR\u001b[0m               ^^^^^^^^^^^^^\n",
            "\u001b[34m\u001b[1mwandb\u001b[0m: \u001b[32m\u001b[41mERROR\u001b[0m   File \"/usr/local/lib/python3.11/dist-packages/torch/nn/modules/module.py\", line 1736, in _wrapped_call_impl\n",
            "\u001b[34m\u001b[1mwandb\u001b[0m: \u001b[32m\u001b[41mERROR\u001b[0m     return self._call_impl(*args, **kwargs)\n",
            "\u001b[34m\u001b[1mwandb\u001b[0m: \u001b[32m\u001b[41mERROR\u001b[0m            ^^^^^^^^^^^^^^^^^^^^^^^^^^^^^^^^\n",
            "\u001b[34m\u001b[1mwandb\u001b[0m: \u001b[32m\u001b[41mERROR\u001b[0m   File \"/usr/local/lib/python3.11/dist-packages/torch/nn/modules/module.py\", line 1747, in _call_impl\n",
            "\u001b[34m\u001b[1mwandb\u001b[0m: \u001b[32m\u001b[41mERROR\u001b[0m     return forward_call(*args, **kwargs)\n",
            "\u001b[34m\u001b[1mwandb\u001b[0m: \u001b[32m\u001b[41mERROR\u001b[0m            ^^^^^^^^^^^^^^^^^^^^^^^^^^^^^\n",
            "\u001b[34m\u001b[1mwandb\u001b[0m: \u001b[32m\u001b[41mERROR\u001b[0m   File \"<ipython-input-7-dd308e14cb39>\", line 59, in forward\n",
            "\u001b[34m\u001b[1mwandb\u001b[0m: \u001b[32m\u001b[41mERROR\u001b[0m     return self.network(x)\n",
            "\u001b[34m\u001b[1mwandb\u001b[0m: \u001b[32m\u001b[41mERROR\u001b[0m            ^^^^^^^^^^^^^^^\n",
            "\u001b[34m\u001b[1mwandb\u001b[0m: \u001b[32m\u001b[41mERROR\u001b[0m   File \"/usr/local/lib/python3.11/dist-packages/torch/nn/modules/module.py\", line 1736, in _wrapped_call_impl\n",
            "\u001b[34m\u001b[1mwandb\u001b[0m: \u001b[32m\u001b[41mERROR\u001b[0m     return self._call_impl(*args, **kwargs)\n",
            "\u001b[34m\u001b[1mwandb\u001b[0m: \u001b[32m\u001b[41mERROR\u001b[0m            ^^^^^^^^^^^^^^^^^^^^^^^^^^^^^^^^\n",
            "\u001b[34m\u001b[1mwandb\u001b[0m: \u001b[32m\u001b[41mERROR\u001b[0m   File \"/usr/local/lib/python3.11/dist-packages/torch/nn/modules/module.py\", line 1747, in _call_impl\n",
            "\u001b[34m\u001b[1mwandb\u001b[0m: \u001b[32m\u001b[41mERROR\u001b[0m     return forward_call(*args, **kwargs)\n",
            "\u001b[34m\u001b[1mwandb\u001b[0m: \u001b[32m\u001b[41mERROR\u001b[0m            ^^^^^^^^^^^^^^^^^^^^^^^^^^^^^\n",
            "\u001b[34m\u001b[1mwandb\u001b[0m: \u001b[32m\u001b[41mERROR\u001b[0m   File \"/usr/local/lib/python3.11/dist-packages/torch/nn/modules/container.py\", line 250, in forward\n",
            "\u001b[34m\u001b[1mwandb\u001b[0m: \u001b[32m\u001b[41mERROR\u001b[0m     input = module(input)\n",
            "\u001b[34m\u001b[1mwandb\u001b[0m: \u001b[32m\u001b[41mERROR\u001b[0m             ^^^^^^^^^^^^^\n",
            "\u001b[34m\u001b[1mwandb\u001b[0m: \u001b[32m\u001b[41mERROR\u001b[0m   File \"/usr/local/lib/python3.11/dist-packages/torch/nn/modules/module.py\", line 1736, in _wrapped_call_impl\n",
            "\u001b[34m\u001b[1mwandb\u001b[0m: \u001b[32m\u001b[41mERROR\u001b[0m     return self._call_impl(*args, **kwargs)\n",
            "\u001b[34m\u001b[1mwandb\u001b[0m: \u001b[32m\u001b[41mERROR\u001b[0m            ^^^^^^^^^^^^^^^^^^^^^^^^^^^^^^^^\n",
            "\u001b[34m\u001b[1mwandb\u001b[0m: \u001b[32m\u001b[41mERROR\u001b[0m   File \"/usr/local/lib/python3.11/dist-packages/torch/nn/modules/module.py\", line 1747, in _call_impl\n",
            "\u001b[34m\u001b[1mwandb\u001b[0m: \u001b[32m\u001b[41mERROR\u001b[0m     return forward_call(*args, **kwargs)\n",
            "\u001b[34m\u001b[1mwandb\u001b[0m: \u001b[32m\u001b[41mERROR\u001b[0m            ^^^^^^^^^^^^^^^^^^^^^^^^^^^^^\n",
            "\u001b[34m\u001b[1mwandb\u001b[0m: \u001b[32m\u001b[41mERROR\u001b[0m   File \"/usr/local/lib/python3.11/dist-packages/torch/nn/modules/linear.py\", line 125, in forward\n",
            "\u001b[34m\u001b[1mwandb\u001b[0m: \u001b[32m\u001b[41mERROR\u001b[0m     return F.linear(input, self.weight, self.bias)\n",
            "\u001b[34m\u001b[1mwandb\u001b[0m: \u001b[32m\u001b[41mERROR\u001b[0m            ^^^^^^^^^^^^^^^^^^^^^^^^^^^^^^^^^^^^^^^\n",
            "\u001b[34m\u001b[1mwandb\u001b[0m: \u001b[32m\u001b[41mERROR\u001b[0m RuntimeError: mat1 and mat2 shapes cannot be multiplied (64x3072 and 784x1024)\n",
            "\u001b[34m\u001b[1mwandb\u001b[0m: \u001b[32m\u001b[41mERROR\u001b[0m \n",
            "\u001b[34m\u001b[1mwandb\u001b[0m: Agent Starting Run: 7ef9golk with config:\n",
            "\u001b[34m\u001b[1mwandb\u001b[0m: \tbatch_size: 64\n",
            "\u001b[34m\u001b[1mwandb\u001b[0m: \tdropout_method: flipover\n",
            "\u001b[34m\u001b[1mwandb\u001b[0m: \tdropout_prob: 0.2\n",
            "\u001b[34m\u001b[1mwandb\u001b[0m: \tepochs: 10\n",
            "\u001b[34m\u001b[1mwandb\u001b[0m: \tlr: 0.001\n",
            "\u001b[34m\u001b[1mwandb\u001b[0m: \tmodel: create_standard_network_2\n",
            "\u001b[34m\u001b[1mwandb\u001b[0m: \tmomentum: 0.99\n",
            "\u001b[34m\u001b[1mwandb\u001b[0m: \toptimizer: sgd\n",
            "\u001b[34m\u001b[1mwandb\u001b[0m: \tweight_init: random\n"
          ]
        },
        {
          "output_type": "display_data",
          "data": {
            "text/plain": [
              "<IPython.core.display.HTML object>"
            ],
            "text/html": [
              "Tracking run with wandb version 0.19.6"
            ]
          },
          "metadata": {}
        },
        {
          "output_type": "display_data",
          "data": {
            "text/plain": [
              "<IPython.core.display.HTML object>"
            ],
            "text/html": [
              "Run data is saved locally in <code>/content/wandb/run-20250217_142023-7ef9golk</code>"
            ]
          },
          "metadata": {}
        },
        {
          "output_type": "display_data",
          "data": {
            "text/plain": [
              "<IPython.core.display.HTML object>"
            ],
            "text/html": [
              "Syncing run <strong><a href='https://wandb.ai/shahi77-national-institute-of-technology-hamirpur/Dropout04/runs/7ef9golk' target=\"_blank\">autumn-sweep-20</a></strong> to <a href='https://wandb.ai/shahi77-national-institute-of-technology-hamirpur/Dropout04' target=\"_blank\">Weights & Biases</a> (<a href='https://wandb.me/developer-guide' target=\"_blank\">docs</a>)<br>Sweep page: <a href='https://wandb.ai/shahi77-national-institute-of-technology-hamirpur/Dropout04/sweeps/qf1328ih' target=\"_blank\">https://wandb.ai/shahi77-national-institute-of-technology-hamirpur/Dropout04/sweeps/qf1328ih</a>"
            ]
          },
          "metadata": {}
        },
        {
          "output_type": "display_data",
          "data": {
            "text/plain": [
              "<IPython.core.display.HTML object>"
            ],
            "text/html": [
              " View project at <a href='https://wandb.ai/shahi77-national-institute-of-technology-hamirpur/Dropout04' target=\"_blank\">https://wandb.ai/shahi77-national-institute-of-technology-hamirpur/Dropout04</a>"
            ]
          },
          "metadata": {}
        },
        {
          "output_type": "display_data",
          "data": {
            "text/plain": [
              "<IPython.core.display.HTML object>"
            ],
            "text/html": [
              " View sweep at <a href='https://wandb.ai/shahi77-national-institute-of-technology-hamirpur/Dropout04/sweeps/qf1328ih' target=\"_blank\">https://wandb.ai/shahi77-national-institute-of-technology-hamirpur/Dropout04/sweeps/qf1328ih</a>"
            ]
          },
          "metadata": {}
        },
        {
          "output_type": "display_data",
          "data": {
            "text/plain": [
              "<IPython.core.display.HTML object>"
            ],
            "text/html": [
              " View run at <a href='https://wandb.ai/shahi77-national-institute-of-technology-hamirpur/Dropout04/runs/7ef9golk' target=\"_blank\">https://wandb.ai/shahi77-national-institute-of-technology-hamirpur/Dropout04/runs/7ef9golk</a>"
            ]
          },
          "metadata": {}
        },
        {
          "output_type": "stream",
          "name": "stdout",
          "text": [
            "Files already downloaded and verified\n"
          ]
        },
        {
          "output_type": "stream",
          "name": "stderr",
          "text": [
            "Traceback (most recent call last):\n",
            "  File \"<ipython-input-7-dd308e14cb39>\", line 319, in run_experiment\n",
            "    train(model, train_loader, optimizer, criterion, config.epochs)\n",
            "  File \"<ipython-input-7-dd308e14cb39>\", line 248, in train\n",
            "    outputs = model(inputs)\n",
            "              ^^^^^^^^^^^^^\n",
            "  File \"/usr/local/lib/python3.11/dist-packages/torch/nn/modules/module.py\", line 1736, in _wrapped_call_impl\n",
            "    return self._call_impl(*args, **kwargs)\n",
            "           ^^^^^^^^^^^^^^^^^^^^^^^^^^^^^^^^\n",
            "  File \"/usr/local/lib/python3.11/dist-packages/torch/nn/modules/module.py\", line 1747, in _call_impl\n",
            "    return forward_call(*args, **kwargs)\n",
            "           ^^^^^^^^^^^^^^^^^^^^^^^^^^^^^\n",
            "  File \"<ipython-input-7-dd308e14cb39>\", line 59, in forward\n",
            "    return self.network(x)\n",
            "           ^^^^^^^^^^^^^^^\n",
            "  File \"/usr/local/lib/python3.11/dist-packages/torch/nn/modules/module.py\", line 1736, in _wrapped_call_impl\n",
            "    return self._call_impl(*args, **kwargs)\n",
            "           ^^^^^^^^^^^^^^^^^^^^^^^^^^^^^^^^\n",
            "  File \"/usr/local/lib/python3.11/dist-packages/torch/nn/modules/module.py\", line 1747, in _call_impl\n",
            "    return forward_call(*args, **kwargs)\n",
            "           ^^^^^^^^^^^^^^^^^^^^^^^^^^^^^\n",
            "  File \"/usr/local/lib/python3.11/dist-packages/torch/nn/modules/container.py\", line 250, in forward\n",
            "    input = module(input)\n",
            "            ^^^^^^^^^^^^^\n",
            "  File \"/usr/local/lib/python3.11/dist-packages/torch/nn/modules/module.py\", line 1736, in _wrapped_call_impl\n",
            "    return self._call_impl(*args, **kwargs)\n",
            "           ^^^^^^^^^^^^^^^^^^^^^^^^^^^^^^^^\n",
            "  File \"/usr/local/lib/python3.11/dist-packages/torch/nn/modules/module.py\", line 1747, in _call_impl\n",
            "    return forward_call(*args, **kwargs)\n",
            "           ^^^^^^^^^^^^^^^^^^^^^^^^^^^^^\n",
            "  File \"/usr/local/lib/python3.11/dist-packages/torch/nn/modules/linear.py\", line 125, in forward\n",
            "    return F.linear(input, self.weight, self.bias)\n",
            "           ^^^^^^^^^^^^^^^^^^^^^^^^^^^^^^^^^^^^^^^\n",
            "RuntimeError: mat1 and mat2 shapes cannot be multiplied (64x3072 and 784x800)\n"
          ]
        },
        {
          "output_type": "display_data",
          "data": {
            "text/plain": [
              "<IPython.core.display.HTML object>"
            ],
            "text/html": []
          },
          "metadata": {}
        },
        {
          "output_type": "display_data",
          "data": {
            "text/plain": [
              "<IPython.core.display.HTML object>"
            ],
            "text/html": [
              " View run <strong style=\"color:#cdcd00\">m_create_standard_network_2_dr_flipover_p_0.2lr_0.001_m_0.99</strong> at: <a href='https://wandb.ai/shahi77-national-institute-of-technology-hamirpur/Dropout04/runs/7ef9golk' target=\"_blank\">https://wandb.ai/shahi77-national-institute-of-technology-hamirpur/Dropout04/runs/7ef9golk</a><br> View project at: <a href='https://wandb.ai/shahi77-national-institute-of-technology-hamirpur/Dropout04' target=\"_blank\">https://wandb.ai/shahi77-national-institute-of-technology-hamirpur/Dropout04</a><br>Synced 5 W&B file(s), 0 media file(s), 0 artifact file(s) and 0 other file(s)"
            ]
          },
          "metadata": {}
        },
        {
          "output_type": "display_data",
          "data": {
            "text/plain": [
              "<IPython.core.display.HTML object>"
            ],
            "text/html": [
              "Find logs at: <code>./wandb/run-20250217_142023-7ef9golk/logs</code>"
            ]
          },
          "metadata": {}
        },
        {
          "output_type": "stream",
          "name": "stderr",
          "text": [
            "Run 7ef9golk errored:\n",
            "Traceback (most recent call last):\n",
            "  File \"/usr/local/lib/python3.11/dist-packages/wandb/agents/pyagent.py\", line 306, in _run_job\n",
            "    self._function()\n",
            "  File \"<ipython-input-7-dd308e14cb39>\", line 319, in run_experiment\n",
            "    train(model, train_loader, optimizer, criterion, config.epochs)\n",
            "  File \"<ipython-input-7-dd308e14cb39>\", line 248, in train\n",
            "    outputs = model(inputs)\n",
            "              ^^^^^^^^^^^^^\n",
            "  File \"/usr/local/lib/python3.11/dist-packages/torch/nn/modules/module.py\", line 1736, in _wrapped_call_impl\n",
            "    return self._call_impl(*args, **kwargs)\n",
            "           ^^^^^^^^^^^^^^^^^^^^^^^^^^^^^^^^\n",
            "  File \"/usr/local/lib/python3.11/dist-packages/torch/nn/modules/module.py\", line 1747, in _call_impl\n",
            "    return forward_call(*args, **kwargs)\n",
            "           ^^^^^^^^^^^^^^^^^^^^^^^^^^^^^\n",
            "  File \"<ipython-input-7-dd308e14cb39>\", line 59, in forward\n",
            "    return self.network(x)\n",
            "           ^^^^^^^^^^^^^^^\n",
            "  File \"/usr/local/lib/python3.11/dist-packages/torch/nn/modules/module.py\", line 1736, in _wrapped_call_impl\n",
            "    return self._call_impl(*args, **kwargs)\n",
            "           ^^^^^^^^^^^^^^^^^^^^^^^^^^^^^^^^\n",
            "  File \"/usr/local/lib/python3.11/dist-packages/torch/nn/modules/module.py\", line 1747, in _call_impl\n",
            "    return forward_call(*args, **kwargs)\n",
            "           ^^^^^^^^^^^^^^^^^^^^^^^^^^^^^\n",
            "  File \"/usr/local/lib/python3.11/dist-packages/torch/nn/modules/container.py\", line 250, in forward\n",
            "    input = module(input)\n",
            "            ^^^^^^^^^^^^^\n",
            "  File \"/usr/local/lib/python3.11/dist-packages/torch/nn/modules/module.py\", line 1736, in _wrapped_call_impl\n",
            "    return self._call_impl(*args, **kwargs)\n",
            "           ^^^^^^^^^^^^^^^^^^^^^^^^^^^^^^^^\n",
            "  File \"/usr/local/lib/python3.11/dist-packages/torch/nn/modules/module.py\", line 1747, in _call_impl\n",
            "    return forward_call(*args, **kwargs)\n",
            "           ^^^^^^^^^^^^^^^^^^^^^^^^^^^^^\n",
            "  File \"/usr/local/lib/python3.11/dist-packages/torch/nn/modules/linear.py\", line 125, in forward\n",
            "    return F.linear(input, self.weight, self.bias)\n",
            "           ^^^^^^^^^^^^^^^^^^^^^^^^^^^^^^^^^^^^^^^\n",
            "RuntimeError: mat1 and mat2 shapes cannot be multiplied (64x3072 and 784x800)\n",
            "\n",
            "\u001b[34m\u001b[1mwandb\u001b[0m: \u001b[32m\u001b[41mERROR\u001b[0m Run 7ef9golk errored:\n",
            "\u001b[34m\u001b[1mwandb\u001b[0m: \u001b[32m\u001b[41mERROR\u001b[0m Traceback (most recent call last):\n",
            "\u001b[34m\u001b[1mwandb\u001b[0m: \u001b[32m\u001b[41mERROR\u001b[0m   File \"/usr/local/lib/python3.11/dist-packages/wandb/agents/pyagent.py\", line 306, in _run_job\n",
            "\u001b[34m\u001b[1mwandb\u001b[0m: \u001b[32m\u001b[41mERROR\u001b[0m     self._function()\n",
            "\u001b[34m\u001b[1mwandb\u001b[0m: \u001b[32m\u001b[41mERROR\u001b[0m   File \"<ipython-input-7-dd308e14cb39>\", line 319, in run_experiment\n",
            "\u001b[34m\u001b[1mwandb\u001b[0m: \u001b[32m\u001b[41mERROR\u001b[0m     train(model, train_loader, optimizer, criterion, config.epochs)\n",
            "\u001b[34m\u001b[1mwandb\u001b[0m: \u001b[32m\u001b[41mERROR\u001b[0m   File \"<ipython-input-7-dd308e14cb39>\", line 248, in train\n",
            "\u001b[34m\u001b[1mwandb\u001b[0m: \u001b[32m\u001b[41mERROR\u001b[0m     outputs = model(inputs)\n",
            "\u001b[34m\u001b[1mwandb\u001b[0m: \u001b[32m\u001b[41mERROR\u001b[0m               ^^^^^^^^^^^^^\n",
            "\u001b[34m\u001b[1mwandb\u001b[0m: \u001b[32m\u001b[41mERROR\u001b[0m   File \"/usr/local/lib/python3.11/dist-packages/torch/nn/modules/module.py\", line 1736, in _wrapped_call_impl\n",
            "\u001b[34m\u001b[1mwandb\u001b[0m: \u001b[32m\u001b[41mERROR\u001b[0m     return self._call_impl(*args, **kwargs)\n",
            "\u001b[34m\u001b[1mwandb\u001b[0m: \u001b[32m\u001b[41mERROR\u001b[0m            ^^^^^^^^^^^^^^^^^^^^^^^^^^^^^^^^\n",
            "\u001b[34m\u001b[1mwandb\u001b[0m: \u001b[32m\u001b[41mERROR\u001b[0m   File \"/usr/local/lib/python3.11/dist-packages/torch/nn/modules/module.py\", line 1747, in _call_impl\n",
            "\u001b[34m\u001b[1mwandb\u001b[0m: \u001b[32m\u001b[41mERROR\u001b[0m     return forward_call(*args, **kwargs)\n",
            "\u001b[34m\u001b[1mwandb\u001b[0m: \u001b[32m\u001b[41mERROR\u001b[0m            ^^^^^^^^^^^^^^^^^^^^^^^^^^^^^\n",
            "\u001b[34m\u001b[1mwandb\u001b[0m: \u001b[32m\u001b[41mERROR\u001b[0m   File \"<ipython-input-7-dd308e14cb39>\", line 59, in forward\n",
            "\u001b[34m\u001b[1mwandb\u001b[0m: \u001b[32m\u001b[41mERROR\u001b[0m     return self.network(x)\n",
            "\u001b[34m\u001b[1mwandb\u001b[0m: \u001b[32m\u001b[41mERROR\u001b[0m            ^^^^^^^^^^^^^^^\n",
            "\u001b[34m\u001b[1mwandb\u001b[0m: \u001b[32m\u001b[41mERROR\u001b[0m   File \"/usr/local/lib/python3.11/dist-packages/torch/nn/modules/module.py\", line 1736, in _wrapped_call_impl\n",
            "\u001b[34m\u001b[1mwandb\u001b[0m: \u001b[32m\u001b[41mERROR\u001b[0m     return self._call_impl(*args, **kwargs)\n",
            "\u001b[34m\u001b[1mwandb\u001b[0m: \u001b[32m\u001b[41mERROR\u001b[0m            ^^^^^^^^^^^^^^^^^^^^^^^^^^^^^^^^\n",
            "\u001b[34m\u001b[1mwandb\u001b[0m: \u001b[32m\u001b[41mERROR\u001b[0m   File \"/usr/local/lib/python3.11/dist-packages/torch/nn/modules/module.py\", line 1747, in _call_impl\n",
            "\u001b[34m\u001b[1mwandb\u001b[0m: \u001b[32m\u001b[41mERROR\u001b[0m     return forward_call(*args, **kwargs)\n",
            "\u001b[34m\u001b[1mwandb\u001b[0m: \u001b[32m\u001b[41mERROR\u001b[0m            ^^^^^^^^^^^^^^^^^^^^^^^^^^^^^\n",
            "\u001b[34m\u001b[1mwandb\u001b[0m: \u001b[32m\u001b[41mERROR\u001b[0m   File \"/usr/local/lib/python3.11/dist-packages/torch/nn/modules/container.py\", line 250, in forward\n",
            "\u001b[34m\u001b[1mwandb\u001b[0m: \u001b[32m\u001b[41mERROR\u001b[0m     input = module(input)\n",
            "\u001b[34m\u001b[1mwandb\u001b[0m: \u001b[32m\u001b[41mERROR\u001b[0m             ^^^^^^^^^^^^^\n",
            "\u001b[34m\u001b[1mwandb\u001b[0m: \u001b[32m\u001b[41mERROR\u001b[0m   File \"/usr/local/lib/python3.11/dist-packages/torch/nn/modules/module.py\", line 1736, in _wrapped_call_impl\n",
            "\u001b[34m\u001b[1mwandb\u001b[0m: \u001b[32m\u001b[41mERROR\u001b[0m     return self._call_impl(*args, **kwargs)\n",
            "\u001b[34m\u001b[1mwandb\u001b[0m: \u001b[32m\u001b[41mERROR\u001b[0m            ^^^^^^^^^^^^^^^^^^^^^^^^^^^^^^^^\n",
            "\u001b[34m\u001b[1mwandb\u001b[0m: \u001b[32m\u001b[41mERROR\u001b[0m   File \"/usr/local/lib/python3.11/dist-packages/torch/nn/modules/module.py\", line 1747, in _call_impl\n",
            "\u001b[34m\u001b[1mwandb\u001b[0m: \u001b[32m\u001b[41mERROR\u001b[0m     return forward_call(*args, **kwargs)\n",
            "\u001b[34m\u001b[1mwandb\u001b[0m: \u001b[32m\u001b[41mERROR\u001b[0m            ^^^^^^^^^^^^^^^^^^^^^^^^^^^^^\n",
            "\u001b[34m\u001b[1mwandb\u001b[0m: \u001b[32m\u001b[41mERROR\u001b[0m   File \"/usr/local/lib/python3.11/dist-packages/torch/nn/modules/linear.py\", line 125, in forward\n",
            "\u001b[34m\u001b[1mwandb\u001b[0m: \u001b[32m\u001b[41mERROR\u001b[0m     return F.linear(input, self.weight, self.bias)\n",
            "\u001b[34m\u001b[1mwandb\u001b[0m: \u001b[32m\u001b[41mERROR\u001b[0m            ^^^^^^^^^^^^^^^^^^^^^^^^^^^^^^^^^^^^^^^\n",
            "\u001b[34m\u001b[1mwandb\u001b[0m: \u001b[32m\u001b[41mERROR\u001b[0m RuntimeError: mat1 and mat2 shapes cannot be multiplied (64x3072 and 784x800)\n",
            "\u001b[34m\u001b[1mwandb\u001b[0m: \u001b[32m\u001b[41mERROR\u001b[0m \n",
            "\u001b[34m\u001b[1mwandb\u001b[0m: Agent Starting Run: ydkq8k6m with config:\n",
            "\u001b[34m\u001b[1mwandb\u001b[0m: \tbatch_size: 64\n",
            "\u001b[34m\u001b[1mwandb\u001b[0m: \tdropout_method: maxdropout\n",
            "\u001b[34m\u001b[1mwandb\u001b[0m: \tdropout_prob: 0.3\n",
            "\u001b[34m\u001b[1mwandb\u001b[0m: \tepochs: 10\n",
            "\u001b[34m\u001b[1mwandb\u001b[0m: \tlr: 0.01\n",
            "\u001b[34m\u001b[1mwandb\u001b[0m: \tmodel: create_dropout_network_relu\n",
            "\u001b[34m\u001b[1mwandb\u001b[0m: \tmomentum: 0.9\n",
            "\u001b[34m\u001b[1mwandb\u001b[0m: \toptimizer: sgd\n",
            "\u001b[34m\u001b[1mwandb\u001b[0m: \tweight_init: random\n"
          ]
        },
        {
          "output_type": "display_data",
          "data": {
            "text/plain": [
              "<IPython.core.display.HTML object>"
            ],
            "text/html": [
              "Tracking run with wandb version 0.19.6"
            ]
          },
          "metadata": {}
        },
        {
          "output_type": "display_data",
          "data": {
            "text/plain": [
              "<IPython.core.display.HTML object>"
            ],
            "text/html": [
              "Run data is saved locally in <code>/content/wandb/run-20250217_142038-ydkq8k6m</code>"
            ]
          },
          "metadata": {}
        },
        {
          "output_type": "display_data",
          "data": {
            "text/plain": [
              "<IPython.core.display.HTML object>"
            ],
            "text/html": [
              "Syncing run <strong><a href='https://wandb.ai/shahi77-national-institute-of-technology-hamirpur/Dropout04/runs/ydkq8k6m' target=\"_blank\">iconic-sweep-21</a></strong> to <a href='https://wandb.ai/shahi77-national-institute-of-technology-hamirpur/Dropout04' target=\"_blank\">Weights & Biases</a> (<a href='https://wandb.me/developer-guide' target=\"_blank\">docs</a>)<br>Sweep page: <a href='https://wandb.ai/shahi77-national-institute-of-technology-hamirpur/Dropout04/sweeps/qf1328ih' target=\"_blank\">https://wandb.ai/shahi77-national-institute-of-technology-hamirpur/Dropout04/sweeps/qf1328ih</a>"
            ]
          },
          "metadata": {}
        },
        {
          "output_type": "display_data",
          "data": {
            "text/plain": [
              "<IPython.core.display.HTML object>"
            ],
            "text/html": [
              " View project at <a href='https://wandb.ai/shahi77-national-institute-of-technology-hamirpur/Dropout04' target=\"_blank\">https://wandb.ai/shahi77-national-institute-of-technology-hamirpur/Dropout04</a>"
            ]
          },
          "metadata": {}
        },
        {
          "output_type": "display_data",
          "data": {
            "text/plain": [
              "<IPython.core.display.HTML object>"
            ],
            "text/html": [
              " View sweep at <a href='https://wandb.ai/shahi77-national-institute-of-technology-hamirpur/Dropout04/sweeps/qf1328ih' target=\"_blank\">https://wandb.ai/shahi77-national-institute-of-technology-hamirpur/Dropout04/sweeps/qf1328ih</a>"
            ]
          },
          "metadata": {}
        },
        {
          "output_type": "display_data",
          "data": {
            "text/plain": [
              "<IPython.core.display.HTML object>"
            ],
            "text/html": [
              " View run at <a href='https://wandb.ai/shahi77-national-institute-of-technology-hamirpur/Dropout04/runs/ydkq8k6m' target=\"_blank\">https://wandb.ai/shahi77-national-institute-of-technology-hamirpur/Dropout04/runs/ydkq8k6m</a>"
            ]
          },
          "metadata": {}
        },
        {
          "output_type": "stream",
          "name": "stdout",
          "text": [
            "Files already downloaded and verified\n"
          ]
        },
        {
          "output_type": "stream",
          "name": "stderr",
          "text": [
            "Traceback (most recent call last):\n",
            "  File \"<ipython-input-7-dd308e14cb39>\", line 319, in run_experiment\n",
            "    train(model, train_loader, optimizer, criterion, config.epochs)\n",
            "  File \"<ipython-input-7-dd308e14cb39>\", line 248, in train\n",
            "    outputs = model(inputs)\n",
            "              ^^^^^^^^^^^^^\n",
            "  File \"/usr/local/lib/python3.11/dist-packages/torch/nn/modules/module.py\", line 1736, in _wrapped_call_impl\n",
            "    return self._call_impl(*args, **kwargs)\n",
            "           ^^^^^^^^^^^^^^^^^^^^^^^^^^^^^^^^\n",
            "  File \"/usr/local/lib/python3.11/dist-packages/torch/nn/modules/module.py\", line 1747, in _call_impl\n",
            "    return forward_call(*args, **kwargs)\n",
            "           ^^^^^^^^^^^^^^^^^^^^^^^^^^^^^\n",
            "  File \"<ipython-input-7-dd308e14cb39>\", line 59, in forward\n",
            "    return self.network(x)\n",
            "           ^^^^^^^^^^^^^^^\n",
            "  File \"/usr/local/lib/python3.11/dist-packages/torch/nn/modules/module.py\", line 1736, in _wrapped_call_impl\n",
            "    return self._call_impl(*args, **kwargs)\n",
            "           ^^^^^^^^^^^^^^^^^^^^^^^^^^^^^^^^\n",
            "  File \"/usr/local/lib/python3.11/dist-packages/torch/nn/modules/module.py\", line 1747, in _call_impl\n",
            "    return forward_call(*args, **kwargs)\n",
            "           ^^^^^^^^^^^^^^^^^^^^^^^^^^^^^\n",
            "  File \"/usr/local/lib/python3.11/dist-packages/torch/nn/modules/container.py\", line 250, in forward\n",
            "    input = module(input)\n",
            "            ^^^^^^^^^^^^^\n",
            "  File \"/usr/local/lib/python3.11/dist-packages/torch/nn/modules/module.py\", line 1736, in _wrapped_call_impl\n",
            "    return self._call_impl(*args, **kwargs)\n",
            "           ^^^^^^^^^^^^^^^^^^^^^^^^^^^^^^^^\n",
            "  File \"/usr/local/lib/python3.11/dist-packages/torch/nn/modules/module.py\", line 1747, in _call_impl\n",
            "    return forward_call(*args, **kwargs)\n",
            "           ^^^^^^^^^^^^^^^^^^^^^^^^^^^^^\n",
            "  File \"/usr/local/lib/python3.11/dist-packages/torch/nn/modules/linear.py\", line 125, in forward\n",
            "    return F.linear(input, self.weight, self.bias)\n",
            "           ^^^^^^^^^^^^^^^^^^^^^^^^^^^^^^^^^^^^^^^\n",
            "RuntimeError: mat1 and mat2 shapes cannot be multiplied (64x3072 and 784x1024)\n"
          ]
        },
        {
          "output_type": "display_data",
          "data": {
            "text/plain": [
              "<IPython.core.display.HTML object>"
            ],
            "text/html": []
          },
          "metadata": {}
        },
        {
          "output_type": "display_data",
          "data": {
            "text/plain": [
              "<IPython.core.display.HTML object>"
            ],
            "text/html": [
              " View run <strong style=\"color:#cdcd00\">m_create_dropout_network_relu_dr_maxdropout_p_0.3lr_0.01_m_0.9</strong> at: <a href='https://wandb.ai/shahi77-national-institute-of-technology-hamirpur/Dropout04/runs/ydkq8k6m' target=\"_blank\">https://wandb.ai/shahi77-national-institute-of-technology-hamirpur/Dropout04/runs/ydkq8k6m</a><br> View project at: <a href='https://wandb.ai/shahi77-national-institute-of-technology-hamirpur/Dropout04' target=\"_blank\">https://wandb.ai/shahi77-national-institute-of-technology-hamirpur/Dropout04</a><br>Synced 5 W&B file(s), 0 media file(s), 0 artifact file(s) and 0 other file(s)"
            ]
          },
          "metadata": {}
        },
        {
          "output_type": "display_data",
          "data": {
            "text/plain": [
              "<IPython.core.display.HTML object>"
            ],
            "text/html": [
              "Find logs at: <code>./wandb/run-20250217_142038-ydkq8k6m/logs</code>"
            ]
          },
          "metadata": {}
        },
        {
          "output_type": "stream",
          "name": "stderr",
          "text": [
            "Run ydkq8k6m errored:\n",
            "Traceback (most recent call last):\n",
            "  File \"/usr/local/lib/python3.11/dist-packages/wandb/agents/pyagent.py\", line 306, in _run_job\n",
            "    self._function()\n",
            "  File \"<ipython-input-7-dd308e14cb39>\", line 319, in run_experiment\n",
            "    train(model, train_loader, optimizer, criterion, config.epochs)\n",
            "  File \"<ipython-input-7-dd308e14cb39>\", line 248, in train\n",
            "    outputs = model(inputs)\n",
            "              ^^^^^^^^^^^^^\n",
            "  File \"/usr/local/lib/python3.11/dist-packages/torch/nn/modules/module.py\", line 1736, in _wrapped_call_impl\n",
            "    return self._call_impl(*args, **kwargs)\n",
            "           ^^^^^^^^^^^^^^^^^^^^^^^^^^^^^^^^\n",
            "  File \"/usr/local/lib/python3.11/dist-packages/torch/nn/modules/module.py\", line 1747, in _call_impl\n",
            "    return forward_call(*args, **kwargs)\n",
            "           ^^^^^^^^^^^^^^^^^^^^^^^^^^^^^\n",
            "  File \"<ipython-input-7-dd308e14cb39>\", line 59, in forward\n",
            "    return self.network(x)\n",
            "           ^^^^^^^^^^^^^^^\n",
            "  File \"/usr/local/lib/python3.11/dist-packages/torch/nn/modules/module.py\", line 1736, in _wrapped_call_impl\n",
            "    return self._call_impl(*args, **kwargs)\n",
            "           ^^^^^^^^^^^^^^^^^^^^^^^^^^^^^^^^\n",
            "  File \"/usr/local/lib/python3.11/dist-packages/torch/nn/modules/module.py\", line 1747, in _call_impl\n",
            "    return forward_call(*args, **kwargs)\n",
            "           ^^^^^^^^^^^^^^^^^^^^^^^^^^^^^\n",
            "  File \"/usr/local/lib/python3.11/dist-packages/torch/nn/modules/container.py\", line 250, in forward\n",
            "    input = module(input)\n",
            "            ^^^^^^^^^^^^^\n",
            "  File \"/usr/local/lib/python3.11/dist-packages/torch/nn/modules/module.py\", line 1736, in _wrapped_call_impl\n",
            "    return self._call_impl(*args, **kwargs)\n",
            "           ^^^^^^^^^^^^^^^^^^^^^^^^^^^^^^^^\n",
            "  File \"/usr/local/lib/python3.11/dist-packages/torch/nn/modules/module.py\", line 1747, in _call_impl\n",
            "    return forward_call(*args, **kwargs)\n",
            "           ^^^^^^^^^^^^^^^^^^^^^^^^^^^^^\n",
            "  File \"/usr/local/lib/python3.11/dist-packages/torch/nn/modules/linear.py\", line 125, in forward\n",
            "    return F.linear(input, self.weight, self.bias)\n",
            "           ^^^^^^^^^^^^^^^^^^^^^^^^^^^^^^^^^^^^^^^\n",
            "RuntimeError: mat1 and mat2 shapes cannot be multiplied (64x3072 and 784x1024)\n",
            "\n",
            "\u001b[34m\u001b[1mwandb\u001b[0m: \u001b[32m\u001b[41mERROR\u001b[0m Run ydkq8k6m errored:\n",
            "\u001b[34m\u001b[1mwandb\u001b[0m: \u001b[32m\u001b[41mERROR\u001b[0m Traceback (most recent call last):\n",
            "\u001b[34m\u001b[1mwandb\u001b[0m: \u001b[32m\u001b[41mERROR\u001b[0m   File \"/usr/local/lib/python3.11/dist-packages/wandb/agents/pyagent.py\", line 306, in _run_job\n",
            "\u001b[34m\u001b[1mwandb\u001b[0m: \u001b[32m\u001b[41mERROR\u001b[0m     self._function()\n",
            "\u001b[34m\u001b[1mwandb\u001b[0m: \u001b[32m\u001b[41mERROR\u001b[0m   File \"<ipython-input-7-dd308e14cb39>\", line 319, in run_experiment\n",
            "\u001b[34m\u001b[1mwandb\u001b[0m: \u001b[32m\u001b[41mERROR\u001b[0m     train(model, train_loader, optimizer, criterion, config.epochs)\n",
            "\u001b[34m\u001b[1mwandb\u001b[0m: \u001b[32m\u001b[41mERROR\u001b[0m   File \"<ipython-input-7-dd308e14cb39>\", line 248, in train\n",
            "\u001b[34m\u001b[1mwandb\u001b[0m: \u001b[32m\u001b[41mERROR\u001b[0m     outputs = model(inputs)\n",
            "\u001b[34m\u001b[1mwandb\u001b[0m: \u001b[32m\u001b[41mERROR\u001b[0m               ^^^^^^^^^^^^^\n",
            "\u001b[34m\u001b[1mwandb\u001b[0m: \u001b[32m\u001b[41mERROR\u001b[0m   File \"/usr/local/lib/python3.11/dist-packages/torch/nn/modules/module.py\", line 1736, in _wrapped_call_impl\n",
            "\u001b[34m\u001b[1mwandb\u001b[0m: \u001b[32m\u001b[41mERROR\u001b[0m     return self._call_impl(*args, **kwargs)\n",
            "\u001b[34m\u001b[1mwandb\u001b[0m: \u001b[32m\u001b[41mERROR\u001b[0m            ^^^^^^^^^^^^^^^^^^^^^^^^^^^^^^^^\n",
            "\u001b[34m\u001b[1mwandb\u001b[0m: \u001b[32m\u001b[41mERROR\u001b[0m   File \"/usr/local/lib/python3.11/dist-packages/torch/nn/modules/module.py\", line 1747, in _call_impl\n",
            "\u001b[34m\u001b[1mwandb\u001b[0m: \u001b[32m\u001b[41mERROR\u001b[0m     return forward_call(*args, **kwargs)\n",
            "\u001b[34m\u001b[1mwandb\u001b[0m: \u001b[32m\u001b[41mERROR\u001b[0m            ^^^^^^^^^^^^^^^^^^^^^^^^^^^^^\n",
            "\u001b[34m\u001b[1mwandb\u001b[0m: \u001b[32m\u001b[41mERROR\u001b[0m   File \"<ipython-input-7-dd308e14cb39>\", line 59, in forward\n",
            "\u001b[34m\u001b[1mwandb\u001b[0m: \u001b[32m\u001b[41mERROR\u001b[0m     return self.network(x)\n",
            "\u001b[34m\u001b[1mwandb\u001b[0m: \u001b[32m\u001b[41mERROR\u001b[0m            ^^^^^^^^^^^^^^^\n",
            "\u001b[34m\u001b[1mwandb\u001b[0m: \u001b[32m\u001b[41mERROR\u001b[0m   File \"/usr/local/lib/python3.11/dist-packages/torch/nn/modules/module.py\", line 1736, in _wrapped_call_impl\n",
            "\u001b[34m\u001b[1mwandb\u001b[0m: \u001b[32m\u001b[41mERROR\u001b[0m     return self._call_impl(*args, **kwargs)\n",
            "\u001b[34m\u001b[1mwandb\u001b[0m: \u001b[32m\u001b[41mERROR\u001b[0m            ^^^^^^^^^^^^^^^^^^^^^^^^^^^^^^^^\n",
            "\u001b[34m\u001b[1mwandb\u001b[0m: \u001b[32m\u001b[41mERROR\u001b[0m   File \"/usr/local/lib/python3.11/dist-packages/torch/nn/modules/module.py\", line 1747, in _call_impl\n",
            "\u001b[34m\u001b[1mwandb\u001b[0m: \u001b[32m\u001b[41mERROR\u001b[0m     return forward_call(*args, **kwargs)\n",
            "\u001b[34m\u001b[1mwandb\u001b[0m: \u001b[32m\u001b[41mERROR\u001b[0m            ^^^^^^^^^^^^^^^^^^^^^^^^^^^^^\n",
            "\u001b[34m\u001b[1mwandb\u001b[0m: \u001b[32m\u001b[41mERROR\u001b[0m   File \"/usr/local/lib/python3.11/dist-packages/torch/nn/modules/container.py\", line 250, in forward\n",
            "\u001b[34m\u001b[1mwandb\u001b[0m: \u001b[32m\u001b[41mERROR\u001b[0m     input = module(input)\n",
            "\u001b[34m\u001b[1mwandb\u001b[0m: \u001b[32m\u001b[41mERROR\u001b[0m             ^^^^^^^^^^^^^\n",
            "\u001b[34m\u001b[1mwandb\u001b[0m: \u001b[32m\u001b[41mERROR\u001b[0m   File \"/usr/local/lib/python3.11/dist-packages/torch/nn/modules/module.py\", line 1736, in _wrapped_call_impl\n",
            "\u001b[34m\u001b[1mwandb\u001b[0m: \u001b[32m\u001b[41mERROR\u001b[0m     return self._call_impl(*args, **kwargs)\n",
            "\u001b[34m\u001b[1mwandb\u001b[0m: \u001b[32m\u001b[41mERROR\u001b[0m            ^^^^^^^^^^^^^^^^^^^^^^^^^^^^^^^^\n",
            "\u001b[34m\u001b[1mwandb\u001b[0m: \u001b[32m\u001b[41mERROR\u001b[0m   File \"/usr/local/lib/python3.11/dist-packages/torch/nn/modules/module.py\", line 1747, in _call_impl\n",
            "\u001b[34m\u001b[1mwandb\u001b[0m: \u001b[32m\u001b[41mERROR\u001b[0m     return forward_call(*args, **kwargs)\n",
            "\u001b[34m\u001b[1mwandb\u001b[0m: \u001b[32m\u001b[41mERROR\u001b[0m            ^^^^^^^^^^^^^^^^^^^^^^^^^^^^^\n",
            "\u001b[34m\u001b[1mwandb\u001b[0m: \u001b[32m\u001b[41mERROR\u001b[0m   File \"/usr/local/lib/python3.11/dist-packages/torch/nn/modules/linear.py\", line 125, in forward\n",
            "\u001b[34m\u001b[1mwandb\u001b[0m: \u001b[32m\u001b[41mERROR\u001b[0m     return F.linear(input, self.weight, self.bias)\n",
            "\u001b[34m\u001b[1mwandb\u001b[0m: \u001b[32m\u001b[41mERROR\u001b[0m            ^^^^^^^^^^^^^^^^^^^^^^^^^^^^^^^^^^^^^^^\n",
            "\u001b[34m\u001b[1mwandb\u001b[0m: \u001b[32m\u001b[41mERROR\u001b[0m RuntimeError: mat1 and mat2 shapes cannot be multiplied (64x3072 and 784x1024)\n",
            "\u001b[34m\u001b[1mwandb\u001b[0m: \u001b[32m\u001b[41mERROR\u001b[0m \n",
            "Detected 5 failed runs in a row at start, killing sweep.\n",
            "\u001b[34m\u001b[1mwandb\u001b[0m: \u001b[32m\u001b[41mERROR\u001b[0m Detected 5 failed runs in a row at start, killing sweep.\n",
            "\u001b[34m\u001b[1mwandb\u001b[0m: To change this value set WANDB_AGENT_MAX_INITIAL_FAILURES=val\n"
          ]
        }
      ]
    }
  ]
}