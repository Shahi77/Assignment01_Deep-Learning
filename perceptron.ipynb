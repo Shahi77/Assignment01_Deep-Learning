{
  "cells": [
    {
      "cell_type": "markdown",
      "metadata": {
        "id": "view-in-github",
        "colab_type": "text"
      },
      "source": [
        "<a href=\"https://colab.research.google.com/github/Shahi77/Assignment01_Deep-Learning/blob/main/perceptron.ipynb\" target=\"_parent\"><img src=\"https://colab.research.google.com/assets/colab-badge.svg\" alt=\"Open In Colab\"/></a>"
      ]
    },
    {
      "cell_type": "markdown",
      "source": [
        "21DCS025\n",
        "\n",
        "Shahi\n",
        "\n",
        "Assignment- 01   (CS-661)"
      ],
      "metadata": {
        "id": "_1fYiHJ32H1J"
      }
    },
    {
      "cell_type": "code",
      "execution_count": null,
      "metadata": {
        "colab": {
          "base_uri": "https://localhost:8080/"
        },
        "id": "QTHY2deKFb6m",
        "outputId": "14f2d78b-04e3-4169-a28f-7af4cd7ef685"
      },
      "outputs": [
        {
          "name": "stdout",
          "output_type": "stream",
          "text": [
            "Training on AND dataset:\n",
            "Predictions: [0 0 0 1]\n",
            "Actual Labels: [0 0 0 1]\n",
            "\n",
            "Training on OR dataset:\n",
            "Predictions: [0 1 1 1]\n",
            "Actual Labels: [0 1 1 1]\n",
            "\n",
            "Training on XOR dataset:\n",
            "Predictions: [1 1 0 0]\n",
            "Actual Labels: [0 1 1 0]\n"
          ]
        }
      ],
      "source": [
        "# Design a single unit perceptron for classification of a linearly separable binary dataset without using pre-defined models.\n",
        "\n",
        "import numpy as np\n",
        "\n",
        "class Perceptron:\n",
        "    def __init__(self, learning_rate=0.1, max_epochs=100):\n",
        "        self.learning_rate = learning_rate\n",
        "        self.max_epochs = max_epochs\n",
        "        self.weights = None\n",
        "        self.bias = None\n",
        "\n",
        "    def step_function(self, x):\n",
        "        return 1 if x >= 0 else 0\n",
        "\n",
        "    def fit(self, X, y):\n",
        "        # Initialize weights and bias\n",
        "        self.weights = np.zeros(X.shape[1])\n",
        "        self.bias = 0\n",
        "\n",
        "        for epoch in range(self.max_epochs):\n",
        "            for i in range(len(X)):\n",
        "                linear_output = np.dot(X[i], self.weights) + self.bias\n",
        "                y_pred = self.step_function(linear_output)\n",
        "                error = y[i] - y_pred\n",
        "                self.weights += self.learning_rate * error * X[i]\n",
        "                self.bias += self.learning_rate * error\n",
        "\n",
        "    def predict(self, X):\n",
        "        linear_output = np.dot(X, self.weights) + self.bias\n",
        "        return np.array([self.step_function(x) for x in linear_output])\n",
        "\n",
        "\n",
        "AND_data = np.array([[0, 0], [0, 1], [1, 0], [1, 1]])\n",
        "AND_labels = np.array([0, 0, 0, 1])\n",
        "\n",
        "OR_data = np.array([[0, 0], [0, 1], [1, 0], [1, 1]])\n",
        "OR_labels = np.array([0, 1, 1, 1])\n",
        "\n",
        "XOR_data = np.array([[0, 0], [0, 1], [1, 0], [1, 1]])\n",
        "XOR_labels = np.array([0, 1, 1, 0])\n",
        "\n",
        "# Train perceptron on AND dataset\n",
        "perceptron = Perceptron(learning_rate=0.1, max_epochs=10)\n",
        "print(\"Training on AND dataset:\")\n",
        "perceptron.fit(AND_data, AND_labels)\n",
        "AND_predictions = perceptron.predict(AND_data)\n",
        "print(\"Predictions:\", AND_predictions)\n",
        "print(\"Actual Labels:\", AND_labels)\n",
        "\n",
        "# Train perceptron on OR dataset\n",
        "print(\"\\nTraining on OR dataset:\")\n",
        "perceptron.fit(OR_data, OR_labels)\n",
        "OR_predictions = perceptron.predict(OR_data)\n",
        "print(\"Predictions:\", OR_predictions)\n",
        "print(\"Actual Labels:\", OR_labels)\n",
        "\n",
        "# Train perceptron on XOR dataset\n",
        "print(\"\\nTraining on XOR dataset:\")\n",
        "perceptron.fit(XOR_data, XOR_labels)\n",
        "XOR_predictions = perceptron.predict(XOR_data)\n",
        "print(\"Predictions:\", XOR_predictions)\n",
        "print(\"Actual Labels:\", XOR_labels)\n"
      ]
    },
    {
      "cell_type": "markdown",
      "metadata": {
        "id": "wVl1D0dKGM9f"
      },
      "source": [
        "AND Dataset: The perceptron correctly classifies all points.(linearly separable)\n",
        "\n",
        "OR Dataset: The perceptron correctly classifies all points.(linearly separable)\n",
        "\n",
        "XOR Dataset:The perceptron fails to classify the XOR dataset correctly.(not linearly separable)\n"
      ]
    },
    {
      "cell_type": "code",
      "execution_count": null,
      "metadata": {
        "colab": {
          "base_uri": "https://localhost:8080/"
        },
        "id": "KRQ2t6iZGAyt",
        "outputId": "a1580477-8579-473a-c0d4-e9073394eadc"
      },
      "outputs": [
        {
          "name": "stdout",
          "output_type": "stream",
          "text": [
            "\n",
            "Training on AND dataset using sklearn Perceptron:\n",
            "Predictions: [0 0 0 1]\n",
            "Actual Labels: [0 0 0 1]\n",
            "\n",
            "Training on OR dataset using sklearn Perceptron:\n",
            "Predictions: [0 1 1 1]\n",
            "Actual Labels: [0 1 1 1]\n",
            "\n",
            "Training on XOR dataset using sklearn Perceptron:\n",
            "Predictions: [0 0 0 0]\n",
            "Actual Labels: [0 1 1 0]\n"
          ]
        },
        {
          "data": {
            "text/plain": [
              "array([0, 0, 0, 0])"
            ]
          },
          "execution_count": 2,
          "metadata": {},
          "output_type": "execute_result"
        }
      ],
      "source": [
        "# Use the Perceptron from sklearn.\n",
        "\n",
        "from sklearn.linear_model import Perceptron\n",
        "\n",
        "# Function to train and evaluate the sklearn Perceptron\n",
        "def train_and_evaluate(data, labels, label):\n",
        "    clf = Perceptron(tol=1e-3, random_state=0)\n",
        "    clf.fit(data, labels)\n",
        "    predictions = clf.predict(data)\n",
        "    print(f\"\\nTraining on {label} dataset using sklearn Perceptron:\")\n",
        "    print(\"Predictions:\", predictions)\n",
        "    print(\"Actual Labels:\", labels)\n",
        "    return predictions\n",
        "\n",
        "# Training and evaluating on AND, OR, XOR datasets\n",
        "train_and_evaluate(AND_data, AND_labels, \"AND\")\n",
        "train_and_evaluate(OR_data, OR_labels, \"OR\")\n",
        "train_and_evaluate(XOR_data, XOR_labels, \"XOR\")"
      ]
    },
    {
      "cell_type": "markdown",
      "metadata": {
        "id": "nfNFlcN0HEgg"
      },
      "source": [
        "The perceptron correctly classifies the dataset because AND and OR is a linearly separable problem.\n",
        "The perceptron fails for the XOR dataset, producing [0 0 0 0]. This result confirms that the single-layer perceptron cannot handle non-linear problems like XOR.\n",
        "\n",
        "The problem with a single-unit perceptron lies in its inability to handle non-linearly separable problems, such as the XOR dataset .A single-unit perceptron can only solve problems where the data points can be separated by a single straight line (linear decision boundary).\n",
        "For datasets like AND and OR (which are linearly separable), the perceptron works well.\n",
        "For non-linearly separable datasets like XOR, the perceptron fails because a single straight line cannot separate the classes."
      ]
    },
    {
      "cell_type": "code",
      "source": [],
      "metadata": {
        "id": "mCH_V8Fv3BYb"
      },
      "execution_count": null,
      "outputs": []
    }
  ],
  "metadata": {
    "colab": {
      "provenance": [],
      "authorship_tag": "ABX9TyPY1CXZwHhIgOM38x3w9nBF",
      "include_colab_link": true
    },
    "kernelspec": {
      "display_name": "Python 3",
      "name": "python3"
    },
    "language_info": {
      "name": "python"
    }
  },
  "nbformat": 4,
  "nbformat_minor": 0
}